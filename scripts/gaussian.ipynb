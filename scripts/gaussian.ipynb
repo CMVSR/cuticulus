{
 "cells": [
  {
   "cell_type": "code",
   "execution_count": 1,
   "metadata": {},
   "outputs": [
    {
     "data": {
      "text/html": [
       "<pre style=\"white-space:pre;overflow-x:auto;line-height:normal;font-family:Menlo,'DejaVu Sans Mono',consolas,'Courier New',monospace\"><span style=\"color: #7fbfbf; text-decoration-color: #7fbfbf\">[14:34:10] </span>LOG LEVEL: <span style=\"color: #008000; text-decoration-color: #008000\">\"INFO\"</span>                                                    <a href=\"file:///home/noah/projects/cuticulus/cuticulus/console.py\"><span style=\"color: #7f7f7f; text-decoration-color: #7f7f7f\">console.py</span></a><span style=\"color: #7f7f7f; text-decoration-color: #7f7f7f\">:</span><a href=\"file:///home/noah/projects/cuticulus/cuticulus/console.py#21\"><span style=\"color: #7f7f7f; text-decoration-color: #7f7f7f\">21</span></a>\n",
       "</pre>\n"
      ],
      "text/plain": [
       "\u001b[2;36m[14:34:10]\u001b[0m\u001b[2;36m \u001b[0mLOG LEVEL: \u001b[32m\"INFO\"\u001b[0m                                                    \u001b]8;id=281338;file:///home/noah/projects/cuticulus/cuticulus/console.py\u001b\\\u001b[2mconsole.py\u001b[0m\u001b]8;;\u001b\\\u001b[2m:\u001b[0m\u001b]8;id=501875;file:///home/noah/projects/cuticulus/cuticulus/console.py#21\u001b\\\u001b[2m21\u001b[0m\u001b]8;;\u001b\\\n"
      ]
     },
     "metadata": {},
     "output_type": "display_data"
    }
   ],
   "source": [
    "import cv2\n",
    "from matplotlib import pyplot as plt\n",
    "from PIL import Image, ImageFilter\n",
    "\n",
    "from cuticulus.datasets import RoughSmoothFull\n"
   ]
  },
  {
   "cell_type": "code",
   "execution_count": 2,
   "metadata": {},
   "outputs": [
    {
     "data": {
      "text/html": [
       "<pre style=\"white-space:pre;overflow-x:auto;line-height:normal;font-family:Menlo,'DejaVu Sans Mono',consolas,'Courier New',monospace\"><span style=\"color: #7fbfbf; text-decoration-color: #7fbfbf\">[14:34:12] </span>Building labels.                                                     <a href=\"file:///home/noah/projects/cuticulus/cuticulus/core/datasets/builder.py\"><span style=\"color: #7f7f7f; text-decoration-color: #7f7f7f\">builder.py</span></a><span style=\"color: #7f7f7f; text-decoration-color: #7f7f7f\">:</span><a href=\"file:///home/noah/projects/cuticulus/cuticulus/core/datasets/builder.py#81\"><span style=\"color: #7f7f7f; text-decoration-color: #7f7f7f\">81</span></a>\n",
       "</pre>\n"
      ],
      "text/plain": [
       "\u001b[2;36m[14:34:12]\u001b[0m\u001b[2;36m \u001b[0mBuilding labels.                                                     \u001b]8;id=670490;file:///home/noah/projects/cuticulus/cuticulus/core/datasets/builder.py\u001b\\\u001b[2mbuilder.py\u001b[0m\u001b]8;;\u001b\\\u001b[2m:\u001b[0m\u001b]8;id=749322;file:///home/noah/projects/cuticulus/cuticulus/core/datasets/builder.py#81\u001b\\\u001b[2m81\u001b[0m\u001b]8;;\u001b\\\n"
      ]
     },
     "metadata": {},
     "output_type": "display_data"
    },
    {
     "data": {
      "text/html": [
       "<pre style=\"white-space:pre;overflow-x:auto;line-height:normal;font-family:Menlo,'DejaVu Sans Mono',consolas,'Courier New',monospace\"><span style=\"color: #7fbfbf; text-decoration-color: #7fbfbf\">[14:34:14] </span>Built labels.                                                        <a href=\"file:///home/noah/projects/cuticulus/cuticulus/core/datasets/builder.py\"><span style=\"color: #7f7f7f; text-decoration-color: #7f7f7f\">builder.py</span></a><span style=\"color: #7f7f7f; text-decoration-color: #7f7f7f\">:</span><a href=\"file:///home/noah/projects/cuticulus/cuticulus/core/datasets/builder.py#83\"><span style=\"color: #7f7f7f; text-decoration-color: #7f7f7f\">83</span></a>\n",
       "</pre>\n"
      ],
      "text/plain": [
       "\u001b[2;36m[14:34:14]\u001b[0m\u001b[2;36m \u001b[0mBuilt labels.                                                        \u001b]8;id=868198;file:///home/noah/projects/cuticulus/cuticulus/core/datasets/builder.py\u001b\\\u001b[2mbuilder.py\u001b[0m\u001b]8;;\u001b\\\u001b[2m:\u001b[0m\u001b]8;id=878491;file:///home/noah/projects/cuticulus/cuticulus/core/datasets/builder.py#83\u001b\\\u001b[2m83\u001b[0m\u001b]8;;\u001b\\\n"
      ]
     },
     "metadata": {},
     "output_type": "display_data"
    },
    {
     "data": {
      "text/html": [
       "<pre style=\"white-space:pre;overflow-x:auto;line-height:normal;font-family:Menlo,'DejaVu Sans Mono',consolas,'Courier New',monospace\"><span style=\"color: #7fbfbf; text-decoration-color: #7fbfbf\">           </span>Building dataset.                                                    <a href=\"file:///home/noah/projects/cuticulus/cuticulus/core/datasets/builder.py\"><span style=\"color: #7f7f7f; text-decoration-color: #7f7f7f\">builder.py</span></a><span style=\"color: #7f7f7f; text-decoration-color: #7f7f7f\">:</span><a href=\"file:///home/noah/projects/cuticulus/cuticulus/core/datasets/builder.py#99\"><span style=\"color: #7f7f7f; text-decoration-color: #7f7f7f\">99</span></a>\n",
       "</pre>\n"
      ],
      "text/plain": [
       "\u001b[2;36m          \u001b[0m\u001b[2;36m \u001b[0mBuilding dataset.                                                    \u001b]8;id=218397;file:///home/noah/projects/cuticulus/cuticulus/core/datasets/builder.py\u001b\\\u001b[2mbuilder.py\u001b[0m\u001b]8;;\u001b\\\u001b[2m:\u001b[0m\u001b]8;id=40287;file:///home/noah/projects/cuticulus/cuticulus/core/datasets/builder.py#99\u001b\\\u001b[2m99\u001b[0m\u001b]8;;\u001b\\\n"
      ]
     },
     "metadata": {},
     "output_type": "display_data"
    },
    {
     "data": {
      "text/html": [
       "<pre style=\"white-space:pre;overflow-x:auto;line-height:normal;font-family:Menlo,'DejaVu Sans Mono',consolas,'Courier New',monospace\"><span style=\"color: #7fbfbf; text-decoration-color: #7fbfbf\">[14:34:20] </span><span style=\"color: #000080; text-decoration-color: #000080\">INFO    </span> Image <span style=\"color: #008080; text-decoration-color: #008080; font-weight: bold\">268</span> is NA or not considered in this version.             <a href=\"file:///home/noah/projects/cuticulus/cuticulus/core/datasets/full.py\"><span style=\"color: #7f7f7f; text-decoration-color: #7f7f7f\">full.py</span></a><span style=\"color: #7f7f7f; text-decoration-color: #7f7f7f\">:</span><a href=\"file:///home/noah/projects/cuticulus/cuticulus/core/datasets/full.py#85\"><span style=\"color: #7f7f7f; text-decoration-color: #7f7f7f\">85</span></a>\n",
       "</pre>\n"
      ],
      "text/plain": [
       "\u001b[2;36m[14:34:20]\u001b[0m\u001b[2;36m \u001b[0m\u001b[34mINFO    \u001b[0m Image \u001b[1;36m268\u001b[0m is NA or not considered in this version.             \u001b]8;id=980191;file:///home/noah/projects/cuticulus/cuticulus/core/datasets/full.py\u001b\\\u001b[2mfull.py\u001b[0m\u001b]8;;\u001b\\\u001b[2m:\u001b[0m\u001b]8;id=53823;file:///home/noah/projects/cuticulus/cuticulus/core/datasets/full.py#85\u001b\\\u001b[2m85\u001b[0m\u001b]8;;\u001b\\\n"
      ]
     },
     "metadata": {},
     "output_type": "display_data"
    },
    {
     "data": {
      "text/html": [
       "<pre style=\"white-space:pre;overflow-x:auto;line-height:normal;font-family:Menlo,'DejaVu Sans Mono',consolas,'Courier New',monospace\"><span style=\"color: #7fbfbf; text-decoration-color: #7fbfbf\">[14:34:21] </span><span style=\"color: #000080; text-decoration-color: #000080\">INFO    </span> Image <span style=\"color: #008080; text-decoration-color: #008080; font-weight: bold\">619</span> is NA or not considered in this version.             <a href=\"file:///home/noah/projects/cuticulus/cuticulus/core/datasets/full.py\"><span style=\"color: #7f7f7f; text-decoration-color: #7f7f7f\">full.py</span></a><span style=\"color: #7f7f7f; text-decoration-color: #7f7f7f\">:</span><a href=\"file:///home/noah/projects/cuticulus/cuticulus/core/datasets/full.py#85\"><span style=\"color: #7f7f7f; text-decoration-color: #7f7f7f\">85</span></a>\n",
       "</pre>\n"
      ],
      "text/plain": [
       "\u001b[2;36m[14:34:21]\u001b[0m\u001b[2;36m \u001b[0m\u001b[34mINFO    \u001b[0m Image \u001b[1;36m619\u001b[0m is NA or not considered in this version.             \u001b]8;id=758294;file:///home/noah/projects/cuticulus/cuticulus/core/datasets/full.py\u001b\\\u001b[2mfull.py\u001b[0m\u001b]8;;\u001b\\\u001b[2m:\u001b[0m\u001b]8;id=695257;file:///home/noah/projects/cuticulus/cuticulus/core/datasets/full.py#85\u001b\\\u001b[2m85\u001b[0m\u001b]8;;\u001b\\\n"
      ]
     },
     "metadata": {},
     "output_type": "display_data"
    },
    {
     "data": {
      "text/html": [
       "<pre style=\"white-space:pre;overflow-x:auto;line-height:normal;font-family:Menlo,'DejaVu Sans Mono',consolas,'Courier New',monospace\"><span style=\"color: #7fbfbf; text-decoration-color: #7fbfbf\">           </span><span style=\"color: #000080; text-decoration-color: #000080\">INFO    </span> Image <span style=\"color: #008080; text-decoration-color: #008080; font-weight: bold\">630</span> is NA or not considered in this version.             <a href=\"file:///home/noah/projects/cuticulus/cuticulus/core/datasets/full.py\"><span style=\"color: #7f7f7f; text-decoration-color: #7f7f7f\">full.py</span></a><span style=\"color: #7f7f7f; text-decoration-color: #7f7f7f\">:</span><a href=\"file:///home/noah/projects/cuticulus/cuticulus/core/datasets/full.py#85\"><span style=\"color: #7f7f7f; text-decoration-color: #7f7f7f\">85</span></a>\n",
       "</pre>\n"
      ],
      "text/plain": [
       "\u001b[2;36m          \u001b[0m\u001b[2;36m \u001b[0m\u001b[34mINFO    \u001b[0m Image \u001b[1;36m630\u001b[0m is NA or not considered in this version.             \u001b]8;id=586042;file:///home/noah/projects/cuticulus/cuticulus/core/datasets/full.py\u001b\\\u001b[2mfull.py\u001b[0m\u001b]8;;\u001b\\\u001b[2m:\u001b[0m\u001b]8;id=143082;file:///home/noah/projects/cuticulus/cuticulus/core/datasets/full.py#85\u001b\\\u001b[2m85\u001b[0m\u001b]8;;\u001b\\\n"
      ]
     },
     "metadata": {},
     "output_type": "display_data"
    },
    {
     "data": {
      "text/html": [
       "<pre style=\"white-space:pre;overflow-x:auto;line-height:normal;font-family:Menlo,'DejaVu Sans Mono',consolas,'Courier New',monospace\"><span style=\"color: #7fbfbf; text-decoration-color: #7fbfbf\">[14:34:23] </span><span style=\"color: #000080; text-decoration-color: #000080\">INFO    </span> Image <span style=\"color: #008080; text-decoration-color: #008080; font-weight: bold\">53</span> is NA or not considered in this version.              <a href=\"file:///home/noah/projects/cuticulus/cuticulus/core/datasets/full.py\"><span style=\"color: #7f7f7f; text-decoration-color: #7f7f7f\">full.py</span></a><span style=\"color: #7f7f7f; text-decoration-color: #7f7f7f\">:</span><a href=\"file:///home/noah/projects/cuticulus/cuticulus/core/datasets/full.py#85\"><span style=\"color: #7f7f7f; text-decoration-color: #7f7f7f\">85</span></a>\n",
       "</pre>\n"
      ],
      "text/plain": [
       "\u001b[2;36m[14:34:23]\u001b[0m\u001b[2;36m \u001b[0m\u001b[34mINFO    \u001b[0m Image \u001b[1;36m53\u001b[0m is NA or not considered in this version.              \u001b]8;id=332525;file:///home/noah/projects/cuticulus/cuticulus/core/datasets/full.py\u001b\\\u001b[2mfull.py\u001b[0m\u001b]8;;\u001b\\\u001b[2m:\u001b[0m\u001b]8;id=473145;file:///home/noah/projects/cuticulus/cuticulus/core/datasets/full.py#85\u001b\\\u001b[2m85\u001b[0m\u001b]8;;\u001b\\\n"
      ]
     },
     "metadata": {},
     "output_type": "display_data"
    },
    {
     "data": {
      "text/html": [
       "<pre style=\"white-space:pre;overflow-x:auto;line-height:normal;font-family:Menlo,'DejaVu Sans Mono',consolas,'Courier New',monospace\"><span style=\"color: #7fbfbf; text-decoration-color: #7fbfbf\">           </span><span style=\"color: #000080; text-decoration-color: #000080\">INFO    </span> Image <span style=\"color: #008080; text-decoration-color: #008080; font-weight: bold\">706</span> is NA or not considered in this version.             <a href=\"file:///home/noah/projects/cuticulus/cuticulus/core/datasets/full.py\"><span style=\"color: #7f7f7f; text-decoration-color: #7f7f7f\">full.py</span></a><span style=\"color: #7f7f7f; text-decoration-color: #7f7f7f\">:</span><a href=\"file:///home/noah/projects/cuticulus/cuticulus/core/datasets/full.py#85\"><span style=\"color: #7f7f7f; text-decoration-color: #7f7f7f\">85</span></a>\n",
       "</pre>\n"
      ],
      "text/plain": [
       "\u001b[2;36m          \u001b[0m\u001b[2;36m \u001b[0m\u001b[34mINFO    \u001b[0m Image \u001b[1;36m706\u001b[0m is NA or not considered in this version.             \u001b]8;id=423735;file:///home/noah/projects/cuticulus/cuticulus/core/datasets/full.py\u001b\\\u001b[2mfull.py\u001b[0m\u001b]8;;\u001b\\\u001b[2m:\u001b[0m\u001b]8;id=66221;file:///home/noah/projects/cuticulus/cuticulus/core/datasets/full.py#85\u001b\\\u001b[2m85\u001b[0m\u001b]8;;\u001b\\\n"
      ]
     },
     "metadata": {},
     "output_type": "display_data"
    },
    {
     "data": {
      "text/html": [
       "<pre style=\"white-space:pre;overflow-x:auto;line-height:normal;font-family:Menlo,'DejaVu Sans Mono',consolas,'Courier New',monospace\"><span style=\"color: #7fbfbf; text-decoration-color: #7fbfbf\">[14:34:26] </span><span style=\"color: #000080; text-decoration-color: #000080\">INFO    </span> Image <span style=\"color: #008080; text-decoration-color: #008080; font-weight: bold\">19</span> is NA or not considered in this version.              <a href=\"file:///home/noah/projects/cuticulus/cuticulus/core/datasets/full.py\"><span style=\"color: #7f7f7f; text-decoration-color: #7f7f7f\">full.py</span></a><span style=\"color: #7f7f7f; text-decoration-color: #7f7f7f\">:</span><a href=\"file:///home/noah/projects/cuticulus/cuticulus/core/datasets/full.py#85\"><span style=\"color: #7f7f7f; text-decoration-color: #7f7f7f\">85</span></a>\n",
       "</pre>\n"
      ],
      "text/plain": [
       "\u001b[2;36m[14:34:26]\u001b[0m\u001b[2;36m \u001b[0m\u001b[34mINFO    \u001b[0m Image \u001b[1;36m19\u001b[0m is NA or not considered in this version.              \u001b]8;id=567556;file:///home/noah/projects/cuticulus/cuticulus/core/datasets/full.py\u001b\\\u001b[2mfull.py\u001b[0m\u001b]8;;\u001b\\\u001b[2m:\u001b[0m\u001b]8;id=204707;file:///home/noah/projects/cuticulus/cuticulus/core/datasets/full.py#85\u001b\\\u001b[2m85\u001b[0m\u001b]8;;\u001b\\\n"
      ]
     },
     "metadata": {},
     "output_type": "display_data"
    },
    {
     "data": {
      "text/html": [
       "<pre style=\"white-space:pre;overflow-x:auto;line-height:normal;font-family:Menlo,'DejaVu Sans Mono',consolas,'Courier New',monospace\"><span style=\"color: #7fbfbf; text-decoration-color: #7fbfbf\">[14:34:30] </span><span style=\"color: #000080; text-decoration-color: #000080\">INFO    </span> Image <span style=\"color: #008080; text-decoration-color: #008080; font-weight: bold\">69</span> is NA or not considered in this version.              <a href=\"file:///home/noah/projects/cuticulus/cuticulus/core/datasets/full.py\"><span style=\"color: #7f7f7f; text-decoration-color: #7f7f7f\">full.py</span></a><span style=\"color: #7f7f7f; text-decoration-color: #7f7f7f\">:</span><a href=\"file:///home/noah/projects/cuticulus/cuticulus/core/datasets/full.py#85\"><span style=\"color: #7f7f7f; text-decoration-color: #7f7f7f\">85</span></a>\n",
       "</pre>\n"
      ],
      "text/plain": [
       "\u001b[2;36m[14:34:30]\u001b[0m\u001b[2;36m \u001b[0m\u001b[34mINFO    \u001b[0m Image \u001b[1;36m69\u001b[0m is NA or not considered in this version.              \u001b]8;id=12162;file:///home/noah/projects/cuticulus/cuticulus/core/datasets/full.py\u001b\\\u001b[2mfull.py\u001b[0m\u001b]8;;\u001b\\\u001b[2m:\u001b[0m\u001b]8;id=350792;file:///home/noah/projects/cuticulus/cuticulus/core/datasets/full.py#85\u001b\\\u001b[2m85\u001b[0m\u001b]8;;\u001b\\\n"
      ]
     },
     "metadata": {},
     "output_type": "display_data"
    },
    {
     "data": {
      "text/html": [
       "<pre style=\"white-space:pre;overflow-x:auto;line-height:normal;font-family:Menlo,'DejaVu Sans Mono',consolas,'Courier New',monospace\"><span style=\"color: #7fbfbf; text-decoration-color: #7fbfbf\">[14:34:31] </span><span style=\"color: #000080; text-decoration-color: #000080\">INFO    </span> Image <span style=\"color: #008080; text-decoration-color: #008080; font-weight: bold\">536</span> is NA or not considered in this version.             <a href=\"file:///home/noah/projects/cuticulus/cuticulus/core/datasets/full.py\"><span style=\"color: #7f7f7f; text-decoration-color: #7f7f7f\">full.py</span></a><span style=\"color: #7f7f7f; text-decoration-color: #7f7f7f\">:</span><a href=\"file:///home/noah/projects/cuticulus/cuticulus/core/datasets/full.py#85\"><span style=\"color: #7f7f7f; text-decoration-color: #7f7f7f\">85</span></a>\n",
       "</pre>\n"
      ],
      "text/plain": [
       "\u001b[2;36m[14:34:31]\u001b[0m\u001b[2;36m \u001b[0m\u001b[34mINFO    \u001b[0m Image \u001b[1;36m536\u001b[0m is NA or not considered in this version.             \u001b]8;id=926594;file:///home/noah/projects/cuticulus/cuticulus/core/datasets/full.py\u001b\\\u001b[2mfull.py\u001b[0m\u001b]8;;\u001b\\\u001b[2m:\u001b[0m\u001b]8;id=971901;file:///home/noah/projects/cuticulus/cuticulus/core/datasets/full.py#85\u001b\\\u001b[2m85\u001b[0m\u001b]8;;\u001b\\\n"
      ]
     },
     "metadata": {},
     "output_type": "display_data"
    },
    {
     "data": {
      "text/html": [
       "<pre style=\"white-space:pre;overflow-x:auto;line-height:normal;font-family:Menlo,'DejaVu Sans Mono',consolas,'Courier New',monospace\"><span style=\"color: #7fbfbf; text-decoration-color: #7fbfbf\">           </span><span style=\"color: #000080; text-decoration-color: #000080\">INFO    </span> Image <span style=\"color: #008080; text-decoration-color: #008080; font-weight: bold\">711</span> is NA or not considered in this version.             <a href=\"file:///home/noah/projects/cuticulus/cuticulus/core/datasets/full.py\"><span style=\"color: #7f7f7f; text-decoration-color: #7f7f7f\">full.py</span></a><span style=\"color: #7f7f7f; text-decoration-color: #7f7f7f\">:</span><a href=\"file:///home/noah/projects/cuticulus/cuticulus/core/datasets/full.py#85\"><span style=\"color: #7f7f7f; text-decoration-color: #7f7f7f\">85</span></a>\n",
       "</pre>\n"
      ],
      "text/plain": [
       "\u001b[2;36m          \u001b[0m\u001b[2;36m \u001b[0m\u001b[34mINFO    \u001b[0m Image \u001b[1;36m711\u001b[0m is NA or not considered in this version.             \u001b]8;id=982935;file:///home/noah/projects/cuticulus/cuticulus/core/datasets/full.py\u001b\\\u001b[2mfull.py\u001b[0m\u001b]8;;\u001b\\\u001b[2m:\u001b[0m\u001b]8;id=234812;file:///home/noah/projects/cuticulus/cuticulus/core/datasets/full.py#85\u001b\\\u001b[2m85\u001b[0m\u001b]8;;\u001b\\\n"
      ]
     },
     "metadata": {},
     "output_type": "display_data"
    },
    {
     "data": {
      "text/html": [
       "<pre style=\"white-space:pre;overflow-x:auto;line-height:normal;font-family:Menlo,'DejaVu Sans Mono',consolas,'Courier New',monospace\"><span style=\"color: #7fbfbf; text-decoration-color: #7fbfbf\">[14:34:33] </span><span style=\"color: #000080; text-decoration-color: #000080\">INFO    </span> Image <span style=\"color: #008080; text-decoration-color: #008080; font-weight: bold\">14</span> is NA or not considered in this version.              <a href=\"file:///home/noah/projects/cuticulus/cuticulus/core/datasets/full.py\"><span style=\"color: #7f7f7f; text-decoration-color: #7f7f7f\">full.py</span></a><span style=\"color: #7f7f7f; text-decoration-color: #7f7f7f\">:</span><a href=\"file:///home/noah/projects/cuticulus/cuticulus/core/datasets/full.py#85\"><span style=\"color: #7f7f7f; text-decoration-color: #7f7f7f\">85</span></a>\n",
       "</pre>\n"
      ],
      "text/plain": [
       "\u001b[2;36m[14:34:33]\u001b[0m\u001b[2;36m \u001b[0m\u001b[34mINFO    \u001b[0m Image \u001b[1;36m14\u001b[0m is NA or not considered in this version.              \u001b]8;id=332509;file:///home/noah/projects/cuticulus/cuticulus/core/datasets/full.py\u001b\\\u001b[2mfull.py\u001b[0m\u001b]8;;\u001b\\\u001b[2m:\u001b[0m\u001b]8;id=429832;file:///home/noah/projects/cuticulus/cuticulus/core/datasets/full.py#85\u001b\\\u001b[2m85\u001b[0m\u001b]8;;\u001b\\\n"
      ]
     },
     "metadata": {},
     "output_type": "display_data"
    },
    {
     "data": {
      "text/html": [
       "<pre style=\"white-space:pre;overflow-x:auto;line-height:normal;font-family:Menlo,'DejaVu Sans Mono',consolas,'Courier New',monospace\"><span style=\"color: #7fbfbf; text-decoration-color: #7fbfbf\">[14:34:39] </span><span style=\"color: #000080; text-decoration-color: #000080\">INFO    </span> Image <span style=\"color: #008080; text-decoration-color: #008080; font-weight: bold\">256</span> is NA or not considered in this version.             <a href=\"file:///home/noah/projects/cuticulus/cuticulus/core/datasets/full.py\"><span style=\"color: #7f7f7f; text-decoration-color: #7f7f7f\">full.py</span></a><span style=\"color: #7f7f7f; text-decoration-color: #7f7f7f\">:</span><a href=\"file:///home/noah/projects/cuticulus/cuticulus/core/datasets/full.py#85\"><span style=\"color: #7f7f7f; text-decoration-color: #7f7f7f\">85</span></a>\n",
       "</pre>\n"
      ],
      "text/plain": [
       "\u001b[2;36m[14:34:39]\u001b[0m\u001b[2;36m \u001b[0m\u001b[34mINFO    \u001b[0m Image \u001b[1;36m256\u001b[0m is NA or not considered in this version.             \u001b]8;id=670560;file:///home/noah/projects/cuticulus/cuticulus/core/datasets/full.py\u001b\\\u001b[2mfull.py\u001b[0m\u001b]8;;\u001b\\\u001b[2m:\u001b[0m\u001b]8;id=192238;file:///home/noah/projects/cuticulus/cuticulus/core/datasets/full.py#85\u001b\\\u001b[2m85\u001b[0m\u001b]8;;\u001b\\\n"
      ]
     },
     "metadata": {},
     "output_type": "display_data"
    },
    {
     "data": {
      "text/html": [
       "<pre style=\"white-space:pre;overflow-x:auto;line-height:normal;font-family:Menlo,'DejaVu Sans Mono',consolas,'Courier New',monospace\"><span style=\"color: #7fbfbf; text-decoration-color: #7fbfbf\">[14:34:40] </span><span style=\"color: #000080; text-decoration-color: #000080\">INFO    </span> Image <span style=\"color: #008080; text-decoration-color: #008080; font-weight: bold\">58</span> is NA or not considered in this version.              <a href=\"file:///home/noah/projects/cuticulus/cuticulus/core/datasets/full.py\"><span style=\"color: #7f7f7f; text-decoration-color: #7f7f7f\">full.py</span></a><span style=\"color: #7f7f7f; text-decoration-color: #7f7f7f\">:</span><a href=\"file:///home/noah/projects/cuticulus/cuticulus/core/datasets/full.py#85\"><span style=\"color: #7f7f7f; text-decoration-color: #7f7f7f\">85</span></a>\n",
       "</pre>\n"
      ],
      "text/plain": [
       "\u001b[2;36m[14:34:40]\u001b[0m\u001b[2;36m \u001b[0m\u001b[34mINFO    \u001b[0m Image \u001b[1;36m58\u001b[0m is NA or not considered in this version.              \u001b]8;id=126975;file:///home/noah/projects/cuticulus/cuticulus/core/datasets/full.py\u001b\\\u001b[2mfull.py\u001b[0m\u001b]8;;\u001b\\\u001b[2m:\u001b[0m\u001b]8;id=51411;file:///home/noah/projects/cuticulus/cuticulus/core/datasets/full.py#85\u001b\\\u001b[2m85\u001b[0m\u001b]8;;\u001b\\\n"
      ]
     },
     "metadata": {},
     "output_type": "display_data"
    },
    {
     "data": {
      "text/html": [
       "<pre style=\"white-space:pre;overflow-x:auto;line-height:normal;font-family:Menlo,'DejaVu Sans Mono',consolas,'Courier New',monospace\"><span style=\"color: #7fbfbf; text-decoration-color: #7fbfbf\">[14:34:45] </span><span style=\"color: #000080; text-decoration-color: #000080\">INFO    </span> Image <span style=\"color: #008080; text-decoration-color: #008080; font-weight: bold\">27</span> is NA or not considered in this version.              <a href=\"file:///home/noah/projects/cuticulus/cuticulus/core/datasets/full.py\"><span style=\"color: #7f7f7f; text-decoration-color: #7f7f7f\">full.py</span></a><span style=\"color: #7f7f7f; text-decoration-color: #7f7f7f\">:</span><a href=\"file:///home/noah/projects/cuticulus/cuticulus/core/datasets/full.py#85\"><span style=\"color: #7f7f7f; text-decoration-color: #7f7f7f\">85</span></a>\n",
       "</pre>\n"
      ],
      "text/plain": [
       "\u001b[2;36m[14:34:45]\u001b[0m\u001b[2;36m \u001b[0m\u001b[34mINFO    \u001b[0m Image \u001b[1;36m27\u001b[0m is NA or not considered in this version.              \u001b]8;id=298372;file:///home/noah/projects/cuticulus/cuticulus/core/datasets/full.py\u001b\\\u001b[2mfull.py\u001b[0m\u001b]8;;\u001b\\\u001b[2m:\u001b[0m\u001b]8;id=56701;file:///home/noah/projects/cuticulus/cuticulus/core/datasets/full.py#85\u001b\\\u001b[2m85\u001b[0m\u001b]8;;\u001b\\\n"
      ]
     },
     "metadata": {},
     "output_type": "display_data"
    },
    {
     "data": {
      "text/html": [
       "<pre style=\"white-space:pre;overflow-x:auto;line-height:normal;font-family:Menlo,'DejaVu Sans Mono',consolas,'Courier New',monospace\"><span style=\"color: #7fbfbf; text-decoration-color: #7fbfbf\">[14:34:51] </span><span style=\"color: #000080; text-decoration-color: #000080\">INFO    </span> Image <span style=\"color: #008080; text-decoration-color: #008080; font-weight: bold\">412</span> is NA or not considered in this version.             <a href=\"file:///home/noah/projects/cuticulus/cuticulus/core/datasets/full.py\"><span style=\"color: #7f7f7f; text-decoration-color: #7f7f7f\">full.py</span></a><span style=\"color: #7f7f7f; text-decoration-color: #7f7f7f\">:</span><a href=\"file:///home/noah/projects/cuticulus/cuticulus/core/datasets/full.py#85\"><span style=\"color: #7f7f7f; text-decoration-color: #7f7f7f\">85</span></a>\n",
       "</pre>\n"
      ],
      "text/plain": [
       "\u001b[2;36m[14:34:51]\u001b[0m\u001b[2;36m \u001b[0m\u001b[34mINFO    \u001b[0m Image \u001b[1;36m412\u001b[0m is NA or not considered in this version.             \u001b]8;id=721464;file:///home/noah/projects/cuticulus/cuticulus/core/datasets/full.py\u001b\\\u001b[2mfull.py\u001b[0m\u001b]8;;\u001b\\\u001b[2m:\u001b[0m\u001b]8;id=980903;file:///home/noah/projects/cuticulus/cuticulus/core/datasets/full.py#85\u001b\\\u001b[2m85\u001b[0m\u001b]8;;\u001b\\\n"
      ]
     },
     "metadata": {},
     "output_type": "display_data"
    },
    {
     "data": {
      "text/html": [
       "<pre style=\"white-space:pre;overflow-x:auto;line-height:normal;font-family:Menlo,'DejaVu Sans Mono',consolas,'Courier New',monospace\"><span style=\"color: #7fbfbf; text-decoration-color: #7fbfbf\">[14:34:57] </span><span style=\"color: #000080; text-decoration-color: #000080\">INFO    </span> Image <span style=\"color: #008080; text-decoration-color: #008080; font-weight: bold\">539</span> is NA or not considered in this version.             <a href=\"file:///home/noah/projects/cuticulus/cuticulus/core/datasets/full.py\"><span style=\"color: #7f7f7f; text-decoration-color: #7f7f7f\">full.py</span></a><span style=\"color: #7f7f7f; text-decoration-color: #7f7f7f\">:</span><a href=\"file:///home/noah/projects/cuticulus/cuticulus/core/datasets/full.py#85\"><span style=\"color: #7f7f7f; text-decoration-color: #7f7f7f\">85</span></a>\n",
       "</pre>\n"
      ],
      "text/plain": [
       "\u001b[2;36m[14:34:57]\u001b[0m\u001b[2;36m \u001b[0m\u001b[34mINFO    \u001b[0m Image \u001b[1;36m539\u001b[0m is NA or not considered in this version.             \u001b]8;id=426919;file:///home/noah/projects/cuticulus/cuticulus/core/datasets/full.py\u001b\\\u001b[2mfull.py\u001b[0m\u001b]8;;\u001b\\\u001b[2m:\u001b[0m\u001b]8;id=704897;file:///home/noah/projects/cuticulus/cuticulus/core/datasets/full.py#85\u001b\\\u001b[2m85\u001b[0m\u001b]8;;\u001b\\\n"
      ]
     },
     "metadata": {},
     "output_type": "display_data"
    },
    {
     "data": {
      "text/html": [
       "<pre style=\"white-space:pre;overflow-x:auto;line-height:normal;font-family:Menlo,'DejaVu Sans Mono',consolas,'Courier New',monospace\"><span style=\"color: #7fbfbf; text-decoration-color: #7fbfbf\">[14:35:01] </span><span style=\"color: #000080; text-decoration-color: #000080\">INFO    </span> Image <span style=\"color: #008080; text-decoration-color: #008080; font-weight: bold\">129</span> is NA or not considered in this version.             <a href=\"file:///home/noah/projects/cuticulus/cuticulus/core/datasets/full.py\"><span style=\"color: #7f7f7f; text-decoration-color: #7f7f7f\">full.py</span></a><span style=\"color: #7f7f7f; text-decoration-color: #7f7f7f\">:</span><a href=\"file:///home/noah/projects/cuticulus/cuticulus/core/datasets/full.py#85\"><span style=\"color: #7f7f7f; text-decoration-color: #7f7f7f\">85</span></a>\n",
       "</pre>\n"
      ],
      "text/plain": [
       "\u001b[2;36m[14:35:01]\u001b[0m\u001b[2;36m \u001b[0m\u001b[34mINFO    \u001b[0m Image \u001b[1;36m129\u001b[0m is NA or not considered in this version.             \u001b]8;id=627144;file:///home/noah/projects/cuticulus/cuticulus/core/datasets/full.py\u001b\\\u001b[2mfull.py\u001b[0m\u001b]8;;\u001b\\\u001b[2m:\u001b[0m\u001b]8;id=632993;file:///home/noah/projects/cuticulus/cuticulus/core/datasets/full.py#85\u001b\\\u001b[2m85\u001b[0m\u001b]8;;\u001b\\\n"
      ]
     },
     "metadata": {},
     "output_type": "display_data"
    },
    {
     "data": {
      "text/html": [
       "<pre style=\"white-space:pre;overflow-x:auto;line-height:normal;font-family:Menlo,'DejaVu Sans Mono',consolas,'Courier New',monospace\"><span style=\"color: #7fbfbf; text-decoration-color: #7fbfbf\">[14:35:08] </span><span style=\"color: #000080; text-decoration-color: #000080\">INFO    </span> Image <span style=\"color: #008080; text-decoration-color: #008080; font-weight: bold\">283</span> is NA or not considered in this version.             <a href=\"file:///home/noah/projects/cuticulus/cuticulus/core/datasets/full.py\"><span style=\"color: #7f7f7f; text-decoration-color: #7f7f7f\">full.py</span></a><span style=\"color: #7f7f7f; text-decoration-color: #7f7f7f\">:</span><a href=\"file:///home/noah/projects/cuticulus/cuticulus/core/datasets/full.py#85\"><span style=\"color: #7f7f7f; text-decoration-color: #7f7f7f\">85</span></a>\n",
       "</pre>\n"
      ],
      "text/plain": [
       "\u001b[2;36m[14:35:08]\u001b[0m\u001b[2;36m \u001b[0m\u001b[34mINFO    \u001b[0m Image \u001b[1;36m283\u001b[0m is NA or not considered in this version.             \u001b]8;id=717412;file:///home/noah/projects/cuticulus/cuticulus/core/datasets/full.py\u001b\\\u001b[2mfull.py\u001b[0m\u001b]8;;\u001b\\\u001b[2m:\u001b[0m\u001b]8;id=292231;file:///home/noah/projects/cuticulus/cuticulus/core/datasets/full.py#85\u001b\\\u001b[2m85\u001b[0m\u001b]8;;\u001b\\\n"
      ]
     },
     "metadata": {},
     "output_type": "display_data"
    },
    {
     "data": {
      "text/html": [
       "<pre style=\"white-space:pre;overflow-x:auto;line-height:normal;font-family:Menlo,'DejaVu Sans Mono',consolas,'Courier New',monospace\"><span style=\"color: #7fbfbf; text-decoration-color: #7fbfbf\">           </span><span style=\"color: #000080; text-decoration-color: #000080\">INFO    </span> Image <span style=\"color: #008080; text-decoration-color: #008080; font-weight: bold\">594</span> is NA or not considered in this version.             <a href=\"file:///home/noah/projects/cuticulus/cuticulus/core/datasets/full.py\"><span style=\"color: #7f7f7f; text-decoration-color: #7f7f7f\">full.py</span></a><span style=\"color: #7f7f7f; text-decoration-color: #7f7f7f\">:</span><a href=\"file:///home/noah/projects/cuticulus/cuticulus/core/datasets/full.py#85\"><span style=\"color: #7f7f7f; text-decoration-color: #7f7f7f\">85</span></a>\n",
       "</pre>\n"
      ],
      "text/plain": [
       "\u001b[2;36m          \u001b[0m\u001b[2;36m \u001b[0m\u001b[34mINFO    \u001b[0m Image \u001b[1;36m594\u001b[0m is NA or not considered in this version.             \u001b]8;id=761880;file:///home/noah/projects/cuticulus/cuticulus/core/datasets/full.py\u001b\\\u001b[2mfull.py\u001b[0m\u001b]8;;\u001b\\\u001b[2m:\u001b[0m\u001b]8;id=790004;file:///home/noah/projects/cuticulus/cuticulus/core/datasets/full.py#85\u001b\\\u001b[2m85\u001b[0m\u001b]8;;\u001b\\\n"
      ]
     },
     "metadata": {},
     "output_type": "display_data"
    },
    {
     "data": {
      "text/html": [
       "<pre style=\"white-space:pre;overflow-x:auto;line-height:normal;font-family:Menlo,'DejaVu Sans Mono',consolas,'Courier New',monospace\"><span style=\"color: #7fbfbf; text-decoration-color: #7fbfbf\">[14:35:11] </span><span style=\"color: #000080; text-decoration-color: #000080\">INFO    </span> Image <span style=\"color: #008080; text-decoration-color: #008080; font-weight: bold\">921</span> is NA or not considered in this version.             <a href=\"file:///home/noah/projects/cuticulus/cuticulus/core/datasets/full.py\"><span style=\"color: #7f7f7f; text-decoration-color: #7f7f7f\">full.py</span></a><span style=\"color: #7f7f7f; text-decoration-color: #7f7f7f\">:</span><a href=\"file:///home/noah/projects/cuticulus/cuticulus/core/datasets/full.py#85\"><span style=\"color: #7f7f7f; text-decoration-color: #7f7f7f\">85</span></a>\n",
       "</pre>\n"
      ],
      "text/plain": [
       "\u001b[2;36m[14:35:11]\u001b[0m\u001b[2;36m \u001b[0m\u001b[34mINFO    \u001b[0m Image \u001b[1;36m921\u001b[0m is NA or not considered in this version.             \u001b]8;id=194329;file:///home/noah/projects/cuticulus/cuticulus/core/datasets/full.py\u001b\\\u001b[2mfull.py\u001b[0m\u001b]8;;\u001b\\\u001b[2m:\u001b[0m\u001b]8;id=697908;file:///home/noah/projects/cuticulus/cuticulus/core/datasets/full.py#85\u001b\\\u001b[2m85\u001b[0m\u001b]8;;\u001b\\\n"
      ]
     },
     "metadata": {},
     "output_type": "display_data"
    },
    {
     "data": {
      "text/html": [
       "<pre style=\"white-space:pre;overflow-x:auto;line-height:normal;font-family:Menlo,'DejaVu Sans Mono',consolas,'Courier New',monospace\"><span style=\"color: #7fbfbf; text-decoration-color: #7fbfbf\">           </span><span style=\"color: #000080; text-decoration-color: #000080\">INFO    </span> Image <span style=\"color: #008080; text-decoration-color: #008080; font-weight: bold\">717</span> is NA or not considered in this version.             <a href=\"file:///home/noah/projects/cuticulus/cuticulus/core/datasets/full.py\"><span style=\"color: #7f7f7f; text-decoration-color: #7f7f7f\">full.py</span></a><span style=\"color: #7f7f7f; text-decoration-color: #7f7f7f\">:</span><a href=\"file:///home/noah/projects/cuticulus/cuticulus/core/datasets/full.py#85\"><span style=\"color: #7f7f7f; text-decoration-color: #7f7f7f\">85</span></a>\n",
       "</pre>\n"
      ],
      "text/plain": [
       "\u001b[2;36m          \u001b[0m\u001b[2;36m \u001b[0m\u001b[34mINFO    \u001b[0m Image \u001b[1;36m717\u001b[0m is NA or not considered in this version.             \u001b]8;id=218514;file:///home/noah/projects/cuticulus/cuticulus/core/datasets/full.py\u001b\\\u001b[2mfull.py\u001b[0m\u001b]8;;\u001b\\\u001b[2m:\u001b[0m\u001b]8;id=921945;file:///home/noah/projects/cuticulus/cuticulus/core/datasets/full.py#85\u001b\\\u001b[2m85\u001b[0m\u001b]8;;\u001b\\\n"
      ]
     },
     "metadata": {},
     "output_type": "display_data"
    },
    {
     "data": {
      "text/html": [
       "<pre style=\"white-space:pre;overflow-x:auto;line-height:normal;font-family:Menlo,'DejaVu Sans Mono',consolas,'Courier New',monospace\"><span style=\"color: #7fbfbf; text-decoration-color: #7fbfbf\">[14:35:13] </span><span style=\"color: #000080; text-decoration-color: #000080\">INFO    </span> Image <span style=\"color: #008080; text-decoration-color: #008080; font-weight: bold\">705</span> is NA or not considered in this version.             <a href=\"file:///home/noah/projects/cuticulus/cuticulus/core/datasets/full.py\"><span style=\"color: #7f7f7f; text-decoration-color: #7f7f7f\">full.py</span></a><span style=\"color: #7f7f7f; text-decoration-color: #7f7f7f\">:</span><a href=\"file:///home/noah/projects/cuticulus/cuticulus/core/datasets/full.py#85\"><span style=\"color: #7f7f7f; text-decoration-color: #7f7f7f\">85</span></a>\n",
       "</pre>\n"
      ],
      "text/plain": [
       "\u001b[2;36m[14:35:13]\u001b[0m\u001b[2;36m \u001b[0m\u001b[34mINFO    \u001b[0m Image \u001b[1;36m705\u001b[0m is NA or not considered in this version.             \u001b]8;id=729176;file:///home/noah/projects/cuticulus/cuticulus/core/datasets/full.py\u001b\\\u001b[2mfull.py\u001b[0m\u001b]8;;\u001b\\\u001b[2m:\u001b[0m\u001b]8;id=507076;file:///home/noah/projects/cuticulus/cuticulus/core/datasets/full.py#85\u001b\\\u001b[2m85\u001b[0m\u001b]8;;\u001b\\\n"
      ]
     },
     "metadata": {},
     "output_type": "display_data"
    },
    {
     "data": {
      "text/html": [
       "<pre style=\"white-space:pre;overflow-x:auto;line-height:normal;font-family:Menlo,'DejaVu Sans Mono',consolas,'Courier New',monospace\"><span style=\"color: #7fbfbf; text-decoration-color: #7fbfbf\">[14:35:14] </span><span style=\"color: #000080; text-decoration-color: #000080\">INFO    </span> Image <span style=\"color: #008080; text-decoration-color: #008080; font-weight: bold\">1477</span> is NA or not considered in this version.            <a href=\"file:///home/noah/projects/cuticulus/cuticulus/core/datasets/full.py\"><span style=\"color: #7f7f7f; text-decoration-color: #7f7f7f\">full.py</span></a><span style=\"color: #7f7f7f; text-decoration-color: #7f7f7f\">:</span><a href=\"file:///home/noah/projects/cuticulus/cuticulus/core/datasets/full.py#85\"><span style=\"color: #7f7f7f; text-decoration-color: #7f7f7f\">85</span></a>\n",
       "</pre>\n"
      ],
      "text/plain": [
       "\u001b[2;36m[14:35:14]\u001b[0m\u001b[2;36m \u001b[0m\u001b[34mINFO    \u001b[0m Image \u001b[1;36m1477\u001b[0m is NA or not considered in this version.            \u001b]8;id=346513;file:///home/noah/projects/cuticulus/cuticulus/core/datasets/full.py\u001b\\\u001b[2mfull.py\u001b[0m\u001b]8;;\u001b\\\u001b[2m:\u001b[0m\u001b]8;id=267040;file:///home/noah/projects/cuticulus/cuticulus/core/datasets/full.py#85\u001b\\\u001b[2m85\u001b[0m\u001b]8;;\u001b\\\n"
      ]
     },
     "metadata": {},
     "output_type": "display_data"
    },
    {
     "data": {
      "text/html": [
       "<pre style=\"white-space:pre;overflow-x:auto;line-height:normal;font-family:Menlo,'DejaVu Sans Mono',consolas,'Courier New',monospace\"><span style=\"color: #7fbfbf; text-decoration-color: #7fbfbf\">[14:35:18] </span><span style=\"color: #000080; text-decoration-color: #000080\">INFO    </span> Image <span style=\"color: #008080; text-decoration-color: #008080; font-weight: bold\">1992</span> is NA or not considered in this version.            <a href=\"file:///home/noah/projects/cuticulus/cuticulus/core/datasets/full.py\"><span style=\"color: #7f7f7f; text-decoration-color: #7f7f7f\">full.py</span></a><span style=\"color: #7f7f7f; text-decoration-color: #7f7f7f\">:</span><a href=\"file:///home/noah/projects/cuticulus/cuticulus/core/datasets/full.py#85\"><span style=\"color: #7f7f7f; text-decoration-color: #7f7f7f\">85</span></a>\n",
       "</pre>\n"
      ],
      "text/plain": [
       "\u001b[2;36m[14:35:18]\u001b[0m\u001b[2;36m \u001b[0m\u001b[34mINFO    \u001b[0m Image \u001b[1;36m1992\u001b[0m is NA or not considered in this version.            \u001b]8;id=573976;file:///home/noah/projects/cuticulus/cuticulus/core/datasets/full.py\u001b\\\u001b[2mfull.py\u001b[0m\u001b]8;;\u001b\\\u001b[2m:\u001b[0m\u001b]8;id=248187;file:///home/noah/projects/cuticulus/cuticulus/core/datasets/full.py#85\u001b\\\u001b[2m85\u001b[0m\u001b]8;;\u001b\\\n"
      ]
     },
     "metadata": {},
     "output_type": "display_data"
    },
    {
     "data": {
      "text/html": [
       "<pre style=\"white-space:pre;overflow-x:auto;line-height:normal;font-family:Menlo,'DejaVu Sans Mono',consolas,'Courier New',monospace\"><span style=\"color: #7fbfbf; text-decoration-color: #7fbfbf\">[14:35:20] </span><span style=\"color: #000080; text-decoration-color: #000080\">INFO    </span> Image <span style=\"color: #008080; text-decoration-color: #008080; font-weight: bold\">221</span> is NA or not considered in this version.             <a href=\"file:///home/noah/projects/cuticulus/cuticulus/core/datasets/full.py\"><span style=\"color: #7f7f7f; text-decoration-color: #7f7f7f\">full.py</span></a><span style=\"color: #7f7f7f; text-decoration-color: #7f7f7f\">:</span><a href=\"file:///home/noah/projects/cuticulus/cuticulus/core/datasets/full.py#85\"><span style=\"color: #7f7f7f; text-decoration-color: #7f7f7f\">85</span></a>\n",
       "</pre>\n"
      ],
      "text/plain": [
       "\u001b[2;36m[14:35:20]\u001b[0m\u001b[2;36m \u001b[0m\u001b[34mINFO    \u001b[0m Image \u001b[1;36m221\u001b[0m is NA or not considered in this version.             \u001b]8;id=437783;file:///home/noah/projects/cuticulus/cuticulus/core/datasets/full.py\u001b\\\u001b[2mfull.py\u001b[0m\u001b]8;;\u001b\\\u001b[2m:\u001b[0m\u001b]8;id=951599;file:///home/noah/projects/cuticulus/cuticulus/core/datasets/full.py#85\u001b\\\u001b[2m85\u001b[0m\u001b]8;;\u001b\\\n"
      ]
     },
     "metadata": {},
     "output_type": "display_data"
    },
    {
     "data": {
      "text/html": [
       "<pre style=\"white-space:pre;overflow-x:auto;line-height:normal;font-family:Menlo,'DejaVu Sans Mono',consolas,'Courier New',monospace\"><span style=\"color: #7fbfbf; text-decoration-color: #7fbfbf\">[14:35:21] </span><span style=\"color: #000080; text-decoration-color: #000080\">INFO    </span> Image <span style=\"color: #008080; text-decoration-color: #008080; font-weight: bold\">345</span> is NA or not considered in this version.             <a href=\"file:///home/noah/projects/cuticulus/cuticulus/core/datasets/full.py\"><span style=\"color: #7f7f7f; text-decoration-color: #7f7f7f\">full.py</span></a><span style=\"color: #7f7f7f; text-decoration-color: #7f7f7f\">:</span><a href=\"file:///home/noah/projects/cuticulus/cuticulus/core/datasets/full.py#85\"><span style=\"color: #7f7f7f; text-decoration-color: #7f7f7f\">85</span></a>\n",
       "</pre>\n"
      ],
      "text/plain": [
       "\u001b[2;36m[14:35:21]\u001b[0m\u001b[2;36m \u001b[0m\u001b[34mINFO    \u001b[0m Image \u001b[1;36m345\u001b[0m is NA or not considered in this version.             \u001b]8;id=232180;file:///home/noah/projects/cuticulus/cuticulus/core/datasets/full.py\u001b\\\u001b[2mfull.py\u001b[0m\u001b]8;;\u001b\\\u001b[2m:\u001b[0m\u001b]8;id=4810;file:///home/noah/projects/cuticulus/cuticulus/core/datasets/full.py#85\u001b\\\u001b[2m85\u001b[0m\u001b]8;;\u001b\\\n"
      ]
     },
     "metadata": {},
     "output_type": "display_data"
    },
    {
     "data": {
      "text/html": [
       "<pre style=\"white-space:pre;overflow-x:auto;line-height:normal;font-family:Menlo,'DejaVu Sans Mono',consolas,'Courier New',monospace\"><span style=\"color: #7fbfbf; text-decoration-color: #7fbfbf\">           </span><span style=\"color: #000080; text-decoration-color: #000080\">INFO    </span> Image <span style=\"color: #008080; text-decoration-color: #008080; font-weight: bold\">327</span> is NA or not considered in this version.             <a href=\"file:///home/noah/projects/cuticulus/cuticulus/core/datasets/full.py\"><span style=\"color: #7f7f7f; text-decoration-color: #7f7f7f\">full.py</span></a><span style=\"color: #7f7f7f; text-decoration-color: #7f7f7f\">:</span><a href=\"file:///home/noah/projects/cuticulus/cuticulus/core/datasets/full.py#85\"><span style=\"color: #7f7f7f; text-decoration-color: #7f7f7f\">85</span></a>\n",
       "</pre>\n"
      ],
      "text/plain": [
       "\u001b[2;36m          \u001b[0m\u001b[2;36m \u001b[0m\u001b[34mINFO    \u001b[0m Image \u001b[1;36m327\u001b[0m is NA or not considered in this version.             \u001b]8;id=423962;file:///home/noah/projects/cuticulus/cuticulus/core/datasets/full.py\u001b\\\u001b[2mfull.py\u001b[0m\u001b]8;;\u001b\\\u001b[2m:\u001b[0m\u001b]8;id=788471;file:///home/noah/projects/cuticulus/cuticulus/core/datasets/full.py#85\u001b\\\u001b[2m85\u001b[0m\u001b]8;;\u001b\\\n"
      ]
     },
     "metadata": {},
     "output_type": "display_data"
    },
    {
     "data": {
      "text/html": [
       "<pre style=\"white-space:pre;overflow-x:auto;line-height:normal;font-family:Menlo,'DejaVu Sans Mono',consolas,'Courier New',monospace\"><span style=\"color: #7fbfbf; text-decoration-color: #7fbfbf\">[14:35:25] </span><span style=\"color: #000080; text-decoration-color: #000080\">INFO    </span> Image <span style=\"color: #008080; text-decoration-color: #008080; font-weight: bold\">326</span> is NA or not considered in this version.             <a href=\"file:///home/noah/projects/cuticulus/cuticulus/core/datasets/full.py\"><span style=\"color: #7f7f7f; text-decoration-color: #7f7f7f\">full.py</span></a><span style=\"color: #7f7f7f; text-decoration-color: #7f7f7f\">:</span><a href=\"file:///home/noah/projects/cuticulus/cuticulus/core/datasets/full.py#85\"><span style=\"color: #7f7f7f; text-decoration-color: #7f7f7f\">85</span></a>\n",
       "</pre>\n"
      ],
      "text/plain": [
       "\u001b[2;36m[14:35:25]\u001b[0m\u001b[2;36m \u001b[0m\u001b[34mINFO    \u001b[0m Image \u001b[1;36m326\u001b[0m is NA or not considered in this version.             \u001b]8;id=858548;file:///home/noah/projects/cuticulus/cuticulus/core/datasets/full.py\u001b\\\u001b[2mfull.py\u001b[0m\u001b]8;;\u001b\\\u001b[2m:\u001b[0m\u001b]8;id=12345;file:///home/noah/projects/cuticulus/cuticulus/core/datasets/full.py#85\u001b\\\u001b[2m85\u001b[0m\u001b]8;;\u001b\\\n"
      ]
     },
     "metadata": {},
     "output_type": "display_data"
    },
    {
     "data": {
      "text/html": [
       "<pre style=\"white-space:pre;overflow-x:auto;line-height:normal;font-family:Menlo,'DejaVu Sans Mono',consolas,'Courier New',monospace\"><span style=\"color: #7fbfbf; text-decoration-color: #7fbfbf\">           </span><span style=\"color: #000080; text-decoration-color: #000080\">INFO    </span> Image <span style=\"color: #008080; text-decoration-color: #008080; font-weight: bold\">1030</span> is NA or not considered in this version.            <a href=\"file:///home/noah/projects/cuticulus/cuticulus/core/datasets/full.py\"><span style=\"color: #7f7f7f; text-decoration-color: #7f7f7f\">full.py</span></a><span style=\"color: #7f7f7f; text-decoration-color: #7f7f7f\">:</span><a href=\"file:///home/noah/projects/cuticulus/cuticulus/core/datasets/full.py#85\"><span style=\"color: #7f7f7f; text-decoration-color: #7f7f7f\">85</span></a>\n",
       "</pre>\n"
      ],
      "text/plain": [
       "\u001b[2;36m          \u001b[0m\u001b[2;36m \u001b[0m\u001b[34mINFO    \u001b[0m Image \u001b[1;36m1030\u001b[0m is NA or not considered in this version.            \u001b]8;id=380622;file:///home/noah/projects/cuticulus/cuticulus/core/datasets/full.py\u001b\\\u001b[2mfull.py\u001b[0m\u001b]8;;\u001b\\\u001b[2m:\u001b[0m\u001b]8;id=480298;file:///home/noah/projects/cuticulus/cuticulus/core/datasets/full.py#85\u001b\\\u001b[2m85\u001b[0m\u001b]8;;\u001b\\\n"
      ]
     },
     "metadata": {},
     "output_type": "display_data"
    },
    {
     "data": {
      "text/html": [
       "<pre style=\"white-space:pre;overflow-x:auto;line-height:normal;font-family:Menlo,'DejaVu Sans Mono',consolas,'Courier New',monospace\"><span style=\"color: #7fbfbf; text-decoration-color: #7fbfbf\">[14:35:26] </span><span style=\"color: #000080; text-decoration-color: #000080\">INFO    </span> Image <span style=\"color: #008080; text-decoration-color: #008080; font-weight: bold\">336</span> is NA or not considered in this version.             <a href=\"file:///home/noah/projects/cuticulus/cuticulus/core/datasets/full.py\"><span style=\"color: #7f7f7f; text-decoration-color: #7f7f7f\">full.py</span></a><span style=\"color: #7f7f7f; text-decoration-color: #7f7f7f\">:</span><a href=\"file:///home/noah/projects/cuticulus/cuticulus/core/datasets/full.py#85\"><span style=\"color: #7f7f7f; text-decoration-color: #7f7f7f\">85</span></a>\n",
       "</pre>\n"
      ],
      "text/plain": [
       "\u001b[2;36m[14:35:26]\u001b[0m\u001b[2;36m \u001b[0m\u001b[34mINFO    \u001b[0m Image \u001b[1;36m336\u001b[0m is NA or not considered in this version.             \u001b]8;id=31757;file:///home/noah/projects/cuticulus/cuticulus/core/datasets/full.py\u001b\\\u001b[2mfull.py\u001b[0m\u001b]8;;\u001b\\\u001b[2m:\u001b[0m\u001b]8;id=14322;file:///home/noah/projects/cuticulus/cuticulus/core/datasets/full.py#85\u001b\\\u001b[2m85\u001b[0m\u001b]8;;\u001b\\\n"
      ]
     },
     "metadata": {},
     "output_type": "display_data"
    },
    {
     "data": {
      "text/html": [
       "<pre style=\"white-space:pre;overflow-x:auto;line-height:normal;font-family:Menlo,'DejaVu Sans Mono',consolas,'Courier New',monospace\"><span style=\"color: #7fbfbf; text-decoration-color: #7fbfbf\">[14:35:27] </span><span style=\"color: #000080; text-decoration-color: #000080\">INFO    </span> Image <span style=\"color: #008080; text-decoration-color: #008080; font-weight: bold\">584</span> is NA or not considered in this version.             <a href=\"file:///home/noah/projects/cuticulus/cuticulus/core/datasets/full.py\"><span style=\"color: #7f7f7f; text-decoration-color: #7f7f7f\">full.py</span></a><span style=\"color: #7f7f7f; text-decoration-color: #7f7f7f\">:</span><a href=\"file:///home/noah/projects/cuticulus/cuticulus/core/datasets/full.py#85\"><span style=\"color: #7f7f7f; text-decoration-color: #7f7f7f\">85</span></a>\n",
       "</pre>\n"
      ],
      "text/plain": [
       "\u001b[2;36m[14:35:27]\u001b[0m\u001b[2;36m \u001b[0m\u001b[34mINFO    \u001b[0m Image \u001b[1;36m584\u001b[0m is NA or not considered in this version.             \u001b]8;id=755238;file:///home/noah/projects/cuticulus/cuticulus/core/datasets/full.py\u001b\\\u001b[2mfull.py\u001b[0m\u001b]8;;\u001b\\\u001b[2m:\u001b[0m\u001b]8;id=269604;file:///home/noah/projects/cuticulus/cuticulus/core/datasets/full.py#85\u001b\\\u001b[2m85\u001b[0m\u001b]8;;\u001b\\\n"
      ]
     },
     "metadata": {},
     "output_type": "display_data"
    },
    {
     "data": {
      "text/html": [
       "<pre style=\"white-space:pre;overflow-x:auto;line-height:normal;font-family:Menlo,'DejaVu Sans Mono',consolas,'Courier New',monospace\"><span style=\"color: #7fbfbf; text-decoration-color: #7fbfbf\">           </span><span style=\"color: #000080; text-decoration-color: #000080\">INFO    </span> Image <span style=\"color: #008080; text-decoration-color: #008080; font-weight: bold\">513</span> is NA or not considered in this version.             <a href=\"file:///home/noah/projects/cuticulus/cuticulus/core/datasets/full.py\"><span style=\"color: #7f7f7f; text-decoration-color: #7f7f7f\">full.py</span></a><span style=\"color: #7f7f7f; text-decoration-color: #7f7f7f\">:</span><a href=\"file:///home/noah/projects/cuticulus/cuticulus/core/datasets/full.py#85\"><span style=\"color: #7f7f7f; text-decoration-color: #7f7f7f\">85</span></a>\n",
       "</pre>\n"
      ],
      "text/plain": [
       "\u001b[2;36m          \u001b[0m\u001b[2;36m \u001b[0m\u001b[34mINFO    \u001b[0m Image \u001b[1;36m513\u001b[0m is NA or not considered in this version.             \u001b]8;id=731470;file:///home/noah/projects/cuticulus/cuticulus/core/datasets/full.py\u001b\\\u001b[2mfull.py\u001b[0m\u001b]8;;\u001b\\\u001b[2m:\u001b[0m\u001b]8;id=645815;file:///home/noah/projects/cuticulus/cuticulus/core/datasets/full.py#85\u001b\\\u001b[2m85\u001b[0m\u001b]8;;\u001b\\\n"
      ]
     },
     "metadata": {},
     "output_type": "display_data"
    },
    {
     "data": {
      "text/html": [
       "<pre style=\"white-space:pre;overflow-x:auto;line-height:normal;font-family:Menlo,'DejaVu Sans Mono',consolas,'Courier New',monospace\"><span style=\"color: #7fbfbf; text-decoration-color: #7fbfbf\">[14:35:29] </span><span style=\"color: #000080; text-decoration-color: #000080\">INFO    </span> Image <span style=\"color: #008080; text-decoration-color: #008080; font-weight: bold\">244</span> is NA or not considered in this version.             <a href=\"file:///home/noah/projects/cuticulus/cuticulus/core/datasets/full.py\"><span style=\"color: #7f7f7f; text-decoration-color: #7f7f7f\">full.py</span></a><span style=\"color: #7f7f7f; text-decoration-color: #7f7f7f\">:</span><a href=\"file:///home/noah/projects/cuticulus/cuticulus/core/datasets/full.py#85\"><span style=\"color: #7f7f7f; text-decoration-color: #7f7f7f\">85</span></a>\n",
       "</pre>\n"
      ],
      "text/plain": [
       "\u001b[2;36m[14:35:29]\u001b[0m\u001b[2;36m \u001b[0m\u001b[34mINFO    \u001b[0m Image \u001b[1;36m244\u001b[0m is NA or not considered in this version.             \u001b]8;id=830955;file:///home/noah/projects/cuticulus/cuticulus/core/datasets/full.py\u001b\\\u001b[2mfull.py\u001b[0m\u001b]8;;\u001b\\\u001b[2m:\u001b[0m\u001b]8;id=765658;file:///home/noah/projects/cuticulus/cuticulus/core/datasets/full.py#85\u001b\\\u001b[2m85\u001b[0m\u001b]8;;\u001b\\\n"
      ]
     },
     "metadata": {},
     "output_type": "display_data"
    },
    {
     "data": {
      "text/html": [
       "<pre style=\"white-space:pre;overflow-x:auto;line-height:normal;font-family:Menlo,'DejaVu Sans Mono',consolas,'Courier New',monospace\"><span style=\"color: #7fbfbf; text-decoration-color: #7fbfbf\">[14:35:31] </span><span style=\"color: #000080; text-decoration-color: #000080\">INFO    </span> Image <span style=\"color: #008080; text-decoration-color: #008080; font-weight: bold\">183</span> is NA or not considered in this version.             <a href=\"file:///home/noah/projects/cuticulus/cuticulus/core/datasets/full.py\"><span style=\"color: #7f7f7f; text-decoration-color: #7f7f7f\">full.py</span></a><span style=\"color: #7f7f7f; text-decoration-color: #7f7f7f\">:</span><a href=\"file:///home/noah/projects/cuticulus/cuticulus/core/datasets/full.py#85\"><span style=\"color: #7f7f7f; text-decoration-color: #7f7f7f\">85</span></a>\n",
       "</pre>\n"
      ],
      "text/plain": [
       "\u001b[2;36m[14:35:31]\u001b[0m\u001b[2;36m \u001b[0m\u001b[34mINFO    \u001b[0m Image \u001b[1;36m183\u001b[0m is NA or not considered in this version.             \u001b]8;id=753472;file:///home/noah/projects/cuticulus/cuticulus/core/datasets/full.py\u001b\\\u001b[2mfull.py\u001b[0m\u001b]8;;\u001b\\\u001b[2m:\u001b[0m\u001b]8;id=226318;file:///home/noah/projects/cuticulus/cuticulus/core/datasets/full.py#85\u001b\\\u001b[2m85\u001b[0m\u001b]8;;\u001b\\\n"
      ]
     },
     "metadata": {},
     "output_type": "display_data"
    },
    {
     "data": {
      "text/html": [
       "<pre style=\"white-space:pre;overflow-x:auto;line-height:normal;font-family:Menlo,'DejaVu Sans Mono',consolas,'Courier New',monospace\"><span style=\"color: #7fbfbf; text-decoration-color: #7fbfbf\">[14:35:32] </span><span style=\"color: #000080; text-decoration-color: #000080\">INFO    </span> Image <span style=\"color: #008080; text-decoration-color: #008080; font-weight: bold\">12</span> is NA or not considered in this version.              <a href=\"file:///home/noah/projects/cuticulus/cuticulus/core/datasets/full.py\"><span style=\"color: #7f7f7f; text-decoration-color: #7f7f7f\">full.py</span></a><span style=\"color: #7f7f7f; text-decoration-color: #7f7f7f\">:</span><a href=\"file:///home/noah/projects/cuticulus/cuticulus/core/datasets/full.py#85\"><span style=\"color: #7f7f7f; text-decoration-color: #7f7f7f\">85</span></a>\n",
       "</pre>\n"
      ],
      "text/plain": [
       "\u001b[2;36m[14:35:32]\u001b[0m\u001b[2;36m \u001b[0m\u001b[34mINFO    \u001b[0m Image \u001b[1;36m12\u001b[0m is NA or not considered in this version.              \u001b]8;id=606237;file:///home/noah/projects/cuticulus/cuticulus/core/datasets/full.py\u001b\\\u001b[2mfull.py\u001b[0m\u001b]8;;\u001b\\\u001b[2m:\u001b[0m\u001b]8;id=460697;file:///home/noah/projects/cuticulus/cuticulus/core/datasets/full.py#85\u001b\\\u001b[2m85\u001b[0m\u001b]8;;\u001b\\\n"
      ]
     },
     "metadata": {},
     "output_type": "display_data"
    },
    {
     "data": {
      "text/html": [
       "<pre style=\"white-space:pre;overflow-x:auto;line-height:normal;font-family:Menlo,'DejaVu Sans Mono',consolas,'Courier New',monospace\"><span style=\"color: #7fbfbf; text-decoration-color: #7fbfbf\">           </span><span style=\"color: #000080; text-decoration-color: #000080\">INFO    </span> Image <span style=\"color: #008080; text-decoration-color: #008080; font-weight: bold\">665</span> is NA or not considered in this version.             <a href=\"file:///home/noah/projects/cuticulus/cuticulus/core/datasets/full.py\"><span style=\"color: #7f7f7f; text-decoration-color: #7f7f7f\">full.py</span></a><span style=\"color: #7f7f7f; text-decoration-color: #7f7f7f\">:</span><a href=\"file:///home/noah/projects/cuticulus/cuticulus/core/datasets/full.py#85\"><span style=\"color: #7f7f7f; text-decoration-color: #7f7f7f\">85</span></a>\n",
       "</pre>\n"
      ],
      "text/plain": [
       "\u001b[2;36m          \u001b[0m\u001b[2;36m \u001b[0m\u001b[34mINFO    \u001b[0m Image \u001b[1;36m665\u001b[0m is NA or not considered in this version.             \u001b]8;id=728857;file:///home/noah/projects/cuticulus/cuticulus/core/datasets/full.py\u001b\\\u001b[2mfull.py\u001b[0m\u001b]8;;\u001b\\\u001b[2m:\u001b[0m\u001b]8;id=857132;file:///home/noah/projects/cuticulus/cuticulus/core/datasets/full.py#85\u001b\\\u001b[2m85\u001b[0m\u001b]8;;\u001b\\\n"
      ]
     },
     "metadata": {},
     "output_type": "display_data"
    },
    {
     "data": {
      "text/html": [
       "<pre style=\"white-space:pre;overflow-x:auto;line-height:normal;font-family:Menlo,'DejaVu Sans Mono',consolas,'Courier New',monospace\"><span style=\"color: #7fbfbf; text-decoration-color: #7fbfbf\">[14:35:33] </span><span style=\"color: #000080; text-decoration-color: #000080\">INFO    </span> Image <span style=\"color: #008080; text-decoration-color: #008080; font-weight: bold\">195</span> is NA or not considered in this version.             <a href=\"file:///home/noah/projects/cuticulus/cuticulus/core/datasets/full.py\"><span style=\"color: #7f7f7f; text-decoration-color: #7f7f7f\">full.py</span></a><span style=\"color: #7f7f7f; text-decoration-color: #7f7f7f\">:</span><a href=\"file:///home/noah/projects/cuticulus/cuticulus/core/datasets/full.py#85\"><span style=\"color: #7f7f7f; text-decoration-color: #7f7f7f\">85</span></a>\n",
       "</pre>\n"
      ],
      "text/plain": [
       "\u001b[2;36m[14:35:33]\u001b[0m\u001b[2;36m \u001b[0m\u001b[34mINFO    \u001b[0m Image \u001b[1;36m195\u001b[0m is NA or not considered in this version.             \u001b]8;id=452293;file:///home/noah/projects/cuticulus/cuticulus/core/datasets/full.py\u001b\\\u001b[2mfull.py\u001b[0m\u001b]8;;\u001b\\\u001b[2m:\u001b[0m\u001b]8;id=443093;file:///home/noah/projects/cuticulus/cuticulus/core/datasets/full.py#85\u001b\\\u001b[2m85\u001b[0m\u001b]8;;\u001b\\\n"
      ]
     },
     "metadata": {},
     "output_type": "display_data"
    },
    {
     "data": {
      "text/html": [
       "<pre style=\"white-space:pre;overflow-x:auto;line-height:normal;font-family:Menlo,'DejaVu Sans Mono',consolas,'Courier New',monospace\"><span style=\"color: #7fbfbf; text-decoration-color: #7fbfbf\">[14:35:34] </span><span style=\"color: #000080; text-decoration-color: #000080\">INFO    </span> Image <span style=\"color: #008080; text-decoration-color: #008080; font-weight: bold\">787</span> is NA or not considered in this version.             <a href=\"file:///home/noah/projects/cuticulus/cuticulus/core/datasets/full.py\"><span style=\"color: #7f7f7f; text-decoration-color: #7f7f7f\">full.py</span></a><span style=\"color: #7f7f7f; text-decoration-color: #7f7f7f\">:</span><a href=\"file:///home/noah/projects/cuticulus/cuticulus/core/datasets/full.py#85\"><span style=\"color: #7f7f7f; text-decoration-color: #7f7f7f\">85</span></a>\n",
       "</pre>\n"
      ],
      "text/plain": [
       "\u001b[2;36m[14:35:34]\u001b[0m\u001b[2;36m \u001b[0m\u001b[34mINFO    \u001b[0m Image \u001b[1;36m787\u001b[0m is NA or not considered in this version.             \u001b]8;id=960880;file:///home/noah/projects/cuticulus/cuticulus/core/datasets/full.py\u001b\\\u001b[2mfull.py\u001b[0m\u001b]8;;\u001b\\\u001b[2m:\u001b[0m\u001b]8;id=929057;file:///home/noah/projects/cuticulus/cuticulus/core/datasets/full.py#85\u001b\\\u001b[2m85\u001b[0m\u001b]8;;\u001b\\\n"
      ]
     },
     "metadata": {},
     "output_type": "display_data"
    },
    {
     "data": {
      "text/html": [
       "<pre style=\"white-space:pre;overflow-x:auto;line-height:normal;font-family:Menlo,'DejaVu Sans Mono',consolas,'Courier New',monospace\"><span style=\"color: #7fbfbf; text-decoration-color: #7fbfbf\">[14:35:35] </span><span style=\"color: #000080; text-decoration-color: #000080\">INFO    </span> Image <span style=\"color: #008080; text-decoration-color: #008080; font-weight: bold\">9</span> is NA or not considered in this version.               <a href=\"file:///home/noah/projects/cuticulus/cuticulus/core/datasets/full.py\"><span style=\"color: #7f7f7f; text-decoration-color: #7f7f7f\">full.py</span></a><span style=\"color: #7f7f7f; text-decoration-color: #7f7f7f\">:</span><a href=\"file:///home/noah/projects/cuticulus/cuticulus/core/datasets/full.py#85\"><span style=\"color: #7f7f7f; text-decoration-color: #7f7f7f\">85</span></a>\n",
       "</pre>\n"
      ],
      "text/plain": [
       "\u001b[2;36m[14:35:35]\u001b[0m\u001b[2;36m \u001b[0m\u001b[34mINFO    \u001b[0m Image \u001b[1;36m9\u001b[0m is NA or not considered in this version.               \u001b]8;id=908887;file:///home/noah/projects/cuticulus/cuticulus/core/datasets/full.py\u001b\\\u001b[2mfull.py\u001b[0m\u001b]8;;\u001b\\\u001b[2m:\u001b[0m\u001b]8;id=115911;file:///home/noah/projects/cuticulus/cuticulus/core/datasets/full.py#85\u001b\\\u001b[2m85\u001b[0m\u001b]8;;\u001b\\\n"
      ]
     },
     "metadata": {},
     "output_type": "display_data"
    },
    {
     "data": {
      "text/html": [
       "<pre style=\"white-space:pre;overflow-x:auto;line-height:normal;font-family:Menlo,'DejaVu Sans Mono',consolas,'Courier New',monospace\"><span style=\"color: #7fbfbf; text-decoration-color: #7fbfbf\">[14:35:36] </span><span style=\"color: #000080; text-decoration-color: #000080\">INFO    </span> Image <span style=\"color: #008080; text-decoration-color: #008080; font-weight: bold\">703</span> is NA or not considered in this version.             <a href=\"file:///home/noah/projects/cuticulus/cuticulus/core/datasets/full.py\"><span style=\"color: #7f7f7f; text-decoration-color: #7f7f7f\">full.py</span></a><span style=\"color: #7f7f7f; text-decoration-color: #7f7f7f\">:</span><a href=\"file:///home/noah/projects/cuticulus/cuticulus/core/datasets/full.py#85\"><span style=\"color: #7f7f7f; text-decoration-color: #7f7f7f\">85</span></a>\n",
       "</pre>\n"
      ],
      "text/plain": [
       "\u001b[2;36m[14:35:36]\u001b[0m\u001b[2;36m \u001b[0m\u001b[34mINFO    \u001b[0m Image \u001b[1;36m703\u001b[0m is NA or not considered in this version.             \u001b]8;id=999250;file:///home/noah/projects/cuticulus/cuticulus/core/datasets/full.py\u001b\\\u001b[2mfull.py\u001b[0m\u001b]8;;\u001b\\\u001b[2m:\u001b[0m\u001b]8;id=929889;file:///home/noah/projects/cuticulus/cuticulus/core/datasets/full.py#85\u001b\\\u001b[2m85\u001b[0m\u001b]8;;\u001b\\\n"
      ]
     },
     "metadata": {},
     "output_type": "display_data"
    },
    {
     "data": {
      "text/html": [
       "<pre style=\"white-space:pre;overflow-x:auto;line-height:normal;font-family:Menlo,'DejaVu Sans Mono',consolas,'Courier New',monospace\"><span style=\"color: #7fbfbf; text-decoration-color: #7fbfbf\">[14:35:38] </span><span style=\"color: #000080; text-decoration-color: #000080\">INFO    </span> Image <span style=\"color: #008080; text-decoration-color: #008080; font-weight: bold\">473</span> is NA or not considered in this version.             <a href=\"file:///home/noah/projects/cuticulus/cuticulus/core/datasets/full.py\"><span style=\"color: #7f7f7f; text-decoration-color: #7f7f7f\">full.py</span></a><span style=\"color: #7f7f7f; text-decoration-color: #7f7f7f\">:</span><a href=\"file:///home/noah/projects/cuticulus/cuticulus/core/datasets/full.py#85\"><span style=\"color: #7f7f7f; text-decoration-color: #7f7f7f\">85</span></a>\n",
       "</pre>\n"
      ],
      "text/plain": [
       "\u001b[2;36m[14:35:38]\u001b[0m\u001b[2;36m \u001b[0m\u001b[34mINFO    \u001b[0m Image \u001b[1;36m473\u001b[0m is NA or not considered in this version.             \u001b]8;id=494834;file:///home/noah/projects/cuticulus/cuticulus/core/datasets/full.py\u001b\\\u001b[2mfull.py\u001b[0m\u001b]8;;\u001b\\\u001b[2m:\u001b[0m\u001b]8;id=564634;file:///home/noah/projects/cuticulus/cuticulus/core/datasets/full.py#85\u001b\\\u001b[2m85\u001b[0m\u001b]8;;\u001b\\\n"
      ]
     },
     "metadata": {},
     "output_type": "display_data"
    },
    {
     "data": {
      "text/html": [
       "<pre style=\"white-space:pre;overflow-x:auto;line-height:normal;font-family:Menlo,'DejaVu Sans Mono',consolas,'Courier New',monospace\"><span style=\"color: #7fbfbf; text-decoration-color: #7fbfbf\">[14:35:39] </span><span style=\"color: #000080; text-decoration-color: #000080\">INFO    </span> Image <span style=\"color: #008080; text-decoration-color: #008080; font-weight: bold\">588</span> is NA or not considered in this version.             <a href=\"file:///home/noah/projects/cuticulus/cuticulus/core/datasets/full.py\"><span style=\"color: #7f7f7f; text-decoration-color: #7f7f7f\">full.py</span></a><span style=\"color: #7f7f7f; text-decoration-color: #7f7f7f\">:</span><a href=\"file:///home/noah/projects/cuticulus/cuticulus/core/datasets/full.py#85\"><span style=\"color: #7f7f7f; text-decoration-color: #7f7f7f\">85</span></a>\n",
       "</pre>\n"
      ],
      "text/plain": [
       "\u001b[2;36m[14:35:39]\u001b[0m\u001b[2;36m \u001b[0m\u001b[34mINFO    \u001b[0m Image \u001b[1;36m588\u001b[0m is NA or not considered in this version.             \u001b]8;id=595042;file:///home/noah/projects/cuticulus/cuticulus/core/datasets/full.py\u001b\\\u001b[2mfull.py\u001b[0m\u001b]8;;\u001b\\\u001b[2m:\u001b[0m\u001b]8;id=571319;file:///home/noah/projects/cuticulus/cuticulus/core/datasets/full.py#85\u001b\\\u001b[2m85\u001b[0m\u001b]8;;\u001b\\\n"
      ]
     },
     "metadata": {},
     "output_type": "display_data"
    },
    {
     "data": {
      "text/html": [
       "<pre style=\"white-space:pre;overflow-x:auto;line-height:normal;font-family:Menlo,'DejaVu Sans Mono',consolas,'Courier New',monospace\"><span style=\"color: #7fbfbf; text-decoration-color: #7fbfbf\">[14:35:41] </span><span style=\"color: #000080; text-decoration-color: #000080\">INFO    </span> Image <span style=\"color: #008080; text-decoration-color: #008080; font-weight: bold\">552</span> is NA or not considered in this version.             <a href=\"file:///home/noah/projects/cuticulus/cuticulus/core/datasets/full.py\"><span style=\"color: #7f7f7f; text-decoration-color: #7f7f7f\">full.py</span></a><span style=\"color: #7f7f7f; text-decoration-color: #7f7f7f\">:</span><a href=\"file:///home/noah/projects/cuticulus/cuticulus/core/datasets/full.py#85\"><span style=\"color: #7f7f7f; text-decoration-color: #7f7f7f\">85</span></a>\n",
       "</pre>\n"
      ],
      "text/plain": [
       "\u001b[2;36m[14:35:41]\u001b[0m\u001b[2;36m \u001b[0m\u001b[34mINFO    \u001b[0m Image \u001b[1;36m552\u001b[0m is NA or not considered in this version.             \u001b]8;id=782812;file:///home/noah/projects/cuticulus/cuticulus/core/datasets/full.py\u001b\\\u001b[2mfull.py\u001b[0m\u001b]8;;\u001b\\\u001b[2m:\u001b[0m\u001b]8;id=497846;file:///home/noah/projects/cuticulus/cuticulus/core/datasets/full.py#85\u001b\\\u001b[2m85\u001b[0m\u001b]8;;\u001b\\\n"
      ]
     },
     "metadata": {},
     "output_type": "display_data"
    },
    {
     "data": {
      "text/html": [
       "<pre style=\"white-space:pre;overflow-x:auto;line-height:normal;font-family:Menlo,'DejaVu Sans Mono',consolas,'Courier New',monospace\"><span style=\"color: #7fbfbf; text-decoration-color: #7fbfbf\">[14:35:42] </span><span style=\"color: #000080; text-decoration-color: #000080\">INFO    </span> Image <span style=\"color: #008080; text-decoration-color: #008080; font-weight: bold\">867</span> is NA or not considered in this version.             <a href=\"file:///home/noah/projects/cuticulus/cuticulus/core/datasets/full.py\"><span style=\"color: #7f7f7f; text-decoration-color: #7f7f7f\">full.py</span></a><span style=\"color: #7f7f7f; text-decoration-color: #7f7f7f\">:</span><a href=\"file:///home/noah/projects/cuticulus/cuticulus/core/datasets/full.py#85\"><span style=\"color: #7f7f7f; text-decoration-color: #7f7f7f\">85</span></a>\n",
       "</pre>\n"
      ],
      "text/plain": [
       "\u001b[2;36m[14:35:42]\u001b[0m\u001b[2;36m \u001b[0m\u001b[34mINFO    \u001b[0m Image \u001b[1;36m867\u001b[0m is NA or not considered in this version.             \u001b]8;id=394960;file:///home/noah/projects/cuticulus/cuticulus/core/datasets/full.py\u001b\\\u001b[2mfull.py\u001b[0m\u001b]8;;\u001b\\\u001b[2m:\u001b[0m\u001b]8;id=656988;file:///home/noah/projects/cuticulus/cuticulus/core/datasets/full.py#85\u001b\\\u001b[2m85\u001b[0m\u001b]8;;\u001b\\\n"
      ]
     },
     "metadata": {},
     "output_type": "display_data"
    },
    {
     "data": {
      "text/html": [
       "<pre style=\"white-space:pre;overflow-x:auto;line-height:normal;font-family:Menlo,'DejaVu Sans Mono',consolas,'Courier New',monospace\"><span style=\"color: #7fbfbf; text-decoration-color: #7fbfbf\">[14:35:56] </span><span style=\"color: #000080; text-decoration-color: #000080\">INFO    </span> Image <span style=\"color: #008080; text-decoration-color: #008080; font-weight: bold\">586</span> is NA or not considered in this version.             <a href=\"file:///home/noah/projects/cuticulus/cuticulus/core/datasets/full.py\"><span style=\"color: #7f7f7f; text-decoration-color: #7f7f7f\">full.py</span></a><span style=\"color: #7f7f7f; text-decoration-color: #7f7f7f\">:</span><a href=\"file:///home/noah/projects/cuticulus/cuticulus/core/datasets/full.py#85\"><span style=\"color: #7f7f7f; text-decoration-color: #7f7f7f\">85</span></a>\n",
       "</pre>\n"
      ],
      "text/plain": [
       "\u001b[2;36m[14:35:56]\u001b[0m\u001b[2;36m \u001b[0m\u001b[34mINFO    \u001b[0m Image \u001b[1;36m586\u001b[0m is NA or not considered in this version.             \u001b]8;id=516787;file:///home/noah/projects/cuticulus/cuticulus/core/datasets/full.py\u001b\\\u001b[2mfull.py\u001b[0m\u001b]8;;\u001b\\\u001b[2m:\u001b[0m\u001b]8;id=895048;file:///home/noah/projects/cuticulus/cuticulus/core/datasets/full.py#85\u001b\\\u001b[2m85\u001b[0m\u001b]8;;\u001b\\\n"
      ]
     },
     "metadata": {},
     "output_type": "display_data"
    },
    {
     "data": {
      "text/html": [
       "<pre style=\"white-space:pre;overflow-x:auto;line-height:normal;font-family:Menlo,'DejaVu Sans Mono',consolas,'Courier New',monospace\"><span style=\"color: #7fbfbf; text-decoration-color: #7fbfbf\">[14:35:57] </span><span style=\"color: #000080; text-decoration-color: #000080\">INFO    </span> Image <span style=\"color: #008080; text-decoration-color: #008080; font-weight: bold\">324</span> is NA or not considered in this version.             <a href=\"file:///home/noah/projects/cuticulus/cuticulus/core/datasets/full.py\"><span style=\"color: #7f7f7f; text-decoration-color: #7f7f7f\">full.py</span></a><span style=\"color: #7f7f7f; text-decoration-color: #7f7f7f\">:</span><a href=\"file:///home/noah/projects/cuticulus/cuticulus/core/datasets/full.py#85\"><span style=\"color: #7f7f7f; text-decoration-color: #7f7f7f\">85</span></a>\n",
       "</pre>\n"
      ],
      "text/plain": [
       "\u001b[2;36m[14:35:57]\u001b[0m\u001b[2;36m \u001b[0m\u001b[34mINFO    \u001b[0m Image \u001b[1;36m324\u001b[0m is NA or not considered in this version.             \u001b]8;id=697820;file:///home/noah/projects/cuticulus/cuticulus/core/datasets/full.py\u001b\\\u001b[2mfull.py\u001b[0m\u001b]8;;\u001b\\\u001b[2m:\u001b[0m\u001b]8;id=26055;file:///home/noah/projects/cuticulus/cuticulus/core/datasets/full.py#85\u001b\\\u001b[2m85\u001b[0m\u001b]8;;\u001b\\\n"
      ]
     },
     "metadata": {},
     "output_type": "display_data"
    },
    {
     "data": {
      "text/html": [
       "<pre style=\"white-space:pre;overflow-x:auto;line-height:normal;font-family:Menlo,'DejaVu Sans Mono',consolas,'Courier New',monospace\"><span style=\"color: #7fbfbf; text-decoration-color: #7fbfbf\">[14:35:59] </span><span style=\"color: #000080; text-decoration-color: #000080\">INFO    </span> Image <span style=\"color: #008080; text-decoration-color: #008080; font-weight: bold\">621</span> is NA or not considered in this version.             <a href=\"file:///home/noah/projects/cuticulus/cuticulus/core/datasets/full.py\"><span style=\"color: #7f7f7f; text-decoration-color: #7f7f7f\">full.py</span></a><span style=\"color: #7f7f7f; text-decoration-color: #7f7f7f\">:</span><a href=\"file:///home/noah/projects/cuticulus/cuticulus/core/datasets/full.py#85\"><span style=\"color: #7f7f7f; text-decoration-color: #7f7f7f\">85</span></a>\n",
       "</pre>\n"
      ],
      "text/plain": [
       "\u001b[2;36m[14:35:59]\u001b[0m\u001b[2;36m \u001b[0m\u001b[34mINFO    \u001b[0m Image \u001b[1;36m621\u001b[0m is NA or not considered in this version.             \u001b]8;id=641941;file:///home/noah/projects/cuticulus/cuticulus/core/datasets/full.py\u001b\\\u001b[2mfull.py\u001b[0m\u001b]8;;\u001b\\\u001b[2m:\u001b[0m\u001b]8;id=529753;file:///home/noah/projects/cuticulus/cuticulus/core/datasets/full.py#85\u001b\\\u001b[2m85\u001b[0m\u001b]8;;\u001b\\\n"
      ]
     },
     "metadata": {},
     "output_type": "display_data"
    },
    {
     "data": {
      "text/html": [
       "<pre style=\"white-space:pre;overflow-x:auto;line-height:normal;font-family:Menlo,'DejaVu Sans Mono',consolas,'Courier New',monospace\"><span style=\"color: #7fbfbf; text-decoration-color: #7fbfbf\">           </span><span style=\"color: #000080; text-decoration-color: #000080\">INFO    </span> Image <span style=\"color: #008080; text-decoration-color: #008080; font-weight: bold\">60</span> is NA or not considered in this version.              <a href=\"file:///home/noah/projects/cuticulus/cuticulus/core/datasets/full.py\"><span style=\"color: #7f7f7f; text-decoration-color: #7f7f7f\">full.py</span></a><span style=\"color: #7f7f7f; text-decoration-color: #7f7f7f\">:</span><a href=\"file:///home/noah/projects/cuticulus/cuticulus/core/datasets/full.py#85\"><span style=\"color: #7f7f7f; text-decoration-color: #7f7f7f\">85</span></a>\n",
       "</pre>\n"
      ],
      "text/plain": [
       "\u001b[2;36m          \u001b[0m\u001b[2;36m \u001b[0m\u001b[34mINFO    \u001b[0m Image \u001b[1;36m60\u001b[0m is NA or not considered in this version.              \u001b]8;id=361846;file:///home/noah/projects/cuticulus/cuticulus/core/datasets/full.py\u001b\\\u001b[2mfull.py\u001b[0m\u001b]8;;\u001b\\\u001b[2m:\u001b[0m\u001b]8;id=287706;file:///home/noah/projects/cuticulus/cuticulus/core/datasets/full.py#85\u001b\\\u001b[2m85\u001b[0m\u001b]8;;\u001b\\\n"
      ]
     },
     "metadata": {},
     "output_type": "display_data"
    },
    {
     "data": {
      "text/html": [
       "<pre style=\"white-space:pre;overflow-x:auto;line-height:normal;font-family:Menlo,'DejaVu Sans Mono',consolas,'Courier New',monospace\"><span style=\"color: #7fbfbf; text-decoration-color: #7fbfbf\">[14:36:00] </span><span style=\"color: #000080; text-decoration-color: #000080\">INFO    </span> Image <span style=\"color: #008080; text-decoration-color: #008080; font-weight: bold\">25</span> is NA or not considered in this version.              <a href=\"file:///home/noah/projects/cuticulus/cuticulus/core/datasets/full.py\"><span style=\"color: #7f7f7f; text-decoration-color: #7f7f7f\">full.py</span></a><span style=\"color: #7f7f7f; text-decoration-color: #7f7f7f\">:</span><a href=\"file:///home/noah/projects/cuticulus/cuticulus/core/datasets/full.py#85\"><span style=\"color: #7f7f7f; text-decoration-color: #7f7f7f\">85</span></a>\n",
       "</pre>\n"
      ],
      "text/plain": [
       "\u001b[2;36m[14:36:00]\u001b[0m\u001b[2;36m \u001b[0m\u001b[34mINFO    \u001b[0m Image \u001b[1;36m25\u001b[0m is NA or not considered in this version.              \u001b]8;id=756636;file:///home/noah/projects/cuticulus/cuticulus/core/datasets/full.py\u001b\\\u001b[2mfull.py\u001b[0m\u001b]8;;\u001b\\\u001b[2m:\u001b[0m\u001b]8;id=276364;file:///home/noah/projects/cuticulus/cuticulus/core/datasets/full.py#85\u001b\\\u001b[2m85\u001b[0m\u001b]8;;\u001b\\\n"
      ]
     },
     "metadata": {},
     "output_type": "display_data"
    },
    {
     "data": {
      "text/html": [
       "<pre style=\"white-space:pre;overflow-x:auto;line-height:normal;font-family:Menlo,'DejaVu Sans Mono',consolas,'Courier New',monospace\"><span style=\"color: #7fbfbf; text-decoration-color: #7fbfbf\">[14:36:01] </span><span style=\"color: #000080; text-decoration-color: #000080\">INFO    </span> Image <span style=\"color: #008080; text-decoration-color: #008080; font-weight: bold\">194</span> is NA or not considered in this version.             <a href=\"file:///home/noah/projects/cuticulus/cuticulus/core/datasets/full.py\"><span style=\"color: #7f7f7f; text-decoration-color: #7f7f7f\">full.py</span></a><span style=\"color: #7f7f7f; text-decoration-color: #7f7f7f\">:</span><a href=\"file:///home/noah/projects/cuticulus/cuticulus/core/datasets/full.py#85\"><span style=\"color: #7f7f7f; text-decoration-color: #7f7f7f\">85</span></a>\n",
       "</pre>\n"
      ],
      "text/plain": [
       "\u001b[2;36m[14:36:01]\u001b[0m\u001b[2;36m \u001b[0m\u001b[34mINFO    \u001b[0m Image \u001b[1;36m194\u001b[0m is NA or not considered in this version.             \u001b]8;id=265094;file:///home/noah/projects/cuticulus/cuticulus/core/datasets/full.py\u001b\\\u001b[2mfull.py\u001b[0m\u001b]8;;\u001b\\\u001b[2m:\u001b[0m\u001b]8;id=38163;file:///home/noah/projects/cuticulus/cuticulus/core/datasets/full.py#85\u001b\\\u001b[2m85\u001b[0m\u001b]8;;\u001b\\\n"
      ]
     },
     "metadata": {},
     "output_type": "display_data"
    },
    {
     "data": {
      "text/html": [
       "<pre style=\"white-space:pre;overflow-x:auto;line-height:normal;font-family:Menlo,'DejaVu Sans Mono',consolas,'Courier New',monospace\"><span style=\"color: #7fbfbf; text-decoration-color: #7fbfbf\">[14:36:02] </span><span style=\"color: #000080; text-decoration-color: #000080\">INFO    </span> Image <span style=\"color: #008080; text-decoration-color: #008080; font-weight: bold\">48</span> is NA or not considered in this version.              <a href=\"file:///home/noah/projects/cuticulus/cuticulus/core/datasets/full.py\"><span style=\"color: #7f7f7f; text-decoration-color: #7f7f7f\">full.py</span></a><span style=\"color: #7f7f7f; text-decoration-color: #7f7f7f\">:</span><a href=\"file:///home/noah/projects/cuticulus/cuticulus/core/datasets/full.py#85\"><span style=\"color: #7f7f7f; text-decoration-color: #7f7f7f\">85</span></a>\n",
       "</pre>\n"
      ],
      "text/plain": [
       "\u001b[2;36m[14:36:02]\u001b[0m\u001b[2;36m \u001b[0m\u001b[34mINFO    \u001b[0m Image \u001b[1;36m48\u001b[0m is NA or not considered in this version.              \u001b]8;id=992071;file:///home/noah/projects/cuticulus/cuticulus/core/datasets/full.py\u001b\\\u001b[2mfull.py\u001b[0m\u001b]8;;\u001b\\\u001b[2m:\u001b[0m\u001b]8;id=297808;file:///home/noah/projects/cuticulus/cuticulus/core/datasets/full.py#85\u001b\\\u001b[2m85\u001b[0m\u001b]8;;\u001b\\\n"
      ]
     },
     "metadata": {},
     "output_type": "display_data"
    },
    {
     "data": {
      "text/html": [
       "<pre style=\"white-space:pre;overflow-x:auto;line-height:normal;font-family:Menlo,'DejaVu Sans Mono',consolas,'Courier New',monospace\"><span style=\"color: #7fbfbf; text-decoration-color: #7fbfbf\">[14:36:03] </span><span style=\"color: #000080; text-decoration-color: #000080\">INFO    </span> Image <span style=\"color: #008080; text-decoration-color: #008080; font-weight: bold\">631</span> is NA or not considered in this version.             <a href=\"file:///home/noah/projects/cuticulus/cuticulus/core/datasets/full.py\"><span style=\"color: #7f7f7f; text-decoration-color: #7f7f7f\">full.py</span></a><span style=\"color: #7f7f7f; text-decoration-color: #7f7f7f\">:</span><a href=\"file:///home/noah/projects/cuticulus/cuticulus/core/datasets/full.py#85\"><span style=\"color: #7f7f7f; text-decoration-color: #7f7f7f\">85</span></a>\n",
       "</pre>\n"
      ],
      "text/plain": [
       "\u001b[2;36m[14:36:03]\u001b[0m\u001b[2;36m \u001b[0m\u001b[34mINFO    \u001b[0m Image \u001b[1;36m631\u001b[0m is NA or not considered in this version.             \u001b]8;id=428545;file:///home/noah/projects/cuticulus/cuticulus/core/datasets/full.py\u001b\\\u001b[2mfull.py\u001b[0m\u001b]8;;\u001b\\\u001b[2m:\u001b[0m\u001b]8;id=934637;file:///home/noah/projects/cuticulus/cuticulus/core/datasets/full.py#85\u001b\\\u001b[2m85\u001b[0m\u001b]8;;\u001b\\\n"
      ]
     },
     "metadata": {},
     "output_type": "display_data"
    },
    {
     "data": {
      "text/html": [
       "<pre style=\"white-space:pre;overflow-x:auto;line-height:normal;font-family:Menlo,'DejaVu Sans Mono',consolas,'Courier New',monospace\"><span style=\"color: #7fbfbf; text-decoration-color: #7fbfbf\">[14:36:07] </span><span style=\"color: #000080; text-decoration-color: #000080\">INFO    </span> Image <span style=\"color: #008080; text-decoration-color: #008080; font-weight: bold\">697</span> is NA or not considered in this version.             <a href=\"file:///home/noah/projects/cuticulus/cuticulus/core/datasets/full.py\"><span style=\"color: #7f7f7f; text-decoration-color: #7f7f7f\">full.py</span></a><span style=\"color: #7f7f7f; text-decoration-color: #7f7f7f\">:</span><a href=\"file:///home/noah/projects/cuticulus/cuticulus/core/datasets/full.py#85\"><span style=\"color: #7f7f7f; text-decoration-color: #7f7f7f\">85</span></a>\n",
       "</pre>\n"
      ],
      "text/plain": [
       "\u001b[2;36m[14:36:07]\u001b[0m\u001b[2;36m \u001b[0m\u001b[34mINFO    \u001b[0m Image \u001b[1;36m697\u001b[0m is NA or not considered in this version.             \u001b]8;id=552826;file:///home/noah/projects/cuticulus/cuticulus/core/datasets/full.py\u001b\\\u001b[2mfull.py\u001b[0m\u001b]8;;\u001b\\\u001b[2m:\u001b[0m\u001b]8;id=324157;file:///home/noah/projects/cuticulus/cuticulus/core/datasets/full.py#85\u001b\\\u001b[2m85\u001b[0m\u001b]8;;\u001b\\\n"
      ]
     },
     "metadata": {},
     "output_type": "display_data"
    },
    {
     "data": {
      "text/html": [
       "<pre style=\"white-space:pre;overflow-x:auto;line-height:normal;font-family:Menlo,'DejaVu Sans Mono',consolas,'Courier New',monospace\"><span style=\"color: #7fbfbf; text-decoration-color: #7fbfbf\">[14:36:09] </span><span style=\"color: #000080; text-decoration-color: #000080\">INFO    </span> Image <span style=\"color: #008080; text-decoration-color: #008080; font-weight: bold\">620</span> is NA or not considered in this version.             <a href=\"file:///home/noah/projects/cuticulus/cuticulus/core/datasets/full.py\"><span style=\"color: #7f7f7f; text-decoration-color: #7f7f7f\">full.py</span></a><span style=\"color: #7f7f7f; text-decoration-color: #7f7f7f\">:</span><a href=\"file:///home/noah/projects/cuticulus/cuticulus/core/datasets/full.py#85\"><span style=\"color: #7f7f7f; text-decoration-color: #7f7f7f\">85</span></a>\n",
       "</pre>\n"
      ],
      "text/plain": [
       "\u001b[2;36m[14:36:09]\u001b[0m\u001b[2;36m \u001b[0m\u001b[34mINFO    \u001b[0m Image \u001b[1;36m620\u001b[0m is NA or not considered in this version.             \u001b]8;id=185104;file:///home/noah/projects/cuticulus/cuticulus/core/datasets/full.py\u001b\\\u001b[2mfull.py\u001b[0m\u001b]8;;\u001b\\\u001b[2m:\u001b[0m\u001b]8;id=919834;file:///home/noah/projects/cuticulus/cuticulus/core/datasets/full.py#85\u001b\\\u001b[2m85\u001b[0m\u001b]8;;\u001b\\\n"
      ]
     },
     "metadata": {},
     "output_type": "display_data"
    },
    {
     "data": {
      "text/html": [
       "<pre style=\"white-space:pre;overflow-x:auto;line-height:normal;font-family:Menlo,'DejaVu Sans Mono',consolas,'Courier New',monospace\"><span style=\"color: #7fbfbf; text-decoration-color: #7fbfbf\">[14:36:19] </span><span style=\"color: #000080; text-decoration-color: #000080\">INFO    </span> Image <span style=\"color: #008080; text-decoration-color: #008080; font-weight: bold\">328</span> is NA or not considered in this version.             <a href=\"file:///home/noah/projects/cuticulus/cuticulus/core/datasets/full.py\"><span style=\"color: #7f7f7f; text-decoration-color: #7f7f7f\">full.py</span></a><span style=\"color: #7f7f7f; text-decoration-color: #7f7f7f\">:</span><a href=\"file:///home/noah/projects/cuticulus/cuticulus/core/datasets/full.py#85\"><span style=\"color: #7f7f7f; text-decoration-color: #7f7f7f\">85</span></a>\n",
       "</pre>\n"
      ],
      "text/plain": [
       "\u001b[2;36m[14:36:19]\u001b[0m\u001b[2;36m \u001b[0m\u001b[34mINFO    \u001b[0m Image \u001b[1;36m328\u001b[0m is NA or not considered in this version.             \u001b]8;id=56331;file:///home/noah/projects/cuticulus/cuticulus/core/datasets/full.py\u001b\\\u001b[2mfull.py\u001b[0m\u001b]8;;\u001b\\\u001b[2m:\u001b[0m\u001b]8;id=624544;file:///home/noah/projects/cuticulus/cuticulus/core/datasets/full.py#85\u001b\\\u001b[2m85\u001b[0m\u001b]8;;\u001b\\\n"
      ]
     },
     "metadata": {},
     "output_type": "display_data"
    },
    {
     "data": {
      "text/html": [
       "<pre style=\"white-space:pre;overflow-x:auto;line-height:normal;font-family:Menlo,'DejaVu Sans Mono',consolas,'Courier New',monospace\"><span style=\"color: #7fbfbf; text-decoration-color: #7fbfbf\">           </span><span style=\"color: #000080; text-decoration-color: #000080\">INFO    </span> Image <span style=\"color: #008080; text-decoration-color: #008080; font-weight: bold\">602</span> is NA or not considered in this version.             <a href=\"file:///home/noah/projects/cuticulus/cuticulus/core/datasets/full.py\"><span style=\"color: #7f7f7f; text-decoration-color: #7f7f7f\">full.py</span></a><span style=\"color: #7f7f7f; text-decoration-color: #7f7f7f\">:</span><a href=\"file:///home/noah/projects/cuticulus/cuticulus/core/datasets/full.py#85\"><span style=\"color: #7f7f7f; text-decoration-color: #7f7f7f\">85</span></a>\n",
       "</pre>\n"
      ],
      "text/plain": [
       "\u001b[2;36m          \u001b[0m\u001b[2;36m \u001b[0m\u001b[34mINFO    \u001b[0m Image \u001b[1;36m602\u001b[0m is NA or not considered in this version.             \u001b]8;id=111573;file:///home/noah/projects/cuticulus/cuticulus/core/datasets/full.py\u001b\\\u001b[2mfull.py\u001b[0m\u001b]8;;\u001b\\\u001b[2m:\u001b[0m\u001b]8;id=612995;file:///home/noah/projects/cuticulus/cuticulus/core/datasets/full.py#85\u001b\\\u001b[2m85\u001b[0m\u001b]8;;\u001b\\\n"
      ]
     },
     "metadata": {},
     "output_type": "display_data"
    },
    {
     "data": {
      "text/html": [
       "<pre style=\"white-space:pre;overflow-x:auto;line-height:normal;font-family:Menlo,'DejaVu Sans Mono',consolas,'Courier New',monospace\"><span style=\"color: #7fbfbf; text-decoration-color: #7fbfbf\">[14:36:21] </span><span style=\"color: #000080; text-decoration-color: #000080\">INFO    </span> Image <span style=\"color: #008080; text-decoration-color: #008080; font-weight: bold\">181</span> is NA or not considered in this version.             <a href=\"file:///home/noah/projects/cuticulus/cuticulus/core/datasets/full.py\"><span style=\"color: #7f7f7f; text-decoration-color: #7f7f7f\">full.py</span></a><span style=\"color: #7f7f7f; text-decoration-color: #7f7f7f\">:</span><a href=\"file:///home/noah/projects/cuticulus/cuticulus/core/datasets/full.py#85\"><span style=\"color: #7f7f7f; text-decoration-color: #7f7f7f\">85</span></a>\n",
       "</pre>\n"
      ],
      "text/plain": [
       "\u001b[2;36m[14:36:21]\u001b[0m\u001b[2;36m \u001b[0m\u001b[34mINFO    \u001b[0m Image \u001b[1;36m181\u001b[0m is NA or not considered in this version.             \u001b]8;id=97535;file:///home/noah/projects/cuticulus/cuticulus/core/datasets/full.py\u001b\\\u001b[2mfull.py\u001b[0m\u001b]8;;\u001b\\\u001b[2m:\u001b[0m\u001b]8;id=266833;file:///home/noah/projects/cuticulus/cuticulus/core/datasets/full.py#85\u001b\\\u001b[2m85\u001b[0m\u001b]8;;\u001b\\\n"
      ]
     },
     "metadata": {},
     "output_type": "display_data"
    },
    {
     "data": {
      "text/html": [
       "<pre style=\"white-space:pre;overflow-x:auto;line-height:normal;font-family:Menlo,'DejaVu Sans Mono',consolas,'Courier New',monospace\"><span style=\"color: #7fbfbf; text-decoration-color: #7fbfbf\">[14:36:22] </span>Built dataset.                                                      <a href=\"file:///home/noah/projects/cuticulus/cuticulus/core/datasets/builder.py\"><span style=\"color: #7f7f7f; text-decoration-color: #7f7f7f\">builder.py</span></a><span style=\"color: #7f7f7f; text-decoration-color: #7f7f7f\">:</span><a href=\"file:///home/noah/projects/cuticulus/cuticulus/core/datasets/builder.py#104\"><span style=\"color: #7f7f7f; text-decoration-color: #7f7f7f\">104</span></a>\n",
       "</pre>\n"
      ],
      "text/plain": [
       "\u001b[2;36m[14:36:22]\u001b[0m\u001b[2;36m \u001b[0mBuilt dataset.                                                      \u001b]8;id=996773;file:///home/noah/projects/cuticulus/cuticulus/core/datasets/builder.py\u001b\\\u001b[2mbuilder.py\u001b[0m\u001b]8;;\u001b\\\u001b[2m:\u001b[0m\u001b]8;id=628025;file:///home/noah/projects/cuticulus/cuticulus/core/datasets/builder.py#104\u001b\\\u001b[2m104\u001b[0m\u001b]8;;\u001b\\\n"
      ]
     },
     "metadata": {},
     "output_type": "display_data"
    },
    {
     "data": {
      "text/html": [
       "<pre style=\"white-space:pre;overflow-x:auto;line-height:normal;font-family:Menlo,'DejaVu Sans Mono',consolas,'Courier New',monospace\"><span style=\"color: #7fbfbf; text-decoration-color: #7fbfbf\">[14:36:34] </span>Unique images considered: <span style=\"color: #008080; text-decoration-color: #008080; font-weight: bold\">2499</span>                                      <a href=\"file:///home/noah/projects/cuticulus/cuticulus/core/datasets/builder.py\"><span style=\"color: #7f7f7f; text-decoration-color: #7f7f7f\">builder.py</span></a><span style=\"color: #7f7f7f; text-decoration-color: #7f7f7f\">:</span><a href=\"file:///home/noah/projects/cuticulus/cuticulus/core/datasets/builder.py#135\"><span style=\"color: #7f7f7f; text-decoration-color: #7f7f7f\">135</span></a>\n",
       "</pre>\n"
      ],
      "text/plain": [
       "\u001b[2;36m[14:36:34]\u001b[0m\u001b[2;36m \u001b[0mUnique images considered: \u001b[1;36m2499\u001b[0m                                      \u001b]8;id=502314;file:///home/noah/projects/cuticulus/cuticulus/core/datasets/builder.py\u001b\\\u001b[2mbuilder.py\u001b[0m\u001b]8;;\u001b\\\u001b[2m:\u001b[0m\u001b]8;id=124321;file:///home/noah/projects/cuticulus/cuticulus/core/datasets/builder.py#135\u001b\\\u001b[2m135\u001b[0m\u001b]8;;\u001b\\\n"
      ]
     },
     "metadata": {},
     "output_type": "display_data"
    },
    {
     "data": {
      "text/html": [
       "<pre style=\"white-space:pre;overflow-x:auto;line-height:normal;font-family:Menlo,'DejaVu Sans Mono',consolas,'Courier New',monospace\"><span style=\"color: #7fbfbf; text-decoration-color: #7fbfbf\">           </span>Samples per class:                                                  <a href=\"file:///home/noah/projects/cuticulus/cuticulus/core/datasets/builder.py\"><span style=\"color: #7f7f7f; text-decoration-color: #7f7f7f\">builder.py</span></a><span style=\"color: #7f7f7f; text-decoration-color: #7f7f7f\">:</span><a href=\"file:///home/noah/projects/cuticulus/cuticulus/core/datasets/builder.py#128\"><span style=\"color: #7f7f7f; text-decoration-color: #7f7f7f\">128</span></a>\n",
       "</pre>\n"
      ],
      "text/plain": [
       "\u001b[2;36m          \u001b[0m\u001b[2;36m \u001b[0mSamples per class:                                                  \u001b]8;id=47034;file:///home/noah/projects/cuticulus/cuticulus/core/datasets/builder.py\u001b\\\u001b[2mbuilder.py\u001b[0m\u001b]8;;\u001b\\\u001b[2m:\u001b[0m\u001b]8;id=30305;file:///home/noah/projects/cuticulus/cuticulus/core/datasets/builder.py#128\u001b\\\u001b[2m128\u001b[0m\u001b]8;;\u001b\\\n"
      ]
     },
     "metadata": {},
     "output_type": "display_data"
    },
    {
     "data": {
      "text/html": [
       "<pre style=\"white-space:pre;overflow-x:auto;line-height:normal;font-family:Menlo,'DejaVu Sans Mono',consolas,'Courier New',monospace\"><span style=\"color: #7fbfbf; text-decoration-color: #7fbfbf\">           </span><span style=\"color: #008080; text-decoration-color: #008080; font-weight: bold\">0</span>: <span style=\"color: #008080; text-decoration-color: #008080; font-weight: bold\">1068</span>                                                             <a href=\"file:///home/noah/projects/cuticulus/cuticulus/core/datasets/builder.py\"><span style=\"color: #7f7f7f; text-decoration-color: #7f7f7f\">builder.py</span></a><span style=\"color: #7f7f7f; text-decoration-color: #7f7f7f\">:</span><a href=\"file:///home/noah/projects/cuticulus/cuticulus/core/datasets/builder.py#131\"><span style=\"color: #7f7f7f; text-decoration-color: #7f7f7f\">131</span></a>\n",
       "</pre>\n"
      ],
      "text/plain": [
       "\u001b[2;36m          \u001b[0m\u001b[2;36m \u001b[0m\u001b[1;36m0\u001b[0m: \u001b[1;36m1068\u001b[0m                                                             \u001b]8;id=215708;file:///home/noah/projects/cuticulus/cuticulus/core/datasets/builder.py\u001b\\\u001b[2mbuilder.py\u001b[0m\u001b]8;;\u001b\\\u001b[2m:\u001b[0m\u001b]8;id=242;file:///home/noah/projects/cuticulus/cuticulus/core/datasets/builder.py#131\u001b\\\u001b[2m131\u001b[0m\u001b]8;;\u001b\\\n"
      ]
     },
     "metadata": {},
     "output_type": "display_data"
    },
    {
     "data": {
      "text/html": [
       "<pre style=\"white-space:pre;overflow-x:auto;line-height:normal;font-family:Menlo,'DejaVu Sans Mono',consolas,'Courier New',monospace\"><span style=\"color: #7fbfbf; text-decoration-color: #7fbfbf\">           </span><span style=\"color: #008080; text-decoration-color: #008080; font-weight: bold\">1</span>: <span style=\"color: #008080; text-decoration-color: #008080; font-weight: bold\">1431</span>                                                             <a href=\"file:///home/noah/projects/cuticulus/cuticulus/core/datasets/builder.py\"><span style=\"color: #7f7f7f; text-decoration-color: #7f7f7f\">builder.py</span></a><span style=\"color: #7f7f7f; text-decoration-color: #7f7f7f\">:</span><a href=\"file:///home/noah/projects/cuticulus/cuticulus/core/datasets/builder.py#131\"><span style=\"color: #7f7f7f; text-decoration-color: #7f7f7f\">131</span></a>\n",
       "</pre>\n"
      ],
      "text/plain": [
       "\u001b[2;36m          \u001b[0m\u001b[2;36m \u001b[0m\u001b[1;36m1\u001b[0m: \u001b[1;36m1431\u001b[0m                                                             \u001b]8;id=352841;file:///home/noah/projects/cuticulus/cuticulus/core/datasets/builder.py\u001b\\\u001b[2mbuilder.py\u001b[0m\u001b]8;;\u001b\\\u001b[2m:\u001b[0m\u001b]8;id=69815;file:///home/noah/projects/cuticulus/cuticulus/core/datasets/builder.py#131\u001b\\\u001b[2m131\u001b[0m\u001b]8;;\u001b\\\n"
      ]
     },
     "metadata": {},
     "output_type": "display_data"
    }
   ],
   "source": [
    "ds = RoughSmoothFull(size=(512,512))"
   ]
  },
  {
   "cell_type": "code",
   "execution_count": 18,
   "metadata": {},
   "outputs": [
    {
     "data": {
      "image/png": "[encoded data removed]",
      "text/plain": [
       "<Figure size 432x288 with 2 Axes>"
      ]
     },
     "metadata": {
      "needs_background": "light"
     },
     "output_type": "display_data"
    }
   ],
   "source": [
    "# visualize a single patch\n",
    "img = ds.get_image(104)\n",
    "img = cv2.cvtColor(img, cv2.COLOR_BGR2GRAY)\n",
    "filtered = Image.fromarray(img).filter(ImageFilter.GaussianBlur(radius=3))\n",
    "\n",
    "plt.subplot(1,2,1)\n",
    "plt.imshow(img, cmap='gray')\n",
    "plt.subplot(1,2,2)\n",
    "plt.imshow(filtered, cmap='gray')\n",
    "plt.savefig('./output/gaussian.png')"
   ]
  }
 ],
 "metadata": {
  "interpreter": {
   "hash": "83a3f1314056d8a3d2a934d787f10fa94193a1b2a1fbed934908528b0af37efb"
  },
  "kernelspec": {
   "display_name": "Python 3.9.12 ('cuticulus')",
   "language": "python",
   "name": "python3"
  },
  "language_info": {
   "codemirror_mode": {
    "name": "ipython",
    "version": 3
   },
   "file_extension": ".py",
   "mimetype": "text/x-python",
   "name": "python",
   "nbconvert_exporter": "python",
   "pygments_lexer": "ipython3",
   "version": "3.9.12"
  },
  "orig_nbformat": 4
 },
 "nbformat": 4,
 "nbformat_minor": 2
}
