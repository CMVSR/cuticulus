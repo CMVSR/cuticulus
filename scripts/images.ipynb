{
 "cells": [
  {
   "cell_type": "code",
   "execution_count": 6,
   "metadata": {},
   "outputs": [],
   "source": [
    "import os\n",
    "import sys\n",
    "from pathlib import Path\n",
    "\n",
    "import numpy as np\n",
    "from PIL import Image\n",
    "\n",
    "from cuticulus.datasets import RoughSmoothFull, RoughSmoothSub"
   ]
  },
  {
   "cell_type": "code",
   "execution_count": 7,
   "metadata": {},
   "outputs": [],
   "source": [
    "# add parent folder to path\n",
    "parent_path = Path(os.getcwd()).resolve().parent.parent\n",
    "if parent_path not in sys.path:\n",
    "    sys.path.append(str(parent_path))\n"
   ]
  },
  {
   "cell_type": "code",
   "execution_count": 8,
   "metadata": {},
   "outputs": [
    {
     "data": {
      "text/html": [
       "<pre style=\"white-space:pre;overflow-x:auto;line-height:normal;font-family:Menlo,'DejaVu Sans Mono',consolas,'Courier New',monospace\"><span style=\"color: #7fbfbf; text-decoration-color: #7fbfbf\">[07:51:46] </span>Loaded labels.                                                       <a href=\"file:///home/ngardn10/projects/cuticulus/cuticulus/core/datasets/builder.py\"><span style=\"color: #7f7f7f; text-decoration-color: #7f7f7f\">builder.py</span></a><span style=\"color: #7f7f7f; text-decoration-color: #7f7f7f\">:</span><a href=\"file:///home/ngardn10/projects/cuticulus/cuticulus/core/datasets/builder.py#89\"><span style=\"color: #7f7f7f; text-decoration-color: #7f7f7f\">89</span></a>\n",
       "</pre>\n"
      ],
      "text/plain": [
       "\u001b[2;36m[07:51:46]\u001b[0m\u001b[2;36m \u001b[0mLoaded labels.                                                       \u001b]8;id=662892;file:///home/ngardn10/projects/cuticulus/cuticulus/core/datasets/builder.py\u001b\\\u001b[2mbuilder.py\u001b[0m\u001b]8;;\u001b\\\u001b[2m:\u001b[0m\u001b]8;id=117740;file:///home/ngardn10/projects/cuticulus/cuticulus/core/datasets/builder.py#89\u001b\\\u001b[2m89\u001b[0m\u001b]8;;\u001b\\\n"
      ]
     },
     "metadata": {},
     "output_type": "display_data"
    },
    {
     "data": {
      "text/html": [
       "<pre style=\"white-space:pre;overflow-x:auto;line-height:normal;font-family:Menlo,'DejaVu Sans Mono',consolas,'Courier New',monospace\"><span style=\"color: #7fbfbf; text-decoration-color: #7fbfbf\">           </span>Loaded dataset.                                                     <a href=\"file:///home/ngardn10/projects/cuticulus/cuticulus/core/datasets/builder.py\"><span style=\"color: #7f7f7f; text-decoration-color: #7f7f7f\">builder.py</span></a><span style=\"color: #7f7f7f; text-decoration-color: #7f7f7f\">:</span><a href=\"file:///home/ngardn10/projects/cuticulus/cuticulus/core/datasets/builder.py#114\"><span style=\"color: #7f7f7f; text-decoration-color: #7f7f7f\">114</span></a>\n",
       "</pre>\n"
      ],
      "text/plain": [
       "\u001b[2;36m          \u001b[0m\u001b[2;36m \u001b[0mLoaded dataset.                                                     \u001b]8;id=158474;file:///home/ngardn10/projects/cuticulus/cuticulus/core/datasets/builder.py\u001b\\\u001b[2mbuilder.py\u001b[0m\u001b]8;;\u001b\\\u001b[2m:\u001b[0m\u001b]8;id=727858;file:///home/ngardn10/projects/cuticulus/cuticulus/core/datasets/builder.py#114\u001b\\\u001b[2m114\u001b[0m\u001b]8;;\u001b\\\n"
      ]
     },
     "metadata": {},
     "output_type": "display_data"
    },
    {
     "data": {
      "text/html": [
       "<pre style=\"white-space:pre;overflow-x:auto;line-height:normal;font-family:Menlo,'DejaVu Sans Mono',consolas,'Courier New',monospace\"><span style=\"color: #7fbfbf; text-decoration-color: #7fbfbf\">           </span>Unique images considered: <span style=\"color: #008080; text-decoration-color: #008080; font-weight: bold\">2499</span>                                      <a href=\"file:///home/ngardn10/projects/cuticulus/cuticulus/core/datasets/builder.py\"><span style=\"color: #7f7f7f; text-decoration-color: #7f7f7f\">builder.py</span></a><span style=\"color: #7f7f7f; text-decoration-color: #7f7f7f\">:</span><a href=\"file:///home/ngardn10/projects/cuticulus/cuticulus/core/datasets/builder.py#135\"><span style=\"color: #7f7f7f; text-decoration-color: #7f7f7f\">135</span></a>\n",
       "</pre>\n"
      ],
      "text/plain": [
       "\u001b[2;36m          \u001b[0m\u001b[2;36m \u001b[0mUnique images considered: \u001b[1;36m2499\u001b[0m                                      \u001b]8;id=58622;file:///home/ngardn10/projects/cuticulus/cuticulus/core/datasets/builder.py\u001b\\\u001b[2mbuilder.py\u001b[0m\u001b]8;;\u001b\\\u001b[2m:\u001b[0m\u001b]8;id=631778;file:///home/ngardn10/projects/cuticulus/cuticulus/core/datasets/builder.py#135\u001b\\\u001b[2m135\u001b[0m\u001b]8;;\u001b\\\n"
      ]
     },
     "metadata": {},
     "output_type": "display_data"
    },
    {
     "data": {
      "text/html": [
       "<pre style=\"white-space:pre;overflow-x:auto;line-height:normal;font-family:Menlo,'DejaVu Sans Mono',consolas,'Courier New',monospace\"><span style=\"color: #7fbfbf; text-decoration-color: #7fbfbf\">           </span>Samples per class:                                                  <a href=\"file:///home/ngardn10/projects/cuticulus/cuticulus/core/datasets/builder.py\"><span style=\"color: #7f7f7f; text-decoration-color: #7f7f7f\">builder.py</span></a><span style=\"color: #7f7f7f; text-decoration-color: #7f7f7f\">:</span><a href=\"file:///home/ngardn10/projects/cuticulus/cuticulus/core/datasets/builder.py#128\"><span style=\"color: #7f7f7f; text-decoration-color: #7f7f7f\">128</span></a>\n",
       "</pre>\n"
      ],
      "text/plain": [
       "\u001b[2;36m          \u001b[0m\u001b[2;36m \u001b[0mSamples per class:                                                  \u001b]8;id=923717;file:///home/ngardn10/projects/cuticulus/cuticulus/core/datasets/builder.py\u001b\\\u001b[2mbuilder.py\u001b[0m\u001b]8;;\u001b\\\u001b[2m:\u001b[0m\u001b]8;id=689538;file:///home/ngardn10/projects/cuticulus/cuticulus/core/datasets/builder.py#128\u001b\\\u001b[2m128\u001b[0m\u001b]8;;\u001b\\\n"
      ]
     },
     "metadata": {},
     "output_type": "display_data"
    },
    {
     "data": {
      "text/html": [
       "<pre style=\"white-space:pre;overflow-x:auto;line-height:normal;font-family:Menlo,'DejaVu Sans Mono',consolas,'Courier New',monospace\"><span style=\"color: #7fbfbf; text-decoration-color: #7fbfbf\">           </span><span style=\"color: #008080; text-decoration-color: #008080; font-weight: bold\">0</span>: <span style=\"color: #008080; text-decoration-color: #008080; font-weight: bold\">1072</span>                                                             <a href=\"file:///home/ngardn10/projects/cuticulus/cuticulus/core/datasets/builder.py\"><span style=\"color: #7f7f7f; text-decoration-color: #7f7f7f\">builder.py</span></a><span style=\"color: #7f7f7f; text-decoration-color: #7f7f7f\">:</span><a href=\"file:///home/ngardn10/projects/cuticulus/cuticulus/core/datasets/builder.py#131\"><span style=\"color: #7f7f7f; text-decoration-color: #7f7f7f\">131</span></a>\n",
       "</pre>\n"
      ],
      "text/plain": [
       "\u001b[2;36m          \u001b[0m\u001b[2;36m \u001b[0m\u001b[1;36m0\u001b[0m: \u001b[1;36m1072\u001b[0m                                                             \u001b]8;id=349185;file:///home/ngardn10/projects/cuticulus/cuticulus/core/datasets/builder.py\u001b\\\u001b[2mbuilder.py\u001b[0m\u001b]8;;\u001b\\\u001b[2m:\u001b[0m\u001b]8;id=568270;file:///home/ngardn10/projects/cuticulus/cuticulus/core/datasets/builder.py#131\u001b\\\u001b[2m131\u001b[0m\u001b]8;;\u001b\\\n"
      ]
     },
     "metadata": {},
     "output_type": "display_data"
    },
    {
     "data": {
      "text/html": [
       "<pre style=\"white-space:pre;overflow-x:auto;line-height:normal;font-family:Menlo,'DejaVu Sans Mono',consolas,'Courier New',monospace\"><span style=\"color: #7fbfbf; text-decoration-color: #7fbfbf\">           </span><span style=\"color: #008080; text-decoration-color: #008080; font-weight: bold\">1</span>: <span style=\"color: #008080; text-decoration-color: #008080; font-weight: bold\">1427</span>                                                             <a href=\"file:///home/ngardn10/projects/cuticulus/cuticulus/core/datasets/builder.py\"><span style=\"color: #7f7f7f; text-decoration-color: #7f7f7f\">builder.py</span></a><span style=\"color: #7f7f7f; text-decoration-color: #7f7f7f\">:</span><a href=\"file:///home/ngardn10/projects/cuticulus/cuticulus/core/datasets/builder.py#131\"><span style=\"color: #7f7f7f; text-decoration-color: #7f7f7f\">131</span></a>\n",
       "</pre>\n"
      ],
      "text/plain": [
       "\u001b[2;36m          \u001b[0m\u001b[2;36m \u001b[0m\u001b[1;36m1\u001b[0m: \u001b[1;36m1427\u001b[0m                                                             \u001b]8;id=146477;file:///home/ngardn10/projects/cuticulus/cuticulus/core/datasets/builder.py\u001b\\\u001b[2mbuilder.py\u001b[0m\u001b]8;;\u001b\\\u001b[2m:\u001b[0m\u001b]8;id=923251;file:///home/ngardn10/projects/cuticulus/cuticulus/core/datasets/builder.py#131\u001b\\\u001b[2m131\u001b[0m\u001b]8;;\u001b\\\n"
      ]
     },
     "metadata": {},
     "output_type": "display_data"
    }
   ],
   "source": [
    "out_path = Path('./output/images')\n",
    "out_path.mkdir(exist_ok=True, parents=True)\n",
    "full_size = (256, 256)\n",
    "dsf = RoughSmoothFull(full_size)"
   ]
  },
  {
   "cell_type": "code",
   "execution_count": 9,
   "metadata": {},
   "outputs": [
    {
     "data": {
      "text/html": [
       "<pre style=\"white-space:pre;overflow-x:auto;line-height:normal;font-family:Menlo,'DejaVu Sans Mono',consolas,'Courier New',monospace\"><span style=\"color: #7fbfbf; text-decoration-color: #7fbfbf\">           </span>Loaded labels.                                                       <a href=\"file:///home/ngardn10/projects/cuticulus/cuticulus/core/datasets/builder.py\"><span style=\"color: #7f7f7f; text-decoration-color: #7f7f7f\">builder.py</span></a><span style=\"color: #7f7f7f; text-decoration-color: #7f7f7f\">:</span><a href=\"file:///home/ngardn10/projects/cuticulus/cuticulus/core/datasets/builder.py#89\"><span style=\"color: #7f7f7f; text-decoration-color: #7f7f7f\">89</span></a>\n",
       "</pre>\n"
      ],
      "text/plain": [
       "\u001b[2;36m          \u001b[0m\u001b[2;36m \u001b[0mLoaded labels.                                                       \u001b]8;id=556380;file:///home/ngardn10/projects/cuticulus/cuticulus/core/datasets/builder.py\u001b\\\u001b[2mbuilder.py\u001b[0m\u001b]8;;\u001b\\\u001b[2m:\u001b[0m\u001b]8;id=883612;file:///home/ngardn10/projects/cuticulus/cuticulus/core/datasets/builder.py#89\u001b\\\u001b[2m89\u001b[0m\u001b]8;;\u001b\\\n"
      ]
     },
     "metadata": {},
     "output_type": "display_data"
    },
    {
     "data": {
      "text/html": [
       "<pre style=\"white-space:pre;overflow-x:auto;line-height:normal;font-family:Menlo,'DejaVu Sans Mono',consolas,'Courier New',monospace\"><span style=\"color: #7fbfbf; text-decoration-color: #7fbfbf\">[07:51:47] </span>Loaded dataset.                                                     <a href=\"file:///home/ngardn10/projects/cuticulus/cuticulus/core/datasets/builder.py\"><span style=\"color: #7f7f7f; text-decoration-color: #7f7f7f\">builder.py</span></a><span style=\"color: #7f7f7f; text-decoration-color: #7f7f7f\">:</span><a href=\"file:///home/ngardn10/projects/cuticulus/cuticulus/core/datasets/builder.py#114\"><span style=\"color: #7f7f7f; text-decoration-color: #7f7f7f\">114</span></a>\n",
       "</pre>\n"
      ],
      "text/plain": [
       "\u001b[2;36m[07:51:47]\u001b[0m\u001b[2;36m \u001b[0mLoaded dataset.                                                     \u001b]8;id=848656;file:///home/ngardn10/projects/cuticulus/cuticulus/core/datasets/builder.py\u001b\\\u001b[2mbuilder.py\u001b[0m\u001b]8;;\u001b\\\u001b[2m:\u001b[0m\u001b]8;id=379346;file:///home/ngardn10/projects/cuticulus/cuticulus/core/datasets/builder.py#114\u001b\\\u001b[2m114\u001b[0m\u001b]8;;\u001b\\\n"
      ]
     },
     "metadata": {},
     "output_type": "display_data"
    },
    {
     "data": {
      "text/html": [
       "<pre style=\"white-space:pre;overflow-x:auto;line-height:normal;font-family:Menlo,'DejaVu Sans Mono',consolas,'Courier New',monospace\"><span style=\"color: #7fbfbf; text-decoration-color: #7fbfbf\">           </span>Unique images considered: <span style=\"color: #008080; text-decoration-color: #008080; font-weight: bold\">1766</span>                                      <a href=\"file:///home/ngardn10/projects/cuticulus/cuticulus/core/datasets/builder.py\"><span style=\"color: #7f7f7f; text-decoration-color: #7f7f7f\">builder.py</span></a><span style=\"color: #7f7f7f; text-decoration-color: #7f7f7f\">:</span><a href=\"file:///home/ngardn10/projects/cuticulus/cuticulus/core/datasets/builder.py#135\"><span style=\"color: #7f7f7f; text-decoration-color: #7f7f7f\">135</span></a>\n",
       "</pre>\n"
      ],
      "text/plain": [
       "\u001b[2;36m          \u001b[0m\u001b[2;36m \u001b[0mUnique images considered: \u001b[1;36m1766\u001b[0m                                      \u001b]8;id=944455;file:///home/ngardn10/projects/cuticulus/cuticulus/core/datasets/builder.py\u001b\\\u001b[2mbuilder.py\u001b[0m\u001b]8;;\u001b\\\u001b[2m:\u001b[0m\u001b]8;id=946753;file:///home/ngardn10/projects/cuticulus/cuticulus/core/datasets/builder.py#135\u001b\\\u001b[2m135\u001b[0m\u001b]8;;\u001b\\\n"
      ]
     },
     "metadata": {},
     "output_type": "display_data"
    },
    {
     "data": {
      "text/html": [
       "<pre style=\"white-space:pre;overflow-x:auto;line-height:normal;font-family:Menlo,'DejaVu Sans Mono',consolas,'Courier New',monospace\"><span style=\"color: #7fbfbf; text-decoration-color: #7fbfbf\">           </span>Samples per class:                                                  <a href=\"file:///home/ngardn10/projects/cuticulus/cuticulus/core/datasets/builder.py\"><span style=\"color: #7f7f7f; text-decoration-color: #7f7f7f\">builder.py</span></a><span style=\"color: #7f7f7f; text-decoration-color: #7f7f7f\">:</span><a href=\"file:///home/ngardn10/projects/cuticulus/cuticulus/core/datasets/builder.py#128\"><span style=\"color: #7f7f7f; text-decoration-color: #7f7f7f\">128</span></a>\n",
       "</pre>\n"
      ],
      "text/plain": [
       "\u001b[2;36m          \u001b[0m\u001b[2;36m \u001b[0mSamples per class:                                                  \u001b]8;id=848914;file:///home/ngardn10/projects/cuticulus/cuticulus/core/datasets/builder.py\u001b\\\u001b[2mbuilder.py\u001b[0m\u001b]8;;\u001b\\\u001b[2m:\u001b[0m\u001b]8;id=96029;file:///home/ngardn10/projects/cuticulus/cuticulus/core/datasets/builder.py#128\u001b\\\u001b[2m128\u001b[0m\u001b]8;;\u001b\\\n"
      ]
     },
     "metadata": {},
     "output_type": "display_data"
    },
    {
     "data": {
      "text/html": [
       "<pre style=\"white-space:pre;overflow-x:auto;line-height:normal;font-family:Menlo,'DejaVu Sans Mono',consolas,'Courier New',monospace\"><span style=\"color: #7fbfbf; text-decoration-color: #7fbfbf\">           </span><span style=\"color: #008080; text-decoration-color: #008080; font-weight: bold\">0</span>: <span style=\"color: #008080; text-decoration-color: #008080; font-weight: bold\">945</span>                                                              <a href=\"file:///home/ngardn10/projects/cuticulus/cuticulus/core/datasets/builder.py\"><span style=\"color: #7f7f7f; text-decoration-color: #7f7f7f\">builder.py</span></a><span style=\"color: #7f7f7f; text-decoration-color: #7f7f7f\">:</span><a href=\"file:///home/ngardn10/projects/cuticulus/cuticulus/core/datasets/builder.py#131\"><span style=\"color: #7f7f7f; text-decoration-color: #7f7f7f\">131</span></a>\n",
       "</pre>\n"
      ],
      "text/plain": [
       "\u001b[2;36m          \u001b[0m\u001b[2;36m \u001b[0m\u001b[1;36m0\u001b[0m: \u001b[1;36m945\u001b[0m                                                              \u001b]8;id=495885;file:///home/ngardn10/projects/cuticulus/cuticulus/core/datasets/builder.py\u001b\\\u001b[2mbuilder.py\u001b[0m\u001b]8;;\u001b\\\u001b[2m:\u001b[0m\u001b]8;id=371629;file:///home/ngardn10/projects/cuticulus/cuticulus/core/datasets/builder.py#131\u001b\\\u001b[2m131\u001b[0m\u001b]8;;\u001b\\\n"
      ]
     },
     "metadata": {},
     "output_type": "display_data"
    },
    {
     "data": {
      "text/html": [
       "<pre style=\"white-space:pre;overflow-x:auto;line-height:normal;font-family:Menlo,'DejaVu Sans Mono',consolas,'Courier New',monospace\"><span style=\"color: #7fbfbf; text-decoration-color: #7fbfbf\">           </span><span style=\"color: #008080; text-decoration-color: #008080; font-weight: bold\">1</span>: <span style=\"color: #008080; text-decoration-color: #008080; font-weight: bold\">821</span>                                                              <a href=\"file:///home/ngardn10/projects/cuticulus/cuticulus/core/datasets/builder.py\"><span style=\"color: #7f7f7f; text-decoration-color: #7f7f7f\">builder.py</span></a><span style=\"color: #7f7f7f; text-decoration-color: #7f7f7f\">:</span><a href=\"file:///home/ngardn10/projects/cuticulus/cuticulus/core/datasets/builder.py#131\"><span style=\"color: #7f7f7f; text-decoration-color: #7f7f7f\">131</span></a>\n",
       "</pre>\n"
      ],
      "text/plain": [
       "\u001b[2;36m          \u001b[0m\u001b[2;36m \u001b[0m\u001b[1;36m1\u001b[0m: \u001b[1;36m821\u001b[0m                                                              \u001b]8;id=270373;file:///home/ngardn10/projects/cuticulus/cuticulus/core/datasets/builder.py\u001b\\\u001b[2mbuilder.py\u001b[0m\u001b]8;;\u001b\\\u001b[2m:\u001b[0m\u001b]8;id=978504;file:///home/ngardn10/projects/cuticulus/cuticulus/core/datasets/builder.py#131\u001b\\\u001b[2m131\u001b[0m\u001b]8;;\u001b\\\n"
      ]
     },
     "metadata": {},
     "output_type": "display_data"
    }
   ],
   "source": [
    "patch_size = (32, 32)\n",
    "dss = RoughSmoothSub(\n",
    "    size=patch_size,\n",
    ")"
   ]
  },
  {
   "cell_type": "code",
   "execution_count": 1,
   "metadata": {},
   "outputs": [
    {
     "ename": "NameError",
     "evalue": "name 'out_path' is not defined",
     "output_type": "error",
     "traceback": [
      "\u001b[0;31m---------------------------------------------------------------------------\u001b[0m",
      "\u001b[0;31mNameError\u001b[0m                                 Traceback (most recent call last)",
      "\u001b[1;32m/home/ngardn10/projects/cuticulus/scripts/images.ipynb Cell 5'\u001b[0m in \u001b[0;36m<cell line: 5>\u001b[0;34m()\u001b[0m\n\u001b[1;32m      <a href='vscode-notebook-cell://ssh-remote%2Bschool/home/ngardn10/projects/cuticulus/scripts/images.ipynb#ch0000004vscode-remote?line=0'>1</a>\u001b[0m \u001b[39mdef\u001b[39;00m \u001b[39mcollages\u001b[39m(\n\u001b[1;32m      <a href='vscode-notebook-cell://ssh-remote%2Bschool/home/ngardn10/projects/cuticulus/scripts/images.ipynb#ch0000004vscode-remote?line=1'>2</a>\u001b[0m     labels,\n\u001b[1;32m      <a href='vscode-notebook-cell://ssh-remote%2Bschool/home/ngardn10/projects/cuticulus/scripts/images.ipynb#ch0000004vscode-remote?line=2'>3</a>\u001b[0m     images,\n\u001b[1;32m      <a href='vscode-notebook-cell://ssh-remote%2Bschool/home/ngardn10/projects/cuticulus/scripts/images.ipynb#ch0000004vscode-remote?line=3'>4</a>\u001b[0m     name,\n\u001b[0;32m----> <a href='vscode-notebook-cell://ssh-remote%2Bschool/home/ngardn10/projects/cuticulus/scripts/images.ipynb#ch0000004vscode-remote?line=4'>5</a>\u001b[0m     out_path\u001b[39m=\u001b[39mout_path,\n\u001b[1;32m      <a href='vscode-notebook-cell://ssh-remote%2Bschool/home/ngardn10/projects/cuticulus/scripts/images.ipynb#ch0000004vscode-remote?line=5'>6</a>\u001b[0m     rows\u001b[39m=\u001b[39m\u001b[39m3\u001b[39m,\n\u001b[1;32m      <a href='vscode-notebook-cell://ssh-remote%2Bschool/home/ngardn10/projects/cuticulus/scripts/images.ipynb#ch0000004vscode-remote?line=6'>7</a>\u001b[0m     cols\u001b[39m=\u001b[39m\u001b[39m5\u001b[39m,\n\u001b[1;32m      <a href='vscode-notebook-cell://ssh-remote%2Bschool/home/ngardn10/projects/cuticulus/scripts/images.ipynb#ch0000004vscode-remote?line=7'>8</a>\u001b[0m ):\n\u001b[1;32m      <a href='vscode-notebook-cell://ssh-remote%2Bschool/home/ngardn10/projects/cuticulus/scripts/images.ipynb#ch0000004vscode-remote?line=8'>9</a>\u001b[0m     label_map \u001b[39m=\u001b[39m {\n\u001b[1;32m     <a href='vscode-notebook-cell://ssh-remote%2Bschool/home/ngardn10/projects/cuticulus/scripts/images.ipynb#ch0000004vscode-remote?line=9'>10</a>\u001b[0m         \u001b[39m0\u001b[39m: \u001b[39m'\u001b[39m\u001b[39mrough\u001b[39m\u001b[39m'\u001b[39m,\n\u001b[1;32m     <a href='vscode-notebook-cell://ssh-remote%2Bschool/home/ngardn10/projects/cuticulus/scripts/images.ipynb#ch0000004vscode-remote?line=10'>11</a>\u001b[0m         \u001b[39m1\u001b[39m: \u001b[39m'\u001b[39m\u001b[39msmooth\u001b[39m\u001b[39m'\u001b[39m,\n\u001b[1;32m     <a href='vscode-notebook-cell://ssh-remote%2Bschool/home/ngardn10/projects/cuticulus/scripts/images.ipynb#ch0000004vscode-remote?line=11'>12</a>\u001b[0m     }\n\u001b[1;32m     <a href='vscode-notebook-cell://ssh-remote%2Bschool/home/ngardn10/projects/cuticulus/scripts/images.ipynb#ch0000004vscode-remote?line=12'>13</a>\u001b[0m     size \u001b[39m=\u001b[39m images[\u001b[39m0\u001b[39m]\u001b[39m.\u001b[39mshape[:\u001b[39m2\u001b[39m]\n",
      "\u001b[0;31mNameError\u001b[0m: name 'out_path' is not defined"
     ]
    }
   ],
   "source": [
    "def collages(\n",
    "    labels,\n",
    "    images,\n",
    "    name,\n",
    "    out_path=out_path,\n",
    "    rows=3,\n",
    "    cols=5,\n",
    "):\n",
    "    label_map = {\n",
    "        0: 'rough',\n",
    "        1: 'smooth',\n",
    "    }\n",
    "    size = images[0].shape[:2]\n",
    "    for label in [0, 1]:\n",
    "        idx = np.random.choice(np.where(labels == label)[0], size=rows * cols, replace=False)\n",
    "        \n",
    "        # create a collage of images\n",
    "        collage = Image.new('RGB', (size[1] * cols, size[0] * rows))\n",
    "        for i, idx in enumerate(idx):\n",
    "            image = Image.fromarray(images[idx])\n",
    "            collage.paste(image, (size[1] * (i % cols), size[0] * (i // cols)))\n",
    "            \n",
    "        # scale down the collage\n",
    "        collage = collage.resize((size[1] * cols // 2, size[0] * rows // 2))\n",
    "        collage.save('{0}/{1}_{2}_collage.png'.format(\n",
    "            out_path,\n",
    "            label_map[label],\n",
    "            name,\n",
    "        ))\n",
    "        \n",
    "collages(dsf.labels, dsf.images, 'full')\n",
    "collages(\n",
    "    dss.labels,\n",
    "    dss.images,\n",
    "    name='sub',\n",
    "    rows=10,\n",
    "    cols=10,\n",
    ")"
   ]
  }
 ],
 "metadata": {
  "interpreter": {
   "hash": "db4fa47e449f269b6e53f5916110b6e3a48885985b5ef8238ccf2bd8c2aa5784"
  },
  "kernelspec": {
   "display_name": "Python 3.9.10 ('cuticulus')",
   "language": "python",
   "name": "python3"
  },
  "language_info": {
   "codemirror_mode": {
    "name": "ipython",
    "version": 3
   },
   "file_extension": ".py",
   "mimetype": "text/x-python",
   "name": "python",
   "nbconvert_exporter": "python",
   "pygments_lexer": "ipython3",
   "version": "3.9.10"
  },
  "orig_nbformat": 4
 },
 "nbformat": 4,
 "nbformat_minor": 2
}
