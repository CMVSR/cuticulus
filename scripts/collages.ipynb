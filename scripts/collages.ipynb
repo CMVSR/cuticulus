{
 "cells": [
  {
   "cell_type": "code",
   "execution_count": 1,
   "metadata": {},
   "outputs": [
    {
     "data": {
      "text/html": [
       "<pre style=\"white-space:pre;overflow-x:auto;line-height:normal;font-family:Menlo,'DejaVu Sans Mono',consolas,'Courier New',monospace\"><span style=\"color: #7fbfbf; text-decoration-color: #7fbfbf\">[14:55:31] </span>LOG LEVEL: <span style=\"color: #008000; text-decoration-color: #008000\">\"INFO\"</span>                                                    <a href=\"file:///home/noah/projects/cuticulus/cuticulus/console.py\"><span style=\"color: #7f7f7f; text-decoration-color: #7f7f7f\">console.py</span></a><span style=\"color: #7f7f7f; text-decoration-color: #7f7f7f\">:</span><a href=\"file:///home/noah/projects/cuticulus/cuticulus/console.py#21\"><span style=\"color: #7f7f7f; text-decoration-color: #7f7f7f\">21</span></a>\n",
       "</pre>\n"
      ],
      "text/plain": [
       "\u001b[2;36m[14:55:31]\u001b[0m\u001b[2;36m \u001b[0mLOG LEVEL: \u001b[32m\"INFO\"\u001b[0m                                                    \u001b]8;id=838704;file:///home/noah/projects/cuticulus/cuticulus/console.py\u001b\\\u001b[2mconsole.py\u001b[0m\u001b]8;;\u001b\\\u001b[2m:\u001b[0m\u001b]8;id=789571;file:///home/noah/projects/cuticulus/cuticulus/console.py#21\u001b\\\u001b[2m21\u001b[0m\u001b]8;;\u001b\\\n"
      ]
     },
     "metadata": {},
     "output_type": "display_data"
    }
   ],
   "source": [
    "import os\n",
    "import sys\n",
    "from pathlib import Path\n",
    "\n",
    "from cuticulus.datasets import RoughSmoothSub\n",
    "from cuticulus.core.collages import build_collage"
   ]
  },
  {
   "cell_type": "code",
   "execution_count": 2,
   "metadata": {},
   "outputs": [],
   "source": [
    "# add parent folder to path\n",
    "parent_path = Path(os.getcwd()).resolve().parent.parent\n",
    "if parent_path not in sys.path:\n",
    "    sys.path.append(str(parent_path))\n",
    "out_path = Path('./output/images')\n",
    "out_path.mkdir(exist_ok=True, parents=True)"
   ]
  },
  {
   "cell_type": "code",
   "execution_count": 3,
   "metadata": {},
   "outputs": [],
   "source": [
    "# full_size = (256, 256)\n",
    "# dsf = RoughSmoothFull(full_size)\n",
    "# collages(dsf.labels, dsf.images, 'full')"
   ]
  },
  {
   "cell_type": "code",
   "execution_count": 4,
   "metadata": {},
   "outputs": [
    {
     "data": {
      "text/html": [
       "<pre style=\"white-space:pre;overflow-x:auto;line-height:normal;font-family:Menlo,'DejaVu Sans Mono',consolas,'Courier New',monospace\"><span style=\"color: #7fbfbf; text-decoration-color: #7fbfbf\">[14:55:35] </span>Loaded labels.                                                       <a href=\"file:///home/noah/projects/cuticulus/cuticulus/core/datasets/builder.py\"><span style=\"color: #7f7f7f; text-decoration-color: #7f7f7f\">builder.py</span></a><span style=\"color: #7f7f7f; text-decoration-color: #7f7f7f\">:</span><a href=\"file:///home/noah/projects/cuticulus/cuticulus/core/datasets/builder.py#89\"><span style=\"color: #7f7f7f; text-decoration-color: #7f7f7f\">89</span></a>\n",
       "</pre>\n"
      ],
      "text/plain": [
       "\u001b[2;36m[14:55:35]\u001b[0m\u001b[2;36m \u001b[0mLoaded labels.                                                       \u001b]8;id=36303;file:///home/noah/projects/cuticulus/cuticulus/core/datasets/builder.py\u001b\\\u001b[2mbuilder.py\u001b[0m\u001b]8;;\u001b\\\u001b[2m:\u001b[0m\u001b]8;id=881672;file:///home/noah/projects/cuticulus/cuticulus/core/datasets/builder.py#89\u001b\\\u001b[2m89\u001b[0m\u001b]8;;\u001b\\\n"
      ]
     },
     "metadata": {},
     "output_type": "display_data"
    },
    {
     "data": {
      "text/html": [
       "<pre style=\"white-space:pre;overflow-x:auto;line-height:normal;font-family:Menlo,'DejaVu Sans Mono',consolas,'Courier New',monospace\"><span style=\"color: #7fbfbf; text-decoration-color: #7fbfbf\">           </span>Loaded dataset.                                                     <a href=\"file:///home/noah/projects/cuticulus/cuticulus/core/datasets/builder.py\"><span style=\"color: #7f7f7f; text-decoration-color: #7f7f7f\">builder.py</span></a><span style=\"color: #7f7f7f; text-decoration-color: #7f7f7f\">:</span><a href=\"file:///home/noah/projects/cuticulus/cuticulus/core/datasets/builder.py#114\"><span style=\"color: #7f7f7f; text-decoration-color: #7f7f7f\">114</span></a>\n",
       "</pre>\n"
      ],
      "text/plain": [
       "\u001b[2;36m          \u001b[0m\u001b[2;36m \u001b[0mLoaded dataset.                                                     \u001b]8;id=147175;file:///home/noah/projects/cuticulus/cuticulus/core/datasets/builder.py\u001b\\\u001b[2mbuilder.py\u001b[0m\u001b]8;;\u001b\\\u001b[2m:\u001b[0m\u001b]8;id=73470;file:///home/noah/projects/cuticulus/cuticulus/core/datasets/builder.py#114\u001b\\\u001b[2m114\u001b[0m\u001b]8;;\u001b\\\n"
      ]
     },
     "metadata": {},
     "output_type": "display_data"
    },
    {
     "data": {
      "text/html": [
       "<pre style=\"white-space:pre;overflow-x:auto;line-height:normal;font-family:Menlo,'DejaVu Sans Mono',consolas,'Courier New',monospace\"><span style=\"color: #7fbfbf; text-decoration-color: #7fbfbf\">           </span>Unique images considered: <span style=\"color: #008080; text-decoration-color: #008080; font-weight: bold\">1766</span>                                      <a href=\"file:///home/noah/projects/cuticulus/cuticulus/core/datasets/builder.py\"><span style=\"color: #7f7f7f; text-decoration-color: #7f7f7f\">builder.py</span></a><span style=\"color: #7f7f7f; text-decoration-color: #7f7f7f\">:</span><a href=\"file:///home/noah/projects/cuticulus/cuticulus/core/datasets/builder.py#135\"><span style=\"color: #7f7f7f; text-decoration-color: #7f7f7f\">135</span></a>\n",
       "</pre>\n"
      ],
      "text/plain": [
       "\u001b[2;36m          \u001b[0m\u001b[2;36m \u001b[0mUnique images considered: \u001b[1;36m1766\u001b[0m                                      \u001b]8;id=770285;file:///home/noah/projects/cuticulus/cuticulus/core/datasets/builder.py\u001b\\\u001b[2mbuilder.py\u001b[0m\u001b]8;;\u001b\\\u001b[2m:\u001b[0m\u001b]8;id=651064;file:///home/noah/projects/cuticulus/cuticulus/core/datasets/builder.py#135\u001b\\\u001b[2m135\u001b[0m\u001b]8;;\u001b\\\n"
      ]
     },
     "metadata": {},
     "output_type": "display_data"
    },
    {
     "data": {
      "text/html": [
       "<pre style=\"white-space:pre;overflow-x:auto;line-height:normal;font-family:Menlo,'DejaVu Sans Mono',consolas,'Courier New',monospace\"><span style=\"color: #7fbfbf; text-decoration-color: #7fbfbf\">           </span>Samples per class:                                                  <a href=\"file:///home/noah/projects/cuticulus/cuticulus/core/datasets/builder.py\"><span style=\"color: #7f7f7f; text-decoration-color: #7f7f7f\">builder.py</span></a><span style=\"color: #7f7f7f; text-decoration-color: #7f7f7f\">:</span><a href=\"file:///home/noah/projects/cuticulus/cuticulus/core/datasets/builder.py#128\"><span style=\"color: #7f7f7f; text-decoration-color: #7f7f7f\">128</span></a>\n",
       "</pre>\n"
      ],
      "text/plain": [
       "\u001b[2;36m          \u001b[0m\u001b[2;36m \u001b[0mSamples per class:                                                  \u001b]8;id=27082;file:///home/noah/projects/cuticulus/cuticulus/core/datasets/builder.py\u001b\\\u001b[2mbuilder.py\u001b[0m\u001b]8;;\u001b\\\u001b[2m:\u001b[0m\u001b]8;id=493152;file:///home/noah/projects/cuticulus/cuticulus/core/datasets/builder.py#128\u001b\\\u001b[2m128\u001b[0m\u001b]8;;\u001b\\\n"
      ]
     },
     "metadata": {},
     "output_type": "display_data"
    },
    {
     "data": {
      "text/html": [
       "<pre style=\"white-space:pre;overflow-x:auto;line-height:normal;font-family:Menlo,'DejaVu Sans Mono',consolas,'Courier New',monospace\"><span style=\"color: #7fbfbf; text-decoration-color: #7fbfbf\">           </span><span style=\"color: #008080; text-decoration-color: #008080; font-weight: bold\">0</span>: <span style=\"color: #008080; text-decoration-color: #008080; font-weight: bold\">867</span>                                                              <a href=\"file:///home/noah/projects/cuticulus/cuticulus/core/datasets/builder.py\"><span style=\"color: #7f7f7f; text-decoration-color: #7f7f7f\">builder.py</span></a><span style=\"color: #7f7f7f; text-decoration-color: #7f7f7f\">:</span><a href=\"file:///home/noah/projects/cuticulus/cuticulus/core/datasets/builder.py#131\"><span style=\"color: #7f7f7f; text-decoration-color: #7f7f7f\">131</span></a>\n",
       "</pre>\n"
      ],
      "text/plain": [
       "\u001b[2;36m          \u001b[0m\u001b[2;36m \u001b[0m\u001b[1;36m0\u001b[0m: \u001b[1;36m867\u001b[0m                                                              \u001b]8;id=731578;file:///home/noah/projects/cuticulus/cuticulus/core/datasets/builder.py\u001b\\\u001b[2mbuilder.py\u001b[0m\u001b]8;;\u001b\\\u001b[2m:\u001b[0m\u001b]8;id=506539;file:///home/noah/projects/cuticulus/cuticulus/core/datasets/builder.py#131\u001b\\\u001b[2m131\u001b[0m\u001b]8;;\u001b\\\n"
      ]
     },
     "metadata": {},
     "output_type": "display_data"
    },
    {
     "data": {
      "text/html": [
       "<pre style=\"white-space:pre;overflow-x:auto;line-height:normal;font-family:Menlo,'DejaVu Sans Mono',consolas,'Courier New',monospace\"><span style=\"color: #7fbfbf; text-decoration-color: #7fbfbf\">           </span><span style=\"color: #008080; text-decoration-color: #008080; font-weight: bold\">1</span>: <span style=\"color: #008080; text-decoration-color: #008080; font-weight: bold\">899</span>                                                              <a href=\"file:///home/noah/projects/cuticulus/cuticulus/core/datasets/builder.py\"><span style=\"color: #7f7f7f; text-decoration-color: #7f7f7f\">builder.py</span></a><span style=\"color: #7f7f7f; text-decoration-color: #7f7f7f\">:</span><a href=\"file:///home/noah/projects/cuticulus/cuticulus/core/datasets/builder.py#131\"><span style=\"color: #7f7f7f; text-decoration-color: #7f7f7f\">131</span></a>\n",
       "</pre>\n"
      ],
      "text/plain": [
       "\u001b[2;36m          \u001b[0m\u001b[2;36m \u001b[0m\u001b[1;36m1\u001b[0m: \u001b[1;36m899\u001b[0m                                                              \u001b]8;id=381428;file:///home/noah/projects/cuticulus/cuticulus/core/datasets/builder.py\u001b\\\u001b[2mbuilder.py\u001b[0m\u001b]8;;\u001b\\\u001b[2m:\u001b[0m\u001b]8;id=891427;file:///home/noah/projects/cuticulus/cuticulus/core/datasets/builder.py#131\u001b\\\u001b[2m131\u001b[0m\u001b]8;;\u001b\\\n"
      ]
     },
     "metadata": {},
     "output_type": "display_data"
    }
   ],
   "source": [
    "patch_size = (32, 32)\n",
    "dss = RoughSmoothSub(\n",
    "    size=patch_size,\n",
    ")\n",
    "build_collage(\n",
    "    dss.labels,\n",
    "    dss.images,\n",
    "    name='sub',\n",
    "    rows=20,\n",
    "    cols=20,\n",
    ")"
   ]
  }
 ],
 "metadata": {
  "interpreter": {
   "hash": "83a3f1314056d8a3d2a934d787f10fa94193a1b2a1fbed934908528b0af37efb"
  },
  "kernelspec": {
   "display_name": "Python 3.9.12 ('cuticulus')",
   "language": "python",
   "name": "python3"
  },
  "language_info": {
   "codemirror_mode": {
    "name": "ipython",
    "version": 3
   },
   "file_extension": ".py",
   "mimetype": "text/x-python",
   "name": "python",
   "nbconvert_exporter": "python",
   "pygments_lexer": "ipython3",
   "version": "3.9.12"
  },
  "orig_nbformat": 4
 },
 "nbformat": 4,
 "nbformat_minor": 2
}
