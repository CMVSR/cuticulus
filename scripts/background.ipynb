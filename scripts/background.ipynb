{
 "cells": [
  {
   "cell_type": "code",
   "execution_count": 44,
   "metadata": {},
   "outputs": [],
   "source": [
    "import time\n",
    "import json\n",
    "from copy import deepcopy\n",
    "from pathlib import Path\n",
    "\n",
    "import torch\n",
    "import numpy as np\n",
    "\n",
    "from cuticulus.datasets import BackgroundSub\n",
    "from cuticulus.mlutils.torch import TorchDS, train_model, test_model\n",
    "\n",
    "import matplotlib.pyplot as plt\n",
    "plt.style.use('classic')\n",
    "%matplotlib inline\n",
    "\n",
    "import seaborn as sns\n",
    "sns.set()\n",
    "\n",
    "from notebook.services.config import ConfigManager\n",
    "cm = ConfigManager().update('notebook', {'limit_output': 10})\n"
   ]
  },
  {
   "cell_type": "code",
   "execution_count": 20,
   "metadata": {},
   "outputs": [],
   "source": [
    "if not Path('output').exists():\n",
    "    Path('output').mkdir(parents=True)"
   ]
  },
  {
   "cell_type": "code",
   "execution_count": 21,
   "metadata": {},
   "outputs": [],
   "source": [
    "device = torch.device('cuda:0')\n",
    "device2 = torch.device('cuda:1')"
   ]
  },
  {
   "cell_type": "code",
   "execution_count": 22,
   "metadata": {},
   "outputs": [
    {
     "data": {
      "text/html": [
       "<pre style=\"white-space:pre;overflow-x:auto;line-height:normal;font-family:Menlo,'DejaVu Sans Mono',consolas,'Courier New',monospace\"><span style=\"color: #7fbfbf; text-decoration-color: #7fbfbf\">[14:39:52] </span>Building labels.                                                     <a href=\"file:///home/ngardn10/projects/cuticulus/cuticulus/core/datasets/builder.py\"><span style=\"color: #7f7f7f; text-decoration-color: #7f7f7f\">builder.py</span></a><span style=\"color: #7f7f7f; text-decoration-color: #7f7f7f\">:</span><a href=\"file:///home/ngardn10/projects/cuticulus/cuticulus/core/datasets/builder.py#81\"><span style=\"color: #7f7f7f; text-decoration-color: #7f7f7f\">81</span></a>\n",
       "</pre>\n"
      ],
      "text/plain": [
       "\u001b[2;36m[14:39:52]\u001b[0m\u001b[2;36m \u001b[0mBuilding labels.                                                     \u001b]8;id=981316;file:///home/ngardn10/projects/cuticulus/cuticulus/core/datasets/builder.py\u001b\\\u001b[2mbuilder.py\u001b[0m\u001b]8;;\u001b\\\u001b[2m:\u001b[0m\u001b]8;id=207322;file:///home/ngardn10/projects/cuticulus/cuticulus/core/datasets/builder.py#81\u001b\\\u001b[2m81\u001b[0m\u001b]8;;\u001b\\\n"
      ]
     },
     "metadata": {},
     "output_type": "display_data"
    },
    {
     "data": {
      "text/html": [
       "<pre style=\"white-space:pre;overflow-x:auto;line-height:normal;font-family:Menlo,'DejaVu Sans Mono',consolas,'Courier New',monospace\"><span style=\"color: #7fbfbf; text-decoration-color: #7fbfbf\">[14:39:53] </span>Built labels.                                                        <a href=\"file:///home/ngardn10/projects/cuticulus/cuticulus/core/datasets/builder.py\"><span style=\"color: #7f7f7f; text-decoration-color: #7f7f7f\">builder.py</span></a><span style=\"color: #7f7f7f; text-decoration-color: #7f7f7f\">:</span><a href=\"file:///home/ngardn10/projects/cuticulus/cuticulus/core/datasets/builder.py#83\"><span style=\"color: #7f7f7f; text-decoration-color: #7f7f7f\">83</span></a>\n",
       "</pre>\n"
      ],
      "text/plain": [
       "\u001b[2;36m[14:39:53]\u001b[0m\u001b[2;36m \u001b[0mBuilt labels.                                                        \u001b]8;id=311881;file:///home/ngardn10/projects/cuticulus/cuticulus/core/datasets/builder.py\u001b\\\u001b[2mbuilder.py\u001b[0m\u001b]8;;\u001b\\\u001b[2m:\u001b[0m\u001b]8;id=500120;file:///home/ngardn10/projects/cuticulus/cuticulus/core/datasets/builder.py#83\u001b\\\u001b[2m83\u001b[0m\u001b]8;;\u001b\\\n"
      ]
     },
     "metadata": {},
     "output_type": "display_data"
    },
    {
     "data": {
      "text/html": [
       "<pre style=\"white-space:pre;overflow-x:auto;line-height:normal;font-family:Menlo,'DejaVu Sans Mono',consolas,'Courier New',monospace\"><span style=\"color: #7fbfbf; text-decoration-color: #7fbfbf\">           </span>Building dataset.                                                    <a href=\"file:///home/ngardn10/projects/cuticulus/cuticulus/core/datasets/builder.py\"><span style=\"color: #7f7f7f; text-decoration-color: #7f7f7f\">builder.py</span></a><span style=\"color: #7f7f7f; text-decoration-color: #7f7f7f\">:</span><a href=\"file:///home/ngardn10/projects/cuticulus/cuticulus/core/datasets/builder.py#99\"><span style=\"color: #7f7f7f; text-decoration-color: #7f7f7f\">99</span></a>\n",
       "</pre>\n"
      ],
      "text/plain": [
       "\u001b[2;36m          \u001b[0m\u001b[2;36m \u001b[0mBuilding dataset.                                                    \u001b]8;id=299148;file:///home/ngardn10/projects/cuticulus/cuticulus/core/datasets/builder.py\u001b\\\u001b[2mbuilder.py\u001b[0m\u001b]8;;\u001b\\\u001b[2m:\u001b[0m\u001b]8;id=820637;file:///home/ngardn10/projects/cuticulus/cuticulus/core/datasets/builder.py#99\u001b\\\u001b[2m99\u001b[0m\u001b]8;;\u001b\\\n"
      ]
     },
     "metadata": {},
     "output_type": "display_data"
    },
    {
     "data": {
      "text/html": [
       "<pre style=\"white-space:pre;overflow-x:auto;line-height:normal;font-family:Menlo,'DejaVu Sans Mono',consolas,'Courier New',monospace\"><span style=\"color: #7fbfbf; text-decoration-color: #7fbfbf\">[14:39:54] </span><span style=\"color: #000080; text-decoration-color: #000080\">INFO    </span> Image <span style=\"color: #008080; text-decoration-color: #008080; font-weight: bold\">58</span> is NA or not considered in this version.              <a href=\"file:///home/ngardn10/projects/cuticulus/cuticulus/core/datasets/sub.py\"><span style=\"color: #7f7f7f; text-decoration-color: #7f7f7f\">sub.py</span></a><span style=\"color: #7f7f7f; text-decoration-color: #7f7f7f\">:</span><a href=\"file:///home/ngardn10/projects/cuticulus/cuticulus/core/datasets/sub.py#184\"><span style=\"color: #7f7f7f; text-decoration-color: #7f7f7f\">184</span></a>\n",
       "</pre>\n"
      ],
      "text/plain": [
       "\u001b[2;36m[14:39:54]\u001b[0m\u001b[2;36m \u001b[0m\u001b[34mINFO    \u001b[0m Image \u001b[1;36m58\u001b[0m is NA or not considered in this version.              \u001b]8;id=287882;file:///home/ngardn10/projects/cuticulus/cuticulus/core/datasets/sub.py\u001b\\\u001b[2msub.py\u001b[0m\u001b]8;;\u001b\\\u001b[2m:\u001b[0m\u001b]8;id=169394;file:///home/ngardn10/projects/cuticulus/cuticulus/core/datasets/sub.py#184\u001b\\\u001b[2m184\u001b[0m\u001b]8;;\u001b\\\n"
      ]
     },
     "metadata": {},
     "output_type": "display_data"
    },
    {
     "data": {
      "text/html": [
       "<pre style=\"white-space:pre;overflow-x:auto;line-height:normal;font-family:Menlo,'DejaVu Sans Mono',consolas,'Courier New',monospace\"><span style=\"color: #7fbfbf; text-decoration-color: #7fbfbf\">[14:39:55] </span><span style=\"color: #000080; text-decoration-color: #000080\">INFO    </span> Image <span style=\"color: #008080; text-decoration-color: #008080; font-weight: bold\">14</span> is NA or not considered in this version.              <a href=\"file:///home/ngardn10/projects/cuticulus/cuticulus/core/datasets/sub.py\"><span style=\"color: #7f7f7f; text-decoration-color: #7f7f7f\">sub.py</span></a><span style=\"color: #7f7f7f; text-decoration-color: #7f7f7f\">:</span><a href=\"file:///home/ngardn10/projects/cuticulus/cuticulus/core/datasets/sub.py#184\"><span style=\"color: #7f7f7f; text-decoration-color: #7f7f7f\">184</span></a>\n",
       "</pre>\n"
      ],
      "text/plain": [
       "\u001b[2;36m[14:39:55]\u001b[0m\u001b[2;36m \u001b[0m\u001b[34mINFO    \u001b[0m Image \u001b[1;36m14\u001b[0m is NA or not considered in this version.              \u001b]8;id=823189;file:///home/ngardn10/projects/cuticulus/cuticulus/core/datasets/sub.py\u001b\\\u001b[2msub.py\u001b[0m\u001b]8;;\u001b\\\u001b[2m:\u001b[0m\u001b]8;id=973248;file:///home/ngardn10/projects/cuticulus/cuticulus/core/datasets/sub.py#184\u001b\\\u001b[2m184\u001b[0m\u001b]8;;\u001b\\\n"
      ]
     },
     "metadata": {},
     "output_type": "display_data"
    },
    {
     "data": {
      "text/html": [
       "<pre style=\"white-space:pre;overflow-x:auto;line-height:normal;font-family:Menlo,'DejaVu Sans Mono',consolas,'Courier New',monospace\"><span style=\"color: #7fbfbf; text-decoration-color: #7fbfbf\">           </span><span style=\"color: #000080; text-decoration-color: #000080\">INFO    </span> Image <span style=\"color: #008080; text-decoration-color: #008080; font-weight: bold\">53</span> is NA or not considered in this version.              <a href=\"file:///home/ngardn10/projects/cuticulus/cuticulus/core/datasets/sub.py\"><span style=\"color: #7f7f7f; text-decoration-color: #7f7f7f\">sub.py</span></a><span style=\"color: #7f7f7f; text-decoration-color: #7f7f7f\">:</span><a href=\"file:///home/ngardn10/projects/cuticulus/cuticulus/core/datasets/sub.py#184\"><span style=\"color: #7f7f7f; text-decoration-color: #7f7f7f\">184</span></a>\n",
       "</pre>\n"
      ],
      "text/plain": [
       "\u001b[2;36m          \u001b[0m\u001b[2;36m \u001b[0m\u001b[34mINFO    \u001b[0m Image \u001b[1;36m53\u001b[0m is NA or not considered in this version.              \u001b]8;id=758559;file:///home/ngardn10/projects/cuticulus/cuticulus/core/datasets/sub.py\u001b\\\u001b[2msub.py\u001b[0m\u001b]8;;\u001b\\\u001b[2m:\u001b[0m\u001b]8;id=819844;file:///home/ngardn10/projects/cuticulus/cuticulus/core/datasets/sub.py#184\u001b\\\u001b[2m184\u001b[0m\u001b]8;;\u001b\\\n"
      ]
     },
     "metadata": {},
     "output_type": "display_data"
    },
    {
     "data": {
      "text/html": [
       "<pre style=\"white-space:pre;overflow-x:auto;line-height:normal;font-family:Menlo,'DejaVu Sans Mono',consolas,'Courier New',monospace\"><span style=\"color: #7fbfbf; text-decoration-color: #7fbfbf\">           </span><span style=\"color: #000080; text-decoration-color: #000080\">INFO    </span> Image <span style=\"color: #008080; text-decoration-color: #008080; font-weight: bold\">19</span> is NA or not considered in this version.              <a href=\"file:///home/ngardn10/projects/cuticulus/cuticulus/core/datasets/sub.py\"><span style=\"color: #7f7f7f; text-decoration-color: #7f7f7f\">sub.py</span></a><span style=\"color: #7f7f7f; text-decoration-color: #7f7f7f\">:</span><a href=\"file:///home/ngardn10/projects/cuticulus/cuticulus/core/datasets/sub.py#184\"><span style=\"color: #7f7f7f; text-decoration-color: #7f7f7f\">184</span></a>\n",
       "</pre>\n"
      ],
      "text/plain": [
       "\u001b[2;36m          \u001b[0m\u001b[2;36m \u001b[0m\u001b[34mINFO    \u001b[0m Image \u001b[1;36m19\u001b[0m is NA or not considered in this version.              \u001b]8;id=700353;file:///home/ngardn10/projects/cuticulus/cuticulus/core/datasets/sub.py\u001b\\\u001b[2msub.py\u001b[0m\u001b]8;;\u001b\\\u001b[2m:\u001b[0m\u001b]8;id=821997;file:///home/ngardn10/projects/cuticulus/cuticulus/core/datasets/sub.py#184\u001b\\\u001b[2m184\u001b[0m\u001b]8;;\u001b\\\n"
      ]
     },
     "metadata": {},
     "output_type": "display_data"
    },
    {
     "data": {
      "text/html": [
       "<pre style=\"white-space:pre;overflow-x:auto;line-height:normal;font-family:Menlo,'DejaVu Sans Mono',consolas,'Courier New',monospace\"><span style=\"color: #7fbfbf; text-decoration-color: #7fbfbf\">           </span><span style=\"color: #000080; text-decoration-color: #000080\">INFO    </span> Image <span style=\"color: #008080; text-decoration-color: #008080; font-weight: bold\">27</span> is NA or not considered in this version.              <a href=\"file:///home/ngardn10/projects/cuticulus/cuticulus/core/datasets/sub.py\"><span style=\"color: #7f7f7f; text-decoration-color: #7f7f7f\">sub.py</span></a><span style=\"color: #7f7f7f; text-decoration-color: #7f7f7f\">:</span><a href=\"file:///home/ngardn10/projects/cuticulus/cuticulus/core/datasets/sub.py#184\"><span style=\"color: #7f7f7f; text-decoration-color: #7f7f7f\">184</span></a>\n",
       "</pre>\n"
      ],
      "text/plain": [
       "\u001b[2;36m          \u001b[0m\u001b[2;36m \u001b[0m\u001b[34mINFO    \u001b[0m Image \u001b[1;36m27\u001b[0m is NA or not considered in this version.              \u001b]8;id=99435;file:///home/ngardn10/projects/cuticulus/cuticulus/core/datasets/sub.py\u001b\\\u001b[2msub.py\u001b[0m\u001b]8;;\u001b\\\u001b[2m:\u001b[0m\u001b]8;id=200653;file:///home/ngardn10/projects/cuticulus/cuticulus/core/datasets/sub.py#184\u001b\\\u001b[2m184\u001b[0m\u001b]8;;\u001b\\\n"
      ]
     },
     "metadata": {},
     "output_type": "display_data"
    },
    {
     "data": {
      "text/html": [
       "<pre style=\"white-space:pre;overflow-x:auto;line-height:normal;font-family:Menlo,'DejaVu Sans Mono',consolas,'Courier New',monospace\"><span style=\"color: #7fbfbf; text-decoration-color: #7fbfbf\">           </span><span style=\"color: #000080; text-decoration-color: #000080\">INFO    </span> Image <span style=\"color: #008080; text-decoration-color: #008080; font-weight: bold\">9</span> is NA or not considered in this version.               <a href=\"file:///home/ngardn10/projects/cuticulus/cuticulus/core/datasets/sub.py\"><span style=\"color: #7f7f7f; text-decoration-color: #7f7f7f\">sub.py</span></a><span style=\"color: #7f7f7f; text-decoration-color: #7f7f7f\">:</span><a href=\"file:///home/ngardn10/projects/cuticulus/cuticulus/core/datasets/sub.py#184\"><span style=\"color: #7f7f7f; text-decoration-color: #7f7f7f\">184</span></a>\n",
       "</pre>\n"
      ],
      "text/plain": [
       "\u001b[2;36m          \u001b[0m\u001b[2;36m \u001b[0m\u001b[34mINFO    \u001b[0m Image \u001b[1;36m9\u001b[0m is NA or not considered in this version.               \u001b]8;id=577143;file:///home/ngardn10/projects/cuticulus/cuticulus/core/datasets/sub.py\u001b\\\u001b[2msub.py\u001b[0m\u001b]8;;\u001b\\\u001b[2m:\u001b[0m\u001b]8;id=141403;file:///home/ngardn10/projects/cuticulus/cuticulus/core/datasets/sub.py#184\u001b\\\u001b[2m184\u001b[0m\u001b]8;;\u001b\\\n"
      ]
     },
     "metadata": {},
     "output_type": "display_data"
    },
    {
     "data": {
      "text/html": [
       "<pre style=\"white-space:pre;overflow-x:auto;line-height:normal;font-family:Menlo,'DejaVu Sans Mono',consolas,'Courier New',monospace\"><span style=\"color: #7fbfbf; text-decoration-color: #7fbfbf\">[14:39:56] </span><span style=\"color: #000080; text-decoration-color: #000080\">INFO    </span> Image <span style=\"color: #008080; text-decoration-color: #008080; font-weight: bold\">25</span> is NA or not considered in this version.              <a href=\"file:///home/ngardn10/projects/cuticulus/cuticulus/core/datasets/sub.py\"><span style=\"color: #7f7f7f; text-decoration-color: #7f7f7f\">sub.py</span></a><span style=\"color: #7f7f7f; text-decoration-color: #7f7f7f\">:</span><a href=\"file:///home/ngardn10/projects/cuticulus/cuticulus/core/datasets/sub.py#184\"><span style=\"color: #7f7f7f; text-decoration-color: #7f7f7f\">184</span></a>\n",
       "</pre>\n"
      ],
      "text/plain": [
       "\u001b[2;36m[14:39:56]\u001b[0m\u001b[2;36m \u001b[0m\u001b[34mINFO    \u001b[0m Image \u001b[1;36m25\u001b[0m is NA or not considered in this version.              \u001b]8;id=423363;file:///home/ngardn10/projects/cuticulus/cuticulus/core/datasets/sub.py\u001b\\\u001b[2msub.py\u001b[0m\u001b]8;;\u001b\\\u001b[2m:\u001b[0m\u001b]8;id=338751;file:///home/ngardn10/projects/cuticulus/cuticulus/core/datasets/sub.py#184\u001b\\\u001b[2m184\u001b[0m\u001b]8;;\u001b\\\n"
      ]
     },
     "metadata": {},
     "output_type": "display_data"
    },
    {
     "data": {
      "text/html": [
       "<pre style=\"white-space:pre;overflow-x:auto;line-height:normal;font-family:Menlo,'DejaVu Sans Mono',consolas,'Courier New',monospace\"><span style=\"color: #7fbfbf; text-decoration-color: #7fbfbf\">           </span><span style=\"color: #000080; text-decoration-color: #000080\">INFO    </span> Image <span style=\"color: #008080; text-decoration-color: #008080; font-weight: bold\">12</span> is NA or not considered in this version.              <a href=\"file:///home/ngardn10/projects/cuticulus/cuticulus/core/datasets/sub.py\"><span style=\"color: #7f7f7f; text-decoration-color: #7f7f7f\">sub.py</span></a><span style=\"color: #7f7f7f; text-decoration-color: #7f7f7f\">:</span><a href=\"file:///home/ngardn10/projects/cuticulus/cuticulus/core/datasets/sub.py#184\"><span style=\"color: #7f7f7f; text-decoration-color: #7f7f7f\">184</span></a>\n",
       "</pre>\n"
      ],
      "text/plain": [
       "\u001b[2;36m          \u001b[0m\u001b[2;36m \u001b[0m\u001b[34mINFO    \u001b[0m Image \u001b[1;36m12\u001b[0m is NA or not considered in this version.              \u001b]8;id=117093;file:///home/ngardn10/projects/cuticulus/cuticulus/core/datasets/sub.py\u001b\\\u001b[2msub.py\u001b[0m\u001b]8;;\u001b\\\u001b[2m:\u001b[0m\u001b]8;id=620350;file:///home/ngardn10/projects/cuticulus/cuticulus/core/datasets/sub.py#184\u001b\\\u001b[2m184\u001b[0m\u001b]8;;\u001b\\\n"
      ]
     },
     "metadata": {},
     "output_type": "display_data"
    },
    {
     "data": {
      "text/html": [
       "<pre style=\"white-space:pre;overflow-x:auto;line-height:normal;font-family:Menlo,'DejaVu Sans Mono',consolas,'Courier New',monospace\"><span style=\"color: #7fbfbf; text-decoration-color: #7fbfbf\">[14:39:57] </span><span style=\"color: #000080; text-decoration-color: #000080\">INFO    </span> Image <span style=\"color: #008080; text-decoration-color: #008080; font-weight: bold\">69</span> is NA or not considered in this version.              <a href=\"file:///home/ngardn10/projects/cuticulus/cuticulus/core/datasets/sub.py\"><span style=\"color: #7f7f7f; text-decoration-color: #7f7f7f\">sub.py</span></a><span style=\"color: #7f7f7f; text-decoration-color: #7f7f7f\">:</span><a href=\"file:///home/ngardn10/projects/cuticulus/cuticulus/core/datasets/sub.py#184\"><span style=\"color: #7f7f7f; text-decoration-color: #7f7f7f\">184</span></a>\n",
       "</pre>\n"
      ],
      "text/plain": [
       "\u001b[2;36m[14:39:57]\u001b[0m\u001b[2;36m \u001b[0m\u001b[34mINFO    \u001b[0m Image \u001b[1;36m69\u001b[0m is NA or not considered in this version.              \u001b]8;id=999488;file:///home/ngardn10/projects/cuticulus/cuticulus/core/datasets/sub.py\u001b\\\u001b[2msub.py\u001b[0m\u001b]8;;\u001b\\\u001b[2m:\u001b[0m\u001b]8;id=151447;file:///home/ngardn10/projects/cuticulus/cuticulus/core/datasets/sub.py#184\u001b\\\u001b[2m184\u001b[0m\u001b]8;;\u001b\\\n"
      ]
     },
     "metadata": {},
     "output_type": "display_data"
    },
    {
     "data": {
      "text/html": [
       "<pre style=\"white-space:pre;overflow-x:auto;line-height:normal;font-family:Menlo,'DejaVu Sans Mono',consolas,'Courier New',monospace\"><span style=\"color: #7fbfbf; text-decoration-color: #7fbfbf\">           </span><span style=\"color: #000080; text-decoration-color: #000080\">INFO    </span> Image <span style=\"color: #008080; text-decoration-color: #008080; font-weight: bold\">60</span> is NA or not considered in this version.              <a href=\"file:///home/ngardn10/projects/cuticulus/cuticulus/core/datasets/sub.py\"><span style=\"color: #7f7f7f; text-decoration-color: #7f7f7f\">sub.py</span></a><span style=\"color: #7f7f7f; text-decoration-color: #7f7f7f\">:</span><a href=\"file:///home/ngardn10/projects/cuticulus/cuticulus/core/datasets/sub.py#184\"><span style=\"color: #7f7f7f; text-decoration-color: #7f7f7f\">184</span></a>\n",
       "</pre>\n"
      ],
      "text/plain": [
       "\u001b[2;36m          \u001b[0m\u001b[2;36m \u001b[0m\u001b[34mINFO    \u001b[0m Image \u001b[1;36m60\u001b[0m is NA or not considered in this version.              \u001b]8;id=795071;file:///home/ngardn10/projects/cuticulus/cuticulus/core/datasets/sub.py\u001b\\\u001b[2msub.py\u001b[0m\u001b]8;;\u001b\\\u001b[2m:\u001b[0m\u001b]8;id=622998;file:///home/ngardn10/projects/cuticulus/cuticulus/core/datasets/sub.py#184\u001b\\\u001b[2m184\u001b[0m\u001b]8;;\u001b\\\n"
      ]
     },
     "metadata": {},
     "output_type": "display_data"
    },
    {
     "data": {
      "text/html": [
       "<pre style=\"white-space:pre;overflow-x:auto;line-height:normal;font-family:Menlo,'DejaVu Sans Mono',consolas,'Courier New',monospace\"><span style=\"color: #7fbfbf; text-decoration-color: #7fbfbf\">           </span><span style=\"color: #000080; text-decoration-color: #000080\">INFO    </span> Image <span style=\"color: #008080; text-decoration-color: #008080; font-weight: bold\">48</span> is NA or not considered in this version.              <a href=\"file:///home/ngardn10/projects/cuticulus/cuticulus/core/datasets/sub.py\"><span style=\"color: #7f7f7f; text-decoration-color: #7f7f7f\">sub.py</span></a><span style=\"color: #7f7f7f; text-decoration-color: #7f7f7f\">:</span><a href=\"file:///home/ngardn10/projects/cuticulus/cuticulus/core/datasets/sub.py#184\"><span style=\"color: #7f7f7f; text-decoration-color: #7f7f7f\">184</span></a>\n",
       "</pre>\n"
      ],
      "text/plain": [
       "\u001b[2;36m          \u001b[0m\u001b[2;36m \u001b[0m\u001b[34mINFO    \u001b[0m Image \u001b[1;36m48\u001b[0m is NA or not considered in this version.              \u001b]8;id=987119;file:///home/ngardn10/projects/cuticulus/cuticulus/core/datasets/sub.py\u001b\\\u001b[2msub.py\u001b[0m\u001b]8;;\u001b\\\u001b[2m:\u001b[0m\u001b]8;id=729204;file:///home/ngardn10/projects/cuticulus/cuticulus/core/datasets/sub.py#184\u001b\\\u001b[2m184\u001b[0m\u001b]8;;\u001b\\\n"
      ]
     },
     "metadata": {},
     "output_type": "display_data"
    },
    {
     "data": {
      "text/html": [
       "<pre style=\"white-space:pre;overflow-x:auto;line-height:normal;font-family:Menlo,'DejaVu Sans Mono',consolas,'Courier New',monospace\"><span style=\"color: #7fbfbf; text-decoration-color: #7fbfbf\">[14:39:57] </span>Built dataset.                                                      <a href=\"file:///home/ngardn10/projects/cuticulus/cuticulus/core/datasets/builder.py\"><span style=\"color: #7f7f7f; text-decoration-color: #7f7f7f\">builder.py</span></a><span style=\"color: #7f7f7f; text-decoration-color: #7f7f7f\">:</span><a href=\"file:///home/ngardn10/projects/cuticulus/cuticulus/core/datasets/builder.py#104\"><span style=\"color: #7f7f7f; text-decoration-color: #7f7f7f\">104</span></a>\n",
       "</pre>\n"
      ],
      "text/plain": [
       "\u001b[2;36m[14:39:57]\u001b[0m\u001b[2;36m \u001b[0mBuilt dataset.                                                      \u001b]8;id=222463;file:///home/ngardn10/projects/cuticulus/cuticulus/core/datasets/builder.py\u001b\\\u001b[2mbuilder.py\u001b[0m\u001b]8;;\u001b\\\u001b[2m:\u001b[0m\u001b]8;id=439253;file:///home/ngardn10/projects/cuticulus/cuticulus/core/datasets/builder.py#104\u001b\\\u001b[2m104\u001b[0m\u001b]8;;\u001b\\\n"
      ]
     },
     "metadata": {},
     "output_type": "display_data"
    },
    {
     "data": {
      "text/html": [
       "<pre style=\"white-space:pre;overflow-x:auto;line-height:normal;font-family:Menlo,'DejaVu Sans Mono',consolas,'Courier New',monospace\"><span style=\"color: #7fbfbf; text-decoration-color: #7fbfbf\">           </span>Unique images considered: <span style=\"color: #008080; text-decoration-color: #008080; font-weight: bold\">48765</span>                                     <a href=\"file:///home/ngardn10/projects/cuticulus/cuticulus/core/datasets/builder.py\"><span style=\"color: #7f7f7f; text-decoration-color: #7f7f7f\">builder.py</span></a><span style=\"color: #7f7f7f; text-decoration-color: #7f7f7f\">:</span><a href=\"file:///home/ngardn10/projects/cuticulus/cuticulus/core/datasets/builder.py#135\"><span style=\"color: #7f7f7f; text-decoration-color: #7f7f7f\">135</span></a>\n",
       "</pre>\n"
      ],
      "text/plain": [
       "\u001b[2;36m          \u001b[0m\u001b[2;36m \u001b[0mUnique images considered: \u001b[1;36m48765\u001b[0m                                     \u001b]8;id=352120;file:///home/ngardn10/projects/cuticulus/cuticulus/core/datasets/builder.py\u001b\\\u001b[2mbuilder.py\u001b[0m\u001b]8;;\u001b\\\u001b[2m:\u001b[0m\u001b]8;id=165843;file:///home/ngardn10/projects/cuticulus/cuticulus/core/datasets/builder.py#135\u001b\\\u001b[2m135\u001b[0m\u001b]8;;\u001b\\\n"
      ]
     },
     "metadata": {},
     "output_type": "display_data"
    },
    {
     "data": {
      "text/html": [
       "<pre style=\"white-space:pre;overflow-x:auto;line-height:normal;font-family:Menlo,'DejaVu Sans Mono',consolas,'Courier New',monospace\"><span style=\"color: #7fbfbf; text-decoration-color: #7fbfbf\">           </span>Samples per class:                                                  <a href=\"file:///home/ngardn10/projects/cuticulus/cuticulus/core/datasets/builder.py\"><span style=\"color: #7f7f7f; text-decoration-color: #7f7f7f\">builder.py</span></a><span style=\"color: #7f7f7f; text-decoration-color: #7f7f7f\">:</span><a href=\"file:///home/ngardn10/projects/cuticulus/cuticulus/core/datasets/builder.py#128\"><span style=\"color: #7f7f7f; text-decoration-color: #7f7f7f\">128</span></a>\n",
       "</pre>\n"
      ],
      "text/plain": [
       "\u001b[2;36m          \u001b[0m\u001b[2;36m \u001b[0mSamples per class:                                                  \u001b]8;id=305135;file:///home/ngardn10/projects/cuticulus/cuticulus/core/datasets/builder.py\u001b\\\u001b[2mbuilder.py\u001b[0m\u001b]8;;\u001b\\\u001b[2m:\u001b[0m\u001b]8;id=69436;file:///home/ngardn10/projects/cuticulus/cuticulus/core/datasets/builder.py#128\u001b\\\u001b[2m128\u001b[0m\u001b]8;;\u001b\\\n"
      ]
     },
     "metadata": {},
     "output_type": "display_data"
    },
    {
     "data": {
      "text/html": [
       "<pre style=\"white-space:pre;overflow-x:auto;line-height:normal;font-family:Menlo,'DejaVu Sans Mono',consolas,'Courier New',monospace\"><span style=\"color: #7fbfbf; text-decoration-color: #7fbfbf\">           </span><span style=\"color: #008080; text-decoration-color: #008080; font-weight: bold\">0</span>: <span style=\"color: #008080; text-decoration-color: #008080; font-weight: bold\">46999</span>                                                            <a href=\"file:///home/ngardn10/projects/cuticulus/cuticulus/core/datasets/builder.py\"><span style=\"color: #7f7f7f; text-decoration-color: #7f7f7f\">builder.py</span></a><span style=\"color: #7f7f7f; text-decoration-color: #7f7f7f\">:</span><a href=\"file:///home/ngardn10/projects/cuticulus/cuticulus/core/datasets/builder.py#131\"><span style=\"color: #7f7f7f; text-decoration-color: #7f7f7f\">131</span></a>\n",
       "</pre>\n"
      ],
      "text/plain": [
       "\u001b[2;36m          \u001b[0m\u001b[2;36m \u001b[0m\u001b[1;36m0\u001b[0m: \u001b[1;36m46999\u001b[0m                                                            \u001b]8;id=105589;file:///home/ngardn10/projects/cuticulus/cuticulus/core/datasets/builder.py\u001b\\\u001b[2mbuilder.py\u001b[0m\u001b]8;;\u001b\\\u001b[2m:\u001b[0m\u001b]8;id=99510;file:///home/ngardn10/projects/cuticulus/cuticulus/core/datasets/builder.py#131\u001b\\\u001b[2m131\u001b[0m\u001b]8;;\u001b\\\n"
      ]
     },
     "metadata": {},
     "output_type": "display_data"
    },
    {
     "data": {
      "text/html": [
       "<pre style=\"white-space:pre;overflow-x:auto;line-height:normal;font-family:Menlo,'DejaVu Sans Mono',consolas,'Courier New',monospace\"><span style=\"color: #7fbfbf; text-decoration-color: #7fbfbf\">           </span><span style=\"color: #008080; text-decoration-color: #008080; font-weight: bold\">1</span>: <span style=\"color: #008080; text-decoration-color: #008080; font-weight: bold\">1766</span>                                                             <a href=\"file:///home/ngardn10/projects/cuticulus/cuticulus/core/datasets/builder.py\"><span style=\"color: #7f7f7f; text-decoration-color: #7f7f7f\">builder.py</span></a><span style=\"color: #7f7f7f; text-decoration-color: #7f7f7f\">:</span><a href=\"file:///home/ngardn10/projects/cuticulus/cuticulus/core/datasets/builder.py#131\"><span style=\"color: #7f7f7f; text-decoration-color: #7f7f7f\">131</span></a>\n",
       "</pre>\n"
      ],
      "text/plain": [
       "\u001b[2;36m          \u001b[0m\u001b[2;36m \u001b[0m\u001b[1;36m1\u001b[0m: \u001b[1;36m1766\u001b[0m                                                             \u001b]8;id=168559;file:///home/ngardn10/projects/cuticulus/cuticulus/core/datasets/builder.py\u001b\\\u001b[2mbuilder.py\u001b[0m\u001b]8;;\u001b\\\u001b[2m:\u001b[0m\u001b]8;id=491945;file:///home/ngardn10/projects/cuticulus/cuticulus/core/datasets/builder.py#131\u001b\\\u001b[2m131\u001b[0m\u001b]8;;\u001b\\\n"
      ]
     },
     "metadata": {},
     "output_type": "display_data"
    },
    {
     "data": {
      "text/html": [
       "<pre style=\"white-space:pre;overflow-x:auto;line-height:normal;font-family:Menlo,'DejaVu Sans Mono',consolas,'Courier New',monospace\"><span style=\"color: #7fbfbf; text-decoration-color: #7fbfbf\">           </span>After splitting train and test:                                     <a href=\"file:///home/ngardn10/projects/cuticulus/cuticulus/core/datasets/splitter.py\"><span style=\"color: #7f7f7f; text-decoration-color: #7f7f7f\">splitter.py</span></a><span style=\"color: #7f7f7f; text-decoration-color: #7f7f7f\">:</span><a href=\"file:///home/ngardn10/projects/cuticulus/cuticulus/core/datasets/splitter.py#88\"><span style=\"color: #7f7f7f; text-decoration-color: #7f7f7f\">88</span></a>\n",
       "</pre>\n"
      ],
      "text/plain": [
       "\u001b[2;36m          \u001b[0m\u001b[2;36m \u001b[0mAfter splitting train and test:                                     \u001b]8;id=76215;file:///home/ngardn10/projects/cuticulus/cuticulus/core/datasets/splitter.py\u001b\\\u001b[2msplitter.py\u001b[0m\u001b]8;;\u001b\\\u001b[2m:\u001b[0m\u001b]8;id=935167;file:///home/ngardn10/projects/cuticulus/cuticulus/core/datasets/splitter.py#88\u001b\\\u001b[2m88\u001b[0m\u001b]8;;\u001b\\\n"
      ]
     },
     "metadata": {},
     "output_type": "display_data"
    },
    {
     "data": {
      "text/html": [
       "<pre style=\"white-space:pre;overflow-x:auto;line-height:normal;font-family:Menlo,'DejaVu Sans Mono',consolas,'Courier New',monospace\"><span style=\"color: #7fbfbf; text-decoration-color: #7fbfbf\">           </span>Training set:                                                      <a href=\"file:///home/ngardn10/projects/cuticulus/cuticulus/core/datasets/splitter.py\"><span style=\"color: #7f7f7f; text-decoration-color: #7f7f7f\">splitter.py</span></a><span style=\"color: #7f7f7f; text-decoration-color: #7f7f7f\">:</span><a href=\"file:///home/ngardn10/projects/cuticulus/cuticulus/core/datasets/splitter.py#100\"><span style=\"color: #7f7f7f; text-decoration-color: #7f7f7f\">100</span></a>\n",
       "</pre>\n"
      ],
      "text/plain": [
       "\u001b[2;36m          \u001b[0m\u001b[2;36m \u001b[0mTraining set:                                                      \u001b]8;id=4594;file:///home/ngardn10/projects/cuticulus/cuticulus/core/datasets/splitter.py\u001b\\\u001b[2msplitter.py\u001b[0m\u001b]8;;\u001b\\\u001b[2m:\u001b[0m\u001b]8;id=495575;file:///home/ngardn10/projects/cuticulus/cuticulus/core/datasets/splitter.py#100\u001b\\\u001b[2m100\u001b[0m\u001b]8;;\u001b\\\n"
      ]
     },
     "metadata": {},
     "output_type": "display_data"
    },
    {
     "data": {
      "text/html": [
       "<pre style=\"white-space:pre;overflow-x:auto;line-height:normal;font-family:Menlo,'DejaVu Sans Mono',consolas,'Courier New',monospace\"><span style=\"color: #7fbfbf; text-decoration-color: #7fbfbf\">           </span>Samples per class:                                                  <a href=\"file:///home/ngardn10/projects/cuticulus/cuticulus/core/datasets/builder.py\"><span style=\"color: #7f7f7f; text-decoration-color: #7f7f7f\">builder.py</span></a><span style=\"color: #7f7f7f; text-decoration-color: #7f7f7f\">:</span><a href=\"file:///home/ngardn10/projects/cuticulus/cuticulus/core/datasets/builder.py#128\"><span style=\"color: #7f7f7f; text-decoration-color: #7f7f7f\">128</span></a>\n",
       "</pre>\n"
      ],
      "text/plain": [
       "\u001b[2;36m          \u001b[0m\u001b[2;36m \u001b[0mSamples per class:                                                  \u001b]8;id=177582;file:///home/ngardn10/projects/cuticulus/cuticulus/core/datasets/builder.py\u001b\\\u001b[2mbuilder.py\u001b[0m\u001b]8;;\u001b\\\u001b[2m:\u001b[0m\u001b]8;id=261159;file:///home/ngardn10/projects/cuticulus/cuticulus/core/datasets/builder.py#128\u001b\\\u001b[2m128\u001b[0m\u001b]8;;\u001b\\\n"
      ]
     },
     "metadata": {},
     "output_type": "display_data"
    },
    {
     "data": {
      "text/html": [
       "<pre style=\"white-space:pre;overflow-x:auto;line-height:normal;font-family:Menlo,'DejaVu Sans Mono',consolas,'Courier New',monospace\"><span style=\"color: #7fbfbf; text-decoration-color: #7fbfbf\">           </span><span style=\"color: #008080; text-decoration-color: #008080; font-weight: bold\">0</span>: <span style=\"color: #008080; text-decoration-color: #008080; font-weight: bold\">1000</span>                                                             <a href=\"file:///home/ngardn10/projects/cuticulus/cuticulus/core/datasets/builder.py\"><span style=\"color: #7f7f7f; text-decoration-color: #7f7f7f\">builder.py</span></a><span style=\"color: #7f7f7f; text-decoration-color: #7f7f7f\">:</span><a href=\"file:///home/ngardn10/projects/cuticulus/cuticulus/core/datasets/builder.py#131\"><span style=\"color: #7f7f7f; text-decoration-color: #7f7f7f\">131</span></a>\n",
       "</pre>\n"
      ],
      "text/plain": [
       "\u001b[2;36m          \u001b[0m\u001b[2;36m \u001b[0m\u001b[1;36m0\u001b[0m: \u001b[1;36m1000\u001b[0m                                                             \u001b]8;id=200161;file:///home/ngardn10/projects/cuticulus/cuticulus/core/datasets/builder.py\u001b\\\u001b[2mbuilder.py\u001b[0m\u001b]8;;\u001b\\\u001b[2m:\u001b[0m\u001b]8;id=106999;file:///home/ngardn10/projects/cuticulus/cuticulus/core/datasets/builder.py#131\u001b\\\u001b[2m131\u001b[0m\u001b]8;;\u001b\\\n"
      ]
     },
     "metadata": {},
     "output_type": "display_data"
    },
    {
     "data": {
      "text/html": [
       "<pre style=\"white-space:pre;overflow-x:auto;line-height:normal;font-family:Menlo,'DejaVu Sans Mono',consolas,'Courier New',monospace\"><span style=\"color: #7fbfbf; text-decoration-color: #7fbfbf\">           </span><span style=\"color: #008080; text-decoration-color: #008080; font-weight: bold\">1</span>: <span style=\"color: #008080; text-decoration-color: #008080; font-weight: bold\">1000</span>                                                             <a href=\"file:///home/ngardn10/projects/cuticulus/cuticulus/core/datasets/builder.py\"><span style=\"color: #7f7f7f; text-decoration-color: #7f7f7f\">builder.py</span></a><span style=\"color: #7f7f7f; text-decoration-color: #7f7f7f\">:</span><a href=\"file:///home/ngardn10/projects/cuticulus/cuticulus/core/datasets/builder.py#131\"><span style=\"color: #7f7f7f; text-decoration-color: #7f7f7f\">131</span></a>\n",
       "</pre>\n"
      ],
      "text/plain": [
       "\u001b[2;36m          \u001b[0m\u001b[2;36m \u001b[0m\u001b[1;36m1\u001b[0m: \u001b[1;36m1000\u001b[0m                                                             \u001b]8;id=360014;file:///home/ngardn10/projects/cuticulus/cuticulus/core/datasets/builder.py\u001b\\\u001b[2mbuilder.py\u001b[0m\u001b]8;;\u001b\\\u001b[2m:\u001b[0m\u001b]8;id=898963;file:///home/ngardn10/projects/cuticulus/cuticulus/core/datasets/builder.py#131\u001b\\\u001b[2m131\u001b[0m\u001b]8;;\u001b\\\n"
      ]
     },
     "metadata": {},
     "output_type": "display_data"
    },
    {
     "data": {
      "text/html": [
       "<pre style=\"white-space:pre;overflow-x:auto;line-height:normal;font-family:Menlo,'DejaVu Sans Mono',consolas,'Courier New',monospace\"><span style=\"color: #7fbfbf; text-decoration-color: #7fbfbf\">           </span>Testing set:                                                       <a href=\"file:///home/ngardn10/projects/cuticulus/cuticulus/core/datasets/splitter.py\"><span style=\"color: #7f7f7f; text-decoration-color: #7f7f7f\">splitter.py</span></a><span style=\"color: #7f7f7f; text-decoration-color: #7f7f7f\">:</span><a href=\"file:///home/ngardn10/projects/cuticulus/cuticulus/core/datasets/splitter.py#104\"><span style=\"color: #7f7f7f; text-decoration-color: #7f7f7f\">104</span></a>\n",
       "</pre>\n"
      ],
      "text/plain": [
       "\u001b[2;36m          \u001b[0m\u001b[2;36m \u001b[0mTesting set:                                                       \u001b]8;id=322238;file:///home/ngardn10/projects/cuticulus/cuticulus/core/datasets/splitter.py\u001b\\\u001b[2msplitter.py\u001b[0m\u001b]8;;\u001b\\\u001b[2m:\u001b[0m\u001b]8;id=62211;file:///home/ngardn10/projects/cuticulus/cuticulus/core/datasets/splitter.py#104\u001b\\\u001b[2m104\u001b[0m\u001b]8;;\u001b\\\n"
      ]
     },
     "metadata": {},
     "output_type": "display_data"
    },
    {
     "data": {
      "text/html": [
       "<pre style=\"white-space:pre;overflow-x:auto;line-height:normal;font-family:Menlo,'DejaVu Sans Mono',consolas,'Courier New',monospace\"><span style=\"color: #7fbfbf; text-decoration-color: #7fbfbf\">           </span>Samples per class:                                                  <a href=\"file:///home/ngardn10/projects/cuticulus/cuticulus/core/datasets/builder.py\"><span style=\"color: #7f7f7f; text-decoration-color: #7f7f7f\">builder.py</span></a><span style=\"color: #7f7f7f; text-decoration-color: #7f7f7f\">:</span><a href=\"file:///home/ngardn10/projects/cuticulus/cuticulus/core/datasets/builder.py#128\"><span style=\"color: #7f7f7f; text-decoration-color: #7f7f7f\">128</span></a>\n",
       "</pre>\n"
      ],
      "text/plain": [
       "\u001b[2;36m          \u001b[0m\u001b[2;36m \u001b[0mSamples per class:                                                  \u001b]8;id=704072;file:///home/ngardn10/projects/cuticulus/cuticulus/core/datasets/builder.py\u001b\\\u001b[2mbuilder.py\u001b[0m\u001b]8;;\u001b\\\u001b[2m:\u001b[0m\u001b]8;id=117820;file:///home/ngardn10/projects/cuticulus/cuticulus/core/datasets/builder.py#128\u001b\\\u001b[2m128\u001b[0m\u001b]8;;\u001b\\\n"
      ]
     },
     "metadata": {},
     "output_type": "display_data"
    },
    {
     "data": {
      "text/html": [
       "<pre style=\"white-space:pre;overflow-x:auto;line-height:normal;font-family:Menlo,'DejaVu Sans Mono',consolas,'Courier New',monospace\"><span style=\"color: #7fbfbf; text-decoration-color: #7fbfbf\">           </span><span style=\"color: #008080; text-decoration-color: #008080; font-weight: bold\">0</span>: <span style=\"color: #008080; text-decoration-color: #008080; font-weight: bold\">766</span>                                                              <a href=\"file:///home/ngardn10/projects/cuticulus/cuticulus/core/datasets/builder.py\"><span style=\"color: #7f7f7f; text-decoration-color: #7f7f7f\">builder.py</span></a><span style=\"color: #7f7f7f; text-decoration-color: #7f7f7f\">:</span><a href=\"file:///home/ngardn10/projects/cuticulus/cuticulus/core/datasets/builder.py#131\"><span style=\"color: #7f7f7f; text-decoration-color: #7f7f7f\">131</span></a>\n",
       "</pre>\n"
      ],
      "text/plain": [
       "\u001b[2;36m          \u001b[0m\u001b[2;36m \u001b[0m\u001b[1;36m0\u001b[0m: \u001b[1;36m766\u001b[0m                                                              \u001b]8;id=97735;file:///home/ngardn10/projects/cuticulus/cuticulus/core/datasets/builder.py\u001b\\\u001b[2mbuilder.py\u001b[0m\u001b]8;;\u001b\\\u001b[2m:\u001b[0m\u001b]8;id=293547;file:///home/ngardn10/projects/cuticulus/cuticulus/core/datasets/builder.py#131\u001b\\\u001b[2m131\u001b[0m\u001b]8;;\u001b\\\n"
      ]
     },
     "metadata": {},
     "output_type": "display_data"
    },
    {
     "data": {
      "text/html": [
       "<pre style=\"white-space:pre;overflow-x:auto;line-height:normal;font-family:Menlo,'DejaVu Sans Mono',consolas,'Courier New',monospace\"><span style=\"color: #7fbfbf; text-decoration-color: #7fbfbf\">           </span><span style=\"color: #008080; text-decoration-color: #008080; font-weight: bold\">1</span>: <span style=\"color: #008080; text-decoration-color: #008080; font-weight: bold\">766</span>                                                              <a href=\"file:///home/ngardn10/projects/cuticulus/cuticulus/core/datasets/builder.py\"><span style=\"color: #7f7f7f; text-decoration-color: #7f7f7f\">builder.py</span></a><span style=\"color: #7f7f7f; text-decoration-color: #7f7f7f\">:</span><a href=\"file:///home/ngardn10/projects/cuticulus/cuticulus/core/datasets/builder.py#131\"><span style=\"color: #7f7f7f; text-decoration-color: #7f7f7f\">131</span></a>\n",
       "</pre>\n"
      ],
      "text/plain": [
       "\u001b[2;36m          \u001b[0m\u001b[2;36m \u001b[0m\u001b[1;36m1\u001b[0m: \u001b[1;36m766\u001b[0m                                                              \u001b]8;id=734182;file:///home/ngardn10/projects/cuticulus/cuticulus/core/datasets/builder.py\u001b\\\u001b[2mbuilder.py\u001b[0m\u001b]8;;\u001b\\\u001b[2m:\u001b[0m\u001b]8;id=666618;file:///home/ngardn10/projects/cuticulus/cuticulus/core/datasets/builder.py#131\u001b\\\u001b[2m131\u001b[0m\u001b]8;;\u001b\\\n"
      ]
     },
     "metadata": {},
     "output_type": "display_data"
    },
    {
     "data": {
      "text/html": [
       "<pre style=\"white-space:pre;overflow-x:auto;line-height:normal;font-family:Menlo,'DejaVu Sans Mono',consolas,'Courier New',monospace\"><span style=\"color: #7fbfbf; text-decoration-color: #7fbfbf\">           </span>After splitting validation:                                        <a href=\"file:///home/ngardn10/projects/cuticulus/cuticulus/core/datasets/splitter.py\"><span style=\"color: #7f7f7f; text-decoration-color: #7f7f7f\">splitter.py</span></a><span style=\"color: #7f7f7f; text-decoration-color: #7f7f7f\">:</span><a href=\"file:///home/ngardn10/projects/cuticulus/cuticulus/core/datasets/splitter.py#136\"><span style=\"color: #7f7f7f; text-decoration-color: #7f7f7f\">136</span></a>\n",
       "</pre>\n"
      ],
      "text/plain": [
       "\u001b[2;36m          \u001b[0m\u001b[2;36m \u001b[0mAfter splitting validation:                                        \u001b]8;id=991110;file:///home/ngardn10/projects/cuticulus/cuticulus/core/datasets/splitter.py\u001b\\\u001b[2msplitter.py\u001b[0m\u001b]8;;\u001b\\\u001b[2m:\u001b[0m\u001b]8;id=750264;file:///home/ngardn10/projects/cuticulus/cuticulus/core/datasets/splitter.py#136\u001b\\\u001b[2m136\u001b[0m\u001b]8;;\u001b\\\n"
      ]
     },
     "metadata": {},
     "output_type": "display_data"
    },
    {
     "data": {
      "text/html": [
       "<pre style=\"white-space:pre;overflow-x:auto;line-height:normal;font-family:Menlo,'DejaVu Sans Mono',consolas,'Courier New',monospace\"><span style=\"color: #7fbfbf; text-decoration-color: #7fbfbf\">           </span>Training set:                                                      <a href=\"file:///home/ngardn10/projects/cuticulus/cuticulus/core/datasets/splitter.py\"><span style=\"color: #7f7f7f; text-decoration-color: #7f7f7f\">splitter.py</span></a><span style=\"color: #7f7f7f; text-decoration-color: #7f7f7f\">:</span><a href=\"file:///home/ngardn10/projects/cuticulus/cuticulus/core/datasets/splitter.py#100\"><span style=\"color: #7f7f7f; text-decoration-color: #7f7f7f\">100</span></a>\n",
       "</pre>\n"
      ],
      "text/plain": [
       "\u001b[2;36m          \u001b[0m\u001b[2;36m \u001b[0mTraining set:                                                      \u001b]8;id=197904;file:///home/ngardn10/projects/cuticulus/cuticulus/core/datasets/splitter.py\u001b\\\u001b[2msplitter.py\u001b[0m\u001b]8;;\u001b\\\u001b[2m:\u001b[0m\u001b]8;id=495110;file:///home/ngardn10/projects/cuticulus/cuticulus/core/datasets/splitter.py#100\u001b\\\u001b[2m100\u001b[0m\u001b]8;;\u001b\\\n"
      ]
     },
     "metadata": {},
     "output_type": "display_data"
    },
    {
     "data": {
      "text/html": [
       "<pre style=\"white-space:pre;overflow-x:auto;line-height:normal;font-family:Menlo,'DejaVu Sans Mono',consolas,'Courier New',monospace\"><span style=\"color: #7fbfbf; text-decoration-color: #7fbfbf\">[14:39:58] </span>Samples per class:                                                  <a href=\"file:///home/ngardn10/projects/cuticulus/cuticulus/core/datasets/builder.py\"><span style=\"color: #7f7f7f; text-decoration-color: #7f7f7f\">builder.py</span></a><span style=\"color: #7f7f7f; text-decoration-color: #7f7f7f\">:</span><a href=\"file:///home/ngardn10/projects/cuticulus/cuticulus/core/datasets/builder.py#128\"><span style=\"color: #7f7f7f; text-decoration-color: #7f7f7f\">128</span></a>\n",
       "</pre>\n"
      ],
      "text/plain": [
       "\u001b[2;36m[14:39:58]\u001b[0m\u001b[2;36m \u001b[0mSamples per class:                                                  \u001b]8;id=378998;file:///home/ngardn10/projects/cuticulus/cuticulus/core/datasets/builder.py\u001b\\\u001b[2mbuilder.py\u001b[0m\u001b]8;;\u001b\\\u001b[2m:\u001b[0m\u001b]8;id=451331;file:///home/ngardn10/projects/cuticulus/cuticulus/core/datasets/builder.py#128\u001b\\\u001b[2m128\u001b[0m\u001b]8;;\u001b\\\n"
      ]
     },
     "metadata": {},
     "output_type": "display_data"
    },
    {
     "data": {
      "text/html": [
       "<pre style=\"white-space:pre;overflow-x:auto;line-height:normal;font-family:Menlo,'DejaVu Sans Mono',consolas,'Courier New',monospace\"><span style=\"color: #7fbfbf; text-decoration-color: #7fbfbf\">           </span><span style=\"color: #008080; text-decoration-color: #008080; font-weight: bold\">0</span>: <span style=\"color: #008080; text-decoration-color: #008080; font-weight: bold\">1000</span>                                                             <a href=\"file:///home/ngardn10/projects/cuticulus/cuticulus/core/datasets/builder.py\"><span style=\"color: #7f7f7f; text-decoration-color: #7f7f7f\">builder.py</span></a><span style=\"color: #7f7f7f; text-decoration-color: #7f7f7f\">:</span><a href=\"file:///home/ngardn10/projects/cuticulus/cuticulus/core/datasets/builder.py#131\"><span style=\"color: #7f7f7f; text-decoration-color: #7f7f7f\">131</span></a>\n",
       "</pre>\n"
      ],
      "text/plain": [
       "\u001b[2;36m          \u001b[0m\u001b[2;36m \u001b[0m\u001b[1;36m0\u001b[0m: \u001b[1;36m1000\u001b[0m                                                             \u001b]8;id=224337;file:///home/ngardn10/projects/cuticulus/cuticulus/core/datasets/builder.py\u001b\\\u001b[2mbuilder.py\u001b[0m\u001b]8;;\u001b\\\u001b[2m:\u001b[0m\u001b]8;id=185991;file:///home/ngardn10/projects/cuticulus/cuticulus/core/datasets/builder.py#131\u001b\\\u001b[2m131\u001b[0m\u001b]8;;\u001b\\\n"
      ]
     },
     "metadata": {},
     "output_type": "display_data"
    },
    {
     "data": {
      "text/html": [
       "<pre style=\"white-space:pre;overflow-x:auto;line-height:normal;font-family:Menlo,'DejaVu Sans Mono',consolas,'Courier New',monospace\"><span style=\"color: #7fbfbf; text-decoration-color: #7fbfbf\">           </span><span style=\"color: #008080; text-decoration-color: #008080; font-weight: bold\">1</span>: <span style=\"color: #008080; text-decoration-color: #008080; font-weight: bold\">1000</span>                                                             <a href=\"file:///home/ngardn10/projects/cuticulus/cuticulus/core/datasets/builder.py\"><span style=\"color: #7f7f7f; text-decoration-color: #7f7f7f\">builder.py</span></a><span style=\"color: #7f7f7f; text-decoration-color: #7f7f7f\">:</span><a href=\"file:///home/ngardn10/projects/cuticulus/cuticulus/core/datasets/builder.py#131\"><span style=\"color: #7f7f7f; text-decoration-color: #7f7f7f\">131</span></a>\n",
       "</pre>\n"
      ],
      "text/plain": [
       "\u001b[2;36m          \u001b[0m\u001b[2;36m \u001b[0m\u001b[1;36m1\u001b[0m: \u001b[1;36m1000\u001b[0m                                                             \u001b]8;id=339765;file:///home/ngardn10/projects/cuticulus/cuticulus/core/datasets/builder.py\u001b\\\u001b[2mbuilder.py\u001b[0m\u001b]8;;\u001b\\\u001b[2m:\u001b[0m\u001b]8;id=320768;file:///home/ngardn10/projects/cuticulus/cuticulus/core/datasets/builder.py#131\u001b\\\u001b[2m131\u001b[0m\u001b]8;;\u001b\\\n"
      ]
     },
     "metadata": {},
     "output_type": "display_data"
    },
    {
     "data": {
      "text/html": [
       "<pre style=\"white-space:pre;overflow-x:auto;line-height:normal;font-family:Menlo,'DejaVu Sans Mono',consolas,'Courier New',monospace\"><span style=\"color: #7fbfbf; text-decoration-color: #7fbfbf\">           </span>Testing set:                                                       <a href=\"file:///home/ngardn10/projects/cuticulus/cuticulus/core/datasets/splitter.py\"><span style=\"color: #7f7f7f; text-decoration-color: #7f7f7f\">splitter.py</span></a><span style=\"color: #7f7f7f; text-decoration-color: #7f7f7f\">:</span><a href=\"file:///home/ngardn10/projects/cuticulus/cuticulus/core/datasets/splitter.py#104\"><span style=\"color: #7f7f7f; text-decoration-color: #7f7f7f\">104</span></a>\n",
       "</pre>\n"
      ],
      "text/plain": [
       "\u001b[2;36m          \u001b[0m\u001b[2;36m \u001b[0mTesting set:                                                       \u001b]8;id=739798;file:///home/ngardn10/projects/cuticulus/cuticulus/core/datasets/splitter.py\u001b\\\u001b[2msplitter.py\u001b[0m\u001b]8;;\u001b\\\u001b[2m:\u001b[0m\u001b]8;id=571486;file:///home/ngardn10/projects/cuticulus/cuticulus/core/datasets/splitter.py#104\u001b\\\u001b[2m104\u001b[0m\u001b]8;;\u001b\\\n"
      ]
     },
     "metadata": {},
     "output_type": "display_data"
    },
    {
     "data": {
      "text/html": [
       "<pre style=\"white-space:pre;overflow-x:auto;line-height:normal;font-family:Menlo,'DejaVu Sans Mono',consolas,'Courier New',monospace\"><span style=\"color: #7fbfbf; text-decoration-color: #7fbfbf\">           </span>Samples per class:                                                  <a href=\"file:///home/ngardn10/projects/cuticulus/cuticulus/core/datasets/builder.py\"><span style=\"color: #7f7f7f; text-decoration-color: #7f7f7f\">builder.py</span></a><span style=\"color: #7f7f7f; text-decoration-color: #7f7f7f\">:</span><a href=\"file:///home/ngardn10/projects/cuticulus/cuticulus/core/datasets/builder.py#128\"><span style=\"color: #7f7f7f; text-decoration-color: #7f7f7f\">128</span></a>\n",
       "</pre>\n"
      ],
      "text/plain": [
       "\u001b[2;36m          \u001b[0m\u001b[2;36m \u001b[0mSamples per class:                                                  \u001b]8;id=944143;file:///home/ngardn10/projects/cuticulus/cuticulus/core/datasets/builder.py\u001b\\\u001b[2mbuilder.py\u001b[0m\u001b]8;;\u001b\\\u001b[2m:\u001b[0m\u001b]8;id=754541;file:///home/ngardn10/projects/cuticulus/cuticulus/core/datasets/builder.py#128\u001b\\\u001b[2m128\u001b[0m\u001b]8;;\u001b\\\n"
      ]
     },
     "metadata": {},
     "output_type": "display_data"
    },
    {
     "data": {
      "text/html": [
       "<pre style=\"white-space:pre;overflow-x:auto;line-height:normal;font-family:Menlo,'DejaVu Sans Mono',consolas,'Courier New',monospace\"><span style=\"color: #7fbfbf; text-decoration-color: #7fbfbf\">           </span><span style=\"color: #008080; text-decoration-color: #008080; font-weight: bold\">0</span>: <span style=\"color: #008080; text-decoration-color: #008080; font-weight: bold\">372</span>                                                              <a href=\"file:///home/ngardn10/projects/cuticulus/cuticulus/core/datasets/builder.py\"><span style=\"color: #7f7f7f; text-decoration-color: #7f7f7f\">builder.py</span></a><span style=\"color: #7f7f7f; text-decoration-color: #7f7f7f\">:</span><a href=\"file:///home/ngardn10/projects/cuticulus/cuticulus/core/datasets/builder.py#131\"><span style=\"color: #7f7f7f; text-decoration-color: #7f7f7f\">131</span></a>\n",
       "</pre>\n"
      ],
      "text/plain": [
       "\u001b[2;36m          \u001b[0m\u001b[2;36m \u001b[0m\u001b[1;36m0\u001b[0m: \u001b[1;36m372\u001b[0m                                                              \u001b]8;id=138151;file:///home/ngardn10/projects/cuticulus/cuticulus/core/datasets/builder.py\u001b\\\u001b[2mbuilder.py\u001b[0m\u001b]8;;\u001b\\\u001b[2m:\u001b[0m\u001b]8;id=350682;file:///home/ngardn10/projects/cuticulus/cuticulus/core/datasets/builder.py#131\u001b\\\u001b[2m131\u001b[0m\u001b]8;;\u001b\\\n"
      ]
     },
     "metadata": {},
     "output_type": "display_data"
    },
    {
     "data": {
      "text/html": [
       "<pre style=\"white-space:pre;overflow-x:auto;line-height:normal;font-family:Menlo,'DejaVu Sans Mono',consolas,'Courier New',monospace\"><span style=\"color: #7fbfbf; text-decoration-color: #7fbfbf\">           </span><span style=\"color: #008080; text-decoration-color: #008080; font-weight: bold\">1</span>: <span style=\"color: #008080; text-decoration-color: #008080; font-weight: bold\">394</span>                                                              <a href=\"file:///home/ngardn10/projects/cuticulus/cuticulus/core/datasets/builder.py\"><span style=\"color: #7f7f7f; text-decoration-color: #7f7f7f\">builder.py</span></a><span style=\"color: #7f7f7f; text-decoration-color: #7f7f7f\">:</span><a href=\"file:///home/ngardn10/projects/cuticulus/cuticulus/core/datasets/builder.py#131\"><span style=\"color: #7f7f7f; text-decoration-color: #7f7f7f\">131</span></a>\n",
       "</pre>\n"
      ],
      "text/plain": [
       "\u001b[2;36m          \u001b[0m\u001b[2;36m \u001b[0m\u001b[1;36m1\u001b[0m: \u001b[1;36m394\u001b[0m                                                              \u001b]8;id=918578;file:///home/ngardn10/projects/cuticulus/cuticulus/core/datasets/builder.py\u001b\\\u001b[2mbuilder.py\u001b[0m\u001b]8;;\u001b\\\u001b[2m:\u001b[0m\u001b]8;id=28227;file:///home/ngardn10/projects/cuticulus/cuticulus/core/datasets/builder.py#131\u001b\\\u001b[2m131\u001b[0m\u001b]8;;\u001b\\\n"
      ]
     },
     "metadata": {},
     "output_type": "display_data"
    },
    {
     "data": {
      "text/html": [
       "<pre style=\"white-space:pre;overflow-x:auto;line-height:normal;font-family:Menlo,'DejaVu Sans Mono',consolas,'Courier New',monospace\"><span style=\"color: #7fbfbf; text-decoration-color: #7fbfbf\">           </span>Validation set:                                                    <a href=\"file:///home/ngardn10/projects/cuticulus/cuticulus/core/datasets/splitter.py\"><span style=\"color: #7f7f7f; text-decoration-color: #7f7f7f\">splitter.py</span></a><span style=\"color: #7f7f7f; text-decoration-color: #7f7f7f\">:</span><a href=\"file:///home/ngardn10/projects/cuticulus/cuticulus/core/datasets/splitter.py#109\"><span style=\"color: #7f7f7f; text-decoration-color: #7f7f7f\">109</span></a>\n",
       "</pre>\n"
      ],
      "text/plain": [
       "\u001b[2;36m          \u001b[0m\u001b[2;36m \u001b[0mValidation set:                                                    \u001b]8;id=109121;file:///home/ngardn10/projects/cuticulus/cuticulus/core/datasets/splitter.py\u001b\\\u001b[2msplitter.py\u001b[0m\u001b]8;;\u001b\\\u001b[2m:\u001b[0m\u001b]8;id=127966;file:///home/ngardn10/projects/cuticulus/cuticulus/core/datasets/splitter.py#109\u001b\\\u001b[2m109\u001b[0m\u001b]8;;\u001b\\\n"
      ]
     },
     "metadata": {},
     "output_type": "display_data"
    },
    {
     "data": {
      "text/html": [
       "<pre style=\"white-space:pre;overflow-x:auto;line-height:normal;font-family:Menlo,'DejaVu Sans Mono',consolas,'Courier New',monospace\"><span style=\"color: #7fbfbf; text-decoration-color: #7fbfbf\">           </span>Samples per class:                                                  <a href=\"file:///home/ngardn10/projects/cuticulus/cuticulus/core/datasets/builder.py\"><span style=\"color: #7f7f7f; text-decoration-color: #7f7f7f\">builder.py</span></a><span style=\"color: #7f7f7f; text-decoration-color: #7f7f7f\">:</span><a href=\"file:///home/ngardn10/projects/cuticulus/cuticulus/core/datasets/builder.py#128\"><span style=\"color: #7f7f7f; text-decoration-color: #7f7f7f\">128</span></a>\n",
       "</pre>\n"
      ],
      "text/plain": [
       "\u001b[2;36m          \u001b[0m\u001b[2;36m \u001b[0mSamples per class:                                                  \u001b]8;id=461532;file:///home/ngardn10/projects/cuticulus/cuticulus/core/datasets/builder.py\u001b\\\u001b[2mbuilder.py\u001b[0m\u001b]8;;\u001b\\\u001b[2m:\u001b[0m\u001b]8;id=161349;file:///home/ngardn10/projects/cuticulus/cuticulus/core/datasets/builder.py#128\u001b\\\u001b[2m128\u001b[0m\u001b]8;;\u001b\\\n"
      ]
     },
     "metadata": {},
     "output_type": "display_data"
    },
    {
     "data": {
      "text/html": [
       "<pre style=\"white-space:pre;overflow-x:auto;line-height:normal;font-family:Menlo,'DejaVu Sans Mono',consolas,'Courier New',monospace\"><span style=\"color: #7fbfbf; text-decoration-color: #7fbfbf\">           </span><span style=\"color: #008080; text-decoration-color: #008080; font-weight: bold\">0</span>: <span style=\"color: #008080; text-decoration-color: #008080; font-weight: bold\">394</span>                                                              <a href=\"file:///home/ngardn10/projects/cuticulus/cuticulus/core/datasets/builder.py\"><span style=\"color: #7f7f7f; text-decoration-color: #7f7f7f\">builder.py</span></a><span style=\"color: #7f7f7f; text-decoration-color: #7f7f7f\">:</span><a href=\"file:///home/ngardn10/projects/cuticulus/cuticulus/core/datasets/builder.py#131\"><span style=\"color: #7f7f7f; text-decoration-color: #7f7f7f\">131</span></a>\n",
       "</pre>\n"
      ],
      "text/plain": [
       "\u001b[2;36m          \u001b[0m\u001b[2;36m \u001b[0m\u001b[1;36m0\u001b[0m: \u001b[1;36m394\u001b[0m                                                              \u001b]8;id=859287;file:///home/ngardn10/projects/cuticulus/cuticulus/core/datasets/builder.py\u001b\\\u001b[2mbuilder.py\u001b[0m\u001b]8;;\u001b\\\u001b[2m:\u001b[0m\u001b]8;id=985961;file:///home/ngardn10/projects/cuticulus/cuticulus/core/datasets/builder.py#131\u001b\\\u001b[2m131\u001b[0m\u001b]8;;\u001b\\\n"
      ]
     },
     "metadata": {},
     "output_type": "display_data"
    },
    {
     "data": {
      "text/html": [
       "<pre style=\"white-space:pre;overflow-x:auto;line-height:normal;font-family:Menlo,'DejaVu Sans Mono',consolas,'Courier New',monospace\"><span style=\"color: #7fbfbf; text-decoration-color: #7fbfbf\">           </span><span style=\"color: #008080; text-decoration-color: #008080; font-weight: bold\">1</span>: <span style=\"color: #008080; text-decoration-color: #008080; font-weight: bold\">372</span>                                                              <a href=\"file:///home/ngardn10/projects/cuticulus/cuticulus/core/datasets/builder.py\"><span style=\"color: #7f7f7f; text-decoration-color: #7f7f7f\">builder.py</span></a><span style=\"color: #7f7f7f; text-decoration-color: #7f7f7f\">:</span><a href=\"file:///home/ngardn10/projects/cuticulus/cuticulus/core/datasets/builder.py#131\"><span style=\"color: #7f7f7f; text-decoration-color: #7f7f7f\">131</span></a>\n",
       "</pre>\n"
      ],
      "text/plain": [
       "\u001b[2;36m          \u001b[0m\u001b[2;36m \u001b[0m\u001b[1;36m1\u001b[0m: \u001b[1;36m372\u001b[0m                                                              \u001b]8;id=474660;file:///home/ngardn10/projects/cuticulus/cuticulus/core/datasets/builder.py\u001b\\\u001b[2mbuilder.py\u001b[0m\u001b]8;;\u001b\\\u001b[2m:\u001b[0m\u001b]8;id=866629;file:///home/ngardn10/projects/cuticulus/cuticulus/core/datasets/builder.py#131\u001b\\\u001b[2m131\u001b[0m\u001b]8;;\u001b\\\n"
      ]
     },
     "metadata": {},
     "output_type": "display_data"
    }
   ],
   "source": [
    "patch_size = (32, 32)\n",
    "ds = BackgroundSub(\n",
    "    size=patch_size,\n",
    ")\n",
    "\n",
    "# torch expects images to be in format (batch, channels, height, width)\n",
    "ds.images = ds.images.transpose(0, 3, 1, 2)\n",
    "ds.images = ds.images.astype(np.float32)\n",
    "\n",
    "ds.stratified_split(n_samples=1000, clamp=True)\n",
    "ds.split_validation()\n",
    "\n",
    "train_images, train_labels = ds.train()\n",
    "test_images, test_labels = ds.test()\n",
    "val_images, val_labels = ds.validate()"
   ]
  },
  {
   "cell_type": "code",
   "execution_count": 23,
   "metadata": {},
   "outputs": [
    {
     "name": "stderr",
     "output_type": "stream",
     "text": [
      "Using cache found in /home/ngardn10/.cache/torch/hub/pytorch_vision_v0.10.0\n"
     ]
    },
    {
     "data": {
      "text/plain": [
       "ResNet(\n",
       "  (conv1): Conv2d(3, 64, kernel_size=(7, 7), stride=(2, 2), padding=(3, 3), bias=False)\n",
       "  (bn1): BatchNorm2d(64, eps=1e-05, momentum=0.1, affine=True, track_running_stats=True)\n",
       "  (relu): ReLU(inplace=True)\n",
       "  (maxpool): MaxPool2d(kernel_size=3, stride=2, padding=1, dilation=1, ceil_mode=False)\n",
       "  (layer1): Sequential(\n",
       "    (0): BasicBlock(\n",
       "      (conv1): Conv2d(64, 64, kernel_size=(3, 3), stride=(1, 1), padding=(1, 1), bias=False)\n",
       "      (bn1): BatchNorm2d(64, eps=1e-05, momentum=0.1, affine=True, track_running_stats=True)\n",
       "      (relu): ReLU(inplace=True)\n",
       "      (conv2): Conv2d(64, 64, kernel_size=(3, 3), stride=(1, 1), padding=(1, 1), bias=False)\n",
       "      (bn2): BatchNorm2d(64, eps=1e-05, momentum=0.1, affine=True, track_running_stats=True)\n",
       "    )\n",
       "    (1): BasicBlock(\n",
       "      (conv1): Conv2d(64, 64, kernel_size=(3, 3), stride=(1, 1), padding=(1, 1), bias=False)\n",
       "      (bn1): BatchNorm2d(64, eps=1e-05, momentum=0.1, affine=True, track_running_stats=True)\n",
       "      (relu): ReLU(inplace=True)\n",
       "      (conv2): Conv2d(64, 64, kernel_size=(3, 3), stride=(1, 1), padding=(1, 1), bias=False)\n",
       "      (bn2): BatchNorm2d(64, eps=1e-05, momentum=0.1, affine=True, track_running_stats=True)\n",
       "    )\n",
       "  )\n",
       "  (layer2): Sequential(\n",
       "    (0): BasicBlock(\n",
       "      (conv1): Conv2d(64, 128, kernel_size=(3, 3), stride=(2, 2), padding=(1, 1), bias=False)\n",
       "      (bn1): BatchNorm2d(128, eps=1e-05, momentum=0.1, affine=True, track_running_stats=True)\n",
       "      (relu): ReLU(inplace=True)\n",
       "      (conv2): Conv2d(128, 128, kernel_size=(3, 3), stride=(1, 1), padding=(1, 1), bias=False)\n",
       "      (bn2): BatchNorm2d(128, eps=1e-05, momentum=0.1, affine=True, track_running_stats=True)\n",
       "      (downsample): Sequential(\n",
       "        (0): Conv2d(64, 128, kernel_size=(1, 1), stride=(2, 2), bias=False)\n",
       "        (1): BatchNorm2d(128, eps=1e-05, momentum=0.1, affine=True, track_running_stats=True)\n",
       "      )\n",
       "    )\n",
       "    (1): BasicBlock(\n",
       "      (conv1): Conv2d(128, 128, kernel_size=(3, 3), stride=(1, 1), padding=(1, 1), bias=False)\n",
       "      (bn1): BatchNorm2d(128, eps=1e-05, momentum=0.1, affine=True, track_running_stats=True)\n",
       "      (relu): ReLU(inplace=True)\n",
       "      (conv2): Conv2d(128, 128, kernel_size=(3, 3), stride=(1, 1), padding=(1, 1), bias=False)\n",
       "      (bn2): BatchNorm2d(128, eps=1e-05, momentum=0.1, affine=True, track_running_stats=True)\n",
       "    )\n",
       "  )\n",
       "  (layer3): Sequential(\n",
       "    (0): BasicBlock(\n",
       "      (conv1): Conv2d(128, 256, kernel_size=(3, 3), stride=(2, 2), padding=(1, 1), bias=False)\n",
       "      (bn1): BatchNorm2d(256, eps=1e-05, momentum=0.1, affine=True, track_running_stats=True)\n",
       "      (relu): ReLU(inplace=True)\n",
       "      (conv2): Conv2d(256, 256, kernel_size=(3, 3), stride=(1, 1), padding=(1, 1), bias=False)\n",
       "      (bn2): BatchNorm2d(256, eps=1e-05, momentum=0.1, affine=True, track_running_stats=True)\n",
       "      (downsample): Sequential(\n",
       "        (0): Conv2d(128, 256, kernel_size=(1, 1), stride=(2, 2), bias=False)\n",
       "        (1): BatchNorm2d(256, eps=1e-05, momentum=0.1, affine=True, track_running_stats=True)\n",
       "      )\n",
       "    )\n",
       "    (1): BasicBlock(\n",
       "      (conv1): Conv2d(256, 256, kernel_size=(3, 3), stride=(1, 1), padding=(1, 1), bias=False)\n",
       "      (bn1): BatchNorm2d(256, eps=1e-05, momentum=0.1, affine=True, track_running_stats=True)\n",
       "      (relu): ReLU(inplace=True)\n",
       "      (conv2): Conv2d(256, 256, kernel_size=(3, 3), stride=(1, 1), padding=(1, 1), bias=False)\n",
       "      (bn2): BatchNorm2d(256, eps=1e-05, momentum=0.1, affine=True, track_running_stats=True)\n",
       "    )\n",
       "  )\n",
       "  (layer4): Sequential(\n",
       "    (0): BasicBlock(\n",
       "      (conv1): Conv2d(256, 512, kernel_size=(3, 3), stride=(2, 2), padding=(1, 1), bias=False)\n",
       "      (bn1): BatchNorm2d(512, eps=1e-05, momentum=0.1, affine=True, track_running_stats=True)\n",
       "      (relu): ReLU(inplace=True)\n",
       "      (conv2): Conv2d(512, 512, kernel_size=(3, 3), stride=(1, 1), padding=(1, 1), bias=False)\n",
       "      (bn2): BatchNorm2d(512, eps=1e-05, momentum=0.1, affine=True, track_running_stats=True)\n",
       "      (downsample): Sequential(\n",
       "        (0): Conv2d(256, 512, kernel_size=(1, 1), stride=(2, 2), bias=False)\n",
       "        (1): BatchNorm2d(512, eps=1e-05, momentum=0.1, affine=True, track_running_stats=True)\n",
       "      )\n",
       "    )\n",
       "    (1): BasicBlock(\n",
       "      (conv1): Conv2d(512, 512, kernel_size=(3, 3), stride=(1, 1), padding=(1, 1), bias=False)\n",
       "      (bn1): BatchNorm2d(512, eps=1e-05, momentum=0.1, affine=True, track_running_stats=True)\n",
       "      (relu): ReLU(inplace=True)\n",
       "      (conv2): Conv2d(512, 512, kernel_size=(3, 3), stride=(1, 1), padding=(1, 1), bias=False)\n",
       "      (bn2): BatchNorm2d(512, eps=1e-05, momentum=0.1, affine=True, track_running_stats=True)\n",
       "    )\n",
       "  )\n",
       "  (avgpool): AdaptiveAvgPool2d(output_size=(1, 1))\n",
       "  (fc): Linear(in_features=512, out_features=2, bias=True)\n",
       ")"
      ]
     },
     "execution_count": 23,
     "metadata": {},
     "output_type": "execute_result"
    }
   ],
   "source": [
    "model = torch.hub.load('pytorch/vision:v0.10.0', 'resnet18', pretrained=True)\n",
    "num_ftrs = model.fc.in_features\n",
    "model.fc = torch.nn.Linear(num_ftrs, 2)\n",
    "model.eval()"
   ]
  },
  {
   "cell_type": "code",
   "execution_count": 24,
   "metadata": {},
   "outputs": [
    {
     "name": "stdout",
     "output_type": "stream",
     "text": [
      "Params to learn:\n",
      "\t conv1.weight\n",
      "\t bn1.weight\n",
      "\t bn1.bias\n",
      "\t layer1.0.conv1.weight\n",
      "\t layer1.0.bn1.weight\n",
      "\t layer1.0.bn1.bias\n",
      "\t layer1.0.conv2.weight\n",
      "\t layer1.0.bn2.weight\n",
      "\t layer1.0.bn2.bias\n",
      "\t layer1.1.conv1.weight\n",
      "\t layer1.1.bn1.weight\n",
      "\t layer1.1.bn1.bias\n",
      "\t layer1.1.conv2.weight\n",
      "\t layer1.1.bn2.weight\n",
      "\t layer1.1.bn2.bias\n",
      "\t layer2.0.conv1.weight\n",
      "\t layer2.0.bn1.weight\n",
      "\t layer2.0.bn1.bias\n",
      "\t layer2.0.conv2.weight\n",
      "\t layer2.0.bn2.weight\n",
      "\t layer2.0.bn2.bias\n",
      "\t layer2.0.downsample.0.weight\n",
      "\t layer2.0.downsample.1.weight\n",
      "\t layer2.0.downsample.1.bias\n",
      "\t layer2.1.conv1.weight\n",
      "\t layer2.1.bn1.weight\n",
      "\t layer2.1.bn1.bias\n",
      "\t layer2.1.conv2.weight\n",
      "\t layer2.1.bn2.weight\n",
      "\t layer2.1.bn2.bias\n",
      "\t layer3.0.conv1.weight\n",
      "\t layer3.0.bn1.weight\n",
      "\t layer3.0.bn1.bias\n",
      "\t layer3.0.conv2.weight\n",
      "\t layer3.0.bn2.weight\n",
      "\t layer3.0.bn2.bias\n",
      "\t layer3.0.downsample.0.weight\n",
      "\t layer3.0.downsample.1.weight\n",
      "\t layer3.0.downsample.1.bias\n",
      "\t layer3.1.conv1.weight\n",
      "\t layer3.1.bn1.weight\n",
      "\t layer3.1.bn1.bias\n",
      "\t layer3.1.conv2.weight\n",
      "\t layer3.1.bn2.weight\n",
      "\t layer3.1.bn2.bias\n",
      "\t layer4.0.conv1.weight\n",
      "\t layer4.0.bn1.weight\n",
      "\t layer4.0.bn1.bias\n",
      "\t layer4.0.conv2.weight\n",
      "\t layer4.0.bn2.weight\n",
      "\t layer4.0.bn2.bias\n",
      "\t layer4.0.downsample.0.weight\n",
      "\t layer4.0.downsample.1.weight\n",
      "\t layer4.0.downsample.1.bias\n",
      "\t layer4.1.conv1.weight\n",
      "\t layer4.1.bn1.weight\n",
      "\t layer4.1.bn1.bias\n",
      "\t layer4.1.conv2.weight\n",
      "\t layer4.1.bn2.weight\n",
      "\t layer4.1.bn2.bias\n",
      "\t fc.weight\n",
      "\t fc.bias\n"
     ]
    }
   ],
   "source": [
    "model = model.to(device)\n",
    "params_to_update = model.parameters()\n",
    "print(\"Params to learn:\")\n",
    "\n",
    "params_to_update = []\n",
    "for name,param in model.named_parameters():\n",
    "    if param.requires_grad == True:\n",
    "        params_to_update.append(param)\n",
    "        print(\"\\t\",name)\n",
    "\n",
    "\n",
    "# Observe that all parameters are being optimized\n",
    "optimizer_ft = torch.optim.SGD(params_to_update, lr=0.001, momentum=0.9)\n",
    "criterion = torch.nn.CrossEntropyLoss()\n",
    "collator = torch.utils.data.dataloader.default_collate"
   ]
  },
  {
   "cell_type": "code",
   "execution_count": 25,
   "metadata": {},
   "outputs": [],
   "source": [
    "train_loader = torch.utils.data.DataLoader(\n",
    "    dataset=TorchDS(train_images, train_labels),\n",
    "    batch_size=16,\n",
    "    shuffle=True,\n",
    "    collate_fn=collator,\n",
    ")\n",
    "val_loader = torch.utils.data.DataLoader(\n",
    "    dataset=TorchDS(val_images, val_labels),\n",
    "    batch_size=16,\n",
    "    shuffle=True,\n",
    "    collate_fn=collator,\n",
    ")"
   ]
  },
  {
   "cell_type": "code",
   "execution_count": 26,
   "metadata": {},
   "outputs": [
    {
     "data": {
      "text/html": [
       "<pre style=\"white-space:pre;overflow-x:auto;line-height:normal;font-family:Menlo,'DejaVu Sans Mono',consolas,'Courier New',monospace\"><span style=\"color: #7fbfbf; text-decoration-color: #7fbfbf\">[14:39:59] </span>Epoch <span style=\"color: #008080; text-decoration-color: #008080; font-weight: bold\">0</span>/<span style=\"color: #008080; text-decoration-color: #008080; font-weight: bold\">99</span>                                                             <a href=\"file:///home/ngardn10/projects/cuticulus/cuticulus/mlutils/torch.py\"><span style=\"color: #7f7f7f; text-decoration-color: #7f7f7f\">torch.py</span></a><span style=\"color: #7f7f7f; text-decoration-color: #7f7f7f\">:</span><a href=\"file:///home/ngardn10/projects/cuticulus/cuticulus/mlutils/torch.py#63\"><span style=\"color: #7f7f7f; text-decoration-color: #7f7f7f\">63</span></a>\n",
       "</pre>\n"
      ],
      "text/plain": [
       "\u001b[2;36m[14:39:59]\u001b[0m\u001b[2;36m \u001b[0mEpoch \u001b[1;36m0\u001b[0m/\u001b[1;36m99\u001b[0m                                                             \u001b]8;id=498481;file:///home/ngardn10/projects/cuticulus/cuticulus/mlutils/torch.py\u001b\\\u001b[2mtorch.py\u001b[0m\u001b]8;;\u001b\\\u001b[2m:\u001b[0m\u001b]8;id=679716;file:///home/ngardn10/projects/cuticulus/cuticulus/mlutils/torch.py#63\u001b\\\u001b[2m63\u001b[0m\u001b]8;;\u001b\\\n"
      ]
     },
     "metadata": {},
     "output_type": "display_data"
    },
    {
     "data": {
      "text/html": [
       "<pre style=\"white-space:pre;overflow-x:auto;line-height:normal;font-family:Menlo,'DejaVu Sans Mono',consolas,'Courier New',monospace\"><span style=\"color: #7fbfbf; text-decoration-color: #7fbfbf\">           </span>----------                                                             <a href=\"file:///home/ngardn10/projects/cuticulus/cuticulus/mlutils/torch.py\"><span style=\"color: #7f7f7f; text-decoration-color: #7f7f7f\">torch.py</span></a><span style=\"color: #7f7f7f; text-decoration-color: #7f7f7f\">:</span><a href=\"file:///home/ngardn10/projects/cuticulus/cuticulus/mlutils/torch.py#64\"><span style=\"color: #7f7f7f; text-decoration-color: #7f7f7f\">64</span></a>\n",
       "</pre>\n"
      ],
      "text/plain": [
       "\u001b[2;36m          \u001b[0m\u001b[2;36m \u001b[0m----------                                                             \u001b]8;id=343328;file:///home/ngardn10/projects/cuticulus/cuticulus/mlutils/torch.py\u001b\\\u001b[2mtorch.py\u001b[0m\u001b]8;;\u001b\\\u001b[2m:\u001b[0m\u001b]8;id=680169;file:///home/ngardn10/projects/cuticulus/cuticulus/mlutils/torch.py#64\u001b\\\u001b[2m64\u001b[0m\u001b]8;;\u001b\\\n"
      ]
     },
     "metadata": {},
     "output_type": "display_data"
    },
    {
     "data": {
      "text/html": [
       "<pre style=\"white-space:pre;overflow-x:auto;line-height:normal;font-family:Menlo,'DejaVu Sans Mono',consolas,'Courier New',monospace\"><span style=\"color: #7fbfbf; text-decoration-color: #7fbfbf\">[14:40:01] </span>train Loss: <span style=\"color: #008080; text-decoration-color: #008080; font-weight: bold\">0.6008</span> Acc: <span style=\"color: #008080; text-decoration-color: #008080; font-weight: bold\">0.7240</span>                                        <a href=\"file:///home/ngardn10/projects/cuticulus/cuticulus/mlutils/torch.py\"><span style=\"color: #7f7f7f; text-decoration-color: #7f7f7f\">torch.py</span></a><span style=\"color: #7f7f7f; text-decoration-color: #7f7f7f\">:</span><a href=\"file:///home/ngardn10/projects/cuticulus/cuticulus/mlutils/torch.py#109\"><span style=\"color: #7f7f7f; text-decoration-color: #7f7f7f\">109</span></a>\n",
       "</pre>\n"
      ],
      "text/plain": [
       "\u001b[2;36m[14:40:01]\u001b[0m\u001b[2;36m \u001b[0mtrain Loss: \u001b[1;36m0.6008\u001b[0m Acc: \u001b[1;36m0.7240\u001b[0m                                        \u001b]8;id=824553;file:///home/ngardn10/projects/cuticulus/cuticulus/mlutils/torch.py\u001b\\\u001b[2mtorch.py\u001b[0m\u001b]8;;\u001b\\\u001b[2m:\u001b[0m\u001b]8;id=556510;file:///home/ngardn10/projects/cuticulus/cuticulus/mlutils/torch.py#109\u001b\\\u001b[2m109\u001b[0m\u001b]8;;\u001b\\\n"
      ]
     },
     "metadata": {},
     "output_type": "display_data"
    },
    {
     "data": {
      "text/html": [
       "<pre style=\"white-space:pre;overflow-x:auto;line-height:normal;font-family:Menlo,'DejaVu Sans Mono',consolas,'Courier New',monospace\"><span style=\"color: #7fbfbf; text-decoration-color: #7fbfbf\">           </span>val Loss: <span style=\"color: #008080; text-decoration-color: #008080; font-weight: bold\">0.4771</span> Acc: <span style=\"color: #008080; text-decoration-color: #008080; font-weight: bold\">0.7728</span>                                          <a href=\"file:///home/ngardn10/projects/cuticulus/cuticulus/mlutils/torch.py\"><span style=\"color: #7f7f7f; text-decoration-color: #7f7f7f\">torch.py</span></a><span style=\"color: #7f7f7f; text-decoration-color: #7f7f7f\">:</span><a href=\"file:///home/ngardn10/projects/cuticulus/cuticulus/mlutils/torch.py#109\"><span style=\"color: #7f7f7f; text-decoration-color: #7f7f7f\">109</span></a>\n",
       "</pre>\n"
      ],
      "text/plain": [
       "\u001b[2;36m          \u001b[0m\u001b[2;36m \u001b[0mval Loss: \u001b[1;36m0.4771\u001b[0m Acc: \u001b[1;36m0.7728\u001b[0m                                          \u001b]8;id=167566;file:///home/ngardn10/projects/cuticulus/cuticulus/mlutils/torch.py\u001b\\\u001b[2mtorch.py\u001b[0m\u001b]8;;\u001b\\\u001b[2m:\u001b[0m\u001b]8;id=456711;file:///home/ngardn10/projects/cuticulus/cuticulus/mlutils/torch.py#109\u001b\\\u001b[2m109\u001b[0m\u001b]8;;\u001b\\\n"
      ]
     },
     "metadata": {},
     "output_type": "display_data"
    },
    {
     "data": {
      "text/html": [
       "<pre style=\"white-space:pre;overflow-x:auto;line-height:normal;font-family:Menlo,'DejaVu Sans Mono',consolas,'Courier New',monospace\"><span style=\"color: #7fbfbf; text-decoration-color: #7fbfbf\">           </span>Epoch <span style=\"color: #008080; text-decoration-color: #008080; font-weight: bold\">1</span>/<span style=\"color: #008080; text-decoration-color: #008080; font-weight: bold\">99</span>                                                             <a href=\"file:///home/ngardn10/projects/cuticulus/cuticulus/mlutils/torch.py\"><span style=\"color: #7f7f7f; text-decoration-color: #7f7f7f\">torch.py</span></a><span style=\"color: #7f7f7f; text-decoration-color: #7f7f7f\">:</span><a href=\"file:///home/ngardn10/projects/cuticulus/cuticulus/mlutils/torch.py#63\"><span style=\"color: #7f7f7f; text-decoration-color: #7f7f7f\">63</span></a>\n",
       "</pre>\n"
      ],
      "text/plain": [
       "\u001b[2;36m          \u001b[0m\u001b[2;36m \u001b[0mEpoch \u001b[1;36m1\u001b[0m/\u001b[1;36m99\u001b[0m                                                             \u001b]8;id=541141;file:///home/ngardn10/projects/cuticulus/cuticulus/mlutils/torch.py\u001b\\\u001b[2mtorch.py\u001b[0m\u001b]8;;\u001b\\\u001b[2m:\u001b[0m\u001b]8;id=968839;file:///home/ngardn10/projects/cuticulus/cuticulus/mlutils/torch.py#63\u001b\\\u001b[2m63\u001b[0m\u001b]8;;\u001b\\\n"
      ]
     },
     "metadata": {},
     "output_type": "display_data"
    },
    {
     "data": {
      "text/html": [
       "<pre style=\"white-space:pre;overflow-x:auto;line-height:normal;font-family:Menlo,'DejaVu Sans Mono',consolas,'Courier New',monospace\"><span style=\"color: #7fbfbf; text-decoration-color: #7fbfbf\">           </span>----------                                                             <a href=\"file:///home/ngardn10/projects/cuticulus/cuticulus/mlutils/torch.py\"><span style=\"color: #7f7f7f; text-decoration-color: #7f7f7f\">torch.py</span></a><span style=\"color: #7f7f7f; text-decoration-color: #7f7f7f\">:</span><a href=\"file:///home/ngardn10/projects/cuticulus/cuticulus/mlutils/torch.py#64\"><span style=\"color: #7f7f7f; text-decoration-color: #7f7f7f\">64</span></a>\n",
       "</pre>\n"
      ],
      "text/plain": [
       "\u001b[2;36m          \u001b[0m\u001b[2;36m \u001b[0m----------                                                             \u001b]8;id=734765;file:///home/ngardn10/projects/cuticulus/cuticulus/mlutils/torch.py\u001b\\\u001b[2mtorch.py\u001b[0m\u001b]8;;\u001b\\\u001b[2m:\u001b[0m\u001b]8;id=992316;file:///home/ngardn10/projects/cuticulus/cuticulus/mlutils/torch.py#64\u001b\\\u001b[2m64\u001b[0m\u001b]8;;\u001b\\\n"
      ]
     },
     "metadata": {},
     "output_type": "display_data"
    },
    {
     "data": {
      "text/html": [
       "<pre style=\"white-space:pre;overflow-x:auto;line-height:normal;font-family:Menlo,'DejaVu Sans Mono',consolas,'Courier New',monospace\"><span style=\"color: #7fbfbf; text-decoration-color: #7fbfbf\">[14:40:03] </span>train Loss: <span style=\"color: #008080; text-decoration-color: #008080; font-weight: bold\">0.4657</span> Acc: <span style=\"color: #008080; text-decoration-color: #008080; font-weight: bold\">0.7815</span>                                        <a href=\"file:///home/ngardn10/projects/cuticulus/cuticulus/mlutils/torch.py\"><span style=\"color: #7f7f7f; text-decoration-color: #7f7f7f\">torch.py</span></a><span style=\"color: #7f7f7f; text-decoration-color: #7f7f7f\">:</span><a href=\"file:///home/ngardn10/projects/cuticulus/cuticulus/mlutils/torch.py#109\"><span style=\"color: #7f7f7f; text-decoration-color: #7f7f7f\">109</span></a>\n",
       "</pre>\n"
      ],
      "text/plain": [
       "\u001b[2;36m[14:40:03]\u001b[0m\u001b[2;36m \u001b[0mtrain Loss: \u001b[1;36m0.4657\u001b[0m Acc: \u001b[1;36m0.7815\u001b[0m                                        \u001b]8;id=6059;file:///home/ngardn10/projects/cuticulus/cuticulus/mlutils/torch.py\u001b\\\u001b[2mtorch.py\u001b[0m\u001b]8;;\u001b\\\u001b[2m:\u001b[0m\u001b]8;id=180250;file:///home/ngardn10/projects/cuticulus/cuticulus/mlutils/torch.py#109\u001b\\\u001b[2m109\u001b[0m\u001b]8;;\u001b\\\n"
      ]
     },
     "metadata": {},
     "output_type": "display_data"
    },
    {
     "data": {
      "text/html": [
       "<pre style=\"white-space:pre;overflow-x:auto;line-height:normal;font-family:Menlo,'DejaVu Sans Mono',consolas,'Courier New',monospace\"><span style=\"color: #7fbfbf; text-decoration-color: #7fbfbf\">           </span>val Loss: <span style=\"color: #008080; text-decoration-color: #008080; font-weight: bold\">0.4426</span> Acc: <span style=\"color: #008080; text-decoration-color: #008080; font-weight: bold\">0.7898</span>                                          <a href=\"file:///home/ngardn10/projects/cuticulus/cuticulus/mlutils/torch.py\"><span style=\"color: #7f7f7f; text-decoration-color: #7f7f7f\">torch.py</span></a><span style=\"color: #7f7f7f; text-decoration-color: #7f7f7f\">:</span><a href=\"file:///home/ngardn10/projects/cuticulus/cuticulus/mlutils/torch.py#109\"><span style=\"color: #7f7f7f; text-decoration-color: #7f7f7f\">109</span></a>\n",
       "</pre>\n"
      ],
      "text/plain": [
       "\u001b[2;36m          \u001b[0m\u001b[2;36m \u001b[0mval Loss: \u001b[1;36m0.4426\u001b[0m Acc: \u001b[1;36m0.7898\u001b[0m                                          \u001b]8;id=924968;file:///home/ngardn10/projects/cuticulus/cuticulus/mlutils/torch.py\u001b\\\u001b[2mtorch.py\u001b[0m\u001b]8;;\u001b\\\u001b[2m:\u001b[0m\u001b]8;id=282905;file:///home/ngardn10/projects/cuticulus/cuticulus/mlutils/torch.py#109\u001b\\\u001b[2m109\u001b[0m\u001b]8;;\u001b\\\n"
      ]
     },
     "metadata": {},
     "output_type": "display_data"
    },
    {
     "data": {
      "text/html": [
       "<pre style=\"white-space:pre;overflow-x:auto;line-height:normal;font-family:Menlo,'DejaVu Sans Mono',consolas,'Courier New',monospace\"><span style=\"color: #7fbfbf; text-decoration-color: #7fbfbf\">           </span>Epoch <span style=\"color: #008080; text-decoration-color: #008080; font-weight: bold\">2</span>/<span style=\"color: #008080; text-decoration-color: #008080; font-weight: bold\">99</span>                                                             <a href=\"file:///home/ngardn10/projects/cuticulus/cuticulus/mlutils/torch.py\"><span style=\"color: #7f7f7f; text-decoration-color: #7f7f7f\">torch.py</span></a><span style=\"color: #7f7f7f; text-decoration-color: #7f7f7f\">:</span><a href=\"file:///home/ngardn10/projects/cuticulus/cuticulus/mlutils/torch.py#63\"><span style=\"color: #7f7f7f; text-decoration-color: #7f7f7f\">63</span></a>\n",
       "</pre>\n"
      ],
      "text/plain": [
       "\u001b[2;36m          \u001b[0m\u001b[2;36m \u001b[0mEpoch \u001b[1;36m2\u001b[0m/\u001b[1;36m99\u001b[0m                                                             \u001b]8;id=714725;file:///home/ngardn10/projects/cuticulus/cuticulus/mlutils/torch.py\u001b\\\u001b[2mtorch.py\u001b[0m\u001b]8;;\u001b\\\u001b[2m:\u001b[0m\u001b]8;id=883661;file:///home/ngardn10/projects/cuticulus/cuticulus/mlutils/torch.py#63\u001b\\\u001b[2m63\u001b[0m\u001b]8;;\u001b\\\n"
      ]
     },
     "metadata": {},
     "output_type": "display_data"
    },
    {
     "data": {
      "text/html": [
       "<pre style=\"white-space:pre;overflow-x:auto;line-height:normal;font-family:Menlo,'DejaVu Sans Mono',consolas,'Courier New',monospace\"><span style=\"color: #7fbfbf; text-decoration-color: #7fbfbf\">           </span>----------                                                             <a href=\"file:///home/ngardn10/projects/cuticulus/cuticulus/mlutils/torch.py\"><span style=\"color: #7f7f7f; text-decoration-color: #7f7f7f\">torch.py</span></a><span style=\"color: #7f7f7f; text-decoration-color: #7f7f7f\">:</span><a href=\"file:///home/ngardn10/projects/cuticulus/cuticulus/mlutils/torch.py#64\"><span style=\"color: #7f7f7f; text-decoration-color: #7f7f7f\">64</span></a>\n",
       "</pre>\n"
      ],
      "text/plain": [
       "\u001b[2;36m          \u001b[0m\u001b[2;36m \u001b[0m----------                                                             \u001b]8;id=549640;file:///home/ngardn10/projects/cuticulus/cuticulus/mlutils/torch.py\u001b\\\u001b[2mtorch.py\u001b[0m\u001b]8;;\u001b\\\u001b[2m:\u001b[0m\u001b]8;id=911733;file:///home/ngardn10/projects/cuticulus/cuticulus/mlutils/torch.py#64\u001b\\\u001b[2m64\u001b[0m\u001b]8;;\u001b\\\n"
      ]
     },
     "metadata": {},
     "output_type": "display_data"
    },
    {
     "data": {
      "text/html": [
       "<pre style=\"white-space:pre;overflow-x:auto;line-height:normal;font-family:Menlo,'DejaVu Sans Mono',consolas,'Courier New',monospace\"><span style=\"color: #7fbfbf; text-decoration-color: #7fbfbf\">[14:40:05] </span>train Loss: <span style=\"color: #008080; text-decoration-color: #008080; font-weight: bold\">0.3999</span> Acc: <span style=\"color: #008080; text-decoration-color: #008080; font-weight: bold\">0.8145</span>                                        <a href=\"file:///home/ngardn10/projects/cuticulus/cuticulus/mlutils/torch.py\"><span style=\"color: #7f7f7f; text-decoration-color: #7f7f7f\">torch.py</span></a><span style=\"color: #7f7f7f; text-decoration-color: #7f7f7f\">:</span><a href=\"file:///home/ngardn10/projects/cuticulus/cuticulus/mlutils/torch.py#109\"><span style=\"color: #7f7f7f; text-decoration-color: #7f7f7f\">109</span></a>\n",
       "</pre>\n"
      ],
      "text/plain": [
       "\u001b[2;36m[14:40:05]\u001b[0m\u001b[2;36m \u001b[0mtrain Loss: \u001b[1;36m0.3999\u001b[0m Acc: \u001b[1;36m0.8145\u001b[0m                                        \u001b]8;id=674856;file:///home/ngardn10/projects/cuticulus/cuticulus/mlutils/torch.py\u001b\\\u001b[2mtorch.py\u001b[0m\u001b]8;;\u001b\\\u001b[2m:\u001b[0m\u001b]8;id=42545;file:///home/ngardn10/projects/cuticulus/cuticulus/mlutils/torch.py#109\u001b\\\u001b[2m109\u001b[0m\u001b]8;;\u001b\\\n"
      ]
     },
     "metadata": {},
     "output_type": "display_data"
    },
    {
     "data": {
      "text/html": [
       "<pre style=\"white-space:pre;overflow-x:auto;line-height:normal;font-family:Menlo,'DejaVu Sans Mono',consolas,'Courier New',monospace\"><span style=\"color: #7fbfbf; text-decoration-color: #7fbfbf\">           </span>val Loss: <span style=\"color: #008080; text-decoration-color: #008080; font-weight: bold\">0.5131</span> Acc: <span style=\"color: #008080; text-decoration-color: #008080; font-weight: bold\">0.7755</span>                                          <a href=\"file:///home/ngardn10/projects/cuticulus/cuticulus/mlutils/torch.py\"><span style=\"color: #7f7f7f; text-decoration-color: #7f7f7f\">torch.py</span></a><span style=\"color: #7f7f7f; text-decoration-color: #7f7f7f\">:</span><a href=\"file:///home/ngardn10/projects/cuticulus/cuticulus/mlutils/torch.py#109\"><span style=\"color: #7f7f7f; text-decoration-color: #7f7f7f\">109</span></a>\n",
       "</pre>\n"
      ],
      "text/plain": [
       "\u001b[2;36m          \u001b[0m\u001b[2;36m \u001b[0mval Loss: \u001b[1;36m0.5131\u001b[0m Acc: \u001b[1;36m0.7755\u001b[0m                                          \u001b]8;id=883442;file:///home/ngardn10/projects/cuticulus/cuticulus/mlutils/torch.py\u001b\\\u001b[2mtorch.py\u001b[0m\u001b]8;;\u001b\\\u001b[2m:\u001b[0m\u001b]8;id=851583;file:///home/ngardn10/projects/cuticulus/cuticulus/mlutils/torch.py#109\u001b\\\u001b[2m109\u001b[0m\u001b]8;;\u001b\\\n"
      ]
     },
     "metadata": {},
     "output_type": "display_data"
    },
    {
     "data": {
      "text/html": [
       "<pre style=\"white-space:pre;overflow-x:auto;line-height:normal;font-family:Menlo,'DejaVu Sans Mono',consolas,'Courier New',monospace\"><span style=\"color: #7fbfbf; text-decoration-color: #7fbfbf\">           </span>Epoch <span style=\"color: #008080; text-decoration-color: #008080; font-weight: bold\">3</span>/<span style=\"color: #008080; text-decoration-color: #008080; font-weight: bold\">99</span>                                                             <a href=\"file:///home/ngardn10/projects/cuticulus/cuticulus/mlutils/torch.py\"><span style=\"color: #7f7f7f; text-decoration-color: #7f7f7f\">torch.py</span></a><span style=\"color: #7f7f7f; text-decoration-color: #7f7f7f\">:</span><a href=\"file:///home/ngardn10/projects/cuticulus/cuticulus/mlutils/torch.py#63\"><span style=\"color: #7f7f7f; text-decoration-color: #7f7f7f\">63</span></a>\n",
       "</pre>\n"
      ],
      "text/plain": [
       "\u001b[2;36m          \u001b[0m\u001b[2;36m \u001b[0mEpoch \u001b[1;36m3\u001b[0m/\u001b[1;36m99\u001b[0m                                                             \u001b]8;id=317515;file:///home/ngardn10/projects/cuticulus/cuticulus/mlutils/torch.py\u001b\\\u001b[2mtorch.py\u001b[0m\u001b]8;;\u001b\\\u001b[2m:\u001b[0m\u001b]8;id=873210;file:///home/ngardn10/projects/cuticulus/cuticulus/mlutils/torch.py#63\u001b\\\u001b[2m63\u001b[0m\u001b]8;;\u001b\\\n"
      ]
     },
     "metadata": {},
     "output_type": "display_data"
    },
    {
     "data": {
      "text/html": [
       "<pre style=\"white-space:pre;overflow-x:auto;line-height:normal;font-family:Menlo,'DejaVu Sans Mono',consolas,'Courier New',monospace\"><span style=\"color: #7fbfbf; text-decoration-color: #7fbfbf\">           </span>----------                                                             <a href=\"file:///home/ngardn10/projects/cuticulus/cuticulus/mlutils/torch.py\"><span style=\"color: #7f7f7f; text-decoration-color: #7f7f7f\">torch.py</span></a><span style=\"color: #7f7f7f; text-decoration-color: #7f7f7f\">:</span><a href=\"file:///home/ngardn10/projects/cuticulus/cuticulus/mlutils/torch.py#64\"><span style=\"color: #7f7f7f; text-decoration-color: #7f7f7f\">64</span></a>\n",
       "</pre>\n"
      ],
      "text/plain": [
       "\u001b[2;36m          \u001b[0m\u001b[2;36m \u001b[0m----------                                                             \u001b]8;id=851543;file:///home/ngardn10/projects/cuticulus/cuticulus/mlutils/torch.py\u001b\\\u001b[2mtorch.py\u001b[0m\u001b]8;;\u001b\\\u001b[2m:\u001b[0m\u001b]8;id=989017;file:///home/ngardn10/projects/cuticulus/cuticulus/mlutils/torch.py#64\u001b\\\u001b[2m64\u001b[0m\u001b]8;;\u001b\\\n"
      ]
     },
     "metadata": {},
     "output_type": "display_data"
    },
    {
     "data": {
      "text/html": [
       "<pre style=\"white-space:pre;overflow-x:auto;line-height:normal;font-family:Menlo,'DejaVu Sans Mono',consolas,'Courier New',monospace\"><span style=\"color: #7fbfbf; text-decoration-color: #7fbfbf\">[14:40:07] </span>train Loss: <span style=\"color: #008080; text-decoration-color: #008080; font-weight: bold\">0.3492</span> Acc: <span style=\"color: #008080; text-decoration-color: #008080; font-weight: bold\">0.8380</span>                                        <a href=\"file:///home/ngardn10/projects/cuticulus/cuticulus/mlutils/torch.py\"><span style=\"color: #7f7f7f; text-decoration-color: #7f7f7f\">torch.py</span></a><span style=\"color: #7f7f7f; text-decoration-color: #7f7f7f\">:</span><a href=\"file:///home/ngardn10/projects/cuticulus/cuticulus/mlutils/torch.py#109\"><span style=\"color: #7f7f7f; text-decoration-color: #7f7f7f\">109</span></a>\n",
       "</pre>\n"
      ],
      "text/plain": [
       "\u001b[2;36m[14:40:07]\u001b[0m\u001b[2;36m \u001b[0mtrain Loss: \u001b[1;36m0.3492\u001b[0m Acc: \u001b[1;36m0.8380\u001b[0m                                        \u001b]8;id=582999;file:///home/ngardn10/projects/cuticulus/cuticulus/mlutils/torch.py\u001b\\\u001b[2mtorch.py\u001b[0m\u001b]8;;\u001b\\\u001b[2m:\u001b[0m\u001b]8;id=391489;file:///home/ngardn10/projects/cuticulus/cuticulus/mlutils/torch.py#109\u001b\\\u001b[2m109\u001b[0m\u001b]8;;\u001b\\\n"
      ]
     },
     "metadata": {},
     "output_type": "display_data"
    },
    {
     "data": {
      "text/html": [
       "<pre style=\"white-space:pre;overflow-x:auto;line-height:normal;font-family:Menlo,'DejaVu Sans Mono',consolas,'Courier New',monospace\"><span style=\"color: #7fbfbf; text-decoration-color: #7fbfbf\">           </span>val Loss: <span style=\"color: #008080; text-decoration-color: #008080; font-weight: bold\">0.5061</span> Acc: <span style=\"color: #008080; text-decoration-color: #008080; font-weight: bold\">0.7742</span>                                          <a href=\"file:///home/ngardn10/projects/cuticulus/cuticulus/mlutils/torch.py\"><span style=\"color: #7f7f7f; text-decoration-color: #7f7f7f\">torch.py</span></a><span style=\"color: #7f7f7f; text-decoration-color: #7f7f7f\">:</span><a href=\"file:///home/ngardn10/projects/cuticulus/cuticulus/mlutils/torch.py#109\"><span style=\"color: #7f7f7f; text-decoration-color: #7f7f7f\">109</span></a>\n",
       "</pre>\n"
      ],
      "text/plain": [
       "\u001b[2;36m          \u001b[0m\u001b[2;36m \u001b[0mval Loss: \u001b[1;36m0.5061\u001b[0m Acc: \u001b[1;36m0.7742\u001b[0m                                          \u001b]8;id=166291;file:///home/ngardn10/projects/cuticulus/cuticulus/mlutils/torch.py\u001b\\\u001b[2mtorch.py\u001b[0m\u001b]8;;\u001b\\\u001b[2m:\u001b[0m\u001b]8;id=274385;file:///home/ngardn10/projects/cuticulus/cuticulus/mlutils/torch.py#109\u001b\\\u001b[2m109\u001b[0m\u001b]8;;\u001b\\\n"
      ]
     },
     "metadata": {},
     "output_type": "display_data"
    },
    {
     "data": {
      "text/html": [
       "<pre style=\"white-space:pre;overflow-x:auto;line-height:normal;font-family:Menlo,'DejaVu Sans Mono',consolas,'Courier New',monospace\"><span style=\"color: #7fbfbf; text-decoration-color: #7fbfbf\">           </span>Epoch <span style=\"color: #008080; text-decoration-color: #008080; font-weight: bold\">4</span>/<span style=\"color: #008080; text-decoration-color: #008080; font-weight: bold\">99</span>                                                             <a href=\"file:///home/ngardn10/projects/cuticulus/cuticulus/mlutils/torch.py\"><span style=\"color: #7f7f7f; text-decoration-color: #7f7f7f\">torch.py</span></a><span style=\"color: #7f7f7f; text-decoration-color: #7f7f7f\">:</span><a href=\"file:///home/ngardn10/projects/cuticulus/cuticulus/mlutils/torch.py#63\"><span style=\"color: #7f7f7f; text-decoration-color: #7f7f7f\">63</span></a>\n",
       "</pre>\n"
      ],
      "text/plain": [
       "\u001b[2;36m          \u001b[0m\u001b[2;36m \u001b[0mEpoch \u001b[1;36m4\u001b[0m/\u001b[1;36m99\u001b[0m                                                             \u001b]8;id=53718;file:///home/ngardn10/projects/cuticulus/cuticulus/mlutils/torch.py\u001b\\\u001b[2mtorch.py\u001b[0m\u001b]8;;\u001b\\\u001b[2m:\u001b[0m\u001b]8;id=530378;file:///home/ngardn10/projects/cuticulus/cuticulus/mlutils/torch.py#63\u001b\\\u001b[2m63\u001b[0m\u001b]8;;\u001b\\\n"
      ]
     },
     "metadata": {},
     "output_type": "display_data"
    },
    {
     "data": {
      "text/html": [
       "<pre style=\"white-space:pre;overflow-x:auto;line-height:normal;font-family:Menlo,'DejaVu Sans Mono',consolas,'Courier New',monospace\"><span style=\"color: #7fbfbf; text-decoration-color: #7fbfbf\">           </span>----------                                                             <a href=\"file:///home/ngardn10/projects/cuticulus/cuticulus/mlutils/torch.py\"><span style=\"color: #7f7f7f; text-decoration-color: #7f7f7f\">torch.py</span></a><span style=\"color: #7f7f7f; text-decoration-color: #7f7f7f\">:</span><a href=\"file:///home/ngardn10/projects/cuticulus/cuticulus/mlutils/torch.py#64\"><span style=\"color: #7f7f7f; text-decoration-color: #7f7f7f\">64</span></a>\n",
       "</pre>\n"
      ],
      "text/plain": [
       "\u001b[2;36m          \u001b[0m\u001b[2;36m \u001b[0m----------                                                             \u001b]8;id=56819;file:///home/ngardn10/projects/cuticulus/cuticulus/mlutils/torch.py\u001b\\\u001b[2mtorch.py\u001b[0m\u001b]8;;\u001b\\\u001b[2m:\u001b[0m\u001b]8;id=144635;file:///home/ngardn10/projects/cuticulus/cuticulus/mlutils/torch.py#64\u001b\\\u001b[2m64\u001b[0m\u001b]8;;\u001b\\\n"
      ]
     },
     "metadata": {},
     "output_type": "display_data"
    },
    {
     "data": {
      "text/html": [
       "<pre style=\"white-space:pre;overflow-x:auto;line-height:normal;font-family:Menlo,'DejaVu Sans Mono',consolas,'Courier New',monospace\"><span style=\"color: #7fbfbf; text-decoration-color: #7fbfbf\">[14:40:09] </span>train Loss: <span style=\"color: #008080; text-decoration-color: #008080; font-weight: bold\">0.3238</span> Acc: <span style=\"color: #008080; text-decoration-color: #008080; font-weight: bold\">0.8645</span>                                        <a href=\"file:///home/ngardn10/projects/cuticulus/cuticulus/mlutils/torch.py\"><span style=\"color: #7f7f7f; text-decoration-color: #7f7f7f\">torch.py</span></a><span style=\"color: #7f7f7f; text-decoration-color: #7f7f7f\">:</span><a href=\"file:///home/ngardn10/projects/cuticulus/cuticulus/mlutils/torch.py#109\"><span style=\"color: #7f7f7f; text-decoration-color: #7f7f7f\">109</span></a>\n",
       "</pre>\n"
      ],
      "text/plain": [
       "\u001b[2;36m[14:40:09]\u001b[0m\u001b[2;36m \u001b[0mtrain Loss: \u001b[1;36m0.3238\u001b[0m Acc: \u001b[1;36m0.8645\u001b[0m                                        \u001b]8;id=849660;file:///home/ngardn10/projects/cuticulus/cuticulus/mlutils/torch.py\u001b\\\u001b[2mtorch.py\u001b[0m\u001b]8;;\u001b\\\u001b[2m:\u001b[0m\u001b]8;id=852577;file:///home/ngardn10/projects/cuticulus/cuticulus/mlutils/torch.py#109\u001b\\\u001b[2m109\u001b[0m\u001b]8;;\u001b\\\n"
      ]
     },
     "metadata": {},
     "output_type": "display_data"
    },
    {
     "data": {
      "text/html": [
       "<pre style=\"white-space:pre;overflow-x:auto;line-height:normal;font-family:Menlo,'DejaVu Sans Mono',consolas,'Courier New',monospace\"><span style=\"color: #7fbfbf; text-decoration-color: #7fbfbf\">           </span>val Loss: <span style=\"color: #008080; text-decoration-color: #008080; font-weight: bold\">0.5856</span> Acc: <span style=\"color: #008080; text-decoration-color: #008080; font-weight: bold\">0.7337</span>                                          <a href=\"file:///home/ngardn10/projects/cuticulus/cuticulus/mlutils/torch.py\"><span style=\"color: #7f7f7f; text-decoration-color: #7f7f7f\">torch.py</span></a><span style=\"color: #7f7f7f; text-decoration-color: #7f7f7f\">:</span><a href=\"file:///home/ngardn10/projects/cuticulus/cuticulus/mlutils/torch.py#109\"><span style=\"color: #7f7f7f; text-decoration-color: #7f7f7f\">109</span></a>\n",
       "</pre>\n"
      ],
      "text/plain": [
       "\u001b[2;36m          \u001b[0m\u001b[2;36m \u001b[0mval Loss: \u001b[1;36m0.5856\u001b[0m Acc: \u001b[1;36m0.7337\u001b[0m                                          \u001b]8;id=746744;file:///home/ngardn10/projects/cuticulus/cuticulus/mlutils/torch.py\u001b\\\u001b[2mtorch.py\u001b[0m\u001b]8;;\u001b\\\u001b[2m:\u001b[0m\u001b]8;id=226746;file:///home/ngardn10/projects/cuticulus/cuticulus/mlutils/torch.py#109\u001b\\\u001b[2m109\u001b[0m\u001b]8;;\u001b\\\n"
      ]
     },
     "metadata": {},
     "output_type": "display_data"
    },
    {
     "data": {
      "text/html": [
       "<pre style=\"white-space:pre;overflow-x:auto;line-height:normal;font-family:Menlo,'DejaVu Sans Mono',consolas,'Courier New',monospace\"><span style=\"color: #7fbfbf; text-decoration-color: #7fbfbf\">           </span>Epoch <span style=\"color: #008080; text-decoration-color: #008080; font-weight: bold\">5</span>/<span style=\"color: #008080; text-decoration-color: #008080; font-weight: bold\">99</span>                                                             <a href=\"file:///home/ngardn10/projects/cuticulus/cuticulus/mlutils/torch.py\"><span style=\"color: #7f7f7f; text-decoration-color: #7f7f7f\">torch.py</span></a><span style=\"color: #7f7f7f; text-decoration-color: #7f7f7f\">:</span><a href=\"file:///home/ngardn10/projects/cuticulus/cuticulus/mlutils/torch.py#63\"><span style=\"color: #7f7f7f; text-decoration-color: #7f7f7f\">63</span></a>\n",
       "</pre>\n"
      ],
      "text/plain": [
       "\u001b[2;36m          \u001b[0m\u001b[2;36m \u001b[0mEpoch \u001b[1;36m5\u001b[0m/\u001b[1;36m99\u001b[0m                                                             \u001b]8;id=507738;file:///home/ngardn10/projects/cuticulus/cuticulus/mlutils/torch.py\u001b\\\u001b[2mtorch.py\u001b[0m\u001b]8;;\u001b\\\u001b[2m:\u001b[0m\u001b]8;id=564014;file:///home/ngardn10/projects/cuticulus/cuticulus/mlutils/torch.py#63\u001b\\\u001b[2m63\u001b[0m\u001b]8;;\u001b\\\n"
      ]
     },
     "metadata": {},
     "output_type": "display_data"
    },
    {
     "data": {
      "text/html": [
       "<pre style=\"white-space:pre;overflow-x:auto;line-height:normal;font-family:Menlo,'DejaVu Sans Mono',consolas,'Courier New',monospace\"><span style=\"color: #7fbfbf; text-decoration-color: #7fbfbf\">           </span>----------                                                             <a href=\"file:///home/ngardn10/projects/cuticulus/cuticulus/mlutils/torch.py\"><span style=\"color: #7f7f7f; text-decoration-color: #7f7f7f\">torch.py</span></a><span style=\"color: #7f7f7f; text-decoration-color: #7f7f7f\">:</span><a href=\"file:///home/ngardn10/projects/cuticulus/cuticulus/mlutils/torch.py#64\"><span style=\"color: #7f7f7f; text-decoration-color: #7f7f7f\">64</span></a>\n",
       "</pre>\n"
      ],
      "text/plain": [
       "\u001b[2;36m          \u001b[0m\u001b[2;36m \u001b[0m----------                                                             \u001b]8;id=910091;file:///home/ngardn10/projects/cuticulus/cuticulus/mlutils/torch.py\u001b\\\u001b[2mtorch.py\u001b[0m\u001b]8;;\u001b\\\u001b[2m:\u001b[0m\u001b]8;id=37204;file:///home/ngardn10/projects/cuticulus/cuticulus/mlutils/torch.py#64\u001b\\\u001b[2m64\u001b[0m\u001b]8;;\u001b\\\n"
      ]
     },
     "metadata": {},
     "output_type": "display_data"
    },
    {
     "data": {
      "text/html": [
       "<pre style=\"white-space:pre;overflow-x:auto;line-height:normal;font-family:Menlo,'DejaVu Sans Mono',consolas,'Courier New',monospace\"><span style=\"color: #7fbfbf; text-decoration-color: #7fbfbf\">[14:40:11] </span>train Loss: <span style=\"color: #008080; text-decoration-color: #008080; font-weight: bold\">0.2862</span> Acc: <span style=\"color: #008080; text-decoration-color: #008080; font-weight: bold\">0.8825</span>                                        <a href=\"file:///home/ngardn10/projects/cuticulus/cuticulus/mlutils/torch.py\"><span style=\"color: #7f7f7f; text-decoration-color: #7f7f7f\">torch.py</span></a><span style=\"color: #7f7f7f; text-decoration-color: #7f7f7f\">:</span><a href=\"file:///home/ngardn10/projects/cuticulus/cuticulus/mlutils/torch.py#109\"><span style=\"color: #7f7f7f; text-decoration-color: #7f7f7f\">109</span></a>\n",
       "</pre>\n"
      ],
      "text/plain": [
       "\u001b[2;36m[14:40:11]\u001b[0m\u001b[2;36m \u001b[0mtrain Loss: \u001b[1;36m0.2862\u001b[0m Acc: \u001b[1;36m0.8825\u001b[0m                                        \u001b]8;id=913608;file:///home/ngardn10/projects/cuticulus/cuticulus/mlutils/torch.py\u001b\\\u001b[2mtorch.py\u001b[0m\u001b]8;;\u001b\\\u001b[2m:\u001b[0m\u001b]8;id=669885;file:///home/ngardn10/projects/cuticulus/cuticulus/mlutils/torch.py#109\u001b\\\u001b[2m109\u001b[0m\u001b]8;;\u001b\\\n"
      ]
     },
     "metadata": {},
     "output_type": "display_data"
    },
    {
     "data": {
      "text/html": [
       "<pre style=\"white-space:pre;overflow-x:auto;line-height:normal;font-family:Menlo,'DejaVu Sans Mono',consolas,'Courier New',monospace\"><span style=\"color: #7fbfbf; text-decoration-color: #7fbfbf\">           </span>val Loss: <span style=\"color: #008080; text-decoration-color: #008080; font-weight: bold\">0.4943</span> Acc: <span style=\"color: #008080; text-decoration-color: #008080; font-weight: bold\">0.7689</span>                                          <a href=\"file:///home/ngardn10/projects/cuticulus/cuticulus/mlutils/torch.py\"><span style=\"color: #7f7f7f; text-decoration-color: #7f7f7f\">torch.py</span></a><span style=\"color: #7f7f7f; text-decoration-color: #7f7f7f\">:</span><a href=\"file:///home/ngardn10/projects/cuticulus/cuticulus/mlutils/torch.py#109\"><span style=\"color: #7f7f7f; text-decoration-color: #7f7f7f\">109</span></a>\n",
       "</pre>\n"
      ],
      "text/plain": [
       "\u001b[2;36m          \u001b[0m\u001b[2;36m \u001b[0mval Loss: \u001b[1;36m0.4943\u001b[0m Acc: \u001b[1;36m0.7689\u001b[0m                                          \u001b]8;id=561557;file:///home/ngardn10/projects/cuticulus/cuticulus/mlutils/torch.py\u001b\\\u001b[2mtorch.py\u001b[0m\u001b]8;;\u001b\\\u001b[2m:\u001b[0m\u001b]8;id=832420;file:///home/ngardn10/projects/cuticulus/cuticulus/mlutils/torch.py#109\u001b\\\u001b[2m109\u001b[0m\u001b]8;;\u001b\\\n"
      ]
     },
     "metadata": {},
     "output_type": "display_data"
    },
    {
     "data": {
      "text/html": [
       "<pre style=\"white-space:pre;overflow-x:auto;line-height:normal;font-family:Menlo,'DejaVu Sans Mono',consolas,'Courier New',monospace\"><span style=\"color: #7fbfbf; text-decoration-color: #7fbfbf\">           </span>Epoch <span style=\"color: #008080; text-decoration-color: #008080; font-weight: bold\">6</span>/<span style=\"color: #008080; text-decoration-color: #008080; font-weight: bold\">99</span>                                                             <a href=\"file:///home/ngardn10/projects/cuticulus/cuticulus/mlutils/torch.py\"><span style=\"color: #7f7f7f; text-decoration-color: #7f7f7f\">torch.py</span></a><span style=\"color: #7f7f7f; text-decoration-color: #7f7f7f\">:</span><a href=\"file:///home/ngardn10/projects/cuticulus/cuticulus/mlutils/torch.py#63\"><span style=\"color: #7f7f7f; text-decoration-color: #7f7f7f\">63</span></a>\n",
       "</pre>\n"
      ],
      "text/plain": [
       "\u001b[2;36m          \u001b[0m\u001b[2;36m \u001b[0mEpoch \u001b[1;36m6\u001b[0m/\u001b[1;36m99\u001b[0m                                                             \u001b]8;id=696720;file:///home/ngardn10/projects/cuticulus/cuticulus/mlutils/torch.py\u001b\\\u001b[2mtorch.py\u001b[0m\u001b]8;;\u001b\\\u001b[2m:\u001b[0m\u001b]8;id=316059;file:///home/ngardn10/projects/cuticulus/cuticulus/mlutils/torch.py#63\u001b\\\u001b[2m63\u001b[0m\u001b]8;;\u001b\\\n"
      ]
     },
     "metadata": {},
     "output_type": "display_data"
    },
    {
     "data": {
      "text/html": [
       "<pre style=\"white-space:pre;overflow-x:auto;line-height:normal;font-family:Menlo,'DejaVu Sans Mono',consolas,'Courier New',monospace\"><span style=\"color: #7fbfbf; text-decoration-color: #7fbfbf\">           </span>----------                                                             <a href=\"file:///home/ngardn10/projects/cuticulus/cuticulus/mlutils/torch.py\"><span style=\"color: #7f7f7f; text-decoration-color: #7f7f7f\">torch.py</span></a><span style=\"color: #7f7f7f; text-decoration-color: #7f7f7f\">:</span><a href=\"file:///home/ngardn10/projects/cuticulus/cuticulus/mlutils/torch.py#64\"><span style=\"color: #7f7f7f; text-decoration-color: #7f7f7f\">64</span></a>\n",
       "</pre>\n"
      ],
      "text/plain": [
       "\u001b[2;36m          \u001b[0m\u001b[2;36m \u001b[0m----------                                                             \u001b]8;id=710883;file:///home/ngardn10/projects/cuticulus/cuticulus/mlutils/torch.py\u001b\\\u001b[2mtorch.py\u001b[0m\u001b]8;;\u001b\\\u001b[2m:\u001b[0m\u001b]8;id=702359;file:///home/ngardn10/projects/cuticulus/cuticulus/mlutils/torch.py#64\u001b\\\u001b[2m64\u001b[0m\u001b]8;;\u001b\\\n"
      ]
     },
     "metadata": {},
     "output_type": "display_data"
    },
    {
     "data": {
      "text/html": [
       "<pre style=\"white-space:pre;overflow-x:auto;line-height:normal;font-family:Menlo,'DejaVu Sans Mono',consolas,'Courier New',monospace\"><span style=\"color: #7fbfbf; text-decoration-color: #7fbfbf\">[14:40:12] </span>train Loss: <span style=\"color: #008080; text-decoration-color: #008080; font-weight: bold\">0.2943</span> Acc: <span style=\"color: #008080; text-decoration-color: #008080; font-weight: bold\">0.8920</span>                                        <a href=\"file:///home/ngardn10/projects/cuticulus/cuticulus/mlutils/torch.py\"><span style=\"color: #7f7f7f; text-decoration-color: #7f7f7f\">torch.py</span></a><span style=\"color: #7f7f7f; text-decoration-color: #7f7f7f\">:</span><a href=\"file:///home/ngardn10/projects/cuticulus/cuticulus/mlutils/torch.py#109\"><span style=\"color: #7f7f7f; text-decoration-color: #7f7f7f\">109</span></a>\n",
       "</pre>\n"
      ],
      "text/plain": [
       "\u001b[2;36m[14:40:12]\u001b[0m\u001b[2;36m \u001b[0mtrain Loss: \u001b[1;36m0.2943\u001b[0m Acc: \u001b[1;36m0.8920\u001b[0m                                        \u001b]8;id=263463;file:///home/ngardn10/projects/cuticulus/cuticulus/mlutils/torch.py\u001b\\\u001b[2mtorch.py\u001b[0m\u001b]8;;\u001b\\\u001b[2m:\u001b[0m\u001b]8;id=675836;file:///home/ngardn10/projects/cuticulus/cuticulus/mlutils/torch.py#109\u001b\\\u001b[2m109\u001b[0m\u001b]8;;\u001b\\\n"
      ]
     },
     "metadata": {},
     "output_type": "display_data"
    },
    {
     "data": {
      "text/html": [
       "<pre style=\"white-space:pre;overflow-x:auto;line-height:normal;font-family:Menlo,'DejaVu Sans Mono',consolas,'Courier New',monospace\"><span style=\"color: #7fbfbf; text-decoration-color: #7fbfbf\">[14:40:13] </span>val Loss: <span style=\"color: #008080; text-decoration-color: #008080; font-weight: bold\">0.5706</span> Acc: <span style=\"color: #008080; text-decoration-color: #008080; font-weight: bold\">0.7559</span>                                          <a href=\"file:///home/ngardn10/projects/cuticulus/cuticulus/mlutils/torch.py\"><span style=\"color: #7f7f7f; text-decoration-color: #7f7f7f\">torch.py</span></a><span style=\"color: #7f7f7f; text-decoration-color: #7f7f7f\">:</span><a href=\"file:///home/ngardn10/projects/cuticulus/cuticulus/mlutils/torch.py#109\"><span style=\"color: #7f7f7f; text-decoration-color: #7f7f7f\">109</span></a>\n",
       "</pre>\n"
      ],
      "text/plain": [
       "\u001b[2;36m[14:40:13]\u001b[0m\u001b[2;36m \u001b[0mval Loss: \u001b[1;36m0.5706\u001b[0m Acc: \u001b[1;36m0.7559\u001b[0m                                          \u001b]8;id=649792;file:///home/ngardn10/projects/cuticulus/cuticulus/mlutils/torch.py\u001b\\\u001b[2mtorch.py\u001b[0m\u001b]8;;\u001b\\\u001b[2m:\u001b[0m\u001b]8;id=733026;file:///home/ngardn10/projects/cuticulus/cuticulus/mlutils/torch.py#109\u001b\\\u001b[2m109\u001b[0m\u001b]8;;\u001b\\\n"
      ]
     },
     "metadata": {},
     "output_type": "display_data"
    },
    {
     "data": {
      "text/html": [
       "<pre style=\"white-space:pre;overflow-x:auto;line-height:normal;font-family:Menlo,'DejaVu Sans Mono',consolas,'Courier New',monospace\"><span style=\"color: #7fbfbf; text-decoration-color: #7fbfbf\">           </span>Epoch <span style=\"color: #008080; text-decoration-color: #008080; font-weight: bold\">7</span>/<span style=\"color: #008080; text-decoration-color: #008080; font-weight: bold\">99</span>                                                             <a href=\"file:///home/ngardn10/projects/cuticulus/cuticulus/mlutils/torch.py\"><span style=\"color: #7f7f7f; text-decoration-color: #7f7f7f\">torch.py</span></a><span style=\"color: #7f7f7f; text-decoration-color: #7f7f7f\">:</span><a href=\"file:///home/ngardn10/projects/cuticulus/cuticulus/mlutils/torch.py#63\"><span style=\"color: #7f7f7f; text-decoration-color: #7f7f7f\">63</span></a>\n",
       "</pre>\n"
      ],
      "text/plain": [
       "\u001b[2;36m          \u001b[0m\u001b[2;36m \u001b[0mEpoch \u001b[1;36m7\u001b[0m/\u001b[1;36m99\u001b[0m                                                             \u001b]8;id=238927;file:///home/ngardn10/projects/cuticulus/cuticulus/mlutils/torch.py\u001b\\\u001b[2mtorch.py\u001b[0m\u001b]8;;\u001b\\\u001b[2m:\u001b[0m\u001b]8;id=27402;file:///home/ngardn10/projects/cuticulus/cuticulus/mlutils/torch.py#63\u001b\\\u001b[2m63\u001b[0m\u001b]8;;\u001b\\\n"
      ]
     },
     "metadata": {},
     "output_type": "display_data"
    },
    {
     "data": {
      "text/html": [
       "<pre style=\"white-space:pre;overflow-x:auto;line-height:normal;font-family:Menlo,'DejaVu Sans Mono',consolas,'Courier New',monospace\"><span style=\"color: #7fbfbf; text-decoration-color: #7fbfbf\">           </span>----------                                                             <a href=\"file:///home/ngardn10/projects/cuticulus/cuticulus/mlutils/torch.py\"><span style=\"color: #7f7f7f; text-decoration-color: #7f7f7f\">torch.py</span></a><span style=\"color: #7f7f7f; text-decoration-color: #7f7f7f\">:</span><a href=\"file:///home/ngardn10/projects/cuticulus/cuticulus/mlutils/torch.py#64\"><span style=\"color: #7f7f7f; text-decoration-color: #7f7f7f\">64</span></a>\n",
       "</pre>\n"
      ],
      "text/plain": [
       "\u001b[2;36m          \u001b[0m\u001b[2;36m \u001b[0m----------                                                             \u001b]8;id=982263;file:///home/ngardn10/projects/cuticulus/cuticulus/mlutils/torch.py\u001b\\\u001b[2mtorch.py\u001b[0m\u001b]8;;\u001b\\\u001b[2m:\u001b[0m\u001b]8;id=904456;file:///home/ngardn10/projects/cuticulus/cuticulus/mlutils/torch.py#64\u001b\\\u001b[2m64\u001b[0m\u001b]8;;\u001b\\\n"
      ]
     },
     "metadata": {},
     "output_type": "display_data"
    },
    {
     "data": {
      "text/html": [
       "<pre style=\"white-space:pre;overflow-x:auto;line-height:normal;font-family:Menlo,'DejaVu Sans Mono',consolas,'Courier New',monospace\"><span style=\"color: #7fbfbf; text-decoration-color: #7fbfbf\">[14:40:14] </span>train Loss: <span style=\"color: #008080; text-decoration-color: #008080; font-weight: bold\">0.1959</span> Acc: <span style=\"color: #008080; text-decoration-color: #008080; font-weight: bold\">0.9205</span>                                        <a href=\"file:///home/ngardn10/projects/cuticulus/cuticulus/mlutils/torch.py\"><span style=\"color: #7f7f7f; text-decoration-color: #7f7f7f\">torch.py</span></a><span style=\"color: #7f7f7f; text-decoration-color: #7f7f7f\">:</span><a href=\"file:///home/ngardn10/projects/cuticulus/cuticulus/mlutils/torch.py#109\"><span style=\"color: #7f7f7f; text-decoration-color: #7f7f7f\">109</span></a>\n",
       "</pre>\n"
      ],
      "text/plain": [
       "\u001b[2;36m[14:40:14]\u001b[0m\u001b[2;36m \u001b[0mtrain Loss: \u001b[1;36m0.1959\u001b[0m Acc: \u001b[1;36m0.9205\u001b[0m                                        \u001b]8;id=951534;file:///home/ngardn10/projects/cuticulus/cuticulus/mlutils/torch.py\u001b\\\u001b[2mtorch.py\u001b[0m\u001b]8;;\u001b\\\u001b[2m:\u001b[0m\u001b]8;id=322175;file:///home/ngardn10/projects/cuticulus/cuticulus/mlutils/torch.py#109\u001b\\\u001b[2m109\u001b[0m\u001b]8;;\u001b\\\n"
      ]
     },
     "metadata": {},
     "output_type": "display_data"
    },
    {
     "data": {
      "text/html": [
       "<pre style=\"white-space:pre;overflow-x:auto;line-height:normal;font-family:Menlo,'DejaVu Sans Mono',consolas,'Courier New',monospace\"><span style=\"color: #7fbfbf; text-decoration-color: #7fbfbf\">[14:40:15] </span>val Loss: <span style=\"color: #008080; text-decoration-color: #008080; font-weight: bold\">0.6724</span> Acc: <span style=\"color: #008080; text-decoration-color: #008080; font-weight: bold\">0.7833</span>                                          <a href=\"file:///home/ngardn10/projects/cuticulus/cuticulus/mlutils/torch.py\"><span style=\"color: #7f7f7f; text-decoration-color: #7f7f7f\">torch.py</span></a><span style=\"color: #7f7f7f; text-decoration-color: #7f7f7f\">:</span><a href=\"file:///home/ngardn10/projects/cuticulus/cuticulus/mlutils/torch.py#109\"><span style=\"color: #7f7f7f; text-decoration-color: #7f7f7f\">109</span></a>\n",
       "</pre>\n"
      ],
      "text/plain": [
       "\u001b[2;36m[14:40:15]\u001b[0m\u001b[2;36m \u001b[0mval Loss: \u001b[1;36m0.6724\u001b[0m Acc: \u001b[1;36m0.7833\u001b[0m                                          \u001b]8;id=973872;file:///home/ngardn10/projects/cuticulus/cuticulus/mlutils/torch.py\u001b\\\u001b[2mtorch.py\u001b[0m\u001b]8;;\u001b\\\u001b[2m:\u001b[0m\u001b]8;id=550507;file:///home/ngardn10/projects/cuticulus/cuticulus/mlutils/torch.py#109\u001b\\\u001b[2m109\u001b[0m\u001b]8;;\u001b\\\n"
      ]
     },
     "metadata": {},
     "output_type": "display_data"
    },
    {
     "data": {
      "text/html": [
       "<pre style=\"white-space:pre;overflow-x:auto;line-height:normal;font-family:Menlo,'DejaVu Sans Mono',consolas,'Courier New',monospace\"><span style=\"color: #7fbfbf; text-decoration-color: #7fbfbf\">           </span>Epoch <span style=\"color: #008080; text-decoration-color: #008080; font-weight: bold\">8</span>/<span style=\"color: #008080; text-decoration-color: #008080; font-weight: bold\">99</span>                                                             <a href=\"file:///home/ngardn10/projects/cuticulus/cuticulus/mlutils/torch.py\"><span style=\"color: #7f7f7f; text-decoration-color: #7f7f7f\">torch.py</span></a><span style=\"color: #7f7f7f; text-decoration-color: #7f7f7f\">:</span><a href=\"file:///home/ngardn10/projects/cuticulus/cuticulus/mlutils/torch.py#63\"><span style=\"color: #7f7f7f; text-decoration-color: #7f7f7f\">63</span></a>\n",
       "</pre>\n"
      ],
      "text/plain": [
       "\u001b[2;36m          \u001b[0m\u001b[2;36m \u001b[0mEpoch \u001b[1;36m8\u001b[0m/\u001b[1;36m99\u001b[0m                                                             \u001b]8;id=790408;file:///home/ngardn10/projects/cuticulus/cuticulus/mlutils/torch.py\u001b\\\u001b[2mtorch.py\u001b[0m\u001b]8;;\u001b\\\u001b[2m:\u001b[0m\u001b]8;id=725697;file:///home/ngardn10/projects/cuticulus/cuticulus/mlutils/torch.py#63\u001b\\\u001b[2m63\u001b[0m\u001b]8;;\u001b\\\n"
      ]
     },
     "metadata": {},
     "output_type": "display_data"
    },
    {
     "data": {
      "text/html": [
       "<pre style=\"white-space:pre;overflow-x:auto;line-height:normal;font-family:Menlo,'DejaVu Sans Mono',consolas,'Courier New',monospace\"><span style=\"color: #7fbfbf; text-decoration-color: #7fbfbf\">           </span>----------                                                             <a href=\"file:///home/ngardn10/projects/cuticulus/cuticulus/mlutils/torch.py\"><span style=\"color: #7f7f7f; text-decoration-color: #7f7f7f\">torch.py</span></a><span style=\"color: #7f7f7f; text-decoration-color: #7f7f7f\">:</span><a href=\"file:///home/ngardn10/projects/cuticulus/cuticulus/mlutils/torch.py#64\"><span style=\"color: #7f7f7f; text-decoration-color: #7f7f7f\">64</span></a>\n",
       "</pre>\n"
      ],
      "text/plain": [
       "\u001b[2;36m          \u001b[0m\u001b[2;36m \u001b[0m----------                                                             \u001b]8;id=336704;file:///home/ngardn10/projects/cuticulus/cuticulus/mlutils/torch.py\u001b\\\u001b[2mtorch.py\u001b[0m\u001b]8;;\u001b\\\u001b[2m:\u001b[0m\u001b]8;id=768338;file:///home/ngardn10/projects/cuticulus/cuticulus/mlutils/torch.py#64\u001b\\\u001b[2m64\u001b[0m\u001b]8;;\u001b\\\n"
      ]
     },
     "metadata": {},
     "output_type": "display_data"
    },
    {
     "data": {
      "text/html": [
       "<pre style=\"white-space:pre;overflow-x:auto;line-height:normal;font-family:Menlo,'DejaVu Sans Mono',consolas,'Courier New',monospace\"><span style=\"color: #7fbfbf; text-decoration-color: #7fbfbf\">[14:40:16] </span>train Loss: <span style=\"color: #008080; text-decoration-color: #008080; font-weight: bold\">0.2039</span> Acc: <span style=\"color: #008080; text-decoration-color: #008080; font-weight: bold\">0.9305</span>                                        <a href=\"file:///home/ngardn10/projects/cuticulus/cuticulus/mlutils/torch.py\"><span style=\"color: #7f7f7f; text-decoration-color: #7f7f7f\">torch.py</span></a><span style=\"color: #7f7f7f; text-decoration-color: #7f7f7f\">:</span><a href=\"file:///home/ngardn10/projects/cuticulus/cuticulus/mlutils/torch.py#109\"><span style=\"color: #7f7f7f; text-decoration-color: #7f7f7f\">109</span></a>\n",
       "</pre>\n"
      ],
      "text/plain": [
       "\u001b[2;36m[14:40:16]\u001b[0m\u001b[2;36m \u001b[0mtrain Loss: \u001b[1;36m0.2039\u001b[0m Acc: \u001b[1;36m0.9305\u001b[0m                                        \u001b]8;id=23021;file:///home/ngardn10/projects/cuticulus/cuticulus/mlutils/torch.py\u001b\\\u001b[2mtorch.py\u001b[0m\u001b]8;;\u001b\\\u001b[2m:\u001b[0m\u001b]8;id=799886;file:///home/ngardn10/projects/cuticulus/cuticulus/mlutils/torch.py#109\u001b\\\u001b[2m109\u001b[0m\u001b]8;;\u001b\\\n"
      ]
     },
     "metadata": {},
     "output_type": "display_data"
    },
    {
     "data": {
      "text/html": [
       "<pre style=\"white-space:pre;overflow-x:auto;line-height:normal;font-family:Menlo,'DejaVu Sans Mono',consolas,'Courier New',monospace\"><span style=\"color: #7fbfbf; text-decoration-color: #7fbfbf\">           </span>val Loss: <span style=\"color: #008080; text-decoration-color: #008080; font-weight: bold\">0.6798</span> Acc: <span style=\"color: #008080; text-decoration-color: #008080; font-weight: bold\">0.7820</span>                                          <a href=\"file:///home/ngardn10/projects/cuticulus/cuticulus/mlutils/torch.py\"><span style=\"color: #7f7f7f; text-decoration-color: #7f7f7f\">torch.py</span></a><span style=\"color: #7f7f7f; text-decoration-color: #7f7f7f\">:</span><a href=\"file:///home/ngardn10/projects/cuticulus/cuticulus/mlutils/torch.py#109\"><span style=\"color: #7f7f7f; text-decoration-color: #7f7f7f\">109</span></a>\n",
       "</pre>\n"
      ],
      "text/plain": [
       "\u001b[2;36m          \u001b[0m\u001b[2;36m \u001b[0mval Loss: \u001b[1;36m0.6798\u001b[0m Acc: \u001b[1;36m0.7820\u001b[0m                                          \u001b]8;id=60734;file:///home/ngardn10/projects/cuticulus/cuticulus/mlutils/torch.py\u001b\\\u001b[2mtorch.py\u001b[0m\u001b]8;;\u001b\\\u001b[2m:\u001b[0m\u001b]8;id=534532;file:///home/ngardn10/projects/cuticulus/cuticulus/mlutils/torch.py#109\u001b\\\u001b[2m109\u001b[0m\u001b]8;;\u001b\\\n"
      ]
     },
     "metadata": {},
     "output_type": "display_data"
    },
    {
     "data": {
      "text/html": [
       "<pre style=\"white-space:pre;overflow-x:auto;line-height:normal;font-family:Menlo,'DejaVu Sans Mono',consolas,'Courier New',monospace\"><span style=\"color: #7fbfbf; text-decoration-color: #7fbfbf\">           </span>Epoch <span style=\"color: #008080; text-decoration-color: #008080; font-weight: bold\">9</span>/<span style=\"color: #008080; text-decoration-color: #008080; font-weight: bold\">99</span>                                                             <a href=\"file:///home/ngardn10/projects/cuticulus/cuticulus/mlutils/torch.py\"><span style=\"color: #7f7f7f; text-decoration-color: #7f7f7f\">torch.py</span></a><span style=\"color: #7f7f7f; text-decoration-color: #7f7f7f\">:</span><a href=\"file:///home/ngardn10/projects/cuticulus/cuticulus/mlutils/torch.py#63\"><span style=\"color: #7f7f7f; text-decoration-color: #7f7f7f\">63</span></a>\n",
       "</pre>\n"
      ],
      "text/plain": [
       "\u001b[2;36m          \u001b[0m\u001b[2;36m \u001b[0mEpoch \u001b[1;36m9\u001b[0m/\u001b[1;36m99\u001b[0m                                                             \u001b]8;id=90273;file:///home/ngardn10/projects/cuticulus/cuticulus/mlutils/torch.py\u001b\\\u001b[2mtorch.py\u001b[0m\u001b]8;;\u001b\\\u001b[2m:\u001b[0m\u001b]8;id=698694;file:///home/ngardn10/projects/cuticulus/cuticulus/mlutils/torch.py#63\u001b\\\u001b[2m63\u001b[0m\u001b]8;;\u001b\\\n"
      ]
     },
     "metadata": {},
     "output_type": "display_data"
    },
    {
     "data": {
      "text/html": [
       "<pre style=\"white-space:pre;overflow-x:auto;line-height:normal;font-family:Menlo,'DejaVu Sans Mono',consolas,'Courier New',monospace\"><span style=\"color: #7fbfbf; text-decoration-color: #7fbfbf\">           </span>----------                                                             <a href=\"file:///home/ngardn10/projects/cuticulus/cuticulus/mlutils/torch.py\"><span style=\"color: #7f7f7f; text-decoration-color: #7f7f7f\">torch.py</span></a><span style=\"color: #7f7f7f; text-decoration-color: #7f7f7f\">:</span><a href=\"file:///home/ngardn10/projects/cuticulus/cuticulus/mlutils/torch.py#64\"><span style=\"color: #7f7f7f; text-decoration-color: #7f7f7f\">64</span></a>\n",
       "</pre>\n"
      ],
      "text/plain": [
       "\u001b[2;36m          \u001b[0m\u001b[2;36m \u001b[0m----------                                                             \u001b]8;id=729316;file:///home/ngardn10/projects/cuticulus/cuticulus/mlutils/torch.py\u001b\\\u001b[2mtorch.py\u001b[0m\u001b]8;;\u001b\\\u001b[2m:\u001b[0m\u001b]8;id=384001;file:///home/ngardn10/projects/cuticulus/cuticulus/mlutils/torch.py#64\u001b\\\u001b[2m64\u001b[0m\u001b]8;;\u001b\\\n"
      ]
     },
     "metadata": {},
     "output_type": "display_data"
    },
    {
     "data": {
      "text/html": [
       "<pre style=\"white-space:pre;overflow-x:auto;line-height:normal;font-family:Menlo,'DejaVu Sans Mono',consolas,'Courier New',monospace\"><span style=\"color: #7fbfbf; text-decoration-color: #7fbfbf\">[14:40:18] </span>train Loss: <span style=\"color: #008080; text-decoration-color: #008080; font-weight: bold\">0.1663</span> Acc: <span style=\"color: #008080; text-decoration-color: #008080; font-weight: bold\">0.9340</span>                                        <a href=\"file:///home/ngardn10/projects/cuticulus/cuticulus/mlutils/torch.py\"><span style=\"color: #7f7f7f; text-decoration-color: #7f7f7f\">torch.py</span></a><span style=\"color: #7f7f7f; text-decoration-color: #7f7f7f\">:</span><a href=\"file:///home/ngardn10/projects/cuticulus/cuticulus/mlutils/torch.py#109\"><span style=\"color: #7f7f7f; text-decoration-color: #7f7f7f\">109</span></a>\n",
       "</pre>\n"
      ],
      "text/plain": [
       "\u001b[2;36m[14:40:18]\u001b[0m\u001b[2;36m \u001b[0mtrain Loss: \u001b[1;36m0.1663\u001b[0m Acc: \u001b[1;36m0.9340\u001b[0m                                        \u001b]8;id=401633;file:///home/ngardn10/projects/cuticulus/cuticulus/mlutils/torch.py\u001b\\\u001b[2mtorch.py\u001b[0m\u001b]8;;\u001b\\\u001b[2m:\u001b[0m\u001b]8;id=641649;file:///home/ngardn10/projects/cuticulus/cuticulus/mlutils/torch.py#109\u001b\\\u001b[2m109\u001b[0m\u001b]8;;\u001b\\\n"
      ]
     },
     "metadata": {},
     "output_type": "display_data"
    },
    {
     "data": {
      "text/html": [
       "<pre style=\"white-space:pre;overflow-x:auto;line-height:normal;font-family:Menlo,'DejaVu Sans Mono',consolas,'Courier New',monospace\"><span style=\"color: #7fbfbf; text-decoration-color: #7fbfbf\">           </span>val Loss: <span style=\"color: #008080; text-decoration-color: #008080; font-weight: bold\">0.7223</span> Acc: <span style=\"color: #008080; text-decoration-color: #008080; font-weight: bold\">0.7742</span>                                          <a href=\"file:///home/ngardn10/projects/cuticulus/cuticulus/mlutils/torch.py\"><span style=\"color: #7f7f7f; text-decoration-color: #7f7f7f\">torch.py</span></a><span style=\"color: #7f7f7f; text-decoration-color: #7f7f7f\">:</span><a href=\"file:///home/ngardn10/projects/cuticulus/cuticulus/mlutils/torch.py#109\"><span style=\"color: #7f7f7f; text-decoration-color: #7f7f7f\">109</span></a>\n",
       "</pre>\n"
      ],
      "text/plain": [
       "\u001b[2;36m          \u001b[0m\u001b[2;36m \u001b[0mval Loss: \u001b[1;36m0.7223\u001b[0m Acc: \u001b[1;36m0.7742\u001b[0m                                          \u001b]8;id=218404;file:///home/ngardn10/projects/cuticulus/cuticulus/mlutils/torch.py\u001b\\\u001b[2mtorch.py\u001b[0m\u001b]8;;\u001b\\\u001b[2m:\u001b[0m\u001b]8;id=919707;file:///home/ngardn10/projects/cuticulus/cuticulus/mlutils/torch.py#109\u001b\\\u001b[2m109\u001b[0m\u001b]8;;\u001b\\\n"
      ]
     },
     "metadata": {},
     "output_type": "display_data"
    },
    {
     "data": {
      "text/html": [
       "<pre style=\"white-space:pre;overflow-x:auto;line-height:normal;font-family:Menlo,'DejaVu Sans Mono',consolas,'Courier New',monospace\"><span style=\"color: #7fbfbf; text-decoration-color: #7fbfbf\">           </span>Epoch <span style=\"color: #008080; text-decoration-color: #008080; font-weight: bold\">10</span>/<span style=\"color: #008080; text-decoration-color: #008080; font-weight: bold\">99</span>                                                            <a href=\"file:///home/ngardn10/projects/cuticulus/cuticulus/mlutils/torch.py\"><span style=\"color: #7f7f7f; text-decoration-color: #7f7f7f\">torch.py</span></a><span style=\"color: #7f7f7f; text-decoration-color: #7f7f7f\">:</span><a href=\"file:///home/ngardn10/projects/cuticulus/cuticulus/mlutils/torch.py#63\"><span style=\"color: #7f7f7f; text-decoration-color: #7f7f7f\">63</span></a>\n",
       "</pre>\n"
      ],
      "text/plain": [
       "\u001b[2;36m          \u001b[0m\u001b[2;36m \u001b[0mEpoch \u001b[1;36m10\u001b[0m/\u001b[1;36m99\u001b[0m                                                            \u001b]8;id=690442;file:///home/ngardn10/projects/cuticulus/cuticulus/mlutils/torch.py\u001b\\\u001b[2mtorch.py\u001b[0m\u001b]8;;\u001b\\\u001b[2m:\u001b[0m\u001b]8;id=876687;file:///home/ngardn10/projects/cuticulus/cuticulus/mlutils/torch.py#63\u001b\\\u001b[2m63\u001b[0m\u001b]8;;\u001b\\\n"
      ]
     },
     "metadata": {},
     "output_type": "display_data"
    },
    {
     "data": {
      "text/html": [
       "<pre style=\"white-space:pre;overflow-x:auto;line-height:normal;font-family:Menlo,'DejaVu Sans Mono',consolas,'Courier New',monospace\"><span style=\"color: #7fbfbf; text-decoration-color: #7fbfbf\">           </span>----------                                                             <a href=\"file:///home/ngardn10/projects/cuticulus/cuticulus/mlutils/torch.py\"><span style=\"color: #7f7f7f; text-decoration-color: #7f7f7f\">torch.py</span></a><span style=\"color: #7f7f7f; text-decoration-color: #7f7f7f\">:</span><a href=\"file:///home/ngardn10/projects/cuticulus/cuticulus/mlutils/torch.py#64\"><span style=\"color: #7f7f7f; text-decoration-color: #7f7f7f\">64</span></a>\n",
       "</pre>\n"
      ],
      "text/plain": [
       "\u001b[2;36m          \u001b[0m\u001b[2;36m \u001b[0m----------                                                             \u001b]8;id=447798;file:///home/ngardn10/projects/cuticulus/cuticulus/mlutils/torch.py\u001b\\\u001b[2mtorch.py\u001b[0m\u001b]8;;\u001b\\\u001b[2m:\u001b[0m\u001b]8;id=463445;file:///home/ngardn10/projects/cuticulus/cuticulus/mlutils/torch.py#64\u001b\\\u001b[2m64\u001b[0m\u001b]8;;\u001b\\\n"
      ]
     },
     "metadata": {},
     "output_type": "display_data"
    },
    {
     "data": {
      "text/html": [
       "<pre style=\"white-space:pre;overflow-x:auto;line-height:normal;font-family:Menlo,'DejaVu Sans Mono',consolas,'Courier New',monospace\"><span style=\"color: #7fbfbf; text-decoration-color: #7fbfbf\">[14:40:20] </span>train Loss: <span style=\"color: #008080; text-decoration-color: #008080; font-weight: bold\">0.1531</span> Acc: <span style=\"color: #008080; text-decoration-color: #008080; font-weight: bold\">0.9445</span>                                        <a href=\"file:///home/ngardn10/projects/cuticulus/cuticulus/mlutils/torch.py\"><span style=\"color: #7f7f7f; text-decoration-color: #7f7f7f\">torch.py</span></a><span style=\"color: #7f7f7f; text-decoration-color: #7f7f7f\">:</span><a href=\"file:///home/ngardn10/projects/cuticulus/cuticulus/mlutils/torch.py#109\"><span style=\"color: #7f7f7f; text-decoration-color: #7f7f7f\">109</span></a>\n",
       "</pre>\n"
      ],
      "text/plain": [
       "\u001b[2;36m[14:40:20]\u001b[0m\u001b[2;36m \u001b[0mtrain Loss: \u001b[1;36m0.1531\u001b[0m Acc: \u001b[1;36m0.9445\u001b[0m                                        \u001b]8;id=673840;file:///home/ngardn10/projects/cuticulus/cuticulus/mlutils/torch.py\u001b\\\u001b[2mtorch.py\u001b[0m\u001b]8;;\u001b\\\u001b[2m:\u001b[0m\u001b]8;id=13978;file:///home/ngardn10/projects/cuticulus/cuticulus/mlutils/torch.py#109\u001b\\\u001b[2m109\u001b[0m\u001b]8;;\u001b\\\n"
      ]
     },
     "metadata": {},
     "output_type": "display_data"
    },
    {
     "data": {
      "text/html": [
       "<pre style=\"white-space:pre;overflow-x:auto;line-height:normal;font-family:Menlo,'DejaVu Sans Mono',consolas,'Courier New',monospace\"><span style=\"color: #7fbfbf; text-decoration-color: #7fbfbf\">[14:40:21] </span>val Loss: <span style=\"color: #008080; text-decoration-color: #008080; font-weight: bold\">0.6608</span> Acc: <span style=\"color: #008080; text-decoration-color: #008080; font-weight: bold\">0.7637</span>                                          <a href=\"file:///home/ngardn10/projects/cuticulus/cuticulus/mlutils/torch.py\"><span style=\"color: #7f7f7f; text-decoration-color: #7f7f7f\">torch.py</span></a><span style=\"color: #7f7f7f; text-decoration-color: #7f7f7f\">:</span><a href=\"file:///home/ngardn10/projects/cuticulus/cuticulus/mlutils/torch.py#109\"><span style=\"color: #7f7f7f; text-decoration-color: #7f7f7f\">109</span></a>\n",
       "</pre>\n"
      ],
      "text/plain": [
       "\u001b[2;36m[14:40:21]\u001b[0m\u001b[2;36m \u001b[0mval Loss: \u001b[1;36m0.6608\u001b[0m Acc: \u001b[1;36m0.7637\u001b[0m                                          \u001b]8;id=827036;file:///home/ngardn10/projects/cuticulus/cuticulus/mlutils/torch.py\u001b\\\u001b[2mtorch.py\u001b[0m\u001b]8;;\u001b\\\u001b[2m:\u001b[0m\u001b]8;id=425921;file:///home/ngardn10/projects/cuticulus/cuticulus/mlutils/torch.py#109\u001b\\\u001b[2m109\u001b[0m\u001b]8;;\u001b\\\n"
      ]
     },
     "metadata": {},
     "output_type": "display_data"
    },
    {
     "data": {
      "text/html": [
       "<pre style=\"white-space:pre;overflow-x:auto;line-height:normal;font-family:Menlo,'DejaVu Sans Mono',consolas,'Courier New',monospace\"><span style=\"color: #7fbfbf; text-decoration-color: #7fbfbf\">           </span>Epoch <span style=\"color: #008080; text-decoration-color: #008080; font-weight: bold\">11</span>/<span style=\"color: #008080; text-decoration-color: #008080; font-weight: bold\">99</span>                                                            <a href=\"file:///home/ngardn10/projects/cuticulus/cuticulus/mlutils/torch.py\"><span style=\"color: #7f7f7f; text-decoration-color: #7f7f7f\">torch.py</span></a><span style=\"color: #7f7f7f; text-decoration-color: #7f7f7f\">:</span><a href=\"file:///home/ngardn10/projects/cuticulus/cuticulus/mlutils/torch.py#63\"><span style=\"color: #7f7f7f; text-decoration-color: #7f7f7f\">63</span></a>\n",
       "</pre>\n"
      ],
      "text/plain": [
       "\u001b[2;36m          \u001b[0m\u001b[2;36m \u001b[0mEpoch \u001b[1;36m11\u001b[0m/\u001b[1;36m99\u001b[0m                                                            \u001b]8;id=223347;file:///home/ngardn10/projects/cuticulus/cuticulus/mlutils/torch.py\u001b\\\u001b[2mtorch.py\u001b[0m\u001b]8;;\u001b\\\u001b[2m:\u001b[0m\u001b]8;id=238314;file:///home/ngardn10/projects/cuticulus/cuticulus/mlutils/torch.py#63\u001b\\\u001b[2m63\u001b[0m\u001b]8;;\u001b\\\n"
      ]
     },
     "metadata": {},
     "output_type": "display_data"
    },
    {
     "data": {
      "text/html": [
       "<pre style=\"white-space:pre;overflow-x:auto;line-height:normal;font-family:Menlo,'DejaVu Sans Mono',consolas,'Courier New',monospace\"><span style=\"color: #7fbfbf; text-decoration-color: #7fbfbf\">           </span>----------                                                             <a href=\"file:///home/ngardn10/projects/cuticulus/cuticulus/mlutils/torch.py\"><span style=\"color: #7f7f7f; text-decoration-color: #7f7f7f\">torch.py</span></a><span style=\"color: #7f7f7f; text-decoration-color: #7f7f7f\">:</span><a href=\"file:///home/ngardn10/projects/cuticulus/cuticulus/mlutils/torch.py#64\"><span style=\"color: #7f7f7f; text-decoration-color: #7f7f7f\">64</span></a>\n",
       "</pre>\n"
      ],
      "text/plain": [
       "\u001b[2;36m          \u001b[0m\u001b[2;36m \u001b[0m----------                                                             \u001b]8;id=722399;file:///home/ngardn10/projects/cuticulus/cuticulus/mlutils/torch.py\u001b\\\u001b[2mtorch.py\u001b[0m\u001b]8;;\u001b\\\u001b[2m:\u001b[0m\u001b]8;id=139372;file:///home/ngardn10/projects/cuticulus/cuticulus/mlutils/torch.py#64\u001b\\\u001b[2m64\u001b[0m\u001b]8;;\u001b\\\n"
      ]
     },
     "metadata": {},
     "output_type": "display_data"
    },
    {
     "data": {
      "text/html": [
       "<pre style=\"white-space:pre;overflow-x:auto;line-height:normal;font-family:Menlo,'DejaVu Sans Mono',consolas,'Courier New',monospace\"><span style=\"color: #7fbfbf; text-decoration-color: #7fbfbf\">[14:40:22] </span>train Loss: <span style=\"color: #008080; text-decoration-color: #008080; font-weight: bold\">0.1356</span> Acc: <span style=\"color: #008080; text-decoration-color: #008080; font-weight: bold\">0.9485</span>                                        <a href=\"file:///home/ngardn10/projects/cuticulus/cuticulus/mlutils/torch.py\"><span style=\"color: #7f7f7f; text-decoration-color: #7f7f7f\">torch.py</span></a><span style=\"color: #7f7f7f; text-decoration-color: #7f7f7f\">:</span><a href=\"file:///home/ngardn10/projects/cuticulus/cuticulus/mlutils/torch.py#109\"><span style=\"color: #7f7f7f; text-decoration-color: #7f7f7f\">109</span></a>\n",
       "</pre>\n"
      ],
      "text/plain": [
       "\u001b[2;36m[14:40:22]\u001b[0m\u001b[2;36m \u001b[0mtrain Loss: \u001b[1;36m0.1356\u001b[0m Acc: \u001b[1;36m0.9485\u001b[0m                                        \u001b]8;id=333028;file:///home/ngardn10/projects/cuticulus/cuticulus/mlutils/torch.py\u001b\\\u001b[2mtorch.py\u001b[0m\u001b]8;;\u001b\\\u001b[2m:\u001b[0m\u001b]8;id=486792;file:///home/ngardn10/projects/cuticulus/cuticulus/mlutils/torch.py#109\u001b\\\u001b[2m109\u001b[0m\u001b]8;;\u001b\\\n"
      ]
     },
     "metadata": {},
     "output_type": "display_data"
    },
    {
     "data": {
      "text/html": [
       "<pre style=\"white-space:pre;overflow-x:auto;line-height:normal;font-family:Menlo,'DejaVu Sans Mono',consolas,'Courier New',monospace\"><span style=\"color: #7fbfbf; text-decoration-color: #7fbfbf\">           </span>val Loss: <span style=\"color: #008080; text-decoration-color: #008080; font-weight: bold\">0.7393</span> Acc: <span style=\"color: #008080; text-decoration-color: #008080; font-weight: bold\">0.7715</span>                                          <a href=\"file:///home/ngardn10/projects/cuticulus/cuticulus/mlutils/torch.py\"><span style=\"color: #7f7f7f; text-decoration-color: #7f7f7f\">torch.py</span></a><span style=\"color: #7f7f7f; text-decoration-color: #7f7f7f\">:</span><a href=\"file:///home/ngardn10/projects/cuticulus/cuticulus/mlutils/torch.py#109\"><span style=\"color: #7f7f7f; text-decoration-color: #7f7f7f\">109</span></a>\n",
       "</pre>\n"
      ],
      "text/plain": [
       "\u001b[2;36m          \u001b[0m\u001b[2;36m \u001b[0mval Loss: \u001b[1;36m0.7393\u001b[0m Acc: \u001b[1;36m0.7715\u001b[0m                                          \u001b]8;id=139361;file:///home/ngardn10/projects/cuticulus/cuticulus/mlutils/torch.py\u001b\\\u001b[2mtorch.py\u001b[0m\u001b]8;;\u001b\\\u001b[2m:\u001b[0m\u001b]8;id=889348;file:///home/ngardn10/projects/cuticulus/cuticulus/mlutils/torch.py#109\u001b\\\u001b[2m109\u001b[0m\u001b]8;;\u001b\\\n"
      ]
     },
     "metadata": {},
     "output_type": "display_data"
    },
    {
     "data": {
      "text/html": [
       "<pre style=\"white-space:pre;overflow-x:auto;line-height:normal;font-family:Menlo,'DejaVu Sans Mono',consolas,'Courier New',monospace\"><span style=\"color: #7fbfbf; text-decoration-color: #7fbfbf\">           </span>Epoch <span style=\"color: #008080; text-decoration-color: #008080; font-weight: bold\">12</span>/<span style=\"color: #008080; text-decoration-color: #008080; font-weight: bold\">99</span>                                                            <a href=\"file:///home/ngardn10/projects/cuticulus/cuticulus/mlutils/torch.py\"><span style=\"color: #7f7f7f; text-decoration-color: #7f7f7f\">torch.py</span></a><span style=\"color: #7f7f7f; text-decoration-color: #7f7f7f\">:</span><a href=\"file:///home/ngardn10/projects/cuticulus/cuticulus/mlutils/torch.py#63\"><span style=\"color: #7f7f7f; text-decoration-color: #7f7f7f\">63</span></a>\n",
       "</pre>\n"
      ],
      "text/plain": [
       "\u001b[2;36m          \u001b[0m\u001b[2;36m \u001b[0mEpoch \u001b[1;36m12\u001b[0m/\u001b[1;36m99\u001b[0m                                                            \u001b]8;id=399618;file:///home/ngardn10/projects/cuticulus/cuticulus/mlutils/torch.py\u001b\\\u001b[2mtorch.py\u001b[0m\u001b]8;;\u001b\\\u001b[2m:\u001b[0m\u001b]8;id=852146;file:///home/ngardn10/projects/cuticulus/cuticulus/mlutils/torch.py#63\u001b\\\u001b[2m63\u001b[0m\u001b]8;;\u001b\\\n"
      ]
     },
     "metadata": {},
     "output_type": "display_data"
    },
    {
     "data": {
      "text/html": [
       "<pre style=\"white-space:pre;overflow-x:auto;line-height:normal;font-family:Menlo,'DejaVu Sans Mono',consolas,'Courier New',monospace\"><span style=\"color: #7fbfbf; text-decoration-color: #7fbfbf\">           </span>----------                                                             <a href=\"file:///home/ngardn10/projects/cuticulus/cuticulus/mlutils/torch.py\"><span style=\"color: #7f7f7f; text-decoration-color: #7f7f7f\">torch.py</span></a><span style=\"color: #7f7f7f; text-decoration-color: #7f7f7f\">:</span><a href=\"file:///home/ngardn10/projects/cuticulus/cuticulus/mlutils/torch.py#64\"><span style=\"color: #7f7f7f; text-decoration-color: #7f7f7f\">64</span></a>\n",
       "</pre>\n"
      ],
      "text/plain": [
       "\u001b[2;36m          \u001b[0m\u001b[2;36m \u001b[0m----------                                                             \u001b]8;id=648057;file:///home/ngardn10/projects/cuticulus/cuticulus/mlutils/torch.py\u001b\\\u001b[2mtorch.py\u001b[0m\u001b]8;;\u001b\\\u001b[2m:\u001b[0m\u001b]8;id=969935;file:///home/ngardn10/projects/cuticulus/cuticulus/mlutils/torch.py#64\u001b\\\u001b[2m64\u001b[0m\u001b]8;;\u001b\\\n"
      ]
     },
     "metadata": {},
     "output_type": "display_data"
    },
    {
     "data": {
      "text/html": [
       "<pre style=\"white-space:pre;overflow-x:auto;line-height:normal;font-family:Menlo,'DejaVu Sans Mono',consolas,'Courier New',monospace\"><span style=\"color: #7fbfbf; text-decoration-color: #7fbfbf\">[14:40:24] </span>train Loss: <span style=\"color: #008080; text-decoration-color: #008080; font-weight: bold\">0.1162</span> Acc: <span style=\"color: #008080; text-decoration-color: #008080; font-weight: bold\">0.9525</span>                                        <a href=\"file:///home/ngardn10/projects/cuticulus/cuticulus/mlutils/torch.py\"><span style=\"color: #7f7f7f; text-decoration-color: #7f7f7f\">torch.py</span></a><span style=\"color: #7f7f7f; text-decoration-color: #7f7f7f\">:</span><a href=\"file:///home/ngardn10/projects/cuticulus/cuticulus/mlutils/torch.py#109\"><span style=\"color: #7f7f7f; text-decoration-color: #7f7f7f\">109</span></a>\n",
       "</pre>\n"
      ],
      "text/plain": [
       "\u001b[2;36m[14:40:24]\u001b[0m\u001b[2;36m \u001b[0mtrain Loss: \u001b[1;36m0.1162\u001b[0m Acc: \u001b[1;36m0.9525\u001b[0m                                        \u001b]8;id=682722;file:///home/ngardn10/projects/cuticulus/cuticulus/mlutils/torch.py\u001b\\\u001b[2mtorch.py\u001b[0m\u001b]8;;\u001b\\\u001b[2m:\u001b[0m\u001b]8;id=667334;file:///home/ngardn10/projects/cuticulus/cuticulus/mlutils/torch.py#109\u001b\\\u001b[2m109\u001b[0m\u001b]8;;\u001b\\\n"
      ]
     },
     "metadata": {},
     "output_type": "display_data"
    },
    {
     "data": {
      "text/html": [
       "<pre style=\"white-space:pre;overflow-x:auto;line-height:normal;font-family:Menlo,'DejaVu Sans Mono',consolas,'Courier New',monospace\"><span style=\"color: #7fbfbf; text-decoration-color: #7fbfbf\">           </span>val Loss: <span style=\"color: #008080; text-decoration-color: #008080; font-weight: bold\">0.7967</span> Acc: <span style=\"color: #008080; text-decoration-color: #008080; font-weight: bold\">0.7454</span>                                          <a href=\"file:///home/ngardn10/projects/cuticulus/cuticulus/mlutils/torch.py\"><span style=\"color: #7f7f7f; text-decoration-color: #7f7f7f\">torch.py</span></a><span style=\"color: #7f7f7f; text-decoration-color: #7f7f7f\">:</span><a href=\"file:///home/ngardn10/projects/cuticulus/cuticulus/mlutils/torch.py#109\"><span style=\"color: #7f7f7f; text-decoration-color: #7f7f7f\">109</span></a>\n",
       "</pre>\n"
      ],
      "text/plain": [
       "\u001b[2;36m          \u001b[0m\u001b[2;36m \u001b[0mval Loss: \u001b[1;36m0.7967\u001b[0m Acc: \u001b[1;36m0.7454\u001b[0m                                          \u001b]8;id=538238;file:///home/ngardn10/projects/cuticulus/cuticulus/mlutils/torch.py\u001b\\\u001b[2mtorch.py\u001b[0m\u001b]8;;\u001b\\\u001b[2m:\u001b[0m\u001b]8;id=507193;file:///home/ngardn10/projects/cuticulus/cuticulus/mlutils/torch.py#109\u001b\\\u001b[2m109\u001b[0m\u001b]8;;\u001b\\\n"
      ]
     },
     "metadata": {},
     "output_type": "display_data"
    },
    {
     "data": {
      "text/html": [
       "<pre style=\"white-space:pre;overflow-x:auto;line-height:normal;font-family:Menlo,'DejaVu Sans Mono',consolas,'Courier New',monospace\"><span style=\"color: #7fbfbf; text-decoration-color: #7fbfbf\">           </span>Epoch <span style=\"color: #008080; text-decoration-color: #008080; font-weight: bold\">13</span>/<span style=\"color: #008080; text-decoration-color: #008080; font-weight: bold\">99</span>                                                            <a href=\"file:///home/ngardn10/projects/cuticulus/cuticulus/mlutils/torch.py\"><span style=\"color: #7f7f7f; text-decoration-color: #7f7f7f\">torch.py</span></a><span style=\"color: #7f7f7f; text-decoration-color: #7f7f7f\">:</span><a href=\"file:///home/ngardn10/projects/cuticulus/cuticulus/mlutils/torch.py#63\"><span style=\"color: #7f7f7f; text-decoration-color: #7f7f7f\">63</span></a>\n",
       "</pre>\n"
      ],
      "text/plain": [
       "\u001b[2;36m          \u001b[0m\u001b[2;36m \u001b[0mEpoch \u001b[1;36m13\u001b[0m/\u001b[1;36m99\u001b[0m                                                            \u001b]8;id=912161;file:///home/ngardn10/projects/cuticulus/cuticulus/mlutils/torch.py\u001b\\\u001b[2mtorch.py\u001b[0m\u001b]8;;\u001b\\\u001b[2m:\u001b[0m\u001b]8;id=745873;file:///home/ngardn10/projects/cuticulus/cuticulus/mlutils/torch.py#63\u001b\\\u001b[2m63\u001b[0m\u001b]8;;\u001b\\\n"
      ]
     },
     "metadata": {},
     "output_type": "display_data"
    },
    {
     "data": {
      "text/html": [
       "<pre style=\"white-space:pre;overflow-x:auto;line-height:normal;font-family:Menlo,'DejaVu Sans Mono',consolas,'Courier New',monospace\"><span style=\"color: #7fbfbf; text-decoration-color: #7fbfbf\">           </span>----------                                                             <a href=\"file:///home/ngardn10/projects/cuticulus/cuticulus/mlutils/torch.py\"><span style=\"color: #7f7f7f; text-decoration-color: #7f7f7f\">torch.py</span></a><span style=\"color: #7f7f7f; text-decoration-color: #7f7f7f\">:</span><a href=\"file:///home/ngardn10/projects/cuticulus/cuticulus/mlutils/torch.py#64\"><span style=\"color: #7f7f7f; text-decoration-color: #7f7f7f\">64</span></a>\n",
       "</pre>\n"
      ],
      "text/plain": [
       "\u001b[2;36m          \u001b[0m\u001b[2;36m \u001b[0m----------                                                             \u001b]8;id=219081;file:///home/ngardn10/projects/cuticulus/cuticulus/mlutils/torch.py\u001b\\\u001b[2mtorch.py\u001b[0m\u001b]8;;\u001b\\\u001b[2m:\u001b[0m\u001b]8;id=227012;file:///home/ngardn10/projects/cuticulus/cuticulus/mlutils/torch.py#64\u001b\\\u001b[2m64\u001b[0m\u001b]8;;\u001b\\\n"
      ]
     },
     "metadata": {},
     "output_type": "display_data"
    },
    {
     "data": {
      "text/html": [
       "<pre style=\"white-space:pre;overflow-x:auto;line-height:normal;font-family:Menlo,'DejaVu Sans Mono',consolas,'Courier New',monospace\"><span style=\"color: #7fbfbf; text-decoration-color: #7fbfbf\">[14:40:26] </span>train Loss: <span style=\"color: #008080; text-decoration-color: #008080; font-weight: bold\">0.1103</span> Acc: <span style=\"color: #008080; text-decoration-color: #008080; font-weight: bold\">0.9620</span>                                        <a href=\"file:///home/ngardn10/projects/cuticulus/cuticulus/mlutils/torch.py\"><span style=\"color: #7f7f7f; text-decoration-color: #7f7f7f\">torch.py</span></a><span style=\"color: #7f7f7f; text-decoration-color: #7f7f7f\">:</span><a href=\"file:///home/ngardn10/projects/cuticulus/cuticulus/mlutils/torch.py#109\"><span style=\"color: #7f7f7f; text-decoration-color: #7f7f7f\">109</span></a>\n",
       "</pre>\n"
      ],
      "text/plain": [
       "\u001b[2;36m[14:40:26]\u001b[0m\u001b[2;36m \u001b[0mtrain Loss: \u001b[1;36m0.1103\u001b[0m Acc: \u001b[1;36m0.9620\u001b[0m                                        \u001b]8;id=949000;file:///home/ngardn10/projects/cuticulus/cuticulus/mlutils/torch.py\u001b\\\u001b[2mtorch.py\u001b[0m\u001b]8;;\u001b\\\u001b[2m:\u001b[0m\u001b]8;id=329531;file:///home/ngardn10/projects/cuticulus/cuticulus/mlutils/torch.py#109\u001b\\\u001b[2m109\u001b[0m\u001b]8;;\u001b\\\n"
      ]
     },
     "metadata": {},
     "output_type": "display_data"
    },
    {
     "data": {
      "text/html": [
       "<pre style=\"white-space:pre;overflow-x:auto;line-height:normal;font-family:Menlo,'DejaVu Sans Mono',consolas,'Courier New',monospace\"><span style=\"color: #7fbfbf; text-decoration-color: #7fbfbf\">           </span>val Loss: <span style=\"color: #008080; text-decoration-color: #008080; font-weight: bold\">0.6735</span> Acc: <span style=\"color: #008080; text-decoration-color: #008080; font-weight: bold\">0.7742</span>                                          <a href=\"file:///home/ngardn10/projects/cuticulus/cuticulus/mlutils/torch.py\"><span style=\"color: #7f7f7f; text-decoration-color: #7f7f7f\">torch.py</span></a><span style=\"color: #7f7f7f; text-decoration-color: #7f7f7f\">:</span><a href=\"file:///home/ngardn10/projects/cuticulus/cuticulus/mlutils/torch.py#109\"><span style=\"color: #7f7f7f; text-decoration-color: #7f7f7f\">109</span></a>\n",
       "</pre>\n"
      ],
      "text/plain": [
       "\u001b[2;36m          \u001b[0m\u001b[2;36m \u001b[0mval Loss: \u001b[1;36m0.6735\u001b[0m Acc: \u001b[1;36m0.7742\u001b[0m                                          \u001b]8;id=902181;file:///home/ngardn10/projects/cuticulus/cuticulus/mlutils/torch.py\u001b\\\u001b[2mtorch.py\u001b[0m\u001b]8;;\u001b\\\u001b[2m:\u001b[0m\u001b]8;id=226181;file:///home/ngardn10/projects/cuticulus/cuticulus/mlutils/torch.py#109\u001b\\\u001b[2m109\u001b[0m\u001b]8;;\u001b\\\n"
      ]
     },
     "metadata": {},
     "output_type": "display_data"
    },
    {
     "data": {
      "text/html": [
       "<pre style=\"white-space:pre;overflow-x:auto;line-height:normal;font-family:Menlo,'DejaVu Sans Mono',consolas,'Courier New',monospace\"><span style=\"color: #7fbfbf; text-decoration-color: #7fbfbf\">           </span>Epoch <span style=\"color: #008080; text-decoration-color: #008080; font-weight: bold\">14</span>/<span style=\"color: #008080; text-decoration-color: #008080; font-weight: bold\">99</span>                                                            <a href=\"file:///home/ngardn10/projects/cuticulus/cuticulus/mlutils/torch.py\"><span style=\"color: #7f7f7f; text-decoration-color: #7f7f7f\">torch.py</span></a><span style=\"color: #7f7f7f; text-decoration-color: #7f7f7f\">:</span><a href=\"file:///home/ngardn10/projects/cuticulus/cuticulus/mlutils/torch.py#63\"><span style=\"color: #7f7f7f; text-decoration-color: #7f7f7f\">63</span></a>\n",
       "</pre>\n"
      ],
      "text/plain": [
       "\u001b[2;36m          \u001b[0m\u001b[2;36m \u001b[0mEpoch \u001b[1;36m14\u001b[0m/\u001b[1;36m99\u001b[0m                                                            \u001b]8;id=738613;file:///home/ngardn10/projects/cuticulus/cuticulus/mlutils/torch.py\u001b\\\u001b[2mtorch.py\u001b[0m\u001b]8;;\u001b\\\u001b[2m:\u001b[0m\u001b]8;id=675583;file:///home/ngardn10/projects/cuticulus/cuticulus/mlutils/torch.py#63\u001b\\\u001b[2m63\u001b[0m\u001b]8;;\u001b\\\n"
      ]
     },
     "metadata": {},
     "output_type": "display_data"
    },
    {
     "data": {
      "text/html": [
       "<pre style=\"white-space:pre;overflow-x:auto;line-height:normal;font-family:Menlo,'DejaVu Sans Mono',consolas,'Courier New',monospace\"><span style=\"color: #7fbfbf; text-decoration-color: #7fbfbf\">           </span>----------                                                             <a href=\"file:///home/ngardn10/projects/cuticulus/cuticulus/mlutils/torch.py\"><span style=\"color: #7f7f7f; text-decoration-color: #7f7f7f\">torch.py</span></a><span style=\"color: #7f7f7f; text-decoration-color: #7f7f7f\">:</span><a href=\"file:///home/ngardn10/projects/cuticulus/cuticulus/mlutils/torch.py#64\"><span style=\"color: #7f7f7f; text-decoration-color: #7f7f7f\">64</span></a>\n",
       "</pre>\n"
      ],
      "text/plain": [
       "\u001b[2;36m          \u001b[0m\u001b[2;36m \u001b[0m----------                                                             \u001b]8;id=473789;file:///home/ngardn10/projects/cuticulus/cuticulus/mlutils/torch.py\u001b\\\u001b[2mtorch.py\u001b[0m\u001b]8;;\u001b\\\u001b[2m:\u001b[0m\u001b]8;id=475156;file:///home/ngardn10/projects/cuticulus/cuticulus/mlutils/torch.py#64\u001b\\\u001b[2m64\u001b[0m\u001b]8;;\u001b\\\n"
      ]
     },
     "metadata": {},
     "output_type": "display_data"
    },
    {
     "data": {
      "text/html": [
       "<pre style=\"white-space:pre;overflow-x:auto;line-height:normal;font-family:Menlo,'DejaVu Sans Mono',consolas,'Courier New',monospace\"><span style=\"color: #7fbfbf; text-decoration-color: #7fbfbf\">[14:40:28] </span>train Loss: <span style=\"color: #008080; text-decoration-color: #008080; font-weight: bold\">0.1150</span> Acc: <span style=\"color: #008080; text-decoration-color: #008080; font-weight: bold\">0.9560</span>                                        <a href=\"file:///home/ngardn10/projects/cuticulus/cuticulus/mlutils/torch.py\"><span style=\"color: #7f7f7f; text-decoration-color: #7f7f7f\">torch.py</span></a><span style=\"color: #7f7f7f; text-decoration-color: #7f7f7f\">:</span><a href=\"file:///home/ngardn10/projects/cuticulus/cuticulus/mlutils/torch.py#109\"><span style=\"color: #7f7f7f; text-decoration-color: #7f7f7f\">109</span></a>\n",
       "</pre>\n"
      ],
      "text/plain": [
       "\u001b[2;36m[14:40:28]\u001b[0m\u001b[2;36m \u001b[0mtrain Loss: \u001b[1;36m0.1150\u001b[0m Acc: \u001b[1;36m0.9560\u001b[0m                                        \u001b]8;id=569659;file:///home/ngardn10/projects/cuticulus/cuticulus/mlutils/torch.py\u001b\\\u001b[2mtorch.py\u001b[0m\u001b]8;;\u001b\\\u001b[2m:\u001b[0m\u001b]8;id=100774;file:///home/ngardn10/projects/cuticulus/cuticulus/mlutils/torch.py#109\u001b\\\u001b[2m109\u001b[0m\u001b]8;;\u001b\\\n"
      ]
     },
     "metadata": {},
     "output_type": "display_data"
    },
    {
     "data": {
      "text/html": [
       "<pre style=\"white-space:pre;overflow-x:auto;line-height:normal;font-family:Menlo,'DejaVu Sans Mono',consolas,'Courier New',monospace\"><span style=\"color: #7fbfbf; text-decoration-color: #7fbfbf\">           </span>val Loss: <span style=\"color: #008080; text-decoration-color: #008080; font-weight: bold\">0.8522</span> Acc: <span style=\"color: #008080; text-decoration-color: #008080; font-weight: bold\">0.7768</span>                                          <a href=\"file:///home/ngardn10/projects/cuticulus/cuticulus/mlutils/torch.py\"><span style=\"color: #7f7f7f; text-decoration-color: #7f7f7f\">torch.py</span></a><span style=\"color: #7f7f7f; text-decoration-color: #7f7f7f\">:</span><a href=\"file:///home/ngardn10/projects/cuticulus/cuticulus/mlutils/torch.py#109\"><span style=\"color: #7f7f7f; text-decoration-color: #7f7f7f\">109</span></a>\n",
       "</pre>\n"
      ],
      "text/plain": [
       "\u001b[2;36m          \u001b[0m\u001b[2;36m \u001b[0mval Loss: \u001b[1;36m0.8522\u001b[0m Acc: \u001b[1;36m0.7768\u001b[0m                                          \u001b]8;id=423358;file:///home/ngardn10/projects/cuticulus/cuticulus/mlutils/torch.py\u001b\\\u001b[2mtorch.py\u001b[0m\u001b]8;;\u001b\\\u001b[2m:\u001b[0m\u001b]8;id=530848;file:///home/ngardn10/projects/cuticulus/cuticulus/mlutils/torch.py#109\u001b\\\u001b[2m109\u001b[0m\u001b]8;;\u001b\\\n"
      ]
     },
     "metadata": {},
     "output_type": "display_data"
    },
    {
     "data": {
      "text/html": [
       "<pre style=\"white-space:pre;overflow-x:auto;line-height:normal;font-family:Menlo,'DejaVu Sans Mono',consolas,'Courier New',monospace\"><span style=\"color: #7fbfbf; text-decoration-color: #7fbfbf\">           </span>Epoch <span style=\"color: #008080; text-decoration-color: #008080; font-weight: bold\">15</span>/<span style=\"color: #008080; text-decoration-color: #008080; font-weight: bold\">99</span>                                                            <a href=\"file:///home/ngardn10/projects/cuticulus/cuticulus/mlutils/torch.py\"><span style=\"color: #7f7f7f; text-decoration-color: #7f7f7f\">torch.py</span></a><span style=\"color: #7f7f7f; text-decoration-color: #7f7f7f\">:</span><a href=\"file:///home/ngardn10/projects/cuticulus/cuticulus/mlutils/torch.py#63\"><span style=\"color: #7f7f7f; text-decoration-color: #7f7f7f\">63</span></a>\n",
       "</pre>\n"
      ],
      "text/plain": [
       "\u001b[2;36m          \u001b[0m\u001b[2;36m \u001b[0mEpoch \u001b[1;36m15\u001b[0m/\u001b[1;36m99\u001b[0m                                                            \u001b]8;id=279914;file:///home/ngardn10/projects/cuticulus/cuticulus/mlutils/torch.py\u001b\\\u001b[2mtorch.py\u001b[0m\u001b]8;;\u001b\\\u001b[2m:\u001b[0m\u001b]8;id=277581;file:///home/ngardn10/projects/cuticulus/cuticulus/mlutils/torch.py#63\u001b\\\u001b[2m63\u001b[0m\u001b]8;;\u001b\\\n"
      ]
     },
     "metadata": {},
     "output_type": "display_data"
    },
    {
     "data": {
      "text/html": [
       "<pre style=\"white-space:pre;overflow-x:auto;line-height:normal;font-family:Menlo,'DejaVu Sans Mono',consolas,'Courier New',monospace\"><span style=\"color: #7fbfbf; text-decoration-color: #7fbfbf\">           </span>----------                                                             <a href=\"file:///home/ngardn10/projects/cuticulus/cuticulus/mlutils/torch.py\"><span style=\"color: #7f7f7f; text-decoration-color: #7f7f7f\">torch.py</span></a><span style=\"color: #7f7f7f; text-decoration-color: #7f7f7f\">:</span><a href=\"file:///home/ngardn10/projects/cuticulus/cuticulus/mlutils/torch.py#64\"><span style=\"color: #7f7f7f; text-decoration-color: #7f7f7f\">64</span></a>\n",
       "</pre>\n"
      ],
      "text/plain": [
       "\u001b[2;36m          \u001b[0m\u001b[2;36m \u001b[0m----------                                                             \u001b]8;id=891886;file:///home/ngardn10/projects/cuticulus/cuticulus/mlutils/torch.py\u001b\\\u001b[2mtorch.py\u001b[0m\u001b]8;;\u001b\\\u001b[2m:\u001b[0m\u001b]8;id=766420;file:///home/ngardn10/projects/cuticulus/cuticulus/mlutils/torch.py#64\u001b\\\u001b[2m64\u001b[0m\u001b]8;;\u001b\\\n"
      ]
     },
     "metadata": {},
     "output_type": "display_data"
    },
    {
     "data": {
      "text/html": [
       "<pre style=\"white-space:pre;overflow-x:auto;line-height:normal;font-family:Menlo,'DejaVu Sans Mono',consolas,'Courier New',monospace\"><span style=\"color: #7fbfbf; text-decoration-color: #7fbfbf\">[14:40:30] </span>train Loss: <span style=\"color: #008080; text-decoration-color: #008080; font-weight: bold\">0.1317</span> Acc: <span style=\"color: #008080; text-decoration-color: #008080; font-weight: bold\">0.9635</span>                                        <a href=\"file:///home/ngardn10/projects/cuticulus/cuticulus/mlutils/torch.py\"><span style=\"color: #7f7f7f; text-decoration-color: #7f7f7f\">torch.py</span></a><span style=\"color: #7f7f7f; text-decoration-color: #7f7f7f\">:</span><a href=\"file:///home/ngardn10/projects/cuticulus/cuticulus/mlutils/torch.py#109\"><span style=\"color: #7f7f7f; text-decoration-color: #7f7f7f\">109</span></a>\n",
       "</pre>\n"
      ],
      "text/plain": [
       "\u001b[2;36m[14:40:30]\u001b[0m\u001b[2;36m \u001b[0mtrain Loss: \u001b[1;36m0.1317\u001b[0m Acc: \u001b[1;36m0.9635\u001b[0m                                        \u001b]8;id=914226;file:///home/ngardn10/projects/cuticulus/cuticulus/mlutils/torch.py\u001b\\\u001b[2mtorch.py\u001b[0m\u001b]8;;\u001b\\\u001b[2m:\u001b[0m\u001b]8;id=527759;file:///home/ngardn10/projects/cuticulus/cuticulus/mlutils/torch.py#109\u001b\\\u001b[2m109\u001b[0m\u001b]8;;\u001b\\\n"
      ]
     },
     "metadata": {},
     "output_type": "display_data"
    },
    {
     "data": {
      "text/html": [
       "<pre style=\"white-space:pre;overflow-x:auto;line-height:normal;font-family:Menlo,'DejaVu Sans Mono',consolas,'Courier New',monospace\"><span style=\"color: #7fbfbf; text-decoration-color: #7fbfbf\">           </span>val Loss: <span style=\"color: #008080; text-decoration-color: #008080; font-weight: bold\">0.9422</span> Acc: <span style=\"color: #008080; text-decoration-color: #008080; font-weight: bold\">0.7807</span>                                          <a href=\"file:///home/ngardn10/projects/cuticulus/cuticulus/mlutils/torch.py\"><span style=\"color: #7f7f7f; text-decoration-color: #7f7f7f\">torch.py</span></a><span style=\"color: #7f7f7f; text-decoration-color: #7f7f7f\">:</span><a href=\"file:///home/ngardn10/projects/cuticulus/cuticulus/mlutils/torch.py#109\"><span style=\"color: #7f7f7f; text-decoration-color: #7f7f7f\">109</span></a>\n",
       "</pre>\n"
      ],
      "text/plain": [
       "\u001b[2;36m          \u001b[0m\u001b[2;36m \u001b[0mval Loss: \u001b[1;36m0.9422\u001b[0m Acc: \u001b[1;36m0.7807\u001b[0m                                          \u001b]8;id=464628;file:///home/ngardn10/projects/cuticulus/cuticulus/mlutils/torch.py\u001b\\\u001b[2mtorch.py\u001b[0m\u001b]8;;\u001b\\\u001b[2m:\u001b[0m\u001b]8;id=818306;file:///home/ngardn10/projects/cuticulus/cuticulus/mlutils/torch.py#109\u001b\\\u001b[2m109\u001b[0m\u001b]8;;\u001b\\\n"
      ]
     },
     "metadata": {},
     "output_type": "display_data"
    },
    {
     "data": {
      "text/html": [
       "<pre style=\"white-space:pre;overflow-x:auto;line-height:normal;font-family:Menlo,'DejaVu Sans Mono',consolas,'Courier New',monospace\"><span style=\"color: #7fbfbf; text-decoration-color: #7fbfbf\">           </span>Epoch <span style=\"color: #008080; text-decoration-color: #008080; font-weight: bold\">16</span>/<span style=\"color: #008080; text-decoration-color: #008080; font-weight: bold\">99</span>                                                            <a href=\"file:///home/ngardn10/projects/cuticulus/cuticulus/mlutils/torch.py\"><span style=\"color: #7f7f7f; text-decoration-color: #7f7f7f\">torch.py</span></a><span style=\"color: #7f7f7f; text-decoration-color: #7f7f7f\">:</span><a href=\"file:///home/ngardn10/projects/cuticulus/cuticulus/mlutils/torch.py#63\"><span style=\"color: #7f7f7f; text-decoration-color: #7f7f7f\">63</span></a>\n",
       "</pre>\n"
      ],
      "text/plain": [
       "\u001b[2;36m          \u001b[0m\u001b[2;36m \u001b[0mEpoch \u001b[1;36m16\u001b[0m/\u001b[1;36m99\u001b[0m                                                            \u001b]8;id=985066;file:///home/ngardn10/projects/cuticulus/cuticulus/mlutils/torch.py\u001b\\\u001b[2mtorch.py\u001b[0m\u001b]8;;\u001b\\\u001b[2m:\u001b[0m\u001b]8;id=422261;file:///home/ngardn10/projects/cuticulus/cuticulus/mlutils/torch.py#63\u001b\\\u001b[2m63\u001b[0m\u001b]8;;\u001b\\\n"
      ]
     },
     "metadata": {},
     "output_type": "display_data"
    },
    {
     "data": {
      "text/html": [
       "<pre style=\"white-space:pre;overflow-x:auto;line-height:normal;font-family:Menlo,'DejaVu Sans Mono',consolas,'Courier New',monospace\"><span style=\"color: #7fbfbf; text-decoration-color: #7fbfbf\">           </span>----------                                                             <a href=\"file:///home/ngardn10/projects/cuticulus/cuticulus/mlutils/torch.py\"><span style=\"color: #7f7f7f; text-decoration-color: #7f7f7f\">torch.py</span></a><span style=\"color: #7f7f7f; text-decoration-color: #7f7f7f\">:</span><a href=\"file:///home/ngardn10/projects/cuticulus/cuticulus/mlutils/torch.py#64\"><span style=\"color: #7f7f7f; text-decoration-color: #7f7f7f\">64</span></a>\n",
       "</pre>\n"
      ],
      "text/plain": [
       "\u001b[2;36m          \u001b[0m\u001b[2;36m \u001b[0m----------                                                             \u001b]8;id=30848;file:///home/ngardn10/projects/cuticulus/cuticulus/mlutils/torch.py\u001b\\\u001b[2mtorch.py\u001b[0m\u001b]8;;\u001b\\\u001b[2m:\u001b[0m\u001b]8;id=954413;file:///home/ngardn10/projects/cuticulus/cuticulus/mlutils/torch.py#64\u001b\\\u001b[2m64\u001b[0m\u001b]8;;\u001b\\\n"
      ]
     },
     "metadata": {},
     "output_type": "display_data"
    },
    {
     "data": {
      "text/html": [
       "<pre style=\"white-space:pre;overflow-x:auto;line-height:normal;font-family:Menlo,'DejaVu Sans Mono',consolas,'Courier New',monospace\"><span style=\"color: #7fbfbf; text-decoration-color: #7fbfbf\">[14:40:32] </span>train Loss: <span style=\"color: #008080; text-decoration-color: #008080; font-weight: bold\">0.1129</span> Acc: <span style=\"color: #008080; text-decoration-color: #008080; font-weight: bold\">0.9545</span>                                        <a href=\"file:///home/ngardn10/projects/cuticulus/cuticulus/mlutils/torch.py\"><span style=\"color: #7f7f7f; text-decoration-color: #7f7f7f\">torch.py</span></a><span style=\"color: #7f7f7f; text-decoration-color: #7f7f7f\">:</span><a href=\"file:///home/ngardn10/projects/cuticulus/cuticulus/mlutils/torch.py#109\"><span style=\"color: #7f7f7f; text-decoration-color: #7f7f7f\">109</span></a>\n",
       "</pre>\n"
      ],
      "text/plain": [
       "\u001b[2;36m[14:40:32]\u001b[0m\u001b[2;36m \u001b[0mtrain Loss: \u001b[1;36m0.1129\u001b[0m Acc: \u001b[1;36m0.9545\u001b[0m                                        \u001b]8;id=715055;file:///home/ngardn10/projects/cuticulus/cuticulus/mlutils/torch.py\u001b\\\u001b[2mtorch.py\u001b[0m\u001b]8;;\u001b\\\u001b[2m:\u001b[0m\u001b]8;id=696291;file:///home/ngardn10/projects/cuticulus/cuticulus/mlutils/torch.py#109\u001b\\\u001b[2m109\u001b[0m\u001b]8;;\u001b\\\n"
      ]
     },
     "metadata": {},
     "output_type": "display_data"
    },
    {
     "data": {
      "text/html": [
       "<pre style=\"white-space:pre;overflow-x:auto;line-height:normal;font-family:Menlo,'DejaVu Sans Mono',consolas,'Courier New',monospace\"><span style=\"color: #7fbfbf; text-decoration-color: #7fbfbf\">           </span>val Loss: <span style=\"color: #008080; text-decoration-color: #008080; font-weight: bold\">0.7821</span> Acc: <span style=\"color: #008080; text-decoration-color: #008080; font-weight: bold\">0.7859</span>                                          <a href=\"file:///home/ngardn10/projects/cuticulus/cuticulus/mlutils/torch.py\"><span style=\"color: #7f7f7f; text-decoration-color: #7f7f7f\">torch.py</span></a><span style=\"color: #7f7f7f; text-decoration-color: #7f7f7f\">:</span><a href=\"file:///home/ngardn10/projects/cuticulus/cuticulus/mlutils/torch.py#109\"><span style=\"color: #7f7f7f; text-decoration-color: #7f7f7f\">109</span></a>\n",
       "</pre>\n"
      ],
      "text/plain": [
       "\u001b[2;36m          \u001b[0m\u001b[2;36m \u001b[0mval Loss: \u001b[1;36m0.7821\u001b[0m Acc: \u001b[1;36m0.7859\u001b[0m                                          \u001b]8;id=528062;file:///home/ngardn10/projects/cuticulus/cuticulus/mlutils/torch.py\u001b\\\u001b[2mtorch.py\u001b[0m\u001b]8;;\u001b\\\u001b[2m:\u001b[0m\u001b]8;id=691979;file:///home/ngardn10/projects/cuticulus/cuticulus/mlutils/torch.py#109\u001b\\\u001b[2m109\u001b[0m\u001b]8;;\u001b\\\n"
      ]
     },
     "metadata": {},
     "output_type": "display_data"
    },
    {
     "data": {
      "text/html": [
       "<pre style=\"white-space:pre;overflow-x:auto;line-height:normal;font-family:Menlo,'DejaVu Sans Mono',consolas,'Courier New',monospace\"><span style=\"color: #7fbfbf; text-decoration-color: #7fbfbf\">           </span>Epoch <span style=\"color: #008080; text-decoration-color: #008080; font-weight: bold\">17</span>/<span style=\"color: #008080; text-decoration-color: #008080; font-weight: bold\">99</span>                                                            <a href=\"file:///home/ngardn10/projects/cuticulus/cuticulus/mlutils/torch.py\"><span style=\"color: #7f7f7f; text-decoration-color: #7f7f7f\">torch.py</span></a><span style=\"color: #7f7f7f; text-decoration-color: #7f7f7f\">:</span><a href=\"file:///home/ngardn10/projects/cuticulus/cuticulus/mlutils/torch.py#63\"><span style=\"color: #7f7f7f; text-decoration-color: #7f7f7f\">63</span></a>\n",
       "</pre>\n"
      ],
      "text/plain": [
       "\u001b[2;36m          \u001b[0m\u001b[2;36m \u001b[0mEpoch \u001b[1;36m17\u001b[0m/\u001b[1;36m99\u001b[0m                                                            \u001b]8;id=597909;file:///home/ngardn10/projects/cuticulus/cuticulus/mlutils/torch.py\u001b\\\u001b[2mtorch.py\u001b[0m\u001b]8;;\u001b\\\u001b[2m:\u001b[0m\u001b]8;id=422113;file:///home/ngardn10/projects/cuticulus/cuticulus/mlutils/torch.py#63\u001b\\\u001b[2m63\u001b[0m\u001b]8;;\u001b\\\n"
      ]
     },
     "metadata": {},
     "output_type": "display_data"
    },
    {
     "data": {
      "text/html": [
       "<pre style=\"white-space:pre;overflow-x:auto;line-height:normal;font-family:Menlo,'DejaVu Sans Mono',consolas,'Courier New',monospace\"><span style=\"color: #7fbfbf; text-decoration-color: #7fbfbf\">           </span>----------                                                             <a href=\"file:///home/ngardn10/projects/cuticulus/cuticulus/mlutils/torch.py\"><span style=\"color: #7f7f7f; text-decoration-color: #7f7f7f\">torch.py</span></a><span style=\"color: #7f7f7f; text-decoration-color: #7f7f7f\">:</span><a href=\"file:///home/ngardn10/projects/cuticulus/cuticulus/mlutils/torch.py#64\"><span style=\"color: #7f7f7f; text-decoration-color: #7f7f7f\">64</span></a>\n",
       "</pre>\n"
      ],
      "text/plain": [
       "\u001b[2;36m          \u001b[0m\u001b[2;36m \u001b[0m----------                                                             \u001b]8;id=315578;file:///home/ngardn10/projects/cuticulus/cuticulus/mlutils/torch.py\u001b\\\u001b[2mtorch.py\u001b[0m\u001b]8;;\u001b\\\u001b[2m:\u001b[0m\u001b]8;id=534146;file:///home/ngardn10/projects/cuticulus/cuticulus/mlutils/torch.py#64\u001b\\\u001b[2m64\u001b[0m\u001b]8;;\u001b\\\n"
      ]
     },
     "metadata": {},
     "output_type": "display_data"
    },
    {
     "data": {
      "text/html": [
       "<pre style=\"white-space:pre;overflow-x:auto;line-height:normal;font-family:Menlo,'DejaVu Sans Mono',consolas,'Courier New',monospace\"><span style=\"color: #7fbfbf; text-decoration-color: #7fbfbf\">[14:40:34] </span>train Loss: <span style=\"color: #008080; text-decoration-color: #008080; font-weight: bold\">0.0713</span> Acc: <span style=\"color: #008080; text-decoration-color: #008080; font-weight: bold\">0.9715</span>                                        <a href=\"file:///home/ngardn10/projects/cuticulus/cuticulus/mlutils/torch.py\"><span style=\"color: #7f7f7f; text-decoration-color: #7f7f7f\">torch.py</span></a><span style=\"color: #7f7f7f; text-decoration-color: #7f7f7f\">:</span><a href=\"file:///home/ngardn10/projects/cuticulus/cuticulus/mlutils/torch.py#109\"><span style=\"color: #7f7f7f; text-decoration-color: #7f7f7f\">109</span></a>\n",
       "</pre>\n"
      ],
      "text/plain": [
       "\u001b[2;36m[14:40:34]\u001b[0m\u001b[2;36m \u001b[0mtrain Loss: \u001b[1;36m0.0713\u001b[0m Acc: \u001b[1;36m0.9715\u001b[0m                                        \u001b]8;id=96573;file:///home/ngardn10/projects/cuticulus/cuticulus/mlutils/torch.py\u001b\\\u001b[2mtorch.py\u001b[0m\u001b]8;;\u001b\\\u001b[2m:\u001b[0m\u001b]8;id=750611;file:///home/ngardn10/projects/cuticulus/cuticulus/mlutils/torch.py#109\u001b\\\u001b[2m109\u001b[0m\u001b]8;;\u001b\\\n"
      ]
     },
     "metadata": {},
     "output_type": "display_data"
    },
    {
     "data": {
      "text/html": [
       "<pre style=\"white-space:pre;overflow-x:auto;line-height:normal;font-family:Menlo,'DejaVu Sans Mono',consolas,'Courier New',monospace\"><span style=\"color: #7fbfbf; text-decoration-color: #7fbfbf\">           </span>val Loss: <span style=\"color: #008080; text-decoration-color: #008080; font-weight: bold\">0.8856</span> Acc: <span style=\"color: #008080; text-decoration-color: #008080; font-weight: bold\">0.7963</span>                                          <a href=\"file:///home/ngardn10/projects/cuticulus/cuticulus/mlutils/torch.py\"><span style=\"color: #7f7f7f; text-decoration-color: #7f7f7f\">torch.py</span></a><span style=\"color: #7f7f7f; text-decoration-color: #7f7f7f\">:</span><a href=\"file:///home/ngardn10/projects/cuticulus/cuticulus/mlutils/torch.py#109\"><span style=\"color: #7f7f7f; text-decoration-color: #7f7f7f\">109</span></a>\n",
       "</pre>\n"
      ],
      "text/plain": [
       "\u001b[2;36m          \u001b[0m\u001b[2;36m \u001b[0mval Loss: \u001b[1;36m0.8856\u001b[0m Acc: \u001b[1;36m0.7963\u001b[0m                                          \u001b]8;id=885207;file:///home/ngardn10/projects/cuticulus/cuticulus/mlutils/torch.py\u001b\\\u001b[2mtorch.py\u001b[0m\u001b]8;;\u001b\\\u001b[2m:\u001b[0m\u001b]8;id=474741;file:///home/ngardn10/projects/cuticulus/cuticulus/mlutils/torch.py#109\u001b\\\u001b[2m109\u001b[0m\u001b]8;;\u001b\\\n"
      ]
     },
     "metadata": {},
     "output_type": "display_data"
    },
    {
     "data": {
      "text/html": [
       "<pre style=\"white-space:pre;overflow-x:auto;line-height:normal;font-family:Menlo,'DejaVu Sans Mono',consolas,'Courier New',monospace\"><span style=\"color: #7fbfbf; text-decoration-color: #7fbfbf\">           </span>Epoch <span style=\"color: #008080; text-decoration-color: #008080; font-weight: bold\">18</span>/<span style=\"color: #008080; text-decoration-color: #008080; font-weight: bold\">99</span>                                                            <a href=\"file:///home/ngardn10/projects/cuticulus/cuticulus/mlutils/torch.py\"><span style=\"color: #7f7f7f; text-decoration-color: #7f7f7f\">torch.py</span></a><span style=\"color: #7f7f7f; text-decoration-color: #7f7f7f\">:</span><a href=\"file:///home/ngardn10/projects/cuticulus/cuticulus/mlutils/torch.py#63\"><span style=\"color: #7f7f7f; text-decoration-color: #7f7f7f\">63</span></a>\n",
       "</pre>\n"
      ],
      "text/plain": [
       "\u001b[2;36m          \u001b[0m\u001b[2;36m \u001b[0mEpoch \u001b[1;36m18\u001b[0m/\u001b[1;36m99\u001b[0m                                                            \u001b]8;id=983073;file:///home/ngardn10/projects/cuticulus/cuticulus/mlutils/torch.py\u001b\\\u001b[2mtorch.py\u001b[0m\u001b]8;;\u001b\\\u001b[2m:\u001b[0m\u001b]8;id=445321;file:///home/ngardn10/projects/cuticulus/cuticulus/mlutils/torch.py#63\u001b\\\u001b[2m63\u001b[0m\u001b]8;;\u001b\\\n"
      ]
     },
     "metadata": {},
     "output_type": "display_data"
    },
    {
     "data": {
      "text/html": [
       "<pre style=\"white-space:pre;overflow-x:auto;line-height:normal;font-family:Menlo,'DejaVu Sans Mono',consolas,'Courier New',monospace\"><span style=\"color: #7fbfbf; text-decoration-color: #7fbfbf\">           </span>----------                                                             <a href=\"file:///home/ngardn10/projects/cuticulus/cuticulus/mlutils/torch.py\"><span style=\"color: #7f7f7f; text-decoration-color: #7f7f7f\">torch.py</span></a><span style=\"color: #7f7f7f; text-decoration-color: #7f7f7f\">:</span><a href=\"file:///home/ngardn10/projects/cuticulus/cuticulus/mlutils/torch.py#64\"><span style=\"color: #7f7f7f; text-decoration-color: #7f7f7f\">64</span></a>\n",
       "</pre>\n"
      ],
      "text/plain": [
       "\u001b[2;36m          \u001b[0m\u001b[2;36m \u001b[0m----------                                                             \u001b]8;id=299421;file:///home/ngardn10/projects/cuticulus/cuticulus/mlutils/torch.py\u001b\\\u001b[2mtorch.py\u001b[0m\u001b]8;;\u001b\\\u001b[2m:\u001b[0m\u001b]8;id=695365;file:///home/ngardn10/projects/cuticulus/cuticulus/mlutils/torch.py#64\u001b\\\u001b[2m64\u001b[0m\u001b]8;;\u001b\\\n"
      ]
     },
     "metadata": {},
     "output_type": "display_data"
    },
    {
     "data": {
      "text/html": [
       "<pre style=\"white-space:pre;overflow-x:auto;line-height:normal;font-family:Menlo,'DejaVu Sans Mono',consolas,'Courier New',monospace\"><span style=\"color: #7fbfbf; text-decoration-color: #7fbfbf\">[14:40:36] </span>train Loss: <span style=\"color: #008080; text-decoration-color: #008080; font-weight: bold\">0.1110</span> Acc: <span style=\"color: #008080; text-decoration-color: #008080; font-weight: bold\">0.9670</span>                                        <a href=\"file:///home/ngardn10/projects/cuticulus/cuticulus/mlutils/torch.py\"><span style=\"color: #7f7f7f; text-decoration-color: #7f7f7f\">torch.py</span></a><span style=\"color: #7f7f7f; text-decoration-color: #7f7f7f\">:</span><a href=\"file:///home/ngardn10/projects/cuticulus/cuticulus/mlutils/torch.py#109\"><span style=\"color: #7f7f7f; text-decoration-color: #7f7f7f\">109</span></a>\n",
       "</pre>\n"
      ],
      "text/plain": [
       "\u001b[2;36m[14:40:36]\u001b[0m\u001b[2;36m \u001b[0mtrain Loss: \u001b[1;36m0.1110\u001b[0m Acc: \u001b[1;36m0.9670\u001b[0m                                        \u001b]8;id=864503;file:///home/ngardn10/projects/cuticulus/cuticulus/mlutils/torch.py\u001b\\\u001b[2mtorch.py\u001b[0m\u001b]8;;\u001b\\\u001b[2m:\u001b[0m\u001b]8;id=884315;file:///home/ngardn10/projects/cuticulus/cuticulus/mlutils/torch.py#109\u001b\\\u001b[2m109\u001b[0m\u001b]8;;\u001b\\\n"
      ]
     },
     "metadata": {},
     "output_type": "display_data"
    },
    {
     "data": {
      "text/html": [
       "<pre style=\"white-space:pre;overflow-x:auto;line-height:normal;font-family:Menlo,'DejaVu Sans Mono',consolas,'Courier New',monospace\"><span style=\"color: #7fbfbf; text-decoration-color: #7fbfbf\">           </span>val Loss: <span style=\"color: #008080; text-decoration-color: #008080; font-weight: bold\">0.8043</span> Acc: <span style=\"color: #008080; text-decoration-color: #008080; font-weight: bold\">0.7650</span>                                          <a href=\"file:///home/ngardn10/projects/cuticulus/cuticulus/mlutils/torch.py\"><span style=\"color: #7f7f7f; text-decoration-color: #7f7f7f\">torch.py</span></a><span style=\"color: #7f7f7f; text-decoration-color: #7f7f7f\">:</span><a href=\"file:///home/ngardn10/projects/cuticulus/cuticulus/mlutils/torch.py#109\"><span style=\"color: #7f7f7f; text-decoration-color: #7f7f7f\">109</span></a>\n",
       "</pre>\n"
      ],
      "text/plain": [
       "\u001b[2;36m          \u001b[0m\u001b[2;36m \u001b[0mval Loss: \u001b[1;36m0.8043\u001b[0m Acc: \u001b[1;36m0.7650\u001b[0m                                          \u001b]8;id=131233;file:///home/ngardn10/projects/cuticulus/cuticulus/mlutils/torch.py\u001b\\\u001b[2mtorch.py\u001b[0m\u001b]8;;\u001b\\\u001b[2m:\u001b[0m\u001b]8;id=74479;file:///home/ngardn10/projects/cuticulus/cuticulus/mlutils/torch.py#109\u001b\\\u001b[2m109\u001b[0m\u001b]8;;\u001b\\\n"
      ]
     },
     "metadata": {},
     "output_type": "display_data"
    },
    {
     "data": {
      "text/html": [
       "<pre style=\"white-space:pre;overflow-x:auto;line-height:normal;font-family:Menlo,'DejaVu Sans Mono',consolas,'Courier New',monospace\"><span style=\"color: #7fbfbf; text-decoration-color: #7fbfbf\">           </span>Epoch <span style=\"color: #008080; text-decoration-color: #008080; font-weight: bold\">19</span>/<span style=\"color: #008080; text-decoration-color: #008080; font-weight: bold\">99</span>                                                            <a href=\"file:///home/ngardn10/projects/cuticulus/cuticulus/mlutils/torch.py\"><span style=\"color: #7f7f7f; text-decoration-color: #7f7f7f\">torch.py</span></a><span style=\"color: #7f7f7f; text-decoration-color: #7f7f7f\">:</span><a href=\"file:///home/ngardn10/projects/cuticulus/cuticulus/mlutils/torch.py#63\"><span style=\"color: #7f7f7f; text-decoration-color: #7f7f7f\">63</span></a>\n",
       "</pre>\n"
      ],
      "text/plain": [
       "\u001b[2;36m          \u001b[0m\u001b[2;36m \u001b[0mEpoch \u001b[1;36m19\u001b[0m/\u001b[1;36m99\u001b[0m                                                            \u001b]8;id=137233;file:///home/ngardn10/projects/cuticulus/cuticulus/mlutils/torch.py\u001b\\\u001b[2mtorch.py\u001b[0m\u001b]8;;\u001b\\\u001b[2m:\u001b[0m\u001b]8;id=271309;file:///home/ngardn10/projects/cuticulus/cuticulus/mlutils/torch.py#63\u001b\\\u001b[2m63\u001b[0m\u001b]8;;\u001b\\\n"
      ]
     },
     "metadata": {},
     "output_type": "display_data"
    },
    {
     "data": {
      "text/html": [
       "<pre style=\"white-space:pre;overflow-x:auto;line-height:normal;font-family:Menlo,'DejaVu Sans Mono',consolas,'Courier New',monospace\"><span style=\"color: #7fbfbf; text-decoration-color: #7fbfbf\">           </span>----------                                                             <a href=\"file:///home/ngardn10/projects/cuticulus/cuticulus/mlutils/torch.py\"><span style=\"color: #7f7f7f; text-decoration-color: #7f7f7f\">torch.py</span></a><span style=\"color: #7f7f7f; text-decoration-color: #7f7f7f\">:</span><a href=\"file:///home/ngardn10/projects/cuticulus/cuticulus/mlutils/torch.py#64\"><span style=\"color: #7f7f7f; text-decoration-color: #7f7f7f\">64</span></a>\n",
       "</pre>\n"
      ],
      "text/plain": [
       "\u001b[2;36m          \u001b[0m\u001b[2;36m \u001b[0m----------                                                             \u001b]8;id=865802;file:///home/ngardn10/projects/cuticulus/cuticulus/mlutils/torch.py\u001b\\\u001b[2mtorch.py\u001b[0m\u001b]8;;\u001b\\\u001b[2m:\u001b[0m\u001b]8;id=173842;file:///home/ngardn10/projects/cuticulus/cuticulus/mlutils/torch.py#64\u001b\\\u001b[2m64\u001b[0m\u001b]8;;\u001b\\\n"
      ]
     },
     "metadata": {},
     "output_type": "display_data"
    },
    {
     "data": {
      "text/html": [
       "<pre style=\"white-space:pre;overflow-x:auto;line-height:normal;font-family:Menlo,'DejaVu Sans Mono',consolas,'Courier New',monospace\"><span style=\"color: #7fbfbf; text-decoration-color: #7fbfbf\">[14:40:37] </span>train Loss: <span style=\"color: #008080; text-decoration-color: #008080; font-weight: bold\">0.0601</span> Acc: <span style=\"color: #008080; text-decoration-color: #008080; font-weight: bold\">0.9775</span>                                        <a href=\"file:///home/ngardn10/projects/cuticulus/cuticulus/mlutils/torch.py\"><span style=\"color: #7f7f7f; text-decoration-color: #7f7f7f\">torch.py</span></a><span style=\"color: #7f7f7f; text-decoration-color: #7f7f7f\">:</span><a href=\"file:///home/ngardn10/projects/cuticulus/cuticulus/mlutils/torch.py#109\"><span style=\"color: #7f7f7f; text-decoration-color: #7f7f7f\">109</span></a>\n",
       "</pre>\n"
      ],
      "text/plain": [
       "\u001b[2;36m[14:40:37]\u001b[0m\u001b[2;36m \u001b[0mtrain Loss: \u001b[1;36m0.0601\u001b[0m Acc: \u001b[1;36m0.9775\u001b[0m                                        \u001b]8;id=516178;file:///home/ngardn10/projects/cuticulus/cuticulus/mlutils/torch.py\u001b\\\u001b[2mtorch.py\u001b[0m\u001b]8;;\u001b\\\u001b[2m:\u001b[0m\u001b]8;id=499173;file:///home/ngardn10/projects/cuticulus/cuticulus/mlutils/torch.py#109\u001b\\\u001b[2m109\u001b[0m\u001b]8;;\u001b\\\n"
      ]
     },
     "metadata": {},
     "output_type": "display_data"
    },
    {
     "data": {
      "text/html": [
       "<pre style=\"white-space:pre;overflow-x:auto;line-height:normal;font-family:Menlo,'DejaVu Sans Mono',consolas,'Courier New',monospace\"><span style=\"color: #7fbfbf; text-decoration-color: #7fbfbf\">[14:40:38] </span>val Loss: <span style=\"color: #008080; text-decoration-color: #008080; font-weight: bold\">0.7660</span> Acc: <span style=\"color: #008080; text-decoration-color: #008080; font-weight: bold\">0.7885</span>                                          <a href=\"file:///home/ngardn10/projects/cuticulus/cuticulus/mlutils/torch.py\"><span style=\"color: #7f7f7f; text-decoration-color: #7f7f7f\">torch.py</span></a><span style=\"color: #7f7f7f; text-decoration-color: #7f7f7f\">:</span><a href=\"file:///home/ngardn10/projects/cuticulus/cuticulus/mlutils/torch.py#109\"><span style=\"color: #7f7f7f; text-decoration-color: #7f7f7f\">109</span></a>\n",
       "</pre>\n"
      ],
      "text/plain": [
       "\u001b[2;36m[14:40:38]\u001b[0m\u001b[2;36m \u001b[0mval Loss: \u001b[1;36m0.7660\u001b[0m Acc: \u001b[1;36m0.7885\u001b[0m                                          \u001b]8;id=566998;file:///home/ngardn10/projects/cuticulus/cuticulus/mlutils/torch.py\u001b\\\u001b[2mtorch.py\u001b[0m\u001b]8;;\u001b\\\u001b[2m:\u001b[0m\u001b]8;id=28476;file:///home/ngardn10/projects/cuticulus/cuticulus/mlutils/torch.py#109\u001b\\\u001b[2m109\u001b[0m\u001b]8;;\u001b\\\n"
      ]
     },
     "metadata": {},
     "output_type": "display_data"
    },
    {
     "data": {
      "text/html": [
       "<pre style=\"white-space:pre;overflow-x:auto;line-height:normal;font-family:Menlo,'DejaVu Sans Mono',consolas,'Courier New',monospace\"><span style=\"color: #7fbfbf; text-decoration-color: #7fbfbf\">           </span>Epoch <span style=\"color: #008080; text-decoration-color: #008080; font-weight: bold\">20</span>/<span style=\"color: #008080; text-decoration-color: #008080; font-weight: bold\">99</span>                                                            <a href=\"file:///home/ngardn10/projects/cuticulus/cuticulus/mlutils/torch.py\"><span style=\"color: #7f7f7f; text-decoration-color: #7f7f7f\">torch.py</span></a><span style=\"color: #7f7f7f; text-decoration-color: #7f7f7f\">:</span><a href=\"file:///home/ngardn10/projects/cuticulus/cuticulus/mlutils/torch.py#63\"><span style=\"color: #7f7f7f; text-decoration-color: #7f7f7f\">63</span></a>\n",
       "</pre>\n"
      ],
      "text/plain": [
       "\u001b[2;36m          \u001b[0m\u001b[2;36m \u001b[0mEpoch \u001b[1;36m20\u001b[0m/\u001b[1;36m99\u001b[0m                                                            \u001b]8;id=91274;file:///home/ngardn10/projects/cuticulus/cuticulus/mlutils/torch.py\u001b\\\u001b[2mtorch.py\u001b[0m\u001b]8;;\u001b\\\u001b[2m:\u001b[0m\u001b]8;id=43464;file:///home/ngardn10/projects/cuticulus/cuticulus/mlutils/torch.py#63\u001b\\\u001b[2m63\u001b[0m\u001b]8;;\u001b\\\n"
      ]
     },
     "metadata": {},
     "output_type": "display_data"
    },
    {
     "data": {
      "text/html": [
       "<pre style=\"white-space:pre;overflow-x:auto;line-height:normal;font-family:Menlo,'DejaVu Sans Mono',consolas,'Courier New',monospace\"><span style=\"color: #7fbfbf; text-decoration-color: #7fbfbf\">           </span>----------                                                             <a href=\"file:///home/ngardn10/projects/cuticulus/cuticulus/mlutils/torch.py\"><span style=\"color: #7f7f7f; text-decoration-color: #7f7f7f\">torch.py</span></a><span style=\"color: #7f7f7f; text-decoration-color: #7f7f7f\">:</span><a href=\"file:///home/ngardn10/projects/cuticulus/cuticulus/mlutils/torch.py#64\"><span style=\"color: #7f7f7f; text-decoration-color: #7f7f7f\">64</span></a>\n",
       "</pre>\n"
      ],
      "text/plain": [
       "\u001b[2;36m          \u001b[0m\u001b[2;36m \u001b[0m----------                                                             \u001b]8;id=11028;file:///home/ngardn10/projects/cuticulus/cuticulus/mlutils/torch.py\u001b\\\u001b[2mtorch.py\u001b[0m\u001b]8;;\u001b\\\u001b[2m:\u001b[0m\u001b]8;id=252321;file:///home/ngardn10/projects/cuticulus/cuticulus/mlutils/torch.py#64\u001b\\\u001b[2m64\u001b[0m\u001b]8;;\u001b\\\n"
      ]
     },
     "metadata": {},
     "output_type": "display_data"
    },
    {
     "data": {
      "text/html": [
       "<pre style=\"white-space:pre;overflow-x:auto;line-height:normal;font-family:Menlo,'DejaVu Sans Mono',consolas,'Courier New',monospace\"><span style=\"color: #7fbfbf; text-decoration-color: #7fbfbf\">[14:40:39] </span>train Loss: <span style=\"color: #008080; text-decoration-color: #008080; font-weight: bold\">0.0811</span> Acc: <span style=\"color: #008080; text-decoration-color: #008080; font-weight: bold\">0.9710</span>                                        <a href=\"file:///home/ngardn10/projects/cuticulus/cuticulus/mlutils/torch.py\"><span style=\"color: #7f7f7f; text-decoration-color: #7f7f7f\">torch.py</span></a><span style=\"color: #7f7f7f; text-decoration-color: #7f7f7f\">:</span><a href=\"file:///home/ngardn10/projects/cuticulus/cuticulus/mlutils/torch.py#109\"><span style=\"color: #7f7f7f; text-decoration-color: #7f7f7f\">109</span></a>\n",
       "</pre>\n"
      ],
      "text/plain": [
       "\u001b[2;36m[14:40:39]\u001b[0m\u001b[2;36m \u001b[0mtrain Loss: \u001b[1;36m0.0811\u001b[0m Acc: \u001b[1;36m0.9710\u001b[0m                                        \u001b]8;id=320335;file:///home/ngardn10/projects/cuticulus/cuticulus/mlutils/torch.py\u001b\\\u001b[2mtorch.py\u001b[0m\u001b]8;;\u001b\\\u001b[2m:\u001b[0m\u001b]8;id=165730;file:///home/ngardn10/projects/cuticulus/cuticulus/mlutils/torch.py#109\u001b\\\u001b[2m109\u001b[0m\u001b]8;;\u001b\\\n"
      ]
     },
     "metadata": {},
     "output_type": "display_data"
    },
    {
     "data": {
      "text/html": [
       "<pre style=\"white-space:pre;overflow-x:auto;line-height:normal;font-family:Menlo,'DejaVu Sans Mono',consolas,'Courier New',monospace\"><span style=\"color: #7fbfbf; text-decoration-color: #7fbfbf\">[14:40:40] </span>val Loss: <span style=\"color: #008080; text-decoration-color: #008080; font-weight: bold\">0.8227</span> Acc: <span style=\"color: #008080; text-decoration-color: #008080; font-weight: bold\">0.7885</span>                                          <a href=\"file:///home/ngardn10/projects/cuticulus/cuticulus/mlutils/torch.py\"><span style=\"color: #7f7f7f; text-decoration-color: #7f7f7f\">torch.py</span></a><span style=\"color: #7f7f7f; text-decoration-color: #7f7f7f\">:</span><a href=\"file:///home/ngardn10/projects/cuticulus/cuticulus/mlutils/torch.py#109\"><span style=\"color: #7f7f7f; text-decoration-color: #7f7f7f\">109</span></a>\n",
       "</pre>\n"
      ],
      "text/plain": [
       "\u001b[2;36m[14:40:40]\u001b[0m\u001b[2;36m \u001b[0mval Loss: \u001b[1;36m0.8227\u001b[0m Acc: \u001b[1;36m0.7885\u001b[0m                                          \u001b]8;id=405350;file:///home/ngardn10/projects/cuticulus/cuticulus/mlutils/torch.py\u001b\\\u001b[2mtorch.py\u001b[0m\u001b]8;;\u001b\\\u001b[2m:\u001b[0m\u001b]8;id=944766;file:///home/ngardn10/projects/cuticulus/cuticulus/mlutils/torch.py#109\u001b\\\u001b[2m109\u001b[0m\u001b]8;;\u001b\\\n"
      ]
     },
     "metadata": {},
     "output_type": "display_data"
    },
    {
     "data": {
      "text/html": [
       "<pre style=\"white-space:pre;overflow-x:auto;line-height:normal;font-family:Menlo,'DejaVu Sans Mono',consolas,'Courier New',monospace\"><span style=\"color: #7fbfbf; text-decoration-color: #7fbfbf\">           </span>Epoch <span style=\"color: #008080; text-decoration-color: #008080; font-weight: bold\">21</span>/<span style=\"color: #008080; text-decoration-color: #008080; font-weight: bold\">99</span>                                                            <a href=\"file:///home/ngardn10/projects/cuticulus/cuticulus/mlutils/torch.py\"><span style=\"color: #7f7f7f; text-decoration-color: #7f7f7f\">torch.py</span></a><span style=\"color: #7f7f7f; text-decoration-color: #7f7f7f\">:</span><a href=\"file:///home/ngardn10/projects/cuticulus/cuticulus/mlutils/torch.py#63\"><span style=\"color: #7f7f7f; text-decoration-color: #7f7f7f\">63</span></a>\n",
       "</pre>\n"
      ],
      "text/plain": [
       "\u001b[2;36m          \u001b[0m\u001b[2;36m \u001b[0mEpoch \u001b[1;36m21\u001b[0m/\u001b[1;36m99\u001b[0m                                                            \u001b]8;id=138209;file:///home/ngardn10/projects/cuticulus/cuticulus/mlutils/torch.py\u001b\\\u001b[2mtorch.py\u001b[0m\u001b]8;;\u001b\\\u001b[2m:\u001b[0m\u001b]8;id=543749;file:///home/ngardn10/projects/cuticulus/cuticulus/mlutils/torch.py#63\u001b\\\u001b[2m63\u001b[0m\u001b]8;;\u001b\\\n"
      ]
     },
     "metadata": {},
     "output_type": "display_data"
    },
    {
     "data": {
      "text/html": [
       "<pre style=\"white-space:pre;overflow-x:auto;line-height:normal;font-family:Menlo,'DejaVu Sans Mono',consolas,'Courier New',monospace\"><span style=\"color: #7fbfbf; text-decoration-color: #7fbfbf\">           </span>----------                                                             <a href=\"file:///home/ngardn10/projects/cuticulus/cuticulus/mlutils/torch.py\"><span style=\"color: #7f7f7f; text-decoration-color: #7f7f7f\">torch.py</span></a><span style=\"color: #7f7f7f; text-decoration-color: #7f7f7f\">:</span><a href=\"file:///home/ngardn10/projects/cuticulus/cuticulus/mlutils/torch.py#64\"><span style=\"color: #7f7f7f; text-decoration-color: #7f7f7f\">64</span></a>\n",
       "</pre>\n"
      ],
      "text/plain": [
       "\u001b[2;36m          \u001b[0m\u001b[2;36m \u001b[0m----------                                                             \u001b]8;id=961659;file:///home/ngardn10/projects/cuticulus/cuticulus/mlutils/torch.py\u001b\\\u001b[2mtorch.py\u001b[0m\u001b]8;;\u001b\\\u001b[2m:\u001b[0m\u001b]8;id=803342;file:///home/ngardn10/projects/cuticulus/cuticulus/mlutils/torch.py#64\u001b\\\u001b[2m64\u001b[0m\u001b]8;;\u001b\\\n"
      ]
     },
     "metadata": {},
     "output_type": "display_data"
    },
    {
     "data": {
      "text/html": [
       "<pre style=\"white-space:pre;overflow-x:auto;line-height:normal;font-family:Menlo,'DejaVu Sans Mono',consolas,'Courier New',monospace\"><span style=\"color: #7fbfbf; text-decoration-color: #7fbfbf\">[14:40:41] </span>train Loss: <span style=\"color: #008080; text-decoration-color: #008080; font-weight: bold\">0.0634</span> Acc: <span style=\"color: #008080; text-decoration-color: #008080; font-weight: bold\">0.9800</span>                                        <a href=\"file:///home/ngardn10/projects/cuticulus/cuticulus/mlutils/torch.py\"><span style=\"color: #7f7f7f; text-decoration-color: #7f7f7f\">torch.py</span></a><span style=\"color: #7f7f7f; text-decoration-color: #7f7f7f\">:</span><a href=\"file:///home/ngardn10/projects/cuticulus/cuticulus/mlutils/torch.py#109\"><span style=\"color: #7f7f7f; text-decoration-color: #7f7f7f\">109</span></a>\n",
       "</pre>\n"
      ],
      "text/plain": [
       "\u001b[2;36m[14:40:41]\u001b[0m\u001b[2;36m \u001b[0mtrain Loss: \u001b[1;36m0.0634\u001b[0m Acc: \u001b[1;36m0.9800\u001b[0m                                        \u001b]8;id=351419;file:///home/ngardn10/projects/cuticulus/cuticulus/mlutils/torch.py\u001b\\\u001b[2mtorch.py\u001b[0m\u001b]8;;\u001b\\\u001b[2m:\u001b[0m\u001b]8;id=933564;file:///home/ngardn10/projects/cuticulus/cuticulus/mlutils/torch.py#109\u001b\\\u001b[2m109\u001b[0m\u001b]8;;\u001b\\\n"
      ]
     },
     "metadata": {},
     "output_type": "display_data"
    },
    {
     "data": {
      "text/html": [
       "<pre style=\"white-space:pre;overflow-x:auto;line-height:normal;font-family:Menlo,'DejaVu Sans Mono',consolas,'Courier New',monospace\"><span style=\"color: #7fbfbf; text-decoration-color: #7fbfbf\">           </span>val Loss: <span style=\"color: #008080; text-decoration-color: #008080; font-weight: bold\">0.8574</span> Acc: <span style=\"color: #008080; text-decoration-color: #008080; font-weight: bold\">0.7898</span>                                          <a href=\"file:///home/ngardn10/projects/cuticulus/cuticulus/mlutils/torch.py\"><span style=\"color: #7f7f7f; text-decoration-color: #7f7f7f\">torch.py</span></a><span style=\"color: #7f7f7f; text-decoration-color: #7f7f7f\">:</span><a href=\"file:///home/ngardn10/projects/cuticulus/cuticulus/mlutils/torch.py#109\"><span style=\"color: #7f7f7f; text-decoration-color: #7f7f7f\">109</span></a>\n",
       "</pre>\n"
      ],
      "text/plain": [
       "\u001b[2;36m          \u001b[0m\u001b[2;36m \u001b[0mval Loss: \u001b[1;36m0.8574\u001b[0m Acc: \u001b[1;36m0.7898\u001b[0m                                          \u001b]8;id=611632;file:///home/ngardn10/projects/cuticulus/cuticulus/mlutils/torch.py\u001b\\\u001b[2mtorch.py\u001b[0m\u001b]8;;\u001b\\\u001b[2m:\u001b[0m\u001b]8;id=383202;file:///home/ngardn10/projects/cuticulus/cuticulus/mlutils/torch.py#109\u001b\\\u001b[2m109\u001b[0m\u001b]8;;\u001b\\\n"
      ]
     },
     "metadata": {},
     "output_type": "display_data"
    },
    {
     "data": {
      "text/html": [
       "<pre style=\"white-space:pre;overflow-x:auto;line-height:normal;font-family:Menlo,'DejaVu Sans Mono',consolas,'Courier New',monospace\"><span style=\"color: #7fbfbf; text-decoration-color: #7fbfbf\">           </span>Epoch <span style=\"color: #008080; text-decoration-color: #008080; font-weight: bold\">22</span>/<span style=\"color: #008080; text-decoration-color: #008080; font-weight: bold\">99</span>                                                            <a href=\"file:///home/ngardn10/projects/cuticulus/cuticulus/mlutils/torch.py\"><span style=\"color: #7f7f7f; text-decoration-color: #7f7f7f\">torch.py</span></a><span style=\"color: #7f7f7f; text-decoration-color: #7f7f7f\">:</span><a href=\"file:///home/ngardn10/projects/cuticulus/cuticulus/mlutils/torch.py#63\"><span style=\"color: #7f7f7f; text-decoration-color: #7f7f7f\">63</span></a>\n",
       "</pre>\n"
      ],
      "text/plain": [
       "\u001b[2;36m          \u001b[0m\u001b[2;36m \u001b[0mEpoch \u001b[1;36m22\u001b[0m/\u001b[1;36m99\u001b[0m                                                            \u001b]8;id=116243;file:///home/ngardn10/projects/cuticulus/cuticulus/mlutils/torch.py\u001b\\\u001b[2mtorch.py\u001b[0m\u001b]8;;\u001b\\\u001b[2m:\u001b[0m\u001b]8;id=920784;file:///home/ngardn10/projects/cuticulus/cuticulus/mlutils/torch.py#63\u001b\\\u001b[2m63\u001b[0m\u001b]8;;\u001b\\\n"
      ]
     },
     "metadata": {},
     "output_type": "display_data"
    },
    {
     "data": {
      "text/html": [
       "<pre style=\"white-space:pre;overflow-x:auto;line-height:normal;font-family:Menlo,'DejaVu Sans Mono',consolas,'Courier New',monospace\"><span style=\"color: #7fbfbf; text-decoration-color: #7fbfbf\">           </span>----------                                                             <a href=\"file:///home/ngardn10/projects/cuticulus/cuticulus/mlutils/torch.py\"><span style=\"color: #7f7f7f; text-decoration-color: #7f7f7f\">torch.py</span></a><span style=\"color: #7f7f7f; text-decoration-color: #7f7f7f\">:</span><a href=\"file:///home/ngardn10/projects/cuticulus/cuticulus/mlutils/torch.py#64\"><span style=\"color: #7f7f7f; text-decoration-color: #7f7f7f\">64</span></a>\n",
       "</pre>\n"
      ],
      "text/plain": [
       "\u001b[2;36m          \u001b[0m\u001b[2;36m \u001b[0m----------                                                             \u001b]8;id=351848;file:///home/ngardn10/projects/cuticulus/cuticulus/mlutils/torch.py\u001b\\\u001b[2mtorch.py\u001b[0m\u001b]8;;\u001b\\\u001b[2m:\u001b[0m\u001b]8;id=369916;file:///home/ngardn10/projects/cuticulus/cuticulus/mlutils/torch.py#64\u001b\\\u001b[2m64\u001b[0m\u001b]8;;\u001b\\\n"
      ]
     },
     "metadata": {},
     "output_type": "display_data"
    },
    {
     "data": {
      "text/html": [
       "<pre style=\"white-space:pre;overflow-x:auto;line-height:normal;font-family:Menlo,'DejaVu Sans Mono',consolas,'Courier New',monospace\"><span style=\"color: #7fbfbf; text-decoration-color: #7fbfbf\">[14:40:43] </span>train Loss: <span style=\"color: #008080; text-decoration-color: #008080; font-weight: bold\">0.0499</span> Acc: <span style=\"color: #008080; text-decoration-color: #008080; font-weight: bold\">0.9850</span>                                        <a href=\"file:///home/ngardn10/projects/cuticulus/cuticulus/mlutils/torch.py\"><span style=\"color: #7f7f7f; text-decoration-color: #7f7f7f\">torch.py</span></a><span style=\"color: #7f7f7f; text-decoration-color: #7f7f7f\">:</span><a href=\"file:///home/ngardn10/projects/cuticulus/cuticulus/mlutils/torch.py#109\"><span style=\"color: #7f7f7f; text-decoration-color: #7f7f7f\">109</span></a>\n",
       "</pre>\n"
      ],
      "text/plain": [
       "\u001b[2;36m[14:40:43]\u001b[0m\u001b[2;36m \u001b[0mtrain Loss: \u001b[1;36m0.0499\u001b[0m Acc: \u001b[1;36m0.9850\u001b[0m                                        \u001b]8;id=831825;file:///home/ngardn10/projects/cuticulus/cuticulus/mlutils/torch.py\u001b\\\u001b[2mtorch.py\u001b[0m\u001b]8;;\u001b\\\u001b[2m:\u001b[0m\u001b]8;id=512384;file:///home/ngardn10/projects/cuticulus/cuticulus/mlutils/torch.py#109\u001b\\\u001b[2m109\u001b[0m\u001b]8;;\u001b\\\n"
      ]
     },
     "metadata": {},
     "output_type": "display_data"
    },
    {
     "data": {
      "text/html": [
       "<pre style=\"white-space:pre;overflow-x:auto;line-height:normal;font-family:Menlo,'DejaVu Sans Mono',consolas,'Courier New',monospace\"><span style=\"color: #7fbfbf; text-decoration-color: #7fbfbf\">           </span>val Loss: <span style=\"color: #008080; text-decoration-color: #008080; font-weight: bold\">0.8607</span> Acc: <span style=\"color: #008080; text-decoration-color: #008080; font-weight: bold\">0.7728</span>                                          <a href=\"file:///home/ngardn10/projects/cuticulus/cuticulus/mlutils/torch.py\"><span style=\"color: #7f7f7f; text-decoration-color: #7f7f7f\">torch.py</span></a><span style=\"color: #7f7f7f; text-decoration-color: #7f7f7f\">:</span><a href=\"file:///home/ngardn10/projects/cuticulus/cuticulus/mlutils/torch.py#109\"><span style=\"color: #7f7f7f; text-decoration-color: #7f7f7f\">109</span></a>\n",
       "</pre>\n"
      ],
      "text/plain": [
       "\u001b[2;36m          \u001b[0m\u001b[2;36m \u001b[0mval Loss: \u001b[1;36m0.8607\u001b[0m Acc: \u001b[1;36m0.7728\u001b[0m                                          \u001b]8;id=975159;file:///home/ngardn10/projects/cuticulus/cuticulus/mlutils/torch.py\u001b\\\u001b[2mtorch.py\u001b[0m\u001b]8;;\u001b\\\u001b[2m:\u001b[0m\u001b]8;id=477031;file:///home/ngardn10/projects/cuticulus/cuticulus/mlutils/torch.py#109\u001b\\\u001b[2m109\u001b[0m\u001b]8;;\u001b\\\n"
      ]
     },
     "metadata": {},
     "output_type": "display_data"
    },
    {
     "data": {
      "text/html": [
       "<pre style=\"white-space:pre;overflow-x:auto;line-height:normal;font-family:Menlo,'DejaVu Sans Mono',consolas,'Courier New',monospace\"><span style=\"color: #7fbfbf; text-decoration-color: #7fbfbf\">           </span>Epoch <span style=\"color: #008080; text-decoration-color: #008080; font-weight: bold\">23</span>/<span style=\"color: #008080; text-decoration-color: #008080; font-weight: bold\">99</span>                                                            <a href=\"file:///home/ngardn10/projects/cuticulus/cuticulus/mlutils/torch.py\"><span style=\"color: #7f7f7f; text-decoration-color: #7f7f7f\">torch.py</span></a><span style=\"color: #7f7f7f; text-decoration-color: #7f7f7f\">:</span><a href=\"file:///home/ngardn10/projects/cuticulus/cuticulus/mlutils/torch.py#63\"><span style=\"color: #7f7f7f; text-decoration-color: #7f7f7f\">63</span></a>\n",
       "</pre>\n"
      ],
      "text/plain": [
       "\u001b[2;36m          \u001b[0m\u001b[2;36m \u001b[0mEpoch \u001b[1;36m23\u001b[0m/\u001b[1;36m99\u001b[0m                                                            \u001b]8;id=639329;file:///home/ngardn10/projects/cuticulus/cuticulus/mlutils/torch.py\u001b\\\u001b[2mtorch.py\u001b[0m\u001b]8;;\u001b\\\u001b[2m:\u001b[0m\u001b]8;id=358901;file:///home/ngardn10/projects/cuticulus/cuticulus/mlutils/torch.py#63\u001b\\\u001b[2m63\u001b[0m\u001b]8;;\u001b\\\n"
      ]
     },
     "metadata": {},
     "output_type": "display_data"
    },
    {
     "data": {
      "text/html": [
       "<pre style=\"white-space:pre;overflow-x:auto;line-height:normal;font-family:Menlo,'DejaVu Sans Mono',consolas,'Courier New',monospace\"><span style=\"color: #7fbfbf; text-decoration-color: #7fbfbf\">           </span>----------                                                             <a href=\"file:///home/ngardn10/projects/cuticulus/cuticulus/mlutils/torch.py\"><span style=\"color: #7f7f7f; text-decoration-color: #7f7f7f\">torch.py</span></a><span style=\"color: #7f7f7f; text-decoration-color: #7f7f7f\">:</span><a href=\"file:///home/ngardn10/projects/cuticulus/cuticulus/mlutils/torch.py#64\"><span style=\"color: #7f7f7f; text-decoration-color: #7f7f7f\">64</span></a>\n",
       "</pre>\n"
      ],
      "text/plain": [
       "\u001b[2;36m          \u001b[0m\u001b[2;36m \u001b[0m----------                                                             \u001b]8;id=90986;file:///home/ngardn10/projects/cuticulus/cuticulus/mlutils/torch.py\u001b\\\u001b[2mtorch.py\u001b[0m\u001b]8;;\u001b\\\u001b[2m:\u001b[0m\u001b]8;id=268294;file:///home/ngardn10/projects/cuticulus/cuticulus/mlutils/torch.py#64\u001b\\\u001b[2m64\u001b[0m\u001b]8;;\u001b\\\n"
      ]
     },
     "metadata": {},
     "output_type": "display_data"
    },
    {
     "data": {
      "text/html": [
       "<pre style=\"white-space:pre;overflow-x:auto;line-height:normal;font-family:Menlo,'DejaVu Sans Mono',consolas,'Courier New',monospace\"><span style=\"color: #7fbfbf; text-decoration-color: #7fbfbf\">[14:40:45] </span>train Loss: <span style=\"color: #008080; text-decoration-color: #008080; font-weight: bold\">0.0436</span> Acc: <span style=\"color: #008080; text-decoration-color: #008080; font-weight: bold\">0.9880</span>                                        <a href=\"file:///home/ngardn10/projects/cuticulus/cuticulus/mlutils/torch.py\"><span style=\"color: #7f7f7f; text-decoration-color: #7f7f7f\">torch.py</span></a><span style=\"color: #7f7f7f; text-decoration-color: #7f7f7f\">:</span><a href=\"file:///home/ngardn10/projects/cuticulus/cuticulus/mlutils/torch.py#109\"><span style=\"color: #7f7f7f; text-decoration-color: #7f7f7f\">109</span></a>\n",
       "</pre>\n"
      ],
      "text/plain": [
       "\u001b[2;36m[14:40:45]\u001b[0m\u001b[2;36m \u001b[0mtrain Loss: \u001b[1;36m0.0436\u001b[0m Acc: \u001b[1;36m0.9880\u001b[0m                                        \u001b]8;id=113432;file:///home/ngardn10/projects/cuticulus/cuticulus/mlutils/torch.py\u001b\\\u001b[2mtorch.py\u001b[0m\u001b]8;;\u001b\\\u001b[2m:\u001b[0m\u001b]8;id=123306;file:///home/ngardn10/projects/cuticulus/cuticulus/mlutils/torch.py#109\u001b\\\u001b[2m109\u001b[0m\u001b]8;;\u001b\\\n"
      ]
     },
     "metadata": {},
     "output_type": "display_data"
    },
    {
     "data": {
      "text/html": [
       "<pre style=\"white-space:pre;overflow-x:auto;line-height:normal;font-family:Menlo,'DejaVu Sans Mono',consolas,'Courier New',monospace\"><span style=\"color: #7fbfbf; text-decoration-color: #7fbfbf\">           </span>val Loss: <span style=\"color: #008080; text-decoration-color: #008080; font-weight: bold\">0.9343</span> Acc: <span style=\"color: #008080; text-decoration-color: #008080; font-weight: bold\">0.7768</span>                                          <a href=\"file:///home/ngardn10/projects/cuticulus/cuticulus/mlutils/torch.py\"><span style=\"color: #7f7f7f; text-decoration-color: #7f7f7f\">torch.py</span></a><span style=\"color: #7f7f7f; text-decoration-color: #7f7f7f\">:</span><a href=\"file:///home/ngardn10/projects/cuticulus/cuticulus/mlutils/torch.py#109\"><span style=\"color: #7f7f7f; text-decoration-color: #7f7f7f\">109</span></a>\n",
       "</pre>\n"
      ],
      "text/plain": [
       "\u001b[2;36m          \u001b[0m\u001b[2;36m \u001b[0mval Loss: \u001b[1;36m0.9343\u001b[0m Acc: \u001b[1;36m0.7768\u001b[0m                                          \u001b]8;id=811184;file:///home/ngardn10/projects/cuticulus/cuticulus/mlutils/torch.py\u001b\\\u001b[2mtorch.py\u001b[0m\u001b]8;;\u001b\\\u001b[2m:\u001b[0m\u001b]8;id=975122;file:///home/ngardn10/projects/cuticulus/cuticulus/mlutils/torch.py#109\u001b\\\u001b[2m109\u001b[0m\u001b]8;;\u001b\\\n"
      ]
     },
     "metadata": {},
     "output_type": "display_data"
    },
    {
     "data": {
      "text/html": [
       "<pre style=\"white-space:pre;overflow-x:auto;line-height:normal;font-family:Menlo,'DejaVu Sans Mono',consolas,'Courier New',monospace\"><span style=\"color: #7fbfbf; text-decoration-color: #7fbfbf\">           </span>Epoch <span style=\"color: #008080; text-decoration-color: #008080; font-weight: bold\">24</span>/<span style=\"color: #008080; text-decoration-color: #008080; font-weight: bold\">99</span>                                                            <a href=\"file:///home/ngardn10/projects/cuticulus/cuticulus/mlutils/torch.py\"><span style=\"color: #7f7f7f; text-decoration-color: #7f7f7f\">torch.py</span></a><span style=\"color: #7f7f7f; text-decoration-color: #7f7f7f\">:</span><a href=\"file:///home/ngardn10/projects/cuticulus/cuticulus/mlutils/torch.py#63\"><span style=\"color: #7f7f7f; text-decoration-color: #7f7f7f\">63</span></a>\n",
       "</pre>\n"
      ],
      "text/plain": [
       "\u001b[2;36m          \u001b[0m\u001b[2;36m \u001b[0mEpoch \u001b[1;36m24\u001b[0m/\u001b[1;36m99\u001b[0m                                                            \u001b]8;id=912802;file:///home/ngardn10/projects/cuticulus/cuticulus/mlutils/torch.py\u001b\\\u001b[2mtorch.py\u001b[0m\u001b]8;;\u001b\\\u001b[2m:\u001b[0m\u001b]8;id=495908;file:///home/ngardn10/projects/cuticulus/cuticulus/mlutils/torch.py#63\u001b\\\u001b[2m63\u001b[0m\u001b]8;;\u001b\\\n"
      ]
     },
     "metadata": {},
     "output_type": "display_data"
    },
    {
     "data": {
      "text/html": [
       "<pre style=\"white-space:pre;overflow-x:auto;line-height:normal;font-family:Menlo,'DejaVu Sans Mono',consolas,'Courier New',monospace\"><span style=\"color: #7fbfbf; text-decoration-color: #7fbfbf\">           </span>----------                                                             <a href=\"file:///home/ngardn10/projects/cuticulus/cuticulus/mlutils/torch.py\"><span style=\"color: #7f7f7f; text-decoration-color: #7f7f7f\">torch.py</span></a><span style=\"color: #7f7f7f; text-decoration-color: #7f7f7f\">:</span><a href=\"file:///home/ngardn10/projects/cuticulus/cuticulus/mlutils/torch.py#64\"><span style=\"color: #7f7f7f; text-decoration-color: #7f7f7f\">64</span></a>\n",
       "</pre>\n"
      ],
      "text/plain": [
       "\u001b[2;36m          \u001b[0m\u001b[2;36m \u001b[0m----------                                                             \u001b]8;id=121495;file:///home/ngardn10/projects/cuticulus/cuticulus/mlutils/torch.py\u001b\\\u001b[2mtorch.py\u001b[0m\u001b]8;;\u001b\\\u001b[2m:\u001b[0m\u001b]8;id=958962;file:///home/ngardn10/projects/cuticulus/cuticulus/mlutils/torch.py#64\u001b\\\u001b[2m64\u001b[0m\u001b]8;;\u001b\\\n"
      ]
     },
     "metadata": {},
     "output_type": "display_data"
    },
    {
     "data": {
      "text/html": [
       "<pre style=\"white-space:pre;overflow-x:auto;line-height:normal;font-family:Menlo,'DejaVu Sans Mono',consolas,'Courier New',monospace\"><span style=\"color: #7fbfbf; text-decoration-color: #7fbfbf\">[14:40:47] </span>train Loss: <span style=\"color: #008080; text-decoration-color: #008080; font-weight: bold\">0.0530</span> Acc: <span style=\"color: #008080; text-decoration-color: #008080; font-weight: bold\">0.9835</span>                                        <a href=\"file:///home/ngardn10/projects/cuticulus/cuticulus/mlutils/torch.py\"><span style=\"color: #7f7f7f; text-decoration-color: #7f7f7f\">torch.py</span></a><span style=\"color: #7f7f7f; text-decoration-color: #7f7f7f\">:</span><a href=\"file:///home/ngardn10/projects/cuticulus/cuticulus/mlutils/torch.py#109\"><span style=\"color: #7f7f7f; text-decoration-color: #7f7f7f\">109</span></a>\n",
       "</pre>\n"
      ],
      "text/plain": [
       "\u001b[2;36m[14:40:47]\u001b[0m\u001b[2;36m \u001b[0mtrain Loss: \u001b[1;36m0.0530\u001b[0m Acc: \u001b[1;36m0.9835\u001b[0m                                        \u001b]8;id=112704;file:///home/ngardn10/projects/cuticulus/cuticulus/mlutils/torch.py\u001b\\\u001b[2mtorch.py\u001b[0m\u001b]8;;\u001b\\\u001b[2m:\u001b[0m\u001b]8;id=176422;file:///home/ngardn10/projects/cuticulus/cuticulus/mlutils/torch.py#109\u001b\\\u001b[2m109\u001b[0m\u001b]8;;\u001b\\\n"
      ]
     },
     "metadata": {},
     "output_type": "display_data"
    },
    {
     "data": {
      "text/html": [
       "<pre style=\"white-space:pre;overflow-x:auto;line-height:normal;font-family:Menlo,'DejaVu Sans Mono',consolas,'Courier New',monospace\"><span style=\"color: #7fbfbf; text-decoration-color: #7fbfbf\">           </span>val Loss: <span style=\"color: #008080; text-decoration-color: #008080; font-weight: bold\">0.8319</span> Acc: <span style=\"color: #008080; text-decoration-color: #008080; font-weight: bold\">0.8029</span>                                          <a href=\"file:///home/ngardn10/projects/cuticulus/cuticulus/mlutils/torch.py\"><span style=\"color: #7f7f7f; text-decoration-color: #7f7f7f\">torch.py</span></a><span style=\"color: #7f7f7f; text-decoration-color: #7f7f7f\">:</span><a href=\"file:///home/ngardn10/projects/cuticulus/cuticulus/mlutils/torch.py#109\"><span style=\"color: #7f7f7f; text-decoration-color: #7f7f7f\">109</span></a>\n",
       "</pre>\n"
      ],
      "text/plain": [
       "\u001b[2;36m          \u001b[0m\u001b[2;36m \u001b[0mval Loss: \u001b[1;36m0.8319\u001b[0m Acc: \u001b[1;36m0.8029\u001b[0m                                          \u001b]8;id=249842;file:///home/ngardn10/projects/cuticulus/cuticulus/mlutils/torch.py\u001b\\\u001b[2mtorch.py\u001b[0m\u001b]8;;\u001b\\\u001b[2m:\u001b[0m\u001b]8;id=941891;file:///home/ngardn10/projects/cuticulus/cuticulus/mlutils/torch.py#109\u001b\\\u001b[2m109\u001b[0m\u001b]8;;\u001b\\\n"
      ]
     },
     "metadata": {},
     "output_type": "display_data"
    },
    {
     "data": {
      "text/html": [
       "<pre style=\"white-space:pre;overflow-x:auto;line-height:normal;font-family:Menlo,'DejaVu Sans Mono',consolas,'Courier New',monospace\"><span style=\"color: #7fbfbf; text-decoration-color: #7fbfbf\">           </span>Epoch <span style=\"color: #008080; text-decoration-color: #008080; font-weight: bold\">25</span>/<span style=\"color: #008080; text-decoration-color: #008080; font-weight: bold\">99</span>                                                            <a href=\"file:///home/ngardn10/projects/cuticulus/cuticulus/mlutils/torch.py\"><span style=\"color: #7f7f7f; text-decoration-color: #7f7f7f\">torch.py</span></a><span style=\"color: #7f7f7f; text-decoration-color: #7f7f7f\">:</span><a href=\"file:///home/ngardn10/projects/cuticulus/cuticulus/mlutils/torch.py#63\"><span style=\"color: #7f7f7f; text-decoration-color: #7f7f7f\">63</span></a>\n",
       "</pre>\n"
      ],
      "text/plain": [
       "\u001b[2;36m          \u001b[0m\u001b[2;36m \u001b[0mEpoch \u001b[1;36m25\u001b[0m/\u001b[1;36m99\u001b[0m                                                            \u001b]8;id=329310;file:///home/ngardn10/projects/cuticulus/cuticulus/mlutils/torch.py\u001b\\\u001b[2mtorch.py\u001b[0m\u001b]8;;\u001b\\\u001b[2m:\u001b[0m\u001b]8;id=830201;file:///home/ngardn10/projects/cuticulus/cuticulus/mlutils/torch.py#63\u001b\\\u001b[2m63\u001b[0m\u001b]8;;\u001b\\\n"
      ]
     },
     "metadata": {},
     "output_type": "display_data"
    },
    {
     "data": {
      "text/html": [
       "<pre style=\"white-space:pre;overflow-x:auto;line-height:normal;font-family:Menlo,'DejaVu Sans Mono',consolas,'Courier New',monospace\"><span style=\"color: #7fbfbf; text-decoration-color: #7fbfbf\">           </span>----------                                                             <a href=\"file:///home/ngardn10/projects/cuticulus/cuticulus/mlutils/torch.py\"><span style=\"color: #7f7f7f; text-decoration-color: #7f7f7f\">torch.py</span></a><span style=\"color: #7f7f7f; text-decoration-color: #7f7f7f\">:</span><a href=\"file:///home/ngardn10/projects/cuticulus/cuticulus/mlutils/torch.py#64\"><span style=\"color: #7f7f7f; text-decoration-color: #7f7f7f\">64</span></a>\n",
       "</pre>\n"
      ],
      "text/plain": [
       "\u001b[2;36m          \u001b[0m\u001b[2;36m \u001b[0m----------                                                             \u001b]8;id=781493;file:///home/ngardn10/projects/cuticulus/cuticulus/mlutils/torch.py\u001b\\\u001b[2mtorch.py\u001b[0m\u001b]8;;\u001b\\\u001b[2m:\u001b[0m\u001b]8;id=32591;file:///home/ngardn10/projects/cuticulus/cuticulus/mlutils/torch.py#64\u001b\\\u001b[2m64\u001b[0m\u001b]8;;\u001b\\\n"
      ]
     },
     "metadata": {},
     "output_type": "display_data"
    },
    {
     "data": {
      "text/html": [
       "<pre style=\"white-space:pre;overflow-x:auto;line-height:normal;font-family:Menlo,'DejaVu Sans Mono',consolas,'Courier New',monospace\"><span style=\"color: #7fbfbf; text-decoration-color: #7fbfbf\">[14:40:49] </span>train Loss: <span style=\"color: #008080; text-decoration-color: #008080; font-weight: bold\">0.0585</span> Acc: <span style=\"color: #008080; text-decoration-color: #008080; font-weight: bold\">0.9810</span>                                        <a href=\"file:///home/ngardn10/projects/cuticulus/cuticulus/mlutils/torch.py\"><span style=\"color: #7f7f7f; text-decoration-color: #7f7f7f\">torch.py</span></a><span style=\"color: #7f7f7f; text-decoration-color: #7f7f7f\">:</span><a href=\"file:///home/ngardn10/projects/cuticulus/cuticulus/mlutils/torch.py#109\"><span style=\"color: #7f7f7f; text-decoration-color: #7f7f7f\">109</span></a>\n",
       "</pre>\n"
      ],
      "text/plain": [
       "\u001b[2;36m[14:40:49]\u001b[0m\u001b[2;36m \u001b[0mtrain Loss: \u001b[1;36m0.0585\u001b[0m Acc: \u001b[1;36m0.9810\u001b[0m                                        \u001b]8;id=400023;file:///home/ngardn10/projects/cuticulus/cuticulus/mlutils/torch.py\u001b\\\u001b[2mtorch.py\u001b[0m\u001b]8;;\u001b\\\u001b[2m:\u001b[0m\u001b]8;id=635052;file:///home/ngardn10/projects/cuticulus/cuticulus/mlutils/torch.py#109\u001b\\\u001b[2m109\u001b[0m\u001b]8;;\u001b\\\n"
      ]
     },
     "metadata": {},
     "output_type": "display_data"
    },
    {
     "data": {
      "text/html": [
       "<pre style=\"white-space:pre;overflow-x:auto;line-height:normal;font-family:Menlo,'DejaVu Sans Mono',consolas,'Courier New',monospace\"><span style=\"color: #7fbfbf; text-decoration-color: #7fbfbf\">           </span>val Loss: <span style=\"color: #008080; text-decoration-color: #008080; font-weight: bold\">0.8384</span> Acc: <span style=\"color: #008080; text-decoration-color: #008080; font-weight: bold\">0.8055</span>                                          <a href=\"file:///home/ngardn10/projects/cuticulus/cuticulus/mlutils/torch.py\"><span style=\"color: #7f7f7f; text-decoration-color: #7f7f7f\">torch.py</span></a><span style=\"color: #7f7f7f; text-decoration-color: #7f7f7f\">:</span><a href=\"file:///home/ngardn10/projects/cuticulus/cuticulus/mlutils/torch.py#109\"><span style=\"color: #7f7f7f; text-decoration-color: #7f7f7f\">109</span></a>\n",
       "</pre>\n"
      ],
      "text/plain": [
       "\u001b[2;36m          \u001b[0m\u001b[2;36m \u001b[0mval Loss: \u001b[1;36m0.8384\u001b[0m Acc: \u001b[1;36m0.8055\u001b[0m                                          \u001b]8;id=80628;file:///home/ngardn10/projects/cuticulus/cuticulus/mlutils/torch.py\u001b\\\u001b[2mtorch.py\u001b[0m\u001b]8;;\u001b\\\u001b[2m:\u001b[0m\u001b]8;id=951844;file:///home/ngardn10/projects/cuticulus/cuticulus/mlutils/torch.py#109\u001b\\\u001b[2m109\u001b[0m\u001b]8;;\u001b\\\n"
      ]
     },
     "metadata": {},
     "output_type": "display_data"
    },
    {
     "data": {
      "text/html": [
       "<pre style=\"white-space:pre;overflow-x:auto;line-height:normal;font-family:Menlo,'DejaVu Sans Mono',consolas,'Courier New',monospace\"><span style=\"color: #7fbfbf; text-decoration-color: #7fbfbf\">           </span>Epoch <span style=\"color: #008080; text-decoration-color: #008080; font-weight: bold\">26</span>/<span style=\"color: #008080; text-decoration-color: #008080; font-weight: bold\">99</span>                                                            <a href=\"file:///home/ngardn10/projects/cuticulus/cuticulus/mlutils/torch.py\"><span style=\"color: #7f7f7f; text-decoration-color: #7f7f7f\">torch.py</span></a><span style=\"color: #7f7f7f; text-decoration-color: #7f7f7f\">:</span><a href=\"file:///home/ngardn10/projects/cuticulus/cuticulus/mlutils/torch.py#63\"><span style=\"color: #7f7f7f; text-decoration-color: #7f7f7f\">63</span></a>\n",
       "</pre>\n"
      ],
      "text/plain": [
       "\u001b[2;36m          \u001b[0m\u001b[2;36m \u001b[0mEpoch \u001b[1;36m26\u001b[0m/\u001b[1;36m99\u001b[0m                                                            \u001b]8;id=471658;file:///home/ngardn10/projects/cuticulus/cuticulus/mlutils/torch.py\u001b\\\u001b[2mtorch.py\u001b[0m\u001b]8;;\u001b\\\u001b[2m:\u001b[0m\u001b]8;id=679928;file:///home/ngardn10/projects/cuticulus/cuticulus/mlutils/torch.py#63\u001b\\\u001b[2m63\u001b[0m\u001b]8;;\u001b\\\n"
      ]
     },
     "metadata": {},
     "output_type": "display_data"
    },
    {
     "data": {
      "text/html": [
       "<pre style=\"white-space:pre;overflow-x:auto;line-height:normal;font-family:Menlo,'DejaVu Sans Mono',consolas,'Courier New',monospace\"><span style=\"color: #7fbfbf; text-decoration-color: #7fbfbf\">           </span>----------                                                             <a href=\"file:///home/ngardn10/projects/cuticulus/cuticulus/mlutils/torch.py\"><span style=\"color: #7f7f7f; text-decoration-color: #7f7f7f\">torch.py</span></a><span style=\"color: #7f7f7f; text-decoration-color: #7f7f7f\">:</span><a href=\"file:///home/ngardn10/projects/cuticulus/cuticulus/mlutils/torch.py#64\"><span style=\"color: #7f7f7f; text-decoration-color: #7f7f7f\">64</span></a>\n",
       "</pre>\n"
      ],
      "text/plain": [
       "\u001b[2;36m          \u001b[0m\u001b[2;36m \u001b[0m----------                                                             \u001b]8;id=591923;file:///home/ngardn10/projects/cuticulus/cuticulus/mlutils/torch.py\u001b\\\u001b[2mtorch.py\u001b[0m\u001b]8;;\u001b\\\u001b[2m:\u001b[0m\u001b]8;id=357922;file:///home/ngardn10/projects/cuticulus/cuticulus/mlutils/torch.py#64\u001b\\\u001b[2m64\u001b[0m\u001b]8;;\u001b\\\n"
      ]
     },
     "metadata": {},
     "output_type": "display_data"
    },
    {
     "data": {
      "text/html": [
       "<pre style=\"white-space:pre;overflow-x:auto;line-height:normal;font-family:Menlo,'DejaVu Sans Mono',consolas,'Courier New',monospace\"><span style=\"color: #7fbfbf; text-decoration-color: #7fbfbf\">[14:40:51] </span>train Loss: <span style=\"color: #008080; text-decoration-color: #008080; font-weight: bold\">0.0572</span> Acc: <span style=\"color: #008080; text-decoration-color: #008080; font-weight: bold\">0.9795</span>                                        <a href=\"file:///home/ngardn10/projects/cuticulus/cuticulus/mlutils/torch.py\"><span style=\"color: #7f7f7f; text-decoration-color: #7f7f7f\">torch.py</span></a><span style=\"color: #7f7f7f; text-decoration-color: #7f7f7f\">:</span><a href=\"file:///home/ngardn10/projects/cuticulus/cuticulus/mlutils/torch.py#109\"><span style=\"color: #7f7f7f; text-decoration-color: #7f7f7f\">109</span></a>\n",
       "</pre>\n"
      ],
      "text/plain": [
       "\u001b[2;36m[14:40:51]\u001b[0m\u001b[2;36m \u001b[0mtrain Loss: \u001b[1;36m0.0572\u001b[0m Acc: \u001b[1;36m0.9795\u001b[0m                                        \u001b]8;id=234099;file:///home/ngardn10/projects/cuticulus/cuticulus/mlutils/torch.py\u001b\\\u001b[2mtorch.py\u001b[0m\u001b]8;;\u001b\\\u001b[2m:\u001b[0m\u001b]8;id=629952;file:///home/ngardn10/projects/cuticulus/cuticulus/mlutils/torch.py#109\u001b\\\u001b[2m109\u001b[0m\u001b]8;;\u001b\\\n"
      ]
     },
     "metadata": {},
     "output_type": "display_data"
    },
    {
     "data": {
      "text/html": [
       "<pre style=\"white-space:pre;overflow-x:auto;line-height:normal;font-family:Menlo,'DejaVu Sans Mono',consolas,'Courier New',monospace\"><span style=\"color: #7fbfbf; text-decoration-color: #7fbfbf\">           </span>val Loss: <span style=\"color: #008080; text-decoration-color: #008080; font-weight: bold\">0.8447</span> Acc: <span style=\"color: #008080; text-decoration-color: #008080; font-weight: bold\">0.8107</span>                                          <a href=\"file:///home/ngardn10/projects/cuticulus/cuticulus/mlutils/torch.py\"><span style=\"color: #7f7f7f; text-decoration-color: #7f7f7f\">torch.py</span></a><span style=\"color: #7f7f7f; text-decoration-color: #7f7f7f\">:</span><a href=\"file:///home/ngardn10/projects/cuticulus/cuticulus/mlutils/torch.py#109\"><span style=\"color: #7f7f7f; text-decoration-color: #7f7f7f\">109</span></a>\n",
       "</pre>\n"
      ],
      "text/plain": [
       "\u001b[2;36m          \u001b[0m\u001b[2;36m \u001b[0mval Loss: \u001b[1;36m0.8447\u001b[0m Acc: \u001b[1;36m0.8107\u001b[0m                                          \u001b]8;id=131149;file:///home/ngardn10/projects/cuticulus/cuticulus/mlutils/torch.py\u001b\\\u001b[2mtorch.py\u001b[0m\u001b]8;;\u001b\\\u001b[2m:\u001b[0m\u001b]8;id=463261;file:///home/ngardn10/projects/cuticulus/cuticulus/mlutils/torch.py#109\u001b\\\u001b[2m109\u001b[0m\u001b]8;;\u001b\\\n"
      ]
     },
     "metadata": {},
     "output_type": "display_data"
    },
    {
     "data": {
      "text/html": [
       "<pre style=\"white-space:pre;overflow-x:auto;line-height:normal;font-family:Menlo,'DejaVu Sans Mono',consolas,'Courier New',monospace\"><span style=\"color: #7fbfbf; text-decoration-color: #7fbfbf\">           </span>Epoch <span style=\"color: #008080; text-decoration-color: #008080; font-weight: bold\">27</span>/<span style=\"color: #008080; text-decoration-color: #008080; font-weight: bold\">99</span>                                                            <a href=\"file:///home/ngardn10/projects/cuticulus/cuticulus/mlutils/torch.py\"><span style=\"color: #7f7f7f; text-decoration-color: #7f7f7f\">torch.py</span></a><span style=\"color: #7f7f7f; text-decoration-color: #7f7f7f\">:</span><a href=\"file:///home/ngardn10/projects/cuticulus/cuticulus/mlutils/torch.py#63\"><span style=\"color: #7f7f7f; text-decoration-color: #7f7f7f\">63</span></a>\n",
       "</pre>\n"
      ],
      "text/plain": [
       "\u001b[2;36m          \u001b[0m\u001b[2;36m \u001b[0mEpoch \u001b[1;36m27\u001b[0m/\u001b[1;36m99\u001b[0m                                                            \u001b]8;id=594467;file:///home/ngardn10/projects/cuticulus/cuticulus/mlutils/torch.py\u001b\\\u001b[2mtorch.py\u001b[0m\u001b]8;;\u001b\\\u001b[2m:\u001b[0m\u001b]8;id=847784;file:///home/ngardn10/projects/cuticulus/cuticulus/mlutils/torch.py#63\u001b\\\u001b[2m63\u001b[0m\u001b]8;;\u001b\\\n"
      ]
     },
     "metadata": {},
     "output_type": "display_data"
    },
    {
     "data": {
      "text/html": [
       "<pre style=\"white-space:pre;overflow-x:auto;line-height:normal;font-family:Menlo,'DejaVu Sans Mono',consolas,'Courier New',monospace\"><span style=\"color: #7fbfbf; text-decoration-color: #7fbfbf\">           </span>----------                                                             <a href=\"file:///home/ngardn10/projects/cuticulus/cuticulus/mlutils/torch.py\"><span style=\"color: #7f7f7f; text-decoration-color: #7f7f7f\">torch.py</span></a><span style=\"color: #7f7f7f; text-decoration-color: #7f7f7f\">:</span><a href=\"file:///home/ngardn10/projects/cuticulus/cuticulus/mlutils/torch.py#64\"><span style=\"color: #7f7f7f; text-decoration-color: #7f7f7f\">64</span></a>\n",
       "</pre>\n"
      ],
      "text/plain": [
       "\u001b[2;36m          \u001b[0m\u001b[2;36m \u001b[0m----------                                                             \u001b]8;id=541176;file:///home/ngardn10/projects/cuticulus/cuticulus/mlutils/torch.py\u001b\\\u001b[2mtorch.py\u001b[0m\u001b]8;;\u001b\\\u001b[2m:\u001b[0m\u001b]8;id=134283;file:///home/ngardn10/projects/cuticulus/cuticulus/mlutils/torch.py#64\u001b\\\u001b[2m64\u001b[0m\u001b]8;;\u001b\\\n"
      ]
     },
     "metadata": {},
     "output_type": "display_data"
    },
    {
     "data": {
      "text/html": [
       "<pre style=\"white-space:pre;overflow-x:auto;line-height:normal;font-family:Menlo,'DejaVu Sans Mono',consolas,'Courier New',monospace\"><span style=\"color: #7fbfbf; text-decoration-color: #7fbfbf\">[14:40:53] </span>train Loss: <span style=\"color: #008080; text-decoration-color: #008080; font-weight: bold\">0.0199</span> Acc: <span style=\"color: #008080; text-decoration-color: #008080; font-weight: bold\">0.9925</span>                                        <a href=\"file:///home/ngardn10/projects/cuticulus/cuticulus/mlutils/torch.py\"><span style=\"color: #7f7f7f; text-decoration-color: #7f7f7f\">torch.py</span></a><span style=\"color: #7f7f7f; text-decoration-color: #7f7f7f\">:</span><a href=\"file:///home/ngardn10/projects/cuticulus/cuticulus/mlutils/torch.py#109\"><span style=\"color: #7f7f7f; text-decoration-color: #7f7f7f\">109</span></a>\n",
       "</pre>\n"
      ],
      "text/plain": [
       "\u001b[2;36m[14:40:53]\u001b[0m\u001b[2;36m \u001b[0mtrain Loss: \u001b[1;36m0.0199\u001b[0m Acc: \u001b[1;36m0.9925\u001b[0m                                        \u001b]8;id=116282;file:///home/ngardn10/projects/cuticulus/cuticulus/mlutils/torch.py\u001b\\\u001b[2mtorch.py\u001b[0m\u001b]8;;\u001b\\\u001b[2m:\u001b[0m\u001b]8;id=889360;file:///home/ngardn10/projects/cuticulus/cuticulus/mlutils/torch.py#109\u001b\\\u001b[2m109\u001b[0m\u001b]8;;\u001b\\\n"
      ]
     },
     "metadata": {},
     "output_type": "display_data"
    },
    {
     "data": {
      "text/html": [
       "<pre style=\"white-space:pre;overflow-x:auto;line-height:normal;font-family:Menlo,'DejaVu Sans Mono',consolas,'Courier New',monospace\"><span style=\"color: #7fbfbf; text-decoration-color: #7fbfbf\">           </span>val Loss: <span style=\"color: #008080; text-decoration-color: #008080; font-weight: bold\">0.9142</span> Acc: <span style=\"color: #008080; text-decoration-color: #008080; font-weight: bold\">0.7911</span>                                          <a href=\"file:///home/ngardn10/projects/cuticulus/cuticulus/mlutils/torch.py\"><span style=\"color: #7f7f7f; text-decoration-color: #7f7f7f\">torch.py</span></a><span style=\"color: #7f7f7f; text-decoration-color: #7f7f7f\">:</span><a href=\"file:///home/ngardn10/projects/cuticulus/cuticulus/mlutils/torch.py#109\"><span style=\"color: #7f7f7f; text-decoration-color: #7f7f7f\">109</span></a>\n",
       "</pre>\n"
      ],
      "text/plain": [
       "\u001b[2;36m          \u001b[0m\u001b[2;36m \u001b[0mval Loss: \u001b[1;36m0.9142\u001b[0m Acc: \u001b[1;36m0.7911\u001b[0m                                          \u001b]8;id=521304;file:///home/ngardn10/projects/cuticulus/cuticulus/mlutils/torch.py\u001b\\\u001b[2mtorch.py\u001b[0m\u001b]8;;\u001b\\\u001b[2m:\u001b[0m\u001b]8;id=492130;file:///home/ngardn10/projects/cuticulus/cuticulus/mlutils/torch.py#109\u001b\\\u001b[2m109\u001b[0m\u001b]8;;\u001b\\\n"
      ]
     },
     "metadata": {},
     "output_type": "display_data"
    },
    {
     "data": {
      "text/html": [
       "<pre style=\"white-space:pre;overflow-x:auto;line-height:normal;font-family:Menlo,'DejaVu Sans Mono',consolas,'Courier New',monospace\"><span style=\"color: #7fbfbf; text-decoration-color: #7fbfbf\">           </span>Epoch <span style=\"color: #008080; text-decoration-color: #008080; font-weight: bold\">28</span>/<span style=\"color: #008080; text-decoration-color: #008080; font-weight: bold\">99</span>                                                            <a href=\"file:///home/ngardn10/projects/cuticulus/cuticulus/mlutils/torch.py\"><span style=\"color: #7f7f7f; text-decoration-color: #7f7f7f\">torch.py</span></a><span style=\"color: #7f7f7f; text-decoration-color: #7f7f7f\">:</span><a href=\"file:///home/ngardn10/projects/cuticulus/cuticulus/mlutils/torch.py#63\"><span style=\"color: #7f7f7f; text-decoration-color: #7f7f7f\">63</span></a>\n",
       "</pre>\n"
      ],
      "text/plain": [
       "\u001b[2;36m          \u001b[0m\u001b[2;36m \u001b[0mEpoch \u001b[1;36m28\u001b[0m/\u001b[1;36m99\u001b[0m                                                            \u001b]8;id=120168;file:///home/ngardn10/projects/cuticulus/cuticulus/mlutils/torch.py\u001b\\\u001b[2mtorch.py\u001b[0m\u001b]8;;\u001b\\\u001b[2m:\u001b[0m\u001b]8;id=220044;file:///home/ngardn10/projects/cuticulus/cuticulus/mlutils/torch.py#63\u001b\\\u001b[2m63\u001b[0m\u001b]8;;\u001b\\\n"
      ]
     },
     "metadata": {},
     "output_type": "display_data"
    },
    {
     "data": {
      "text/html": [
       "<pre style=\"white-space:pre;overflow-x:auto;line-height:normal;font-family:Menlo,'DejaVu Sans Mono',consolas,'Courier New',monospace\"><span style=\"color: #7fbfbf; text-decoration-color: #7fbfbf\">           </span>----------                                                             <a href=\"file:///home/ngardn10/projects/cuticulus/cuticulus/mlutils/torch.py\"><span style=\"color: #7f7f7f; text-decoration-color: #7f7f7f\">torch.py</span></a><span style=\"color: #7f7f7f; text-decoration-color: #7f7f7f\">:</span><a href=\"file:///home/ngardn10/projects/cuticulus/cuticulus/mlutils/torch.py#64\"><span style=\"color: #7f7f7f; text-decoration-color: #7f7f7f\">64</span></a>\n",
       "</pre>\n"
      ],
      "text/plain": [
       "\u001b[2;36m          \u001b[0m\u001b[2;36m \u001b[0m----------                                                             \u001b]8;id=40170;file:///home/ngardn10/projects/cuticulus/cuticulus/mlutils/torch.py\u001b\\\u001b[2mtorch.py\u001b[0m\u001b]8;;\u001b\\\u001b[2m:\u001b[0m\u001b]8;id=558716;file:///home/ngardn10/projects/cuticulus/cuticulus/mlutils/torch.py#64\u001b\\\u001b[2m64\u001b[0m\u001b]8;;\u001b\\\n"
      ]
     },
     "metadata": {},
     "output_type": "display_data"
    },
    {
     "data": {
      "text/html": [
       "<pre style=\"white-space:pre;overflow-x:auto;line-height:normal;font-family:Menlo,'DejaVu Sans Mono',consolas,'Courier New',monospace\"><span style=\"color: #7fbfbf; text-decoration-color: #7fbfbf\">[14:40:55] </span>train Loss: <span style=\"color: #008080; text-decoration-color: #008080; font-weight: bold\">0.0269</span> Acc: <span style=\"color: #008080; text-decoration-color: #008080; font-weight: bold\">0.9895</span>                                        <a href=\"file:///home/ngardn10/projects/cuticulus/cuticulus/mlutils/torch.py\"><span style=\"color: #7f7f7f; text-decoration-color: #7f7f7f\">torch.py</span></a><span style=\"color: #7f7f7f; text-decoration-color: #7f7f7f\">:</span><a href=\"file:///home/ngardn10/projects/cuticulus/cuticulus/mlutils/torch.py#109\"><span style=\"color: #7f7f7f; text-decoration-color: #7f7f7f\">109</span></a>\n",
       "</pre>\n"
      ],
      "text/plain": [
       "\u001b[2;36m[14:40:55]\u001b[0m\u001b[2;36m \u001b[0mtrain Loss: \u001b[1;36m0.0269\u001b[0m Acc: \u001b[1;36m0.9895\u001b[0m                                        \u001b]8;id=115008;file:///home/ngardn10/projects/cuticulus/cuticulus/mlutils/torch.py\u001b\\\u001b[2mtorch.py\u001b[0m\u001b]8;;\u001b\\\u001b[2m:\u001b[0m\u001b]8;id=526993;file:///home/ngardn10/projects/cuticulus/cuticulus/mlutils/torch.py#109\u001b\\\u001b[2m109\u001b[0m\u001b]8;;\u001b\\\n"
      ]
     },
     "metadata": {},
     "output_type": "display_data"
    },
    {
     "data": {
      "text/html": [
       "<pre style=\"white-space:pre;overflow-x:auto;line-height:normal;font-family:Menlo,'DejaVu Sans Mono',consolas,'Courier New',monospace\"><span style=\"color: #7fbfbf; text-decoration-color: #7fbfbf\">           </span>val Loss: <span style=\"color: #008080; text-decoration-color: #008080; font-weight: bold\">0.9834</span> Acc: <span style=\"color: #008080; text-decoration-color: #008080; font-weight: bold\">0.7768</span>                                          <a href=\"file:///home/ngardn10/projects/cuticulus/cuticulus/mlutils/torch.py\"><span style=\"color: #7f7f7f; text-decoration-color: #7f7f7f\">torch.py</span></a><span style=\"color: #7f7f7f; text-decoration-color: #7f7f7f\">:</span><a href=\"file:///home/ngardn10/projects/cuticulus/cuticulus/mlutils/torch.py#109\"><span style=\"color: #7f7f7f; text-decoration-color: #7f7f7f\">109</span></a>\n",
       "</pre>\n"
      ],
      "text/plain": [
       "\u001b[2;36m          \u001b[0m\u001b[2;36m \u001b[0mval Loss: \u001b[1;36m0.9834\u001b[0m Acc: \u001b[1;36m0.7768\u001b[0m                                          \u001b]8;id=740069;file:///home/ngardn10/projects/cuticulus/cuticulus/mlutils/torch.py\u001b\\\u001b[2mtorch.py\u001b[0m\u001b]8;;\u001b\\\u001b[2m:\u001b[0m\u001b]8;id=341206;file:///home/ngardn10/projects/cuticulus/cuticulus/mlutils/torch.py#109\u001b\\\u001b[2m109\u001b[0m\u001b]8;;\u001b\\\n"
      ]
     },
     "metadata": {},
     "output_type": "display_data"
    },
    {
     "data": {
      "text/html": [
       "<pre style=\"white-space:pre;overflow-x:auto;line-height:normal;font-family:Menlo,'DejaVu Sans Mono',consolas,'Courier New',monospace\"><span style=\"color: #7fbfbf; text-decoration-color: #7fbfbf\">           </span>Epoch <span style=\"color: #008080; text-decoration-color: #008080; font-weight: bold\">29</span>/<span style=\"color: #008080; text-decoration-color: #008080; font-weight: bold\">99</span>                                                            <a href=\"file:///home/ngardn10/projects/cuticulus/cuticulus/mlutils/torch.py\"><span style=\"color: #7f7f7f; text-decoration-color: #7f7f7f\">torch.py</span></a><span style=\"color: #7f7f7f; text-decoration-color: #7f7f7f\">:</span><a href=\"file:///home/ngardn10/projects/cuticulus/cuticulus/mlutils/torch.py#63\"><span style=\"color: #7f7f7f; text-decoration-color: #7f7f7f\">63</span></a>\n",
       "</pre>\n"
      ],
      "text/plain": [
       "\u001b[2;36m          \u001b[0m\u001b[2;36m \u001b[0mEpoch \u001b[1;36m29\u001b[0m/\u001b[1;36m99\u001b[0m                                                            \u001b]8;id=278034;file:///home/ngardn10/projects/cuticulus/cuticulus/mlutils/torch.py\u001b\\\u001b[2mtorch.py\u001b[0m\u001b]8;;\u001b\\\u001b[2m:\u001b[0m\u001b]8;id=590669;file:///home/ngardn10/projects/cuticulus/cuticulus/mlutils/torch.py#63\u001b\\\u001b[2m63\u001b[0m\u001b]8;;\u001b\\\n"
      ]
     },
     "metadata": {},
     "output_type": "display_data"
    },
    {
     "data": {
      "text/html": [
       "<pre style=\"white-space:pre;overflow-x:auto;line-height:normal;font-family:Menlo,'DejaVu Sans Mono',consolas,'Courier New',monospace\"><span style=\"color: #7fbfbf; text-decoration-color: #7fbfbf\">           </span>----------                                                             <a href=\"file:///home/ngardn10/projects/cuticulus/cuticulus/mlutils/torch.py\"><span style=\"color: #7f7f7f; text-decoration-color: #7f7f7f\">torch.py</span></a><span style=\"color: #7f7f7f; text-decoration-color: #7f7f7f\">:</span><a href=\"file:///home/ngardn10/projects/cuticulus/cuticulus/mlutils/torch.py#64\"><span style=\"color: #7f7f7f; text-decoration-color: #7f7f7f\">64</span></a>\n",
       "</pre>\n"
      ],
      "text/plain": [
       "\u001b[2;36m          \u001b[0m\u001b[2;36m \u001b[0m----------                                                             \u001b]8;id=333862;file:///home/ngardn10/projects/cuticulus/cuticulus/mlutils/torch.py\u001b\\\u001b[2mtorch.py\u001b[0m\u001b]8;;\u001b\\\u001b[2m:\u001b[0m\u001b]8;id=429404;file:///home/ngardn10/projects/cuticulus/cuticulus/mlutils/torch.py#64\u001b\\\u001b[2m64\u001b[0m\u001b]8;;\u001b\\\n"
      ]
     },
     "metadata": {},
     "output_type": "display_data"
    },
    {
     "data": {
      "text/html": [
       "<pre style=\"white-space:pre;overflow-x:auto;line-height:normal;font-family:Menlo,'DejaVu Sans Mono',consolas,'Courier New',monospace\"><span style=\"color: #7fbfbf; text-decoration-color: #7fbfbf\">[14:40:56] </span>train Loss: <span style=\"color: #008080; text-decoration-color: #008080; font-weight: bold\">0.0354</span> Acc: <span style=\"color: #008080; text-decoration-color: #008080; font-weight: bold\">0.9855</span>                                        <a href=\"file:///home/ngardn10/projects/cuticulus/cuticulus/mlutils/torch.py\"><span style=\"color: #7f7f7f; text-decoration-color: #7f7f7f\">torch.py</span></a><span style=\"color: #7f7f7f; text-decoration-color: #7f7f7f\">:</span><a href=\"file:///home/ngardn10/projects/cuticulus/cuticulus/mlutils/torch.py#109\"><span style=\"color: #7f7f7f; text-decoration-color: #7f7f7f\">109</span></a>\n",
       "</pre>\n"
      ],
      "text/plain": [
       "\u001b[2;36m[14:40:56]\u001b[0m\u001b[2;36m \u001b[0mtrain Loss: \u001b[1;36m0.0354\u001b[0m Acc: \u001b[1;36m0.9855\u001b[0m                                        \u001b]8;id=689354;file:///home/ngardn10/projects/cuticulus/cuticulus/mlutils/torch.py\u001b\\\u001b[2mtorch.py\u001b[0m\u001b]8;;\u001b\\\u001b[2m:\u001b[0m\u001b]8;id=851873;file:///home/ngardn10/projects/cuticulus/cuticulus/mlutils/torch.py#109\u001b\\\u001b[2m109\u001b[0m\u001b]8;;\u001b\\\n"
      ]
     },
     "metadata": {},
     "output_type": "display_data"
    },
    {
     "data": {
      "text/html": [
       "<pre style=\"white-space:pre;overflow-x:auto;line-height:normal;font-family:Menlo,'DejaVu Sans Mono',consolas,'Courier New',monospace\"><span style=\"color: #7fbfbf; text-decoration-color: #7fbfbf\">[14:40:57] </span>val Loss: <span style=\"color: #008080; text-decoration-color: #008080; font-weight: bold\">0.9323</span> Acc: <span style=\"color: #008080; text-decoration-color: #008080; font-weight: bold\">0.7833</span>                                          <a href=\"file:///home/ngardn10/projects/cuticulus/cuticulus/mlutils/torch.py\"><span style=\"color: #7f7f7f; text-decoration-color: #7f7f7f\">torch.py</span></a><span style=\"color: #7f7f7f; text-decoration-color: #7f7f7f\">:</span><a href=\"file:///home/ngardn10/projects/cuticulus/cuticulus/mlutils/torch.py#109\"><span style=\"color: #7f7f7f; text-decoration-color: #7f7f7f\">109</span></a>\n",
       "</pre>\n"
      ],
      "text/plain": [
       "\u001b[2;36m[14:40:57]\u001b[0m\u001b[2;36m \u001b[0mval Loss: \u001b[1;36m0.9323\u001b[0m Acc: \u001b[1;36m0.7833\u001b[0m                                          \u001b]8;id=240643;file:///home/ngardn10/projects/cuticulus/cuticulus/mlutils/torch.py\u001b\\\u001b[2mtorch.py\u001b[0m\u001b]8;;\u001b\\\u001b[2m:\u001b[0m\u001b]8;id=405451;file:///home/ngardn10/projects/cuticulus/cuticulus/mlutils/torch.py#109\u001b\\\u001b[2m109\u001b[0m\u001b]8;;\u001b\\\n"
      ]
     },
     "metadata": {},
     "output_type": "display_data"
    },
    {
     "data": {
      "text/html": [
       "<pre style=\"white-space:pre;overflow-x:auto;line-height:normal;font-family:Menlo,'DejaVu Sans Mono',consolas,'Courier New',monospace\"><span style=\"color: #7fbfbf; text-decoration-color: #7fbfbf\">           </span>Epoch <span style=\"color: #008080; text-decoration-color: #008080; font-weight: bold\">30</span>/<span style=\"color: #008080; text-decoration-color: #008080; font-weight: bold\">99</span>                                                            <a href=\"file:///home/ngardn10/projects/cuticulus/cuticulus/mlutils/torch.py\"><span style=\"color: #7f7f7f; text-decoration-color: #7f7f7f\">torch.py</span></a><span style=\"color: #7f7f7f; text-decoration-color: #7f7f7f\">:</span><a href=\"file:///home/ngardn10/projects/cuticulus/cuticulus/mlutils/torch.py#63\"><span style=\"color: #7f7f7f; text-decoration-color: #7f7f7f\">63</span></a>\n",
       "</pre>\n"
      ],
      "text/plain": [
       "\u001b[2;36m          \u001b[0m\u001b[2;36m \u001b[0mEpoch \u001b[1;36m30\u001b[0m/\u001b[1;36m99\u001b[0m                                                            \u001b]8;id=936877;file:///home/ngardn10/projects/cuticulus/cuticulus/mlutils/torch.py\u001b\\\u001b[2mtorch.py\u001b[0m\u001b]8;;\u001b\\\u001b[2m:\u001b[0m\u001b]8;id=291547;file:///home/ngardn10/projects/cuticulus/cuticulus/mlutils/torch.py#63\u001b\\\u001b[2m63\u001b[0m\u001b]8;;\u001b\\\n"
      ]
     },
     "metadata": {},
     "output_type": "display_data"
    },
    {
     "data": {
      "text/html": [
       "<pre style=\"white-space:pre;overflow-x:auto;line-height:normal;font-family:Menlo,'DejaVu Sans Mono',consolas,'Courier New',monospace\"><span style=\"color: #7fbfbf; text-decoration-color: #7fbfbf\">           </span>----------                                                             <a href=\"file:///home/ngardn10/projects/cuticulus/cuticulus/mlutils/torch.py\"><span style=\"color: #7f7f7f; text-decoration-color: #7f7f7f\">torch.py</span></a><span style=\"color: #7f7f7f; text-decoration-color: #7f7f7f\">:</span><a href=\"file:///home/ngardn10/projects/cuticulus/cuticulus/mlutils/torch.py#64\"><span style=\"color: #7f7f7f; text-decoration-color: #7f7f7f\">64</span></a>\n",
       "</pre>\n"
      ],
      "text/plain": [
       "\u001b[2;36m          \u001b[0m\u001b[2;36m \u001b[0m----------                                                             \u001b]8;id=578093;file:///home/ngardn10/projects/cuticulus/cuticulus/mlutils/torch.py\u001b\\\u001b[2mtorch.py\u001b[0m\u001b]8;;\u001b\\\u001b[2m:\u001b[0m\u001b]8;id=898244;file:///home/ngardn10/projects/cuticulus/cuticulus/mlutils/torch.py#64\u001b\\\u001b[2m64\u001b[0m\u001b]8;;\u001b\\\n"
      ]
     },
     "metadata": {},
     "output_type": "display_data"
    },
    {
     "data": {
      "text/html": [
       "<pre style=\"white-space:pre;overflow-x:auto;line-height:normal;font-family:Menlo,'DejaVu Sans Mono',consolas,'Courier New',monospace\"><span style=\"color: #7fbfbf; text-decoration-color: #7fbfbf\">[14:40:58] </span>train Loss: <span style=\"color: #008080; text-decoration-color: #008080; font-weight: bold\">0.0305</span> Acc: <span style=\"color: #008080; text-decoration-color: #008080; font-weight: bold\">0.9905</span>                                        <a href=\"file:///home/ngardn10/projects/cuticulus/cuticulus/mlutils/torch.py\"><span style=\"color: #7f7f7f; text-decoration-color: #7f7f7f\">torch.py</span></a><span style=\"color: #7f7f7f; text-decoration-color: #7f7f7f\">:</span><a href=\"file:///home/ngardn10/projects/cuticulus/cuticulus/mlutils/torch.py#109\"><span style=\"color: #7f7f7f; text-decoration-color: #7f7f7f\">109</span></a>\n",
       "</pre>\n"
      ],
      "text/plain": [
       "\u001b[2;36m[14:40:58]\u001b[0m\u001b[2;36m \u001b[0mtrain Loss: \u001b[1;36m0.0305\u001b[0m Acc: \u001b[1;36m0.9905\u001b[0m                                        \u001b]8;id=638247;file:///home/ngardn10/projects/cuticulus/cuticulus/mlutils/torch.py\u001b\\\u001b[2mtorch.py\u001b[0m\u001b]8;;\u001b\\\u001b[2m:\u001b[0m\u001b]8;id=880954;file:///home/ngardn10/projects/cuticulus/cuticulus/mlutils/torch.py#109\u001b\\\u001b[2m109\u001b[0m\u001b]8;;\u001b\\\n"
      ]
     },
     "metadata": {},
     "output_type": "display_data"
    },
    {
     "data": {
      "text/html": [
       "<pre style=\"white-space:pre;overflow-x:auto;line-height:normal;font-family:Menlo,'DejaVu Sans Mono',consolas,'Courier New',monospace\"><span style=\"color: #7fbfbf; text-decoration-color: #7fbfbf\">[14:40:59] </span>val Loss: <span style=\"color: #008080; text-decoration-color: #008080; font-weight: bold\">0.9747</span> Acc: <span style=\"color: #008080; text-decoration-color: #008080; font-weight: bold\">0.7898</span>                                          <a href=\"file:///home/ngardn10/projects/cuticulus/cuticulus/mlutils/torch.py\"><span style=\"color: #7f7f7f; text-decoration-color: #7f7f7f\">torch.py</span></a><span style=\"color: #7f7f7f; text-decoration-color: #7f7f7f\">:</span><a href=\"file:///home/ngardn10/projects/cuticulus/cuticulus/mlutils/torch.py#109\"><span style=\"color: #7f7f7f; text-decoration-color: #7f7f7f\">109</span></a>\n",
       "</pre>\n"
      ],
      "text/plain": [
       "\u001b[2;36m[14:40:59]\u001b[0m\u001b[2;36m \u001b[0mval Loss: \u001b[1;36m0.9747\u001b[0m Acc: \u001b[1;36m0.7898\u001b[0m                                          \u001b]8;id=453357;file:///home/ngardn10/projects/cuticulus/cuticulus/mlutils/torch.py\u001b\\\u001b[2mtorch.py\u001b[0m\u001b]8;;\u001b\\\u001b[2m:\u001b[0m\u001b]8;id=324728;file:///home/ngardn10/projects/cuticulus/cuticulus/mlutils/torch.py#109\u001b\\\u001b[2m109\u001b[0m\u001b]8;;\u001b\\\n"
      ]
     },
     "metadata": {},
     "output_type": "display_data"
    },
    {
     "data": {
      "text/html": [
       "<pre style=\"white-space:pre;overflow-x:auto;line-height:normal;font-family:Menlo,'DejaVu Sans Mono',consolas,'Courier New',monospace\"><span style=\"color: #7fbfbf; text-decoration-color: #7fbfbf\">           </span>Epoch <span style=\"color: #008080; text-decoration-color: #008080; font-weight: bold\">31</span>/<span style=\"color: #008080; text-decoration-color: #008080; font-weight: bold\">99</span>                                                            <a href=\"file:///home/ngardn10/projects/cuticulus/cuticulus/mlutils/torch.py\"><span style=\"color: #7f7f7f; text-decoration-color: #7f7f7f\">torch.py</span></a><span style=\"color: #7f7f7f; text-decoration-color: #7f7f7f\">:</span><a href=\"file:///home/ngardn10/projects/cuticulus/cuticulus/mlutils/torch.py#63\"><span style=\"color: #7f7f7f; text-decoration-color: #7f7f7f\">63</span></a>\n",
       "</pre>\n"
      ],
      "text/plain": [
       "\u001b[2;36m          \u001b[0m\u001b[2;36m \u001b[0mEpoch \u001b[1;36m31\u001b[0m/\u001b[1;36m99\u001b[0m                                                            \u001b]8;id=993319;file:///home/ngardn10/projects/cuticulus/cuticulus/mlutils/torch.py\u001b\\\u001b[2mtorch.py\u001b[0m\u001b]8;;\u001b\\\u001b[2m:\u001b[0m\u001b]8;id=392586;file:///home/ngardn10/projects/cuticulus/cuticulus/mlutils/torch.py#63\u001b\\\u001b[2m63\u001b[0m\u001b]8;;\u001b\\\n"
      ]
     },
     "metadata": {},
     "output_type": "display_data"
    },
    {
     "data": {
      "text/html": [
       "<pre style=\"white-space:pre;overflow-x:auto;line-height:normal;font-family:Menlo,'DejaVu Sans Mono',consolas,'Courier New',monospace\"><span style=\"color: #7fbfbf; text-decoration-color: #7fbfbf\">           </span>----------                                                             <a href=\"file:///home/ngardn10/projects/cuticulus/cuticulus/mlutils/torch.py\"><span style=\"color: #7f7f7f; text-decoration-color: #7f7f7f\">torch.py</span></a><span style=\"color: #7f7f7f; text-decoration-color: #7f7f7f\">:</span><a href=\"file:///home/ngardn10/projects/cuticulus/cuticulus/mlutils/torch.py#64\"><span style=\"color: #7f7f7f; text-decoration-color: #7f7f7f\">64</span></a>\n",
       "</pre>\n"
      ],
      "text/plain": [
       "\u001b[2;36m          \u001b[0m\u001b[2;36m \u001b[0m----------                                                             \u001b]8;id=24275;file:///home/ngardn10/projects/cuticulus/cuticulus/mlutils/torch.py\u001b\\\u001b[2mtorch.py\u001b[0m\u001b]8;;\u001b\\\u001b[2m:\u001b[0m\u001b]8;id=85473;file:///home/ngardn10/projects/cuticulus/cuticulus/mlutils/torch.py#64\u001b\\\u001b[2m64\u001b[0m\u001b]8;;\u001b\\\n"
      ]
     },
     "metadata": {},
     "output_type": "display_data"
    },
    {
     "data": {
      "text/html": [
       "<pre style=\"white-space:pre;overflow-x:auto;line-height:normal;font-family:Menlo,'DejaVu Sans Mono',consolas,'Courier New',monospace\"><span style=\"color: #7fbfbf; text-decoration-color: #7fbfbf\">[14:41:00] </span>train Loss: <span style=\"color: #008080; text-decoration-color: #008080; font-weight: bold\">0.0287</span> Acc: <span style=\"color: #008080; text-decoration-color: #008080; font-weight: bold\">0.9910</span>                                        <a href=\"file:///home/ngardn10/projects/cuticulus/cuticulus/mlutils/torch.py\"><span style=\"color: #7f7f7f; text-decoration-color: #7f7f7f\">torch.py</span></a><span style=\"color: #7f7f7f; text-decoration-color: #7f7f7f\">:</span><a href=\"file:///home/ngardn10/projects/cuticulus/cuticulus/mlutils/torch.py#109\"><span style=\"color: #7f7f7f; text-decoration-color: #7f7f7f\">109</span></a>\n",
       "</pre>\n"
      ],
      "text/plain": [
       "\u001b[2;36m[14:41:00]\u001b[0m\u001b[2;36m \u001b[0mtrain Loss: \u001b[1;36m0.0287\u001b[0m Acc: \u001b[1;36m0.9910\u001b[0m                                        \u001b]8;id=187212;file:///home/ngardn10/projects/cuticulus/cuticulus/mlutils/torch.py\u001b\\\u001b[2mtorch.py\u001b[0m\u001b]8;;\u001b\\\u001b[2m:\u001b[0m\u001b]8;id=491073;file:///home/ngardn10/projects/cuticulus/cuticulus/mlutils/torch.py#109\u001b\\\u001b[2m109\u001b[0m\u001b]8;;\u001b\\\n"
      ]
     },
     "metadata": {},
     "output_type": "display_data"
    },
    {
     "data": {
      "text/html": [
       "<pre style=\"white-space:pre;overflow-x:auto;line-height:normal;font-family:Menlo,'DejaVu Sans Mono',consolas,'Courier New',monospace\"><span style=\"color: #7fbfbf; text-decoration-color: #7fbfbf\">           </span>val Loss: <span style=\"color: #008080; text-decoration-color: #008080; font-weight: bold\">1.0942</span> Acc: <span style=\"color: #008080; text-decoration-color: #008080; font-weight: bold\">0.7885</span>                                          <a href=\"file:///home/ngardn10/projects/cuticulus/cuticulus/mlutils/torch.py\"><span style=\"color: #7f7f7f; text-decoration-color: #7f7f7f\">torch.py</span></a><span style=\"color: #7f7f7f; text-decoration-color: #7f7f7f\">:</span><a href=\"file:///home/ngardn10/projects/cuticulus/cuticulus/mlutils/torch.py#109\"><span style=\"color: #7f7f7f; text-decoration-color: #7f7f7f\">109</span></a>\n",
       "</pre>\n"
      ],
      "text/plain": [
       "\u001b[2;36m          \u001b[0m\u001b[2;36m \u001b[0mval Loss: \u001b[1;36m1.0942\u001b[0m Acc: \u001b[1;36m0.7885\u001b[0m                                          \u001b]8;id=918981;file:///home/ngardn10/projects/cuticulus/cuticulus/mlutils/torch.py\u001b\\\u001b[2mtorch.py\u001b[0m\u001b]8;;\u001b\\\u001b[2m:\u001b[0m\u001b]8;id=191234;file:///home/ngardn10/projects/cuticulus/cuticulus/mlutils/torch.py#109\u001b\\\u001b[2m109\u001b[0m\u001b]8;;\u001b\\\n"
      ]
     },
     "metadata": {},
     "output_type": "display_data"
    },
    {
     "data": {
      "text/html": [
       "<pre style=\"white-space:pre;overflow-x:auto;line-height:normal;font-family:Menlo,'DejaVu Sans Mono',consolas,'Courier New',monospace\"><span style=\"color: #7fbfbf; text-decoration-color: #7fbfbf\">           </span>Epoch <span style=\"color: #008080; text-decoration-color: #008080; font-weight: bold\">32</span>/<span style=\"color: #008080; text-decoration-color: #008080; font-weight: bold\">99</span>                                                            <a href=\"file:///home/ngardn10/projects/cuticulus/cuticulus/mlutils/torch.py\"><span style=\"color: #7f7f7f; text-decoration-color: #7f7f7f\">torch.py</span></a><span style=\"color: #7f7f7f; text-decoration-color: #7f7f7f\">:</span><a href=\"file:///home/ngardn10/projects/cuticulus/cuticulus/mlutils/torch.py#63\"><span style=\"color: #7f7f7f; text-decoration-color: #7f7f7f\">63</span></a>\n",
       "</pre>\n"
      ],
      "text/plain": [
       "\u001b[2;36m          \u001b[0m\u001b[2;36m \u001b[0mEpoch \u001b[1;36m32\u001b[0m/\u001b[1;36m99\u001b[0m                                                            \u001b]8;id=226939;file:///home/ngardn10/projects/cuticulus/cuticulus/mlutils/torch.py\u001b\\\u001b[2mtorch.py\u001b[0m\u001b]8;;\u001b\\\u001b[2m:\u001b[0m\u001b]8;id=436023;file:///home/ngardn10/projects/cuticulus/cuticulus/mlutils/torch.py#63\u001b\\\u001b[2m63\u001b[0m\u001b]8;;\u001b\\\n"
      ]
     },
     "metadata": {},
     "output_type": "display_data"
    },
    {
     "data": {
      "text/html": [
       "<pre style=\"white-space:pre;overflow-x:auto;line-height:normal;font-family:Menlo,'DejaVu Sans Mono',consolas,'Courier New',monospace\"><span style=\"color: #7fbfbf; text-decoration-color: #7fbfbf\">           </span>----------                                                             <a href=\"file:///home/ngardn10/projects/cuticulus/cuticulus/mlutils/torch.py\"><span style=\"color: #7f7f7f; text-decoration-color: #7f7f7f\">torch.py</span></a><span style=\"color: #7f7f7f; text-decoration-color: #7f7f7f\">:</span><a href=\"file:///home/ngardn10/projects/cuticulus/cuticulus/mlutils/torch.py#64\"><span style=\"color: #7f7f7f; text-decoration-color: #7f7f7f\">64</span></a>\n",
       "</pre>\n"
      ],
      "text/plain": [
       "\u001b[2;36m          \u001b[0m\u001b[2;36m \u001b[0m----------                                                             \u001b]8;id=600606;file:///home/ngardn10/projects/cuticulus/cuticulus/mlutils/torch.py\u001b\\\u001b[2mtorch.py\u001b[0m\u001b]8;;\u001b\\\u001b[2m:\u001b[0m\u001b]8;id=56212;file:///home/ngardn10/projects/cuticulus/cuticulus/mlutils/torch.py#64\u001b\\\u001b[2m64\u001b[0m\u001b]8;;\u001b\\\n"
      ]
     },
     "metadata": {},
     "output_type": "display_data"
    },
    {
     "data": {
      "text/html": [
       "<pre style=\"white-space:pre;overflow-x:auto;line-height:normal;font-family:Menlo,'DejaVu Sans Mono',consolas,'Courier New',monospace\"><span style=\"color: #7fbfbf; text-decoration-color: #7fbfbf\">[14:41:02] </span>train Loss: <span style=\"color: #008080; text-decoration-color: #008080; font-weight: bold\">0.0410</span> Acc: <span style=\"color: #008080; text-decoration-color: #008080; font-weight: bold\">0.9875</span>                                        <a href=\"file:///home/ngardn10/projects/cuticulus/cuticulus/mlutils/torch.py\"><span style=\"color: #7f7f7f; text-decoration-color: #7f7f7f\">torch.py</span></a><span style=\"color: #7f7f7f; text-decoration-color: #7f7f7f\">:</span><a href=\"file:///home/ngardn10/projects/cuticulus/cuticulus/mlutils/torch.py#109\"><span style=\"color: #7f7f7f; text-decoration-color: #7f7f7f\">109</span></a>\n",
       "</pre>\n"
      ],
      "text/plain": [
       "\u001b[2;36m[14:41:02]\u001b[0m\u001b[2;36m \u001b[0mtrain Loss: \u001b[1;36m0.0410\u001b[0m Acc: \u001b[1;36m0.9875\u001b[0m                                        \u001b]8;id=735500;file:///home/ngardn10/projects/cuticulus/cuticulus/mlutils/torch.py\u001b\\\u001b[2mtorch.py\u001b[0m\u001b]8;;\u001b\\\u001b[2m:\u001b[0m\u001b]8;id=587041;file:///home/ngardn10/projects/cuticulus/cuticulus/mlutils/torch.py#109\u001b\\\u001b[2m109\u001b[0m\u001b]8;;\u001b\\\n"
      ]
     },
     "metadata": {},
     "output_type": "display_data"
    },
    {
     "data": {
      "text/html": [
       "<pre style=\"white-space:pre;overflow-x:auto;line-height:normal;font-family:Menlo,'DejaVu Sans Mono',consolas,'Courier New',monospace\"><span style=\"color: #7fbfbf; text-decoration-color: #7fbfbf\">           </span>val Loss: <span style=\"color: #008080; text-decoration-color: #008080; font-weight: bold\">0.9279</span> Acc: <span style=\"color: #008080; text-decoration-color: #008080; font-weight: bold\">0.7781</span>                                          <a href=\"file:///home/ngardn10/projects/cuticulus/cuticulus/mlutils/torch.py\"><span style=\"color: #7f7f7f; text-decoration-color: #7f7f7f\">torch.py</span></a><span style=\"color: #7f7f7f; text-decoration-color: #7f7f7f\">:</span><a href=\"file:///home/ngardn10/projects/cuticulus/cuticulus/mlutils/torch.py#109\"><span style=\"color: #7f7f7f; text-decoration-color: #7f7f7f\">109</span></a>\n",
       "</pre>\n"
      ],
      "text/plain": [
       "\u001b[2;36m          \u001b[0m\u001b[2;36m \u001b[0mval Loss: \u001b[1;36m0.9279\u001b[0m Acc: \u001b[1;36m0.7781\u001b[0m                                          \u001b]8;id=406862;file:///home/ngardn10/projects/cuticulus/cuticulus/mlutils/torch.py\u001b\\\u001b[2mtorch.py\u001b[0m\u001b]8;;\u001b\\\u001b[2m:\u001b[0m\u001b]8;id=822549;file:///home/ngardn10/projects/cuticulus/cuticulus/mlutils/torch.py#109\u001b\\\u001b[2m109\u001b[0m\u001b]8;;\u001b\\\n"
      ]
     },
     "metadata": {},
     "output_type": "display_data"
    },
    {
     "data": {
      "text/html": [
       "<pre style=\"white-space:pre;overflow-x:auto;line-height:normal;font-family:Menlo,'DejaVu Sans Mono',consolas,'Courier New',monospace\"><span style=\"color: #7fbfbf; text-decoration-color: #7fbfbf\">           </span>Epoch <span style=\"color: #008080; text-decoration-color: #008080; font-weight: bold\">33</span>/<span style=\"color: #008080; text-decoration-color: #008080; font-weight: bold\">99</span>                                                            <a href=\"file:///home/ngardn10/projects/cuticulus/cuticulus/mlutils/torch.py\"><span style=\"color: #7f7f7f; text-decoration-color: #7f7f7f\">torch.py</span></a><span style=\"color: #7f7f7f; text-decoration-color: #7f7f7f\">:</span><a href=\"file:///home/ngardn10/projects/cuticulus/cuticulus/mlutils/torch.py#63\"><span style=\"color: #7f7f7f; text-decoration-color: #7f7f7f\">63</span></a>\n",
       "</pre>\n"
      ],
      "text/plain": [
       "\u001b[2;36m          \u001b[0m\u001b[2;36m \u001b[0mEpoch \u001b[1;36m33\u001b[0m/\u001b[1;36m99\u001b[0m                                                            \u001b]8;id=236290;file:///home/ngardn10/projects/cuticulus/cuticulus/mlutils/torch.py\u001b\\\u001b[2mtorch.py\u001b[0m\u001b]8;;\u001b\\\u001b[2m:\u001b[0m\u001b]8;id=634650;file:///home/ngardn10/projects/cuticulus/cuticulus/mlutils/torch.py#63\u001b\\\u001b[2m63\u001b[0m\u001b]8;;\u001b\\\n"
      ]
     },
     "metadata": {},
     "output_type": "display_data"
    },
    {
     "data": {
      "text/html": [
       "<pre style=\"white-space:pre;overflow-x:auto;line-height:normal;font-family:Menlo,'DejaVu Sans Mono',consolas,'Courier New',monospace\"><span style=\"color: #7fbfbf; text-decoration-color: #7fbfbf\">           </span>----------                                                             <a href=\"file:///home/ngardn10/projects/cuticulus/cuticulus/mlutils/torch.py\"><span style=\"color: #7f7f7f; text-decoration-color: #7f7f7f\">torch.py</span></a><span style=\"color: #7f7f7f; text-decoration-color: #7f7f7f\">:</span><a href=\"file:///home/ngardn10/projects/cuticulus/cuticulus/mlutils/torch.py#64\"><span style=\"color: #7f7f7f; text-decoration-color: #7f7f7f\">64</span></a>\n",
       "</pre>\n"
      ],
      "text/plain": [
       "\u001b[2;36m          \u001b[0m\u001b[2;36m \u001b[0m----------                                                             \u001b]8;id=223058;file:///home/ngardn10/projects/cuticulus/cuticulus/mlutils/torch.py\u001b\\\u001b[2mtorch.py\u001b[0m\u001b]8;;\u001b\\\u001b[2m:\u001b[0m\u001b]8;id=689294;file:///home/ngardn10/projects/cuticulus/cuticulus/mlutils/torch.py#64\u001b\\\u001b[2m64\u001b[0m\u001b]8;;\u001b\\\n"
      ]
     },
     "metadata": {},
     "output_type": "display_data"
    },
    {
     "data": {
      "text/html": [
       "<pre style=\"white-space:pre;overflow-x:auto;line-height:normal;font-family:Menlo,'DejaVu Sans Mono',consolas,'Courier New',monospace\"><span style=\"color: #7fbfbf; text-decoration-color: #7fbfbf\">[14:41:04] </span>train Loss: <span style=\"color: #008080; text-decoration-color: #008080; font-weight: bold\">0.0385</span> Acc: <span style=\"color: #008080; text-decoration-color: #008080; font-weight: bold\">0.9895</span>                                        <a href=\"file:///home/ngardn10/projects/cuticulus/cuticulus/mlutils/torch.py\"><span style=\"color: #7f7f7f; text-decoration-color: #7f7f7f\">torch.py</span></a><span style=\"color: #7f7f7f; text-decoration-color: #7f7f7f\">:</span><a href=\"file:///home/ngardn10/projects/cuticulus/cuticulus/mlutils/torch.py#109\"><span style=\"color: #7f7f7f; text-decoration-color: #7f7f7f\">109</span></a>\n",
       "</pre>\n"
      ],
      "text/plain": [
       "\u001b[2;36m[14:41:04]\u001b[0m\u001b[2;36m \u001b[0mtrain Loss: \u001b[1;36m0.0385\u001b[0m Acc: \u001b[1;36m0.9895\u001b[0m                                        \u001b]8;id=513692;file:///home/ngardn10/projects/cuticulus/cuticulus/mlutils/torch.py\u001b\\\u001b[2mtorch.py\u001b[0m\u001b]8;;\u001b\\\u001b[2m:\u001b[0m\u001b]8;id=2942;file:///home/ngardn10/projects/cuticulus/cuticulus/mlutils/torch.py#109\u001b\\\u001b[2m109\u001b[0m\u001b]8;;\u001b\\\n"
      ]
     },
     "metadata": {},
     "output_type": "display_data"
    },
    {
     "data": {
      "text/html": [
       "<pre style=\"white-space:pre;overflow-x:auto;line-height:normal;font-family:Menlo,'DejaVu Sans Mono',consolas,'Courier New',monospace\"><span style=\"color: #7fbfbf; text-decoration-color: #7fbfbf\">           </span>val Loss: <span style=\"color: #008080; text-decoration-color: #008080; font-weight: bold\">1.0285</span> Acc: <span style=\"color: #008080; text-decoration-color: #008080; font-weight: bold\">0.7820</span>                                          <a href=\"file:///home/ngardn10/projects/cuticulus/cuticulus/mlutils/torch.py\"><span style=\"color: #7f7f7f; text-decoration-color: #7f7f7f\">torch.py</span></a><span style=\"color: #7f7f7f; text-decoration-color: #7f7f7f\">:</span><a href=\"file:///home/ngardn10/projects/cuticulus/cuticulus/mlutils/torch.py#109\"><span style=\"color: #7f7f7f; text-decoration-color: #7f7f7f\">109</span></a>\n",
       "</pre>\n"
      ],
      "text/plain": [
       "\u001b[2;36m          \u001b[0m\u001b[2;36m \u001b[0mval Loss: \u001b[1;36m1.0285\u001b[0m Acc: \u001b[1;36m0.7820\u001b[0m                                          \u001b]8;id=604806;file:///home/ngardn10/projects/cuticulus/cuticulus/mlutils/torch.py\u001b\\\u001b[2mtorch.py\u001b[0m\u001b]8;;\u001b\\\u001b[2m:\u001b[0m\u001b]8;id=931210;file:///home/ngardn10/projects/cuticulus/cuticulus/mlutils/torch.py#109\u001b\\\u001b[2m109\u001b[0m\u001b]8;;\u001b\\\n"
      ]
     },
     "metadata": {},
     "output_type": "display_data"
    },
    {
     "data": {
      "text/html": [
       "<pre style=\"white-space:pre;overflow-x:auto;line-height:normal;font-family:Menlo,'DejaVu Sans Mono',consolas,'Courier New',monospace\"><span style=\"color: #7fbfbf; text-decoration-color: #7fbfbf\">           </span>Epoch <span style=\"color: #008080; text-decoration-color: #008080; font-weight: bold\">34</span>/<span style=\"color: #008080; text-decoration-color: #008080; font-weight: bold\">99</span>                                                            <a href=\"file:///home/ngardn10/projects/cuticulus/cuticulus/mlutils/torch.py\"><span style=\"color: #7f7f7f; text-decoration-color: #7f7f7f\">torch.py</span></a><span style=\"color: #7f7f7f; text-decoration-color: #7f7f7f\">:</span><a href=\"file:///home/ngardn10/projects/cuticulus/cuticulus/mlutils/torch.py#63\"><span style=\"color: #7f7f7f; text-decoration-color: #7f7f7f\">63</span></a>\n",
       "</pre>\n"
      ],
      "text/plain": [
       "\u001b[2;36m          \u001b[0m\u001b[2;36m \u001b[0mEpoch \u001b[1;36m34\u001b[0m/\u001b[1;36m99\u001b[0m                                                            \u001b]8;id=931063;file:///home/ngardn10/projects/cuticulus/cuticulus/mlutils/torch.py\u001b\\\u001b[2mtorch.py\u001b[0m\u001b]8;;\u001b\\\u001b[2m:\u001b[0m\u001b]8;id=381187;file:///home/ngardn10/projects/cuticulus/cuticulus/mlutils/torch.py#63\u001b\\\u001b[2m63\u001b[0m\u001b]8;;\u001b\\\n"
      ]
     },
     "metadata": {},
     "output_type": "display_data"
    },
    {
     "data": {
      "text/html": [
       "<pre style=\"white-space:pre;overflow-x:auto;line-height:normal;font-family:Menlo,'DejaVu Sans Mono',consolas,'Courier New',monospace\"><span style=\"color: #7fbfbf; text-decoration-color: #7fbfbf\">           </span>----------                                                             <a href=\"file:///home/ngardn10/projects/cuticulus/cuticulus/mlutils/torch.py\"><span style=\"color: #7f7f7f; text-decoration-color: #7f7f7f\">torch.py</span></a><span style=\"color: #7f7f7f; text-decoration-color: #7f7f7f\">:</span><a href=\"file:///home/ngardn10/projects/cuticulus/cuticulus/mlutils/torch.py#64\"><span style=\"color: #7f7f7f; text-decoration-color: #7f7f7f\">64</span></a>\n",
       "</pre>\n"
      ],
      "text/plain": [
       "\u001b[2;36m          \u001b[0m\u001b[2;36m \u001b[0m----------                                                             \u001b]8;id=750407;file:///home/ngardn10/projects/cuticulus/cuticulus/mlutils/torch.py\u001b\\\u001b[2mtorch.py\u001b[0m\u001b]8;;\u001b\\\u001b[2m:\u001b[0m\u001b]8;id=334728;file:///home/ngardn10/projects/cuticulus/cuticulus/mlutils/torch.py#64\u001b\\\u001b[2m64\u001b[0m\u001b]8;;\u001b\\\n"
      ]
     },
     "metadata": {},
     "output_type": "display_data"
    },
    {
     "data": {
      "text/html": [
       "<pre style=\"white-space:pre;overflow-x:auto;line-height:normal;font-family:Menlo,'DejaVu Sans Mono',consolas,'Courier New',monospace\"><span style=\"color: #7fbfbf; text-decoration-color: #7fbfbf\">[14:41:06] </span>train Loss: <span style=\"color: #008080; text-decoration-color: #008080; font-weight: bold\">0.0186</span> Acc: <span style=\"color: #008080; text-decoration-color: #008080; font-weight: bold\">0.9935</span>                                        <a href=\"file:///home/ngardn10/projects/cuticulus/cuticulus/mlutils/torch.py\"><span style=\"color: #7f7f7f; text-decoration-color: #7f7f7f\">torch.py</span></a><span style=\"color: #7f7f7f; text-decoration-color: #7f7f7f\">:</span><a href=\"file:///home/ngardn10/projects/cuticulus/cuticulus/mlutils/torch.py#109\"><span style=\"color: #7f7f7f; text-decoration-color: #7f7f7f\">109</span></a>\n",
       "</pre>\n"
      ],
      "text/plain": [
       "\u001b[2;36m[14:41:06]\u001b[0m\u001b[2;36m \u001b[0mtrain Loss: \u001b[1;36m0.0186\u001b[0m Acc: \u001b[1;36m0.9935\u001b[0m                                        \u001b]8;id=5111;file:///home/ngardn10/projects/cuticulus/cuticulus/mlutils/torch.py\u001b\\\u001b[2mtorch.py\u001b[0m\u001b]8;;\u001b\\\u001b[2m:\u001b[0m\u001b]8;id=97366;file:///home/ngardn10/projects/cuticulus/cuticulus/mlutils/torch.py#109\u001b\\\u001b[2m109\u001b[0m\u001b]8;;\u001b\\\n"
      ]
     },
     "metadata": {},
     "output_type": "display_data"
    },
    {
     "data": {
      "text/html": [
       "<pre style=\"white-space:pre;overflow-x:auto;line-height:normal;font-family:Menlo,'DejaVu Sans Mono',consolas,'Courier New',monospace\"><span style=\"color: #7fbfbf; text-decoration-color: #7fbfbf\">           </span>val Loss: <span style=\"color: #008080; text-decoration-color: #008080; font-weight: bold\">1.0062</span> Acc: <span style=\"color: #008080; text-decoration-color: #008080; font-weight: bold\">0.7807</span>                                          <a href=\"file:///home/ngardn10/projects/cuticulus/cuticulus/mlutils/torch.py\"><span style=\"color: #7f7f7f; text-decoration-color: #7f7f7f\">torch.py</span></a><span style=\"color: #7f7f7f; text-decoration-color: #7f7f7f\">:</span><a href=\"file:///home/ngardn10/projects/cuticulus/cuticulus/mlutils/torch.py#109\"><span style=\"color: #7f7f7f; text-decoration-color: #7f7f7f\">109</span></a>\n",
       "</pre>\n"
      ],
      "text/plain": [
       "\u001b[2;36m          \u001b[0m\u001b[2;36m \u001b[0mval Loss: \u001b[1;36m1.0062\u001b[0m Acc: \u001b[1;36m0.7807\u001b[0m                                          \u001b]8;id=492233;file:///home/ngardn10/projects/cuticulus/cuticulus/mlutils/torch.py\u001b\\\u001b[2mtorch.py\u001b[0m\u001b]8;;\u001b\\\u001b[2m:\u001b[0m\u001b]8;id=450495;file:///home/ngardn10/projects/cuticulus/cuticulus/mlutils/torch.py#109\u001b\\\u001b[2m109\u001b[0m\u001b]8;;\u001b\\\n"
      ]
     },
     "metadata": {},
     "output_type": "display_data"
    },
    {
     "data": {
      "text/html": [
       "<pre style=\"white-space:pre;overflow-x:auto;line-height:normal;font-family:Menlo,'DejaVu Sans Mono',consolas,'Courier New',monospace\"><span style=\"color: #7fbfbf; text-decoration-color: #7fbfbf\">           </span>Epoch <span style=\"color: #008080; text-decoration-color: #008080; font-weight: bold\">35</span>/<span style=\"color: #008080; text-decoration-color: #008080; font-weight: bold\">99</span>                                                            <a href=\"file:///home/ngardn10/projects/cuticulus/cuticulus/mlutils/torch.py\"><span style=\"color: #7f7f7f; text-decoration-color: #7f7f7f\">torch.py</span></a><span style=\"color: #7f7f7f; text-decoration-color: #7f7f7f\">:</span><a href=\"file:///home/ngardn10/projects/cuticulus/cuticulus/mlutils/torch.py#63\"><span style=\"color: #7f7f7f; text-decoration-color: #7f7f7f\">63</span></a>\n",
       "</pre>\n"
      ],
      "text/plain": [
       "\u001b[2;36m          \u001b[0m\u001b[2;36m \u001b[0mEpoch \u001b[1;36m35\u001b[0m/\u001b[1;36m99\u001b[0m                                                            \u001b]8;id=202422;file:///home/ngardn10/projects/cuticulus/cuticulus/mlutils/torch.py\u001b\\\u001b[2mtorch.py\u001b[0m\u001b]8;;\u001b\\\u001b[2m:\u001b[0m\u001b]8;id=855334;file:///home/ngardn10/projects/cuticulus/cuticulus/mlutils/torch.py#63\u001b\\\u001b[2m63\u001b[0m\u001b]8;;\u001b\\\n"
      ]
     },
     "metadata": {},
     "output_type": "display_data"
    },
    {
     "data": {
      "text/html": [
       "<pre style=\"white-space:pre;overflow-x:auto;line-height:normal;font-family:Menlo,'DejaVu Sans Mono',consolas,'Courier New',monospace\"><span style=\"color: #7fbfbf; text-decoration-color: #7fbfbf\">           </span>----------                                                             <a href=\"file:///home/ngardn10/projects/cuticulus/cuticulus/mlutils/torch.py\"><span style=\"color: #7f7f7f; text-decoration-color: #7f7f7f\">torch.py</span></a><span style=\"color: #7f7f7f; text-decoration-color: #7f7f7f\">:</span><a href=\"file:///home/ngardn10/projects/cuticulus/cuticulus/mlutils/torch.py#64\"><span style=\"color: #7f7f7f; text-decoration-color: #7f7f7f\">64</span></a>\n",
       "</pre>\n"
      ],
      "text/plain": [
       "\u001b[2;36m          \u001b[0m\u001b[2;36m \u001b[0m----------                                                             \u001b]8;id=702863;file:///home/ngardn10/projects/cuticulus/cuticulus/mlutils/torch.py\u001b\\\u001b[2mtorch.py\u001b[0m\u001b]8;;\u001b\\\u001b[2m:\u001b[0m\u001b]8;id=616315;file:///home/ngardn10/projects/cuticulus/cuticulus/mlutils/torch.py#64\u001b\\\u001b[2m64\u001b[0m\u001b]8;;\u001b\\\n"
      ]
     },
     "metadata": {},
     "output_type": "display_data"
    },
    {
     "data": {
      "text/html": [
       "<pre style=\"white-space:pre;overflow-x:auto;line-height:normal;font-family:Menlo,'DejaVu Sans Mono',consolas,'Courier New',monospace\"><span style=\"color: #7fbfbf; text-decoration-color: #7fbfbf\">[14:41:08] </span>train Loss: <span style=\"color: #008080; text-decoration-color: #008080; font-weight: bold\">0.0073</span> Acc: <span style=\"color: #008080; text-decoration-color: #008080; font-weight: bold\">0.9985</span>                                        <a href=\"file:///home/ngardn10/projects/cuticulus/cuticulus/mlutils/torch.py\"><span style=\"color: #7f7f7f; text-decoration-color: #7f7f7f\">torch.py</span></a><span style=\"color: #7f7f7f; text-decoration-color: #7f7f7f\">:</span><a href=\"file:///home/ngardn10/projects/cuticulus/cuticulus/mlutils/torch.py#109\"><span style=\"color: #7f7f7f; text-decoration-color: #7f7f7f\">109</span></a>\n",
       "</pre>\n"
      ],
      "text/plain": [
       "\u001b[2;36m[14:41:08]\u001b[0m\u001b[2;36m \u001b[0mtrain Loss: \u001b[1;36m0.0073\u001b[0m Acc: \u001b[1;36m0.9985\u001b[0m                                        \u001b]8;id=934904;file:///home/ngardn10/projects/cuticulus/cuticulus/mlutils/torch.py\u001b\\\u001b[2mtorch.py\u001b[0m\u001b]8;;\u001b\\\u001b[2m:\u001b[0m\u001b]8;id=828836;file:///home/ngardn10/projects/cuticulus/cuticulus/mlutils/torch.py#109\u001b\\\u001b[2m109\u001b[0m\u001b]8;;\u001b\\\n"
      ]
     },
     "metadata": {},
     "output_type": "display_data"
    },
    {
     "data": {
      "text/html": [
       "<pre style=\"white-space:pre;overflow-x:auto;line-height:normal;font-family:Menlo,'DejaVu Sans Mono',consolas,'Courier New',monospace\"><span style=\"color: #7fbfbf; text-decoration-color: #7fbfbf\">           </span>val Loss: <span style=\"color: #008080; text-decoration-color: #008080; font-weight: bold\">0.9998</span> Acc: <span style=\"color: #008080; text-decoration-color: #008080; font-weight: bold\">0.7820</span>                                          <a href=\"file:///home/ngardn10/projects/cuticulus/cuticulus/mlutils/torch.py\"><span style=\"color: #7f7f7f; text-decoration-color: #7f7f7f\">torch.py</span></a><span style=\"color: #7f7f7f; text-decoration-color: #7f7f7f\">:</span><a href=\"file:///home/ngardn10/projects/cuticulus/cuticulus/mlutils/torch.py#109\"><span style=\"color: #7f7f7f; text-decoration-color: #7f7f7f\">109</span></a>\n",
       "</pre>\n"
      ],
      "text/plain": [
       "\u001b[2;36m          \u001b[0m\u001b[2;36m \u001b[0mval Loss: \u001b[1;36m0.9998\u001b[0m Acc: \u001b[1;36m0.7820\u001b[0m                                          \u001b]8;id=690604;file:///home/ngardn10/projects/cuticulus/cuticulus/mlutils/torch.py\u001b\\\u001b[2mtorch.py\u001b[0m\u001b]8;;\u001b\\\u001b[2m:\u001b[0m\u001b]8;id=615860;file:///home/ngardn10/projects/cuticulus/cuticulus/mlutils/torch.py#109\u001b\\\u001b[2m109\u001b[0m\u001b]8;;\u001b\\\n"
      ]
     },
     "metadata": {},
     "output_type": "display_data"
    },
    {
     "data": {
      "text/html": [
       "<pre style=\"white-space:pre;overflow-x:auto;line-height:normal;font-family:Menlo,'DejaVu Sans Mono',consolas,'Courier New',monospace\"><span style=\"color: #7fbfbf; text-decoration-color: #7fbfbf\">           </span>Epoch <span style=\"color: #008080; text-decoration-color: #008080; font-weight: bold\">36</span>/<span style=\"color: #008080; text-decoration-color: #008080; font-weight: bold\">99</span>                                                            <a href=\"file:///home/ngardn10/projects/cuticulus/cuticulus/mlutils/torch.py\"><span style=\"color: #7f7f7f; text-decoration-color: #7f7f7f\">torch.py</span></a><span style=\"color: #7f7f7f; text-decoration-color: #7f7f7f\">:</span><a href=\"file:///home/ngardn10/projects/cuticulus/cuticulus/mlutils/torch.py#63\"><span style=\"color: #7f7f7f; text-decoration-color: #7f7f7f\">63</span></a>\n",
       "</pre>\n"
      ],
      "text/plain": [
       "\u001b[2;36m          \u001b[0m\u001b[2;36m \u001b[0mEpoch \u001b[1;36m36\u001b[0m/\u001b[1;36m99\u001b[0m                                                            \u001b]8;id=511298;file:///home/ngardn10/projects/cuticulus/cuticulus/mlutils/torch.py\u001b\\\u001b[2mtorch.py\u001b[0m\u001b]8;;\u001b\\\u001b[2m:\u001b[0m\u001b]8;id=622424;file:///home/ngardn10/projects/cuticulus/cuticulus/mlutils/torch.py#63\u001b\\\u001b[2m63\u001b[0m\u001b]8;;\u001b\\\n"
      ]
     },
     "metadata": {},
     "output_type": "display_data"
    },
    {
     "data": {
      "text/html": [
       "<pre style=\"white-space:pre;overflow-x:auto;line-height:normal;font-family:Menlo,'DejaVu Sans Mono',consolas,'Courier New',monospace\"><span style=\"color: #7fbfbf; text-decoration-color: #7fbfbf\">           </span>----------                                                             <a href=\"file:///home/ngardn10/projects/cuticulus/cuticulus/mlutils/torch.py\"><span style=\"color: #7f7f7f; text-decoration-color: #7f7f7f\">torch.py</span></a><span style=\"color: #7f7f7f; text-decoration-color: #7f7f7f\">:</span><a href=\"file:///home/ngardn10/projects/cuticulus/cuticulus/mlutils/torch.py#64\"><span style=\"color: #7f7f7f; text-decoration-color: #7f7f7f\">64</span></a>\n",
       "</pre>\n"
      ],
      "text/plain": [
       "\u001b[2;36m          \u001b[0m\u001b[2;36m \u001b[0m----------                                                             \u001b]8;id=677336;file:///home/ngardn10/projects/cuticulus/cuticulus/mlutils/torch.py\u001b\\\u001b[2mtorch.py\u001b[0m\u001b]8;;\u001b\\\u001b[2m:\u001b[0m\u001b]8;id=239567;file:///home/ngardn10/projects/cuticulus/cuticulus/mlutils/torch.py#64\u001b\\\u001b[2m64\u001b[0m\u001b]8;;\u001b\\\n"
      ]
     },
     "metadata": {},
     "output_type": "display_data"
    },
    {
     "data": {
      "text/html": [
       "<pre style=\"white-space:pre;overflow-x:auto;line-height:normal;font-family:Menlo,'DejaVu Sans Mono',consolas,'Courier New',monospace\"><span style=\"color: #7fbfbf; text-decoration-color: #7fbfbf\">[14:41:10] </span>train Loss: <span style=\"color: #008080; text-decoration-color: #008080; font-weight: bold\">0.0149</span> Acc: <span style=\"color: #008080; text-decoration-color: #008080; font-weight: bold\">0.9960</span>                                        <a href=\"file:///home/ngardn10/projects/cuticulus/cuticulus/mlutils/torch.py\"><span style=\"color: #7f7f7f; text-decoration-color: #7f7f7f\">torch.py</span></a><span style=\"color: #7f7f7f; text-decoration-color: #7f7f7f\">:</span><a href=\"file:///home/ngardn10/projects/cuticulus/cuticulus/mlutils/torch.py#109\"><span style=\"color: #7f7f7f; text-decoration-color: #7f7f7f\">109</span></a>\n",
       "</pre>\n"
      ],
      "text/plain": [
       "\u001b[2;36m[14:41:10]\u001b[0m\u001b[2;36m \u001b[0mtrain Loss: \u001b[1;36m0.0149\u001b[0m Acc: \u001b[1;36m0.9960\u001b[0m                                        \u001b]8;id=273065;file:///home/ngardn10/projects/cuticulus/cuticulus/mlutils/torch.py\u001b\\\u001b[2mtorch.py\u001b[0m\u001b]8;;\u001b\\\u001b[2m:\u001b[0m\u001b]8;id=854676;file:///home/ngardn10/projects/cuticulus/cuticulus/mlutils/torch.py#109\u001b\\\u001b[2m109\u001b[0m\u001b]8;;\u001b\\\n"
      ]
     },
     "metadata": {},
     "output_type": "display_data"
    },
    {
     "data": {
      "text/html": [
       "<pre style=\"white-space:pre;overflow-x:auto;line-height:normal;font-family:Menlo,'DejaVu Sans Mono',consolas,'Courier New',monospace\"><span style=\"color: #7fbfbf; text-decoration-color: #7fbfbf\">           </span>val Loss: <span style=\"color: #008080; text-decoration-color: #008080; font-weight: bold\">0.9786</span> Acc: <span style=\"color: #008080; text-decoration-color: #008080; font-weight: bold\">0.7794</span>                                          <a href=\"file:///home/ngardn10/projects/cuticulus/cuticulus/mlutils/torch.py\"><span style=\"color: #7f7f7f; text-decoration-color: #7f7f7f\">torch.py</span></a><span style=\"color: #7f7f7f; text-decoration-color: #7f7f7f\">:</span><a href=\"file:///home/ngardn10/projects/cuticulus/cuticulus/mlutils/torch.py#109\"><span style=\"color: #7f7f7f; text-decoration-color: #7f7f7f\">109</span></a>\n",
       "</pre>\n"
      ],
      "text/plain": [
       "\u001b[2;36m          \u001b[0m\u001b[2;36m \u001b[0mval Loss: \u001b[1;36m0.9786\u001b[0m Acc: \u001b[1;36m0.7794\u001b[0m                                          \u001b]8;id=318643;file:///home/ngardn10/projects/cuticulus/cuticulus/mlutils/torch.py\u001b\\\u001b[2mtorch.py\u001b[0m\u001b]8;;\u001b\\\u001b[2m:\u001b[0m\u001b]8;id=830503;file:///home/ngardn10/projects/cuticulus/cuticulus/mlutils/torch.py#109\u001b\\\u001b[2m109\u001b[0m\u001b]8;;\u001b\\\n"
      ]
     },
     "metadata": {},
     "output_type": "display_data"
    },
    {
     "data": {
      "text/html": [
       "<pre style=\"white-space:pre;overflow-x:auto;line-height:normal;font-family:Menlo,'DejaVu Sans Mono',consolas,'Courier New',monospace\"><span style=\"color: #7fbfbf; text-decoration-color: #7fbfbf\">           </span>Epoch <span style=\"color: #008080; text-decoration-color: #008080; font-weight: bold\">37</span>/<span style=\"color: #008080; text-decoration-color: #008080; font-weight: bold\">99</span>                                                            <a href=\"file:///home/ngardn10/projects/cuticulus/cuticulus/mlutils/torch.py\"><span style=\"color: #7f7f7f; text-decoration-color: #7f7f7f\">torch.py</span></a><span style=\"color: #7f7f7f; text-decoration-color: #7f7f7f\">:</span><a href=\"file:///home/ngardn10/projects/cuticulus/cuticulus/mlutils/torch.py#63\"><span style=\"color: #7f7f7f; text-decoration-color: #7f7f7f\">63</span></a>\n",
       "</pre>\n"
      ],
      "text/plain": [
       "\u001b[2;36m          \u001b[0m\u001b[2;36m \u001b[0mEpoch \u001b[1;36m37\u001b[0m/\u001b[1;36m99\u001b[0m                                                            \u001b]8;id=864557;file:///home/ngardn10/projects/cuticulus/cuticulus/mlutils/torch.py\u001b\\\u001b[2mtorch.py\u001b[0m\u001b]8;;\u001b\\\u001b[2m:\u001b[0m\u001b]8;id=282577;file:///home/ngardn10/projects/cuticulus/cuticulus/mlutils/torch.py#63\u001b\\\u001b[2m63\u001b[0m\u001b]8;;\u001b\\\n"
      ]
     },
     "metadata": {},
     "output_type": "display_data"
    },
    {
     "data": {
      "text/html": [
       "<pre style=\"white-space:pre;overflow-x:auto;line-height:normal;font-family:Menlo,'DejaVu Sans Mono',consolas,'Courier New',monospace\"><span style=\"color: #7fbfbf; text-decoration-color: #7fbfbf\">           </span>----------                                                             <a href=\"file:///home/ngardn10/projects/cuticulus/cuticulus/mlutils/torch.py\"><span style=\"color: #7f7f7f; text-decoration-color: #7f7f7f\">torch.py</span></a><span style=\"color: #7f7f7f; text-decoration-color: #7f7f7f\">:</span><a href=\"file:///home/ngardn10/projects/cuticulus/cuticulus/mlutils/torch.py#64\"><span style=\"color: #7f7f7f; text-decoration-color: #7f7f7f\">64</span></a>\n",
       "</pre>\n"
      ],
      "text/plain": [
       "\u001b[2;36m          \u001b[0m\u001b[2;36m \u001b[0m----------                                                             \u001b]8;id=312616;file:///home/ngardn10/projects/cuticulus/cuticulus/mlutils/torch.py\u001b\\\u001b[2mtorch.py\u001b[0m\u001b]8;;\u001b\\\u001b[2m:\u001b[0m\u001b]8;id=839280;file:///home/ngardn10/projects/cuticulus/cuticulus/mlutils/torch.py#64\u001b\\\u001b[2m64\u001b[0m\u001b]8;;\u001b\\\n"
      ]
     },
     "metadata": {},
     "output_type": "display_data"
    },
    {
     "data": {
      "text/html": [
       "<pre style=\"white-space:pre;overflow-x:auto;line-height:normal;font-family:Menlo,'DejaVu Sans Mono',consolas,'Courier New',monospace\"><span style=\"color: #7fbfbf; text-decoration-color: #7fbfbf\">[14:41:12] </span>train Loss: <span style=\"color: #008080; text-decoration-color: #008080; font-weight: bold\">0.0157</span> Acc: <span style=\"color: #008080; text-decoration-color: #008080; font-weight: bold\">0.9950</span>                                        <a href=\"file:///home/ngardn10/projects/cuticulus/cuticulus/mlutils/torch.py\"><span style=\"color: #7f7f7f; text-decoration-color: #7f7f7f\">torch.py</span></a><span style=\"color: #7f7f7f; text-decoration-color: #7f7f7f\">:</span><a href=\"file:///home/ngardn10/projects/cuticulus/cuticulus/mlutils/torch.py#109\"><span style=\"color: #7f7f7f; text-decoration-color: #7f7f7f\">109</span></a>\n",
       "</pre>\n"
      ],
      "text/plain": [
       "\u001b[2;36m[14:41:12]\u001b[0m\u001b[2;36m \u001b[0mtrain Loss: \u001b[1;36m0.0157\u001b[0m Acc: \u001b[1;36m0.9950\u001b[0m                                        \u001b]8;id=387479;file:///home/ngardn10/projects/cuticulus/cuticulus/mlutils/torch.py\u001b\\\u001b[2mtorch.py\u001b[0m\u001b]8;;\u001b\\\u001b[2m:\u001b[0m\u001b]8;id=886647;file:///home/ngardn10/projects/cuticulus/cuticulus/mlutils/torch.py#109\u001b\\\u001b[2m109\u001b[0m\u001b]8;;\u001b\\\n"
      ]
     },
     "metadata": {},
     "output_type": "display_data"
    },
    {
     "data": {
      "text/html": [
       "<pre style=\"white-space:pre;overflow-x:auto;line-height:normal;font-family:Menlo,'DejaVu Sans Mono',consolas,'Courier New',monospace\"><span style=\"color: #7fbfbf; text-decoration-color: #7fbfbf\">           </span>val Loss: <span style=\"color: #008080; text-decoration-color: #008080; font-weight: bold\">0.9804</span> Acc: <span style=\"color: #008080; text-decoration-color: #008080; font-weight: bold\">0.7728</span>                                          <a href=\"file:///home/ngardn10/projects/cuticulus/cuticulus/mlutils/torch.py\"><span style=\"color: #7f7f7f; text-decoration-color: #7f7f7f\">torch.py</span></a><span style=\"color: #7f7f7f; text-decoration-color: #7f7f7f\">:</span><a href=\"file:///home/ngardn10/projects/cuticulus/cuticulus/mlutils/torch.py#109\"><span style=\"color: #7f7f7f; text-decoration-color: #7f7f7f\">109</span></a>\n",
       "</pre>\n"
      ],
      "text/plain": [
       "\u001b[2;36m          \u001b[0m\u001b[2;36m \u001b[0mval Loss: \u001b[1;36m0.9804\u001b[0m Acc: \u001b[1;36m0.7728\u001b[0m                                          \u001b]8;id=6069;file:///home/ngardn10/projects/cuticulus/cuticulus/mlutils/torch.py\u001b\\\u001b[2mtorch.py\u001b[0m\u001b]8;;\u001b\\\u001b[2m:\u001b[0m\u001b]8;id=367385;file:///home/ngardn10/projects/cuticulus/cuticulus/mlutils/torch.py#109\u001b\\\u001b[2m109\u001b[0m\u001b]8;;\u001b\\\n"
      ]
     },
     "metadata": {},
     "output_type": "display_data"
    },
    {
     "data": {
      "text/html": [
       "<pre style=\"white-space:pre;overflow-x:auto;line-height:normal;font-family:Menlo,'DejaVu Sans Mono',consolas,'Courier New',monospace\"><span style=\"color: #7fbfbf; text-decoration-color: #7fbfbf\">           </span>Epoch <span style=\"color: #008080; text-decoration-color: #008080; font-weight: bold\">38</span>/<span style=\"color: #008080; text-decoration-color: #008080; font-weight: bold\">99</span>                                                            <a href=\"file:///home/ngardn10/projects/cuticulus/cuticulus/mlutils/torch.py\"><span style=\"color: #7f7f7f; text-decoration-color: #7f7f7f\">torch.py</span></a><span style=\"color: #7f7f7f; text-decoration-color: #7f7f7f\">:</span><a href=\"file:///home/ngardn10/projects/cuticulus/cuticulus/mlutils/torch.py#63\"><span style=\"color: #7f7f7f; text-decoration-color: #7f7f7f\">63</span></a>\n",
       "</pre>\n"
      ],
      "text/plain": [
       "\u001b[2;36m          \u001b[0m\u001b[2;36m \u001b[0mEpoch \u001b[1;36m38\u001b[0m/\u001b[1;36m99\u001b[0m                                                            \u001b]8;id=600308;file:///home/ngardn10/projects/cuticulus/cuticulus/mlutils/torch.py\u001b\\\u001b[2mtorch.py\u001b[0m\u001b]8;;\u001b\\\u001b[2m:\u001b[0m\u001b]8;id=228585;file:///home/ngardn10/projects/cuticulus/cuticulus/mlutils/torch.py#63\u001b\\\u001b[2m63\u001b[0m\u001b]8;;\u001b\\\n"
      ]
     },
     "metadata": {},
     "output_type": "display_data"
    },
    {
     "data": {
      "text/html": [
       "<pre style=\"white-space:pre;overflow-x:auto;line-height:normal;font-family:Menlo,'DejaVu Sans Mono',consolas,'Courier New',monospace\"><span style=\"color: #7fbfbf; text-decoration-color: #7fbfbf\">           </span>----------                                                             <a href=\"file:///home/ngardn10/projects/cuticulus/cuticulus/mlutils/torch.py\"><span style=\"color: #7f7f7f; text-decoration-color: #7f7f7f\">torch.py</span></a><span style=\"color: #7f7f7f; text-decoration-color: #7f7f7f\">:</span><a href=\"file:///home/ngardn10/projects/cuticulus/cuticulus/mlutils/torch.py#64\"><span style=\"color: #7f7f7f; text-decoration-color: #7f7f7f\">64</span></a>\n",
       "</pre>\n"
      ],
      "text/plain": [
       "\u001b[2;36m          \u001b[0m\u001b[2;36m \u001b[0m----------                                                             \u001b]8;id=370019;file:///home/ngardn10/projects/cuticulus/cuticulus/mlutils/torch.py\u001b\\\u001b[2mtorch.py\u001b[0m\u001b]8;;\u001b\\\u001b[2m:\u001b[0m\u001b]8;id=603643;file:///home/ngardn10/projects/cuticulus/cuticulus/mlutils/torch.py#64\u001b\\\u001b[2m64\u001b[0m\u001b]8;;\u001b\\\n"
      ]
     },
     "metadata": {},
     "output_type": "display_data"
    },
    {
     "data": {
      "text/html": [
       "<pre style=\"white-space:pre;overflow-x:auto;line-height:normal;font-family:Menlo,'DejaVu Sans Mono',consolas,'Courier New',monospace\"><span style=\"color: #7fbfbf; text-decoration-color: #7fbfbf\">[14:41:14] </span>train Loss: <span style=\"color: #008080; text-decoration-color: #008080; font-weight: bold\">0.0190</span> Acc: <span style=\"color: #008080; text-decoration-color: #008080; font-weight: bold\">0.9940</span>                                        <a href=\"file:///home/ngardn10/projects/cuticulus/cuticulus/mlutils/torch.py\"><span style=\"color: #7f7f7f; text-decoration-color: #7f7f7f\">torch.py</span></a><span style=\"color: #7f7f7f; text-decoration-color: #7f7f7f\">:</span><a href=\"file:///home/ngardn10/projects/cuticulus/cuticulus/mlutils/torch.py#109\"><span style=\"color: #7f7f7f; text-decoration-color: #7f7f7f\">109</span></a>\n",
       "</pre>\n"
      ],
      "text/plain": [
       "\u001b[2;36m[14:41:14]\u001b[0m\u001b[2;36m \u001b[0mtrain Loss: \u001b[1;36m0.0190\u001b[0m Acc: \u001b[1;36m0.9940\u001b[0m                                        \u001b]8;id=518086;file:///home/ngardn10/projects/cuticulus/cuticulus/mlutils/torch.py\u001b\\\u001b[2mtorch.py\u001b[0m\u001b]8;;\u001b\\\u001b[2m:\u001b[0m\u001b]8;id=234668;file:///home/ngardn10/projects/cuticulus/cuticulus/mlutils/torch.py#109\u001b\\\u001b[2m109\u001b[0m\u001b]8;;\u001b\\\n"
      ]
     },
     "metadata": {},
     "output_type": "display_data"
    },
    {
     "data": {
      "text/html": [
       "<pre style=\"white-space:pre;overflow-x:auto;line-height:normal;font-family:Menlo,'DejaVu Sans Mono',consolas,'Courier New',monospace\"><span style=\"color: #7fbfbf; text-decoration-color: #7fbfbf\">           </span>val Loss: <span style=\"color: #008080; text-decoration-color: #008080; font-weight: bold\">0.8825</span> Acc: <span style=\"color: #008080; text-decoration-color: #008080; font-weight: bold\">0.7794</span>                                          <a href=\"file:///home/ngardn10/projects/cuticulus/cuticulus/mlutils/torch.py\"><span style=\"color: #7f7f7f; text-decoration-color: #7f7f7f\">torch.py</span></a><span style=\"color: #7f7f7f; text-decoration-color: #7f7f7f\">:</span><a href=\"file:///home/ngardn10/projects/cuticulus/cuticulus/mlutils/torch.py#109\"><span style=\"color: #7f7f7f; text-decoration-color: #7f7f7f\">109</span></a>\n",
       "</pre>\n"
      ],
      "text/plain": [
       "\u001b[2;36m          \u001b[0m\u001b[2;36m \u001b[0mval Loss: \u001b[1;36m0.8825\u001b[0m Acc: \u001b[1;36m0.7794\u001b[0m                                          \u001b]8;id=47150;file:///home/ngardn10/projects/cuticulus/cuticulus/mlutils/torch.py\u001b\\\u001b[2mtorch.py\u001b[0m\u001b]8;;\u001b\\\u001b[2m:\u001b[0m\u001b]8;id=535522;file:///home/ngardn10/projects/cuticulus/cuticulus/mlutils/torch.py#109\u001b\\\u001b[2m109\u001b[0m\u001b]8;;\u001b\\\n"
      ]
     },
     "metadata": {},
     "output_type": "display_data"
    },
    {
     "data": {
      "text/html": [
       "<pre style=\"white-space:pre;overflow-x:auto;line-height:normal;font-family:Menlo,'DejaVu Sans Mono',consolas,'Courier New',monospace\"><span style=\"color: #7fbfbf; text-decoration-color: #7fbfbf\">           </span>Epoch <span style=\"color: #008080; text-decoration-color: #008080; font-weight: bold\">39</span>/<span style=\"color: #008080; text-decoration-color: #008080; font-weight: bold\">99</span>                                                            <a href=\"file:///home/ngardn10/projects/cuticulus/cuticulus/mlutils/torch.py\"><span style=\"color: #7f7f7f; text-decoration-color: #7f7f7f\">torch.py</span></a><span style=\"color: #7f7f7f; text-decoration-color: #7f7f7f\">:</span><a href=\"file:///home/ngardn10/projects/cuticulus/cuticulus/mlutils/torch.py#63\"><span style=\"color: #7f7f7f; text-decoration-color: #7f7f7f\">63</span></a>\n",
       "</pre>\n"
      ],
      "text/plain": [
       "\u001b[2;36m          \u001b[0m\u001b[2;36m \u001b[0mEpoch \u001b[1;36m39\u001b[0m/\u001b[1;36m99\u001b[0m                                                            \u001b]8;id=903082;file:///home/ngardn10/projects/cuticulus/cuticulus/mlutils/torch.py\u001b\\\u001b[2mtorch.py\u001b[0m\u001b]8;;\u001b\\\u001b[2m:\u001b[0m\u001b]8;id=342097;file:///home/ngardn10/projects/cuticulus/cuticulus/mlutils/torch.py#63\u001b\\\u001b[2m63\u001b[0m\u001b]8;;\u001b\\\n"
      ]
     },
     "metadata": {},
     "output_type": "display_data"
    },
    {
     "data": {
      "text/html": [
       "<pre style=\"white-space:pre;overflow-x:auto;line-height:normal;font-family:Menlo,'DejaVu Sans Mono',consolas,'Courier New',monospace\"><span style=\"color: #7fbfbf; text-decoration-color: #7fbfbf\">           </span>----------                                                             <a href=\"file:///home/ngardn10/projects/cuticulus/cuticulus/mlutils/torch.py\"><span style=\"color: #7f7f7f; text-decoration-color: #7f7f7f\">torch.py</span></a><span style=\"color: #7f7f7f; text-decoration-color: #7f7f7f\">:</span><a href=\"file:///home/ngardn10/projects/cuticulus/cuticulus/mlutils/torch.py#64\"><span style=\"color: #7f7f7f; text-decoration-color: #7f7f7f\">64</span></a>\n",
       "</pre>\n"
      ],
      "text/plain": [
       "\u001b[2;36m          \u001b[0m\u001b[2;36m \u001b[0m----------                                                             \u001b]8;id=676421;file:///home/ngardn10/projects/cuticulus/cuticulus/mlutils/torch.py\u001b\\\u001b[2mtorch.py\u001b[0m\u001b]8;;\u001b\\\u001b[2m:\u001b[0m\u001b]8;id=798269;file:///home/ngardn10/projects/cuticulus/cuticulus/mlutils/torch.py#64\u001b\\\u001b[2m64\u001b[0m\u001b]8;;\u001b\\\n"
      ]
     },
     "metadata": {},
     "output_type": "display_data"
    },
    {
     "data": {
      "text/html": [
       "<pre style=\"white-space:pre;overflow-x:auto;line-height:normal;font-family:Menlo,'DejaVu Sans Mono',consolas,'Courier New',monospace\"><span style=\"color: #7fbfbf; text-decoration-color: #7fbfbf\">[14:41:15] </span>train Loss: <span style=\"color: #008080; text-decoration-color: #008080; font-weight: bold\">0.0088</span> Acc: <span style=\"color: #008080; text-decoration-color: #008080; font-weight: bold\">0.9965</span>                                        <a href=\"file:///home/ngardn10/projects/cuticulus/cuticulus/mlutils/torch.py\"><span style=\"color: #7f7f7f; text-decoration-color: #7f7f7f\">torch.py</span></a><span style=\"color: #7f7f7f; text-decoration-color: #7f7f7f\">:</span><a href=\"file:///home/ngardn10/projects/cuticulus/cuticulus/mlutils/torch.py#109\"><span style=\"color: #7f7f7f; text-decoration-color: #7f7f7f\">109</span></a>\n",
       "</pre>\n"
      ],
      "text/plain": [
       "\u001b[2;36m[14:41:15]\u001b[0m\u001b[2;36m \u001b[0mtrain Loss: \u001b[1;36m0.0088\u001b[0m Acc: \u001b[1;36m0.9965\u001b[0m                                        \u001b]8;id=933304;file:///home/ngardn10/projects/cuticulus/cuticulus/mlutils/torch.py\u001b\\\u001b[2mtorch.py\u001b[0m\u001b]8;;\u001b\\\u001b[2m:\u001b[0m\u001b]8;id=503338;file:///home/ngardn10/projects/cuticulus/cuticulus/mlutils/torch.py#109\u001b\\\u001b[2m109\u001b[0m\u001b]8;;\u001b\\\n"
      ]
     },
     "metadata": {},
     "output_type": "display_data"
    },
    {
     "data": {
      "text/html": [
       "<pre style=\"white-space:pre;overflow-x:auto;line-height:normal;font-family:Menlo,'DejaVu Sans Mono',consolas,'Courier New',monospace\"><span style=\"color: #7fbfbf; text-decoration-color: #7fbfbf\">[14:41:16] </span>val Loss: <span style=\"color: #008080; text-decoration-color: #008080; font-weight: bold\">0.9997</span> Acc: <span style=\"color: #008080; text-decoration-color: #008080; font-weight: bold\">0.7950</span>                                          <a href=\"file:///home/ngardn10/projects/cuticulus/cuticulus/mlutils/torch.py\"><span style=\"color: #7f7f7f; text-decoration-color: #7f7f7f\">torch.py</span></a><span style=\"color: #7f7f7f; text-decoration-color: #7f7f7f\">:</span><a href=\"file:///home/ngardn10/projects/cuticulus/cuticulus/mlutils/torch.py#109\"><span style=\"color: #7f7f7f; text-decoration-color: #7f7f7f\">109</span></a>\n",
       "</pre>\n"
      ],
      "text/plain": [
       "\u001b[2;36m[14:41:16]\u001b[0m\u001b[2;36m \u001b[0mval Loss: \u001b[1;36m0.9997\u001b[0m Acc: \u001b[1;36m0.7950\u001b[0m                                          \u001b]8;id=935608;file:///home/ngardn10/projects/cuticulus/cuticulus/mlutils/torch.py\u001b\\\u001b[2mtorch.py\u001b[0m\u001b]8;;\u001b\\\u001b[2m:\u001b[0m\u001b]8;id=258645;file:///home/ngardn10/projects/cuticulus/cuticulus/mlutils/torch.py#109\u001b\\\u001b[2m109\u001b[0m\u001b]8;;\u001b\\\n"
      ]
     },
     "metadata": {},
     "output_type": "display_data"
    },
    {
     "data": {
      "text/html": [
       "<pre style=\"white-space:pre;overflow-x:auto;line-height:normal;font-family:Menlo,'DejaVu Sans Mono',consolas,'Courier New',monospace\"><span style=\"color: #7fbfbf; text-decoration-color: #7fbfbf\">           </span>Epoch <span style=\"color: #008080; text-decoration-color: #008080; font-weight: bold\">40</span>/<span style=\"color: #008080; text-decoration-color: #008080; font-weight: bold\">99</span>                                                            <a href=\"file:///home/ngardn10/projects/cuticulus/cuticulus/mlutils/torch.py\"><span style=\"color: #7f7f7f; text-decoration-color: #7f7f7f\">torch.py</span></a><span style=\"color: #7f7f7f; text-decoration-color: #7f7f7f\">:</span><a href=\"file:///home/ngardn10/projects/cuticulus/cuticulus/mlutils/torch.py#63\"><span style=\"color: #7f7f7f; text-decoration-color: #7f7f7f\">63</span></a>\n",
       "</pre>\n"
      ],
      "text/plain": [
       "\u001b[2;36m          \u001b[0m\u001b[2;36m \u001b[0mEpoch \u001b[1;36m40\u001b[0m/\u001b[1;36m99\u001b[0m                                                            \u001b]8;id=660691;file:///home/ngardn10/projects/cuticulus/cuticulus/mlutils/torch.py\u001b\\\u001b[2mtorch.py\u001b[0m\u001b]8;;\u001b\\\u001b[2m:\u001b[0m\u001b]8;id=512043;file:///home/ngardn10/projects/cuticulus/cuticulus/mlutils/torch.py#63\u001b\\\u001b[2m63\u001b[0m\u001b]8;;\u001b\\\n"
      ]
     },
     "metadata": {},
     "output_type": "display_data"
    },
    {
     "data": {
      "text/html": [
       "<pre style=\"white-space:pre;overflow-x:auto;line-height:normal;font-family:Menlo,'DejaVu Sans Mono',consolas,'Courier New',monospace\"><span style=\"color: #7fbfbf; text-decoration-color: #7fbfbf\">           </span>----------                                                             <a href=\"file:///home/ngardn10/projects/cuticulus/cuticulus/mlutils/torch.py\"><span style=\"color: #7f7f7f; text-decoration-color: #7f7f7f\">torch.py</span></a><span style=\"color: #7f7f7f; text-decoration-color: #7f7f7f\">:</span><a href=\"file:///home/ngardn10/projects/cuticulus/cuticulus/mlutils/torch.py#64\"><span style=\"color: #7f7f7f; text-decoration-color: #7f7f7f\">64</span></a>\n",
       "</pre>\n"
      ],
      "text/plain": [
       "\u001b[2;36m          \u001b[0m\u001b[2;36m \u001b[0m----------                                                             \u001b]8;id=152070;file:///home/ngardn10/projects/cuticulus/cuticulus/mlutils/torch.py\u001b\\\u001b[2mtorch.py\u001b[0m\u001b]8;;\u001b\\\u001b[2m:\u001b[0m\u001b]8;id=709129;file:///home/ngardn10/projects/cuticulus/cuticulus/mlutils/torch.py#64\u001b\\\u001b[2m64\u001b[0m\u001b]8;;\u001b\\\n"
      ]
     },
     "metadata": {},
     "output_type": "display_data"
    },
    {
     "data": {
      "text/html": [
       "<pre style=\"white-space:pre;overflow-x:auto;line-height:normal;font-family:Menlo,'DejaVu Sans Mono',consolas,'Courier New',monospace\"><span style=\"color: #7fbfbf; text-decoration-color: #7fbfbf\">[14:41:17] </span>train Loss: <span style=\"color: #008080; text-decoration-color: #008080; font-weight: bold\">0.0081</span> Acc: <span style=\"color: #008080; text-decoration-color: #008080; font-weight: bold\">0.9970</span>                                        <a href=\"file:///home/ngardn10/projects/cuticulus/cuticulus/mlutils/torch.py\"><span style=\"color: #7f7f7f; text-decoration-color: #7f7f7f\">torch.py</span></a><span style=\"color: #7f7f7f; text-decoration-color: #7f7f7f\">:</span><a href=\"file:///home/ngardn10/projects/cuticulus/cuticulus/mlutils/torch.py#109\"><span style=\"color: #7f7f7f; text-decoration-color: #7f7f7f\">109</span></a>\n",
       "</pre>\n"
      ],
      "text/plain": [
       "\u001b[2;36m[14:41:17]\u001b[0m\u001b[2;36m \u001b[0mtrain Loss: \u001b[1;36m0.0081\u001b[0m Acc: \u001b[1;36m0.9970\u001b[0m                                        \u001b]8;id=563992;file:///home/ngardn10/projects/cuticulus/cuticulus/mlutils/torch.py\u001b\\\u001b[2mtorch.py\u001b[0m\u001b]8;;\u001b\\\u001b[2m:\u001b[0m\u001b]8;id=999797;file:///home/ngardn10/projects/cuticulus/cuticulus/mlutils/torch.py#109\u001b\\\u001b[2m109\u001b[0m\u001b]8;;\u001b\\\n"
      ]
     },
     "metadata": {},
     "output_type": "display_data"
    },
    {
     "data": {
      "text/html": [
       "<pre style=\"white-space:pre;overflow-x:auto;line-height:normal;font-family:Menlo,'DejaVu Sans Mono',consolas,'Courier New',monospace\"><span style=\"color: #7fbfbf; text-decoration-color: #7fbfbf\">[14:41:18] </span>val Loss: <span style=\"color: #008080; text-decoration-color: #008080; font-weight: bold\">1.0752</span> Acc: <span style=\"color: #008080; text-decoration-color: #008080; font-weight: bold\">0.7898</span>                                          <a href=\"file:///home/ngardn10/projects/cuticulus/cuticulus/mlutils/torch.py\"><span style=\"color: #7f7f7f; text-decoration-color: #7f7f7f\">torch.py</span></a><span style=\"color: #7f7f7f; text-decoration-color: #7f7f7f\">:</span><a href=\"file:///home/ngardn10/projects/cuticulus/cuticulus/mlutils/torch.py#109\"><span style=\"color: #7f7f7f; text-decoration-color: #7f7f7f\">109</span></a>\n",
       "</pre>\n"
      ],
      "text/plain": [
       "\u001b[2;36m[14:41:18]\u001b[0m\u001b[2;36m \u001b[0mval Loss: \u001b[1;36m1.0752\u001b[0m Acc: \u001b[1;36m0.7898\u001b[0m                                          \u001b]8;id=333272;file:///home/ngardn10/projects/cuticulus/cuticulus/mlutils/torch.py\u001b\\\u001b[2mtorch.py\u001b[0m\u001b]8;;\u001b\\\u001b[2m:\u001b[0m\u001b]8;id=579997;file:///home/ngardn10/projects/cuticulus/cuticulus/mlutils/torch.py#109\u001b\\\u001b[2m109\u001b[0m\u001b]8;;\u001b\\\n"
      ]
     },
     "metadata": {},
     "output_type": "display_data"
    },
    {
     "data": {
      "text/html": [
       "<pre style=\"white-space:pre;overflow-x:auto;line-height:normal;font-family:Menlo,'DejaVu Sans Mono',consolas,'Courier New',monospace\"><span style=\"color: #7fbfbf; text-decoration-color: #7fbfbf\">           </span>Epoch <span style=\"color: #008080; text-decoration-color: #008080; font-weight: bold\">41</span>/<span style=\"color: #008080; text-decoration-color: #008080; font-weight: bold\">99</span>                                                            <a href=\"file:///home/ngardn10/projects/cuticulus/cuticulus/mlutils/torch.py\"><span style=\"color: #7f7f7f; text-decoration-color: #7f7f7f\">torch.py</span></a><span style=\"color: #7f7f7f; text-decoration-color: #7f7f7f\">:</span><a href=\"file:///home/ngardn10/projects/cuticulus/cuticulus/mlutils/torch.py#63\"><span style=\"color: #7f7f7f; text-decoration-color: #7f7f7f\">63</span></a>\n",
       "</pre>\n"
      ],
      "text/plain": [
       "\u001b[2;36m          \u001b[0m\u001b[2;36m \u001b[0mEpoch \u001b[1;36m41\u001b[0m/\u001b[1;36m99\u001b[0m                                                            \u001b]8;id=916293;file:///home/ngardn10/projects/cuticulus/cuticulus/mlutils/torch.py\u001b\\\u001b[2mtorch.py\u001b[0m\u001b]8;;\u001b\\\u001b[2m:\u001b[0m\u001b]8;id=97285;file:///home/ngardn10/projects/cuticulus/cuticulus/mlutils/torch.py#63\u001b\\\u001b[2m63\u001b[0m\u001b]8;;\u001b\\\n"
      ]
     },
     "metadata": {},
     "output_type": "display_data"
    },
    {
     "data": {
      "text/html": [
       "<pre style=\"white-space:pre;overflow-x:auto;line-height:normal;font-family:Menlo,'DejaVu Sans Mono',consolas,'Courier New',monospace\"><span style=\"color: #7fbfbf; text-decoration-color: #7fbfbf\">           </span>----------                                                             <a href=\"file:///home/ngardn10/projects/cuticulus/cuticulus/mlutils/torch.py\"><span style=\"color: #7f7f7f; text-decoration-color: #7f7f7f\">torch.py</span></a><span style=\"color: #7f7f7f; text-decoration-color: #7f7f7f\">:</span><a href=\"file:///home/ngardn10/projects/cuticulus/cuticulus/mlutils/torch.py#64\"><span style=\"color: #7f7f7f; text-decoration-color: #7f7f7f\">64</span></a>\n",
       "</pre>\n"
      ],
      "text/plain": [
       "\u001b[2;36m          \u001b[0m\u001b[2;36m \u001b[0m----------                                                             \u001b]8;id=816152;file:///home/ngardn10/projects/cuticulus/cuticulus/mlutils/torch.py\u001b\\\u001b[2mtorch.py\u001b[0m\u001b]8;;\u001b\\\u001b[2m:\u001b[0m\u001b]8;id=323705;file:///home/ngardn10/projects/cuticulus/cuticulus/mlutils/torch.py#64\u001b\\\u001b[2m64\u001b[0m\u001b]8;;\u001b\\\n"
      ]
     },
     "metadata": {},
     "output_type": "display_data"
    },
    {
     "data": {
      "text/html": [
       "<pre style=\"white-space:pre;overflow-x:auto;line-height:normal;font-family:Menlo,'DejaVu Sans Mono',consolas,'Courier New',monospace\"><span style=\"color: #7fbfbf; text-decoration-color: #7fbfbf\">[14:41:19] </span>train Loss: <span style=\"color: #008080; text-decoration-color: #008080; font-weight: bold\">0.0097</span> Acc: <span style=\"color: #008080; text-decoration-color: #008080; font-weight: bold\">0.9970</span>                                        <a href=\"file:///home/ngardn10/projects/cuticulus/cuticulus/mlutils/torch.py\"><span style=\"color: #7f7f7f; text-decoration-color: #7f7f7f\">torch.py</span></a><span style=\"color: #7f7f7f; text-decoration-color: #7f7f7f\">:</span><a href=\"file:///home/ngardn10/projects/cuticulus/cuticulus/mlutils/torch.py#109\"><span style=\"color: #7f7f7f; text-decoration-color: #7f7f7f\">109</span></a>\n",
       "</pre>\n"
      ],
      "text/plain": [
       "\u001b[2;36m[14:41:19]\u001b[0m\u001b[2;36m \u001b[0mtrain Loss: \u001b[1;36m0.0097\u001b[0m Acc: \u001b[1;36m0.9970\u001b[0m                                        \u001b]8;id=126598;file:///home/ngardn10/projects/cuticulus/cuticulus/mlutils/torch.py\u001b\\\u001b[2mtorch.py\u001b[0m\u001b]8;;\u001b\\\u001b[2m:\u001b[0m\u001b]8;id=59853;file:///home/ngardn10/projects/cuticulus/cuticulus/mlutils/torch.py#109\u001b\\\u001b[2m109\u001b[0m\u001b]8;;\u001b\\\n"
      ]
     },
     "metadata": {},
     "output_type": "display_data"
    },
    {
     "data": {
      "text/html": [
       "<pre style=\"white-space:pre;overflow-x:auto;line-height:normal;font-family:Menlo,'DejaVu Sans Mono',consolas,'Courier New',monospace\"><span style=\"color: #7fbfbf; text-decoration-color: #7fbfbf\">           </span>val Loss: <span style=\"color: #008080; text-decoration-color: #008080; font-weight: bold\">1.0834</span> Acc: <span style=\"color: #008080; text-decoration-color: #008080; font-weight: bold\">0.7859</span>                                          <a href=\"file:///home/ngardn10/projects/cuticulus/cuticulus/mlutils/torch.py\"><span style=\"color: #7f7f7f; text-decoration-color: #7f7f7f\">torch.py</span></a><span style=\"color: #7f7f7f; text-decoration-color: #7f7f7f\">:</span><a href=\"file:///home/ngardn10/projects/cuticulus/cuticulus/mlutils/torch.py#109\"><span style=\"color: #7f7f7f; text-decoration-color: #7f7f7f\">109</span></a>\n",
       "</pre>\n"
      ],
      "text/plain": [
       "\u001b[2;36m          \u001b[0m\u001b[2;36m \u001b[0mval Loss: \u001b[1;36m1.0834\u001b[0m Acc: \u001b[1;36m0.7859\u001b[0m                                          \u001b]8;id=897802;file:///home/ngardn10/projects/cuticulus/cuticulus/mlutils/torch.py\u001b\\\u001b[2mtorch.py\u001b[0m\u001b]8;;\u001b\\\u001b[2m:\u001b[0m\u001b]8;id=284593;file:///home/ngardn10/projects/cuticulus/cuticulus/mlutils/torch.py#109\u001b\\\u001b[2m109\u001b[0m\u001b]8;;\u001b\\\n"
      ]
     },
     "metadata": {},
     "output_type": "display_data"
    },
    {
     "data": {
      "text/html": [
       "<pre style=\"white-space:pre;overflow-x:auto;line-height:normal;font-family:Menlo,'DejaVu Sans Mono',consolas,'Courier New',monospace\"><span style=\"color: #7fbfbf; text-decoration-color: #7fbfbf\">           </span>Epoch <span style=\"color: #008080; text-decoration-color: #008080; font-weight: bold\">42</span>/<span style=\"color: #008080; text-decoration-color: #008080; font-weight: bold\">99</span>                                                            <a href=\"file:///home/ngardn10/projects/cuticulus/cuticulus/mlutils/torch.py\"><span style=\"color: #7f7f7f; text-decoration-color: #7f7f7f\">torch.py</span></a><span style=\"color: #7f7f7f; text-decoration-color: #7f7f7f\">:</span><a href=\"file:///home/ngardn10/projects/cuticulus/cuticulus/mlutils/torch.py#63\"><span style=\"color: #7f7f7f; text-decoration-color: #7f7f7f\">63</span></a>\n",
       "</pre>\n"
      ],
      "text/plain": [
       "\u001b[2;36m          \u001b[0m\u001b[2;36m \u001b[0mEpoch \u001b[1;36m42\u001b[0m/\u001b[1;36m99\u001b[0m                                                            \u001b]8;id=444970;file:///home/ngardn10/projects/cuticulus/cuticulus/mlutils/torch.py\u001b\\\u001b[2mtorch.py\u001b[0m\u001b]8;;\u001b\\\u001b[2m:\u001b[0m\u001b]8;id=673012;file:///home/ngardn10/projects/cuticulus/cuticulus/mlutils/torch.py#63\u001b\\\u001b[2m63\u001b[0m\u001b]8;;\u001b\\\n"
      ]
     },
     "metadata": {},
     "output_type": "display_data"
    },
    {
     "data": {
      "text/html": [
       "<pre style=\"white-space:pre;overflow-x:auto;line-height:normal;font-family:Menlo,'DejaVu Sans Mono',consolas,'Courier New',monospace\"><span style=\"color: #7fbfbf; text-decoration-color: #7fbfbf\">           </span>----------                                                             <a href=\"file:///home/ngardn10/projects/cuticulus/cuticulus/mlutils/torch.py\"><span style=\"color: #7f7f7f; text-decoration-color: #7f7f7f\">torch.py</span></a><span style=\"color: #7f7f7f; text-decoration-color: #7f7f7f\">:</span><a href=\"file:///home/ngardn10/projects/cuticulus/cuticulus/mlutils/torch.py#64\"><span style=\"color: #7f7f7f; text-decoration-color: #7f7f7f\">64</span></a>\n",
       "</pre>\n"
      ],
      "text/plain": [
       "\u001b[2;36m          \u001b[0m\u001b[2;36m \u001b[0m----------                                                             \u001b]8;id=109237;file:///home/ngardn10/projects/cuticulus/cuticulus/mlutils/torch.py\u001b\\\u001b[2mtorch.py\u001b[0m\u001b]8;;\u001b\\\u001b[2m:\u001b[0m\u001b]8;id=419130;file:///home/ngardn10/projects/cuticulus/cuticulus/mlutils/torch.py#64\u001b\\\u001b[2m64\u001b[0m\u001b]8;;\u001b\\\n"
      ]
     },
     "metadata": {},
     "output_type": "display_data"
    },
    {
     "data": {
      "text/html": [
       "<pre style=\"white-space:pre;overflow-x:auto;line-height:normal;font-family:Menlo,'DejaVu Sans Mono',consolas,'Courier New',monospace\"><span style=\"color: #7fbfbf; text-decoration-color: #7fbfbf\">[14:41:21] </span>train Loss: <span style=\"color: #008080; text-decoration-color: #008080; font-weight: bold\">0.0218</span> Acc: <span style=\"color: #008080; text-decoration-color: #008080; font-weight: bold\">0.9950</span>                                        <a href=\"file:///home/ngardn10/projects/cuticulus/cuticulus/mlutils/torch.py\"><span style=\"color: #7f7f7f; text-decoration-color: #7f7f7f\">torch.py</span></a><span style=\"color: #7f7f7f; text-decoration-color: #7f7f7f\">:</span><a href=\"file:///home/ngardn10/projects/cuticulus/cuticulus/mlutils/torch.py#109\"><span style=\"color: #7f7f7f; text-decoration-color: #7f7f7f\">109</span></a>\n",
       "</pre>\n"
      ],
      "text/plain": [
       "\u001b[2;36m[14:41:21]\u001b[0m\u001b[2;36m \u001b[0mtrain Loss: \u001b[1;36m0.0218\u001b[0m Acc: \u001b[1;36m0.9950\u001b[0m                                        \u001b]8;id=687836;file:///home/ngardn10/projects/cuticulus/cuticulus/mlutils/torch.py\u001b\\\u001b[2mtorch.py\u001b[0m\u001b]8;;\u001b\\\u001b[2m:\u001b[0m\u001b]8;id=366127;file:///home/ngardn10/projects/cuticulus/cuticulus/mlutils/torch.py#109\u001b\\\u001b[2m109\u001b[0m\u001b]8;;\u001b\\\n"
      ]
     },
     "metadata": {},
     "output_type": "display_data"
    },
    {
     "data": {
      "text/html": [
       "<pre style=\"white-space:pre;overflow-x:auto;line-height:normal;font-family:Menlo,'DejaVu Sans Mono',consolas,'Courier New',monospace\"><span style=\"color: #7fbfbf; text-decoration-color: #7fbfbf\">           </span>val Loss: <span style=\"color: #008080; text-decoration-color: #008080; font-weight: bold\">1.1644</span> Acc: <span style=\"color: #008080; text-decoration-color: #008080; font-weight: bold\">0.7885</span>                                          <a href=\"file:///home/ngardn10/projects/cuticulus/cuticulus/mlutils/torch.py\"><span style=\"color: #7f7f7f; text-decoration-color: #7f7f7f\">torch.py</span></a><span style=\"color: #7f7f7f; text-decoration-color: #7f7f7f\">:</span><a href=\"file:///home/ngardn10/projects/cuticulus/cuticulus/mlutils/torch.py#109\"><span style=\"color: #7f7f7f; text-decoration-color: #7f7f7f\">109</span></a>\n",
       "</pre>\n"
      ],
      "text/plain": [
       "\u001b[2;36m          \u001b[0m\u001b[2;36m \u001b[0mval Loss: \u001b[1;36m1.1644\u001b[0m Acc: \u001b[1;36m0.7885\u001b[0m                                          \u001b]8;id=609531;file:///home/ngardn10/projects/cuticulus/cuticulus/mlutils/torch.py\u001b\\\u001b[2mtorch.py\u001b[0m\u001b]8;;\u001b\\\u001b[2m:\u001b[0m\u001b]8;id=72730;file:///home/ngardn10/projects/cuticulus/cuticulus/mlutils/torch.py#109\u001b\\\u001b[2m109\u001b[0m\u001b]8;;\u001b\\\n"
      ]
     },
     "metadata": {},
     "output_type": "display_data"
    },
    {
     "data": {
      "text/html": [
       "<pre style=\"white-space:pre;overflow-x:auto;line-height:normal;font-family:Menlo,'DejaVu Sans Mono',consolas,'Courier New',monospace\"><span style=\"color: #7fbfbf; text-decoration-color: #7fbfbf\">           </span>Epoch <span style=\"color: #008080; text-decoration-color: #008080; font-weight: bold\">43</span>/<span style=\"color: #008080; text-decoration-color: #008080; font-weight: bold\">99</span>                                                            <a href=\"file:///home/ngardn10/projects/cuticulus/cuticulus/mlutils/torch.py\"><span style=\"color: #7f7f7f; text-decoration-color: #7f7f7f\">torch.py</span></a><span style=\"color: #7f7f7f; text-decoration-color: #7f7f7f\">:</span><a href=\"file:///home/ngardn10/projects/cuticulus/cuticulus/mlutils/torch.py#63\"><span style=\"color: #7f7f7f; text-decoration-color: #7f7f7f\">63</span></a>\n",
       "</pre>\n"
      ],
      "text/plain": [
       "\u001b[2;36m          \u001b[0m\u001b[2;36m \u001b[0mEpoch \u001b[1;36m43\u001b[0m/\u001b[1;36m99\u001b[0m                                                            \u001b]8;id=204756;file:///home/ngardn10/projects/cuticulus/cuticulus/mlutils/torch.py\u001b\\\u001b[2mtorch.py\u001b[0m\u001b]8;;\u001b\\\u001b[2m:\u001b[0m\u001b]8;id=270358;file:///home/ngardn10/projects/cuticulus/cuticulus/mlutils/torch.py#63\u001b\\\u001b[2m63\u001b[0m\u001b]8;;\u001b\\\n"
      ]
     },
     "metadata": {},
     "output_type": "display_data"
    },
    {
     "data": {
      "text/html": [
       "<pre style=\"white-space:pre;overflow-x:auto;line-height:normal;font-family:Menlo,'DejaVu Sans Mono',consolas,'Courier New',monospace\"><span style=\"color: #7fbfbf; text-decoration-color: #7fbfbf\">           </span>----------                                                             <a href=\"file:///home/ngardn10/projects/cuticulus/cuticulus/mlutils/torch.py\"><span style=\"color: #7f7f7f; text-decoration-color: #7f7f7f\">torch.py</span></a><span style=\"color: #7f7f7f; text-decoration-color: #7f7f7f\">:</span><a href=\"file:///home/ngardn10/projects/cuticulus/cuticulus/mlutils/torch.py#64\"><span style=\"color: #7f7f7f; text-decoration-color: #7f7f7f\">64</span></a>\n",
       "</pre>\n"
      ],
      "text/plain": [
       "\u001b[2;36m          \u001b[0m\u001b[2;36m \u001b[0m----------                                                             \u001b]8;id=899836;file:///home/ngardn10/projects/cuticulus/cuticulus/mlutils/torch.py\u001b\\\u001b[2mtorch.py\u001b[0m\u001b]8;;\u001b\\\u001b[2m:\u001b[0m\u001b]8;id=445957;file:///home/ngardn10/projects/cuticulus/cuticulus/mlutils/torch.py#64\u001b\\\u001b[2m64\u001b[0m\u001b]8;;\u001b\\\n"
      ]
     },
     "metadata": {},
     "output_type": "display_data"
    },
    {
     "data": {
      "text/html": [
       "<pre style=\"white-space:pre;overflow-x:auto;line-height:normal;font-family:Menlo,'DejaVu Sans Mono',consolas,'Courier New',monospace\"><span style=\"color: #7fbfbf; text-decoration-color: #7fbfbf\">[14:41:23] </span>train Loss: <span style=\"color: #008080; text-decoration-color: #008080; font-weight: bold\">0.0190</span> Acc: <span style=\"color: #008080; text-decoration-color: #008080; font-weight: bold\">0.9930</span>                                        <a href=\"file:///home/ngardn10/projects/cuticulus/cuticulus/mlutils/torch.py\"><span style=\"color: #7f7f7f; text-decoration-color: #7f7f7f\">torch.py</span></a><span style=\"color: #7f7f7f; text-decoration-color: #7f7f7f\">:</span><a href=\"file:///home/ngardn10/projects/cuticulus/cuticulus/mlutils/torch.py#109\"><span style=\"color: #7f7f7f; text-decoration-color: #7f7f7f\">109</span></a>\n",
       "</pre>\n"
      ],
      "text/plain": [
       "\u001b[2;36m[14:41:23]\u001b[0m\u001b[2;36m \u001b[0mtrain Loss: \u001b[1;36m0.0190\u001b[0m Acc: \u001b[1;36m0.9930\u001b[0m                                        \u001b]8;id=690717;file:///home/ngardn10/projects/cuticulus/cuticulus/mlutils/torch.py\u001b\\\u001b[2mtorch.py\u001b[0m\u001b]8;;\u001b\\\u001b[2m:\u001b[0m\u001b]8;id=194142;file:///home/ngardn10/projects/cuticulus/cuticulus/mlutils/torch.py#109\u001b\\\u001b[2m109\u001b[0m\u001b]8;;\u001b\\\n"
      ]
     },
     "metadata": {},
     "output_type": "display_data"
    },
    {
     "data": {
      "text/html": [
       "<pre style=\"white-space:pre;overflow-x:auto;line-height:normal;font-family:Menlo,'DejaVu Sans Mono',consolas,'Courier New',monospace\"><span style=\"color: #7fbfbf; text-decoration-color: #7fbfbf\">           </span>val Loss: <span style=\"color: #008080; text-decoration-color: #008080; font-weight: bold\">1.1662</span> Acc: <span style=\"color: #008080; text-decoration-color: #008080; font-weight: bold\">0.7715</span>                                          <a href=\"file:///home/ngardn10/projects/cuticulus/cuticulus/mlutils/torch.py\"><span style=\"color: #7f7f7f; text-decoration-color: #7f7f7f\">torch.py</span></a><span style=\"color: #7f7f7f; text-decoration-color: #7f7f7f\">:</span><a href=\"file:///home/ngardn10/projects/cuticulus/cuticulus/mlutils/torch.py#109\"><span style=\"color: #7f7f7f; text-decoration-color: #7f7f7f\">109</span></a>\n",
       "</pre>\n"
      ],
      "text/plain": [
       "\u001b[2;36m          \u001b[0m\u001b[2;36m \u001b[0mval Loss: \u001b[1;36m1.1662\u001b[0m Acc: \u001b[1;36m0.7715\u001b[0m                                          \u001b]8;id=502788;file:///home/ngardn10/projects/cuticulus/cuticulus/mlutils/torch.py\u001b\\\u001b[2mtorch.py\u001b[0m\u001b]8;;\u001b\\\u001b[2m:\u001b[0m\u001b]8;id=860392;file:///home/ngardn10/projects/cuticulus/cuticulus/mlutils/torch.py#109\u001b\\\u001b[2m109\u001b[0m\u001b]8;;\u001b\\\n"
      ]
     },
     "metadata": {},
     "output_type": "display_data"
    },
    {
     "data": {
      "text/html": [
       "<pre style=\"white-space:pre;overflow-x:auto;line-height:normal;font-family:Menlo,'DejaVu Sans Mono',consolas,'Courier New',monospace\"><span style=\"color: #7fbfbf; text-decoration-color: #7fbfbf\">           </span>Epoch <span style=\"color: #008080; text-decoration-color: #008080; font-weight: bold\">44</span>/<span style=\"color: #008080; text-decoration-color: #008080; font-weight: bold\">99</span>                                                            <a href=\"file:///home/ngardn10/projects/cuticulus/cuticulus/mlutils/torch.py\"><span style=\"color: #7f7f7f; text-decoration-color: #7f7f7f\">torch.py</span></a><span style=\"color: #7f7f7f; text-decoration-color: #7f7f7f\">:</span><a href=\"file:///home/ngardn10/projects/cuticulus/cuticulus/mlutils/torch.py#63\"><span style=\"color: #7f7f7f; text-decoration-color: #7f7f7f\">63</span></a>\n",
       "</pre>\n"
      ],
      "text/plain": [
       "\u001b[2;36m          \u001b[0m\u001b[2;36m \u001b[0mEpoch \u001b[1;36m44\u001b[0m/\u001b[1;36m99\u001b[0m                                                            \u001b]8;id=466874;file:///home/ngardn10/projects/cuticulus/cuticulus/mlutils/torch.py\u001b\\\u001b[2mtorch.py\u001b[0m\u001b]8;;\u001b\\\u001b[2m:\u001b[0m\u001b]8;id=193062;file:///home/ngardn10/projects/cuticulus/cuticulus/mlutils/torch.py#63\u001b\\\u001b[2m63\u001b[0m\u001b]8;;\u001b\\\n"
      ]
     },
     "metadata": {},
     "output_type": "display_data"
    },
    {
     "data": {
      "text/html": [
       "<pre style=\"white-space:pre;overflow-x:auto;line-height:normal;font-family:Menlo,'DejaVu Sans Mono',consolas,'Courier New',monospace\"><span style=\"color: #7fbfbf; text-decoration-color: #7fbfbf\">           </span>----------                                                             <a href=\"file:///home/ngardn10/projects/cuticulus/cuticulus/mlutils/torch.py\"><span style=\"color: #7f7f7f; text-decoration-color: #7f7f7f\">torch.py</span></a><span style=\"color: #7f7f7f; text-decoration-color: #7f7f7f\">:</span><a href=\"file:///home/ngardn10/projects/cuticulus/cuticulus/mlutils/torch.py#64\"><span style=\"color: #7f7f7f; text-decoration-color: #7f7f7f\">64</span></a>\n",
       "</pre>\n"
      ],
      "text/plain": [
       "\u001b[2;36m          \u001b[0m\u001b[2;36m \u001b[0m----------                                                             \u001b]8;id=25668;file:///home/ngardn10/projects/cuticulus/cuticulus/mlutils/torch.py\u001b\\\u001b[2mtorch.py\u001b[0m\u001b]8;;\u001b\\\u001b[2m:\u001b[0m\u001b]8;id=867821;file:///home/ngardn10/projects/cuticulus/cuticulus/mlutils/torch.py#64\u001b\\\u001b[2m64\u001b[0m\u001b]8;;\u001b\\\n"
      ]
     },
     "metadata": {},
     "output_type": "display_data"
    },
    {
     "data": {
      "text/html": [
       "<pre style=\"white-space:pre;overflow-x:auto;line-height:normal;font-family:Menlo,'DejaVu Sans Mono',consolas,'Courier New',monospace\"><span style=\"color: #7fbfbf; text-decoration-color: #7fbfbf\">[14:41:25] </span>train Loss: <span style=\"color: #008080; text-decoration-color: #008080; font-weight: bold\">0.0533</span> Acc: <span style=\"color: #008080; text-decoration-color: #008080; font-weight: bold\">0.9825</span>                                        <a href=\"file:///home/ngardn10/projects/cuticulus/cuticulus/mlutils/torch.py\"><span style=\"color: #7f7f7f; text-decoration-color: #7f7f7f\">torch.py</span></a><span style=\"color: #7f7f7f; text-decoration-color: #7f7f7f\">:</span><a href=\"file:///home/ngardn10/projects/cuticulus/cuticulus/mlutils/torch.py#109\"><span style=\"color: #7f7f7f; text-decoration-color: #7f7f7f\">109</span></a>\n",
       "</pre>\n"
      ],
      "text/plain": [
       "\u001b[2;36m[14:41:25]\u001b[0m\u001b[2;36m \u001b[0mtrain Loss: \u001b[1;36m0.0533\u001b[0m Acc: \u001b[1;36m0.9825\u001b[0m                                        \u001b]8;id=623748;file:///home/ngardn10/projects/cuticulus/cuticulus/mlutils/torch.py\u001b\\\u001b[2mtorch.py\u001b[0m\u001b]8;;\u001b\\\u001b[2m:\u001b[0m\u001b]8;id=794617;file:///home/ngardn10/projects/cuticulus/cuticulus/mlutils/torch.py#109\u001b\\\u001b[2m109\u001b[0m\u001b]8;;\u001b\\\n"
      ]
     },
     "metadata": {},
     "output_type": "display_data"
    },
    {
     "data": {
      "text/html": [
       "<pre style=\"white-space:pre;overflow-x:auto;line-height:normal;font-family:Menlo,'DejaVu Sans Mono',consolas,'Courier New',monospace\"><span style=\"color: #7fbfbf; text-decoration-color: #7fbfbf\">           </span>val Loss: <span style=\"color: #008080; text-decoration-color: #008080; font-weight: bold\">1.2363</span> Acc: <span style=\"color: #008080; text-decoration-color: #008080; font-weight: bold\">0.7885</span>                                          <a href=\"file:///home/ngardn10/projects/cuticulus/cuticulus/mlutils/torch.py\"><span style=\"color: #7f7f7f; text-decoration-color: #7f7f7f\">torch.py</span></a><span style=\"color: #7f7f7f; text-decoration-color: #7f7f7f\">:</span><a href=\"file:///home/ngardn10/projects/cuticulus/cuticulus/mlutils/torch.py#109\"><span style=\"color: #7f7f7f; text-decoration-color: #7f7f7f\">109</span></a>\n",
       "</pre>\n"
      ],
      "text/plain": [
       "\u001b[2;36m          \u001b[0m\u001b[2;36m \u001b[0mval Loss: \u001b[1;36m1.2363\u001b[0m Acc: \u001b[1;36m0.7885\u001b[0m                                          \u001b]8;id=828377;file:///home/ngardn10/projects/cuticulus/cuticulus/mlutils/torch.py\u001b\\\u001b[2mtorch.py\u001b[0m\u001b]8;;\u001b\\\u001b[2m:\u001b[0m\u001b]8;id=9539;file:///home/ngardn10/projects/cuticulus/cuticulus/mlutils/torch.py#109\u001b\\\u001b[2m109\u001b[0m\u001b]8;;\u001b\\\n"
      ]
     },
     "metadata": {},
     "output_type": "display_data"
    },
    {
     "data": {
      "text/html": [
       "<pre style=\"white-space:pre;overflow-x:auto;line-height:normal;font-family:Menlo,'DejaVu Sans Mono',consolas,'Courier New',monospace\"><span style=\"color: #7fbfbf; text-decoration-color: #7fbfbf\">           </span>Epoch <span style=\"color: #008080; text-decoration-color: #008080; font-weight: bold\">45</span>/<span style=\"color: #008080; text-decoration-color: #008080; font-weight: bold\">99</span>                                                            <a href=\"file:///home/ngardn10/projects/cuticulus/cuticulus/mlutils/torch.py\"><span style=\"color: #7f7f7f; text-decoration-color: #7f7f7f\">torch.py</span></a><span style=\"color: #7f7f7f; text-decoration-color: #7f7f7f\">:</span><a href=\"file:///home/ngardn10/projects/cuticulus/cuticulus/mlutils/torch.py#63\"><span style=\"color: #7f7f7f; text-decoration-color: #7f7f7f\">63</span></a>\n",
       "</pre>\n"
      ],
      "text/plain": [
       "\u001b[2;36m          \u001b[0m\u001b[2;36m \u001b[0mEpoch \u001b[1;36m45\u001b[0m/\u001b[1;36m99\u001b[0m                                                            \u001b]8;id=297193;file:///home/ngardn10/projects/cuticulus/cuticulus/mlutils/torch.py\u001b\\\u001b[2mtorch.py\u001b[0m\u001b]8;;\u001b\\\u001b[2m:\u001b[0m\u001b]8;id=130499;file:///home/ngardn10/projects/cuticulus/cuticulus/mlutils/torch.py#63\u001b\\\u001b[2m63\u001b[0m\u001b]8;;\u001b\\\n"
      ]
     },
     "metadata": {},
     "output_type": "display_data"
    },
    {
     "data": {
      "text/html": [
       "<pre style=\"white-space:pre;overflow-x:auto;line-height:normal;font-family:Menlo,'DejaVu Sans Mono',consolas,'Courier New',monospace\"><span style=\"color: #7fbfbf; text-decoration-color: #7fbfbf\">           </span>----------                                                             <a href=\"file:///home/ngardn10/projects/cuticulus/cuticulus/mlutils/torch.py\"><span style=\"color: #7f7f7f; text-decoration-color: #7f7f7f\">torch.py</span></a><span style=\"color: #7f7f7f; text-decoration-color: #7f7f7f\">:</span><a href=\"file:///home/ngardn10/projects/cuticulus/cuticulus/mlutils/torch.py#64\"><span style=\"color: #7f7f7f; text-decoration-color: #7f7f7f\">64</span></a>\n",
       "</pre>\n"
      ],
      "text/plain": [
       "\u001b[2;36m          \u001b[0m\u001b[2;36m \u001b[0m----------                                                             \u001b]8;id=335226;file:///home/ngardn10/projects/cuticulus/cuticulus/mlutils/torch.py\u001b\\\u001b[2mtorch.py\u001b[0m\u001b]8;;\u001b\\\u001b[2m:\u001b[0m\u001b]8;id=76625;file:///home/ngardn10/projects/cuticulus/cuticulus/mlutils/torch.py#64\u001b\\\u001b[2m64\u001b[0m\u001b]8;;\u001b\\\n"
      ]
     },
     "metadata": {},
     "output_type": "display_data"
    },
    {
     "data": {
      "text/html": [
       "<pre style=\"white-space:pre;overflow-x:auto;line-height:normal;font-family:Menlo,'DejaVu Sans Mono',consolas,'Courier New',monospace\"><span style=\"color: #7fbfbf; text-decoration-color: #7fbfbf\">[14:41:27] </span>train Loss: <span style=\"color: #008080; text-decoration-color: #008080; font-weight: bold\">0.0365</span> Acc: <span style=\"color: #008080; text-decoration-color: #008080; font-weight: bold\">0.9875</span>                                        <a href=\"file:///home/ngardn10/projects/cuticulus/cuticulus/mlutils/torch.py\"><span style=\"color: #7f7f7f; text-decoration-color: #7f7f7f\">torch.py</span></a><span style=\"color: #7f7f7f; text-decoration-color: #7f7f7f\">:</span><a href=\"file:///home/ngardn10/projects/cuticulus/cuticulus/mlutils/torch.py#109\"><span style=\"color: #7f7f7f; text-decoration-color: #7f7f7f\">109</span></a>\n",
       "</pre>\n"
      ],
      "text/plain": [
       "\u001b[2;36m[14:41:27]\u001b[0m\u001b[2;36m \u001b[0mtrain Loss: \u001b[1;36m0.0365\u001b[0m Acc: \u001b[1;36m0.9875\u001b[0m                                        \u001b]8;id=103609;file:///home/ngardn10/projects/cuticulus/cuticulus/mlutils/torch.py\u001b\\\u001b[2mtorch.py\u001b[0m\u001b]8;;\u001b\\\u001b[2m:\u001b[0m\u001b]8;id=768331;file:///home/ngardn10/projects/cuticulus/cuticulus/mlutils/torch.py#109\u001b\\\u001b[2m109\u001b[0m\u001b]8;;\u001b\\\n"
      ]
     },
     "metadata": {},
     "output_type": "display_data"
    },
    {
     "data": {
      "text/html": [
       "<pre style=\"white-space:pre;overflow-x:auto;line-height:normal;font-family:Menlo,'DejaVu Sans Mono',consolas,'Courier New',monospace\"><span style=\"color: #7fbfbf; text-decoration-color: #7fbfbf\">           </span>val Loss: <span style=\"color: #008080; text-decoration-color: #008080; font-weight: bold\">1.0360</span> Acc: <span style=\"color: #008080; text-decoration-color: #008080; font-weight: bold\">0.7637</span>                                          <a href=\"file:///home/ngardn10/projects/cuticulus/cuticulus/mlutils/torch.py\"><span style=\"color: #7f7f7f; text-decoration-color: #7f7f7f\">torch.py</span></a><span style=\"color: #7f7f7f; text-decoration-color: #7f7f7f\">:</span><a href=\"file:///home/ngardn10/projects/cuticulus/cuticulus/mlutils/torch.py#109\"><span style=\"color: #7f7f7f; text-decoration-color: #7f7f7f\">109</span></a>\n",
       "</pre>\n"
      ],
      "text/plain": [
       "\u001b[2;36m          \u001b[0m\u001b[2;36m \u001b[0mval Loss: \u001b[1;36m1.0360\u001b[0m Acc: \u001b[1;36m0.7637\u001b[0m                                          \u001b]8;id=305122;file:///home/ngardn10/projects/cuticulus/cuticulus/mlutils/torch.py\u001b\\\u001b[2mtorch.py\u001b[0m\u001b]8;;\u001b\\\u001b[2m:\u001b[0m\u001b]8;id=478364;file:///home/ngardn10/projects/cuticulus/cuticulus/mlutils/torch.py#109\u001b\\\u001b[2m109\u001b[0m\u001b]8;;\u001b\\\n"
      ]
     },
     "metadata": {},
     "output_type": "display_data"
    },
    {
     "data": {
      "text/html": [
       "<pre style=\"white-space:pre;overflow-x:auto;line-height:normal;font-family:Menlo,'DejaVu Sans Mono',consolas,'Courier New',monospace\"><span style=\"color: #7fbfbf; text-decoration-color: #7fbfbf\">           </span>Epoch <span style=\"color: #008080; text-decoration-color: #008080; font-weight: bold\">46</span>/<span style=\"color: #008080; text-decoration-color: #008080; font-weight: bold\">99</span>                                                            <a href=\"file:///home/ngardn10/projects/cuticulus/cuticulus/mlutils/torch.py\"><span style=\"color: #7f7f7f; text-decoration-color: #7f7f7f\">torch.py</span></a><span style=\"color: #7f7f7f; text-decoration-color: #7f7f7f\">:</span><a href=\"file:///home/ngardn10/projects/cuticulus/cuticulus/mlutils/torch.py#63\"><span style=\"color: #7f7f7f; text-decoration-color: #7f7f7f\">63</span></a>\n",
       "</pre>\n"
      ],
      "text/plain": [
       "\u001b[2;36m          \u001b[0m\u001b[2;36m \u001b[0mEpoch \u001b[1;36m46\u001b[0m/\u001b[1;36m99\u001b[0m                                                            \u001b]8;id=477375;file:///home/ngardn10/projects/cuticulus/cuticulus/mlutils/torch.py\u001b\\\u001b[2mtorch.py\u001b[0m\u001b]8;;\u001b\\\u001b[2m:\u001b[0m\u001b]8;id=818133;file:///home/ngardn10/projects/cuticulus/cuticulus/mlutils/torch.py#63\u001b\\\u001b[2m63\u001b[0m\u001b]8;;\u001b\\\n"
      ]
     },
     "metadata": {},
     "output_type": "display_data"
    },
    {
     "data": {
      "text/html": [
       "<pre style=\"white-space:pre;overflow-x:auto;line-height:normal;font-family:Menlo,'DejaVu Sans Mono',consolas,'Courier New',monospace\"><span style=\"color: #7fbfbf; text-decoration-color: #7fbfbf\">           </span>----------                                                             <a href=\"file:///home/ngardn10/projects/cuticulus/cuticulus/mlutils/torch.py\"><span style=\"color: #7f7f7f; text-decoration-color: #7f7f7f\">torch.py</span></a><span style=\"color: #7f7f7f; text-decoration-color: #7f7f7f\">:</span><a href=\"file:///home/ngardn10/projects/cuticulus/cuticulus/mlutils/torch.py#64\"><span style=\"color: #7f7f7f; text-decoration-color: #7f7f7f\">64</span></a>\n",
       "</pre>\n"
      ],
      "text/plain": [
       "\u001b[2;36m          \u001b[0m\u001b[2;36m \u001b[0m----------                                                             \u001b]8;id=161665;file:///home/ngardn10/projects/cuticulus/cuticulus/mlutils/torch.py\u001b\\\u001b[2mtorch.py\u001b[0m\u001b]8;;\u001b\\\u001b[2m:\u001b[0m\u001b]8;id=484597;file:///home/ngardn10/projects/cuticulus/cuticulus/mlutils/torch.py#64\u001b\\\u001b[2m64\u001b[0m\u001b]8;;\u001b\\\n"
      ]
     },
     "metadata": {},
     "output_type": "display_data"
    },
    {
     "data": {
      "text/html": [
       "<pre style=\"white-space:pre;overflow-x:auto;line-height:normal;font-family:Menlo,'DejaVu Sans Mono',consolas,'Courier New',monospace\"><span style=\"color: #7fbfbf; text-decoration-color: #7fbfbf\">[14:41:29] </span>train Loss: <span style=\"color: #008080; text-decoration-color: #008080; font-weight: bold\">0.0184</span> Acc: <span style=\"color: #008080; text-decoration-color: #008080; font-weight: bold\">0.9925</span>                                        <a href=\"file:///home/ngardn10/projects/cuticulus/cuticulus/mlutils/torch.py\"><span style=\"color: #7f7f7f; text-decoration-color: #7f7f7f\">torch.py</span></a><span style=\"color: #7f7f7f; text-decoration-color: #7f7f7f\">:</span><a href=\"file:///home/ngardn10/projects/cuticulus/cuticulus/mlutils/torch.py#109\"><span style=\"color: #7f7f7f; text-decoration-color: #7f7f7f\">109</span></a>\n",
       "</pre>\n"
      ],
      "text/plain": [
       "\u001b[2;36m[14:41:29]\u001b[0m\u001b[2;36m \u001b[0mtrain Loss: \u001b[1;36m0.0184\u001b[0m Acc: \u001b[1;36m0.9925\u001b[0m                                        \u001b]8;id=204313;file:///home/ngardn10/projects/cuticulus/cuticulus/mlutils/torch.py\u001b\\\u001b[2mtorch.py\u001b[0m\u001b]8;;\u001b\\\u001b[2m:\u001b[0m\u001b]8;id=124060;file:///home/ngardn10/projects/cuticulus/cuticulus/mlutils/torch.py#109\u001b\\\u001b[2m109\u001b[0m\u001b]8;;\u001b\\\n"
      ]
     },
     "metadata": {},
     "output_type": "display_data"
    },
    {
     "data": {
      "text/html": [
       "<pre style=\"white-space:pre;overflow-x:auto;line-height:normal;font-family:Menlo,'DejaVu Sans Mono',consolas,'Courier New',monospace\"><span style=\"color: #7fbfbf; text-decoration-color: #7fbfbf\">           </span>val Loss: <span style=\"color: #008080; text-decoration-color: #008080; font-weight: bold\">0.8772</span> Acc: <span style=\"color: #008080; text-decoration-color: #008080; font-weight: bold\">0.7950</span>                                          <a href=\"file:///home/ngardn10/projects/cuticulus/cuticulus/mlutils/torch.py\"><span style=\"color: #7f7f7f; text-decoration-color: #7f7f7f\">torch.py</span></a><span style=\"color: #7f7f7f; text-decoration-color: #7f7f7f\">:</span><a href=\"file:///home/ngardn10/projects/cuticulus/cuticulus/mlutils/torch.py#109\"><span style=\"color: #7f7f7f; text-decoration-color: #7f7f7f\">109</span></a>\n",
       "</pre>\n"
      ],
      "text/plain": [
       "\u001b[2;36m          \u001b[0m\u001b[2;36m \u001b[0mval Loss: \u001b[1;36m0.8772\u001b[0m Acc: \u001b[1;36m0.7950\u001b[0m                                          \u001b]8;id=589562;file:///home/ngardn10/projects/cuticulus/cuticulus/mlutils/torch.py\u001b\\\u001b[2mtorch.py\u001b[0m\u001b]8;;\u001b\\\u001b[2m:\u001b[0m\u001b]8;id=280528;file:///home/ngardn10/projects/cuticulus/cuticulus/mlutils/torch.py#109\u001b\\\u001b[2m109\u001b[0m\u001b]8;;\u001b\\\n"
      ]
     },
     "metadata": {},
     "output_type": "display_data"
    },
    {
     "data": {
      "text/html": [
       "<pre style=\"white-space:pre;overflow-x:auto;line-height:normal;font-family:Menlo,'DejaVu Sans Mono',consolas,'Courier New',monospace\"><span style=\"color: #7fbfbf; text-decoration-color: #7fbfbf\">           </span>Epoch <span style=\"color: #008080; text-decoration-color: #008080; font-weight: bold\">47</span>/<span style=\"color: #008080; text-decoration-color: #008080; font-weight: bold\">99</span>                                                            <a href=\"file:///home/ngardn10/projects/cuticulus/cuticulus/mlutils/torch.py\"><span style=\"color: #7f7f7f; text-decoration-color: #7f7f7f\">torch.py</span></a><span style=\"color: #7f7f7f; text-decoration-color: #7f7f7f\">:</span><a href=\"file:///home/ngardn10/projects/cuticulus/cuticulus/mlutils/torch.py#63\"><span style=\"color: #7f7f7f; text-decoration-color: #7f7f7f\">63</span></a>\n",
       "</pre>\n"
      ],
      "text/plain": [
       "\u001b[2;36m          \u001b[0m\u001b[2;36m \u001b[0mEpoch \u001b[1;36m47\u001b[0m/\u001b[1;36m99\u001b[0m                                                            \u001b]8;id=82073;file:///home/ngardn10/projects/cuticulus/cuticulus/mlutils/torch.py\u001b\\\u001b[2mtorch.py\u001b[0m\u001b]8;;\u001b\\\u001b[2m:\u001b[0m\u001b]8;id=461806;file:///home/ngardn10/projects/cuticulus/cuticulus/mlutils/torch.py#63\u001b\\\u001b[2m63\u001b[0m\u001b]8;;\u001b\\\n"
      ]
     },
     "metadata": {},
     "output_type": "display_data"
    },
    {
     "data": {
      "text/html": [
       "<pre style=\"white-space:pre;overflow-x:auto;line-height:normal;font-family:Menlo,'DejaVu Sans Mono',consolas,'Courier New',monospace\"><span style=\"color: #7fbfbf; text-decoration-color: #7fbfbf\">           </span>----------                                                             <a href=\"file:///home/ngardn10/projects/cuticulus/cuticulus/mlutils/torch.py\"><span style=\"color: #7f7f7f; text-decoration-color: #7f7f7f\">torch.py</span></a><span style=\"color: #7f7f7f; text-decoration-color: #7f7f7f\">:</span><a href=\"file:///home/ngardn10/projects/cuticulus/cuticulus/mlutils/torch.py#64\"><span style=\"color: #7f7f7f; text-decoration-color: #7f7f7f\">64</span></a>\n",
       "</pre>\n"
      ],
      "text/plain": [
       "\u001b[2;36m          \u001b[0m\u001b[2;36m \u001b[0m----------                                                             \u001b]8;id=417542;file:///home/ngardn10/projects/cuticulus/cuticulus/mlutils/torch.py\u001b\\\u001b[2mtorch.py\u001b[0m\u001b]8;;\u001b\\\u001b[2m:\u001b[0m\u001b]8;id=964989;file:///home/ngardn10/projects/cuticulus/cuticulus/mlutils/torch.py#64\u001b\\\u001b[2m64\u001b[0m\u001b]8;;\u001b\\\n"
      ]
     },
     "metadata": {},
     "output_type": "display_data"
    },
    {
     "data": {
      "text/html": [
       "<pre style=\"white-space:pre;overflow-x:auto;line-height:normal;font-family:Menlo,'DejaVu Sans Mono',consolas,'Courier New',monospace\"><span style=\"color: #7fbfbf; text-decoration-color: #7fbfbf\">[14:41:31] </span>train Loss: <span style=\"color: #008080; text-decoration-color: #008080; font-weight: bold\">0.0141</span> Acc: <span style=\"color: #008080; text-decoration-color: #008080; font-weight: bold\">0.9960</span>                                        <a href=\"file:///home/ngardn10/projects/cuticulus/cuticulus/mlutils/torch.py\"><span style=\"color: #7f7f7f; text-decoration-color: #7f7f7f\">torch.py</span></a><span style=\"color: #7f7f7f; text-decoration-color: #7f7f7f\">:</span><a href=\"file:///home/ngardn10/projects/cuticulus/cuticulus/mlutils/torch.py#109\"><span style=\"color: #7f7f7f; text-decoration-color: #7f7f7f\">109</span></a>\n",
       "</pre>\n"
      ],
      "text/plain": [
       "\u001b[2;36m[14:41:31]\u001b[0m\u001b[2;36m \u001b[0mtrain Loss: \u001b[1;36m0.0141\u001b[0m Acc: \u001b[1;36m0.9960\u001b[0m                                        \u001b]8;id=929392;file:///home/ngardn10/projects/cuticulus/cuticulus/mlutils/torch.py\u001b\\\u001b[2mtorch.py\u001b[0m\u001b]8;;\u001b\\\u001b[2m:\u001b[0m\u001b]8;id=323;file:///home/ngardn10/projects/cuticulus/cuticulus/mlutils/torch.py#109\u001b\\\u001b[2m109\u001b[0m\u001b]8;;\u001b\\\n"
      ]
     },
     "metadata": {},
     "output_type": "display_data"
    },
    {
     "data": {
      "text/html": [
       "<pre style=\"white-space:pre;overflow-x:auto;line-height:normal;font-family:Menlo,'DejaVu Sans Mono',consolas,'Courier New',monospace\"><span style=\"color: #7fbfbf; text-decoration-color: #7fbfbf\">           </span>val Loss: <span style=\"color: #008080; text-decoration-color: #008080; font-weight: bold\">0.9254</span> Acc: <span style=\"color: #008080; text-decoration-color: #008080; font-weight: bold\">0.7977</span>                                          <a href=\"file:///home/ngardn10/projects/cuticulus/cuticulus/mlutils/torch.py\"><span style=\"color: #7f7f7f; text-decoration-color: #7f7f7f\">torch.py</span></a><span style=\"color: #7f7f7f; text-decoration-color: #7f7f7f\">:</span><a href=\"file:///home/ngardn10/projects/cuticulus/cuticulus/mlutils/torch.py#109\"><span style=\"color: #7f7f7f; text-decoration-color: #7f7f7f\">109</span></a>\n",
       "</pre>\n"
      ],
      "text/plain": [
       "\u001b[2;36m          \u001b[0m\u001b[2;36m \u001b[0mval Loss: \u001b[1;36m0.9254\u001b[0m Acc: \u001b[1;36m0.7977\u001b[0m                                          \u001b]8;id=998208;file:///home/ngardn10/projects/cuticulus/cuticulus/mlutils/torch.py\u001b\\\u001b[2mtorch.py\u001b[0m\u001b]8;;\u001b\\\u001b[2m:\u001b[0m\u001b]8;id=256521;file:///home/ngardn10/projects/cuticulus/cuticulus/mlutils/torch.py#109\u001b\\\u001b[2m109\u001b[0m\u001b]8;;\u001b\\\n"
      ]
     },
     "metadata": {},
     "output_type": "display_data"
    },
    {
     "data": {
      "text/html": [
       "<pre style=\"white-space:pre;overflow-x:auto;line-height:normal;font-family:Menlo,'DejaVu Sans Mono',consolas,'Courier New',monospace\"><span style=\"color: #7fbfbf; text-decoration-color: #7fbfbf\">           </span>Epoch <span style=\"color: #008080; text-decoration-color: #008080; font-weight: bold\">48</span>/<span style=\"color: #008080; text-decoration-color: #008080; font-weight: bold\">99</span>                                                            <a href=\"file:///home/ngardn10/projects/cuticulus/cuticulus/mlutils/torch.py\"><span style=\"color: #7f7f7f; text-decoration-color: #7f7f7f\">torch.py</span></a><span style=\"color: #7f7f7f; text-decoration-color: #7f7f7f\">:</span><a href=\"file:///home/ngardn10/projects/cuticulus/cuticulus/mlutils/torch.py#63\"><span style=\"color: #7f7f7f; text-decoration-color: #7f7f7f\">63</span></a>\n",
       "</pre>\n"
      ],
      "text/plain": [
       "\u001b[2;36m          \u001b[0m\u001b[2;36m \u001b[0mEpoch \u001b[1;36m48\u001b[0m/\u001b[1;36m99\u001b[0m                                                            \u001b]8;id=710826;file:///home/ngardn10/projects/cuticulus/cuticulus/mlutils/torch.py\u001b\\\u001b[2mtorch.py\u001b[0m\u001b]8;;\u001b\\\u001b[2m:\u001b[0m\u001b]8;id=201180;file:///home/ngardn10/projects/cuticulus/cuticulus/mlutils/torch.py#63\u001b\\\u001b[2m63\u001b[0m\u001b]8;;\u001b\\\n"
      ]
     },
     "metadata": {},
     "output_type": "display_data"
    },
    {
     "data": {
      "text/html": [
       "<pre style=\"white-space:pre;overflow-x:auto;line-height:normal;font-family:Menlo,'DejaVu Sans Mono',consolas,'Courier New',monospace\"><span style=\"color: #7fbfbf; text-decoration-color: #7fbfbf\">           </span>----------                                                             <a href=\"file:///home/ngardn10/projects/cuticulus/cuticulus/mlutils/torch.py\"><span style=\"color: #7f7f7f; text-decoration-color: #7f7f7f\">torch.py</span></a><span style=\"color: #7f7f7f; text-decoration-color: #7f7f7f\">:</span><a href=\"file:///home/ngardn10/projects/cuticulus/cuticulus/mlutils/torch.py#64\"><span style=\"color: #7f7f7f; text-decoration-color: #7f7f7f\">64</span></a>\n",
       "</pre>\n"
      ],
      "text/plain": [
       "\u001b[2;36m          \u001b[0m\u001b[2;36m \u001b[0m----------                                                             \u001b]8;id=732415;file:///home/ngardn10/projects/cuticulus/cuticulus/mlutils/torch.py\u001b\\\u001b[2mtorch.py\u001b[0m\u001b]8;;\u001b\\\u001b[2m:\u001b[0m\u001b]8;id=959913;file:///home/ngardn10/projects/cuticulus/cuticulus/mlutils/torch.py#64\u001b\\\u001b[2m64\u001b[0m\u001b]8;;\u001b\\\n"
      ]
     },
     "metadata": {},
     "output_type": "display_data"
    },
    {
     "data": {
      "text/html": [
       "<pre style=\"white-space:pre;overflow-x:auto;line-height:normal;font-family:Menlo,'DejaVu Sans Mono',consolas,'Courier New',monospace\"><span style=\"color: #7fbfbf; text-decoration-color: #7fbfbf\">[14:41:32] </span>train Loss: <span style=\"color: #008080; text-decoration-color: #008080; font-weight: bold\">0.0226</span> Acc: <span style=\"color: #008080; text-decoration-color: #008080; font-weight: bold\">0.9935</span>                                        <a href=\"file:///home/ngardn10/projects/cuticulus/cuticulus/mlutils/torch.py\"><span style=\"color: #7f7f7f; text-decoration-color: #7f7f7f\">torch.py</span></a><span style=\"color: #7f7f7f; text-decoration-color: #7f7f7f\">:</span><a href=\"file:///home/ngardn10/projects/cuticulus/cuticulus/mlutils/torch.py#109\"><span style=\"color: #7f7f7f; text-decoration-color: #7f7f7f\">109</span></a>\n",
       "</pre>\n"
      ],
      "text/plain": [
       "\u001b[2;36m[14:41:32]\u001b[0m\u001b[2;36m \u001b[0mtrain Loss: \u001b[1;36m0.0226\u001b[0m Acc: \u001b[1;36m0.9935\u001b[0m                                        \u001b]8;id=336367;file:///home/ngardn10/projects/cuticulus/cuticulus/mlutils/torch.py\u001b\\\u001b[2mtorch.py\u001b[0m\u001b]8;;\u001b\\\u001b[2m:\u001b[0m\u001b]8;id=695764;file:///home/ngardn10/projects/cuticulus/cuticulus/mlutils/torch.py#109\u001b\\\u001b[2m109\u001b[0m\u001b]8;;\u001b\\\n"
      ]
     },
     "metadata": {},
     "output_type": "display_data"
    },
    {
     "data": {
      "text/html": [
       "<pre style=\"white-space:pre;overflow-x:auto;line-height:normal;font-family:Menlo,'DejaVu Sans Mono',consolas,'Courier New',monospace\"><span style=\"color: #7fbfbf; text-decoration-color: #7fbfbf\">[14:41:33] </span>val Loss: <span style=\"color: #008080; text-decoration-color: #008080; font-weight: bold\">0.9714</span> Acc: <span style=\"color: #008080; text-decoration-color: #008080; font-weight: bold\">0.7911</span>                                          <a href=\"file:///home/ngardn10/projects/cuticulus/cuticulus/mlutils/torch.py\"><span style=\"color: #7f7f7f; text-decoration-color: #7f7f7f\">torch.py</span></a><span style=\"color: #7f7f7f; text-decoration-color: #7f7f7f\">:</span><a href=\"file:///home/ngardn10/projects/cuticulus/cuticulus/mlutils/torch.py#109\"><span style=\"color: #7f7f7f; text-decoration-color: #7f7f7f\">109</span></a>\n",
       "</pre>\n"
      ],
      "text/plain": [
       "\u001b[2;36m[14:41:33]\u001b[0m\u001b[2;36m \u001b[0mval Loss: \u001b[1;36m0.9714\u001b[0m Acc: \u001b[1;36m0.7911\u001b[0m                                          \u001b]8;id=286670;file:///home/ngardn10/projects/cuticulus/cuticulus/mlutils/torch.py\u001b\\\u001b[2mtorch.py\u001b[0m\u001b]8;;\u001b\\\u001b[2m:\u001b[0m\u001b]8;id=5287;file:///home/ngardn10/projects/cuticulus/cuticulus/mlutils/torch.py#109\u001b\\\u001b[2m109\u001b[0m\u001b]8;;\u001b\\\n"
      ]
     },
     "metadata": {},
     "output_type": "display_data"
    },
    {
     "data": {
      "text/html": [
       "<pre style=\"white-space:pre;overflow-x:auto;line-height:normal;font-family:Menlo,'DejaVu Sans Mono',consolas,'Courier New',monospace\"><span style=\"color: #7fbfbf; text-decoration-color: #7fbfbf\">           </span>Epoch <span style=\"color: #008080; text-decoration-color: #008080; font-weight: bold\">49</span>/<span style=\"color: #008080; text-decoration-color: #008080; font-weight: bold\">99</span>                                                            <a href=\"file:///home/ngardn10/projects/cuticulus/cuticulus/mlutils/torch.py\"><span style=\"color: #7f7f7f; text-decoration-color: #7f7f7f\">torch.py</span></a><span style=\"color: #7f7f7f; text-decoration-color: #7f7f7f\">:</span><a href=\"file:///home/ngardn10/projects/cuticulus/cuticulus/mlutils/torch.py#63\"><span style=\"color: #7f7f7f; text-decoration-color: #7f7f7f\">63</span></a>\n",
       "</pre>\n"
      ],
      "text/plain": [
       "\u001b[2;36m          \u001b[0m\u001b[2;36m \u001b[0mEpoch \u001b[1;36m49\u001b[0m/\u001b[1;36m99\u001b[0m                                                            \u001b]8;id=574322;file:///home/ngardn10/projects/cuticulus/cuticulus/mlutils/torch.py\u001b\\\u001b[2mtorch.py\u001b[0m\u001b]8;;\u001b\\\u001b[2m:\u001b[0m\u001b]8;id=181847;file:///home/ngardn10/projects/cuticulus/cuticulus/mlutils/torch.py#63\u001b\\\u001b[2m63\u001b[0m\u001b]8;;\u001b\\\n"
      ]
     },
     "metadata": {},
     "output_type": "display_data"
    },
    {
     "data": {
      "text/html": [
       "<pre style=\"white-space:pre;overflow-x:auto;line-height:normal;font-family:Menlo,'DejaVu Sans Mono',consolas,'Courier New',monospace\"><span style=\"color: #7fbfbf; text-decoration-color: #7fbfbf\">           </span>----------                                                             <a href=\"file:///home/ngardn10/projects/cuticulus/cuticulus/mlutils/torch.py\"><span style=\"color: #7f7f7f; text-decoration-color: #7f7f7f\">torch.py</span></a><span style=\"color: #7f7f7f; text-decoration-color: #7f7f7f\">:</span><a href=\"file:///home/ngardn10/projects/cuticulus/cuticulus/mlutils/torch.py#64\"><span style=\"color: #7f7f7f; text-decoration-color: #7f7f7f\">64</span></a>\n",
       "</pre>\n"
      ],
      "text/plain": [
       "\u001b[2;36m          \u001b[0m\u001b[2;36m \u001b[0m----------                                                             \u001b]8;id=582424;file:///home/ngardn10/projects/cuticulus/cuticulus/mlutils/torch.py\u001b\\\u001b[2mtorch.py\u001b[0m\u001b]8;;\u001b\\\u001b[2m:\u001b[0m\u001b]8;id=189110;file:///home/ngardn10/projects/cuticulus/cuticulus/mlutils/torch.py#64\u001b\\\u001b[2m64\u001b[0m\u001b]8;;\u001b\\\n"
      ]
     },
     "metadata": {},
     "output_type": "display_data"
    },
    {
     "data": {
      "text/html": [
       "<pre style=\"white-space:pre;overflow-x:auto;line-height:normal;font-family:Menlo,'DejaVu Sans Mono',consolas,'Courier New',monospace\"><span style=\"color: #7fbfbf; text-decoration-color: #7fbfbf\">[14:41:34] </span>train Loss: <span style=\"color: #008080; text-decoration-color: #008080; font-weight: bold\">0.0152</span> Acc: <span style=\"color: #008080; text-decoration-color: #008080; font-weight: bold\">0.9975</span>                                        <a href=\"file:///home/ngardn10/projects/cuticulus/cuticulus/mlutils/torch.py\"><span style=\"color: #7f7f7f; text-decoration-color: #7f7f7f\">torch.py</span></a><span style=\"color: #7f7f7f; text-decoration-color: #7f7f7f\">:</span><a href=\"file:///home/ngardn10/projects/cuticulus/cuticulus/mlutils/torch.py#109\"><span style=\"color: #7f7f7f; text-decoration-color: #7f7f7f\">109</span></a>\n",
       "</pre>\n"
      ],
      "text/plain": [
       "\u001b[2;36m[14:41:34]\u001b[0m\u001b[2;36m \u001b[0mtrain Loss: \u001b[1;36m0.0152\u001b[0m Acc: \u001b[1;36m0.9975\u001b[0m                                        \u001b]8;id=339302;file:///home/ngardn10/projects/cuticulus/cuticulus/mlutils/torch.py\u001b\\\u001b[2mtorch.py\u001b[0m\u001b]8;;\u001b\\\u001b[2m:\u001b[0m\u001b]8;id=60561;file:///home/ngardn10/projects/cuticulus/cuticulus/mlutils/torch.py#109\u001b\\\u001b[2m109\u001b[0m\u001b]8;;\u001b\\\n"
      ]
     },
     "metadata": {},
     "output_type": "display_data"
    },
    {
     "data": {
      "text/html": [
       "<pre style=\"white-space:pre;overflow-x:auto;line-height:normal;font-family:Menlo,'DejaVu Sans Mono',consolas,'Courier New',monospace\"><span style=\"color: #7fbfbf; text-decoration-color: #7fbfbf\">[14:41:35] </span>val Loss: <span style=\"color: #008080; text-decoration-color: #008080; font-weight: bold\">1.2088</span> Acc: <span style=\"color: #008080; text-decoration-color: #008080; font-weight: bold\">0.7820</span>                                          <a href=\"file:///home/ngardn10/projects/cuticulus/cuticulus/mlutils/torch.py\"><span style=\"color: #7f7f7f; text-decoration-color: #7f7f7f\">torch.py</span></a><span style=\"color: #7f7f7f; text-decoration-color: #7f7f7f\">:</span><a href=\"file:///home/ngardn10/projects/cuticulus/cuticulus/mlutils/torch.py#109\"><span style=\"color: #7f7f7f; text-decoration-color: #7f7f7f\">109</span></a>\n",
       "</pre>\n"
      ],
      "text/plain": [
       "\u001b[2;36m[14:41:35]\u001b[0m\u001b[2;36m \u001b[0mval Loss: \u001b[1;36m1.2088\u001b[0m Acc: \u001b[1;36m0.7820\u001b[0m                                          \u001b]8;id=244177;file:///home/ngardn10/projects/cuticulus/cuticulus/mlutils/torch.py\u001b\\\u001b[2mtorch.py\u001b[0m\u001b]8;;\u001b\\\u001b[2m:\u001b[0m\u001b]8;id=172158;file:///home/ngardn10/projects/cuticulus/cuticulus/mlutils/torch.py#109\u001b\\\u001b[2m109\u001b[0m\u001b]8;;\u001b\\\n"
      ]
     },
     "metadata": {},
     "output_type": "display_data"
    },
    {
     "data": {
      "text/html": [
       "<pre style=\"white-space:pre;overflow-x:auto;line-height:normal;font-family:Menlo,'DejaVu Sans Mono',consolas,'Courier New',monospace\"><span style=\"color: #7fbfbf; text-decoration-color: #7fbfbf\">           </span>Epoch <span style=\"color: #008080; text-decoration-color: #008080; font-weight: bold\">50</span>/<span style=\"color: #008080; text-decoration-color: #008080; font-weight: bold\">99</span>                                                            <a href=\"file:///home/ngardn10/projects/cuticulus/cuticulus/mlutils/torch.py\"><span style=\"color: #7f7f7f; text-decoration-color: #7f7f7f\">torch.py</span></a><span style=\"color: #7f7f7f; text-decoration-color: #7f7f7f\">:</span><a href=\"file:///home/ngardn10/projects/cuticulus/cuticulus/mlutils/torch.py#63\"><span style=\"color: #7f7f7f; text-decoration-color: #7f7f7f\">63</span></a>\n",
       "</pre>\n"
      ],
      "text/plain": [
       "\u001b[2;36m          \u001b[0m\u001b[2;36m \u001b[0mEpoch \u001b[1;36m50\u001b[0m/\u001b[1;36m99\u001b[0m                                                            \u001b]8;id=301474;file:///home/ngardn10/projects/cuticulus/cuticulus/mlutils/torch.py\u001b\\\u001b[2mtorch.py\u001b[0m\u001b]8;;\u001b\\\u001b[2m:\u001b[0m\u001b]8;id=191015;file:///home/ngardn10/projects/cuticulus/cuticulus/mlutils/torch.py#63\u001b\\\u001b[2m63\u001b[0m\u001b]8;;\u001b\\\n"
      ]
     },
     "metadata": {},
     "output_type": "display_data"
    },
    {
     "data": {
      "text/html": [
       "<pre style=\"white-space:pre;overflow-x:auto;line-height:normal;font-family:Menlo,'DejaVu Sans Mono',consolas,'Courier New',monospace\"><span style=\"color: #7fbfbf; text-decoration-color: #7fbfbf\">           </span>----------                                                             <a href=\"file:///home/ngardn10/projects/cuticulus/cuticulus/mlutils/torch.py\"><span style=\"color: #7f7f7f; text-decoration-color: #7f7f7f\">torch.py</span></a><span style=\"color: #7f7f7f; text-decoration-color: #7f7f7f\">:</span><a href=\"file:///home/ngardn10/projects/cuticulus/cuticulus/mlutils/torch.py#64\"><span style=\"color: #7f7f7f; text-decoration-color: #7f7f7f\">64</span></a>\n",
       "</pre>\n"
      ],
      "text/plain": [
       "\u001b[2;36m          \u001b[0m\u001b[2;36m \u001b[0m----------                                                             \u001b]8;id=355316;file:///home/ngardn10/projects/cuticulus/cuticulus/mlutils/torch.py\u001b\\\u001b[2mtorch.py\u001b[0m\u001b]8;;\u001b\\\u001b[2m:\u001b[0m\u001b]8;id=950248;file:///home/ngardn10/projects/cuticulus/cuticulus/mlutils/torch.py#64\u001b\\\u001b[2m64\u001b[0m\u001b]8;;\u001b\\\n"
      ]
     },
     "metadata": {},
     "output_type": "display_data"
    },
    {
     "data": {
      "text/html": [
       "<pre style=\"white-space:pre;overflow-x:auto;line-height:normal;font-family:Menlo,'DejaVu Sans Mono',consolas,'Courier New',monospace\"><span style=\"color: #7fbfbf; text-decoration-color: #7fbfbf\">[14:41:36] </span>train Loss: <span style=\"color: #008080; text-decoration-color: #008080; font-weight: bold\">0.0127</span> Acc: <span style=\"color: #008080; text-decoration-color: #008080; font-weight: bold\">0.9970</span>                                        <a href=\"file:///home/ngardn10/projects/cuticulus/cuticulus/mlutils/torch.py\"><span style=\"color: #7f7f7f; text-decoration-color: #7f7f7f\">torch.py</span></a><span style=\"color: #7f7f7f; text-decoration-color: #7f7f7f\">:</span><a href=\"file:///home/ngardn10/projects/cuticulus/cuticulus/mlutils/torch.py#109\"><span style=\"color: #7f7f7f; text-decoration-color: #7f7f7f\">109</span></a>\n",
       "</pre>\n"
      ],
      "text/plain": [
       "\u001b[2;36m[14:41:36]\u001b[0m\u001b[2;36m \u001b[0mtrain Loss: \u001b[1;36m0.0127\u001b[0m Acc: \u001b[1;36m0.9970\u001b[0m                                        \u001b]8;id=803956;file:///home/ngardn10/projects/cuticulus/cuticulus/mlutils/torch.py\u001b\\\u001b[2mtorch.py\u001b[0m\u001b]8;;\u001b\\\u001b[2m:\u001b[0m\u001b]8;id=604538;file:///home/ngardn10/projects/cuticulus/cuticulus/mlutils/torch.py#109\u001b\\\u001b[2m109\u001b[0m\u001b]8;;\u001b\\\n"
      ]
     },
     "metadata": {},
     "output_type": "display_data"
    },
    {
     "data": {
      "text/html": [
       "<pre style=\"white-space:pre;overflow-x:auto;line-height:normal;font-family:Menlo,'DejaVu Sans Mono',consolas,'Courier New',monospace\"><span style=\"color: #7fbfbf; text-decoration-color: #7fbfbf\">           </span>val Loss: <span style=\"color: #008080; text-decoration-color: #008080; font-weight: bold\">1.0284</span> Acc: <span style=\"color: #008080; text-decoration-color: #008080; font-weight: bold\">0.7924</span>                                          <a href=\"file:///home/ngardn10/projects/cuticulus/cuticulus/mlutils/torch.py\"><span style=\"color: #7f7f7f; text-decoration-color: #7f7f7f\">torch.py</span></a><span style=\"color: #7f7f7f; text-decoration-color: #7f7f7f\">:</span><a href=\"file:///home/ngardn10/projects/cuticulus/cuticulus/mlutils/torch.py#109\"><span style=\"color: #7f7f7f; text-decoration-color: #7f7f7f\">109</span></a>\n",
       "</pre>\n"
      ],
      "text/plain": [
       "\u001b[2;36m          \u001b[0m\u001b[2;36m \u001b[0mval Loss: \u001b[1;36m1.0284\u001b[0m Acc: \u001b[1;36m0.7924\u001b[0m                                          \u001b]8;id=108890;file:///home/ngardn10/projects/cuticulus/cuticulus/mlutils/torch.py\u001b\\\u001b[2mtorch.py\u001b[0m\u001b]8;;\u001b\\\u001b[2m:\u001b[0m\u001b]8;id=582297;file:///home/ngardn10/projects/cuticulus/cuticulus/mlutils/torch.py#109\u001b\\\u001b[2m109\u001b[0m\u001b]8;;\u001b\\\n"
      ]
     },
     "metadata": {},
     "output_type": "display_data"
    },
    {
     "data": {
      "text/html": [
       "<pre style=\"white-space:pre;overflow-x:auto;line-height:normal;font-family:Menlo,'DejaVu Sans Mono',consolas,'Courier New',monospace\"><span style=\"color: #7fbfbf; text-decoration-color: #7fbfbf\">           </span>Epoch <span style=\"color: #008080; text-decoration-color: #008080; font-weight: bold\">51</span>/<span style=\"color: #008080; text-decoration-color: #008080; font-weight: bold\">99</span>                                                            <a href=\"file:///home/ngardn10/projects/cuticulus/cuticulus/mlutils/torch.py\"><span style=\"color: #7f7f7f; text-decoration-color: #7f7f7f\">torch.py</span></a><span style=\"color: #7f7f7f; text-decoration-color: #7f7f7f\">:</span><a href=\"file:///home/ngardn10/projects/cuticulus/cuticulus/mlutils/torch.py#63\"><span style=\"color: #7f7f7f; text-decoration-color: #7f7f7f\">63</span></a>\n",
       "</pre>\n"
      ],
      "text/plain": [
       "\u001b[2;36m          \u001b[0m\u001b[2;36m \u001b[0mEpoch \u001b[1;36m51\u001b[0m/\u001b[1;36m99\u001b[0m                                                            \u001b]8;id=392873;file:///home/ngardn10/projects/cuticulus/cuticulus/mlutils/torch.py\u001b\\\u001b[2mtorch.py\u001b[0m\u001b]8;;\u001b\\\u001b[2m:\u001b[0m\u001b]8;id=974747;file:///home/ngardn10/projects/cuticulus/cuticulus/mlutils/torch.py#63\u001b\\\u001b[2m63\u001b[0m\u001b]8;;\u001b\\\n"
      ]
     },
     "metadata": {},
     "output_type": "display_data"
    },
    {
     "data": {
      "text/html": [
       "<pre style=\"white-space:pre;overflow-x:auto;line-height:normal;font-family:Menlo,'DejaVu Sans Mono',consolas,'Courier New',monospace\"><span style=\"color: #7fbfbf; text-decoration-color: #7fbfbf\">           </span>----------                                                             <a href=\"file:///home/ngardn10/projects/cuticulus/cuticulus/mlutils/torch.py\"><span style=\"color: #7f7f7f; text-decoration-color: #7f7f7f\">torch.py</span></a><span style=\"color: #7f7f7f; text-decoration-color: #7f7f7f\">:</span><a href=\"file:///home/ngardn10/projects/cuticulus/cuticulus/mlutils/torch.py#64\"><span style=\"color: #7f7f7f; text-decoration-color: #7f7f7f\">64</span></a>\n",
       "</pre>\n"
      ],
      "text/plain": [
       "\u001b[2;36m          \u001b[0m\u001b[2;36m \u001b[0m----------                                                             \u001b]8;id=170256;file:///home/ngardn10/projects/cuticulus/cuticulus/mlutils/torch.py\u001b\\\u001b[2mtorch.py\u001b[0m\u001b]8;;\u001b\\\u001b[2m:\u001b[0m\u001b]8;id=448253;file:///home/ngardn10/projects/cuticulus/cuticulus/mlutils/torch.py#64\u001b\\\u001b[2m64\u001b[0m\u001b]8;;\u001b\\\n"
      ]
     },
     "metadata": {},
     "output_type": "display_data"
    },
    {
     "data": {
      "text/html": [
       "<pre style=\"white-space:pre;overflow-x:auto;line-height:normal;font-family:Menlo,'DejaVu Sans Mono',consolas,'Courier New',monospace\"><span style=\"color: #7fbfbf; text-decoration-color: #7fbfbf\">[14:41:38] </span>train Loss: <span style=\"color: #008080; text-decoration-color: #008080; font-weight: bold\">0.0068</span> Acc: <span style=\"color: #008080; text-decoration-color: #008080; font-weight: bold\">0.9975</span>                                        <a href=\"file:///home/ngardn10/projects/cuticulus/cuticulus/mlutils/torch.py\"><span style=\"color: #7f7f7f; text-decoration-color: #7f7f7f\">torch.py</span></a><span style=\"color: #7f7f7f; text-decoration-color: #7f7f7f\">:</span><a href=\"file:///home/ngardn10/projects/cuticulus/cuticulus/mlutils/torch.py#109\"><span style=\"color: #7f7f7f; text-decoration-color: #7f7f7f\">109</span></a>\n",
       "</pre>\n"
      ],
      "text/plain": [
       "\u001b[2;36m[14:41:38]\u001b[0m\u001b[2;36m \u001b[0mtrain Loss: \u001b[1;36m0.0068\u001b[0m Acc: \u001b[1;36m0.9975\u001b[0m                                        \u001b]8;id=662771;file:///home/ngardn10/projects/cuticulus/cuticulus/mlutils/torch.py\u001b\\\u001b[2mtorch.py\u001b[0m\u001b]8;;\u001b\\\u001b[2m:\u001b[0m\u001b]8;id=678277;file:///home/ngardn10/projects/cuticulus/cuticulus/mlutils/torch.py#109\u001b\\\u001b[2m109\u001b[0m\u001b]8;;\u001b\\\n"
      ]
     },
     "metadata": {},
     "output_type": "display_data"
    },
    {
     "data": {
      "text/html": [
       "<pre style=\"white-space:pre;overflow-x:auto;line-height:normal;font-family:Menlo,'DejaVu Sans Mono',consolas,'Courier New',monospace\"><span style=\"color: #7fbfbf; text-decoration-color: #7fbfbf\">           </span>val Loss: <span style=\"color: #008080; text-decoration-color: #008080; font-weight: bold\">1.0241</span> Acc: <span style=\"color: #008080; text-decoration-color: #008080; font-weight: bold\">0.7924</span>                                          <a href=\"file:///home/ngardn10/projects/cuticulus/cuticulus/mlutils/torch.py\"><span style=\"color: #7f7f7f; text-decoration-color: #7f7f7f\">torch.py</span></a><span style=\"color: #7f7f7f; text-decoration-color: #7f7f7f\">:</span><a href=\"file:///home/ngardn10/projects/cuticulus/cuticulus/mlutils/torch.py#109\"><span style=\"color: #7f7f7f; text-decoration-color: #7f7f7f\">109</span></a>\n",
       "</pre>\n"
      ],
      "text/plain": [
       "\u001b[2;36m          \u001b[0m\u001b[2;36m \u001b[0mval Loss: \u001b[1;36m1.0241\u001b[0m Acc: \u001b[1;36m0.7924\u001b[0m                                          \u001b]8;id=244312;file:///home/ngardn10/projects/cuticulus/cuticulus/mlutils/torch.py\u001b\\\u001b[2mtorch.py\u001b[0m\u001b]8;;\u001b\\\u001b[2m:\u001b[0m\u001b]8;id=558529;file:///home/ngardn10/projects/cuticulus/cuticulus/mlutils/torch.py#109\u001b\\\u001b[2m109\u001b[0m\u001b]8;;\u001b\\\n"
      ]
     },
     "metadata": {},
     "output_type": "display_data"
    },
    {
     "data": {
      "text/html": [
       "<pre style=\"white-space:pre;overflow-x:auto;line-height:normal;font-family:Menlo,'DejaVu Sans Mono',consolas,'Courier New',monospace\"><span style=\"color: #7fbfbf; text-decoration-color: #7fbfbf\">           </span>Epoch <span style=\"color: #008080; text-decoration-color: #008080; font-weight: bold\">52</span>/<span style=\"color: #008080; text-decoration-color: #008080; font-weight: bold\">99</span>                                                            <a href=\"file:///home/ngardn10/projects/cuticulus/cuticulus/mlutils/torch.py\"><span style=\"color: #7f7f7f; text-decoration-color: #7f7f7f\">torch.py</span></a><span style=\"color: #7f7f7f; text-decoration-color: #7f7f7f\">:</span><a href=\"file:///home/ngardn10/projects/cuticulus/cuticulus/mlutils/torch.py#63\"><span style=\"color: #7f7f7f; text-decoration-color: #7f7f7f\">63</span></a>\n",
       "</pre>\n"
      ],
      "text/plain": [
       "\u001b[2;36m          \u001b[0m\u001b[2;36m \u001b[0mEpoch \u001b[1;36m52\u001b[0m/\u001b[1;36m99\u001b[0m                                                            \u001b]8;id=986070;file:///home/ngardn10/projects/cuticulus/cuticulus/mlutils/torch.py\u001b\\\u001b[2mtorch.py\u001b[0m\u001b]8;;\u001b\\\u001b[2m:\u001b[0m\u001b]8;id=552901;file:///home/ngardn10/projects/cuticulus/cuticulus/mlutils/torch.py#63\u001b\\\u001b[2m63\u001b[0m\u001b]8;;\u001b\\\n"
      ]
     },
     "metadata": {},
     "output_type": "display_data"
    },
    {
     "data": {
      "text/html": [
       "<pre style=\"white-space:pre;overflow-x:auto;line-height:normal;font-family:Menlo,'DejaVu Sans Mono',consolas,'Courier New',monospace\"><span style=\"color: #7fbfbf; text-decoration-color: #7fbfbf\">           </span>----------                                                             <a href=\"file:///home/ngardn10/projects/cuticulus/cuticulus/mlutils/torch.py\"><span style=\"color: #7f7f7f; text-decoration-color: #7f7f7f\">torch.py</span></a><span style=\"color: #7f7f7f; text-decoration-color: #7f7f7f\">:</span><a href=\"file:///home/ngardn10/projects/cuticulus/cuticulus/mlutils/torch.py#64\"><span style=\"color: #7f7f7f; text-decoration-color: #7f7f7f\">64</span></a>\n",
       "</pre>\n"
      ],
      "text/plain": [
       "\u001b[2;36m          \u001b[0m\u001b[2;36m \u001b[0m----------                                                             \u001b]8;id=815960;file:///home/ngardn10/projects/cuticulus/cuticulus/mlutils/torch.py\u001b\\\u001b[2mtorch.py\u001b[0m\u001b]8;;\u001b\\\u001b[2m:\u001b[0m\u001b]8;id=675875;file:///home/ngardn10/projects/cuticulus/cuticulus/mlutils/torch.py#64\u001b\\\u001b[2m64\u001b[0m\u001b]8;;\u001b\\\n"
      ]
     },
     "metadata": {},
     "output_type": "display_data"
    },
    {
     "data": {
      "text/html": [
       "<pre style=\"white-space:pre;overflow-x:auto;line-height:normal;font-family:Menlo,'DejaVu Sans Mono',consolas,'Courier New',monospace\"><span style=\"color: #7fbfbf; text-decoration-color: #7fbfbf\">[14:41:40] </span>train Loss: <span style=\"color: #008080; text-decoration-color: #008080; font-weight: bold\">0.0081</span> Acc: <span style=\"color: #008080; text-decoration-color: #008080; font-weight: bold\">0.9975</span>                                        <a href=\"file:///home/ngardn10/projects/cuticulus/cuticulus/mlutils/torch.py\"><span style=\"color: #7f7f7f; text-decoration-color: #7f7f7f\">torch.py</span></a><span style=\"color: #7f7f7f; text-decoration-color: #7f7f7f\">:</span><a href=\"file:///home/ngardn10/projects/cuticulus/cuticulus/mlutils/torch.py#109\"><span style=\"color: #7f7f7f; text-decoration-color: #7f7f7f\">109</span></a>\n",
       "</pre>\n"
      ],
      "text/plain": [
       "\u001b[2;36m[14:41:40]\u001b[0m\u001b[2;36m \u001b[0mtrain Loss: \u001b[1;36m0.0081\u001b[0m Acc: \u001b[1;36m0.9975\u001b[0m                                        \u001b]8;id=338381;file:///home/ngardn10/projects/cuticulus/cuticulus/mlutils/torch.py\u001b\\\u001b[2mtorch.py\u001b[0m\u001b]8;;\u001b\\\u001b[2m:\u001b[0m\u001b]8;id=347903;file:///home/ngardn10/projects/cuticulus/cuticulus/mlutils/torch.py#109\u001b\\\u001b[2m109\u001b[0m\u001b]8;;\u001b\\\n"
      ]
     },
     "metadata": {},
     "output_type": "display_data"
    },
    {
     "data": {
      "text/html": [
       "<pre style=\"white-space:pre;overflow-x:auto;line-height:normal;font-family:Menlo,'DejaVu Sans Mono',consolas,'Courier New',monospace\"><span style=\"color: #7fbfbf; text-decoration-color: #7fbfbf\">           </span>val Loss: <span style=\"color: #008080; text-decoration-color: #008080; font-weight: bold\">1.1214</span> Acc: <span style=\"color: #008080; text-decoration-color: #008080; font-weight: bold\">0.7807</span>                                          <a href=\"file:///home/ngardn10/projects/cuticulus/cuticulus/mlutils/torch.py\"><span style=\"color: #7f7f7f; text-decoration-color: #7f7f7f\">torch.py</span></a><span style=\"color: #7f7f7f; text-decoration-color: #7f7f7f\">:</span><a href=\"file:///home/ngardn10/projects/cuticulus/cuticulus/mlutils/torch.py#109\"><span style=\"color: #7f7f7f; text-decoration-color: #7f7f7f\">109</span></a>\n",
       "</pre>\n"
      ],
      "text/plain": [
       "\u001b[2;36m          \u001b[0m\u001b[2;36m \u001b[0mval Loss: \u001b[1;36m1.1214\u001b[0m Acc: \u001b[1;36m0.7807\u001b[0m                                          \u001b]8;id=402381;file:///home/ngardn10/projects/cuticulus/cuticulus/mlutils/torch.py\u001b\\\u001b[2mtorch.py\u001b[0m\u001b]8;;\u001b\\\u001b[2m:\u001b[0m\u001b]8;id=361459;file:///home/ngardn10/projects/cuticulus/cuticulus/mlutils/torch.py#109\u001b\\\u001b[2m109\u001b[0m\u001b]8;;\u001b\\\n"
      ]
     },
     "metadata": {},
     "output_type": "display_data"
    },
    {
     "data": {
      "text/html": [
       "<pre style=\"white-space:pre;overflow-x:auto;line-height:normal;font-family:Menlo,'DejaVu Sans Mono',consolas,'Courier New',monospace\"><span style=\"color: #7fbfbf; text-decoration-color: #7fbfbf\">           </span>Epoch <span style=\"color: #008080; text-decoration-color: #008080; font-weight: bold\">53</span>/<span style=\"color: #008080; text-decoration-color: #008080; font-weight: bold\">99</span>                                                            <a href=\"file:///home/ngardn10/projects/cuticulus/cuticulus/mlutils/torch.py\"><span style=\"color: #7f7f7f; text-decoration-color: #7f7f7f\">torch.py</span></a><span style=\"color: #7f7f7f; text-decoration-color: #7f7f7f\">:</span><a href=\"file:///home/ngardn10/projects/cuticulus/cuticulus/mlutils/torch.py#63\"><span style=\"color: #7f7f7f; text-decoration-color: #7f7f7f\">63</span></a>\n",
       "</pre>\n"
      ],
      "text/plain": [
       "\u001b[2;36m          \u001b[0m\u001b[2;36m \u001b[0mEpoch \u001b[1;36m53\u001b[0m/\u001b[1;36m99\u001b[0m                                                            \u001b]8;id=325134;file:///home/ngardn10/projects/cuticulus/cuticulus/mlutils/torch.py\u001b\\\u001b[2mtorch.py\u001b[0m\u001b]8;;\u001b\\\u001b[2m:\u001b[0m\u001b]8;id=15079;file:///home/ngardn10/projects/cuticulus/cuticulus/mlutils/torch.py#63\u001b\\\u001b[2m63\u001b[0m\u001b]8;;\u001b\\\n"
      ]
     },
     "metadata": {},
     "output_type": "display_data"
    },
    {
     "data": {
      "text/html": [
       "<pre style=\"white-space:pre;overflow-x:auto;line-height:normal;font-family:Menlo,'DejaVu Sans Mono',consolas,'Courier New',monospace\"><span style=\"color: #7fbfbf; text-decoration-color: #7fbfbf\">           </span>----------                                                             <a href=\"file:///home/ngardn10/projects/cuticulus/cuticulus/mlutils/torch.py\"><span style=\"color: #7f7f7f; text-decoration-color: #7f7f7f\">torch.py</span></a><span style=\"color: #7f7f7f; text-decoration-color: #7f7f7f\">:</span><a href=\"file:///home/ngardn10/projects/cuticulus/cuticulus/mlutils/torch.py#64\"><span style=\"color: #7f7f7f; text-decoration-color: #7f7f7f\">64</span></a>\n",
       "</pre>\n"
      ],
      "text/plain": [
       "\u001b[2;36m          \u001b[0m\u001b[2;36m \u001b[0m----------                                                             \u001b]8;id=752250;file:///home/ngardn10/projects/cuticulus/cuticulus/mlutils/torch.py\u001b\\\u001b[2mtorch.py\u001b[0m\u001b]8;;\u001b\\\u001b[2m:\u001b[0m\u001b]8;id=153766;file:///home/ngardn10/projects/cuticulus/cuticulus/mlutils/torch.py#64\u001b\\\u001b[2m64\u001b[0m\u001b]8;;\u001b\\\n"
      ]
     },
     "metadata": {},
     "output_type": "display_data"
    },
    {
     "data": {
      "text/html": [
       "<pre style=\"white-space:pre;overflow-x:auto;line-height:normal;font-family:Menlo,'DejaVu Sans Mono',consolas,'Courier New',monospace\"><span style=\"color: #7fbfbf; text-decoration-color: #7fbfbf\">[14:41:42] </span>train Loss: <span style=\"color: #008080; text-decoration-color: #008080; font-weight: bold\">0.0061</span> Acc: <span style=\"color: #008080; text-decoration-color: #008080; font-weight: bold\">0.9975</span>                                        <a href=\"file:///home/ngardn10/projects/cuticulus/cuticulus/mlutils/torch.py\"><span style=\"color: #7f7f7f; text-decoration-color: #7f7f7f\">torch.py</span></a><span style=\"color: #7f7f7f; text-decoration-color: #7f7f7f\">:</span><a href=\"file:///home/ngardn10/projects/cuticulus/cuticulus/mlutils/torch.py#109\"><span style=\"color: #7f7f7f; text-decoration-color: #7f7f7f\">109</span></a>\n",
       "</pre>\n"
      ],
      "text/plain": [
       "\u001b[2;36m[14:41:42]\u001b[0m\u001b[2;36m \u001b[0mtrain Loss: \u001b[1;36m0.0061\u001b[0m Acc: \u001b[1;36m0.9975\u001b[0m                                        \u001b]8;id=852776;file:///home/ngardn10/projects/cuticulus/cuticulus/mlutils/torch.py\u001b\\\u001b[2mtorch.py\u001b[0m\u001b]8;;\u001b\\\u001b[2m:\u001b[0m\u001b]8;id=632502;file:///home/ngardn10/projects/cuticulus/cuticulus/mlutils/torch.py#109\u001b\\\u001b[2m109\u001b[0m\u001b]8;;\u001b\\\n"
      ]
     },
     "metadata": {},
     "output_type": "display_data"
    },
    {
     "data": {
      "text/html": [
       "<pre style=\"white-space:pre;overflow-x:auto;line-height:normal;font-family:Menlo,'DejaVu Sans Mono',consolas,'Courier New',monospace\"><span style=\"color: #7fbfbf; text-decoration-color: #7fbfbf\">           </span>val Loss: <span style=\"color: #008080; text-decoration-color: #008080; font-weight: bold\">1.0416</span> Acc: <span style=\"color: #008080; text-decoration-color: #008080; font-weight: bold\">0.7977</span>                                          <a href=\"file:///home/ngardn10/projects/cuticulus/cuticulus/mlutils/torch.py\"><span style=\"color: #7f7f7f; text-decoration-color: #7f7f7f\">torch.py</span></a><span style=\"color: #7f7f7f; text-decoration-color: #7f7f7f\">:</span><a href=\"file:///home/ngardn10/projects/cuticulus/cuticulus/mlutils/torch.py#109\"><span style=\"color: #7f7f7f; text-decoration-color: #7f7f7f\">109</span></a>\n",
       "</pre>\n"
      ],
      "text/plain": [
       "\u001b[2;36m          \u001b[0m\u001b[2;36m \u001b[0mval Loss: \u001b[1;36m1.0416\u001b[0m Acc: \u001b[1;36m0.7977\u001b[0m                                          \u001b]8;id=536116;file:///home/ngardn10/projects/cuticulus/cuticulus/mlutils/torch.py\u001b\\\u001b[2mtorch.py\u001b[0m\u001b]8;;\u001b\\\u001b[2m:\u001b[0m\u001b]8;id=517851;file:///home/ngardn10/projects/cuticulus/cuticulus/mlutils/torch.py#109\u001b\\\u001b[2m109\u001b[0m\u001b]8;;\u001b\\\n"
      ]
     },
     "metadata": {},
     "output_type": "display_data"
    },
    {
     "data": {
      "text/html": [
       "<pre style=\"white-space:pre;overflow-x:auto;line-height:normal;font-family:Menlo,'DejaVu Sans Mono',consolas,'Courier New',monospace\"><span style=\"color: #7fbfbf; text-decoration-color: #7fbfbf\">           </span>Epoch <span style=\"color: #008080; text-decoration-color: #008080; font-weight: bold\">54</span>/<span style=\"color: #008080; text-decoration-color: #008080; font-weight: bold\">99</span>                                                            <a href=\"file:///home/ngardn10/projects/cuticulus/cuticulus/mlutils/torch.py\"><span style=\"color: #7f7f7f; text-decoration-color: #7f7f7f\">torch.py</span></a><span style=\"color: #7f7f7f; text-decoration-color: #7f7f7f\">:</span><a href=\"file:///home/ngardn10/projects/cuticulus/cuticulus/mlutils/torch.py#63\"><span style=\"color: #7f7f7f; text-decoration-color: #7f7f7f\">63</span></a>\n",
       "</pre>\n"
      ],
      "text/plain": [
       "\u001b[2;36m          \u001b[0m\u001b[2;36m \u001b[0mEpoch \u001b[1;36m54\u001b[0m/\u001b[1;36m99\u001b[0m                                                            \u001b]8;id=939418;file:///home/ngardn10/projects/cuticulus/cuticulus/mlutils/torch.py\u001b\\\u001b[2mtorch.py\u001b[0m\u001b]8;;\u001b\\\u001b[2m:\u001b[0m\u001b]8;id=866581;file:///home/ngardn10/projects/cuticulus/cuticulus/mlutils/torch.py#63\u001b\\\u001b[2m63\u001b[0m\u001b]8;;\u001b\\\n"
      ]
     },
     "metadata": {},
     "output_type": "display_data"
    },
    {
     "data": {
      "text/html": [
       "<pre style=\"white-space:pre;overflow-x:auto;line-height:normal;font-family:Menlo,'DejaVu Sans Mono',consolas,'Courier New',monospace\"><span style=\"color: #7fbfbf; text-decoration-color: #7fbfbf\">           </span>----------                                                             <a href=\"file:///home/ngardn10/projects/cuticulus/cuticulus/mlutils/torch.py\"><span style=\"color: #7f7f7f; text-decoration-color: #7f7f7f\">torch.py</span></a><span style=\"color: #7f7f7f; text-decoration-color: #7f7f7f\">:</span><a href=\"file:///home/ngardn10/projects/cuticulus/cuticulus/mlutils/torch.py#64\"><span style=\"color: #7f7f7f; text-decoration-color: #7f7f7f\">64</span></a>\n",
       "</pre>\n"
      ],
      "text/plain": [
       "\u001b[2;36m          \u001b[0m\u001b[2;36m \u001b[0m----------                                                             \u001b]8;id=436204;file:///home/ngardn10/projects/cuticulus/cuticulus/mlutils/torch.py\u001b\\\u001b[2mtorch.py\u001b[0m\u001b]8;;\u001b\\\u001b[2m:\u001b[0m\u001b]8;id=427301;file:///home/ngardn10/projects/cuticulus/cuticulus/mlutils/torch.py#64\u001b\\\u001b[2m64\u001b[0m\u001b]8;;\u001b\\\n"
      ]
     },
     "metadata": {},
     "output_type": "display_data"
    },
    {
     "data": {
      "text/html": [
       "<pre style=\"white-space:pre;overflow-x:auto;line-height:normal;font-family:Menlo,'DejaVu Sans Mono',consolas,'Courier New',monospace\"><span style=\"color: #7fbfbf; text-decoration-color: #7fbfbf\">[14:41:44] </span>train Loss: <span style=\"color: #008080; text-decoration-color: #008080; font-weight: bold\">0.0357</span> Acc: <span style=\"color: #008080; text-decoration-color: #008080; font-weight: bold\">0.9915</span>                                        <a href=\"file:///home/ngardn10/projects/cuticulus/cuticulus/mlutils/torch.py\"><span style=\"color: #7f7f7f; text-decoration-color: #7f7f7f\">torch.py</span></a><span style=\"color: #7f7f7f; text-decoration-color: #7f7f7f\">:</span><a href=\"file:///home/ngardn10/projects/cuticulus/cuticulus/mlutils/torch.py#109\"><span style=\"color: #7f7f7f; text-decoration-color: #7f7f7f\">109</span></a>\n",
       "</pre>\n"
      ],
      "text/plain": [
       "\u001b[2;36m[14:41:44]\u001b[0m\u001b[2;36m \u001b[0mtrain Loss: \u001b[1;36m0.0357\u001b[0m Acc: \u001b[1;36m0.9915\u001b[0m                                        \u001b]8;id=36041;file:///home/ngardn10/projects/cuticulus/cuticulus/mlutils/torch.py\u001b\\\u001b[2mtorch.py\u001b[0m\u001b]8;;\u001b\\\u001b[2m:\u001b[0m\u001b]8;id=447410;file:///home/ngardn10/projects/cuticulus/cuticulus/mlutils/torch.py#109\u001b\\\u001b[2m109\u001b[0m\u001b]8;;\u001b\\\n"
      ]
     },
     "metadata": {},
     "output_type": "display_data"
    },
    {
     "data": {
      "text/html": [
       "<pre style=\"white-space:pre;overflow-x:auto;line-height:normal;font-family:Menlo,'DejaVu Sans Mono',consolas,'Courier New',monospace\"><span style=\"color: #7fbfbf; text-decoration-color: #7fbfbf\">           </span>val Loss: <span style=\"color: #008080; text-decoration-color: #008080; font-weight: bold\">0.9770</span> Acc: <span style=\"color: #008080; text-decoration-color: #008080; font-weight: bold\">0.7911</span>                                          <a href=\"file:///home/ngardn10/projects/cuticulus/cuticulus/mlutils/torch.py\"><span style=\"color: #7f7f7f; text-decoration-color: #7f7f7f\">torch.py</span></a><span style=\"color: #7f7f7f; text-decoration-color: #7f7f7f\">:</span><a href=\"file:///home/ngardn10/projects/cuticulus/cuticulus/mlutils/torch.py#109\"><span style=\"color: #7f7f7f; text-decoration-color: #7f7f7f\">109</span></a>\n",
       "</pre>\n"
      ],
      "text/plain": [
       "\u001b[2;36m          \u001b[0m\u001b[2;36m \u001b[0mval Loss: \u001b[1;36m0.9770\u001b[0m Acc: \u001b[1;36m0.7911\u001b[0m                                          \u001b]8;id=624195;file:///home/ngardn10/projects/cuticulus/cuticulus/mlutils/torch.py\u001b\\\u001b[2mtorch.py\u001b[0m\u001b]8;;\u001b\\\u001b[2m:\u001b[0m\u001b]8;id=322923;file:///home/ngardn10/projects/cuticulus/cuticulus/mlutils/torch.py#109\u001b\\\u001b[2m109\u001b[0m\u001b]8;;\u001b\\\n"
      ]
     },
     "metadata": {},
     "output_type": "display_data"
    },
    {
     "data": {
      "text/html": [
       "<pre style=\"white-space:pre;overflow-x:auto;line-height:normal;font-family:Menlo,'DejaVu Sans Mono',consolas,'Courier New',monospace\"><span style=\"color: #7fbfbf; text-decoration-color: #7fbfbf\">           </span>Epoch <span style=\"color: #008080; text-decoration-color: #008080; font-weight: bold\">55</span>/<span style=\"color: #008080; text-decoration-color: #008080; font-weight: bold\">99</span>                                                            <a href=\"file:///home/ngardn10/projects/cuticulus/cuticulus/mlutils/torch.py\"><span style=\"color: #7f7f7f; text-decoration-color: #7f7f7f\">torch.py</span></a><span style=\"color: #7f7f7f; text-decoration-color: #7f7f7f\">:</span><a href=\"file:///home/ngardn10/projects/cuticulus/cuticulus/mlutils/torch.py#63\"><span style=\"color: #7f7f7f; text-decoration-color: #7f7f7f\">63</span></a>\n",
       "</pre>\n"
      ],
      "text/plain": [
       "\u001b[2;36m          \u001b[0m\u001b[2;36m \u001b[0mEpoch \u001b[1;36m55\u001b[0m/\u001b[1;36m99\u001b[0m                                                            \u001b]8;id=257377;file:///home/ngardn10/projects/cuticulus/cuticulus/mlutils/torch.py\u001b\\\u001b[2mtorch.py\u001b[0m\u001b]8;;\u001b\\\u001b[2m:\u001b[0m\u001b]8;id=535287;file:///home/ngardn10/projects/cuticulus/cuticulus/mlutils/torch.py#63\u001b\\\u001b[2m63\u001b[0m\u001b]8;;\u001b\\\n"
      ]
     },
     "metadata": {},
     "output_type": "display_data"
    },
    {
     "data": {
      "text/html": [
       "<pre style=\"white-space:pre;overflow-x:auto;line-height:normal;font-family:Menlo,'DejaVu Sans Mono',consolas,'Courier New',monospace\"><span style=\"color: #7fbfbf; text-decoration-color: #7fbfbf\">           </span>----------                                                             <a href=\"file:///home/ngardn10/projects/cuticulus/cuticulus/mlutils/torch.py\"><span style=\"color: #7f7f7f; text-decoration-color: #7f7f7f\">torch.py</span></a><span style=\"color: #7f7f7f; text-decoration-color: #7f7f7f\">:</span><a href=\"file:///home/ngardn10/projects/cuticulus/cuticulus/mlutils/torch.py#64\"><span style=\"color: #7f7f7f; text-decoration-color: #7f7f7f\">64</span></a>\n",
       "</pre>\n"
      ],
      "text/plain": [
       "\u001b[2;36m          \u001b[0m\u001b[2;36m \u001b[0m----------                                                             \u001b]8;id=367972;file:///home/ngardn10/projects/cuticulus/cuticulus/mlutils/torch.py\u001b\\\u001b[2mtorch.py\u001b[0m\u001b]8;;\u001b\\\u001b[2m:\u001b[0m\u001b]8;id=430157;file:///home/ngardn10/projects/cuticulus/cuticulus/mlutils/torch.py#64\u001b\\\u001b[2m64\u001b[0m\u001b]8;;\u001b\\\n"
      ]
     },
     "metadata": {},
     "output_type": "display_data"
    },
    {
     "data": {
      "text/html": [
       "<pre style=\"white-space:pre;overflow-x:auto;line-height:normal;font-family:Menlo,'DejaVu Sans Mono',consolas,'Courier New',monospace\"><span style=\"color: #7fbfbf; text-decoration-color: #7fbfbf\">[14:41:46] </span>train Loss: <span style=\"color: #008080; text-decoration-color: #008080; font-weight: bold\">0.0142</span> Acc: <span style=\"color: #008080; text-decoration-color: #008080; font-weight: bold\">0.9950</span>                                        <a href=\"file:///home/ngardn10/projects/cuticulus/cuticulus/mlutils/torch.py\"><span style=\"color: #7f7f7f; text-decoration-color: #7f7f7f\">torch.py</span></a><span style=\"color: #7f7f7f; text-decoration-color: #7f7f7f\">:</span><a href=\"file:///home/ngardn10/projects/cuticulus/cuticulus/mlutils/torch.py#109\"><span style=\"color: #7f7f7f; text-decoration-color: #7f7f7f\">109</span></a>\n",
       "</pre>\n"
      ],
      "text/plain": [
       "\u001b[2;36m[14:41:46]\u001b[0m\u001b[2;36m \u001b[0mtrain Loss: \u001b[1;36m0.0142\u001b[0m Acc: \u001b[1;36m0.9950\u001b[0m                                        \u001b]8;id=930469;file:///home/ngardn10/projects/cuticulus/cuticulus/mlutils/torch.py\u001b\\\u001b[2mtorch.py\u001b[0m\u001b]8;;\u001b\\\u001b[2m:\u001b[0m\u001b]8;id=353184;file:///home/ngardn10/projects/cuticulus/cuticulus/mlutils/torch.py#109\u001b\\\u001b[2m109\u001b[0m\u001b]8;;\u001b\\\n"
      ]
     },
     "metadata": {},
     "output_type": "display_data"
    },
    {
     "data": {
      "text/html": [
       "<pre style=\"white-space:pre;overflow-x:auto;line-height:normal;font-family:Menlo,'DejaVu Sans Mono',consolas,'Courier New',monospace\"><span style=\"color: #7fbfbf; text-decoration-color: #7fbfbf\">           </span>val Loss: <span style=\"color: #008080; text-decoration-color: #008080; font-weight: bold\">0.9159</span> Acc: <span style=\"color: #008080; text-decoration-color: #008080; font-weight: bold\">0.7977</span>                                          <a href=\"file:///home/ngardn10/projects/cuticulus/cuticulus/mlutils/torch.py\"><span style=\"color: #7f7f7f; text-decoration-color: #7f7f7f\">torch.py</span></a><span style=\"color: #7f7f7f; text-decoration-color: #7f7f7f\">:</span><a href=\"file:///home/ngardn10/projects/cuticulus/cuticulus/mlutils/torch.py#109\"><span style=\"color: #7f7f7f; text-decoration-color: #7f7f7f\">109</span></a>\n",
       "</pre>\n"
      ],
      "text/plain": [
       "\u001b[2;36m          \u001b[0m\u001b[2;36m \u001b[0mval Loss: \u001b[1;36m0.9159\u001b[0m Acc: \u001b[1;36m0.7977\u001b[0m                                          \u001b]8;id=101832;file:///home/ngardn10/projects/cuticulus/cuticulus/mlutils/torch.py\u001b\\\u001b[2mtorch.py\u001b[0m\u001b]8;;\u001b\\\u001b[2m:\u001b[0m\u001b]8;id=585668;file:///home/ngardn10/projects/cuticulus/cuticulus/mlutils/torch.py#109\u001b\\\u001b[2m109\u001b[0m\u001b]8;;\u001b\\\n"
      ]
     },
     "metadata": {},
     "output_type": "display_data"
    },
    {
     "data": {
      "text/html": [
       "<pre style=\"white-space:pre;overflow-x:auto;line-height:normal;font-family:Menlo,'DejaVu Sans Mono',consolas,'Courier New',monospace\"><span style=\"color: #7fbfbf; text-decoration-color: #7fbfbf\">           </span>Epoch <span style=\"color: #008080; text-decoration-color: #008080; font-weight: bold\">56</span>/<span style=\"color: #008080; text-decoration-color: #008080; font-weight: bold\">99</span>                                                            <a href=\"file:///home/ngardn10/projects/cuticulus/cuticulus/mlutils/torch.py\"><span style=\"color: #7f7f7f; text-decoration-color: #7f7f7f\">torch.py</span></a><span style=\"color: #7f7f7f; text-decoration-color: #7f7f7f\">:</span><a href=\"file:///home/ngardn10/projects/cuticulus/cuticulus/mlutils/torch.py#63\"><span style=\"color: #7f7f7f; text-decoration-color: #7f7f7f\">63</span></a>\n",
       "</pre>\n"
      ],
      "text/plain": [
       "\u001b[2;36m          \u001b[0m\u001b[2;36m \u001b[0mEpoch \u001b[1;36m56\u001b[0m/\u001b[1;36m99\u001b[0m                                                            \u001b]8;id=191750;file:///home/ngardn10/projects/cuticulus/cuticulus/mlutils/torch.py\u001b\\\u001b[2mtorch.py\u001b[0m\u001b]8;;\u001b\\\u001b[2m:\u001b[0m\u001b]8;id=341968;file:///home/ngardn10/projects/cuticulus/cuticulus/mlutils/torch.py#63\u001b\\\u001b[2m63\u001b[0m\u001b]8;;\u001b\\\n"
      ]
     },
     "metadata": {},
     "output_type": "display_data"
    },
    {
     "data": {
      "text/html": [
       "<pre style=\"white-space:pre;overflow-x:auto;line-height:normal;font-family:Menlo,'DejaVu Sans Mono',consolas,'Courier New',monospace\"><span style=\"color: #7fbfbf; text-decoration-color: #7fbfbf\">           </span>----------                                                             <a href=\"file:///home/ngardn10/projects/cuticulus/cuticulus/mlutils/torch.py\"><span style=\"color: #7f7f7f; text-decoration-color: #7f7f7f\">torch.py</span></a><span style=\"color: #7f7f7f; text-decoration-color: #7f7f7f\">:</span><a href=\"file:///home/ngardn10/projects/cuticulus/cuticulus/mlutils/torch.py#64\"><span style=\"color: #7f7f7f; text-decoration-color: #7f7f7f\">64</span></a>\n",
       "</pre>\n"
      ],
      "text/plain": [
       "\u001b[2;36m          \u001b[0m\u001b[2;36m \u001b[0m----------                                                             \u001b]8;id=981141;file:///home/ngardn10/projects/cuticulus/cuticulus/mlutils/torch.py\u001b\\\u001b[2mtorch.py\u001b[0m\u001b]8;;\u001b\\\u001b[2m:\u001b[0m\u001b]8;id=670656;file:///home/ngardn10/projects/cuticulus/cuticulus/mlutils/torch.py#64\u001b\\\u001b[2m64\u001b[0m\u001b]8;;\u001b\\\n"
      ]
     },
     "metadata": {},
     "output_type": "display_data"
    },
    {
     "data": {
      "text/html": [
       "<pre style=\"white-space:pre;overflow-x:auto;line-height:normal;font-family:Menlo,'DejaVu Sans Mono',consolas,'Courier New',monospace\"><span style=\"color: #7fbfbf; text-decoration-color: #7fbfbf\">[14:41:48] </span>train Loss: <span style=\"color: #008080; text-decoration-color: #008080; font-weight: bold\">0.0263</span> Acc: <span style=\"color: #008080; text-decoration-color: #008080; font-weight: bold\">0.9925</span>                                        <a href=\"file:///home/ngardn10/projects/cuticulus/cuticulus/mlutils/torch.py\"><span style=\"color: #7f7f7f; text-decoration-color: #7f7f7f\">torch.py</span></a><span style=\"color: #7f7f7f; text-decoration-color: #7f7f7f\">:</span><a href=\"file:///home/ngardn10/projects/cuticulus/cuticulus/mlutils/torch.py#109\"><span style=\"color: #7f7f7f; text-decoration-color: #7f7f7f\">109</span></a>\n",
       "</pre>\n"
      ],
      "text/plain": [
       "\u001b[2;36m[14:41:48]\u001b[0m\u001b[2;36m \u001b[0mtrain Loss: \u001b[1;36m0.0263\u001b[0m Acc: \u001b[1;36m0.9925\u001b[0m                                        \u001b]8;id=901124;file:///home/ngardn10/projects/cuticulus/cuticulus/mlutils/torch.py\u001b\\\u001b[2mtorch.py\u001b[0m\u001b]8;;\u001b\\\u001b[2m:\u001b[0m\u001b]8;id=839641;file:///home/ngardn10/projects/cuticulus/cuticulus/mlutils/torch.py#109\u001b\\\u001b[2m109\u001b[0m\u001b]8;;\u001b\\\n"
      ]
     },
     "metadata": {},
     "output_type": "display_data"
    },
    {
     "data": {
      "text/html": [
       "<pre style=\"white-space:pre;overflow-x:auto;line-height:normal;font-family:Menlo,'DejaVu Sans Mono',consolas,'Courier New',monospace\"><span style=\"color: #7fbfbf; text-decoration-color: #7fbfbf\">           </span>val Loss: <span style=\"color: #008080; text-decoration-color: #008080; font-weight: bold\">0.9865</span> Acc: <span style=\"color: #008080; text-decoration-color: #008080; font-weight: bold\">0.8003</span>                                          <a href=\"file:///home/ngardn10/projects/cuticulus/cuticulus/mlutils/torch.py\"><span style=\"color: #7f7f7f; text-decoration-color: #7f7f7f\">torch.py</span></a><span style=\"color: #7f7f7f; text-decoration-color: #7f7f7f\">:</span><a href=\"file:///home/ngardn10/projects/cuticulus/cuticulus/mlutils/torch.py#109\"><span style=\"color: #7f7f7f; text-decoration-color: #7f7f7f\">109</span></a>\n",
       "</pre>\n"
      ],
      "text/plain": [
       "\u001b[2;36m          \u001b[0m\u001b[2;36m \u001b[0mval Loss: \u001b[1;36m0.9865\u001b[0m Acc: \u001b[1;36m0.8003\u001b[0m                                          \u001b]8;id=395238;file:///home/ngardn10/projects/cuticulus/cuticulus/mlutils/torch.py\u001b\\\u001b[2mtorch.py\u001b[0m\u001b]8;;\u001b\\\u001b[2m:\u001b[0m\u001b]8;id=786159;file:///home/ngardn10/projects/cuticulus/cuticulus/mlutils/torch.py#109\u001b\\\u001b[2m109\u001b[0m\u001b]8;;\u001b\\\n"
      ]
     },
     "metadata": {},
     "output_type": "display_data"
    },
    {
     "data": {
      "text/html": [
       "<pre style=\"white-space:pre;overflow-x:auto;line-height:normal;font-family:Menlo,'DejaVu Sans Mono',consolas,'Courier New',monospace\"><span style=\"color: #7fbfbf; text-decoration-color: #7fbfbf\">           </span>Epoch <span style=\"color: #008080; text-decoration-color: #008080; font-weight: bold\">57</span>/<span style=\"color: #008080; text-decoration-color: #008080; font-weight: bold\">99</span>                                                            <a href=\"file:///home/ngardn10/projects/cuticulus/cuticulus/mlutils/torch.py\"><span style=\"color: #7f7f7f; text-decoration-color: #7f7f7f\">torch.py</span></a><span style=\"color: #7f7f7f; text-decoration-color: #7f7f7f\">:</span><a href=\"file:///home/ngardn10/projects/cuticulus/cuticulus/mlutils/torch.py#63\"><span style=\"color: #7f7f7f; text-decoration-color: #7f7f7f\">63</span></a>\n",
       "</pre>\n"
      ],
      "text/plain": [
       "\u001b[2;36m          \u001b[0m\u001b[2;36m \u001b[0mEpoch \u001b[1;36m57\u001b[0m/\u001b[1;36m99\u001b[0m                                                            \u001b]8;id=425257;file:///home/ngardn10/projects/cuticulus/cuticulus/mlutils/torch.py\u001b\\\u001b[2mtorch.py\u001b[0m\u001b]8;;\u001b\\\u001b[2m:\u001b[0m\u001b]8;id=203840;file:///home/ngardn10/projects/cuticulus/cuticulus/mlutils/torch.py#63\u001b\\\u001b[2m63\u001b[0m\u001b]8;;\u001b\\\n"
      ]
     },
     "metadata": {},
     "output_type": "display_data"
    },
    {
     "data": {
      "text/html": [
       "<pre style=\"white-space:pre;overflow-x:auto;line-height:normal;font-family:Menlo,'DejaVu Sans Mono',consolas,'Courier New',monospace\"><span style=\"color: #7fbfbf; text-decoration-color: #7fbfbf\">           </span>----------                                                             <a href=\"file:///home/ngardn10/projects/cuticulus/cuticulus/mlutils/torch.py\"><span style=\"color: #7f7f7f; text-decoration-color: #7f7f7f\">torch.py</span></a><span style=\"color: #7f7f7f; text-decoration-color: #7f7f7f\">:</span><a href=\"file:///home/ngardn10/projects/cuticulus/cuticulus/mlutils/torch.py#64\"><span style=\"color: #7f7f7f; text-decoration-color: #7f7f7f\">64</span></a>\n",
       "</pre>\n"
      ],
      "text/plain": [
       "\u001b[2;36m          \u001b[0m\u001b[2;36m \u001b[0m----------                                                             \u001b]8;id=331584;file:///home/ngardn10/projects/cuticulus/cuticulus/mlutils/torch.py\u001b\\\u001b[2mtorch.py\u001b[0m\u001b]8;;\u001b\\\u001b[2m:\u001b[0m\u001b]8;id=804391;file:///home/ngardn10/projects/cuticulus/cuticulus/mlutils/torch.py#64\u001b\\\u001b[2m64\u001b[0m\u001b]8;;\u001b\\\n"
      ]
     },
     "metadata": {},
     "output_type": "display_data"
    },
    {
     "data": {
      "text/html": [
       "<pre style=\"white-space:pre;overflow-x:auto;line-height:normal;font-family:Menlo,'DejaVu Sans Mono',consolas,'Courier New',monospace\"><span style=\"color: #7fbfbf; text-decoration-color: #7fbfbf\">[14:41:50] </span>train Loss: <span style=\"color: #008080; text-decoration-color: #008080; font-weight: bold\">0.0193</span> Acc: <span style=\"color: #008080; text-decoration-color: #008080; font-weight: bold\">0.9945</span>                                        <a href=\"file:///home/ngardn10/projects/cuticulus/cuticulus/mlutils/torch.py\"><span style=\"color: #7f7f7f; text-decoration-color: #7f7f7f\">torch.py</span></a><span style=\"color: #7f7f7f; text-decoration-color: #7f7f7f\">:</span><a href=\"file:///home/ngardn10/projects/cuticulus/cuticulus/mlutils/torch.py#109\"><span style=\"color: #7f7f7f; text-decoration-color: #7f7f7f\">109</span></a>\n",
       "</pre>\n"
      ],
      "text/plain": [
       "\u001b[2;36m[14:41:50]\u001b[0m\u001b[2;36m \u001b[0mtrain Loss: \u001b[1;36m0.0193\u001b[0m Acc: \u001b[1;36m0.9945\u001b[0m                                        \u001b]8;id=918690;file:///home/ngardn10/projects/cuticulus/cuticulus/mlutils/torch.py\u001b\\\u001b[2mtorch.py\u001b[0m\u001b]8;;\u001b\\\u001b[2m:\u001b[0m\u001b]8;id=12030;file:///home/ngardn10/projects/cuticulus/cuticulus/mlutils/torch.py#109\u001b\\\u001b[2m109\u001b[0m\u001b]8;;\u001b\\\n"
      ]
     },
     "metadata": {},
     "output_type": "display_data"
    },
    {
     "data": {
      "text/html": [
       "<pre style=\"white-space:pre;overflow-x:auto;line-height:normal;font-family:Menlo,'DejaVu Sans Mono',consolas,'Courier New',monospace\"><span style=\"color: #7fbfbf; text-decoration-color: #7fbfbf\">           </span>val Loss: <span style=\"color: #008080; text-decoration-color: #008080; font-weight: bold\">1.1184</span> Acc: <span style=\"color: #008080; text-decoration-color: #008080; font-weight: bold\">0.7872</span>                                          <a href=\"file:///home/ngardn10/projects/cuticulus/cuticulus/mlutils/torch.py\"><span style=\"color: #7f7f7f; text-decoration-color: #7f7f7f\">torch.py</span></a><span style=\"color: #7f7f7f; text-decoration-color: #7f7f7f\">:</span><a href=\"file:///home/ngardn10/projects/cuticulus/cuticulus/mlutils/torch.py#109\"><span style=\"color: #7f7f7f; text-decoration-color: #7f7f7f\">109</span></a>\n",
       "</pre>\n"
      ],
      "text/plain": [
       "\u001b[2;36m          \u001b[0m\u001b[2;36m \u001b[0mval Loss: \u001b[1;36m1.1184\u001b[0m Acc: \u001b[1;36m0.7872\u001b[0m                                          \u001b]8;id=706023;file:///home/ngardn10/projects/cuticulus/cuticulus/mlutils/torch.py\u001b\\\u001b[2mtorch.py\u001b[0m\u001b]8;;\u001b\\\u001b[2m:\u001b[0m\u001b]8;id=733222;file:///home/ngardn10/projects/cuticulus/cuticulus/mlutils/torch.py#109\u001b\\\u001b[2m109\u001b[0m\u001b]8;;\u001b\\\n"
      ]
     },
     "metadata": {},
     "output_type": "display_data"
    },
    {
     "data": {
      "text/html": [
       "<pre style=\"white-space:pre;overflow-x:auto;line-height:normal;font-family:Menlo,'DejaVu Sans Mono',consolas,'Courier New',monospace\"><span style=\"color: #7fbfbf; text-decoration-color: #7fbfbf\">           </span>Epoch <span style=\"color: #008080; text-decoration-color: #008080; font-weight: bold\">58</span>/<span style=\"color: #008080; text-decoration-color: #008080; font-weight: bold\">99</span>                                                            <a href=\"file:///home/ngardn10/projects/cuticulus/cuticulus/mlutils/torch.py\"><span style=\"color: #7f7f7f; text-decoration-color: #7f7f7f\">torch.py</span></a><span style=\"color: #7f7f7f; text-decoration-color: #7f7f7f\">:</span><a href=\"file:///home/ngardn10/projects/cuticulus/cuticulus/mlutils/torch.py#63\"><span style=\"color: #7f7f7f; text-decoration-color: #7f7f7f\">63</span></a>\n",
       "</pre>\n"
      ],
      "text/plain": [
       "\u001b[2;36m          \u001b[0m\u001b[2;36m \u001b[0mEpoch \u001b[1;36m58\u001b[0m/\u001b[1;36m99\u001b[0m                                                            \u001b]8;id=840329;file:///home/ngardn10/projects/cuticulus/cuticulus/mlutils/torch.py\u001b\\\u001b[2mtorch.py\u001b[0m\u001b]8;;\u001b\\\u001b[2m:\u001b[0m\u001b]8;id=41876;file:///home/ngardn10/projects/cuticulus/cuticulus/mlutils/torch.py#63\u001b\\\u001b[2m63\u001b[0m\u001b]8;;\u001b\\\n"
      ]
     },
     "metadata": {},
     "output_type": "display_data"
    },
    {
     "data": {
      "text/html": [
       "<pre style=\"white-space:pre;overflow-x:auto;line-height:normal;font-family:Menlo,'DejaVu Sans Mono',consolas,'Courier New',monospace\"><span style=\"color: #7fbfbf; text-decoration-color: #7fbfbf\">           </span>----------                                                             <a href=\"file:///home/ngardn10/projects/cuticulus/cuticulus/mlutils/torch.py\"><span style=\"color: #7f7f7f; text-decoration-color: #7f7f7f\">torch.py</span></a><span style=\"color: #7f7f7f; text-decoration-color: #7f7f7f\">:</span><a href=\"file:///home/ngardn10/projects/cuticulus/cuticulus/mlutils/torch.py#64\"><span style=\"color: #7f7f7f; text-decoration-color: #7f7f7f\">64</span></a>\n",
       "</pre>\n"
      ],
      "text/plain": [
       "\u001b[2;36m          \u001b[0m\u001b[2;36m \u001b[0m----------                                                             \u001b]8;id=1377;file:///home/ngardn10/projects/cuticulus/cuticulus/mlutils/torch.py\u001b\\\u001b[2mtorch.py\u001b[0m\u001b]8;;\u001b\\\u001b[2m:\u001b[0m\u001b]8;id=963044;file:///home/ngardn10/projects/cuticulus/cuticulus/mlutils/torch.py#64\u001b\\\u001b[2m64\u001b[0m\u001b]8;;\u001b\\\n"
      ]
     },
     "metadata": {},
     "output_type": "display_data"
    },
    {
     "data": {
      "text/html": [
       "<pre style=\"white-space:pre;overflow-x:auto;line-height:normal;font-family:Menlo,'DejaVu Sans Mono',consolas,'Courier New',monospace\"><span style=\"color: #7fbfbf; text-decoration-color: #7fbfbf\">[14:41:51] </span>train Loss: <span style=\"color: #008080; text-decoration-color: #008080; font-weight: bold\">0.0087</span> Acc: <span style=\"color: #008080; text-decoration-color: #008080; font-weight: bold\">0.9975</span>                                        <a href=\"file:///home/ngardn10/projects/cuticulus/cuticulus/mlutils/torch.py\"><span style=\"color: #7f7f7f; text-decoration-color: #7f7f7f\">torch.py</span></a><span style=\"color: #7f7f7f; text-decoration-color: #7f7f7f\">:</span><a href=\"file:///home/ngardn10/projects/cuticulus/cuticulus/mlutils/torch.py#109\"><span style=\"color: #7f7f7f; text-decoration-color: #7f7f7f\">109</span></a>\n",
       "</pre>\n"
      ],
      "text/plain": [
       "\u001b[2;36m[14:41:51]\u001b[0m\u001b[2;36m \u001b[0mtrain Loss: \u001b[1;36m0.0087\u001b[0m Acc: \u001b[1;36m0.9975\u001b[0m                                        \u001b]8;id=46427;file:///home/ngardn10/projects/cuticulus/cuticulus/mlutils/torch.py\u001b\\\u001b[2mtorch.py\u001b[0m\u001b]8;;\u001b\\\u001b[2m:\u001b[0m\u001b]8;id=595523;file:///home/ngardn10/projects/cuticulus/cuticulus/mlutils/torch.py#109\u001b\\\u001b[2m109\u001b[0m\u001b]8;;\u001b\\\n"
      ]
     },
     "metadata": {},
     "output_type": "display_data"
    },
    {
     "data": {
      "text/html": [
       "<pre style=\"white-space:pre;overflow-x:auto;line-height:normal;font-family:Menlo,'DejaVu Sans Mono',consolas,'Courier New',monospace\"><span style=\"color: #7fbfbf; text-decoration-color: #7fbfbf\">[14:41:52] </span>val Loss: <span style=\"color: #008080; text-decoration-color: #008080; font-weight: bold\">1.0282</span> Acc: <span style=\"color: #008080; text-decoration-color: #008080; font-weight: bold\">0.7924</span>                                          <a href=\"file:///home/ngardn10/projects/cuticulus/cuticulus/mlutils/torch.py\"><span style=\"color: #7f7f7f; text-decoration-color: #7f7f7f\">torch.py</span></a><span style=\"color: #7f7f7f; text-decoration-color: #7f7f7f\">:</span><a href=\"file:///home/ngardn10/projects/cuticulus/cuticulus/mlutils/torch.py#109\"><span style=\"color: #7f7f7f; text-decoration-color: #7f7f7f\">109</span></a>\n",
       "</pre>\n"
      ],
      "text/plain": [
       "\u001b[2;36m[14:41:52]\u001b[0m\u001b[2;36m \u001b[0mval Loss: \u001b[1;36m1.0282\u001b[0m Acc: \u001b[1;36m0.7924\u001b[0m                                          \u001b]8;id=947990;file:///home/ngardn10/projects/cuticulus/cuticulus/mlutils/torch.py\u001b\\\u001b[2mtorch.py\u001b[0m\u001b]8;;\u001b\\\u001b[2m:\u001b[0m\u001b]8;id=109338;file:///home/ngardn10/projects/cuticulus/cuticulus/mlutils/torch.py#109\u001b\\\u001b[2m109\u001b[0m\u001b]8;;\u001b\\\n"
      ]
     },
     "metadata": {},
     "output_type": "display_data"
    },
    {
     "data": {
      "text/html": [
       "<pre style=\"white-space:pre;overflow-x:auto;line-height:normal;font-family:Menlo,'DejaVu Sans Mono',consolas,'Courier New',monospace\"><span style=\"color: #7fbfbf; text-decoration-color: #7fbfbf\">           </span>Epoch <span style=\"color: #008080; text-decoration-color: #008080; font-weight: bold\">59</span>/<span style=\"color: #008080; text-decoration-color: #008080; font-weight: bold\">99</span>                                                            <a href=\"file:///home/ngardn10/projects/cuticulus/cuticulus/mlutils/torch.py\"><span style=\"color: #7f7f7f; text-decoration-color: #7f7f7f\">torch.py</span></a><span style=\"color: #7f7f7f; text-decoration-color: #7f7f7f\">:</span><a href=\"file:///home/ngardn10/projects/cuticulus/cuticulus/mlutils/torch.py#63\"><span style=\"color: #7f7f7f; text-decoration-color: #7f7f7f\">63</span></a>\n",
       "</pre>\n"
      ],
      "text/plain": [
       "\u001b[2;36m          \u001b[0m\u001b[2;36m \u001b[0mEpoch \u001b[1;36m59\u001b[0m/\u001b[1;36m99\u001b[0m                                                            \u001b]8;id=81655;file:///home/ngardn10/projects/cuticulus/cuticulus/mlutils/torch.py\u001b\\\u001b[2mtorch.py\u001b[0m\u001b]8;;\u001b\\\u001b[2m:\u001b[0m\u001b]8;id=2417;file:///home/ngardn10/projects/cuticulus/cuticulus/mlutils/torch.py#63\u001b\\\u001b[2m63\u001b[0m\u001b]8;;\u001b\\\n"
      ]
     },
     "metadata": {},
     "output_type": "display_data"
    },
    {
     "data": {
      "text/html": [
       "<pre style=\"white-space:pre;overflow-x:auto;line-height:normal;font-family:Menlo,'DejaVu Sans Mono',consolas,'Courier New',monospace\"><span style=\"color: #7fbfbf; text-decoration-color: #7fbfbf\">           </span>----------                                                             <a href=\"file:///home/ngardn10/projects/cuticulus/cuticulus/mlutils/torch.py\"><span style=\"color: #7f7f7f; text-decoration-color: #7f7f7f\">torch.py</span></a><span style=\"color: #7f7f7f; text-decoration-color: #7f7f7f\">:</span><a href=\"file:///home/ngardn10/projects/cuticulus/cuticulus/mlutils/torch.py#64\"><span style=\"color: #7f7f7f; text-decoration-color: #7f7f7f\">64</span></a>\n",
       "</pre>\n"
      ],
      "text/plain": [
       "\u001b[2;36m          \u001b[0m\u001b[2;36m \u001b[0m----------                                                             \u001b]8;id=327677;file:///home/ngardn10/projects/cuticulus/cuticulus/mlutils/torch.py\u001b\\\u001b[2mtorch.py\u001b[0m\u001b]8;;\u001b\\\u001b[2m:\u001b[0m\u001b]8;id=849462;file:///home/ngardn10/projects/cuticulus/cuticulus/mlutils/torch.py#64\u001b\\\u001b[2m64\u001b[0m\u001b]8;;\u001b\\\n"
      ]
     },
     "metadata": {},
     "output_type": "display_data"
    },
    {
     "data": {
      "text/html": [
       "<pre style=\"white-space:pre;overflow-x:auto;line-height:normal;font-family:Menlo,'DejaVu Sans Mono',consolas,'Courier New',monospace\"><span style=\"color: #7fbfbf; text-decoration-color: #7fbfbf\">[14:41:53] </span>train Loss: <span style=\"color: #008080; text-decoration-color: #008080; font-weight: bold\">0.0049</span> Acc: <span style=\"color: #008080; text-decoration-color: #008080; font-weight: bold\">0.9990</span>                                        <a href=\"file:///home/ngardn10/projects/cuticulus/cuticulus/mlutils/torch.py\"><span style=\"color: #7f7f7f; text-decoration-color: #7f7f7f\">torch.py</span></a><span style=\"color: #7f7f7f; text-decoration-color: #7f7f7f\">:</span><a href=\"file:///home/ngardn10/projects/cuticulus/cuticulus/mlutils/torch.py#109\"><span style=\"color: #7f7f7f; text-decoration-color: #7f7f7f\">109</span></a>\n",
       "</pre>\n"
      ],
      "text/plain": [
       "\u001b[2;36m[14:41:53]\u001b[0m\u001b[2;36m \u001b[0mtrain Loss: \u001b[1;36m0.0049\u001b[0m Acc: \u001b[1;36m0.9990\u001b[0m                                        \u001b]8;id=975709;file:///home/ngardn10/projects/cuticulus/cuticulus/mlutils/torch.py\u001b\\\u001b[2mtorch.py\u001b[0m\u001b]8;;\u001b\\\u001b[2m:\u001b[0m\u001b]8;id=251074;file:///home/ngardn10/projects/cuticulus/cuticulus/mlutils/torch.py#109\u001b\\\u001b[2m109\u001b[0m\u001b]8;;\u001b\\\n"
      ]
     },
     "metadata": {},
     "output_type": "display_data"
    },
    {
     "data": {
      "text/html": [
       "<pre style=\"white-space:pre;overflow-x:auto;line-height:normal;font-family:Menlo,'DejaVu Sans Mono',consolas,'Courier New',monospace\"><span style=\"color: #7fbfbf; text-decoration-color: #7fbfbf\">[14:41:54] </span>val Loss: <span style=\"color: #008080; text-decoration-color: #008080; font-weight: bold\">1.0159</span> Acc: <span style=\"color: #008080; text-decoration-color: #008080; font-weight: bold\">0.7977</span>                                          <a href=\"file:///home/ngardn10/projects/cuticulus/cuticulus/mlutils/torch.py\"><span style=\"color: #7f7f7f; text-decoration-color: #7f7f7f\">torch.py</span></a><span style=\"color: #7f7f7f; text-decoration-color: #7f7f7f\">:</span><a href=\"file:///home/ngardn10/projects/cuticulus/cuticulus/mlutils/torch.py#109\"><span style=\"color: #7f7f7f; text-decoration-color: #7f7f7f\">109</span></a>\n",
       "</pre>\n"
      ],
      "text/plain": [
       "\u001b[2;36m[14:41:54]\u001b[0m\u001b[2;36m \u001b[0mval Loss: \u001b[1;36m1.0159\u001b[0m Acc: \u001b[1;36m0.7977\u001b[0m                                          \u001b]8;id=231361;file:///home/ngardn10/projects/cuticulus/cuticulus/mlutils/torch.py\u001b\\\u001b[2mtorch.py\u001b[0m\u001b]8;;\u001b\\\u001b[2m:\u001b[0m\u001b]8;id=537443;file:///home/ngardn10/projects/cuticulus/cuticulus/mlutils/torch.py#109\u001b\\\u001b[2m109\u001b[0m\u001b]8;;\u001b\\\n"
      ]
     },
     "metadata": {},
     "output_type": "display_data"
    },
    {
     "data": {
      "text/html": [
       "<pre style=\"white-space:pre;overflow-x:auto;line-height:normal;font-family:Menlo,'DejaVu Sans Mono',consolas,'Courier New',monospace\"><span style=\"color: #7fbfbf; text-decoration-color: #7fbfbf\">           </span>Epoch <span style=\"color: #008080; text-decoration-color: #008080; font-weight: bold\">60</span>/<span style=\"color: #008080; text-decoration-color: #008080; font-weight: bold\">99</span>                                                            <a href=\"file:///home/ngardn10/projects/cuticulus/cuticulus/mlutils/torch.py\"><span style=\"color: #7f7f7f; text-decoration-color: #7f7f7f\">torch.py</span></a><span style=\"color: #7f7f7f; text-decoration-color: #7f7f7f\">:</span><a href=\"file:///home/ngardn10/projects/cuticulus/cuticulus/mlutils/torch.py#63\"><span style=\"color: #7f7f7f; text-decoration-color: #7f7f7f\">63</span></a>\n",
       "</pre>\n"
      ],
      "text/plain": [
       "\u001b[2;36m          \u001b[0m\u001b[2;36m \u001b[0mEpoch \u001b[1;36m60\u001b[0m/\u001b[1;36m99\u001b[0m                                                            \u001b]8;id=411508;file:///home/ngardn10/projects/cuticulus/cuticulus/mlutils/torch.py\u001b\\\u001b[2mtorch.py\u001b[0m\u001b]8;;\u001b\\\u001b[2m:\u001b[0m\u001b]8;id=659988;file:///home/ngardn10/projects/cuticulus/cuticulus/mlutils/torch.py#63\u001b\\\u001b[2m63\u001b[0m\u001b]8;;\u001b\\\n"
      ]
     },
     "metadata": {},
     "output_type": "display_data"
    },
    {
     "data": {
      "text/html": [
       "<pre style=\"white-space:pre;overflow-x:auto;line-height:normal;font-family:Menlo,'DejaVu Sans Mono',consolas,'Courier New',monospace\"><span style=\"color: #7fbfbf; text-decoration-color: #7fbfbf\">           </span>----------                                                             <a href=\"file:///home/ngardn10/projects/cuticulus/cuticulus/mlutils/torch.py\"><span style=\"color: #7f7f7f; text-decoration-color: #7f7f7f\">torch.py</span></a><span style=\"color: #7f7f7f; text-decoration-color: #7f7f7f\">:</span><a href=\"file:///home/ngardn10/projects/cuticulus/cuticulus/mlutils/torch.py#64\"><span style=\"color: #7f7f7f; text-decoration-color: #7f7f7f\">64</span></a>\n",
       "</pre>\n"
      ],
      "text/plain": [
       "\u001b[2;36m          \u001b[0m\u001b[2;36m \u001b[0m----------                                                             \u001b]8;id=870569;file:///home/ngardn10/projects/cuticulus/cuticulus/mlutils/torch.py\u001b\\\u001b[2mtorch.py\u001b[0m\u001b]8;;\u001b\\\u001b[2m:\u001b[0m\u001b]8;id=159151;file:///home/ngardn10/projects/cuticulus/cuticulus/mlutils/torch.py#64\u001b\\\u001b[2m64\u001b[0m\u001b]8;;\u001b\\\n"
      ]
     },
     "metadata": {},
     "output_type": "display_data"
    },
    {
     "data": {
      "text/html": [
       "<pre style=\"white-space:pre;overflow-x:auto;line-height:normal;font-family:Menlo,'DejaVu Sans Mono',consolas,'Courier New',monospace\"><span style=\"color: #7fbfbf; text-decoration-color: #7fbfbf\">[14:41:55] </span>train Loss: <span style=\"color: #008080; text-decoration-color: #008080; font-weight: bold\">0.0317</span> Acc: <span style=\"color: #008080; text-decoration-color: #008080; font-weight: bold\">0.9925</span>                                        <a href=\"file:///home/ngardn10/projects/cuticulus/cuticulus/mlutils/torch.py\"><span style=\"color: #7f7f7f; text-decoration-color: #7f7f7f\">torch.py</span></a><span style=\"color: #7f7f7f; text-decoration-color: #7f7f7f\">:</span><a href=\"file:///home/ngardn10/projects/cuticulus/cuticulus/mlutils/torch.py#109\"><span style=\"color: #7f7f7f; text-decoration-color: #7f7f7f\">109</span></a>\n",
       "</pre>\n"
      ],
      "text/plain": [
       "\u001b[2;36m[14:41:55]\u001b[0m\u001b[2;36m \u001b[0mtrain Loss: \u001b[1;36m0.0317\u001b[0m Acc: \u001b[1;36m0.9925\u001b[0m                                        \u001b]8;id=995366;file:///home/ngardn10/projects/cuticulus/cuticulus/mlutils/torch.py\u001b\\\u001b[2mtorch.py\u001b[0m\u001b]8;;\u001b\\\u001b[2m:\u001b[0m\u001b]8;id=941045;file:///home/ngardn10/projects/cuticulus/cuticulus/mlutils/torch.py#109\u001b\\\u001b[2m109\u001b[0m\u001b]8;;\u001b\\\n"
      ]
     },
     "metadata": {},
     "output_type": "display_data"
    },
    {
     "data": {
      "text/html": [
       "<pre style=\"white-space:pre;overflow-x:auto;line-height:normal;font-family:Menlo,'DejaVu Sans Mono',consolas,'Courier New',monospace\"><span style=\"color: #7fbfbf; text-decoration-color: #7fbfbf\">           </span>val Loss: <span style=\"color: #008080; text-decoration-color: #008080; font-weight: bold\">1.1599</span> Acc: <span style=\"color: #008080; text-decoration-color: #008080; font-weight: bold\">0.7859</span>                                          <a href=\"file:///home/ngardn10/projects/cuticulus/cuticulus/mlutils/torch.py\"><span style=\"color: #7f7f7f; text-decoration-color: #7f7f7f\">torch.py</span></a><span style=\"color: #7f7f7f; text-decoration-color: #7f7f7f\">:</span><a href=\"file:///home/ngardn10/projects/cuticulus/cuticulus/mlutils/torch.py#109\"><span style=\"color: #7f7f7f; text-decoration-color: #7f7f7f\">109</span></a>\n",
       "</pre>\n"
      ],
      "text/plain": [
       "\u001b[2;36m          \u001b[0m\u001b[2;36m \u001b[0mval Loss: \u001b[1;36m1.1599\u001b[0m Acc: \u001b[1;36m0.7859\u001b[0m                                          \u001b]8;id=207516;file:///home/ngardn10/projects/cuticulus/cuticulus/mlutils/torch.py\u001b\\\u001b[2mtorch.py\u001b[0m\u001b]8;;\u001b\\\u001b[2m:\u001b[0m\u001b]8;id=147542;file:///home/ngardn10/projects/cuticulus/cuticulus/mlutils/torch.py#109\u001b\\\u001b[2m109\u001b[0m\u001b]8;;\u001b\\\n"
      ]
     },
     "metadata": {},
     "output_type": "display_data"
    },
    {
     "data": {
      "text/html": [
       "<pre style=\"white-space:pre;overflow-x:auto;line-height:normal;font-family:Menlo,'DejaVu Sans Mono',consolas,'Courier New',monospace\"><span style=\"color: #7fbfbf; text-decoration-color: #7fbfbf\">           </span>Epoch <span style=\"color: #008080; text-decoration-color: #008080; font-weight: bold\">61</span>/<span style=\"color: #008080; text-decoration-color: #008080; font-weight: bold\">99</span>                                                            <a href=\"file:///home/ngardn10/projects/cuticulus/cuticulus/mlutils/torch.py\"><span style=\"color: #7f7f7f; text-decoration-color: #7f7f7f\">torch.py</span></a><span style=\"color: #7f7f7f; text-decoration-color: #7f7f7f\">:</span><a href=\"file:///home/ngardn10/projects/cuticulus/cuticulus/mlutils/torch.py#63\"><span style=\"color: #7f7f7f; text-decoration-color: #7f7f7f\">63</span></a>\n",
       "</pre>\n"
      ],
      "text/plain": [
       "\u001b[2;36m          \u001b[0m\u001b[2;36m \u001b[0mEpoch \u001b[1;36m61\u001b[0m/\u001b[1;36m99\u001b[0m                                                            \u001b]8;id=596741;file:///home/ngardn10/projects/cuticulus/cuticulus/mlutils/torch.py\u001b\\\u001b[2mtorch.py\u001b[0m\u001b]8;;\u001b\\\u001b[2m:\u001b[0m\u001b]8;id=114879;file:///home/ngardn10/projects/cuticulus/cuticulus/mlutils/torch.py#63\u001b\\\u001b[2m63\u001b[0m\u001b]8;;\u001b\\\n"
      ]
     },
     "metadata": {},
     "output_type": "display_data"
    },
    {
     "data": {
      "text/html": [
       "<pre style=\"white-space:pre;overflow-x:auto;line-height:normal;font-family:Menlo,'DejaVu Sans Mono',consolas,'Courier New',monospace\"><span style=\"color: #7fbfbf; text-decoration-color: #7fbfbf\">           </span>----------                                                             <a href=\"file:///home/ngardn10/projects/cuticulus/cuticulus/mlutils/torch.py\"><span style=\"color: #7f7f7f; text-decoration-color: #7f7f7f\">torch.py</span></a><span style=\"color: #7f7f7f; text-decoration-color: #7f7f7f\">:</span><a href=\"file:///home/ngardn10/projects/cuticulus/cuticulus/mlutils/torch.py#64\"><span style=\"color: #7f7f7f; text-decoration-color: #7f7f7f\">64</span></a>\n",
       "</pre>\n"
      ],
      "text/plain": [
       "\u001b[2;36m          \u001b[0m\u001b[2;36m \u001b[0m----------                                                             \u001b]8;id=995938;file:///home/ngardn10/projects/cuticulus/cuticulus/mlutils/torch.py\u001b\\\u001b[2mtorch.py\u001b[0m\u001b]8;;\u001b\\\u001b[2m:\u001b[0m\u001b]8;id=372109;file:///home/ngardn10/projects/cuticulus/cuticulus/mlutils/torch.py#64\u001b\\\u001b[2m64\u001b[0m\u001b]8;;\u001b\\\n"
      ]
     },
     "metadata": {},
     "output_type": "display_data"
    },
    {
     "data": {
      "text/html": [
       "<pre style=\"white-space:pre;overflow-x:auto;line-height:normal;font-family:Menlo,'DejaVu Sans Mono',consolas,'Courier New',monospace\"><span style=\"color: #7fbfbf; text-decoration-color: #7fbfbf\">[14:41:57] </span>train Loss: <span style=\"color: #008080; text-decoration-color: #008080; font-weight: bold\">0.0124</span> Acc: <span style=\"color: #008080; text-decoration-color: #008080; font-weight: bold\">0.9960</span>                                        <a href=\"file:///home/ngardn10/projects/cuticulus/cuticulus/mlutils/torch.py\"><span style=\"color: #7f7f7f; text-decoration-color: #7f7f7f\">torch.py</span></a><span style=\"color: #7f7f7f; text-decoration-color: #7f7f7f\">:</span><a href=\"file:///home/ngardn10/projects/cuticulus/cuticulus/mlutils/torch.py#109\"><span style=\"color: #7f7f7f; text-decoration-color: #7f7f7f\">109</span></a>\n",
       "</pre>\n"
      ],
      "text/plain": [
       "\u001b[2;36m[14:41:57]\u001b[0m\u001b[2;36m \u001b[0mtrain Loss: \u001b[1;36m0.0124\u001b[0m Acc: \u001b[1;36m0.9960\u001b[0m                                        \u001b]8;id=884045;file:///home/ngardn10/projects/cuticulus/cuticulus/mlutils/torch.py\u001b\\\u001b[2mtorch.py\u001b[0m\u001b]8;;\u001b\\\u001b[2m:\u001b[0m\u001b]8;id=459905;file:///home/ngardn10/projects/cuticulus/cuticulus/mlutils/torch.py#109\u001b\\\u001b[2m109\u001b[0m\u001b]8;;\u001b\\\n"
      ]
     },
     "metadata": {},
     "output_type": "display_data"
    },
    {
     "data": {
      "text/html": [
       "<pre style=\"white-space:pre;overflow-x:auto;line-height:normal;font-family:Menlo,'DejaVu Sans Mono',consolas,'Courier New',monospace\"><span style=\"color: #7fbfbf; text-decoration-color: #7fbfbf\">           </span>val Loss: <span style=\"color: #008080; text-decoration-color: #008080; font-weight: bold\">1.0099</span> Acc: <span style=\"color: #008080; text-decoration-color: #008080; font-weight: bold\">0.7859</span>                                          <a href=\"file:///home/ngardn10/projects/cuticulus/cuticulus/mlutils/torch.py\"><span style=\"color: #7f7f7f; text-decoration-color: #7f7f7f\">torch.py</span></a><span style=\"color: #7f7f7f; text-decoration-color: #7f7f7f\">:</span><a href=\"file:///home/ngardn10/projects/cuticulus/cuticulus/mlutils/torch.py#109\"><span style=\"color: #7f7f7f; text-decoration-color: #7f7f7f\">109</span></a>\n",
       "</pre>\n"
      ],
      "text/plain": [
       "\u001b[2;36m          \u001b[0m\u001b[2;36m \u001b[0mval Loss: \u001b[1;36m1.0099\u001b[0m Acc: \u001b[1;36m0.7859\u001b[0m                                          \u001b]8;id=632334;file:///home/ngardn10/projects/cuticulus/cuticulus/mlutils/torch.py\u001b\\\u001b[2mtorch.py\u001b[0m\u001b]8;;\u001b\\\u001b[2m:\u001b[0m\u001b]8;id=85645;file:///home/ngardn10/projects/cuticulus/cuticulus/mlutils/torch.py#109\u001b\\\u001b[2m109\u001b[0m\u001b]8;;\u001b\\\n"
      ]
     },
     "metadata": {},
     "output_type": "display_data"
    },
    {
     "data": {
      "text/html": [
       "<pre style=\"white-space:pre;overflow-x:auto;line-height:normal;font-family:Menlo,'DejaVu Sans Mono',consolas,'Courier New',monospace\"><span style=\"color: #7fbfbf; text-decoration-color: #7fbfbf\">           </span>Epoch <span style=\"color: #008080; text-decoration-color: #008080; font-weight: bold\">62</span>/<span style=\"color: #008080; text-decoration-color: #008080; font-weight: bold\">99</span>                                                            <a href=\"file:///home/ngardn10/projects/cuticulus/cuticulus/mlutils/torch.py\"><span style=\"color: #7f7f7f; text-decoration-color: #7f7f7f\">torch.py</span></a><span style=\"color: #7f7f7f; text-decoration-color: #7f7f7f\">:</span><a href=\"file:///home/ngardn10/projects/cuticulus/cuticulus/mlutils/torch.py#63\"><span style=\"color: #7f7f7f; text-decoration-color: #7f7f7f\">63</span></a>\n",
       "</pre>\n"
      ],
      "text/plain": [
       "\u001b[2;36m          \u001b[0m\u001b[2;36m \u001b[0mEpoch \u001b[1;36m62\u001b[0m/\u001b[1;36m99\u001b[0m                                                            \u001b]8;id=257984;file:///home/ngardn10/projects/cuticulus/cuticulus/mlutils/torch.py\u001b\\\u001b[2mtorch.py\u001b[0m\u001b]8;;\u001b\\\u001b[2m:\u001b[0m\u001b]8;id=192261;file:///home/ngardn10/projects/cuticulus/cuticulus/mlutils/torch.py#63\u001b\\\u001b[2m63\u001b[0m\u001b]8;;\u001b\\\n"
      ]
     },
     "metadata": {},
     "output_type": "display_data"
    },
    {
     "data": {
      "text/html": [
       "<pre style=\"white-space:pre;overflow-x:auto;line-height:normal;font-family:Menlo,'DejaVu Sans Mono',consolas,'Courier New',monospace\"><span style=\"color: #7fbfbf; text-decoration-color: #7fbfbf\">           </span>----------                                                             <a href=\"file:///home/ngardn10/projects/cuticulus/cuticulus/mlutils/torch.py\"><span style=\"color: #7f7f7f; text-decoration-color: #7f7f7f\">torch.py</span></a><span style=\"color: #7f7f7f; text-decoration-color: #7f7f7f\">:</span><a href=\"file:///home/ngardn10/projects/cuticulus/cuticulus/mlutils/torch.py#64\"><span style=\"color: #7f7f7f; text-decoration-color: #7f7f7f\">64</span></a>\n",
       "</pre>\n"
      ],
      "text/plain": [
       "\u001b[2;36m          \u001b[0m\u001b[2;36m \u001b[0m----------                                                             \u001b]8;id=556825;file:///home/ngardn10/projects/cuticulus/cuticulus/mlutils/torch.py\u001b\\\u001b[2mtorch.py\u001b[0m\u001b]8;;\u001b\\\u001b[2m:\u001b[0m\u001b]8;id=784293;file:///home/ngardn10/projects/cuticulus/cuticulus/mlutils/torch.py#64\u001b\\\u001b[2m64\u001b[0m\u001b]8;;\u001b\\\n"
      ]
     },
     "metadata": {},
     "output_type": "display_data"
    },
    {
     "data": {
      "text/html": [
       "<pre style=\"white-space:pre;overflow-x:auto;line-height:normal;font-family:Menlo,'DejaVu Sans Mono',consolas,'Courier New',monospace\"><span style=\"color: #7fbfbf; text-decoration-color: #7fbfbf\">[14:41:59] </span>train Loss: <span style=\"color: #008080; text-decoration-color: #008080; font-weight: bold\">0.0076</span> Acc: <span style=\"color: #008080; text-decoration-color: #008080; font-weight: bold\">0.9980</span>                                        <a href=\"file:///home/ngardn10/projects/cuticulus/cuticulus/mlutils/torch.py\"><span style=\"color: #7f7f7f; text-decoration-color: #7f7f7f\">torch.py</span></a><span style=\"color: #7f7f7f; text-decoration-color: #7f7f7f\">:</span><a href=\"file:///home/ngardn10/projects/cuticulus/cuticulus/mlutils/torch.py#109\"><span style=\"color: #7f7f7f; text-decoration-color: #7f7f7f\">109</span></a>\n",
       "</pre>\n"
      ],
      "text/plain": [
       "\u001b[2;36m[14:41:59]\u001b[0m\u001b[2;36m \u001b[0mtrain Loss: \u001b[1;36m0.0076\u001b[0m Acc: \u001b[1;36m0.9980\u001b[0m                                        \u001b]8;id=520228;file:///home/ngardn10/projects/cuticulus/cuticulus/mlutils/torch.py\u001b\\\u001b[2mtorch.py\u001b[0m\u001b]8;;\u001b\\\u001b[2m:\u001b[0m\u001b]8;id=605613;file:///home/ngardn10/projects/cuticulus/cuticulus/mlutils/torch.py#109\u001b\\\u001b[2m109\u001b[0m\u001b]8;;\u001b\\\n"
      ]
     },
     "metadata": {},
     "output_type": "display_data"
    },
    {
     "data": {
      "text/html": [
       "<pre style=\"white-space:pre;overflow-x:auto;line-height:normal;font-family:Menlo,'DejaVu Sans Mono',consolas,'Courier New',monospace\"><span style=\"color: #7fbfbf; text-decoration-color: #7fbfbf\">           </span>val Loss: <span style=\"color: #008080; text-decoration-color: #008080; font-weight: bold\">1.0573</span> Acc: <span style=\"color: #008080; text-decoration-color: #008080; font-weight: bold\">0.7963</span>                                          <a href=\"file:///home/ngardn10/projects/cuticulus/cuticulus/mlutils/torch.py\"><span style=\"color: #7f7f7f; text-decoration-color: #7f7f7f\">torch.py</span></a><span style=\"color: #7f7f7f; text-decoration-color: #7f7f7f\">:</span><a href=\"file:///home/ngardn10/projects/cuticulus/cuticulus/mlutils/torch.py#109\"><span style=\"color: #7f7f7f; text-decoration-color: #7f7f7f\">109</span></a>\n",
       "</pre>\n"
      ],
      "text/plain": [
       "\u001b[2;36m          \u001b[0m\u001b[2;36m \u001b[0mval Loss: \u001b[1;36m1.0573\u001b[0m Acc: \u001b[1;36m0.7963\u001b[0m                                          \u001b]8;id=967339;file:///home/ngardn10/projects/cuticulus/cuticulus/mlutils/torch.py\u001b\\\u001b[2mtorch.py\u001b[0m\u001b]8;;\u001b\\\u001b[2m:\u001b[0m\u001b]8;id=142507;file:///home/ngardn10/projects/cuticulus/cuticulus/mlutils/torch.py#109\u001b\\\u001b[2m109\u001b[0m\u001b]8;;\u001b\\\n"
      ]
     },
     "metadata": {},
     "output_type": "display_data"
    },
    {
     "data": {
      "text/html": [
       "<pre style=\"white-space:pre;overflow-x:auto;line-height:normal;font-family:Menlo,'DejaVu Sans Mono',consolas,'Courier New',monospace\"><span style=\"color: #7fbfbf; text-decoration-color: #7fbfbf\">           </span>Epoch <span style=\"color: #008080; text-decoration-color: #008080; font-weight: bold\">63</span>/<span style=\"color: #008080; text-decoration-color: #008080; font-weight: bold\">99</span>                                                            <a href=\"file:///home/ngardn10/projects/cuticulus/cuticulus/mlutils/torch.py\"><span style=\"color: #7f7f7f; text-decoration-color: #7f7f7f\">torch.py</span></a><span style=\"color: #7f7f7f; text-decoration-color: #7f7f7f\">:</span><a href=\"file:///home/ngardn10/projects/cuticulus/cuticulus/mlutils/torch.py#63\"><span style=\"color: #7f7f7f; text-decoration-color: #7f7f7f\">63</span></a>\n",
       "</pre>\n"
      ],
      "text/plain": [
       "\u001b[2;36m          \u001b[0m\u001b[2;36m \u001b[0mEpoch \u001b[1;36m63\u001b[0m/\u001b[1;36m99\u001b[0m                                                            \u001b]8;id=569731;file:///home/ngardn10/projects/cuticulus/cuticulus/mlutils/torch.py\u001b\\\u001b[2mtorch.py\u001b[0m\u001b]8;;\u001b\\\u001b[2m:\u001b[0m\u001b]8;id=637734;file:///home/ngardn10/projects/cuticulus/cuticulus/mlutils/torch.py#63\u001b\\\u001b[2m63\u001b[0m\u001b]8;;\u001b\\\n"
      ]
     },
     "metadata": {},
     "output_type": "display_data"
    },
    {
     "data": {
      "text/html": [
       "<pre style=\"white-space:pre;overflow-x:auto;line-height:normal;font-family:Menlo,'DejaVu Sans Mono',consolas,'Courier New',monospace\"><span style=\"color: #7fbfbf; text-decoration-color: #7fbfbf\">           </span>----------                                                             <a href=\"file:///home/ngardn10/projects/cuticulus/cuticulus/mlutils/torch.py\"><span style=\"color: #7f7f7f; text-decoration-color: #7f7f7f\">torch.py</span></a><span style=\"color: #7f7f7f; text-decoration-color: #7f7f7f\">:</span><a href=\"file:///home/ngardn10/projects/cuticulus/cuticulus/mlutils/torch.py#64\"><span style=\"color: #7f7f7f; text-decoration-color: #7f7f7f\">64</span></a>\n",
       "</pre>\n"
      ],
      "text/plain": [
       "\u001b[2;36m          \u001b[0m\u001b[2;36m \u001b[0m----------                                                             \u001b]8;id=422241;file:///home/ngardn10/projects/cuticulus/cuticulus/mlutils/torch.py\u001b\\\u001b[2mtorch.py\u001b[0m\u001b]8;;\u001b\\\u001b[2m:\u001b[0m\u001b]8;id=65443;file:///home/ngardn10/projects/cuticulus/cuticulus/mlutils/torch.py#64\u001b\\\u001b[2m64\u001b[0m\u001b]8;;\u001b\\\n"
      ]
     },
     "metadata": {},
     "output_type": "display_data"
    },
    {
     "data": {
      "text/html": [
       "<pre style=\"white-space:pre;overflow-x:auto;line-height:normal;font-family:Menlo,'DejaVu Sans Mono',consolas,'Courier New',monospace\"><span style=\"color: #7fbfbf; text-decoration-color: #7fbfbf\">[14:42:01] </span>train Loss: <span style=\"color: #008080; text-decoration-color: #008080; font-weight: bold\">0.0058</span> Acc: <span style=\"color: #008080; text-decoration-color: #008080; font-weight: bold\">0.9975</span>                                        <a href=\"file:///home/ngardn10/projects/cuticulus/cuticulus/mlutils/torch.py\"><span style=\"color: #7f7f7f; text-decoration-color: #7f7f7f\">torch.py</span></a><span style=\"color: #7f7f7f; text-decoration-color: #7f7f7f\">:</span><a href=\"file:///home/ngardn10/projects/cuticulus/cuticulus/mlutils/torch.py#109\"><span style=\"color: #7f7f7f; text-decoration-color: #7f7f7f\">109</span></a>\n",
       "</pre>\n"
      ],
      "text/plain": [
       "\u001b[2;36m[14:42:01]\u001b[0m\u001b[2;36m \u001b[0mtrain Loss: \u001b[1;36m0.0058\u001b[0m Acc: \u001b[1;36m0.9975\u001b[0m                                        \u001b]8;id=750156;file:///home/ngardn10/projects/cuticulus/cuticulus/mlutils/torch.py\u001b\\\u001b[2mtorch.py\u001b[0m\u001b]8;;\u001b\\\u001b[2m:\u001b[0m\u001b]8;id=86685;file:///home/ngardn10/projects/cuticulus/cuticulus/mlutils/torch.py#109\u001b\\\u001b[2m109\u001b[0m\u001b]8;;\u001b\\\n"
      ]
     },
     "metadata": {},
     "output_type": "display_data"
    },
    {
     "data": {
      "text/html": [
       "<pre style=\"white-space:pre;overflow-x:auto;line-height:normal;font-family:Menlo,'DejaVu Sans Mono',consolas,'Courier New',monospace\"><span style=\"color: #7fbfbf; text-decoration-color: #7fbfbf\">           </span>val Loss: <span style=\"color: #008080; text-decoration-color: #008080; font-weight: bold\">1.0802</span> Acc: <span style=\"color: #008080; text-decoration-color: #008080; font-weight: bold\">0.7898</span>                                          <a href=\"file:///home/ngardn10/projects/cuticulus/cuticulus/mlutils/torch.py\"><span style=\"color: #7f7f7f; text-decoration-color: #7f7f7f\">torch.py</span></a><span style=\"color: #7f7f7f; text-decoration-color: #7f7f7f\">:</span><a href=\"file:///home/ngardn10/projects/cuticulus/cuticulus/mlutils/torch.py#109\"><span style=\"color: #7f7f7f; text-decoration-color: #7f7f7f\">109</span></a>\n",
       "</pre>\n"
      ],
      "text/plain": [
       "\u001b[2;36m          \u001b[0m\u001b[2;36m \u001b[0mval Loss: \u001b[1;36m1.0802\u001b[0m Acc: \u001b[1;36m0.7898\u001b[0m                                          \u001b]8;id=963808;file:///home/ngardn10/projects/cuticulus/cuticulus/mlutils/torch.py\u001b\\\u001b[2mtorch.py\u001b[0m\u001b]8;;\u001b\\\u001b[2m:\u001b[0m\u001b]8;id=327323;file:///home/ngardn10/projects/cuticulus/cuticulus/mlutils/torch.py#109\u001b\\\u001b[2m109\u001b[0m\u001b]8;;\u001b\\\n"
      ]
     },
     "metadata": {},
     "output_type": "display_data"
    },
    {
     "data": {
      "text/html": [
       "<pre style=\"white-space:pre;overflow-x:auto;line-height:normal;font-family:Menlo,'DejaVu Sans Mono',consolas,'Courier New',monospace\"><span style=\"color: #7fbfbf; text-decoration-color: #7fbfbf\">           </span>Epoch <span style=\"color: #008080; text-decoration-color: #008080; font-weight: bold\">64</span>/<span style=\"color: #008080; text-decoration-color: #008080; font-weight: bold\">99</span>                                                            <a href=\"file:///home/ngardn10/projects/cuticulus/cuticulus/mlutils/torch.py\"><span style=\"color: #7f7f7f; text-decoration-color: #7f7f7f\">torch.py</span></a><span style=\"color: #7f7f7f; text-decoration-color: #7f7f7f\">:</span><a href=\"file:///home/ngardn10/projects/cuticulus/cuticulus/mlutils/torch.py#63\"><span style=\"color: #7f7f7f; text-decoration-color: #7f7f7f\">63</span></a>\n",
       "</pre>\n"
      ],
      "text/plain": [
       "\u001b[2;36m          \u001b[0m\u001b[2;36m \u001b[0mEpoch \u001b[1;36m64\u001b[0m/\u001b[1;36m99\u001b[0m                                                            \u001b]8;id=957801;file:///home/ngardn10/projects/cuticulus/cuticulus/mlutils/torch.py\u001b\\\u001b[2mtorch.py\u001b[0m\u001b]8;;\u001b\\\u001b[2m:\u001b[0m\u001b]8;id=936664;file:///home/ngardn10/projects/cuticulus/cuticulus/mlutils/torch.py#63\u001b\\\u001b[2m63\u001b[0m\u001b]8;;\u001b\\\n"
      ]
     },
     "metadata": {},
     "output_type": "display_data"
    },
    {
     "data": {
      "text/html": [
       "<pre style=\"white-space:pre;overflow-x:auto;line-height:normal;font-family:Menlo,'DejaVu Sans Mono',consolas,'Courier New',monospace\"><span style=\"color: #7fbfbf; text-decoration-color: #7fbfbf\">           </span>----------                                                             <a href=\"file:///home/ngardn10/projects/cuticulus/cuticulus/mlutils/torch.py\"><span style=\"color: #7f7f7f; text-decoration-color: #7f7f7f\">torch.py</span></a><span style=\"color: #7f7f7f; text-decoration-color: #7f7f7f\">:</span><a href=\"file:///home/ngardn10/projects/cuticulus/cuticulus/mlutils/torch.py#64\"><span style=\"color: #7f7f7f; text-decoration-color: #7f7f7f\">64</span></a>\n",
       "</pre>\n"
      ],
      "text/plain": [
       "\u001b[2;36m          \u001b[0m\u001b[2;36m \u001b[0m----------                                                             \u001b]8;id=621614;file:///home/ngardn10/projects/cuticulus/cuticulus/mlutils/torch.py\u001b\\\u001b[2mtorch.py\u001b[0m\u001b]8;;\u001b\\\u001b[2m:\u001b[0m\u001b]8;id=779290;file:///home/ngardn10/projects/cuticulus/cuticulus/mlutils/torch.py#64\u001b\\\u001b[2m64\u001b[0m\u001b]8;;\u001b\\\n"
      ]
     },
     "metadata": {},
     "output_type": "display_data"
    },
    {
     "data": {
      "text/html": [
       "<pre style=\"white-space:pre;overflow-x:auto;line-height:normal;font-family:Menlo,'DejaVu Sans Mono',consolas,'Courier New',monospace\"><span style=\"color: #7fbfbf; text-decoration-color: #7fbfbf\">[14:42:03] </span>train Loss: <span style=\"color: #008080; text-decoration-color: #008080; font-weight: bold\">0.0071</span> Acc: <span style=\"color: #008080; text-decoration-color: #008080; font-weight: bold\">0.9975</span>                                        <a href=\"file:///home/ngardn10/projects/cuticulus/cuticulus/mlutils/torch.py\"><span style=\"color: #7f7f7f; text-decoration-color: #7f7f7f\">torch.py</span></a><span style=\"color: #7f7f7f; text-decoration-color: #7f7f7f\">:</span><a href=\"file:///home/ngardn10/projects/cuticulus/cuticulus/mlutils/torch.py#109\"><span style=\"color: #7f7f7f; text-decoration-color: #7f7f7f\">109</span></a>\n",
       "</pre>\n"
      ],
      "text/plain": [
       "\u001b[2;36m[14:42:03]\u001b[0m\u001b[2;36m \u001b[0mtrain Loss: \u001b[1;36m0.0071\u001b[0m Acc: \u001b[1;36m0.9975\u001b[0m                                        \u001b]8;id=846668;file:///home/ngardn10/projects/cuticulus/cuticulus/mlutils/torch.py\u001b\\\u001b[2mtorch.py\u001b[0m\u001b]8;;\u001b\\\u001b[2m:\u001b[0m\u001b]8;id=67051;file:///home/ngardn10/projects/cuticulus/cuticulus/mlutils/torch.py#109\u001b\\\u001b[2m109\u001b[0m\u001b]8;;\u001b\\\n"
      ]
     },
     "metadata": {},
     "output_type": "display_data"
    },
    {
     "data": {
      "text/html": [
       "<pre style=\"white-space:pre;overflow-x:auto;line-height:normal;font-family:Menlo,'DejaVu Sans Mono',consolas,'Courier New',monospace\"><span style=\"color: #7fbfbf; text-decoration-color: #7fbfbf\">           </span>val Loss: <span style=\"color: #008080; text-decoration-color: #008080; font-weight: bold\">1.1305</span> Acc: <span style=\"color: #008080; text-decoration-color: #008080; font-weight: bold\">0.7728</span>                                          <a href=\"file:///home/ngardn10/projects/cuticulus/cuticulus/mlutils/torch.py\"><span style=\"color: #7f7f7f; text-decoration-color: #7f7f7f\">torch.py</span></a><span style=\"color: #7f7f7f; text-decoration-color: #7f7f7f\">:</span><a href=\"file:///home/ngardn10/projects/cuticulus/cuticulus/mlutils/torch.py#109\"><span style=\"color: #7f7f7f; text-decoration-color: #7f7f7f\">109</span></a>\n",
       "</pre>\n"
      ],
      "text/plain": [
       "\u001b[2;36m          \u001b[0m\u001b[2;36m \u001b[0mval Loss: \u001b[1;36m1.1305\u001b[0m Acc: \u001b[1;36m0.7728\u001b[0m                                          \u001b]8;id=228676;file:///home/ngardn10/projects/cuticulus/cuticulus/mlutils/torch.py\u001b\\\u001b[2mtorch.py\u001b[0m\u001b]8;;\u001b\\\u001b[2m:\u001b[0m\u001b]8;id=159147;file:///home/ngardn10/projects/cuticulus/cuticulus/mlutils/torch.py#109\u001b\\\u001b[2m109\u001b[0m\u001b]8;;\u001b\\\n"
      ]
     },
     "metadata": {},
     "output_type": "display_data"
    },
    {
     "data": {
      "text/html": [
       "<pre style=\"white-space:pre;overflow-x:auto;line-height:normal;font-family:Menlo,'DejaVu Sans Mono',consolas,'Courier New',monospace\"><span style=\"color: #7fbfbf; text-decoration-color: #7fbfbf\">           </span>Epoch <span style=\"color: #008080; text-decoration-color: #008080; font-weight: bold\">65</span>/<span style=\"color: #008080; text-decoration-color: #008080; font-weight: bold\">99</span>                                                            <a href=\"file:///home/ngardn10/projects/cuticulus/cuticulus/mlutils/torch.py\"><span style=\"color: #7f7f7f; text-decoration-color: #7f7f7f\">torch.py</span></a><span style=\"color: #7f7f7f; text-decoration-color: #7f7f7f\">:</span><a href=\"file:///home/ngardn10/projects/cuticulus/cuticulus/mlutils/torch.py#63\"><span style=\"color: #7f7f7f; text-decoration-color: #7f7f7f\">63</span></a>\n",
       "</pre>\n"
      ],
      "text/plain": [
       "\u001b[2;36m          \u001b[0m\u001b[2;36m \u001b[0mEpoch \u001b[1;36m65\u001b[0m/\u001b[1;36m99\u001b[0m                                                            \u001b]8;id=560757;file:///home/ngardn10/projects/cuticulus/cuticulus/mlutils/torch.py\u001b\\\u001b[2mtorch.py\u001b[0m\u001b]8;;\u001b\\\u001b[2m:\u001b[0m\u001b]8;id=447813;file:///home/ngardn10/projects/cuticulus/cuticulus/mlutils/torch.py#63\u001b\\\u001b[2m63\u001b[0m\u001b]8;;\u001b\\\n"
      ]
     },
     "metadata": {},
     "output_type": "display_data"
    },
    {
     "data": {
      "text/html": [
       "<pre style=\"white-space:pre;overflow-x:auto;line-height:normal;font-family:Menlo,'DejaVu Sans Mono',consolas,'Courier New',monospace\"><span style=\"color: #7fbfbf; text-decoration-color: #7fbfbf\">           </span>----------                                                             <a href=\"file:///home/ngardn10/projects/cuticulus/cuticulus/mlutils/torch.py\"><span style=\"color: #7f7f7f; text-decoration-color: #7f7f7f\">torch.py</span></a><span style=\"color: #7f7f7f; text-decoration-color: #7f7f7f\">:</span><a href=\"file:///home/ngardn10/projects/cuticulus/cuticulus/mlutils/torch.py#64\"><span style=\"color: #7f7f7f; text-decoration-color: #7f7f7f\">64</span></a>\n",
       "</pre>\n"
      ],
      "text/plain": [
       "\u001b[2;36m          \u001b[0m\u001b[2;36m \u001b[0m----------                                                             \u001b]8;id=991723;file:///home/ngardn10/projects/cuticulus/cuticulus/mlutils/torch.py\u001b\\\u001b[2mtorch.py\u001b[0m\u001b]8;;\u001b\\\u001b[2m:\u001b[0m\u001b]8;id=115766;file:///home/ngardn10/projects/cuticulus/cuticulus/mlutils/torch.py#64\u001b\\\u001b[2m64\u001b[0m\u001b]8;;\u001b\\\n"
      ]
     },
     "metadata": {},
     "output_type": "display_data"
    },
    {
     "data": {
      "text/html": [
       "<pre style=\"white-space:pre;overflow-x:auto;line-height:normal;font-family:Menlo,'DejaVu Sans Mono',consolas,'Courier New',monospace\"><span style=\"color: #7fbfbf; text-decoration-color: #7fbfbf\">[14:42:05] </span>train Loss: <span style=\"color: #008080; text-decoration-color: #008080; font-weight: bold\">0.0041</span> Acc: <span style=\"color: #008080; text-decoration-color: #008080; font-weight: bold\">0.9995</span>                                        <a href=\"file:///home/ngardn10/projects/cuticulus/cuticulus/mlutils/torch.py\"><span style=\"color: #7f7f7f; text-decoration-color: #7f7f7f\">torch.py</span></a><span style=\"color: #7f7f7f; text-decoration-color: #7f7f7f\">:</span><a href=\"file:///home/ngardn10/projects/cuticulus/cuticulus/mlutils/torch.py#109\"><span style=\"color: #7f7f7f; text-decoration-color: #7f7f7f\">109</span></a>\n",
       "</pre>\n"
      ],
      "text/plain": [
       "\u001b[2;36m[14:42:05]\u001b[0m\u001b[2;36m \u001b[0mtrain Loss: \u001b[1;36m0.0041\u001b[0m Acc: \u001b[1;36m0.9995\u001b[0m                                        \u001b]8;id=479623;file:///home/ngardn10/projects/cuticulus/cuticulus/mlutils/torch.py\u001b\\\u001b[2mtorch.py\u001b[0m\u001b]8;;\u001b\\\u001b[2m:\u001b[0m\u001b]8;id=885150;file:///home/ngardn10/projects/cuticulus/cuticulus/mlutils/torch.py#109\u001b\\\u001b[2m109\u001b[0m\u001b]8;;\u001b\\\n"
      ]
     },
     "metadata": {},
     "output_type": "display_data"
    },
    {
     "data": {
      "text/html": [
       "<pre style=\"white-space:pre;overflow-x:auto;line-height:normal;font-family:Menlo,'DejaVu Sans Mono',consolas,'Courier New',monospace\"><span style=\"color: #7fbfbf; text-decoration-color: #7fbfbf\">           </span>val Loss: <span style=\"color: #008080; text-decoration-color: #008080; font-weight: bold\">1.1277</span> Acc: <span style=\"color: #008080; text-decoration-color: #008080; font-weight: bold\">0.7937</span>                                          <a href=\"file:///home/ngardn10/projects/cuticulus/cuticulus/mlutils/torch.py\"><span style=\"color: #7f7f7f; text-decoration-color: #7f7f7f\">torch.py</span></a><span style=\"color: #7f7f7f; text-decoration-color: #7f7f7f\">:</span><a href=\"file:///home/ngardn10/projects/cuticulus/cuticulus/mlutils/torch.py#109\"><span style=\"color: #7f7f7f; text-decoration-color: #7f7f7f\">109</span></a>\n",
       "</pre>\n"
      ],
      "text/plain": [
       "\u001b[2;36m          \u001b[0m\u001b[2;36m \u001b[0mval Loss: \u001b[1;36m1.1277\u001b[0m Acc: \u001b[1;36m0.7937\u001b[0m                                          \u001b]8;id=689101;file:///home/ngardn10/projects/cuticulus/cuticulus/mlutils/torch.py\u001b\\\u001b[2mtorch.py\u001b[0m\u001b]8;;\u001b\\\u001b[2m:\u001b[0m\u001b]8;id=164821;file:///home/ngardn10/projects/cuticulus/cuticulus/mlutils/torch.py#109\u001b\\\u001b[2m109\u001b[0m\u001b]8;;\u001b\\\n"
      ]
     },
     "metadata": {},
     "output_type": "display_data"
    },
    {
     "data": {
      "text/html": [
       "<pre style=\"white-space:pre;overflow-x:auto;line-height:normal;font-family:Menlo,'DejaVu Sans Mono',consolas,'Courier New',monospace\"><span style=\"color: #7fbfbf; text-decoration-color: #7fbfbf\">           </span>Epoch <span style=\"color: #008080; text-decoration-color: #008080; font-weight: bold\">66</span>/<span style=\"color: #008080; text-decoration-color: #008080; font-weight: bold\">99</span>                                                            <a href=\"file:///home/ngardn10/projects/cuticulus/cuticulus/mlutils/torch.py\"><span style=\"color: #7f7f7f; text-decoration-color: #7f7f7f\">torch.py</span></a><span style=\"color: #7f7f7f; text-decoration-color: #7f7f7f\">:</span><a href=\"file:///home/ngardn10/projects/cuticulus/cuticulus/mlutils/torch.py#63\"><span style=\"color: #7f7f7f; text-decoration-color: #7f7f7f\">63</span></a>\n",
       "</pre>\n"
      ],
      "text/plain": [
       "\u001b[2;36m          \u001b[0m\u001b[2;36m \u001b[0mEpoch \u001b[1;36m66\u001b[0m/\u001b[1;36m99\u001b[0m                                                            \u001b]8;id=973008;file:///home/ngardn10/projects/cuticulus/cuticulus/mlutils/torch.py\u001b\\\u001b[2mtorch.py\u001b[0m\u001b]8;;\u001b\\\u001b[2m:\u001b[0m\u001b]8;id=865714;file:///home/ngardn10/projects/cuticulus/cuticulus/mlutils/torch.py#63\u001b\\\u001b[2m63\u001b[0m\u001b]8;;\u001b\\\n"
      ]
     },
     "metadata": {},
     "output_type": "display_data"
    },
    {
     "data": {
      "text/html": [
       "<pre style=\"white-space:pre;overflow-x:auto;line-height:normal;font-family:Menlo,'DejaVu Sans Mono',consolas,'Courier New',monospace\"><span style=\"color: #7fbfbf; text-decoration-color: #7fbfbf\">           </span>----------                                                             <a href=\"file:///home/ngardn10/projects/cuticulus/cuticulus/mlutils/torch.py\"><span style=\"color: #7f7f7f; text-decoration-color: #7f7f7f\">torch.py</span></a><span style=\"color: #7f7f7f; text-decoration-color: #7f7f7f\">:</span><a href=\"file:///home/ngardn10/projects/cuticulus/cuticulus/mlutils/torch.py#64\"><span style=\"color: #7f7f7f; text-decoration-color: #7f7f7f\">64</span></a>\n",
       "</pre>\n"
      ],
      "text/plain": [
       "\u001b[2;36m          \u001b[0m\u001b[2;36m \u001b[0m----------                                                             \u001b]8;id=547884;file:///home/ngardn10/projects/cuticulus/cuticulus/mlutils/torch.py\u001b\\\u001b[2mtorch.py\u001b[0m\u001b]8;;\u001b\\\u001b[2m:\u001b[0m\u001b]8;id=982152;file:///home/ngardn10/projects/cuticulus/cuticulus/mlutils/torch.py#64\u001b\\\u001b[2m64\u001b[0m\u001b]8;;\u001b\\\n"
      ]
     },
     "metadata": {},
     "output_type": "display_data"
    },
    {
     "data": {
      "text/html": [
       "<pre style=\"white-space:pre;overflow-x:auto;line-height:normal;font-family:Menlo,'DejaVu Sans Mono',consolas,'Courier New',monospace\"><span style=\"color: #7fbfbf; text-decoration-color: #7fbfbf\">[14:42:07] </span>train Loss: <span style=\"color: #008080; text-decoration-color: #008080; font-weight: bold\">0.0060</span> Acc: <span style=\"color: #008080; text-decoration-color: #008080; font-weight: bold\">0.9965</span>                                        <a href=\"file:///home/ngardn10/projects/cuticulus/cuticulus/mlutils/torch.py\"><span style=\"color: #7f7f7f; text-decoration-color: #7f7f7f\">torch.py</span></a><span style=\"color: #7f7f7f; text-decoration-color: #7f7f7f\">:</span><a href=\"file:///home/ngardn10/projects/cuticulus/cuticulus/mlutils/torch.py#109\"><span style=\"color: #7f7f7f; text-decoration-color: #7f7f7f\">109</span></a>\n",
       "</pre>\n"
      ],
      "text/plain": [
       "\u001b[2;36m[14:42:07]\u001b[0m\u001b[2;36m \u001b[0mtrain Loss: \u001b[1;36m0.0060\u001b[0m Acc: \u001b[1;36m0.9965\u001b[0m                                        \u001b]8;id=647128;file:///home/ngardn10/projects/cuticulus/cuticulus/mlutils/torch.py\u001b\\\u001b[2mtorch.py\u001b[0m\u001b]8;;\u001b\\\u001b[2m:\u001b[0m\u001b]8;id=983899;file:///home/ngardn10/projects/cuticulus/cuticulus/mlutils/torch.py#109\u001b\\\u001b[2m109\u001b[0m\u001b]8;;\u001b\\\n"
      ]
     },
     "metadata": {},
     "output_type": "display_data"
    },
    {
     "data": {
      "text/html": [
       "<pre style=\"white-space:pre;overflow-x:auto;line-height:normal;font-family:Menlo,'DejaVu Sans Mono',consolas,'Courier New',monospace\"><span style=\"color: #7fbfbf; text-decoration-color: #7fbfbf\">           </span>val Loss: <span style=\"color: #008080; text-decoration-color: #008080; font-weight: bold\">1.1803</span> Acc: <span style=\"color: #008080; text-decoration-color: #008080; font-weight: bold\">0.7781</span>                                          <a href=\"file:///home/ngardn10/projects/cuticulus/cuticulus/mlutils/torch.py\"><span style=\"color: #7f7f7f; text-decoration-color: #7f7f7f\">torch.py</span></a><span style=\"color: #7f7f7f; text-decoration-color: #7f7f7f\">:</span><a href=\"file:///home/ngardn10/projects/cuticulus/cuticulus/mlutils/torch.py#109\"><span style=\"color: #7f7f7f; text-decoration-color: #7f7f7f\">109</span></a>\n",
       "</pre>\n"
      ],
      "text/plain": [
       "\u001b[2;36m          \u001b[0m\u001b[2;36m \u001b[0mval Loss: \u001b[1;36m1.1803\u001b[0m Acc: \u001b[1;36m0.7781\u001b[0m                                          \u001b]8;id=714577;file:///home/ngardn10/projects/cuticulus/cuticulus/mlutils/torch.py\u001b\\\u001b[2mtorch.py\u001b[0m\u001b]8;;\u001b\\\u001b[2m:\u001b[0m\u001b]8;id=166011;file:///home/ngardn10/projects/cuticulus/cuticulus/mlutils/torch.py#109\u001b\\\u001b[2m109\u001b[0m\u001b]8;;\u001b\\\n"
      ]
     },
     "metadata": {},
     "output_type": "display_data"
    },
    {
     "data": {
      "text/html": [
       "<pre style=\"white-space:pre;overflow-x:auto;line-height:normal;font-family:Menlo,'DejaVu Sans Mono',consolas,'Courier New',monospace\"><span style=\"color: #7fbfbf; text-decoration-color: #7fbfbf\">           </span>Epoch <span style=\"color: #008080; text-decoration-color: #008080; font-weight: bold\">67</span>/<span style=\"color: #008080; text-decoration-color: #008080; font-weight: bold\">99</span>                                                            <a href=\"file:///home/ngardn10/projects/cuticulus/cuticulus/mlutils/torch.py\"><span style=\"color: #7f7f7f; text-decoration-color: #7f7f7f\">torch.py</span></a><span style=\"color: #7f7f7f; text-decoration-color: #7f7f7f\">:</span><a href=\"file:///home/ngardn10/projects/cuticulus/cuticulus/mlutils/torch.py#63\"><span style=\"color: #7f7f7f; text-decoration-color: #7f7f7f\">63</span></a>\n",
       "</pre>\n"
      ],
      "text/plain": [
       "\u001b[2;36m          \u001b[0m\u001b[2;36m \u001b[0mEpoch \u001b[1;36m67\u001b[0m/\u001b[1;36m99\u001b[0m                                                            \u001b]8;id=364879;file:///home/ngardn10/projects/cuticulus/cuticulus/mlutils/torch.py\u001b\\\u001b[2mtorch.py\u001b[0m\u001b]8;;\u001b\\\u001b[2m:\u001b[0m\u001b]8;id=682583;file:///home/ngardn10/projects/cuticulus/cuticulus/mlutils/torch.py#63\u001b\\\u001b[2m63\u001b[0m\u001b]8;;\u001b\\\n"
      ]
     },
     "metadata": {},
     "output_type": "display_data"
    },
    {
     "data": {
      "text/html": [
       "<pre style=\"white-space:pre;overflow-x:auto;line-height:normal;font-family:Menlo,'DejaVu Sans Mono',consolas,'Courier New',monospace\"><span style=\"color: #7fbfbf; text-decoration-color: #7fbfbf\">           </span>----------                                                             <a href=\"file:///home/ngardn10/projects/cuticulus/cuticulus/mlutils/torch.py\"><span style=\"color: #7f7f7f; text-decoration-color: #7f7f7f\">torch.py</span></a><span style=\"color: #7f7f7f; text-decoration-color: #7f7f7f\">:</span><a href=\"file:///home/ngardn10/projects/cuticulus/cuticulus/mlutils/torch.py#64\"><span style=\"color: #7f7f7f; text-decoration-color: #7f7f7f\">64</span></a>\n",
       "</pre>\n"
      ],
      "text/plain": [
       "\u001b[2;36m          \u001b[0m\u001b[2;36m \u001b[0m----------                                                             \u001b]8;id=878898;file:///home/ngardn10/projects/cuticulus/cuticulus/mlutils/torch.py\u001b\\\u001b[2mtorch.py\u001b[0m\u001b]8;;\u001b\\\u001b[2m:\u001b[0m\u001b]8;id=654443;file:///home/ngardn10/projects/cuticulus/cuticulus/mlutils/torch.py#64\u001b\\\u001b[2m64\u001b[0m\u001b]8;;\u001b\\\n"
      ]
     },
     "metadata": {},
     "output_type": "display_data"
    },
    {
     "data": {
      "text/html": [
       "<pre style=\"white-space:pre;overflow-x:auto;line-height:normal;font-family:Menlo,'DejaVu Sans Mono',consolas,'Courier New',monospace\"><span style=\"color: #7fbfbf; text-decoration-color: #7fbfbf\">[14:42:09] </span>train Loss: <span style=\"color: #008080; text-decoration-color: #008080; font-weight: bold\">0.0026</span> Acc: <span style=\"color: #008080; text-decoration-color: #008080; font-weight: bold\">0.9990</span>                                        <a href=\"file:///home/ngardn10/projects/cuticulus/cuticulus/mlutils/torch.py\"><span style=\"color: #7f7f7f; text-decoration-color: #7f7f7f\">torch.py</span></a><span style=\"color: #7f7f7f; text-decoration-color: #7f7f7f\">:</span><a href=\"file:///home/ngardn10/projects/cuticulus/cuticulus/mlutils/torch.py#109\"><span style=\"color: #7f7f7f; text-decoration-color: #7f7f7f\">109</span></a>\n",
       "</pre>\n"
      ],
      "text/plain": [
       "\u001b[2;36m[14:42:09]\u001b[0m\u001b[2;36m \u001b[0mtrain Loss: \u001b[1;36m0.0026\u001b[0m Acc: \u001b[1;36m0.9990\u001b[0m                                        \u001b]8;id=516822;file:///home/ngardn10/projects/cuticulus/cuticulus/mlutils/torch.py\u001b\\\u001b[2mtorch.py\u001b[0m\u001b]8;;\u001b\\\u001b[2m:\u001b[0m\u001b]8;id=234666;file:///home/ngardn10/projects/cuticulus/cuticulus/mlutils/torch.py#109\u001b\\\u001b[2m109\u001b[0m\u001b]8;;\u001b\\\n"
      ]
     },
     "metadata": {},
     "output_type": "display_data"
    },
    {
     "data": {
      "text/html": [
       "<pre style=\"white-space:pre;overflow-x:auto;line-height:normal;font-family:Menlo,'DejaVu Sans Mono',consolas,'Courier New',monospace\"><span style=\"color: #7fbfbf; text-decoration-color: #7fbfbf\">           </span>val Loss: <span style=\"color: #008080; text-decoration-color: #008080; font-weight: bold\">1.1018</span> Acc: <span style=\"color: #008080; text-decoration-color: #008080; font-weight: bold\">0.7872</span>                                          <a href=\"file:///home/ngardn10/projects/cuticulus/cuticulus/mlutils/torch.py\"><span style=\"color: #7f7f7f; text-decoration-color: #7f7f7f\">torch.py</span></a><span style=\"color: #7f7f7f; text-decoration-color: #7f7f7f\">:</span><a href=\"file:///home/ngardn10/projects/cuticulus/cuticulus/mlutils/torch.py#109\"><span style=\"color: #7f7f7f; text-decoration-color: #7f7f7f\">109</span></a>\n",
       "</pre>\n"
      ],
      "text/plain": [
       "\u001b[2;36m          \u001b[0m\u001b[2;36m \u001b[0mval Loss: \u001b[1;36m1.1018\u001b[0m Acc: \u001b[1;36m0.7872\u001b[0m                                          \u001b]8;id=577029;file:///home/ngardn10/projects/cuticulus/cuticulus/mlutils/torch.py\u001b\\\u001b[2mtorch.py\u001b[0m\u001b]8;;\u001b\\\u001b[2m:\u001b[0m\u001b]8;id=405494;file:///home/ngardn10/projects/cuticulus/cuticulus/mlutils/torch.py#109\u001b\\\u001b[2m109\u001b[0m\u001b]8;;\u001b\\\n"
      ]
     },
     "metadata": {},
     "output_type": "display_data"
    },
    {
     "data": {
      "text/html": [
       "<pre style=\"white-space:pre;overflow-x:auto;line-height:normal;font-family:Menlo,'DejaVu Sans Mono',consolas,'Courier New',monospace\"><span style=\"color: #7fbfbf; text-decoration-color: #7fbfbf\">           </span>Epoch <span style=\"color: #008080; text-decoration-color: #008080; font-weight: bold\">68</span>/<span style=\"color: #008080; text-decoration-color: #008080; font-weight: bold\">99</span>                                                            <a href=\"file:///home/ngardn10/projects/cuticulus/cuticulus/mlutils/torch.py\"><span style=\"color: #7f7f7f; text-decoration-color: #7f7f7f\">torch.py</span></a><span style=\"color: #7f7f7f; text-decoration-color: #7f7f7f\">:</span><a href=\"file:///home/ngardn10/projects/cuticulus/cuticulus/mlutils/torch.py#63\"><span style=\"color: #7f7f7f; text-decoration-color: #7f7f7f\">63</span></a>\n",
       "</pre>\n"
      ],
      "text/plain": [
       "\u001b[2;36m          \u001b[0m\u001b[2;36m \u001b[0mEpoch \u001b[1;36m68\u001b[0m/\u001b[1;36m99\u001b[0m                                                            \u001b]8;id=371509;file:///home/ngardn10/projects/cuticulus/cuticulus/mlutils/torch.py\u001b\\\u001b[2mtorch.py\u001b[0m\u001b]8;;\u001b\\\u001b[2m:\u001b[0m\u001b]8;id=383100;file:///home/ngardn10/projects/cuticulus/cuticulus/mlutils/torch.py#63\u001b\\\u001b[2m63\u001b[0m\u001b]8;;\u001b\\\n"
      ]
     },
     "metadata": {},
     "output_type": "display_data"
    },
    {
     "data": {
      "text/html": [
       "<pre style=\"white-space:pre;overflow-x:auto;line-height:normal;font-family:Menlo,'DejaVu Sans Mono',consolas,'Courier New',monospace\"><span style=\"color: #7fbfbf; text-decoration-color: #7fbfbf\">           </span>----------                                                             <a href=\"file:///home/ngardn10/projects/cuticulus/cuticulus/mlutils/torch.py\"><span style=\"color: #7f7f7f; text-decoration-color: #7f7f7f\">torch.py</span></a><span style=\"color: #7f7f7f; text-decoration-color: #7f7f7f\">:</span><a href=\"file:///home/ngardn10/projects/cuticulus/cuticulus/mlutils/torch.py#64\"><span style=\"color: #7f7f7f; text-decoration-color: #7f7f7f\">64</span></a>\n",
       "</pre>\n"
      ],
      "text/plain": [
       "\u001b[2;36m          \u001b[0m\u001b[2;36m \u001b[0m----------                                                             \u001b]8;id=400081;file:///home/ngardn10/projects/cuticulus/cuticulus/mlutils/torch.py\u001b\\\u001b[2mtorch.py\u001b[0m\u001b]8;;\u001b\\\u001b[2m:\u001b[0m\u001b]8;id=458014;file:///home/ngardn10/projects/cuticulus/cuticulus/mlutils/torch.py#64\u001b\\\u001b[2m64\u001b[0m\u001b]8;;\u001b\\\n"
      ]
     },
     "metadata": {},
     "output_type": "display_data"
    },
    {
     "data": {
      "text/html": [
       "<pre style=\"white-space:pre;overflow-x:auto;line-height:normal;font-family:Menlo,'DejaVu Sans Mono',consolas,'Courier New',monospace\"><span style=\"color: #7fbfbf; text-decoration-color: #7fbfbf\">[14:42:10] </span>train Loss: <span style=\"color: #008080; text-decoration-color: #008080; font-weight: bold\">0.0141</span> Acc: <span style=\"color: #008080; text-decoration-color: #008080; font-weight: bold\">0.9970</span>                                        <a href=\"file:///home/ngardn10/projects/cuticulus/cuticulus/mlutils/torch.py\"><span style=\"color: #7f7f7f; text-decoration-color: #7f7f7f\">torch.py</span></a><span style=\"color: #7f7f7f; text-decoration-color: #7f7f7f\">:</span><a href=\"file:///home/ngardn10/projects/cuticulus/cuticulus/mlutils/torch.py#109\"><span style=\"color: #7f7f7f; text-decoration-color: #7f7f7f\">109</span></a>\n",
       "</pre>\n"
      ],
      "text/plain": [
       "\u001b[2;36m[14:42:10]\u001b[0m\u001b[2;36m \u001b[0mtrain Loss: \u001b[1;36m0.0141\u001b[0m Acc: \u001b[1;36m0.9970\u001b[0m                                        \u001b]8;id=278662;file:///home/ngardn10/projects/cuticulus/cuticulus/mlutils/torch.py\u001b\\\u001b[2mtorch.py\u001b[0m\u001b]8;;\u001b\\\u001b[2m:\u001b[0m\u001b]8;id=872166;file:///home/ngardn10/projects/cuticulus/cuticulus/mlutils/torch.py#109\u001b\\\u001b[2m109\u001b[0m\u001b]8;;\u001b\\\n"
      ]
     },
     "metadata": {},
     "output_type": "display_data"
    },
    {
     "data": {
      "text/html": [
       "<pre style=\"white-space:pre;overflow-x:auto;line-height:normal;font-family:Menlo,'DejaVu Sans Mono',consolas,'Courier New',monospace\"><span style=\"color: #7fbfbf; text-decoration-color: #7fbfbf\">[14:42:11] </span>val Loss: <span style=\"color: #008080; text-decoration-color: #008080; font-weight: bold\">1.2141</span> Acc: <span style=\"color: #008080; text-decoration-color: #008080; font-weight: bold\">0.7742</span>                                          <a href=\"file:///home/ngardn10/projects/cuticulus/cuticulus/mlutils/torch.py\"><span style=\"color: #7f7f7f; text-decoration-color: #7f7f7f\">torch.py</span></a><span style=\"color: #7f7f7f; text-decoration-color: #7f7f7f\">:</span><a href=\"file:///home/ngardn10/projects/cuticulus/cuticulus/mlutils/torch.py#109\"><span style=\"color: #7f7f7f; text-decoration-color: #7f7f7f\">109</span></a>\n",
       "</pre>\n"
      ],
      "text/plain": [
       "\u001b[2;36m[14:42:11]\u001b[0m\u001b[2;36m \u001b[0mval Loss: \u001b[1;36m1.2141\u001b[0m Acc: \u001b[1;36m0.7742\u001b[0m                                          \u001b]8;id=150645;file:///home/ngardn10/projects/cuticulus/cuticulus/mlutils/torch.py\u001b\\\u001b[2mtorch.py\u001b[0m\u001b]8;;\u001b\\\u001b[2m:\u001b[0m\u001b]8;id=230874;file:///home/ngardn10/projects/cuticulus/cuticulus/mlutils/torch.py#109\u001b\\\u001b[2m109\u001b[0m\u001b]8;;\u001b\\\n"
      ]
     },
     "metadata": {},
     "output_type": "display_data"
    },
    {
     "data": {
      "text/html": [
       "<pre style=\"white-space:pre;overflow-x:auto;line-height:normal;font-family:Menlo,'DejaVu Sans Mono',consolas,'Courier New',monospace\"><span style=\"color: #7fbfbf; text-decoration-color: #7fbfbf\">           </span>Epoch <span style=\"color: #008080; text-decoration-color: #008080; font-weight: bold\">69</span>/<span style=\"color: #008080; text-decoration-color: #008080; font-weight: bold\">99</span>                                                            <a href=\"file:///home/ngardn10/projects/cuticulus/cuticulus/mlutils/torch.py\"><span style=\"color: #7f7f7f; text-decoration-color: #7f7f7f\">torch.py</span></a><span style=\"color: #7f7f7f; text-decoration-color: #7f7f7f\">:</span><a href=\"file:///home/ngardn10/projects/cuticulus/cuticulus/mlutils/torch.py#63\"><span style=\"color: #7f7f7f; text-decoration-color: #7f7f7f\">63</span></a>\n",
       "</pre>\n"
      ],
      "text/plain": [
       "\u001b[2;36m          \u001b[0m\u001b[2;36m \u001b[0mEpoch \u001b[1;36m69\u001b[0m/\u001b[1;36m99\u001b[0m                                                            \u001b]8;id=31761;file:///home/ngardn10/projects/cuticulus/cuticulus/mlutils/torch.py\u001b\\\u001b[2mtorch.py\u001b[0m\u001b]8;;\u001b\\\u001b[2m:\u001b[0m\u001b]8;id=504975;file:///home/ngardn10/projects/cuticulus/cuticulus/mlutils/torch.py#63\u001b\\\u001b[2m63\u001b[0m\u001b]8;;\u001b\\\n"
      ]
     },
     "metadata": {},
     "output_type": "display_data"
    },
    {
     "data": {
      "text/html": [
       "<pre style=\"white-space:pre;overflow-x:auto;line-height:normal;font-family:Menlo,'DejaVu Sans Mono',consolas,'Courier New',monospace\"><span style=\"color: #7fbfbf; text-decoration-color: #7fbfbf\">           </span>----------                                                             <a href=\"file:///home/ngardn10/projects/cuticulus/cuticulus/mlutils/torch.py\"><span style=\"color: #7f7f7f; text-decoration-color: #7f7f7f\">torch.py</span></a><span style=\"color: #7f7f7f; text-decoration-color: #7f7f7f\">:</span><a href=\"file:///home/ngardn10/projects/cuticulus/cuticulus/mlutils/torch.py#64\"><span style=\"color: #7f7f7f; text-decoration-color: #7f7f7f\">64</span></a>\n",
       "</pre>\n"
      ],
      "text/plain": [
       "\u001b[2;36m          \u001b[0m\u001b[2;36m \u001b[0m----------                                                             \u001b]8;id=692083;file:///home/ngardn10/projects/cuticulus/cuticulus/mlutils/torch.py\u001b\\\u001b[2mtorch.py\u001b[0m\u001b]8;;\u001b\\\u001b[2m:\u001b[0m\u001b]8;id=561034;file:///home/ngardn10/projects/cuticulus/cuticulus/mlutils/torch.py#64\u001b\\\u001b[2m64\u001b[0m\u001b]8;;\u001b\\\n"
      ]
     },
     "metadata": {},
     "output_type": "display_data"
    },
    {
     "data": {
      "text/html": [
       "<pre style=\"white-space:pre;overflow-x:auto;line-height:normal;font-family:Menlo,'DejaVu Sans Mono',consolas,'Courier New',monospace\"><span style=\"color: #7fbfbf; text-decoration-color: #7fbfbf\">[14:42:12] </span>train Loss: <span style=\"color: #008080; text-decoration-color: #008080; font-weight: bold\">0.0162</span> Acc: <span style=\"color: #008080; text-decoration-color: #008080; font-weight: bold\">0.9930</span>                                        <a href=\"file:///home/ngardn10/projects/cuticulus/cuticulus/mlutils/torch.py\"><span style=\"color: #7f7f7f; text-decoration-color: #7f7f7f\">torch.py</span></a><span style=\"color: #7f7f7f; text-decoration-color: #7f7f7f\">:</span><a href=\"file:///home/ngardn10/projects/cuticulus/cuticulus/mlutils/torch.py#109\"><span style=\"color: #7f7f7f; text-decoration-color: #7f7f7f\">109</span></a>\n",
       "</pre>\n"
      ],
      "text/plain": [
       "\u001b[2;36m[14:42:12]\u001b[0m\u001b[2;36m \u001b[0mtrain Loss: \u001b[1;36m0.0162\u001b[0m Acc: \u001b[1;36m0.9930\u001b[0m                                        \u001b]8;id=705005;file:///home/ngardn10/projects/cuticulus/cuticulus/mlutils/torch.py\u001b\\\u001b[2mtorch.py\u001b[0m\u001b]8;;\u001b\\\u001b[2m:\u001b[0m\u001b]8;id=898487;file:///home/ngardn10/projects/cuticulus/cuticulus/mlutils/torch.py#109\u001b\\\u001b[2m109\u001b[0m\u001b]8;;\u001b\\\n"
      ]
     },
     "metadata": {},
     "output_type": "display_data"
    },
    {
     "data": {
      "text/html": [
       "<pre style=\"white-space:pre;overflow-x:auto;line-height:normal;font-family:Menlo,'DejaVu Sans Mono',consolas,'Courier New',monospace\"><span style=\"color: #7fbfbf; text-decoration-color: #7fbfbf\">           </span>val Loss: <span style=\"color: #008080; text-decoration-color: #008080; font-weight: bold\">1.0279</span> Acc: <span style=\"color: #008080; text-decoration-color: #008080; font-weight: bold\">0.7911</span>                                          <a href=\"file:///home/ngardn10/projects/cuticulus/cuticulus/mlutils/torch.py\"><span style=\"color: #7f7f7f; text-decoration-color: #7f7f7f\">torch.py</span></a><span style=\"color: #7f7f7f; text-decoration-color: #7f7f7f\">:</span><a href=\"file:///home/ngardn10/projects/cuticulus/cuticulus/mlutils/torch.py#109\"><span style=\"color: #7f7f7f; text-decoration-color: #7f7f7f\">109</span></a>\n",
       "</pre>\n"
      ],
      "text/plain": [
       "\u001b[2;36m          \u001b[0m\u001b[2;36m \u001b[0mval Loss: \u001b[1;36m1.0279\u001b[0m Acc: \u001b[1;36m0.7911\u001b[0m                                          \u001b]8;id=821419;file:///home/ngardn10/projects/cuticulus/cuticulus/mlutils/torch.py\u001b\\\u001b[2mtorch.py\u001b[0m\u001b]8;;\u001b\\\u001b[2m:\u001b[0m\u001b]8;id=403736;file:///home/ngardn10/projects/cuticulus/cuticulus/mlutils/torch.py#109\u001b\\\u001b[2m109\u001b[0m\u001b]8;;\u001b\\\n"
      ]
     },
     "metadata": {},
     "output_type": "display_data"
    },
    {
     "data": {
      "text/html": [
       "<pre style=\"white-space:pre;overflow-x:auto;line-height:normal;font-family:Menlo,'DejaVu Sans Mono',consolas,'Courier New',monospace\"><span style=\"color: #7fbfbf; text-decoration-color: #7fbfbf\">           </span>Epoch <span style=\"color: #008080; text-decoration-color: #008080; font-weight: bold\">70</span>/<span style=\"color: #008080; text-decoration-color: #008080; font-weight: bold\">99</span>                                                            <a href=\"file:///home/ngardn10/projects/cuticulus/cuticulus/mlutils/torch.py\"><span style=\"color: #7f7f7f; text-decoration-color: #7f7f7f\">torch.py</span></a><span style=\"color: #7f7f7f; text-decoration-color: #7f7f7f\">:</span><a href=\"file:///home/ngardn10/projects/cuticulus/cuticulus/mlutils/torch.py#63\"><span style=\"color: #7f7f7f; text-decoration-color: #7f7f7f\">63</span></a>\n",
       "</pre>\n"
      ],
      "text/plain": [
       "\u001b[2;36m          \u001b[0m\u001b[2;36m \u001b[0mEpoch \u001b[1;36m70\u001b[0m/\u001b[1;36m99\u001b[0m                                                            \u001b]8;id=596008;file:///home/ngardn10/projects/cuticulus/cuticulus/mlutils/torch.py\u001b\\\u001b[2mtorch.py\u001b[0m\u001b]8;;\u001b\\\u001b[2m:\u001b[0m\u001b]8;id=888128;file:///home/ngardn10/projects/cuticulus/cuticulus/mlutils/torch.py#63\u001b\\\u001b[2m63\u001b[0m\u001b]8;;\u001b\\\n"
      ]
     },
     "metadata": {},
     "output_type": "display_data"
    },
    {
     "data": {
      "text/html": [
       "<pre style=\"white-space:pre;overflow-x:auto;line-height:normal;font-family:Menlo,'DejaVu Sans Mono',consolas,'Courier New',monospace\"><span style=\"color: #7fbfbf; text-decoration-color: #7fbfbf\">           </span>----------                                                             <a href=\"file:///home/ngardn10/projects/cuticulus/cuticulus/mlutils/torch.py\"><span style=\"color: #7f7f7f; text-decoration-color: #7f7f7f\">torch.py</span></a><span style=\"color: #7f7f7f; text-decoration-color: #7f7f7f\">:</span><a href=\"file:///home/ngardn10/projects/cuticulus/cuticulus/mlutils/torch.py#64\"><span style=\"color: #7f7f7f; text-decoration-color: #7f7f7f\">64</span></a>\n",
       "</pre>\n"
      ],
      "text/plain": [
       "\u001b[2;36m          \u001b[0m\u001b[2;36m \u001b[0m----------                                                             \u001b]8;id=548961;file:///home/ngardn10/projects/cuticulus/cuticulus/mlutils/torch.py\u001b\\\u001b[2mtorch.py\u001b[0m\u001b]8;;\u001b\\\u001b[2m:\u001b[0m\u001b]8;id=268278;file:///home/ngardn10/projects/cuticulus/cuticulus/mlutils/torch.py#64\u001b\\\u001b[2m64\u001b[0m\u001b]8;;\u001b\\\n"
      ]
     },
     "metadata": {},
     "output_type": "display_data"
    },
    {
     "data": {
      "text/html": [
       "<pre style=\"white-space:pre;overflow-x:auto;line-height:normal;font-family:Menlo,'DejaVu Sans Mono',consolas,'Courier New',monospace\"><span style=\"color: #7fbfbf; text-decoration-color: #7fbfbf\">[14:42:14] </span>train Loss: <span style=\"color: #008080; text-decoration-color: #008080; font-weight: bold\">0.0039</span> Acc: <span style=\"color: #008080; text-decoration-color: #008080; font-weight: bold\">0.9995</span>                                        <a href=\"file:///home/ngardn10/projects/cuticulus/cuticulus/mlutils/torch.py\"><span style=\"color: #7f7f7f; text-decoration-color: #7f7f7f\">torch.py</span></a><span style=\"color: #7f7f7f; text-decoration-color: #7f7f7f\">:</span><a href=\"file:///home/ngardn10/projects/cuticulus/cuticulus/mlutils/torch.py#109\"><span style=\"color: #7f7f7f; text-decoration-color: #7f7f7f\">109</span></a>\n",
       "</pre>\n"
      ],
      "text/plain": [
       "\u001b[2;36m[14:42:14]\u001b[0m\u001b[2;36m \u001b[0mtrain Loss: \u001b[1;36m0.0039\u001b[0m Acc: \u001b[1;36m0.9995\u001b[0m                                        \u001b]8;id=140399;file:///home/ngardn10/projects/cuticulus/cuticulus/mlutils/torch.py\u001b\\\u001b[2mtorch.py\u001b[0m\u001b]8;;\u001b\\\u001b[2m:\u001b[0m\u001b]8;id=95474;file:///home/ngardn10/projects/cuticulus/cuticulus/mlutils/torch.py#109\u001b\\\u001b[2m109\u001b[0m\u001b]8;;\u001b\\\n"
      ]
     },
     "metadata": {},
     "output_type": "display_data"
    },
    {
     "data": {
      "text/html": [
       "<pre style=\"white-space:pre;overflow-x:auto;line-height:normal;font-family:Menlo,'DejaVu Sans Mono',consolas,'Courier New',monospace\"><span style=\"color: #7fbfbf; text-decoration-color: #7fbfbf\">           </span>val Loss: <span style=\"color: #008080; text-decoration-color: #008080; font-weight: bold\">1.0562</span> Acc: <span style=\"color: #008080; text-decoration-color: #008080; font-weight: bold\">0.7820</span>                                          <a href=\"file:///home/ngardn10/projects/cuticulus/cuticulus/mlutils/torch.py\"><span style=\"color: #7f7f7f; text-decoration-color: #7f7f7f\">torch.py</span></a><span style=\"color: #7f7f7f; text-decoration-color: #7f7f7f\">:</span><a href=\"file:///home/ngardn10/projects/cuticulus/cuticulus/mlutils/torch.py#109\"><span style=\"color: #7f7f7f; text-decoration-color: #7f7f7f\">109</span></a>\n",
       "</pre>\n"
      ],
      "text/plain": [
       "\u001b[2;36m          \u001b[0m\u001b[2;36m \u001b[0mval Loss: \u001b[1;36m1.0562\u001b[0m Acc: \u001b[1;36m0.7820\u001b[0m                                          \u001b]8;id=722481;file:///home/ngardn10/projects/cuticulus/cuticulus/mlutils/torch.py\u001b\\\u001b[2mtorch.py\u001b[0m\u001b]8;;\u001b\\\u001b[2m:\u001b[0m\u001b]8;id=136324;file:///home/ngardn10/projects/cuticulus/cuticulus/mlutils/torch.py#109\u001b\\\u001b[2m109\u001b[0m\u001b]8;;\u001b\\\n"
      ]
     },
     "metadata": {},
     "output_type": "display_data"
    },
    {
     "data": {
      "text/html": [
       "<pre style=\"white-space:pre;overflow-x:auto;line-height:normal;font-family:Menlo,'DejaVu Sans Mono',consolas,'Courier New',monospace\"><span style=\"color: #7fbfbf; text-decoration-color: #7fbfbf\">           </span>Epoch <span style=\"color: #008080; text-decoration-color: #008080; font-weight: bold\">71</span>/<span style=\"color: #008080; text-decoration-color: #008080; font-weight: bold\">99</span>                                                            <a href=\"file:///home/ngardn10/projects/cuticulus/cuticulus/mlutils/torch.py\"><span style=\"color: #7f7f7f; text-decoration-color: #7f7f7f\">torch.py</span></a><span style=\"color: #7f7f7f; text-decoration-color: #7f7f7f\">:</span><a href=\"file:///home/ngardn10/projects/cuticulus/cuticulus/mlutils/torch.py#63\"><span style=\"color: #7f7f7f; text-decoration-color: #7f7f7f\">63</span></a>\n",
       "</pre>\n"
      ],
      "text/plain": [
       "\u001b[2;36m          \u001b[0m\u001b[2;36m \u001b[0mEpoch \u001b[1;36m71\u001b[0m/\u001b[1;36m99\u001b[0m                                                            \u001b]8;id=995805;file:///home/ngardn10/projects/cuticulus/cuticulus/mlutils/torch.py\u001b\\\u001b[2mtorch.py\u001b[0m\u001b]8;;\u001b\\\u001b[2m:\u001b[0m\u001b]8;id=983293;file:///home/ngardn10/projects/cuticulus/cuticulus/mlutils/torch.py#63\u001b\\\u001b[2m63\u001b[0m\u001b]8;;\u001b\\\n"
      ]
     },
     "metadata": {},
     "output_type": "display_data"
    },
    {
     "data": {
      "text/html": [
       "<pre style=\"white-space:pre;overflow-x:auto;line-height:normal;font-family:Menlo,'DejaVu Sans Mono',consolas,'Courier New',monospace\"><span style=\"color: #7fbfbf; text-decoration-color: #7fbfbf\">           </span>----------                                                             <a href=\"file:///home/ngardn10/projects/cuticulus/cuticulus/mlutils/torch.py\"><span style=\"color: #7f7f7f; text-decoration-color: #7f7f7f\">torch.py</span></a><span style=\"color: #7f7f7f; text-decoration-color: #7f7f7f\">:</span><a href=\"file:///home/ngardn10/projects/cuticulus/cuticulus/mlutils/torch.py#64\"><span style=\"color: #7f7f7f; text-decoration-color: #7f7f7f\">64</span></a>\n",
       "</pre>\n"
      ],
      "text/plain": [
       "\u001b[2;36m          \u001b[0m\u001b[2;36m \u001b[0m----------                                                             \u001b]8;id=165106;file:///home/ngardn10/projects/cuticulus/cuticulus/mlutils/torch.py\u001b\\\u001b[2mtorch.py\u001b[0m\u001b]8;;\u001b\\\u001b[2m:\u001b[0m\u001b]8;id=520078;file:///home/ngardn10/projects/cuticulus/cuticulus/mlutils/torch.py#64\u001b\\\u001b[2m64\u001b[0m\u001b]8;;\u001b\\\n"
      ]
     },
     "metadata": {},
     "output_type": "display_data"
    },
    {
     "data": {
      "text/html": [
       "<pre style=\"white-space:pre;overflow-x:auto;line-height:normal;font-family:Menlo,'DejaVu Sans Mono',consolas,'Courier New',monospace\"><span style=\"color: #7fbfbf; text-decoration-color: #7fbfbf\">[14:42:16] </span>train Loss: <span style=\"color: #008080; text-decoration-color: #008080; font-weight: bold\">0.0185</span> Acc: <span style=\"color: #008080; text-decoration-color: #008080; font-weight: bold\">0.9960</span>                                        <a href=\"file:///home/ngardn10/projects/cuticulus/cuticulus/mlutils/torch.py\"><span style=\"color: #7f7f7f; text-decoration-color: #7f7f7f\">torch.py</span></a><span style=\"color: #7f7f7f; text-decoration-color: #7f7f7f\">:</span><a href=\"file:///home/ngardn10/projects/cuticulus/cuticulus/mlutils/torch.py#109\"><span style=\"color: #7f7f7f; text-decoration-color: #7f7f7f\">109</span></a>\n",
       "</pre>\n"
      ],
      "text/plain": [
       "\u001b[2;36m[14:42:16]\u001b[0m\u001b[2;36m \u001b[0mtrain Loss: \u001b[1;36m0.0185\u001b[0m Acc: \u001b[1;36m0.9960\u001b[0m                                        \u001b]8;id=957268;file:///home/ngardn10/projects/cuticulus/cuticulus/mlutils/torch.py\u001b\\\u001b[2mtorch.py\u001b[0m\u001b]8;;\u001b\\\u001b[2m:\u001b[0m\u001b]8;id=784232;file:///home/ngardn10/projects/cuticulus/cuticulus/mlutils/torch.py#109\u001b\\\u001b[2m109\u001b[0m\u001b]8;;\u001b\\\n"
      ]
     },
     "metadata": {},
     "output_type": "display_data"
    },
    {
     "data": {
      "text/html": [
       "<pre style=\"white-space:pre;overflow-x:auto;line-height:normal;font-family:Menlo,'DejaVu Sans Mono',consolas,'Courier New',monospace\"><span style=\"color: #7fbfbf; text-decoration-color: #7fbfbf\">           </span>val Loss: <span style=\"color: #008080; text-decoration-color: #008080; font-weight: bold\">1.0522</span> Acc: <span style=\"color: #008080; text-decoration-color: #008080; font-weight: bold\">0.7924</span>                                          <a href=\"file:///home/ngardn10/projects/cuticulus/cuticulus/mlutils/torch.py\"><span style=\"color: #7f7f7f; text-decoration-color: #7f7f7f\">torch.py</span></a><span style=\"color: #7f7f7f; text-decoration-color: #7f7f7f\">:</span><a href=\"file:///home/ngardn10/projects/cuticulus/cuticulus/mlutils/torch.py#109\"><span style=\"color: #7f7f7f; text-decoration-color: #7f7f7f\">109</span></a>\n",
       "</pre>\n"
      ],
      "text/plain": [
       "\u001b[2;36m          \u001b[0m\u001b[2;36m \u001b[0mval Loss: \u001b[1;36m1.0522\u001b[0m Acc: \u001b[1;36m0.7924\u001b[0m                                          \u001b]8;id=365346;file:///home/ngardn10/projects/cuticulus/cuticulus/mlutils/torch.py\u001b\\\u001b[2mtorch.py\u001b[0m\u001b]8;;\u001b\\\u001b[2m:\u001b[0m\u001b]8;id=464467;file:///home/ngardn10/projects/cuticulus/cuticulus/mlutils/torch.py#109\u001b\\\u001b[2m109\u001b[0m\u001b]8;;\u001b\\\n"
      ]
     },
     "metadata": {},
     "output_type": "display_data"
    },
    {
     "data": {
      "text/html": [
       "<pre style=\"white-space:pre;overflow-x:auto;line-height:normal;font-family:Menlo,'DejaVu Sans Mono',consolas,'Courier New',monospace\"><span style=\"color: #7fbfbf; text-decoration-color: #7fbfbf\">           </span>Epoch <span style=\"color: #008080; text-decoration-color: #008080; font-weight: bold\">72</span>/<span style=\"color: #008080; text-decoration-color: #008080; font-weight: bold\">99</span>                                                            <a href=\"file:///home/ngardn10/projects/cuticulus/cuticulus/mlutils/torch.py\"><span style=\"color: #7f7f7f; text-decoration-color: #7f7f7f\">torch.py</span></a><span style=\"color: #7f7f7f; text-decoration-color: #7f7f7f\">:</span><a href=\"file:///home/ngardn10/projects/cuticulus/cuticulus/mlutils/torch.py#63\"><span style=\"color: #7f7f7f; text-decoration-color: #7f7f7f\">63</span></a>\n",
       "</pre>\n"
      ],
      "text/plain": [
       "\u001b[2;36m          \u001b[0m\u001b[2;36m \u001b[0mEpoch \u001b[1;36m72\u001b[0m/\u001b[1;36m99\u001b[0m                                                            \u001b]8;id=709283;file:///home/ngardn10/projects/cuticulus/cuticulus/mlutils/torch.py\u001b\\\u001b[2mtorch.py\u001b[0m\u001b]8;;\u001b\\\u001b[2m:\u001b[0m\u001b]8;id=16956;file:///home/ngardn10/projects/cuticulus/cuticulus/mlutils/torch.py#63\u001b\\\u001b[2m63\u001b[0m\u001b]8;;\u001b\\\n"
      ]
     },
     "metadata": {},
     "output_type": "display_data"
    },
    {
     "data": {
      "text/html": [
       "<pre style=\"white-space:pre;overflow-x:auto;line-height:normal;font-family:Menlo,'DejaVu Sans Mono',consolas,'Courier New',monospace\"><span style=\"color: #7fbfbf; text-decoration-color: #7fbfbf\">           </span>----------                                                             <a href=\"file:///home/ngardn10/projects/cuticulus/cuticulus/mlutils/torch.py\"><span style=\"color: #7f7f7f; text-decoration-color: #7f7f7f\">torch.py</span></a><span style=\"color: #7f7f7f; text-decoration-color: #7f7f7f\">:</span><a href=\"file:///home/ngardn10/projects/cuticulus/cuticulus/mlutils/torch.py#64\"><span style=\"color: #7f7f7f; text-decoration-color: #7f7f7f\">64</span></a>\n",
       "</pre>\n"
      ],
      "text/plain": [
       "\u001b[2;36m          \u001b[0m\u001b[2;36m \u001b[0m----------                                                             \u001b]8;id=999613;file:///home/ngardn10/projects/cuticulus/cuticulus/mlutils/torch.py\u001b\\\u001b[2mtorch.py\u001b[0m\u001b]8;;\u001b\\\u001b[2m:\u001b[0m\u001b]8;id=703454;file:///home/ngardn10/projects/cuticulus/cuticulus/mlutils/torch.py#64\u001b\\\u001b[2m64\u001b[0m\u001b]8;;\u001b\\\n"
      ]
     },
     "metadata": {},
     "output_type": "display_data"
    },
    {
     "data": {
      "text/html": [
       "<pre style=\"white-space:pre;overflow-x:auto;line-height:normal;font-family:Menlo,'DejaVu Sans Mono',consolas,'Courier New',monospace\"><span style=\"color: #7fbfbf; text-decoration-color: #7fbfbf\">[14:42:18] </span>train Loss: <span style=\"color: #008080; text-decoration-color: #008080; font-weight: bold\">0.0025</span> Acc: <span style=\"color: #008080; text-decoration-color: #008080; font-weight: bold\">0.9995</span>                                        <a href=\"file:///home/ngardn10/projects/cuticulus/cuticulus/mlutils/torch.py\"><span style=\"color: #7f7f7f; text-decoration-color: #7f7f7f\">torch.py</span></a><span style=\"color: #7f7f7f; text-decoration-color: #7f7f7f\">:</span><a href=\"file:///home/ngardn10/projects/cuticulus/cuticulus/mlutils/torch.py#109\"><span style=\"color: #7f7f7f; text-decoration-color: #7f7f7f\">109</span></a>\n",
       "</pre>\n"
      ],
      "text/plain": [
       "\u001b[2;36m[14:42:18]\u001b[0m\u001b[2;36m \u001b[0mtrain Loss: \u001b[1;36m0.0025\u001b[0m Acc: \u001b[1;36m0.9995\u001b[0m                                        \u001b]8;id=332174;file:///home/ngardn10/projects/cuticulus/cuticulus/mlutils/torch.py\u001b\\\u001b[2mtorch.py\u001b[0m\u001b]8;;\u001b\\\u001b[2m:\u001b[0m\u001b]8;id=675758;file:///home/ngardn10/projects/cuticulus/cuticulus/mlutils/torch.py#109\u001b\\\u001b[2m109\u001b[0m\u001b]8;;\u001b\\\n"
      ]
     },
     "metadata": {},
     "output_type": "display_data"
    },
    {
     "data": {
      "text/html": [
       "<pre style=\"white-space:pre;overflow-x:auto;line-height:normal;font-family:Menlo,'DejaVu Sans Mono',consolas,'Courier New',monospace\"><span style=\"color: #7fbfbf; text-decoration-color: #7fbfbf\">           </span>val Loss: <span style=\"color: #008080; text-decoration-color: #008080; font-weight: bold\">1.0617</span> Acc: <span style=\"color: #008080; text-decoration-color: #008080; font-weight: bold\">0.7950</span>                                          <a href=\"file:///home/ngardn10/projects/cuticulus/cuticulus/mlutils/torch.py\"><span style=\"color: #7f7f7f; text-decoration-color: #7f7f7f\">torch.py</span></a><span style=\"color: #7f7f7f; text-decoration-color: #7f7f7f\">:</span><a href=\"file:///home/ngardn10/projects/cuticulus/cuticulus/mlutils/torch.py#109\"><span style=\"color: #7f7f7f; text-decoration-color: #7f7f7f\">109</span></a>\n",
       "</pre>\n"
      ],
      "text/plain": [
       "\u001b[2;36m          \u001b[0m\u001b[2;36m \u001b[0mval Loss: \u001b[1;36m1.0617\u001b[0m Acc: \u001b[1;36m0.7950\u001b[0m                                          \u001b]8;id=331536;file:///home/ngardn10/projects/cuticulus/cuticulus/mlutils/torch.py\u001b\\\u001b[2mtorch.py\u001b[0m\u001b]8;;\u001b\\\u001b[2m:\u001b[0m\u001b]8;id=751025;file:///home/ngardn10/projects/cuticulus/cuticulus/mlutils/torch.py#109\u001b\\\u001b[2m109\u001b[0m\u001b]8;;\u001b\\\n"
      ]
     },
     "metadata": {},
     "output_type": "display_data"
    },
    {
     "data": {
      "text/html": [
       "<pre style=\"white-space:pre;overflow-x:auto;line-height:normal;font-family:Menlo,'DejaVu Sans Mono',consolas,'Courier New',monospace\"><span style=\"color: #7fbfbf; text-decoration-color: #7fbfbf\">           </span>Epoch <span style=\"color: #008080; text-decoration-color: #008080; font-weight: bold\">73</span>/<span style=\"color: #008080; text-decoration-color: #008080; font-weight: bold\">99</span>                                                            <a href=\"file:///home/ngardn10/projects/cuticulus/cuticulus/mlutils/torch.py\"><span style=\"color: #7f7f7f; text-decoration-color: #7f7f7f\">torch.py</span></a><span style=\"color: #7f7f7f; text-decoration-color: #7f7f7f\">:</span><a href=\"file:///home/ngardn10/projects/cuticulus/cuticulus/mlutils/torch.py#63\"><span style=\"color: #7f7f7f; text-decoration-color: #7f7f7f\">63</span></a>\n",
       "</pre>\n"
      ],
      "text/plain": [
       "\u001b[2;36m          \u001b[0m\u001b[2;36m \u001b[0mEpoch \u001b[1;36m73\u001b[0m/\u001b[1;36m99\u001b[0m                                                            \u001b]8;id=549361;file:///home/ngardn10/projects/cuticulus/cuticulus/mlutils/torch.py\u001b\\\u001b[2mtorch.py\u001b[0m\u001b]8;;\u001b\\\u001b[2m:\u001b[0m\u001b]8;id=546472;file:///home/ngardn10/projects/cuticulus/cuticulus/mlutils/torch.py#63\u001b\\\u001b[2m63\u001b[0m\u001b]8;;\u001b\\\n"
      ]
     },
     "metadata": {},
     "output_type": "display_data"
    },
    {
     "data": {
      "text/html": [
       "<pre style=\"white-space:pre;overflow-x:auto;line-height:normal;font-family:Menlo,'DejaVu Sans Mono',consolas,'Courier New',monospace\"><span style=\"color: #7fbfbf; text-decoration-color: #7fbfbf\">           </span>----------                                                             <a href=\"file:///home/ngardn10/projects/cuticulus/cuticulus/mlutils/torch.py\"><span style=\"color: #7f7f7f; text-decoration-color: #7f7f7f\">torch.py</span></a><span style=\"color: #7f7f7f; text-decoration-color: #7f7f7f\">:</span><a href=\"file:///home/ngardn10/projects/cuticulus/cuticulus/mlutils/torch.py#64\"><span style=\"color: #7f7f7f; text-decoration-color: #7f7f7f\">64</span></a>\n",
       "</pre>\n"
      ],
      "text/plain": [
       "\u001b[2;36m          \u001b[0m\u001b[2;36m \u001b[0m----------                                                             \u001b]8;id=91298;file:///home/ngardn10/projects/cuticulus/cuticulus/mlutils/torch.py\u001b\\\u001b[2mtorch.py\u001b[0m\u001b]8;;\u001b\\\u001b[2m:\u001b[0m\u001b]8;id=78230;file:///home/ngardn10/projects/cuticulus/cuticulus/mlutils/torch.py#64\u001b\\\u001b[2m64\u001b[0m\u001b]8;;\u001b\\\n"
      ]
     },
     "metadata": {},
     "output_type": "display_data"
    },
    {
     "data": {
      "text/html": [
       "<pre style=\"white-space:pre;overflow-x:auto;line-height:normal;font-family:Menlo,'DejaVu Sans Mono',consolas,'Courier New',monospace\"><span style=\"color: #7fbfbf; text-decoration-color: #7fbfbf\">[14:42:20] </span>train Loss: <span style=\"color: #008080; text-decoration-color: #008080; font-weight: bold\">0.0078</span> Acc: <span style=\"color: #008080; text-decoration-color: #008080; font-weight: bold\">0.9985</span>                                        <a href=\"file:///home/ngardn10/projects/cuticulus/cuticulus/mlutils/torch.py\"><span style=\"color: #7f7f7f; text-decoration-color: #7f7f7f\">torch.py</span></a><span style=\"color: #7f7f7f; text-decoration-color: #7f7f7f\">:</span><a href=\"file:///home/ngardn10/projects/cuticulus/cuticulus/mlutils/torch.py#109\"><span style=\"color: #7f7f7f; text-decoration-color: #7f7f7f\">109</span></a>\n",
       "</pre>\n"
      ],
      "text/plain": [
       "\u001b[2;36m[14:42:20]\u001b[0m\u001b[2;36m \u001b[0mtrain Loss: \u001b[1;36m0.0078\u001b[0m Acc: \u001b[1;36m0.9985\u001b[0m                                        \u001b]8;id=335600;file:///home/ngardn10/projects/cuticulus/cuticulus/mlutils/torch.py\u001b\\\u001b[2mtorch.py\u001b[0m\u001b]8;;\u001b\\\u001b[2m:\u001b[0m\u001b]8;id=68763;file:///home/ngardn10/projects/cuticulus/cuticulus/mlutils/torch.py#109\u001b\\\u001b[2m109\u001b[0m\u001b]8;;\u001b\\\n"
      ]
     },
     "metadata": {},
     "output_type": "display_data"
    },
    {
     "data": {
      "text/html": [
       "<pre style=\"white-space:pre;overflow-x:auto;line-height:normal;font-family:Menlo,'DejaVu Sans Mono',consolas,'Courier New',monospace\"><span style=\"color: #7fbfbf; text-decoration-color: #7fbfbf\">           </span>val Loss: <span style=\"color: #008080; text-decoration-color: #008080; font-weight: bold\">1.0171</span> Acc: <span style=\"color: #008080; text-decoration-color: #008080; font-weight: bold\">0.7937</span>                                          <a href=\"file:///home/ngardn10/projects/cuticulus/cuticulus/mlutils/torch.py\"><span style=\"color: #7f7f7f; text-decoration-color: #7f7f7f\">torch.py</span></a><span style=\"color: #7f7f7f; text-decoration-color: #7f7f7f\">:</span><a href=\"file:///home/ngardn10/projects/cuticulus/cuticulus/mlutils/torch.py#109\"><span style=\"color: #7f7f7f; text-decoration-color: #7f7f7f\">109</span></a>\n",
       "</pre>\n"
      ],
      "text/plain": [
       "\u001b[2;36m          \u001b[0m\u001b[2;36m \u001b[0mval Loss: \u001b[1;36m1.0171\u001b[0m Acc: \u001b[1;36m0.7937\u001b[0m                                          \u001b]8;id=529296;file:///home/ngardn10/projects/cuticulus/cuticulus/mlutils/torch.py\u001b\\\u001b[2mtorch.py\u001b[0m\u001b]8;;\u001b\\\u001b[2m:\u001b[0m\u001b]8;id=822054;file:///home/ngardn10/projects/cuticulus/cuticulus/mlutils/torch.py#109\u001b\\\u001b[2m109\u001b[0m\u001b]8;;\u001b\\\n"
      ]
     },
     "metadata": {},
     "output_type": "display_data"
    },
    {
     "data": {
      "text/html": [
       "<pre style=\"white-space:pre;overflow-x:auto;line-height:normal;font-family:Menlo,'DejaVu Sans Mono',consolas,'Courier New',monospace\"><span style=\"color: #7fbfbf; text-decoration-color: #7fbfbf\">           </span>Epoch <span style=\"color: #008080; text-decoration-color: #008080; font-weight: bold\">74</span>/<span style=\"color: #008080; text-decoration-color: #008080; font-weight: bold\">99</span>                                                            <a href=\"file:///home/ngardn10/projects/cuticulus/cuticulus/mlutils/torch.py\"><span style=\"color: #7f7f7f; text-decoration-color: #7f7f7f\">torch.py</span></a><span style=\"color: #7f7f7f; text-decoration-color: #7f7f7f\">:</span><a href=\"file:///home/ngardn10/projects/cuticulus/cuticulus/mlutils/torch.py#63\"><span style=\"color: #7f7f7f; text-decoration-color: #7f7f7f\">63</span></a>\n",
       "</pre>\n"
      ],
      "text/plain": [
       "\u001b[2;36m          \u001b[0m\u001b[2;36m \u001b[0mEpoch \u001b[1;36m74\u001b[0m/\u001b[1;36m99\u001b[0m                                                            \u001b]8;id=197343;file:///home/ngardn10/projects/cuticulus/cuticulus/mlutils/torch.py\u001b\\\u001b[2mtorch.py\u001b[0m\u001b]8;;\u001b\\\u001b[2m:\u001b[0m\u001b]8;id=151456;file:///home/ngardn10/projects/cuticulus/cuticulus/mlutils/torch.py#63\u001b\\\u001b[2m63\u001b[0m\u001b]8;;\u001b\\\n"
      ]
     },
     "metadata": {},
     "output_type": "display_data"
    },
    {
     "data": {
      "text/html": [
       "<pre style=\"white-space:pre;overflow-x:auto;line-height:normal;font-family:Menlo,'DejaVu Sans Mono',consolas,'Courier New',monospace\"><span style=\"color: #7fbfbf; text-decoration-color: #7fbfbf\">           </span>----------                                                             <a href=\"file:///home/ngardn10/projects/cuticulus/cuticulus/mlutils/torch.py\"><span style=\"color: #7f7f7f; text-decoration-color: #7f7f7f\">torch.py</span></a><span style=\"color: #7f7f7f; text-decoration-color: #7f7f7f\">:</span><a href=\"file:///home/ngardn10/projects/cuticulus/cuticulus/mlutils/torch.py#64\"><span style=\"color: #7f7f7f; text-decoration-color: #7f7f7f\">64</span></a>\n",
       "</pre>\n"
      ],
      "text/plain": [
       "\u001b[2;36m          \u001b[0m\u001b[2;36m \u001b[0m----------                                                             \u001b]8;id=601314;file:///home/ngardn10/projects/cuticulus/cuticulus/mlutils/torch.py\u001b\\\u001b[2mtorch.py\u001b[0m\u001b]8;;\u001b\\\u001b[2m:\u001b[0m\u001b]8;id=637123;file:///home/ngardn10/projects/cuticulus/cuticulus/mlutils/torch.py#64\u001b\\\u001b[2m64\u001b[0m\u001b]8;;\u001b\\\n"
      ]
     },
     "metadata": {},
     "output_type": "display_data"
    },
    {
     "data": {
      "text/html": [
       "<pre style=\"white-space:pre;overflow-x:auto;line-height:normal;font-family:Menlo,'DejaVu Sans Mono',consolas,'Courier New',monospace\"><span style=\"color: #7fbfbf; text-decoration-color: #7fbfbf\">[14:42:22] </span>train Loss: <span style=\"color: #008080; text-decoration-color: #008080; font-weight: bold\">0.0083</span> Acc: <span style=\"color: #008080; text-decoration-color: #008080; font-weight: bold\">0.9970</span>                                        <a href=\"file:///home/ngardn10/projects/cuticulus/cuticulus/mlutils/torch.py\"><span style=\"color: #7f7f7f; text-decoration-color: #7f7f7f\">torch.py</span></a><span style=\"color: #7f7f7f; text-decoration-color: #7f7f7f\">:</span><a href=\"file:///home/ngardn10/projects/cuticulus/cuticulus/mlutils/torch.py#109\"><span style=\"color: #7f7f7f; text-decoration-color: #7f7f7f\">109</span></a>\n",
       "</pre>\n"
      ],
      "text/plain": [
       "\u001b[2;36m[14:42:22]\u001b[0m\u001b[2;36m \u001b[0mtrain Loss: \u001b[1;36m0.0083\u001b[0m Acc: \u001b[1;36m0.9970\u001b[0m                                        \u001b]8;id=915262;file:///home/ngardn10/projects/cuticulus/cuticulus/mlutils/torch.py\u001b\\\u001b[2mtorch.py\u001b[0m\u001b]8;;\u001b\\\u001b[2m:\u001b[0m\u001b]8;id=362096;file:///home/ngardn10/projects/cuticulus/cuticulus/mlutils/torch.py#109\u001b\\\u001b[2m109\u001b[0m\u001b]8;;\u001b\\\n"
      ]
     },
     "metadata": {},
     "output_type": "display_data"
    },
    {
     "data": {
      "text/html": [
       "<pre style=\"white-space:pre;overflow-x:auto;line-height:normal;font-family:Menlo,'DejaVu Sans Mono',consolas,'Courier New',monospace\"><span style=\"color: #7fbfbf; text-decoration-color: #7fbfbf\">           </span>val Loss: <span style=\"color: #008080; text-decoration-color: #008080; font-weight: bold\">1.0504</span> Acc: <span style=\"color: #008080; text-decoration-color: #008080; font-weight: bold\">0.8003</span>                                          <a href=\"file:///home/ngardn10/projects/cuticulus/cuticulus/mlutils/torch.py\"><span style=\"color: #7f7f7f; text-decoration-color: #7f7f7f\">torch.py</span></a><span style=\"color: #7f7f7f; text-decoration-color: #7f7f7f\">:</span><a href=\"file:///home/ngardn10/projects/cuticulus/cuticulus/mlutils/torch.py#109\"><span style=\"color: #7f7f7f; text-decoration-color: #7f7f7f\">109</span></a>\n",
       "</pre>\n"
      ],
      "text/plain": [
       "\u001b[2;36m          \u001b[0m\u001b[2;36m \u001b[0mval Loss: \u001b[1;36m1.0504\u001b[0m Acc: \u001b[1;36m0.8003\u001b[0m                                          \u001b]8;id=702035;file:///home/ngardn10/projects/cuticulus/cuticulus/mlutils/torch.py\u001b\\\u001b[2mtorch.py\u001b[0m\u001b]8;;\u001b\\\u001b[2m:\u001b[0m\u001b]8;id=965996;file:///home/ngardn10/projects/cuticulus/cuticulus/mlutils/torch.py#109\u001b\\\u001b[2m109\u001b[0m\u001b]8;;\u001b\\\n"
      ]
     },
     "metadata": {},
     "output_type": "display_data"
    },
    {
     "data": {
      "text/html": [
       "<pre style=\"white-space:pre;overflow-x:auto;line-height:normal;font-family:Menlo,'DejaVu Sans Mono',consolas,'Courier New',monospace\"><span style=\"color: #7fbfbf; text-decoration-color: #7fbfbf\">           </span>Epoch <span style=\"color: #008080; text-decoration-color: #008080; font-weight: bold\">75</span>/<span style=\"color: #008080; text-decoration-color: #008080; font-weight: bold\">99</span>                                                            <a href=\"file:///home/ngardn10/projects/cuticulus/cuticulus/mlutils/torch.py\"><span style=\"color: #7f7f7f; text-decoration-color: #7f7f7f\">torch.py</span></a><span style=\"color: #7f7f7f; text-decoration-color: #7f7f7f\">:</span><a href=\"file:///home/ngardn10/projects/cuticulus/cuticulus/mlutils/torch.py#63\"><span style=\"color: #7f7f7f; text-decoration-color: #7f7f7f\">63</span></a>\n",
       "</pre>\n"
      ],
      "text/plain": [
       "\u001b[2;36m          \u001b[0m\u001b[2;36m \u001b[0mEpoch \u001b[1;36m75\u001b[0m/\u001b[1;36m99\u001b[0m                                                            \u001b]8;id=759331;file:///home/ngardn10/projects/cuticulus/cuticulus/mlutils/torch.py\u001b\\\u001b[2mtorch.py\u001b[0m\u001b]8;;\u001b\\\u001b[2m:\u001b[0m\u001b]8;id=887419;file:///home/ngardn10/projects/cuticulus/cuticulus/mlutils/torch.py#63\u001b\\\u001b[2m63\u001b[0m\u001b]8;;\u001b\\\n"
      ]
     },
     "metadata": {},
     "output_type": "display_data"
    },
    {
     "data": {
      "text/html": [
       "<pre style=\"white-space:pre;overflow-x:auto;line-height:normal;font-family:Menlo,'DejaVu Sans Mono',consolas,'Courier New',monospace\"><span style=\"color: #7fbfbf; text-decoration-color: #7fbfbf\">           </span>----------                                                             <a href=\"file:///home/ngardn10/projects/cuticulus/cuticulus/mlutils/torch.py\"><span style=\"color: #7f7f7f; text-decoration-color: #7f7f7f\">torch.py</span></a><span style=\"color: #7f7f7f; text-decoration-color: #7f7f7f\">:</span><a href=\"file:///home/ngardn10/projects/cuticulus/cuticulus/mlutils/torch.py#64\"><span style=\"color: #7f7f7f; text-decoration-color: #7f7f7f\">64</span></a>\n",
       "</pre>\n"
      ],
      "text/plain": [
       "\u001b[2;36m          \u001b[0m\u001b[2;36m \u001b[0m----------                                                             \u001b]8;id=789730;file:///home/ngardn10/projects/cuticulus/cuticulus/mlutils/torch.py\u001b\\\u001b[2mtorch.py\u001b[0m\u001b]8;;\u001b\\\u001b[2m:\u001b[0m\u001b]8;id=744884;file:///home/ngardn10/projects/cuticulus/cuticulus/mlutils/torch.py#64\u001b\\\u001b[2m64\u001b[0m\u001b]8;;\u001b\\\n"
      ]
     },
     "metadata": {},
     "output_type": "display_data"
    },
    {
     "data": {
      "text/html": [
       "<pre style=\"white-space:pre;overflow-x:auto;line-height:normal;font-family:Menlo,'DejaVu Sans Mono',consolas,'Courier New',monospace\"><span style=\"color: #7fbfbf; text-decoration-color: #7fbfbf\">[14:42:24] </span>train Loss: <span style=\"color: #008080; text-decoration-color: #008080; font-weight: bold\">0.0102</span> Acc: <span style=\"color: #008080; text-decoration-color: #008080; font-weight: bold\">0.9965</span>                                        <a href=\"file:///home/ngardn10/projects/cuticulus/cuticulus/mlutils/torch.py\"><span style=\"color: #7f7f7f; text-decoration-color: #7f7f7f\">torch.py</span></a><span style=\"color: #7f7f7f; text-decoration-color: #7f7f7f\">:</span><a href=\"file:///home/ngardn10/projects/cuticulus/cuticulus/mlutils/torch.py#109\"><span style=\"color: #7f7f7f; text-decoration-color: #7f7f7f\">109</span></a>\n",
       "</pre>\n"
      ],
      "text/plain": [
       "\u001b[2;36m[14:42:24]\u001b[0m\u001b[2;36m \u001b[0mtrain Loss: \u001b[1;36m0.0102\u001b[0m Acc: \u001b[1;36m0.9965\u001b[0m                                        \u001b]8;id=385975;file:///home/ngardn10/projects/cuticulus/cuticulus/mlutils/torch.py\u001b\\\u001b[2mtorch.py\u001b[0m\u001b]8;;\u001b\\\u001b[2m:\u001b[0m\u001b]8;id=788286;file:///home/ngardn10/projects/cuticulus/cuticulus/mlutils/torch.py#109\u001b\\\u001b[2m109\u001b[0m\u001b]8;;\u001b\\\n"
      ]
     },
     "metadata": {},
     "output_type": "display_data"
    },
    {
     "data": {
      "text/html": [
       "<pre style=\"white-space:pre;overflow-x:auto;line-height:normal;font-family:Menlo,'DejaVu Sans Mono',consolas,'Courier New',monospace\"><span style=\"color: #7fbfbf; text-decoration-color: #7fbfbf\">           </span>val Loss: <span style=\"color: #008080; text-decoration-color: #008080; font-weight: bold\">1.1385</span> Acc: <span style=\"color: #008080; text-decoration-color: #008080; font-weight: bold\">0.8107</span>                                          <a href=\"file:///home/ngardn10/projects/cuticulus/cuticulus/mlutils/torch.py\"><span style=\"color: #7f7f7f; text-decoration-color: #7f7f7f\">torch.py</span></a><span style=\"color: #7f7f7f; text-decoration-color: #7f7f7f\">:</span><a href=\"file:///home/ngardn10/projects/cuticulus/cuticulus/mlutils/torch.py#109\"><span style=\"color: #7f7f7f; text-decoration-color: #7f7f7f\">109</span></a>\n",
       "</pre>\n"
      ],
      "text/plain": [
       "\u001b[2;36m          \u001b[0m\u001b[2;36m \u001b[0mval Loss: \u001b[1;36m1.1385\u001b[0m Acc: \u001b[1;36m0.8107\u001b[0m                                          \u001b]8;id=873152;file:///home/ngardn10/projects/cuticulus/cuticulus/mlutils/torch.py\u001b\\\u001b[2mtorch.py\u001b[0m\u001b]8;;\u001b\\\u001b[2m:\u001b[0m\u001b]8;id=312726;file:///home/ngardn10/projects/cuticulus/cuticulus/mlutils/torch.py#109\u001b\\\u001b[2m109\u001b[0m\u001b]8;;\u001b\\\n"
      ]
     },
     "metadata": {},
     "output_type": "display_data"
    },
    {
     "data": {
      "text/html": [
       "<pre style=\"white-space:pre;overflow-x:auto;line-height:normal;font-family:Menlo,'DejaVu Sans Mono',consolas,'Courier New',monospace\"><span style=\"color: #7fbfbf; text-decoration-color: #7fbfbf\">           </span>Epoch <span style=\"color: #008080; text-decoration-color: #008080; font-weight: bold\">76</span>/<span style=\"color: #008080; text-decoration-color: #008080; font-weight: bold\">99</span>                                                            <a href=\"file:///home/ngardn10/projects/cuticulus/cuticulus/mlutils/torch.py\"><span style=\"color: #7f7f7f; text-decoration-color: #7f7f7f\">torch.py</span></a><span style=\"color: #7f7f7f; text-decoration-color: #7f7f7f\">:</span><a href=\"file:///home/ngardn10/projects/cuticulus/cuticulus/mlutils/torch.py#63\"><span style=\"color: #7f7f7f; text-decoration-color: #7f7f7f\">63</span></a>\n",
       "</pre>\n"
      ],
      "text/plain": [
       "\u001b[2;36m          \u001b[0m\u001b[2;36m \u001b[0mEpoch \u001b[1;36m76\u001b[0m/\u001b[1;36m99\u001b[0m                                                            \u001b]8;id=158189;file:///home/ngardn10/projects/cuticulus/cuticulus/mlutils/torch.py\u001b\\\u001b[2mtorch.py\u001b[0m\u001b]8;;\u001b\\\u001b[2m:\u001b[0m\u001b]8;id=438537;file:///home/ngardn10/projects/cuticulus/cuticulus/mlutils/torch.py#63\u001b\\\u001b[2m63\u001b[0m\u001b]8;;\u001b\\\n"
      ]
     },
     "metadata": {},
     "output_type": "display_data"
    },
    {
     "data": {
      "text/html": [
       "<pre style=\"white-space:pre;overflow-x:auto;line-height:normal;font-family:Menlo,'DejaVu Sans Mono',consolas,'Courier New',monospace\"><span style=\"color: #7fbfbf; text-decoration-color: #7fbfbf\">           </span>----------                                                             <a href=\"file:///home/ngardn10/projects/cuticulus/cuticulus/mlutils/torch.py\"><span style=\"color: #7f7f7f; text-decoration-color: #7f7f7f\">torch.py</span></a><span style=\"color: #7f7f7f; text-decoration-color: #7f7f7f\">:</span><a href=\"file:///home/ngardn10/projects/cuticulus/cuticulus/mlutils/torch.py#64\"><span style=\"color: #7f7f7f; text-decoration-color: #7f7f7f\">64</span></a>\n",
       "</pre>\n"
      ],
      "text/plain": [
       "\u001b[2;36m          \u001b[0m\u001b[2;36m \u001b[0m----------                                                             \u001b]8;id=789860;file:///home/ngardn10/projects/cuticulus/cuticulus/mlutils/torch.py\u001b\\\u001b[2mtorch.py\u001b[0m\u001b]8;;\u001b\\\u001b[2m:\u001b[0m\u001b]8;id=242717;file:///home/ngardn10/projects/cuticulus/cuticulus/mlutils/torch.py#64\u001b\\\u001b[2m64\u001b[0m\u001b]8;;\u001b\\\n"
      ]
     },
     "metadata": {},
     "output_type": "display_data"
    },
    {
     "data": {
      "text/html": [
       "<pre style=\"white-space:pre;overflow-x:auto;line-height:normal;font-family:Menlo,'DejaVu Sans Mono',consolas,'Courier New',monospace\"><span style=\"color: #7fbfbf; text-decoration-color: #7fbfbf\">[14:42:25] </span>train Loss: <span style=\"color: #008080; text-decoration-color: #008080; font-weight: bold\">0.0101</span> Acc: <span style=\"color: #008080; text-decoration-color: #008080; font-weight: bold\">0.9960</span>                                        <a href=\"file:///home/ngardn10/projects/cuticulus/cuticulus/mlutils/torch.py\"><span style=\"color: #7f7f7f; text-decoration-color: #7f7f7f\">torch.py</span></a><span style=\"color: #7f7f7f; text-decoration-color: #7f7f7f\">:</span><a href=\"file:///home/ngardn10/projects/cuticulus/cuticulus/mlutils/torch.py#109\"><span style=\"color: #7f7f7f; text-decoration-color: #7f7f7f\">109</span></a>\n",
       "</pre>\n"
      ],
      "text/plain": [
       "\u001b[2;36m[14:42:25]\u001b[0m\u001b[2;36m \u001b[0mtrain Loss: \u001b[1;36m0.0101\u001b[0m Acc: \u001b[1;36m0.9960\u001b[0m                                        \u001b]8;id=6508;file:///home/ngardn10/projects/cuticulus/cuticulus/mlutils/torch.py\u001b\\\u001b[2mtorch.py\u001b[0m\u001b]8;;\u001b\\\u001b[2m:\u001b[0m\u001b]8;id=93784;file:///home/ngardn10/projects/cuticulus/cuticulus/mlutils/torch.py#109\u001b\\\u001b[2m109\u001b[0m\u001b]8;;\u001b\\\n"
      ]
     },
     "metadata": {},
     "output_type": "display_data"
    },
    {
     "data": {
      "text/html": [
       "<pre style=\"white-space:pre;overflow-x:auto;line-height:normal;font-family:Menlo,'DejaVu Sans Mono',consolas,'Courier New',monospace\"><span style=\"color: #7fbfbf; text-decoration-color: #7fbfbf\">[14:42:26] </span>val Loss: <span style=\"color: #008080; text-decoration-color: #008080; font-weight: bold\">1.1911</span> Acc: <span style=\"color: #008080; text-decoration-color: #008080; font-weight: bold\">0.7846</span>                                          <a href=\"file:///home/ngardn10/projects/cuticulus/cuticulus/mlutils/torch.py\"><span style=\"color: #7f7f7f; text-decoration-color: #7f7f7f\">torch.py</span></a><span style=\"color: #7f7f7f; text-decoration-color: #7f7f7f\">:</span><a href=\"file:///home/ngardn10/projects/cuticulus/cuticulus/mlutils/torch.py#109\"><span style=\"color: #7f7f7f; text-decoration-color: #7f7f7f\">109</span></a>\n",
       "</pre>\n"
      ],
      "text/plain": [
       "\u001b[2;36m[14:42:26]\u001b[0m\u001b[2;36m \u001b[0mval Loss: \u001b[1;36m1.1911\u001b[0m Acc: \u001b[1;36m0.7846\u001b[0m                                          \u001b]8;id=101734;file:///home/ngardn10/projects/cuticulus/cuticulus/mlutils/torch.py\u001b\\\u001b[2mtorch.py\u001b[0m\u001b]8;;\u001b\\\u001b[2m:\u001b[0m\u001b]8;id=692076;file:///home/ngardn10/projects/cuticulus/cuticulus/mlutils/torch.py#109\u001b\\\u001b[2m109\u001b[0m\u001b]8;;\u001b\\\n"
      ]
     },
     "metadata": {},
     "output_type": "display_data"
    },
    {
     "data": {
      "text/html": [
       "<pre style=\"white-space:pre;overflow-x:auto;line-height:normal;font-family:Menlo,'DejaVu Sans Mono',consolas,'Courier New',monospace\"><span style=\"color: #7fbfbf; text-decoration-color: #7fbfbf\">           </span>Epoch <span style=\"color: #008080; text-decoration-color: #008080; font-weight: bold\">77</span>/<span style=\"color: #008080; text-decoration-color: #008080; font-weight: bold\">99</span>                                                            <a href=\"file:///home/ngardn10/projects/cuticulus/cuticulus/mlutils/torch.py\"><span style=\"color: #7f7f7f; text-decoration-color: #7f7f7f\">torch.py</span></a><span style=\"color: #7f7f7f; text-decoration-color: #7f7f7f\">:</span><a href=\"file:///home/ngardn10/projects/cuticulus/cuticulus/mlutils/torch.py#63\"><span style=\"color: #7f7f7f; text-decoration-color: #7f7f7f\">63</span></a>\n",
       "</pre>\n"
      ],
      "text/plain": [
       "\u001b[2;36m          \u001b[0m\u001b[2;36m \u001b[0mEpoch \u001b[1;36m77\u001b[0m/\u001b[1;36m99\u001b[0m                                                            \u001b]8;id=432757;file:///home/ngardn10/projects/cuticulus/cuticulus/mlutils/torch.py\u001b\\\u001b[2mtorch.py\u001b[0m\u001b]8;;\u001b\\\u001b[2m:\u001b[0m\u001b]8;id=291001;file:///home/ngardn10/projects/cuticulus/cuticulus/mlutils/torch.py#63\u001b\\\u001b[2m63\u001b[0m\u001b]8;;\u001b\\\n"
      ]
     },
     "metadata": {},
     "output_type": "display_data"
    },
    {
     "data": {
      "text/html": [
       "<pre style=\"white-space:pre;overflow-x:auto;line-height:normal;font-family:Menlo,'DejaVu Sans Mono',consolas,'Courier New',monospace\"><span style=\"color: #7fbfbf; text-decoration-color: #7fbfbf\">           </span>----------                                                             <a href=\"file:///home/ngardn10/projects/cuticulus/cuticulus/mlutils/torch.py\"><span style=\"color: #7f7f7f; text-decoration-color: #7f7f7f\">torch.py</span></a><span style=\"color: #7f7f7f; text-decoration-color: #7f7f7f\">:</span><a href=\"file:///home/ngardn10/projects/cuticulus/cuticulus/mlutils/torch.py#64\"><span style=\"color: #7f7f7f; text-decoration-color: #7f7f7f\">64</span></a>\n",
       "</pre>\n"
      ],
      "text/plain": [
       "\u001b[2;36m          \u001b[0m\u001b[2;36m \u001b[0m----------                                                             \u001b]8;id=660830;file:///home/ngardn10/projects/cuticulus/cuticulus/mlutils/torch.py\u001b\\\u001b[2mtorch.py\u001b[0m\u001b]8;;\u001b\\\u001b[2m:\u001b[0m\u001b]8;id=496732;file:///home/ngardn10/projects/cuticulus/cuticulus/mlutils/torch.py#64\u001b\\\u001b[2m64\u001b[0m\u001b]8;;\u001b\\\n"
      ]
     },
     "metadata": {},
     "output_type": "display_data"
    },
    {
     "data": {
      "text/html": [
       "<pre style=\"white-space:pre;overflow-x:auto;line-height:normal;font-family:Menlo,'DejaVu Sans Mono',consolas,'Courier New',monospace\"><span style=\"color: #7fbfbf; text-decoration-color: #7fbfbf\">[14:42:27] </span>train Loss: <span style=\"color: #008080; text-decoration-color: #008080; font-weight: bold\">0.0109</span> Acc: <span style=\"color: #008080; text-decoration-color: #008080; font-weight: bold\">0.9955</span>                                        <a href=\"file:///home/ngardn10/projects/cuticulus/cuticulus/mlutils/torch.py\"><span style=\"color: #7f7f7f; text-decoration-color: #7f7f7f\">torch.py</span></a><span style=\"color: #7f7f7f; text-decoration-color: #7f7f7f\">:</span><a href=\"file:///home/ngardn10/projects/cuticulus/cuticulus/mlutils/torch.py#109\"><span style=\"color: #7f7f7f; text-decoration-color: #7f7f7f\">109</span></a>\n",
       "</pre>\n"
      ],
      "text/plain": [
       "\u001b[2;36m[14:42:27]\u001b[0m\u001b[2;36m \u001b[0mtrain Loss: \u001b[1;36m0.0109\u001b[0m Acc: \u001b[1;36m0.9955\u001b[0m                                        \u001b]8;id=146640;file:///home/ngardn10/projects/cuticulus/cuticulus/mlutils/torch.py\u001b\\\u001b[2mtorch.py\u001b[0m\u001b]8;;\u001b\\\u001b[2m:\u001b[0m\u001b]8;id=72154;file:///home/ngardn10/projects/cuticulus/cuticulus/mlutils/torch.py#109\u001b\\\u001b[2m109\u001b[0m\u001b]8;;\u001b\\\n"
      ]
     },
     "metadata": {},
     "output_type": "display_data"
    },
    {
     "data": {
      "text/html": [
       "<pre style=\"white-space:pre;overflow-x:auto;line-height:normal;font-family:Menlo,'DejaVu Sans Mono',consolas,'Courier New',monospace\"><span style=\"color: #7fbfbf; text-decoration-color: #7fbfbf\">[14:42:28] </span>val Loss: <span style=\"color: #008080; text-decoration-color: #008080; font-weight: bold\">1.0744</span> Acc: <span style=\"color: #008080; text-decoration-color: #008080; font-weight: bold\">0.7977</span>                                          <a href=\"file:///home/ngardn10/projects/cuticulus/cuticulus/mlutils/torch.py\"><span style=\"color: #7f7f7f; text-decoration-color: #7f7f7f\">torch.py</span></a><span style=\"color: #7f7f7f; text-decoration-color: #7f7f7f\">:</span><a href=\"file:///home/ngardn10/projects/cuticulus/cuticulus/mlutils/torch.py#109\"><span style=\"color: #7f7f7f; text-decoration-color: #7f7f7f\">109</span></a>\n",
       "</pre>\n"
      ],
      "text/plain": [
       "\u001b[2;36m[14:42:28]\u001b[0m\u001b[2;36m \u001b[0mval Loss: \u001b[1;36m1.0744\u001b[0m Acc: \u001b[1;36m0.7977\u001b[0m                                          \u001b]8;id=644334;file:///home/ngardn10/projects/cuticulus/cuticulus/mlutils/torch.py\u001b\\\u001b[2mtorch.py\u001b[0m\u001b]8;;\u001b\\\u001b[2m:\u001b[0m\u001b]8;id=946125;file:///home/ngardn10/projects/cuticulus/cuticulus/mlutils/torch.py#109\u001b\\\u001b[2m109\u001b[0m\u001b]8;;\u001b\\\n"
      ]
     },
     "metadata": {},
     "output_type": "display_data"
    },
    {
     "data": {
      "text/html": [
       "<pre style=\"white-space:pre;overflow-x:auto;line-height:normal;font-family:Menlo,'DejaVu Sans Mono',consolas,'Courier New',monospace\"><span style=\"color: #7fbfbf; text-decoration-color: #7fbfbf\">           </span>Epoch <span style=\"color: #008080; text-decoration-color: #008080; font-weight: bold\">78</span>/<span style=\"color: #008080; text-decoration-color: #008080; font-weight: bold\">99</span>                                                            <a href=\"file:///home/ngardn10/projects/cuticulus/cuticulus/mlutils/torch.py\"><span style=\"color: #7f7f7f; text-decoration-color: #7f7f7f\">torch.py</span></a><span style=\"color: #7f7f7f; text-decoration-color: #7f7f7f\">:</span><a href=\"file:///home/ngardn10/projects/cuticulus/cuticulus/mlutils/torch.py#63\"><span style=\"color: #7f7f7f; text-decoration-color: #7f7f7f\">63</span></a>\n",
       "</pre>\n"
      ],
      "text/plain": [
       "\u001b[2;36m          \u001b[0m\u001b[2;36m \u001b[0mEpoch \u001b[1;36m78\u001b[0m/\u001b[1;36m99\u001b[0m                                                            \u001b]8;id=322075;file:///home/ngardn10/projects/cuticulus/cuticulus/mlutils/torch.py\u001b\\\u001b[2mtorch.py\u001b[0m\u001b]8;;\u001b\\\u001b[2m:\u001b[0m\u001b]8;id=946964;file:///home/ngardn10/projects/cuticulus/cuticulus/mlutils/torch.py#63\u001b\\\u001b[2m63\u001b[0m\u001b]8;;\u001b\\\n"
      ]
     },
     "metadata": {},
     "output_type": "display_data"
    },
    {
     "data": {
      "text/html": [
       "<pre style=\"white-space:pre;overflow-x:auto;line-height:normal;font-family:Menlo,'DejaVu Sans Mono',consolas,'Courier New',monospace\"><span style=\"color: #7fbfbf; text-decoration-color: #7fbfbf\">           </span>----------                                                             <a href=\"file:///home/ngardn10/projects/cuticulus/cuticulus/mlutils/torch.py\"><span style=\"color: #7f7f7f; text-decoration-color: #7f7f7f\">torch.py</span></a><span style=\"color: #7f7f7f; text-decoration-color: #7f7f7f\">:</span><a href=\"file:///home/ngardn10/projects/cuticulus/cuticulus/mlutils/torch.py#64\"><span style=\"color: #7f7f7f; text-decoration-color: #7f7f7f\">64</span></a>\n",
       "</pre>\n"
      ],
      "text/plain": [
       "\u001b[2;36m          \u001b[0m\u001b[2;36m \u001b[0m----------                                                             \u001b]8;id=683688;file:///home/ngardn10/projects/cuticulus/cuticulus/mlutils/torch.py\u001b\\\u001b[2mtorch.py\u001b[0m\u001b]8;;\u001b\\\u001b[2m:\u001b[0m\u001b]8;id=563324;file:///home/ngardn10/projects/cuticulus/cuticulus/mlutils/torch.py#64\u001b\\\u001b[2m64\u001b[0m\u001b]8;;\u001b\\\n"
      ]
     },
     "metadata": {},
     "output_type": "display_data"
    },
    {
     "data": {
      "text/html": [
       "<pre style=\"white-space:pre;overflow-x:auto;line-height:normal;font-family:Menlo,'DejaVu Sans Mono',consolas,'Courier New',monospace\"><span style=\"color: #7fbfbf; text-decoration-color: #7fbfbf\">[14:42:29] </span>train Loss: <span style=\"color: #008080; text-decoration-color: #008080; font-weight: bold\">0.0075</span> Acc: <span style=\"color: #008080; text-decoration-color: #008080; font-weight: bold\">0.9965</span>                                        <a href=\"file:///home/ngardn10/projects/cuticulus/cuticulus/mlutils/torch.py\"><span style=\"color: #7f7f7f; text-decoration-color: #7f7f7f\">torch.py</span></a><span style=\"color: #7f7f7f; text-decoration-color: #7f7f7f\">:</span><a href=\"file:///home/ngardn10/projects/cuticulus/cuticulus/mlutils/torch.py#109\"><span style=\"color: #7f7f7f; text-decoration-color: #7f7f7f\">109</span></a>\n",
       "</pre>\n"
      ],
      "text/plain": [
       "\u001b[2;36m[14:42:29]\u001b[0m\u001b[2;36m \u001b[0mtrain Loss: \u001b[1;36m0.0075\u001b[0m Acc: \u001b[1;36m0.9965\u001b[0m                                        \u001b]8;id=890844;file:///home/ngardn10/projects/cuticulus/cuticulus/mlutils/torch.py\u001b\\\u001b[2mtorch.py\u001b[0m\u001b]8;;\u001b\\\u001b[2m:\u001b[0m\u001b]8;id=818746;file:///home/ngardn10/projects/cuticulus/cuticulus/mlutils/torch.py#109\u001b\\\u001b[2m109\u001b[0m\u001b]8;;\u001b\\\n"
      ]
     },
     "metadata": {},
     "output_type": "display_data"
    },
    {
     "data": {
      "text/html": [
       "<pre style=\"white-space:pre;overflow-x:auto;line-height:normal;font-family:Menlo,'DejaVu Sans Mono',consolas,'Courier New',monospace\"><span style=\"color: #7fbfbf; text-decoration-color: #7fbfbf\">           </span>val Loss: <span style=\"color: #008080; text-decoration-color: #008080; font-weight: bold\">1.2359</span> Acc: <span style=\"color: #008080; text-decoration-color: #008080; font-weight: bold\">0.7833</span>                                          <a href=\"file:///home/ngardn10/projects/cuticulus/cuticulus/mlutils/torch.py\"><span style=\"color: #7f7f7f; text-decoration-color: #7f7f7f\">torch.py</span></a><span style=\"color: #7f7f7f; text-decoration-color: #7f7f7f\">:</span><a href=\"file:///home/ngardn10/projects/cuticulus/cuticulus/mlutils/torch.py#109\"><span style=\"color: #7f7f7f; text-decoration-color: #7f7f7f\">109</span></a>\n",
       "</pre>\n"
      ],
      "text/plain": [
       "\u001b[2;36m          \u001b[0m\u001b[2;36m \u001b[0mval Loss: \u001b[1;36m1.2359\u001b[0m Acc: \u001b[1;36m0.7833\u001b[0m                                          \u001b]8;id=681589;file:///home/ngardn10/projects/cuticulus/cuticulus/mlutils/torch.py\u001b\\\u001b[2mtorch.py\u001b[0m\u001b]8;;\u001b\\\u001b[2m:\u001b[0m\u001b]8;id=693903;file:///home/ngardn10/projects/cuticulus/cuticulus/mlutils/torch.py#109\u001b\\\u001b[2m109\u001b[0m\u001b]8;;\u001b\\\n"
      ]
     },
     "metadata": {},
     "output_type": "display_data"
    },
    {
     "data": {
      "text/html": [
       "<pre style=\"white-space:pre;overflow-x:auto;line-height:normal;font-family:Menlo,'DejaVu Sans Mono',consolas,'Courier New',monospace\"><span style=\"color: #7fbfbf; text-decoration-color: #7fbfbf\">           </span>Epoch <span style=\"color: #008080; text-decoration-color: #008080; font-weight: bold\">79</span>/<span style=\"color: #008080; text-decoration-color: #008080; font-weight: bold\">99</span>                                                            <a href=\"file:///home/ngardn10/projects/cuticulus/cuticulus/mlutils/torch.py\"><span style=\"color: #7f7f7f; text-decoration-color: #7f7f7f\">torch.py</span></a><span style=\"color: #7f7f7f; text-decoration-color: #7f7f7f\">:</span><a href=\"file:///home/ngardn10/projects/cuticulus/cuticulus/mlutils/torch.py#63\"><span style=\"color: #7f7f7f; text-decoration-color: #7f7f7f\">63</span></a>\n",
       "</pre>\n"
      ],
      "text/plain": [
       "\u001b[2;36m          \u001b[0m\u001b[2;36m \u001b[0mEpoch \u001b[1;36m79\u001b[0m/\u001b[1;36m99\u001b[0m                                                            \u001b]8;id=228893;file:///home/ngardn10/projects/cuticulus/cuticulus/mlutils/torch.py\u001b\\\u001b[2mtorch.py\u001b[0m\u001b]8;;\u001b\\\u001b[2m:\u001b[0m\u001b]8;id=686665;file:///home/ngardn10/projects/cuticulus/cuticulus/mlutils/torch.py#63\u001b\\\u001b[2m63\u001b[0m\u001b]8;;\u001b\\\n"
      ]
     },
     "metadata": {},
     "output_type": "display_data"
    },
    {
     "data": {
      "text/html": [
       "<pre style=\"white-space:pre;overflow-x:auto;line-height:normal;font-family:Menlo,'DejaVu Sans Mono',consolas,'Courier New',monospace\"><span style=\"color: #7fbfbf; text-decoration-color: #7fbfbf\">           </span>----------                                                             <a href=\"file:///home/ngardn10/projects/cuticulus/cuticulus/mlutils/torch.py\"><span style=\"color: #7f7f7f; text-decoration-color: #7f7f7f\">torch.py</span></a><span style=\"color: #7f7f7f; text-decoration-color: #7f7f7f\">:</span><a href=\"file:///home/ngardn10/projects/cuticulus/cuticulus/mlutils/torch.py#64\"><span style=\"color: #7f7f7f; text-decoration-color: #7f7f7f\">64</span></a>\n",
       "</pre>\n"
      ],
      "text/plain": [
       "\u001b[2;36m          \u001b[0m\u001b[2;36m \u001b[0m----------                                                             \u001b]8;id=874276;file:///home/ngardn10/projects/cuticulus/cuticulus/mlutils/torch.py\u001b\\\u001b[2mtorch.py\u001b[0m\u001b]8;;\u001b\\\u001b[2m:\u001b[0m\u001b]8;id=515006;file:///home/ngardn10/projects/cuticulus/cuticulus/mlutils/torch.py#64\u001b\\\u001b[2m64\u001b[0m\u001b]8;;\u001b\\\n"
      ]
     },
     "metadata": {},
     "output_type": "display_data"
    },
    {
     "data": {
      "text/html": [
       "<pre style=\"white-space:pre;overflow-x:auto;line-height:normal;font-family:Menlo,'DejaVu Sans Mono',consolas,'Courier New',monospace\"><span style=\"color: #7fbfbf; text-decoration-color: #7fbfbf\">[14:42:31] </span>train Loss: <span style=\"color: #008080; text-decoration-color: #008080; font-weight: bold\">0.0053</span> Acc: <span style=\"color: #008080; text-decoration-color: #008080; font-weight: bold\">0.9980</span>                                        <a href=\"file:///home/ngardn10/projects/cuticulus/cuticulus/mlutils/torch.py\"><span style=\"color: #7f7f7f; text-decoration-color: #7f7f7f\">torch.py</span></a><span style=\"color: #7f7f7f; text-decoration-color: #7f7f7f\">:</span><a href=\"file:///home/ngardn10/projects/cuticulus/cuticulus/mlutils/torch.py#109\"><span style=\"color: #7f7f7f; text-decoration-color: #7f7f7f\">109</span></a>\n",
       "</pre>\n"
      ],
      "text/plain": [
       "\u001b[2;36m[14:42:31]\u001b[0m\u001b[2;36m \u001b[0mtrain Loss: \u001b[1;36m0.0053\u001b[0m Acc: \u001b[1;36m0.9980\u001b[0m                                        \u001b]8;id=898332;file:///home/ngardn10/projects/cuticulus/cuticulus/mlutils/torch.py\u001b\\\u001b[2mtorch.py\u001b[0m\u001b]8;;\u001b\\\u001b[2m:\u001b[0m\u001b]8;id=369366;file:///home/ngardn10/projects/cuticulus/cuticulus/mlutils/torch.py#109\u001b\\\u001b[2m109\u001b[0m\u001b]8;;\u001b\\\n"
      ]
     },
     "metadata": {},
     "output_type": "display_data"
    },
    {
     "data": {
      "text/html": [
       "<pre style=\"white-space:pre;overflow-x:auto;line-height:normal;font-family:Menlo,'DejaVu Sans Mono',consolas,'Courier New',monospace\"><span style=\"color: #7fbfbf; text-decoration-color: #7fbfbf\">           </span>val Loss: <span style=\"color: #008080; text-decoration-color: #008080; font-weight: bold\">1.0508</span> Acc: <span style=\"color: #008080; text-decoration-color: #008080; font-weight: bold\">0.8146</span>                                          <a href=\"file:///home/ngardn10/projects/cuticulus/cuticulus/mlutils/torch.py\"><span style=\"color: #7f7f7f; text-decoration-color: #7f7f7f\">torch.py</span></a><span style=\"color: #7f7f7f; text-decoration-color: #7f7f7f\">:</span><a href=\"file:///home/ngardn10/projects/cuticulus/cuticulus/mlutils/torch.py#109\"><span style=\"color: #7f7f7f; text-decoration-color: #7f7f7f\">109</span></a>\n",
       "</pre>\n"
      ],
      "text/plain": [
       "\u001b[2;36m          \u001b[0m\u001b[2;36m \u001b[0mval Loss: \u001b[1;36m1.0508\u001b[0m Acc: \u001b[1;36m0.8146\u001b[0m                                          \u001b]8;id=114999;file:///home/ngardn10/projects/cuticulus/cuticulus/mlutils/torch.py\u001b\\\u001b[2mtorch.py\u001b[0m\u001b]8;;\u001b\\\u001b[2m:\u001b[0m\u001b]8;id=855317;file:///home/ngardn10/projects/cuticulus/cuticulus/mlutils/torch.py#109\u001b\\\u001b[2m109\u001b[0m\u001b]8;;\u001b\\\n"
      ]
     },
     "metadata": {},
     "output_type": "display_data"
    },
    {
     "data": {
      "text/html": [
       "<pre style=\"white-space:pre;overflow-x:auto;line-height:normal;font-family:Menlo,'DejaVu Sans Mono',consolas,'Courier New',monospace\"><span style=\"color: #7fbfbf; text-decoration-color: #7fbfbf\">           </span>Epoch <span style=\"color: #008080; text-decoration-color: #008080; font-weight: bold\">80</span>/<span style=\"color: #008080; text-decoration-color: #008080; font-weight: bold\">99</span>                                                            <a href=\"file:///home/ngardn10/projects/cuticulus/cuticulus/mlutils/torch.py\"><span style=\"color: #7f7f7f; text-decoration-color: #7f7f7f\">torch.py</span></a><span style=\"color: #7f7f7f; text-decoration-color: #7f7f7f\">:</span><a href=\"file:///home/ngardn10/projects/cuticulus/cuticulus/mlutils/torch.py#63\"><span style=\"color: #7f7f7f; text-decoration-color: #7f7f7f\">63</span></a>\n",
       "</pre>\n"
      ],
      "text/plain": [
       "\u001b[2;36m          \u001b[0m\u001b[2;36m \u001b[0mEpoch \u001b[1;36m80\u001b[0m/\u001b[1;36m99\u001b[0m                                                            \u001b]8;id=91571;file:///home/ngardn10/projects/cuticulus/cuticulus/mlutils/torch.py\u001b\\\u001b[2mtorch.py\u001b[0m\u001b]8;;\u001b\\\u001b[2m:\u001b[0m\u001b]8;id=105852;file:///home/ngardn10/projects/cuticulus/cuticulus/mlutils/torch.py#63\u001b\\\u001b[2m63\u001b[0m\u001b]8;;\u001b\\\n"
      ]
     },
     "metadata": {},
     "output_type": "display_data"
    },
    {
     "data": {
      "text/html": [
       "<pre style=\"white-space:pre;overflow-x:auto;line-height:normal;font-family:Menlo,'DejaVu Sans Mono',consolas,'Courier New',monospace\"><span style=\"color: #7fbfbf; text-decoration-color: #7fbfbf\">           </span>----------                                                             <a href=\"file:///home/ngardn10/projects/cuticulus/cuticulus/mlutils/torch.py\"><span style=\"color: #7f7f7f; text-decoration-color: #7f7f7f\">torch.py</span></a><span style=\"color: #7f7f7f; text-decoration-color: #7f7f7f\">:</span><a href=\"file:///home/ngardn10/projects/cuticulus/cuticulus/mlutils/torch.py#64\"><span style=\"color: #7f7f7f; text-decoration-color: #7f7f7f\">64</span></a>\n",
       "</pre>\n"
      ],
      "text/plain": [
       "\u001b[2;36m          \u001b[0m\u001b[2;36m \u001b[0m----------                                                             \u001b]8;id=175362;file:///home/ngardn10/projects/cuticulus/cuticulus/mlutils/torch.py\u001b\\\u001b[2mtorch.py\u001b[0m\u001b]8;;\u001b\\\u001b[2m:\u001b[0m\u001b]8;id=843385;file:///home/ngardn10/projects/cuticulus/cuticulus/mlutils/torch.py#64\u001b\\\u001b[2m64\u001b[0m\u001b]8;;\u001b\\\n"
      ]
     },
     "metadata": {},
     "output_type": "display_data"
    },
    {
     "data": {
      "text/html": [
       "<pre style=\"white-space:pre;overflow-x:auto;line-height:normal;font-family:Menlo,'DejaVu Sans Mono',consolas,'Courier New',monospace\"><span style=\"color: #7fbfbf; text-decoration-color: #7fbfbf\">[14:42:33] </span>train Loss: <span style=\"color: #008080; text-decoration-color: #008080; font-weight: bold\">0.0039</span> Acc: <span style=\"color: #008080; text-decoration-color: #008080; font-weight: bold\">0.9985</span>                                        <a href=\"file:///home/ngardn10/projects/cuticulus/cuticulus/mlutils/torch.py\"><span style=\"color: #7f7f7f; text-decoration-color: #7f7f7f\">torch.py</span></a><span style=\"color: #7f7f7f; text-decoration-color: #7f7f7f\">:</span><a href=\"file:///home/ngardn10/projects/cuticulus/cuticulus/mlutils/torch.py#109\"><span style=\"color: #7f7f7f; text-decoration-color: #7f7f7f\">109</span></a>\n",
       "</pre>\n"
      ],
      "text/plain": [
       "\u001b[2;36m[14:42:33]\u001b[0m\u001b[2;36m \u001b[0mtrain Loss: \u001b[1;36m0.0039\u001b[0m Acc: \u001b[1;36m0.9985\u001b[0m                                        \u001b]8;id=159316;file:///home/ngardn10/projects/cuticulus/cuticulus/mlutils/torch.py\u001b\\\u001b[2mtorch.py\u001b[0m\u001b]8;;\u001b\\\u001b[2m:\u001b[0m\u001b]8;id=542299;file:///home/ngardn10/projects/cuticulus/cuticulus/mlutils/torch.py#109\u001b\\\u001b[2m109\u001b[0m\u001b]8;;\u001b\\\n"
      ]
     },
     "metadata": {},
     "output_type": "display_data"
    },
    {
     "data": {
      "text/html": [
       "<pre style=\"white-space:pre;overflow-x:auto;line-height:normal;font-family:Menlo,'DejaVu Sans Mono',consolas,'Courier New',monospace\"><span style=\"color: #7fbfbf; text-decoration-color: #7fbfbf\">           </span>val Loss: <span style=\"color: #008080; text-decoration-color: #008080; font-weight: bold\">1.0890</span> Acc: <span style=\"color: #008080; text-decoration-color: #008080; font-weight: bold\">0.7990</span>                                          <a href=\"file:///home/ngardn10/projects/cuticulus/cuticulus/mlutils/torch.py\"><span style=\"color: #7f7f7f; text-decoration-color: #7f7f7f\">torch.py</span></a><span style=\"color: #7f7f7f; text-decoration-color: #7f7f7f\">:</span><a href=\"file:///home/ngardn10/projects/cuticulus/cuticulus/mlutils/torch.py#109\"><span style=\"color: #7f7f7f; text-decoration-color: #7f7f7f\">109</span></a>\n",
       "</pre>\n"
      ],
      "text/plain": [
       "\u001b[2;36m          \u001b[0m\u001b[2;36m \u001b[0mval Loss: \u001b[1;36m1.0890\u001b[0m Acc: \u001b[1;36m0.7990\u001b[0m                                          \u001b]8;id=629923;file:///home/ngardn10/projects/cuticulus/cuticulus/mlutils/torch.py\u001b\\\u001b[2mtorch.py\u001b[0m\u001b]8;;\u001b\\\u001b[2m:\u001b[0m\u001b]8;id=430043;file:///home/ngardn10/projects/cuticulus/cuticulus/mlutils/torch.py#109\u001b\\\u001b[2m109\u001b[0m\u001b]8;;\u001b\\\n"
      ]
     },
     "metadata": {},
     "output_type": "display_data"
    },
    {
     "data": {
      "text/html": [
       "<pre style=\"white-space:pre;overflow-x:auto;line-height:normal;font-family:Menlo,'DejaVu Sans Mono',consolas,'Courier New',monospace\"><span style=\"color: #7fbfbf; text-decoration-color: #7fbfbf\">           </span>Epoch <span style=\"color: #008080; text-decoration-color: #008080; font-weight: bold\">81</span>/<span style=\"color: #008080; text-decoration-color: #008080; font-weight: bold\">99</span>                                                            <a href=\"file:///home/ngardn10/projects/cuticulus/cuticulus/mlutils/torch.py\"><span style=\"color: #7f7f7f; text-decoration-color: #7f7f7f\">torch.py</span></a><span style=\"color: #7f7f7f; text-decoration-color: #7f7f7f\">:</span><a href=\"file:///home/ngardn10/projects/cuticulus/cuticulus/mlutils/torch.py#63\"><span style=\"color: #7f7f7f; text-decoration-color: #7f7f7f\">63</span></a>\n",
       "</pre>\n"
      ],
      "text/plain": [
       "\u001b[2;36m          \u001b[0m\u001b[2;36m \u001b[0mEpoch \u001b[1;36m81\u001b[0m/\u001b[1;36m99\u001b[0m                                                            \u001b]8;id=119745;file:///home/ngardn10/projects/cuticulus/cuticulus/mlutils/torch.py\u001b\\\u001b[2mtorch.py\u001b[0m\u001b]8;;\u001b\\\u001b[2m:\u001b[0m\u001b]8;id=478625;file:///home/ngardn10/projects/cuticulus/cuticulus/mlutils/torch.py#63\u001b\\\u001b[2m63\u001b[0m\u001b]8;;\u001b\\\n"
      ]
     },
     "metadata": {},
     "output_type": "display_data"
    },
    {
     "data": {
      "text/html": [
       "<pre style=\"white-space:pre;overflow-x:auto;line-height:normal;font-family:Menlo,'DejaVu Sans Mono',consolas,'Courier New',monospace\"><span style=\"color: #7fbfbf; text-decoration-color: #7fbfbf\">           </span>----------                                                             <a href=\"file:///home/ngardn10/projects/cuticulus/cuticulus/mlutils/torch.py\"><span style=\"color: #7f7f7f; text-decoration-color: #7f7f7f\">torch.py</span></a><span style=\"color: #7f7f7f; text-decoration-color: #7f7f7f\">:</span><a href=\"file:///home/ngardn10/projects/cuticulus/cuticulus/mlutils/torch.py#64\"><span style=\"color: #7f7f7f; text-decoration-color: #7f7f7f\">64</span></a>\n",
       "</pre>\n"
      ],
      "text/plain": [
       "\u001b[2;36m          \u001b[0m\u001b[2;36m \u001b[0m----------                                                             \u001b]8;id=655734;file:///home/ngardn10/projects/cuticulus/cuticulus/mlutils/torch.py\u001b\\\u001b[2mtorch.py\u001b[0m\u001b]8;;\u001b\\\u001b[2m:\u001b[0m\u001b]8;id=372094;file:///home/ngardn10/projects/cuticulus/cuticulus/mlutils/torch.py#64\u001b\\\u001b[2m64\u001b[0m\u001b]8;;\u001b\\\n"
      ]
     },
     "metadata": {},
     "output_type": "display_data"
    },
    {
     "data": {
      "text/html": [
       "<pre style=\"white-space:pre;overflow-x:auto;line-height:normal;font-family:Menlo,'DejaVu Sans Mono',consolas,'Courier New',monospace\"><span style=\"color: #7fbfbf; text-decoration-color: #7fbfbf\">[14:42:35] </span>train Loss: <span style=\"color: #008080; text-decoration-color: #008080; font-weight: bold\">0.0079</span> Acc: <span style=\"color: #008080; text-decoration-color: #008080; font-weight: bold\">0.9975</span>                                        <a href=\"file:///home/ngardn10/projects/cuticulus/cuticulus/mlutils/torch.py\"><span style=\"color: #7f7f7f; text-decoration-color: #7f7f7f\">torch.py</span></a><span style=\"color: #7f7f7f; text-decoration-color: #7f7f7f\">:</span><a href=\"file:///home/ngardn10/projects/cuticulus/cuticulus/mlutils/torch.py#109\"><span style=\"color: #7f7f7f; text-decoration-color: #7f7f7f\">109</span></a>\n",
       "</pre>\n"
      ],
      "text/plain": [
       "\u001b[2;36m[14:42:35]\u001b[0m\u001b[2;36m \u001b[0mtrain Loss: \u001b[1;36m0.0079\u001b[0m Acc: \u001b[1;36m0.9975\u001b[0m                                        \u001b]8;id=956411;file:///home/ngardn10/projects/cuticulus/cuticulus/mlutils/torch.py\u001b\\\u001b[2mtorch.py\u001b[0m\u001b]8;;\u001b\\\u001b[2m:\u001b[0m\u001b]8;id=246119;file:///home/ngardn10/projects/cuticulus/cuticulus/mlutils/torch.py#109\u001b\\\u001b[2m109\u001b[0m\u001b]8;;\u001b\\\n"
      ]
     },
     "metadata": {},
     "output_type": "display_data"
    },
    {
     "data": {
      "text/html": [
       "<pre style=\"white-space:pre;overflow-x:auto;line-height:normal;font-family:Menlo,'DejaVu Sans Mono',consolas,'Courier New',monospace\"><span style=\"color: #7fbfbf; text-decoration-color: #7fbfbf\">           </span>val Loss: <span style=\"color: #008080; text-decoration-color: #008080; font-weight: bold\">1.0490</span> Acc: <span style=\"color: #008080; text-decoration-color: #008080; font-weight: bold\">0.7911</span>                                          <a href=\"file:///home/ngardn10/projects/cuticulus/cuticulus/mlutils/torch.py\"><span style=\"color: #7f7f7f; text-decoration-color: #7f7f7f\">torch.py</span></a><span style=\"color: #7f7f7f; text-decoration-color: #7f7f7f\">:</span><a href=\"file:///home/ngardn10/projects/cuticulus/cuticulus/mlutils/torch.py#109\"><span style=\"color: #7f7f7f; text-decoration-color: #7f7f7f\">109</span></a>\n",
       "</pre>\n"
      ],
      "text/plain": [
       "\u001b[2;36m          \u001b[0m\u001b[2;36m \u001b[0mval Loss: \u001b[1;36m1.0490\u001b[0m Acc: \u001b[1;36m0.7911\u001b[0m                                          \u001b]8;id=399978;file:///home/ngardn10/projects/cuticulus/cuticulus/mlutils/torch.py\u001b\\\u001b[2mtorch.py\u001b[0m\u001b]8;;\u001b\\\u001b[2m:\u001b[0m\u001b]8;id=731502;file:///home/ngardn10/projects/cuticulus/cuticulus/mlutils/torch.py#109\u001b\\\u001b[2m109\u001b[0m\u001b]8;;\u001b\\\n"
      ]
     },
     "metadata": {},
     "output_type": "display_data"
    },
    {
     "data": {
      "text/html": [
       "<pre style=\"white-space:pre;overflow-x:auto;line-height:normal;font-family:Menlo,'DejaVu Sans Mono',consolas,'Courier New',monospace\"><span style=\"color: #7fbfbf; text-decoration-color: #7fbfbf\">           </span>Epoch <span style=\"color: #008080; text-decoration-color: #008080; font-weight: bold\">82</span>/<span style=\"color: #008080; text-decoration-color: #008080; font-weight: bold\">99</span>                                                            <a href=\"file:///home/ngardn10/projects/cuticulus/cuticulus/mlutils/torch.py\"><span style=\"color: #7f7f7f; text-decoration-color: #7f7f7f\">torch.py</span></a><span style=\"color: #7f7f7f; text-decoration-color: #7f7f7f\">:</span><a href=\"file:///home/ngardn10/projects/cuticulus/cuticulus/mlutils/torch.py#63\"><span style=\"color: #7f7f7f; text-decoration-color: #7f7f7f\">63</span></a>\n",
       "</pre>\n"
      ],
      "text/plain": [
       "\u001b[2;36m          \u001b[0m\u001b[2;36m \u001b[0mEpoch \u001b[1;36m82\u001b[0m/\u001b[1;36m99\u001b[0m                                                            \u001b]8;id=64419;file:///home/ngardn10/projects/cuticulus/cuticulus/mlutils/torch.py\u001b\\\u001b[2mtorch.py\u001b[0m\u001b]8;;\u001b\\\u001b[2m:\u001b[0m\u001b]8;id=143016;file:///home/ngardn10/projects/cuticulus/cuticulus/mlutils/torch.py#63\u001b\\\u001b[2m63\u001b[0m\u001b]8;;\u001b\\\n"
      ]
     },
     "metadata": {},
     "output_type": "display_data"
    },
    {
     "data": {
      "text/html": [
       "<pre style=\"white-space:pre;overflow-x:auto;line-height:normal;font-family:Menlo,'DejaVu Sans Mono',consolas,'Courier New',monospace\"><span style=\"color: #7fbfbf; text-decoration-color: #7fbfbf\">           </span>----------                                                             <a href=\"file:///home/ngardn10/projects/cuticulus/cuticulus/mlutils/torch.py\"><span style=\"color: #7f7f7f; text-decoration-color: #7f7f7f\">torch.py</span></a><span style=\"color: #7f7f7f; text-decoration-color: #7f7f7f\">:</span><a href=\"file:///home/ngardn10/projects/cuticulus/cuticulus/mlutils/torch.py#64\"><span style=\"color: #7f7f7f; text-decoration-color: #7f7f7f\">64</span></a>\n",
       "</pre>\n"
      ],
      "text/plain": [
       "\u001b[2;36m          \u001b[0m\u001b[2;36m \u001b[0m----------                                                             \u001b]8;id=428880;file:///home/ngardn10/projects/cuticulus/cuticulus/mlutils/torch.py\u001b\\\u001b[2mtorch.py\u001b[0m\u001b]8;;\u001b\\\u001b[2m:\u001b[0m\u001b]8;id=664491;file:///home/ngardn10/projects/cuticulus/cuticulus/mlutils/torch.py#64\u001b\\\u001b[2m64\u001b[0m\u001b]8;;\u001b\\\n"
      ]
     },
     "metadata": {},
     "output_type": "display_data"
    },
    {
     "data": {
      "text/html": [
       "<pre style=\"white-space:pre;overflow-x:auto;line-height:normal;font-family:Menlo,'DejaVu Sans Mono',consolas,'Courier New',monospace\"><span style=\"color: #7fbfbf; text-decoration-color: #7fbfbf\">[14:42:37] </span>train Loss: <span style=\"color: #008080; text-decoration-color: #008080; font-weight: bold\">0.0023</span> Acc: <span style=\"color: #008080; text-decoration-color: #008080; font-weight: bold\">0.9995</span>                                        <a href=\"file:///home/ngardn10/projects/cuticulus/cuticulus/mlutils/torch.py\"><span style=\"color: #7f7f7f; text-decoration-color: #7f7f7f\">torch.py</span></a><span style=\"color: #7f7f7f; text-decoration-color: #7f7f7f\">:</span><a href=\"file:///home/ngardn10/projects/cuticulus/cuticulus/mlutils/torch.py#109\"><span style=\"color: #7f7f7f; text-decoration-color: #7f7f7f\">109</span></a>\n",
       "</pre>\n"
      ],
      "text/plain": [
       "\u001b[2;36m[14:42:37]\u001b[0m\u001b[2;36m \u001b[0mtrain Loss: \u001b[1;36m0.0023\u001b[0m Acc: \u001b[1;36m0.9995\u001b[0m                                        \u001b]8;id=785350;file:///home/ngardn10/projects/cuticulus/cuticulus/mlutils/torch.py\u001b\\\u001b[2mtorch.py\u001b[0m\u001b]8;;\u001b\\\u001b[2m:\u001b[0m\u001b]8;id=5828;file:///home/ngardn10/projects/cuticulus/cuticulus/mlutils/torch.py#109\u001b\\\u001b[2m109\u001b[0m\u001b]8;;\u001b\\\n"
      ]
     },
     "metadata": {},
     "output_type": "display_data"
    },
    {
     "data": {
      "text/html": [
       "<pre style=\"white-space:pre;overflow-x:auto;line-height:normal;font-family:Menlo,'DejaVu Sans Mono',consolas,'Courier New',monospace\"><span style=\"color: #7fbfbf; text-decoration-color: #7fbfbf\">           </span>val Loss: <span style=\"color: #008080; text-decoration-color: #008080; font-weight: bold\">1.0875</span> Acc: <span style=\"color: #008080; text-decoration-color: #008080; font-weight: bold\">0.8003</span>                                          <a href=\"file:///home/ngardn10/projects/cuticulus/cuticulus/mlutils/torch.py\"><span style=\"color: #7f7f7f; text-decoration-color: #7f7f7f\">torch.py</span></a><span style=\"color: #7f7f7f; text-decoration-color: #7f7f7f\">:</span><a href=\"file:///home/ngardn10/projects/cuticulus/cuticulus/mlutils/torch.py#109\"><span style=\"color: #7f7f7f; text-decoration-color: #7f7f7f\">109</span></a>\n",
       "</pre>\n"
      ],
      "text/plain": [
       "\u001b[2;36m          \u001b[0m\u001b[2;36m \u001b[0mval Loss: \u001b[1;36m1.0875\u001b[0m Acc: \u001b[1;36m0.8003\u001b[0m                                          \u001b]8;id=726607;file:///home/ngardn10/projects/cuticulus/cuticulus/mlutils/torch.py\u001b\\\u001b[2mtorch.py\u001b[0m\u001b]8;;\u001b\\\u001b[2m:\u001b[0m\u001b]8;id=913033;file:///home/ngardn10/projects/cuticulus/cuticulus/mlutils/torch.py#109\u001b\\\u001b[2m109\u001b[0m\u001b]8;;\u001b\\\n"
      ]
     },
     "metadata": {},
     "output_type": "display_data"
    },
    {
     "data": {
      "text/html": [
       "<pre style=\"white-space:pre;overflow-x:auto;line-height:normal;font-family:Menlo,'DejaVu Sans Mono',consolas,'Courier New',monospace\"><span style=\"color: #7fbfbf; text-decoration-color: #7fbfbf\">           </span>Epoch <span style=\"color: #008080; text-decoration-color: #008080; font-weight: bold\">83</span>/<span style=\"color: #008080; text-decoration-color: #008080; font-weight: bold\">99</span>                                                            <a href=\"file:///home/ngardn10/projects/cuticulus/cuticulus/mlutils/torch.py\"><span style=\"color: #7f7f7f; text-decoration-color: #7f7f7f\">torch.py</span></a><span style=\"color: #7f7f7f; text-decoration-color: #7f7f7f\">:</span><a href=\"file:///home/ngardn10/projects/cuticulus/cuticulus/mlutils/torch.py#63\"><span style=\"color: #7f7f7f; text-decoration-color: #7f7f7f\">63</span></a>\n",
       "</pre>\n"
      ],
      "text/plain": [
       "\u001b[2;36m          \u001b[0m\u001b[2;36m \u001b[0mEpoch \u001b[1;36m83\u001b[0m/\u001b[1;36m99\u001b[0m                                                            \u001b]8;id=747289;file:///home/ngardn10/projects/cuticulus/cuticulus/mlutils/torch.py\u001b\\\u001b[2mtorch.py\u001b[0m\u001b]8;;\u001b\\\u001b[2m:\u001b[0m\u001b]8;id=87921;file:///home/ngardn10/projects/cuticulus/cuticulus/mlutils/torch.py#63\u001b\\\u001b[2m63\u001b[0m\u001b]8;;\u001b\\\n"
      ]
     },
     "metadata": {},
     "output_type": "display_data"
    },
    {
     "data": {
      "text/html": [
       "<pre style=\"white-space:pre;overflow-x:auto;line-height:normal;font-family:Menlo,'DejaVu Sans Mono',consolas,'Courier New',monospace\"><span style=\"color: #7fbfbf; text-decoration-color: #7fbfbf\">           </span>----------                                                             <a href=\"file:///home/ngardn10/projects/cuticulus/cuticulus/mlutils/torch.py\"><span style=\"color: #7f7f7f; text-decoration-color: #7f7f7f\">torch.py</span></a><span style=\"color: #7f7f7f; text-decoration-color: #7f7f7f\">:</span><a href=\"file:///home/ngardn10/projects/cuticulus/cuticulus/mlutils/torch.py#64\"><span style=\"color: #7f7f7f; text-decoration-color: #7f7f7f\">64</span></a>\n",
       "</pre>\n"
      ],
      "text/plain": [
       "\u001b[2;36m          \u001b[0m\u001b[2;36m \u001b[0m----------                                                             \u001b]8;id=818771;file:///home/ngardn10/projects/cuticulus/cuticulus/mlutils/torch.py\u001b\\\u001b[2mtorch.py\u001b[0m\u001b]8;;\u001b\\\u001b[2m:\u001b[0m\u001b]8;id=941842;file:///home/ngardn10/projects/cuticulus/cuticulus/mlutils/torch.py#64\u001b\\\u001b[2m64\u001b[0m\u001b]8;;\u001b\\\n"
      ]
     },
     "metadata": {},
     "output_type": "display_data"
    },
    {
     "data": {
      "text/html": [
       "<pre style=\"white-space:pre;overflow-x:auto;line-height:normal;font-family:Menlo,'DejaVu Sans Mono',consolas,'Courier New',monospace\"><span style=\"color: #7fbfbf; text-decoration-color: #7fbfbf\">[14:42:39] </span>train Loss: <span style=\"color: #008080; text-decoration-color: #008080; font-weight: bold\">0.0134</span> Acc: <span style=\"color: #008080; text-decoration-color: #008080; font-weight: bold\">0.9955</span>                                        <a href=\"file:///home/ngardn10/projects/cuticulus/cuticulus/mlutils/torch.py\"><span style=\"color: #7f7f7f; text-decoration-color: #7f7f7f\">torch.py</span></a><span style=\"color: #7f7f7f; text-decoration-color: #7f7f7f\">:</span><a href=\"file:///home/ngardn10/projects/cuticulus/cuticulus/mlutils/torch.py#109\"><span style=\"color: #7f7f7f; text-decoration-color: #7f7f7f\">109</span></a>\n",
       "</pre>\n"
      ],
      "text/plain": [
       "\u001b[2;36m[14:42:39]\u001b[0m\u001b[2;36m \u001b[0mtrain Loss: \u001b[1;36m0.0134\u001b[0m Acc: \u001b[1;36m0.9955\u001b[0m                                        \u001b]8;id=872433;file:///home/ngardn10/projects/cuticulus/cuticulus/mlutils/torch.py\u001b\\\u001b[2mtorch.py\u001b[0m\u001b]8;;\u001b\\\u001b[2m:\u001b[0m\u001b]8;id=538807;file:///home/ngardn10/projects/cuticulus/cuticulus/mlutils/torch.py#109\u001b\\\u001b[2m109\u001b[0m\u001b]8;;\u001b\\\n"
      ]
     },
     "metadata": {},
     "output_type": "display_data"
    },
    {
     "data": {
      "text/html": [
       "<pre style=\"white-space:pre;overflow-x:auto;line-height:normal;font-family:Menlo,'DejaVu Sans Mono',consolas,'Courier New',monospace\"><span style=\"color: #7fbfbf; text-decoration-color: #7fbfbf\">           </span>val Loss: <span style=\"color: #008080; text-decoration-color: #008080; font-weight: bold\">1.1155</span> Acc: <span style=\"color: #008080; text-decoration-color: #008080; font-weight: bold\">0.7702</span>                                          <a href=\"file:///home/ngardn10/projects/cuticulus/cuticulus/mlutils/torch.py\"><span style=\"color: #7f7f7f; text-decoration-color: #7f7f7f\">torch.py</span></a><span style=\"color: #7f7f7f; text-decoration-color: #7f7f7f\">:</span><a href=\"file:///home/ngardn10/projects/cuticulus/cuticulus/mlutils/torch.py#109\"><span style=\"color: #7f7f7f; text-decoration-color: #7f7f7f\">109</span></a>\n",
       "</pre>\n"
      ],
      "text/plain": [
       "\u001b[2;36m          \u001b[0m\u001b[2;36m \u001b[0mval Loss: \u001b[1;36m1.1155\u001b[0m Acc: \u001b[1;36m0.7702\u001b[0m                                          \u001b]8;id=249997;file:///home/ngardn10/projects/cuticulus/cuticulus/mlutils/torch.py\u001b\\\u001b[2mtorch.py\u001b[0m\u001b]8;;\u001b\\\u001b[2m:\u001b[0m\u001b]8;id=713339;file:///home/ngardn10/projects/cuticulus/cuticulus/mlutils/torch.py#109\u001b\\\u001b[2m109\u001b[0m\u001b]8;;\u001b\\\n"
      ]
     },
     "metadata": {},
     "output_type": "display_data"
    },
    {
     "data": {
      "text/html": [
       "<pre style=\"white-space:pre;overflow-x:auto;line-height:normal;font-family:Menlo,'DejaVu Sans Mono',consolas,'Courier New',monospace\"><span style=\"color: #7fbfbf; text-decoration-color: #7fbfbf\">           </span>Epoch <span style=\"color: #008080; text-decoration-color: #008080; font-weight: bold\">84</span>/<span style=\"color: #008080; text-decoration-color: #008080; font-weight: bold\">99</span>                                                            <a href=\"file:///home/ngardn10/projects/cuticulus/cuticulus/mlutils/torch.py\"><span style=\"color: #7f7f7f; text-decoration-color: #7f7f7f\">torch.py</span></a><span style=\"color: #7f7f7f; text-decoration-color: #7f7f7f\">:</span><a href=\"file:///home/ngardn10/projects/cuticulus/cuticulus/mlutils/torch.py#63\"><span style=\"color: #7f7f7f; text-decoration-color: #7f7f7f\">63</span></a>\n",
       "</pre>\n"
      ],
      "text/plain": [
       "\u001b[2;36m          \u001b[0m\u001b[2;36m \u001b[0mEpoch \u001b[1;36m84\u001b[0m/\u001b[1;36m99\u001b[0m                                                            \u001b]8;id=650319;file:///home/ngardn10/projects/cuticulus/cuticulus/mlutils/torch.py\u001b\\\u001b[2mtorch.py\u001b[0m\u001b]8;;\u001b\\\u001b[2m:\u001b[0m\u001b]8;id=316786;file:///home/ngardn10/projects/cuticulus/cuticulus/mlutils/torch.py#63\u001b\\\u001b[2m63\u001b[0m\u001b]8;;\u001b\\\n"
      ]
     },
     "metadata": {},
     "output_type": "display_data"
    },
    {
     "data": {
      "text/html": [
       "<pre style=\"white-space:pre;overflow-x:auto;line-height:normal;font-family:Menlo,'DejaVu Sans Mono',consolas,'Courier New',monospace\"><span style=\"color: #7fbfbf; text-decoration-color: #7fbfbf\">           </span>----------                                                             <a href=\"file:///home/ngardn10/projects/cuticulus/cuticulus/mlutils/torch.py\"><span style=\"color: #7f7f7f; text-decoration-color: #7f7f7f\">torch.py</span></a><span style=\"color: #7f7f7f; text-decoration-color: #7f7f7f\">:</span><a href=\"file:///home/ngardn10/projects/cuticulus/cuticulus/mlutils/torch.py#64\"><span style=\"color: #7f7f7f; text-decoration-color: #7f7f7f\">64</span></a>\n",
       "</pre>\n"
      ],
      "text/plain": [
       "\u001b[2;36m          \u001b[0m\u001b[2;36m \u001b[0m----------                                                             \u001b]8;id=754212;file:///home/ngardn10/projects/cuticulus/cuticulus/mlutils/torch.py\u001b\\\u001b[2mtorch.py\u001b[0m\u001b]8;;\u001b\\\u001b[2m:\u001b[0m\u001b]8;id=965632;file:///home/ngardn10/projects/cuticulus/cuticulus/mlutils/torch.py#64\u001b\\\u001b[2m64\u001b[0m\u001b]8;;\u001b\\\n"
      ]
     },
     "metadata": {},
     "output_type": "display_data"
    },
    {
     "data": {
      "text/html": [
       "<pre style=\"white-space:pre;overflow-x:auto;line-height:normal;font-family:Menlo,'DejaVu Sans Mono',consolas,'Courier New',monospace\"><span style=\"color: #7fbfbf; text-decoration-color: #7fbfbf\">[14:42:41] </span>train Loss: <span style=\"color: #008080; text-decoration-color: #008080; font-weight: bold\">0.0195</span> Acc: <span style=\"color: #008080; text-decoration-color: #008080; font-weight: bold\">0.9920</span>                                        <a href=\"file:///home/ngardn10/projects/cuticulus/cuticulus/mlutils/torch.py\"><span style=\"color: #7f7f7f; text-decoration-color: #7f7f7f\">torch.py</span></a><span style=\"color: #7f7f7f; text-decoration-color: #7f7f7f\">:</span><a href=\"file:///home/ngardn10/projects/cuticulus/cuticulus/mlutils/torch.py#109\"><span style=\"color: #7f7f7f; text-decoration-color: #7f7f7f\">109</span></a>\n",
       "</pre>\n"
      ],
      "text/plain": [
       "\u001b[2;36m[14:42:41]\u001b[0m\u001b[2;36m \u001b[0mtrain Loss: \u001b[1;36m0.0195\u001b[0m Acc: \u001b[1;36m0.9920\u001b[0m                                        \u001b]8;id=591500;file:///home/ngardn10/projects/cuticulus/cuticulus/mlutils/torch.py\u001b\\\u001b[2mtorch.py\u001b[0m\u001b]8;;\u001b\\\u001b[2m:\u001b[0m\u001b]8;id=909733;file:///home/ngardn10/projects/cuticulus/cuticulus/mlutils/torch.py#109\u001b\\\u001b[2m109\u001b[0m\u001b]8;;\u001b\\\n"
      ]
     },
     "metadata": {},
     "output_type": "display_data"
    },
    {
     "data": {
      "text/html": [
       "<pre style=\"white-space:pre;overflow-x:auto;line-height:normal;font-family:Menlo,'DejaVu Sans Mono',consolas,'Courier New',monospace\"><span style=\"color: #7fbfbf; text-decoration-color: #7fbfbf\">           </span>val Loss: <span style=\"color: #008080; text-decoration-color: #008080; font-weight: bold\">1.3273</span> Acc: <span style=\"color: #008080; text-decoration-color: #008080; font-weight: bold\">0.7742</span>                                          <a href=\"file:///home/ngardn10/projects/cuticulus/cuticulus/mlutils/torch.py\"><span style=\"color: #7f7f7f; text-decoration-color: #7f7f7f\">torch.py</span></a><span style=\"color: #7f7f7f; text-decoration-color: #7f7f7f\">:</span><a href=\"file:///home/ngardn10/projects/cuticulus/cuticulus/mlutils/torch.py#109\"><span style=\"color: #7f7f7f; text-decoration-color: #7f7f7f\">109</span></a>\n",
       "</pre>\n"
      ],
      "text/plain": [
       "\u001b[2;36m          \u001b[0m\u001b[2;36m \u001b[0mval Loss: \u001b[1;36m1.3273\u001b[0m Acc: \u001b[1;36m0.7742\u001b[0m                                          \u001b]8;id=90949;file:///home/ngardn10/projects/cuticulus/cuticulus/mlutils/torch.py\u001b\\\u001b[2mtorch.py\u001b[0m\u001b]8;;\u001b\\\u001b[2m:\u001b[0m\u001b]8;id=425229;file:///home/ngardn10/projects/cuticulus/cuticulus/mlutils/torch.py#109\u001b\\\u001b[2m109\u001b[0m\u001b]8;;\u001b\\\n"
      ]
     },
     "metadata": {},
     "output_type": "display_data"
    },
    {
     "data": {
      "text/html": [
       "<pre style=\"white-space:pre;overflow-x:auto;line-height:normal;font-family:Menlo,'DejaVu Sans Mono',consolas,'Courier New',monospace\"><span style=\"color: #7fbfbf; text-decoration-color: #7fbfbf\">           </span>Epoch <span style=\"color: #008080; text-decoration-color: #008080; font-weight: bold\">85</span>/<span style=\"color: #008080; text-decoration-color: #008080; font-weight: bold\">99</span>                                                            <a href=\"file:///home/ngardn10/projects/cuticulus/cuticulus/mlutils/torch.py\"><span style=\"color: #7f7f7f; text-decoration-color: #7f7f7f\">torch.py</span></a><span style=\"color: #7f7f7f; text-decoration-color: #7f7f7f\">:</span><a href=\"file:///home/ngardn10/projects/cuticulus/cuticulus/mlutils/torch.py#63\"><span style=\"color: #7f7f7f; text-decoration-color: #7f7f7f\">63</span></a>\n",
       "</pre>\n"
      ],
      "text/plain": [
       "\u001b[2;36m          \u001b[0m\u001b[2;36m \u001b[0mEpoch \u001b[1;36m85\u001b[0m/\u001b[1;36m99\u001b[0m                                                            \u001b]8;id=961386;file:///home/ngardn10/projects/cuticulus/cuticulus/mlutils/torch.py\u001b\\\u001b[2mtorch.py\u001b[0m\u001b]8;;\u001b\\\u001b[2m:\u001b[0m\u001b]8;id=709637;file:///home/ngardn10/projects/cuticulus/cuticulus/mlutils/torch.py#63\u001b\\\u001b[2m63\u001b[0m\u001b]8;;\u001b\\\n"
      ]
     },
     "metadata": {},
     "output_type": "display_data"
    },
    {
     "data": {
      "text/html": [
       "<pre style=\"white-space:pre;overflow-x:auto;line-height:normal;font-family:Menlo,'DejaVu Sans Mono',consolas,'Courier New',monospace\"><span style=\"color: #7fbfbf; text-decoration-color: #7fbfbf\">           </span>----------                                                             <a href=\"file:///home/ngardn10/projects/cuticulus/cuticulus/mlutils/torch.py\"><span style=\"color: #7f7f7f; text-decoration-color: #7f7f7f\">torch.py</span></a><span style=\"color: #7f7f7f; text-decoration-color: #7f7f7f\">:</span><a href=\"file:///home/ngardn10/projects/cuticulus/cuticulus/mlutils/torch.py#64\"><span style=\"color: #7f7f7f; text-decoration-color: #7f7f7f\">64</span></a>\n",
       "</pre>\n"
      ],
      "text/plain": [
       "\u001b[2;36m          \u001b[0m\u001b[2;36m \u001b[0m----------                                                             \u001b]8;id=278403;file:///home/ngardn10/projects/cuticulus/cuticulus/mlutils/torch.py\u001b\\\u001b[2mtorch.py\u001b[0m\u001b]8;;\u001b\\\u001b[2m:\u001b[0m\u001b]8;id=874535;file:///home/ngardn10/projects/cuticulus/cuticulus/mlutils/torch.py#64\u001b\\\u001b[2m64\u001b[0m\u001b]8;;\u001b\\\n"
      ]
     },
     "metadata": {},
     "output_type": "display_data"
    },
    {
     "data": {
      "text/html": [
       "<pre style=\"white-space:pre;overflow-x:auto;line-height:normal;font-family:Menlo,'DejaVu Sans Mono',consolas,'Courier New',monospace\"><span style=\"color: #7fbfbf; text-decoration-color: #7fbfbf\">[14:42:43] </span>train Loss: <span style=\"color: #008080; text-decoration-color: #008080; font-weight: bold\">0.0083</span> Acc: <span style=\"color: #008080; text-decoration-color: #008080; font-weight: bold\">0.9970</span>                                        <a href=\"file:///home/ngardn10/projects/cuticulus/cuticulus/mlutils/torch.py\"><span style=\"color: #7f7f7f; text-decoration-color: #7f7f7f\">torch.py</span></a><span style=\"color: #7f7f7f; text-decoration-color: #7f7f7f\">:</span><a href=\"file:///home/ngardn10/projects/cuticulus/cuticulus/mlutils/torch.py#109\"><span style=\"color: #7f7f7f; text-decoration-color: #7f7f7f\">109</span></a>\n",
       "</pre>\n"
      ],
      "text/plain": [
       "\u001b[2;36m[14:42:43]\u001b[0m\u001b[2;36m \u001b[0mtrain Loss: \u001b[1;36m0.0083\u001b[0m Acc: \u001b[1;36m0.9970\u001b[0m                                        \u001b]8;id=923242;file:///home/ngardn10/projects/cuticulus/cuticulus/mlutils/torch.py\u001b\\\u001b[2mtorch.py\u001b[0m\u001b]8;;\u001b\\\u001b[2m:\u001b[0m\u001b]8;id=128617;file:///home/ngardn10/projects/cuticulus/cuticulus/mlutils/torch.py#109\u001b\\\u001b[2m109\u001b[0m\u001b]8;;\u001b\\\n"
      ]
     },
     "metadata": {},
     "output_type": "display_data"
    },
    {
     "data": {
      "text/html": [
       "<pre style=\"white-space:pre;overflow-x:auto;line-height:normal;font-family:Menlo,'DejaVu Sans Mono',consolas,'Courier New',monospace\"><span style=\"color: #7fbfbf; text-decoration-color: #7fbfbf\">           </span>val Loss: <span style=\"color: #008080; text-decoration-color: #008080; font-weight: bold\">1.3083</span> Acc: <span style=\"color: #008080; text-decoration-color: #008080; font-weight: bold\">0.7872</span>                                          <a href=\"file:///home/ngardn10/projects/cuticulus/cuticulus/mlutils/torch.py\"><span style=\"color: #7f7f7f; text-decoration-color: #7f7f7f\">torch.py</span></a><span style=\"color: #7f7f7f; text-decoration-color: #7f7f7f\">:</span><a href=\"file:///home/ngardn10/projects/cuticulus/cuticulus/mlutils/torch.py#109\"><span style=\"color: #7f7f7f; text-decoration-color: #7f7f7f\">109</span></a>\n",
       "</pre>\n"
      ],
      "text/plain": [
       "\u001b[2;36m          \u001b[0m\u001b[2;36m \u001b[0mval Loss: \u001b[1;36m1.3083\u001b[0m Acc: \u001b[1;36m0.7872\u001b[0m                                          \u001b]8;id=807643;file:///home/ngardn10/projects/cuticulus/cuticulus/mlutils/torch.py\u001b\\\u001b[2mtorch.py\u001b[0m\u001b]8;;\u001b\\\u001b[2m:\u001b[0m\u001b]8;id=911199;file:///home/ngardn10/projects/cuticulus/cuticulus/mlutils/torch.py#109\u001b\\\u001b[2m109\u001b[0m\u001b]8;;\u001b\\\n"
      ]
     },
     "metadata": {},
     "output_type": "display_data"
    },
    {
     "data": {
      "text/html": [
       "<pre style=\"white-space:pre;overflow-x:auto;line-height:normal;font-family:Menlo,'DejaVu Sans Mono',consolas,'Courier New',monospace\"><span style=\"color: #7fbfbf; text-decoration-color: #7fbfbf\">           </span>Epoch <span style=\"color: #008080; text-decoration-color: #008080; font-weight: bold\">86</span>/<span style=\"color: #008080; text-decoration-color: #008080; font-weight: bold\">99</span>                                                            <a href=\"file:///home/ngardn10/projects/cuticulus/cuticulus/mlutils/torch.py\"><span style=\"color: #7f7f7f; text-decoration-color: #7f7f7f\">torch.py</span></a><span style=\"color: #7f7f7f; text-decoration-color: #7f7f7f\">:</span><a href=\"file:///home/ngardn10/projects/cuticulus/cuticulus/mlutils/torch.py#63\"><span style=\"color: #7f7f7f; text-decoration-color: #7f7f7f\">63</span></a>\n",
       "</pre>\n"
      ],
      "text/plain": [
       "\u001b[2;36m          \u001b[0m\u001b[2;36m \u001b[0mEpoch \u001b[1;36m86\u001b[0m/\u001b[1;36m99\u001b[0m                                                            \u001b]8;id=356360;file:///home/ngardn10/projects/cuticulus/cuticulus/mlutils/torch.py\u001b\\\u001b[2mtorch.py\u001b[0m\u001b]8;;\u001b\\\u001b[2m:\u001b[0m\u001b]8;id=331324;file:///home/ngardn10/projects/cuticulus/cuticulus/mlutils/torch.py#63\u001b\\\u001b[2m63\u001b[0m\u001b]8;;\u001b\\\n"
      ]
     },
     "metadata": {},
     "output_type": "display_data"
    },
    {
     "data": {
      "text/html": [
       "<pre style=\"white-space:pre;overflow-x:auto;line-height:normal;font-family:Menlo,'DejaVu Sans Mono',consolas,'Courier New',monospace\"><span style=\"color: #7fbfbf; text-decoration-color: #7fbfbf\">           </span>----------                                                             <a href=\"file:///home/ngardn10/projects/cuticulus/cuticulus/mlutils/torch.py\"><span style=\"color: #7f7f7f; text-decoration-color: #7f7f7f\">torch.py</span></a><span style=\"color: #7f7f7f; text-decoration-color: #7f7f7f\">:</span><a href=\"file:///home/ngardn10/projects/cuticulus/cuticulus/mlutils/torch.py#64\"><span style=\"color: #7f7f7f; text-decoration-color: #7f7f7f\">64</span></a>\n",
       "</pre>\n"
      ],
      "text/plain": [
       "\u001b[2;36m          \u001b[0m\u001b[2;36m \u001b[0m----------                                                             \u001b]8;id=462141;file:///home/ngardn10/projects/cuticulus/cuticulus/mlutils/torch.py\u001b\\\u001b[2mtorch.py\u001b[0m\u001b]8;;\u001b\\\u001b[2m:\u001b[0m\u001b]8;id=219389;file:///home/ngardn10/projects/cuticulus/cuticulus/mlutils/torch.py#64\u001b\\\u001b[2m64\u001b[0m\u001b]8;;\u001b\\\n"
      ]
     },
     "metadata": {},
     "output_type": "display_data"
    },
    {
     "data": {
      "text/html": [
       "<pre style=\"white-space:pre;overflow-x:auto;line-height:normal;font-family:Menlo,'DejaVu Sans Mono',consolas,'Courier New',monospace\"><span style=\"color: #7fbfbf; text-decoration-color: #7fbfbf\">[14:42:44] </span>train Loss: <span style=\"color: #008080; text-decoration-color: #008080; font-weight: bold\">0.0184</span> Acc: <span style=\"color: #008080; text-decoration-color: #008080; font-weight: bold\">0.9950</span>                                        <a href=\"file:///home/ngardn10/projects/cuticulus/cuticulus/mlutils/torch.py\"><span style=\"color: #7f7f7f; text-decoration-color: #7f7f7f\">torch.py</span></a><span style=\"color: #7f7f7f; text-decoration-color: #7f7f7f\">:</span><a href=\"file:///home/ngardn10/projects/cuticulus/cuticulus/mlutils/torch.py#109\"><span style=\"color: #7f7f7f; text-decoration-color: #7f7f7f\">109</span></a>\n",
       "</pre>\n"
      ],
      "text/plain": [
       "\u001b[2;36m[14:42:44]\u001b[0m\u001b[2;36m \u001b[0mtrain Loss: \u001b[1;36m0.0184\u001b[0m Acc: \u001b[1;36m0.9950\u001b[0m                                        \u001b]8;id=271474;file:///home/ngardn10/projects/cuticulus/cuticulus/mlutils/torch.py\u001b\\\u001b[2mtorch.py\u001b[0m\u001b]8;;\u001b\\\u001b[2m:\u001b[0m\u001b]8;id=731671;file:///home/ngardn10/projects/cuticulus/cuticulus/mlutils/torch.py#109\u001b\\\u001b[2m109\u001b[0m\u001b]8;;\u001b\\\n"
      ]
     },
     "metadata": {},
     "output_type": "display_data"
    },
    {
     "data": {
      "text/html": [
       "<pre style=\"white-space:pre;overflow-x:auto;line-height:normal;font-family:Menlo,'DejaVu Sans Mono',consolas,'Courier New',monospace\"><span style=\"color: #7fbfbf; text-decoration-color: #7fbfbf\">[14:42:45] </span>val Loss: <span style=\"color: #008080; text-decoration-color: #008080; font-weight: bold\">1.3337</span> Acc: <span style=\"color: #008080; text-decoration-color: #008080; font-weight: bold\">0.7820</span>                                          <a href=\"file:///home/ngardn10/projects/cuticulus/cuticulus/mlutils/torch.py\"><span style=\"color: #7f7f7f; text-decoration-color: #7f7f7f\">torch.py</span></a><span style=\"color: #7f7f7f; text-decoration-color: #7f7f7f\">:</span><a href=\"file:///home/ngardn10/projects/cuticulus/cuticulus/mlutils/torch.py#109\"><span style=\"color: #7f7f7f; text-decoration-color: #7f7f7f\">109</span></a>\n",
       "</pre>\n"
      ],
      "text/plain": [
       "\u001b[2;36m[14:42:45]\u001b[0m\u001b[2;36m \u001b[0mval Loss: \u001b[1;36m1.3337\u001b[0m Acc: \u001b[1;36m0.7820\u001b[0m                                          \u001b]8;id=463877;file:///home/ngardn10/projects/cuticulus/cuticulus/mlutils/torch.py\u001b\\\u001b[2mtorch.py\u001b[0m\u001b]8;;\u001b\\\u001b[2m:\u001b[0m\u001b]8;id=16892;file:///home/ngardn10/projects/cuticulus/cuticulus/mlutils/torch.py#109\u001b\\\u001b[2m109\u001b[0m\u001b]8;;\u001b\\\n"
      ]
     },
     "metadata": {},
     "output_type": "display_data"
    },
    {
     "data": {
      "text/html": [
       "<pre style=\"white-space:pre;overflow-x:auto;line-height:normal;font-family:Menlo,'DejaVu Sans Mono',consolas,'Courier New',monospace\"><span style=\"color: #7fbfbf; text-decoration-color: #7fbfbf\">           </span>Epoch <span style=\"color: #008080; text-decoration-color: #008080; font-weight: bold\">87</span>/<span style=\"color: #008080; text-decoration-color: #008080; font-weight: bold\">99</span>                                                            <a href=\"file:///home/ngardn10/projects/cuticulus/cuticulus/mlutils/torch.py\"><span style=\"color: #7f7f7f; text-decoration-color: #7f7f7f\">torch.py</span></a><span style=\"color: #7f7f7f; text-decoration-color: #7f7f7f\">:</span><a href=\"file:///home/ngardn10/projects/cuticulus/cuticulus/mlutils/torch.py#63\"><span style=\"color: #7f7f7f; text-decoration-color: #7f7f7f\">63</span></a>\n",
       "</pre>\n"
      ],
      "text/plain": [
       "\u001b[2;36m          \u001b[0m\u001b[2;36m \u001b[0mEpoch \u001b[1;36m87\u001b[0m/\u001b[1;36m99\u001b[0m                                                            \u001b]8;id=555106;file:///home/ngardn10/projects/cuticulus/cuticulus/mlutils/torch.py\u001b\\\u001b[2mtorch.py\u001b[0m\u001b]8;;\u001b\\\u001b[2m:\u001b[0m\u001b]8;id=162656;file:///home/ngardn10/projects/cuticulus/cuticulus/mlutils/torch.py#63\u001b\\\u001b[2m63\u001b[0m\u001b]8;;\u001b\\\n"
      ]
     },
     "metadata": {},
     "output_type": "display_data"
    },
    {
     "data": {
      "text/html": [
       "<pre style=\"white-space:pre;overflow-x:auto;line-height:normal;font-family:Menlo,'DejaVu Sans Mono',consolas,'Courier New',monospace\"><span style=\"color: #7fbfbf; text-decoration-color: #7fbfbf\">           </span>----------                                                             <a href=\"file:///home/ngardn10/projects/cuticulus/cuticulus/mlutils/torch.py\"><span style=\"color: #7f7f7f; text-decoration-color: #7f7f7f\">torch.py</span></a><span style=\"color: #7f7f7f; text-decoration-color: #7f7f7f\">:</span><a href=\"file:///home/ngardn10/projects/cuticulus/cuticulus/mlutils/torch.py#64\"><span style=\"color: #7f7f7f; text-decoration-color: #7f7f7f\">64</span></a>\n",
       "</pre>\n"
      ],
      "text/plain": [
       "\u001b[2;36m          \u001b[0m\u001b[2;36m \u001b[0m----------                                                             \u001b]8;id=471022;file:///home/ngardn10/projects/cuticulus/cuticulus/mlutils/torch.py\u001b\\\u001b[2mtorch.py\u001b[0m\u001b]8;;\u001b\\\u001b[2m:\u001b[0m\u001b]8;id=150081;file:///home/ngardn10/projects/cuticulus/cuticulus/mlutils/torch.py#64\u001b\\\u001b[2m64\u001b[0m\u001b]8;;\u001b\\\n"
      ]
     },
     "metadata": {},
     "output_type": "display_data"
    },
    {
     "data": {
      "text/html": [
       "<pre style=\"white-space:pre;overflow-x:auto;line-height:normal;font-family:Menlo,'DejaVu Sans Mono',consolas,'Courier New',monospace\"><span style=\"color: #7fbfbf; text-decoration-color: #7fbfbf\">[14:42:46] </span>train Loss: <span style=\"color: #008080; text-decoration-color: #008080; font-weight: bold\">0.0087</span> Acc: <span style=\"color: #008080; text-decoration-color: #008080; font-weight: bold\">0.9960</span>                                        <a href=\"file:///home/ngardn10/projects/cuticulus/cuticulus/mlutils/torch.py\"><span style=\"color: #7f7f7f; text-decoration-color: #7f7f7f\">torch.py</span></a><span style=\"color: #7f7f7f; text-decoration-color: #7f7f7f\">:</span><a href=\"file:///home/ngardn10/projects/cuticulus/cuticulus/mlutils/torch.py#109\"><span style=\"color: #7f7f7f; text-decoration-color: #7f7f7f\">109</span></a>\n",
       "</pre>\n"
      ],
      "text/plain": [
       "\u001b[2;36m[14:42:46]\u001b[0m\u001b[2;36m \u001b[0mtrain Loss: \u001b[1;36m0.0087\u001b[0m Acc: \u001b[1;36m0.9960\u001b[0m                                        \u001b]8;id=537419;file:///home/ngardn10/projects/cuticulus/cuticulus/mlutils/torch.py\u001b\\\u001b[2mtorch.py\u001b[0m\u001b]8;;\u001b\\\u001b[2m:\u001b[0m\u001b]8;id=678665;file:///home/ngardn10/projects/cuticulus/cuticulus/mlutils/torch.py#109\u001b\\\u001b[2m109\u001b[0m\u001b]8;;\u001b\\\n"
      ]
     },
     "metadata": {},
     "output_type": "display_data"
    },
    {
     "data": {
      "text/html": [
       "<pre style=\"white-space:pre;overflow-x:auto;line-height:normal;font-family:Menlo,'DejaVu Sans Mono',consolas,'Courier New',monospace\"><span style=\"color: #7fbfbf; text-decoration-color: #7fbfbf\">[14:42:47] </span>val Loss: <span style=\"color: #008080; text-decoration-color: #008080; font-weight: bold\">1.3063</span> Acc: <span style=\"color: #008080; text-decoration-color: #008080; font-weight: bold\">0.7807</span>                                          <a href=\"file:///home/ngardn10/projects/cuticulus/cuticulus/mlutils/torch.py\"><span style=\"color: #7f7f7f; text-decoration-color: #7f7f7f\">torch.py</span></a><span style=\"color: #7f7f7f; text-decoration-color: #7f7f7f\">:</span><a href=\"file:///home/ngardn10/projects/cuticulus/cuticulus/mlutils/torch.py#109\"><span style=\"color: #7f7f7f; text-decoration-color: #7f7f7f\">109</span></a>\n",
       "</pre>\n"
      ],
      "text/plain": [
       "\u001b[2;36m[14:42:47]\u001b[0m\u001b[2;36m \u001b[0mval Loss: \u001b[1;36m1.3063\u001b[0m Acc: \u001b[1;36m0.7807\u001b[0m                                          \u001b]8;id=543927;file:///home/ngardn10/projects/cuticulus/cuticulus/mlutils/torch.py\u001b\\\u001b[2mtorch.py\u001b[0m\u001b]8;;\u001b\\\u001b[2m:\u001b[0m\u001b]8;id=112881;file:///home/ngardn10/projects/cuticulus/cuticulus/mlutils/torch.py#109\u001b\\\u001b[2m109\u001b[0m\u001b]8;;\u001b\\\n"
      ]
     },
     "metadata": {},
     "output_type": "display_data"
    },
    {
     "data": {
      "text/html": [
       "<pre style=\"white-space:pre;overflow-x:auto;line-height:normal;font-family:Menlo,'DejaVu Sans Mono',consolas,'Courier New',monospace\"><span style=\"color: #7fbfbf; text-decoration-color: #7fbfbf\">           </span>Epoch <span style=\"color: #008080; text-decoration-color: #008080; font-weight: bold\">88</span>/<span style=\"color: #008080; text-decoration-color: #008080; font-weight: bold\">99</span>                                                            <a href=\"file:///home/ngardn10/projects/cuticulus/cuticulus/mlutils/torch.py\"><span style=\"color: #7f7f7f; text-decoration-color: #7f7f7f\">torch.py</span></a><span style=\"color: #7f7f7f; text-decoration-color: #7f7f7f\">:</span><a href=\"file:///home/ngardn10/projects/cuticulus/cuticulus/mlutils/torch.py#63\"><span style=\"color: #7f7f7f; text-decoration-color: #7f7f7f\">63</span></a>\n",
       "</pre>\n"
      ],
      "text/plain": [
       "\u001b[2;36m          \u001b[0m\u001b[2;36m \u001b[0mEpoch \u001b[1;36m88\u001b[0m/\u001b[1;36m99\u001b[0m                                                            \u001b]8;id=825348;file:///home/ngardn10/projects/cuticulus/cuticulus/mlutils/torch.py\u001b\\\u001b[2mtorch.py\u001b[0m\u001b]8;;\u001b\\\u001b[2m:\u001b[0m\u001b]8;id=520595;file:///home/ngardn10/projects/cuticulus/cuticulus/mlutils/torch.py#63\u001b\\\u001b[2m63\u001b[0m\u001b]8;;\u001b\\\n"
      ]
     },
     "metadata": {},
     "output_type": "display_data"
    },
    {
     "data": {
      "text/html": [
       "<pre style=\"white-space:pre;overflow-x:auto;line-height:normal;font-family:Menlo,'DejaVu Sans Mono',consolas,'Courier New',monospace\"><span style=\"color: #7fbfbf; text-decoration-color: #7fbfbf\">           </span>----------                                                             <a href=\"file:///home/ngardn10/projects/cuticulus/cuticulus/mlutils/torch.py\"><span style=\"color: #7f7f7f; text-decoration-color: #7f7f7f\">torch.py</span></a><span style=\"color: #7f7f7f; text-decoration-color: #7f7f7f\">:</span><a href=\"file:///home/ngardn10/projects/cuticulus/cuticulus/mlutils/torch.py#64\"><span style=\"color: #7f7f7f; text-decoration-color: #7f7f7f\">64</span></a>\n",
       "</pre>\n"
      ],
      "text/plain": [
       "\u001b[2;36m          \u001b[0m\u001b[2;36m \u001b[0m----------                                                             \u001b]8;id=60793;file:///home/ngardn10/projects/cuticulus/cuticulus/mlutils/torch.py\u001b\\\u001b[2mtorch.py\u001b[0m\u001b]8;;\u001b\\\u001b[2m:\u001b[0m\u001b]8;id=594278;file:///home/ngardn10/projects/cuticulus/cuticulus/mlutils/torch.py#64\u001b\\\u001b[2m64\u001b[0m\u001b]8;;\u001b\\\n"
      ]
     },
     "metadata": {},
     "output_type": "display_data"
    },
    {
     "data": {
      "text/html": [
       "<pre style=\"white-space:pre;overflow-x:auto;line-height:normal;font-family:Menlo,'DejaVu Sans Mono',consolas,'Courier New',monospace\"><span style=\"color: #7fbfbf; text-decoration-color: #7fbfbf\">[14:42:48] </span>train Loss: <span style=\"color: #008080; text-decoration-color: #008080; font-weight: bold\">0.0037</span> Acc: <span style=\"color: #008080; text-decoration-color: #008080; font-weight: bold\">0.9990</span>                                        <a href=\"file:///home/ngardn10/projects/cuticulus/cuticulus/mlutils/torch.py\"><span style=\"color: #7f7f7f; text-decoration-color: #7f7f7f\">torch.py</span></a><span style=\"color: #7f7f7f; text-decoration-color: #7f7f7f\">:</span><a href=\"file:///home/ngardn10/projects/cuticulus/cuticulus/mlutils/torch.py#109\"><span style=\"color: #7f7f7f; text-decoration-color: #7f7f7f\">109</span></a>\n",
       "</pre>\n"
      ],
      "text/plain": [
       "\u001b[2;36m[14:42:48]\u001b[0m\u001b[2;36m \u001b[0mtrain Loss: \u001b[1;36m0.0037\u001b[0m Acc: \u001b[1;36m0.9990\u001b[0m                                        \u001b]8;id=287387;file:///home/ngardn10/projects/cuticulus/cuticulus/mlutils/torch.py\u001b\\\u001b[2mtorch.py\u001b[0m\u001b]8;;\u001b\\\u001b[2m:\u001b[0m\u001b]8;id=112756;file:///home/ngardn10/projects/cuticulus/cuticulus/mlutils/torch.py#109\u001b\\\u001b[2m109\u001b[0m\u001b]8;;\u001b\\\n"
      ]
     },
     "metadata": {},
     "output_type": "display_data"
    },
    {
     "data": {
      "text/html": [
       "<pre style=\"white-space:pre;overflow-x:auto;line-height:normal;font-family:Menlo,'DejaVu Sans Mono',consolas,'Courier New',monospace\"><span style=\"color: #7fbfbf; text-decoration-color: #7fbfbf\">           </span>val Loss: <span style=\"color: #008080; text-decoration-color: #008080; font-weight: bold\">1.1839</span> Acc: <span style=\"color: #008080; text-decoration-color: #008080; font-weight: bold\">0.7807</span>                                          <a href=\"file:///home/ngardn10/projects/cuticulus/cuticulus/mlutils/torch.py\"><span style=\"color: #7f7f7f; text-decoration-color: #7f7f7f\">torch.py</span></a><span style=\"color: #7f7f7f; text-decoration-color: #7f7f7f\">:</span><a href=\"file:///home/ngardn10/projects/cuticulus/cuticulus/mlutils/torch.py#109\"><span style=\"color: #7f7f7f; text-decoration-color: #7f7f7f\">109</span></a>\n",
       "</pre>\n"
      ],
      "text/plain": [
       "\u001b[2;36m          \u001b[0m\u001b[2;36m \u001b[0mval Loss: \u001b[1;36m1.1839\u001b[0m Acc: \u001b[1;36m0.7807\u001b[0m                                          \u001b]8;id=894856;file:///home/ngardn10/projects/cuticulus/cuticulus/mlutils/torch.py\u001b\\\u001b[2mtorch.py\u001b[0m\u001b]8;;\u001b\\\u001b[2m:\u001b[0m\u001b]8;id=729621;file:///home/ngardn10/projects/cuticulus/cuticulus/mlutils/torch.py#109\u001b\\\u001b[2m109\u001b[0m\u001b]8;;\u001b\\\n"
      ]
     },
     "metadata": {},
     "output_type": "display_data"
    },
    {
     "data": {
      "text/html": [
       "<pre style=\"white-space:pre;overflow-x:auto;line-height:normal;font-family:Menlo,'DejaVu Sans Mono',consolas,'Courier New',monospace\"><span style=\"color: #7fbfbf; text-decoration-color: #7fbfbf\">           </span>Epoch <span style=\"color: #008080; text-decoration-color: #008080; font-weight: bold\">89</span>/<span style=\"color: #008080; text-decoration-color: #008080; font-weight: bold\">99</span>                                                            <a href=\"file:///home/ngardn10/projects/cuticulus/cuticulus/mlutils/torch.py\"><span style=\"color: #7f7f7f; text-decoration-color: #7f7f7f\">torch.py</span></a><span style=\"color: #7f7f7f; text-decoration-color: #7f7f7f\">:</span><a href=\"file:///home/ngardn10/projects/cuticulus/cuticulus/mlutils/torch.py#63\"><span style=\"color: #7f7f7f; text-decoration-color: #7f7f7f\">63</span></a>\n",
       "</pre>\n"
      ],
      "text/plain": [
       "\u001b[2;36m          \u001b[0m\u001b[2;36m \u001b[0mEpoch \u001b[1;36m89\u001b[0m/\u001b[1;36m99\u001b[0m                                                            \u001b]8;id=726463;file:///home/ngardn10/projects/cuticulus/cuticulus/mlutils/torch.py\u001b\\\u001b[2mtorch.py\u001b[0m\u001b]8;;\u001b\\\u001b[2m:\u001b[0m\u001b]8;id=443702;file:///home/ngardn10/projects/cuticulus/cuticulus/mlutils/torch.py#63\u001b\\\u001b[2m63\u001b[0m\u001b]8;;\u001b\\\n"
      ]
     },
     "metadata": {},
     "output_type": "display_data"
    },
    {
     "data": {
      "text/html": [
       "<pre style=\"white-space:pre;overflow-x:auto;line-height:normal;font-family:Menlo,'DejaVu Sans Mono',consolas,'Courier New',monospace\"><span style=\"color: #7fbfbf; text-decoration-color: #7fbfbf\">           </span>----------                                                             <a href=\"file:///home/ngardn10/projects/cuticulus/cuticulus/mlutils/torch.py\"><span style=\"color: #7f7f7f; text-decoration-color: #7f7f7f\">torch.py</span></a><span style=\"color: #7f7f7f; text-decoration-color: #7f7f7f\">:</span><a href=\"file:///home/ngardn10/projects/cuticulus/cuticulus/mlutils/torch.py#64\"><span style=\"color: #7f7f7f; text-decoration-color: #7f7f7f\">64</span></a>\n",
       "</pre>\n"
      ],
      "text/plain": [
       "\u001b[2;36m          \u001b[0m\u001b[2;36m \u001b[0m----------                                                             \u001b]8;id=302354;file:///home/ngardn10/projects/cuticulus/cuticulus/mlutils/torch.py\u001b\\\u001b[2mtorch.py\u001b[0m\u001b]8;;\u001b\\\u001b[2m:\u001b[0m\u001b]8;id=672379;file:///home/ngardn10/projects/cuticulus/cuticulus/mlutils/torch.py#64\u001b\\\u001b[2m64\u001b[0m\u001b]8;;\u001b\\\n"
      ]
     },
     "metadata": {},
     "output_type": "display_data"
    },
    {
     "data": {
      "text/html": [
       "<pre style=\"white-space:pre;overflow-x:auto;line-height:normal;font-family:Menlo,'DejaVu Sans Mono',consolas,'Courier New',monospace\"><span style=\"color: #7fbfbf; text-decoration-color: #7fbfbf\">[14:42:50] </span>train Loss: <span style=\"color: #008080; text-decoration-color: #008080; font-weight: bold\">0.0043</span> Acc: <span style=\"color: #008080; text-decoration-color: #008080; font-weight: bold\">0.9980</span>                                        <a href=\"file:///home/ngardn10/projects/cuticulus/cuticulus/mlutils/torch.py\"><span style=\"color: #7f7f7f; text-decoration-color: #7f7f7f\">torch.py</span></a><span style=\"color: #7f7f7f; text-decoration-color: #7f7f7f\">:</span><a href=\"file:///home/ngardn10/projects/cuticulus/cuticulus/mlutils/torch.py#109\"><span style=\"color: #7f7f7f; text-decoration-color: #7f7f7f\">109</span></a>\n",
       "</pre>\n"
      ],
      "text/plain": [
       "\u001b[2;36m[14:42:50]\u001b[0m\u001b[2;36m \u001b[0mtrain Loss: \u001b[1;36m0.0043\u001b[0m Acc: \u001b[1;36m0.9980\u001b[0m                                        \u001b]8;id=800871;file:///home/ngardn10/projects/cuticulus/cuticulus/mlutils/torch.py\u001b\\\u001b[2mtorch.py\u001b[0m\u001b]8;;\u001b\\\u001b[2m:\u001b[0m\u001b]8;id=633687;file:///home/ngardn10/projects/cuticulus/cuticulus/mlutils/torch.py#109\u001b\\\u001b[2m109\u001b[0m\u001b]8;;\u001b\\\n"
      ]
     },
     "metadata": {},
     "output_type": "display_data"
    },
    {
     "data": {
      "text/html": [
       "<pre style=\"white-space:pre;overflow-x:auto;line-height:normal;font-family:Menlo,'DejaVu Sans Mono',consolas,'Courier New',monospace\"><span style=\"color: #7fbfbf; text-decoration-color: #7fbfbf\">           </span>val Loss: <span style=\"color: #008080; text-decoration-color: #008080; font-weight: bold\">1.2620</span> Acc: <span style=\"color: #008080; text-decoration-color: #008080; font-weight: bold\">0.7663</span>                                          <a href=\"file:///home/ngardn10/projects/cuticulus/cuticulus/mlutils/torch.py\"><span style=\"color: #7f7f7f; text-decoration-color: #7f7f7f\">torch.py</span></a><span style=\"color: #7f7f7f; text-decoration-color: #7f7f7f\">:</span><a href=\"file:///home/ngardn10/projects/cuticulus/cuticulus/mlutils/torch.py#109\"><span style=\"color: #7f7f7f; text-decoration-color: #7f7f7f\">109</span></a>\n",
       "</pre>\n"
      ],
      "text/plain": [
       "\u001b[2;36m          \u001b[0m\u001b[2;36m \u001b[0mval Loss: \u001b[1;36m1.2620\u001b[0m Acc: \u001b[1;36m0.7663\u001b[0m                                          \u001b]8;id=371229;file:///home/ngardn10/projects/cuticulus/cuticulus/mlutils/torch.py\u001b\\\u001b[2mtorch.py\u001b[0m\u001b]8;;\u001b\\\u001b[2m:\u001b[0m\u001b]8;id=536671;file:///home/ngardn10/projects/cuticulus/cuticulus/mlutils/torch.py#109\u001b\\\u001b[2m109\u001b[0m\u001b]8;;\u001b\\\n"
      ]
     },
     "metadata": {},
     "output_type": "display_data"
    },
    {
     "data": {
      "text/html": [
       "<pre style=\"white-space:pre;overflow-x:auto;line-height:normal;font-family:Menlo,'DejaVu Sans Mono',consolas,'Courier New',monospace\"><span style=\"color: #7fbfbf; text-decoration-color: #7fbfbf\">           </span>Epoch <span style=\"color: #008080; text-decoration-color: #008080; font-weight: bold\">90</span>/<span style=\"color: #008080; text-decoration-color: #008080; font-weight: bold\">99</span>                                                            <a href=\"file:///home/ngardn10/projects/cuticulus/cuticulus/mlutils/torch.py\"><span style=\"color: #7f7f7f; text-decoration-color: #7f7f7f\">torch.py</span></a><span style=\"color: #7f7f7f; text-decoration-color: #7f7f7f\">:</span><a href=\"file:///home/ngardn10/projects/cuticulus/cuticulus/mlutils/torch.py#63\"><span style=\"color: #7f7f7f; text-decoration-color: #7f7f7f\">63</span></a>\n",
       "</pre>\n"
      ],
      "text/plain": [
       "\u001b[2;36m          \u001b[0m\u001b[2;36m \u001b[0mEpoch \u001b[1;36m90\u001b[0m/\u001b[1;36m99\u001b[0m                                                            \u001b]8;id=342722;file:///home/ngardn10/projects/cuticulus/cuticulus/mlutils/torch.py\u001b\\\u001b[2mtorch.py\u001b[0m\u001b]8;;\u001b\\\u001b[2m:\u001b[0m\u001b]8;id=670453;file:///home/ngardn10/projects/cuticulus/cuticulus/mlutils/torch.py#63\u001b\\\u001b[2m63\u001b[0m\u001b]8;;\u001b\\\n"
      ]
     },
     "metadata": {},
     "output_type": "display_data"
    },
    {
     "data": {
      "text/html": [
       "<pre style=\"white-space:pre;overflow-x:auto;line-height:normal;font-family:Menlo,'DejaVu Sans Mono',consolas,'Courier New',monospace\"><span style=\"color: #7fbfbf; text-decoration-color: #7fbfbf\">           </span>----------                                                             <a href=\"file:///home/ngardn10/projects/cuticulus/cuticulus/mlutils/torch.py\"><span style=\"color: #7f7f7f; text-decoration-color: #7f7f7f\">torch.py</span></a><span style=\"color: #7f7f7f; text-decoration-color: #7f7f7f\">:</span><a href=\"file:///home/ngardn10/projects/cuticulus/cuticulus/mlutils/torch.py#64\"><span style=\"color: #7f7f7f; text-decoration-color: #7f7f7f\">64</span></a>\n",
       "</pre>\n"
      ],
      "text/plain": [
       "\u001b[2;36m          \u001b[0m\u001b[2;36m \u001b[0m----------                                                             \u001b]8;id=507546;file:///home/ngardn10/projects/cuticulus/cuticulus/mlutils/torch.py\u001b\\\u001b[2mtorch.py\u001b[0m\u001b]8;;\u001b\\\u001b[2m:\u001b[0m\u001b]8;id=179678;file:///home/ngardn10/projects/cuticulus/cuticulus/mlutils/torch.py#64\u001b\\\u001b[2m64\u001b[0m\u001b]8;;\u001b\\\n"
      ]
     },
     "metadata": {},
     "output_type": "display_data"
    },
    {
     "data": {
      "text/html": [
       "<pre style=\"white-space:pre;overflow-x:auto;line-height:normal;font-family:Menlo,'DejaVu Sans Mono',consolas,'Courier New',monospace\"><span style=\"color: #7fbfbf; text-decoration-color: #7fbfbf\">[14:42:52] </span>train Loss: <span style=\"color: #008080; text-decoration-color: #008080; font-weight: bold\">0.0088</span> Acc: <span style=\"color: #008080; text-decoration-color: #008080; font-weight: bold\">0.9980</span>                                        <a href=\"file:///home/ngardn10/projects/cuticulus/cuticulus/mlutils/torch.py\"><span style=\"color: #7f7f7f; text-decoration-color: #7f7f7f\">torch.py</span></a><span style=\"color: #7f7f7f; text-decoration-color: #7f7f7f\">:</span><a href=\"file:///home/ngardn10/projects/cuticulus/cuticulus/mlutils/torch.py#109\"><span style=\"color: #7f7f7f; text-decoration-color: #7f7f7f\">109</span></a>\n",
       "</pre>\n"
      ],
      "text/plain": [
       "\u001b[2;36m[14:42:52]\u001b[0m\u001b[2;36m \u001b[0mtrain Loss: \u001b[1;36m0.0088\u001b[0m Acc: \u001b[1;36m0.9980\u001b[0m                                        \u001b]8;id=505719;file:///home/ngardn10/projects/cuticulus/cuticulus/mlutils/torch.py\u001b\\\u001b[2mtorch.py\u001b[0m\u001b]8;;\u001b\\\u001b[2m:\u001b[0m\u001b]8;id=318507;file:///home/ngardn10/projects/cuticulus/cuticulus/mlutils/torch.py#109\u001b\\\u001b[2m109\u001b[0m\u001b]8;;\u001b\\\n"
      ]
     },
     "metadata": {},
     "output_type": "display_data"
    },
    {
     "data": {
      "text/html": [
       "<pre style=\"white-space:pre;overflow-x:auto;line-height:normal;font-family:Menlo,'DejaVu Sans Mono',consolas,'Courier New',monospace\"><span style=\"color: #7fbfbf; text-decoration-color: #7fbfbf\">           </span>val Loss: <span style=\"color: #008080; text-decoration-color: #008080; font-weight: bold\">1.2583</span> Acc: <span style=\"color: #008080; text-decoration-color: #008080; font-weight: bold\">0.7833</span>                                          <a href=\"file:///home/ngardn10/projects/cuticulus/cuticulus/mlutils/torch.py\"><span style=\"color: #7f7f7f; text-decoration-color: #7f7f7f\">torch.py</span></a><span style=\"color: #7f7f7f; text-decoration-color: #7f7f7f\">:</span><a href=\"file:///home/ngardn10/projects/cuticulus/cuticulus/mlutils/torch.py#109\"><span style=\"color: #7f7f7f; text-decoration-color: #7f7f7f\">109</span></a>\n",
       "</pre>\n"
      ],
      "text/plain": [
       "\u001b[2;36m          \u001b[0m\u001b[2;36m \u001b[0mval Loss: \u001b[1;36m1.2583\u001b[0m Acc: \u001b[1;36m0.7833\u001b[0m                                          \u001b]8;id=860616;file:///home/ngardn10/projects/cuticulus/cuticulus/mlutils/torch.py\u001b\\\u001b[2mtorch.py\u001b[0m\u001b]8;;\u001b\\\u001b[2m:\u001b[0m\u001b]8;id=960699;file:///home/ngardn10/projects/cuticulus/cuticulus/mlutils/torch.py#109\u001b\\\u001b[2m109\u001b[0m\u001b]8;;\u001b\\\n"
      ]
     },
     "metadata": {},
     "output_type": "display_data"
    },
    {
     "data": {
      "text/html": [
       "<pre style=\"white-space:pre;overflow-x:auto;line-height:normal;font-family:Menlo,'DejaVu Sans Mono',consolas,'Courier New',monospace\"><span style=\"color: #7fbfbf; text-decoration-color: #7fbfbf\">           </span>Epoch <span style=\"color: #008080; text-decoration-color: #008080; font-weight: bold\">91</span>/<span style=\"color: #008080; text-decoration-color: #008080; font-weight: bold\">99</span>                                                            <a href=\"file:///home/ngardn10/projects/cuticulus/cuticulus/mlutils/torch.py\"><span style=\"color: #7f7f7f; text-decoration-color: #7f7f7f\">torch.py</span></a><span style=\"color: #7f7f7f; text-decoration-color: #7f7f7f\">:</span><a href=\"file:///home/ngardn10/projects/cuticulus/cuticulus/mlutils/torch.py#63\"><span style=\"color: #7f7f7f; text-decoration-color: #7f7f7f\">63</span></a>\n",
       "</pre>\n"
      ],
      "text/plain": [
       "\u001b[2;36m          \u001b[0m\u001b[2;36m \u001b[0mEpoch \u001b[1;36m91\u001b[0m/\u001b[1;36m99\u001b[0m                                                            \u001b]8;id=283055;file:///home/ngardn10/projects/cuticulus/cuticulus/mlutils/torch.py\u001b\\\u001b[2mtorch.py\u001b[0m\u001b]8;;\u001b\\\u001b[2m:\u001b[0m\u001b]8;id=695410;file:///home/ngardn10/projects/cuticulus/cuticulus/mlutils/torch.py#63\u001b\\\u001b[2m63\u001b[0m\u001b]8;;\u001b\\\n"
      ]
     },
     "metadata": {},
     "output_type": "display_data"
    },
    {
     "data": {
      "text/html": [
       "<pre style=\"white-space:pre;overflow-x:auto;line-height:normal;font-family:Menlo,'DejaVu Sans Mono',consolas,'Courier New',monospace\"><span style=\"color: #7fbfbf; text-decoration-color: #7fbfbf\">           </span>----------                                                             <a href=\"file:///home/ngardn10/projects/cuticulus/cuticulus/mlutils/torch.py\"><span style=\"color: #7f7f7f; text-decoration-color: #7f7f7f\">torch.py</span></a><span style=\"color: #7f7f7f; text-decoration-color: #7f7f7f\">:</span><a href=\"file:///home/ngardn10/projects/cuticulus/cuticulus/mlutils/torch.py#64\"><span style=\"color: #7f7f7f; text-decoration-color: #7f7f7f\">64</span></a>\n",
       "</pre>\n"
      ],
      "text/plain": [
       "\u001b[2;36m          \u001b[0m\u001b[2;36m \u001b[0m----------                                                             \u001b]8;id=461258;file:///home/ngardn10/projects/cuticulus/cuticulus/mlutils/torch.py\u001b\\\u001b[2mtorch.py\u001b[0m\u001b]8;;\u001b\\\u001b[2m:\u001b[0m\u001b]8;id=904273;file:///home/ngardn10/projects/cuticulus/cuticulus/mlutils/torch.py#64\u001b\\\u001b[2m64\u001b[0m\u001b]8;;\u001b\\\n"
      ]
     },
     "metadata": {},
     "output_type": "display_data"
    },
    {
     "data": {
      "text/html": [
       "<pre style=\"white-space:pre;overflow-x:auto;line-height:normal;font-family:Menlo,'DejaVu Sans Mono',consolas,'Courier New',monospace\"><span style=\"color: #7fbfbf; text-decoration-color: #7fbfbf\">[14:42:54] </span>train Loss: <span style=\"color: #008080; text-decoration-color: #008080; font-weight: bold\">0.0020</span> Acc: <span style=\"color: #008080; text-decoration-color: #008080; font-weight: bold\">0.9995</span>                                        <a href=\"file:///home/ngardn10/projects/cuticulus/cuticulus/mlutils/torch.py\"><span style=\"color: #7f7f7f; text-decoration-color: #7f7f7f\">torch.py</span></a><span style=\"color: #7f7f7f; text-decoration-color: #7f7f7f\">:</span><a href=\"file:///home/ngardn10/projects/cuticulus/cuticulus/mlutils/torch.py#109\"><span style=\"color: #7f7f7f; text-decoration-color: #7f7f7f\">109</span></a>\n",
       "</pre>\n"
      ],
      "text/plain": [
       "\u001b[2;36m[14:42:54]\u001b[0m\u001b[2;36m \u001b[0mtrain Loss: \u001b[1;36m0.0020\u001b[0m Acc: \u001b[1;36m0.9995\u001b[0m                                        \u001b]8;id=448376;file:///home/ngardn10/projects/cuticulus/cuticulus/mlutils/torch.py\u001b\\\u001b[2mtorch.py\u001b[0m\u001b]8;;\u001b\\\u001b[2m:\u001b[0m\u001b]8;id=646898;file:///home/ngardn10/projects/cuticulus/cuticulus/mlutils/torch.py#109\u001b\\\u001b[2m109\u001b[0m\u001b]8;;\u001b\\\n"
      ]
     },
     "metadata": {},
     "output_type": "display_data"
    },
    {
     "data": {
      "text/html": [
       "<pre style=\"white-space:pre;overflow-x:auto;line-height:normal;font-family:Menlo,'DejaVu Sans Mono',consolas,'Courier New',monospace\"><span style=\"color: #7fbfbf; text-decoration-color: #7fbfbf\">           </span>val Loss: <span style=\"color: #008080; text-decoration-color: #008080; font-weight: bold\">1.2639</span> Acc: <span style=\"color: #008080; text-decoration-color: #008080; font-weight: bold\">0.7911</span>                                          <a href=\"file:///home/ngardn10/projects/cuticulus/cuticulus/mlutils/torch.py\"><span style=\"color: #7f7f7f; text-decoration-color: #7f7f7f\">torch.py</span></a><span style=\"color: #7f7f7f; text-decoration-color: #7f7f7f\">:</span><a href=\"file:///home/ngardn10/projects/cuticulus/cuticulus/mlutils/torch.py#109\"><span style=\"color: #7f7f7f; text-decoration-color: #7f7f7f\">109</span></a>\n",
       "</pre>\n"
      ],
      "text/plain": [
       "\u001b[2;36m          \u001b[0m\u001b[2;36m \u001b[0mval Loss: \u001b[1;36m1.2639\u001b[0m Acc: \u001b[1;36m0.7911\u001b[0m                                          \u001b]8;id=790852;file:///home/ngardn10/projects/cuticulus/cuticulus/mlutils/torch.py\u001b\\\u001b[2mtorch.py\u001b[0m\u001b]8;;\u001b\\\u001b[2m:\u001b[0m\u001b]8;id=194779;file:///home/ngardn10/projects/cuticulus/cuticulus/mlutils/torch.py#109\u001b\\\u001b[2m109\u001b[0m\u001b]8;;\u001b\\\n"
      ]
     },
     "metadata": {},
     "output_type": "display_data"
    },
    {
     "data": {
      "text/html": [
       "<pre style=\"white-space:pre;overflow-x:auto;line-height:normal;font-family:Menlo,'DejaVu Sans Mono',consolas,'Courier New',monospace\"><span style=\"color: #7fbfbf; text-decoration-color: #7fbfbf\">           </span>Epoch <span style=\"color: #008080; text-decoration-color: #008080; font-weight: bold\">92</span>/<span style=\"color: #008080; text-decoration-color: #008080; font-weight: bold\">99</span>                                                            <a href=\"file:///home/ngardn10/projects/cuticulus/cuticulus/mlutils/torch.py\"><span style=\"color: #7f7f7f; text-decoration-color: #7f7f7f\">torch.py</span></a><span style=\"color: #7f7f7f; text-decoration-color: #7f7f7f\">:</span><a href=\"file:///home/ngardn10/projects/cuticulus/cuticulus/mlutils/torch.py#63\"><span style=\"color: #7f7f7f; text-decoration-color: #7f7f7f\">63</span></a>\n",
       "</pre>\n"
      ],
      "text/plain": [
       "\u001b[2;36m          \u001b[0m\u001b[2;36m \u001b[0mEpoch \u001b[1;36m92\u001b[0m/\u001b[1;36m99\u001b[0m                                                            \u001b]8;id=181094;file:///home/ngardn10/projects/cuticulus/cuticulus/mlutils/torch.py\u001b\\\u001b[2mtorch.py\u001b[0m\u001b]8;;\u001b\\\u001b[2m:\u001b[0m\u001b]8;id=683890;file:///home/ngardn10/projects/cuticulus/cuticulus/mlutils/torch.py#63\u001b\\\u001b[2m63\u001b[0m\u001b]8;;\u001b\\\n"
      ]
     },
     "metadata": {},
     "output_type": "display_data"
    },
    {
     "data": {
      "text/html": [
       "<pre style=\"white-space:pre;overflow-x:auto;line-height:normal;font-family:Menlo,'DejaVu Sans Mono',consolas,'Courier New',monospace\"><span style=\"color: #7fbfbf; text-decoration-color: #7fbfbf\">           </span>----------                                                             <a href=\"file:///home/ngardn10/projects/cuticulus/cuticulus/mlutils/torch.py\"><span style=\"color: #7f7f7f; text-decoration-color: #7f7f7f\">torch.py</span></a><span style=\"color: #7f7f7f; text-decoration-color: #7f7f7f\">:</span><a href=\"file:///home/ngardn10/projects/cuticulus/cuticulus/mlutils/torch.py#64\"><span style=\"color: #7f7f7f; text-decoration-color: #7f7f7f\">64</span></a>\n",
       "</pre>\n"
      ],
      "text/plain": [
       "\u001b[2;36m          \u001b[0m\u001b[2;36m \u001b[0m----------                                                             \u001b]8;id=133151;file:///home/ngardn10/projects/cuticulus/cuticulus/mlutils/torch.py\u001b\\\u001b[2mtorch.py\u001b[0m\u001b]8;;\u001b\\\u001b[2m:\u001b[0m\u001b]8;id=118540;file:///home/ngardn10/projects/cuticulus/cuticulus/mlutils/torch.py#64\u001b\\\u001b[2m64\u001b[0m\u001b]8;;\u001b\\\n"
      ]
     },
     "metadata": {},
     "output_type": "display_data"
    },
    {
     "data": {
      "text/html": [
       "<pre style=\"white-space:pre;overflow-x:auto;line-height:normal;font-family:Menlo,'DejaVu Sans Mono',consolas,'Courier New',monospace\"><span style=\"color: #7fbfbf; text-decoration-color: #7fbfbf\">[14:42:56] </span>train Loss: <span style=\"color: #008080; text-decoration-color: #008080; font-weight: bold\">0.0032</span> Acc: <span style=\"color: #008080; text-decoration-color: #008080; font-weight: bold\">0.9985</span>                                        <a href=\"file:///home/ngardn10/projects/cuticulus/cuticulus/mlutils/torch.py\"><span style=\"color: #7f7f7f; text-decoration-color: #7f7f7f\">torch.py</span></a><span style=\"color: #7f7f7f; text-decoration-color: #7f7f7f\">:</span><a href=\"file:///home/ngardn10/projects/cuticulus/cuticulus/mlutils/torch.py#109\"><span style=\"color: #7f7f7f; text-decoration-color: #7f7f7f\">109</span></a>\n",
       "</pre>\n"
      ],
      "text/plain": [
       "\u001b[2;36m[14:42:56]\u001b[0m\u001b[2;36m \u001b[0mtrain Loss: \u001b[1;36m0.0032\u001b[0m Acc: \u001b[1;36m0.9985\u001b[0m                                        \u001b]8;id=796099;file:///home/ngardn10/projects/cuticulus/cuticulus/mlutils/torch.py\u001b\\\u001b[2mtorch.py\u001b[0m\u001b]8;;\u001b\\\u001b[2m:\u001b[0m\u001b]8;id=819604;file:///home/ngardn10/projects/cuticulus/cuticulus/mlutils/torch.py#109\u001b\\\u001b[2m109\u001b[0m\u001b]8;;\u001b\\\n"
      ]
     },
     "metadata": {},
     "output_type": "display_data"
    },
    {
     "data": {
      "text/html": [
       "<pre style=\"white-space:pre;overflow-x:auto;line-height:normal;font-family:Menlo,'DejaVu Sans Mono',consolas,'Courier New',monospace\"><span style=\"color: #7fbfbf; text-decoration-color: #7fbfbf\">           </span>val Loss: <span style=\"color: #008080; text-decoration-color: #008080; font-weight: bold\">1.2243</span> Acc: <span style=\"color: #008080; text-decoration-color: #008080; font-weight: bold\">0.7911</span>                                          <a href=\"file:///home/ngardn10/projects/cuticulus/cuticulus/mlutils/torch.py\"><span style=\"color: #7f7f7f; text-decoration-color: #7f7f7f\">torch.py</span></a><span style=\"color: #7f7f7f; text-decoration-color: #7f7f7f\">:</span><a href=\"file:///home/ngardn10/projects/cuticulus/cuticulus/mlutils/torch.py#109\"><span style=\"color: #7f7f7f; text-decoration-color: #7f7f7f\">109</span></a>\n",
       "</pre>\n"
      ],
      "text/plain": [
       "\u001b[2;36m          \u001b[0m\u001b[2;36m \u001b[0mval Loss: \u001b[1;36m1.2243\u001b[0m Acc: \u001b[1;36m0.7911\u001b[0m                                          \u001b]8;id=485330;file:///home/ngardn10/projects/cuticulus/cuticulus/mlutils/torch.py\u001b\\\u001b[2mtorch.py\u001b[0m\u001b]8;;\u001b\\\u001b[2m:\u001b[0m\u001b]8;id=13987;file:///home/ngardn10/projects/cuticulus/cuticulus/mlutils/torch.py#109\u001b\\\u001b[2m109\u001b[0m\u001b]8;;\u001b\\\n"
      ]
     },
     "metadata": {},
     "output_type": "display_data"
    },
    {
     "data": {
      "text/html": [
       "<pre style=\"white-space:pre;overflow-x:auto;line-height:normal;font-family:Menlo,'DejaVu Sans Mono',consolas,'Courier New',monospace\"><span style=\"color: #7fbfbf; text-decoration-color: #7fbfbf\">           </span>Epoch <span style=\"color: #008080; text-decoration-color: #008080; font-weight: bold\">93</span>/<span style=\"color: #008080; text-decoration-color: #008080; font-weight: bold\">99</span>                                                            <a href=\"file:///home/ngardn10/projects/cuticulus/cuticulus/mlutils/torch.py\"><span style=\"color: #7f7f7f; text-decoration-color: #7f7f7f\">torch.py</span></a><span style=\"color: #7f7f7f; text-decoration-color: #7f7f7f\">:</span><a href=\"file:///home/ngardn10/projects/cuticulus/cuticulus/mlutils/torch.py#63\"><span style=\"color: #7f7f7f; text-decoration-color: #7f7f7f\">63</span></a>\n",
       "</pre>\n"
      ],
      "text/plain": [
       "\u001b[2;36m          \u001b[0m\u001b[2;36m \u001b[0mEpoch \u001b[1;36m93\u001b[0m/\u001b[1;36m99\u001b[0m                                                            \u001b]8;id=682106;file:///home/ngardn10/projects/cuticulus/cuticulus/mlutils/torch.py\u001b\\\u001b[2mtorch.py\u001b[0m\u001b]8;;\u001b\\\u001b[2m:\u001b[0m\u001b]8;id=790621;file:///home/ngardn10/projects/cuticulus/cuticulus/mlutils/torch.py#63\u001b\\\u001b[2m63\u001b[0m\u001b]8;;\u001b\\\n"
      ]
     },
     "metadata": {},
     "output_type": "display_data"
    },
    {
     "data": {
      "text/html": [
       "<pre style=\"white-space:pre;overflow-x:auto;line-height:normal;font-family:Menlo,'DejaVu Sans Mono',consolas,'Courier New',monospace\"><span style=\"color: #7fbfbf; text-decoration-color: #7fbfbf\">           </span>----------                                                             <a href=\"file:///home/ngardn10/projects/cuticulus/cuticulus/mlutils/torch.py\"><span style=\"color: #7f7f7f; text-decoration-color: #7f7f7f\">torch.py</span></a><span style=\"color: #7f7f7f; text-decoration-color: #7f7f7f\">:</span><a href=\"file:///home/ngardn10/projects/cuticulus/cuticulus/mlutils/torch.py#64\"><span style=\"color: #7f7f7f; text-decoration-color: #7f7f7f\">64</span></a>\n",
       "</pre>\n"
      ],
      "text/plain": [
       "\u001b[2;36m          \u001b[0m\u001b[2;36m \u001b[0m----------                                                             \u001b]8;id=140112;file:///home/ngardn10/projects/cuticulus/cuticulus/mlutils/torch.py\u001b\\\u001b[2mtorch.py\u001b[0m\u001b]8;;\u001b\\\u001b[2m:\u001b[0m\u001b]8;id=257803;file:///home/ngardn10/projects/cuticulus/cuticulus/mlutils/torch.py#64\u001b\\\u001b[2m64\u001b[0m\u001b]8;;\u001b\\\n"
      ]
     },
     "metadata": {},
     "output_type": "display_data"
    },
    {
     "data": {
      "text/html": [
       "<pre style=\"white-space:pre;overflow-x:auto;line-height:normal;font-family:Menlo,'DejaVu Sans Mono',consolas,'Courier New',monospace\"><span style=\"color: #7fbfbf; text-decoration-color: #7fbfbf\">[14:42:58] </span>train Loss: <span style=\"color: #008080; text-decoration-color: #008080; font-weight: bold\">0.0010</span> Acc: <span style=\"color: #008080; text-decoration-color: #008080; font-weight: bold\">0.9995</span>                                        <a href=\"file:///home/ngardn10/projects/cuticulus/cuticulus/mlutils/torch.py\"><span style=\"color: #7f7f7f; text-decoration-color: #7f7f7f\">torch.py</span></a><span style=\"color: #7f7f7f; text-decoration-color: #7f7f7f\">:</span><a href=\"file:///home/ngardn10/projects/cuticulus/cuticulus/mlutils/torch.py#109\"><span style=\"color: #7f7f7f; text-decoration-color: #7f7f7f\">109</span></a>\n",
       "</pre>\n"
      ],
      "text/plain": [
       "\u001b[2;36m[14:42:58]\u001b[0m\u001b[2;36m \u001b[0mtrain Loss: \u001b[1;36m0.0010\u001b[0m Acc: \u001b[1;36m0.9995\u001b[0m                                        \u001b]8;id=982088;file:///home/ngardn10/projects/cuticulus/cuticulus/mlutils/torch.py\u001b\\\u001b[2mtorch.py\u001b[0m\u001b]8;;\u001b\\\u001b[2m:\u001b[0m\u001b]8;id=394686;file:///home/ngardn10/projects/cuticulus/cuticulus/mlutils/torch.py#109\u001b\\\u001b[2m109\u001b[0m\u001b]8;;\u001b\\\n"
      ]
     },
     "metadata": {},
     "output_type": "display_data"
    },
    {
     "data": {
      "text/html": [
       "<pre style=\"white-space:pre;overflow-x:auto;line-height:normal;font-family:Menlo,'DejaVu Sans Mono',consolas,'Courier New',monospace\"><span style=\"color: #7fbfbf; text-decoration-color: #7fbfbf\">           </span>val Loss: <span style=\"color: #008080; text-decoration-color: #008080; font-weight: bold\">1.1913</span> Acc: <span style=\"color: #008080; text-decoration-color: #008080; font-weight: bold\">0.7885</span>                                          <a href=\"file:///home/ngardn10/projects/cuticulus/cuticulus/mlutils/torch.py\"><span style=\"color: #7f7f7f; text-decoration-color: #7f7f7f\">torch.py</span></a><span style=\"color: #7f7f7f; text-decoration-color: #7f7f7f\">:</span><a href=\"file:///home/ngardn10/projects/cuticulus/cuticulus/mlutils/torch.py#109\"><span style=\"color: #7f7f7f; text-decoration-color: #7f7f7f\">109</span></a>\n",
       "</pre>\n"
      ],
      "text/plain": [
       "\u001b[2;36m          \u001b[0m\u001b[2;36m \u001b[0mval Loss: \u001b[1;36m1.1913\u001b[0m Acc: \u001b[1;36m0.7885\u001b[0m                                          \u001b]8;id=832337;file:///home/ngardn10/projects/cuticulus/cuticulus/mlutils/torch.py\u001b\\\u001b[2mtorch.py\u001b[0m\u001b]8;;\u001b\\\u001b[2m:\u001b[0m\u001b]8;id=261546;file:///home/ngardn10/projects/cuticulus/cuticulus/mlutils/torch.py#109\u001b\\\u001b[2m109\u001b[0m\u001b]8;;\u001b\\\n"
      ]
     },
     "metadata": {},
     "output_type": "display_data"
    },
    {
     "data": {
      "text/html": [
       "<pre style=\"white-space:pre;overflow-x:auto;line-height:normal;font-family:Menlo,'DejaVu Sans Mono',consolas,'Courier New',monospace\"><span style=\"color: #7fbfbf; text-decoration-color: #7fbfbf\">           </span>Epoch <span style=\"color: #008080; text-decoration-color: #008080; font-weight: bold\">94</span>/<span style=\"color: #008080; text-decoration-color: #008080; font-weight: bold\">99</span>                                                            <a href=\"file:///home/ngardn10/projects/cuticulus/cuticulus/mlutils/torch.py\"><span style=\"color: #7f7f7f; text-decoration-color: #7f7f7f\">torch.py</span></a><span style=\"color: #7f7f7f; text-decoration-color: #7f7f7f\">:</span><a href=\"file:///home/ngardn10/projects/cuticulus/cuticulus/mlutils/torch.py#63\"><span style=\"color: #7f7f7f; text-decoration-color: #7f7f7f\">63</span></a>\n",
       "</pre>\n"
      ],
      "text/plain": [
       "\u001b[2;36m          \u001b[0m\u001b[2;36m \u001b[0mEpoch \u001b[1;36m94\u001b[0m/\u001b[1;36m99\u001b[0m                                                            \u001b]8;id=171490;file:///home/ngardn10/projects/cuticulus/cuticulus/mlutils/torch.py\u001b\\\u001b[2mtorch.py\u001b[0m\u001b]8;;\u001b\\\u001b[2m:\u001b[0m\u001b]8;id=986849;file:///home/ngardn10/projects/cuticulus/cuticulus/mlutils/torch.py#63\u001b\\\u001b[2m63\u001b[0m\u001b]8;;\u001b\\\n"
      ]
     },
     "metadata": {},
     "output_type": "display_data"
    },
    {
     "data": {
      "text/html": [
       "<pre style=\"white-space:pre;overflow-x:auto;line-height:normal;font-family:Menlo,'DejaVu Sans Mono',consolas,'Courier New',monospace\"><span style=\"color: #7fbfbf; text-decoration-color: #7fbfbf\">           </span>----------                                                             <a href=\"file:///home/ngardn10/projects/cuticulus/cuticulus/mlutils/torch.py\"><span style=\"color: #7f7f7f; text-decoration-color: #7f7f7f\">torch.py</span></a><span style=\"color: #7f7f7f; text-decoration-color: #7f7f7f\">:</span><a href=\"file:///home/ngardn10/projects/cuticulus/cuticulus/mlutils/torch.py#64\"><span style=\"color: #7f7f7f; text-decoration-color: #7f7f7f\">64</span></a>\n",
       "</pre>\n"
      ],
      "text/plain": [
       "\u001b[2;36m          \u001b[0m\u001b[2;36m \u001b[0m----------                                                             \u001b]8;id=765737;file:///home/ngardn10/projects/cuticulus/cuticulus/mlutils/torch.py\u001b\\\u001b[2mtorch.py\u001b[0m\u001b]8;;\u001b\\\u001b[2m:\u001b[0m\u001b]8;id=534688;file:///home/ngardn10/projects/cuticulus/cuticulus/mlutils/torch.py#64\u001b\\\u001b[2m64\u001b[0m\u001b]8;;\u001b\\\n"
      ]
     },
     "metadata": {},
     "output_type": "display_data"
    },
    {
     "data": {
      "text/html": [
       "<pre style=\"white-space:pre;overflow-x:auto;line-height:normal;font-family:Menlo,'DejaVu Sans Mono',consolas,'Courier New',monospace\"><span style=\"color: #7fbfbf; text-decoration-color: #7fbfbf\">[14:43:00] </span>train Loss: <span style=\"color: #008080; text-decoration-color: #008080; font-weight: bold\">0.0621</span> Acc: <span style=\"color: #008080; text-decoration-color: #008080; font-weight: bold\">0.9855</span>                                        <a href=\"file:///home/ngardn10/projects/cuticulus/cuticulus/mlutils/torch.py\"><span style=\"color: #7f7f7f; text-decoration-color: #7f7f7f\">torch.py</span></a><span style=\"color: #7f7f7f; text-decoration-color: #7f7f7f\">:</span><a href=\"file:///home/ngardn10/projects/cuticulus/cuticulus/mlutils/torch.py#109\"><span style=\"color: #7f7f7f; text-decoration-color: #7f7f7f\">109</span></a>\n",
       "</pre>\n"
      ],
      "text/plain": [
       "\u001b[2;36m[14:43:00]\u001b[0m\u001b[2;36m \u001b[0mtrain Loss: \u001b[1;36m0.0621\u001b[0m Acc: \u001b[1;36m0.9855\u001b[0m                                        \u001b]8;id=61647;file:///home/ngardn10/projects/cuticulus/cuticulus/mlutils/torch.py\u001b\\\u001b[2mtorch.py\u001b[0m\u001b]8;;\u001b\\\u001b[2m:\u001b[0m\u001b]8;id=446396;file:///home/ngardn10/projects/cuticulus/cuticulus/mlutils/torch.py#109\u001b\\\u001b[2m109\u001b[0m\u001b]8;;\u001b\\\n"
      ]
     },
     "metadata": {},
     "output_type": "display_data"
    },
    {
     "data": {
      "text/html": [
       "<pre style=\"white-space:pre;overflow-x:auto;line-height:normal;font-family:Menlo,'DejaVu Sans Mono',consolas,'Courier New',monospace\"><span style=\"color: #7fbfbf; text-decoration-color: #7fbfbf\">           </span>val Loss: <span style=\"color: #008080; text-decoration-color: #008080; font-weight: bold\">1.3467</span> Acc: <span style=\"color: #008080; text-decoration-color: #008080; font-weight: bold\">0.7689</span>                                          <a href=\"file:///home/ngardn10/projects/cuticulus/cuticulus/mlutils/torch.py\"><span style=\"color: #7f7f7f; text-decoration-color: #7f7f7f\">torch.py</span></a><span style=\"color: #7f7f7f; text-decoration-color: #7f7f7f\">:</span><a href=\"file:///home/ngardn10/projects/cuticulus/cuticulus/mlutils/torch.py#109\"><span style=\"color: #7f7f7f; text-decoration-color: #7f7f7f\">109</span></a>\n",
       "</pre>\n"
      ],
      "text/plain": [
       "\u001b[2;36m          \u001b[0m\u001b[2;36m \u001b[0mval Loss: \u001b[1;36m1.3467\u001b[0m Acc: \u001b[1;36m0.7689\u001b[0m                                          \u001b]8;id=164640;file:///home/ngardn10/projects/cuticulus/cuticulus/mlutils/torch.py\u001b\\\u001b[2mtorch.py\u001b[0m\u001b]8;;\u001b\\\u001b[2m:\u001b[0m\u001b]8;id=94317;file:///home/ngardn10/projects/cuticulus/cuticulus/mlutils/torch.py#109\u001b\\\u001b[2m109\u001b[0m\u001b]8;;\u001b\\\n"
      ]
     },
     "metadata": {},
     "output_type": "display_data"
    },
    {
     "data": {
      "text/html": [
       "<pre style=\"white-space:pre;overflow-x:auto;line-height:normal;font-family:Menlo,'DejaVu Sans Mono',consolas,'Courier New',monospace\"><span style=\"color: #7fbfbf; text-decoration-color: #7fbfbf\">           </span>Epoch <span style=\"color: #008080; text-decoration-color: #008080; font-weight: bold\">95</span>/<span style=\"color: #008080; text-decoration-color: #008080; font-weight: bold\">99</span>                                                            <a href=\"file:///home/ngardn10/projects/cuticulus/cuticulus/mlutils/torch.py\"><span style=\"color: #7f7f7f; text-decoration-color: #7f7f7f\">torch.py</span></a><span style=\"color: #7f7f7f; text-decoration-color: #7f7f7f\">:</span><a href=\"file:///home/ngardn10/projects/cuticulus/cuticulus/mlutils/torch.py#63\"><span style=\"color: #7f7f7f; text-decoration-color: #7f7f7f\">63</span></a>\n",
       "</pre>\n"
      ],
      "text/plain": [
       "\u001b[2;36m          \u001b[0m\u001b[2;36m \u001b[0mEpoch \u001b[1;36m95\u001b[0m/\u001b[1;36m99\u001b[0m                                                            \u001b]8;id=523224;file:///home/ngardn10/projects/cuticulus/cuticulus/mlutils/torch.py\u001b\\\u001b[2mtorch.py\u001b[0m\u001b]8;;\u001b\\\u001b[2m:\u001b[0m\u001b]8;id=246891;file:///home/ngardn10/projects/cuticulus/cuticulus/mlutils/torch.py#63\u001b\\\u001b[2m63\u001b[0m\u001b]8;;\u001b\\\n"
      ]
     },
     "metadata": {},
     "output_type": "display_data"
    },
    {
     "data": {
      "text/html": [
       "<pre style=\"white-space:pre;overflow-x:auto;line-height:normal;font-family:Menlo,'DejaVu Sans Mono',consolas,'Courier New',monospace\"><span style=\"color: #7fbfbf; text-decoration-color: #7fbfbf\">           </span>----------                                                             <a href=\"file:///home/ngardn10/projects/cuticulus/cuticulus/mlutils/torch.py\"><span style=\"color: #7f7f7f; text-decoration-color: #7f7f7f\">torch.py</span></a><span style=\"color: #7f7f7f; text-decoration-color: #7f7f7f\">:</span><a href=\"file:///home/ngardn10/projects/cuticulus/cuticulus/mlutils/torch.py#64\"><span style=\"color: #7f7f7f; text-decoration-color: #7f7f7f\">64</span></a>\n",
       "</pre>\n"
      ],
      "text/plain": [
       "\u001b[2;36m          \u001b[0m\u001b[2;36m \u001b[0m----------                                                             \u001b]8;id=854217;file:///home/ngardn10/projects/cuticulus/cuticulus/mlutils/torch.py\u001b\\\u001b[2mtorch.py\u001b[0m\u001b]8;;\u001b\\\u001b[2m:\u001b[0m\u001b]8;id=762800;file:///home/ngardn10/projects/cuticulus/cuticulus/mlutils/torch.py#64\u001b\\\u001b[2m64\u001b[0m\u001b]8;;\u001b\\\n"
      ]
     },
     "metadata": {},
     "output_type": "display_data"
    },
    {
     "data": {
      "text/html": [
       "<pre style=\"white-space:pre;overflow-x:auto;line-height:normal;font-family:Menlo,'DejaVu Sans Mono',consolas,'Courier New',monospace\"><span style=\"color: #7fbfbf; text-decoration-color: #7fbfbf\">[14:43:02] </span>train Loss: <span style=\"color: #008080; text-decoration-color: #008080; font-weight: bold\">0.0230</span> Acc: <span style=\"color: #008080; text-decoration-color: #008080; font-weight: bold\">0.9930</span>                                        <a href=\"file:///home/ngardn10/projects/cuticulus/cuticulus/mlutils/torch.py\"><span style=\"color: #7f7f7f; text-decoration-color: #7f7f7f\">torch.py</span></a><span style=\"color: #7f7f7f; text-decoration-color: #7f7f7f\">:</span><a href=\"file:///home/ngardn10/projects/cuticulus/cuticulus/mlutils/torch.py#109\"><span style=\"color: #7f7f7f; text-decoration-color: #7f7f7f\">109</span></a>\n",
       "</pre>\n"
      ],
      "text/plain": [
       "\u001b[2;36m[14:43:02]\u001b[0m\u001b[2;36m \u001b[0mtrain Loss: \u001b[1;36m0.0230\u001b[0m Acc: \u001b[1;36m0.9930\u001b[0m                                        \u001b]8;id=771971;file:///home/ngardn10/projects/cuticulus/cuticulus/mlutils/torch.py\u001b\\\u001b[2mtorch.py\u001b[0m\u001b]8;;\u001b\\\u001b[2m:\u001b[0m\u001b]8;id=370843;file:///home/ngardn10/projects/cuticulus/cuticulus/mlutils/torch.py#109\u001b\\\u001b[2m109\u001b[0m\u001b]8;;\u001b\\\n"
      ]
     },
     "metadata": {},
     "output_type": "display_data"
    },
    {
     "data": {
      "text/html": [
       "<pre style=\"white-space:pre;overflow-x:auto;line-height:normal;font-family:Menlo,'DejaVu Sans Mono',consolas,'Courier New',monospace\"><span style=\"color: #7fbfbf; text-decoration-color: #7fbfbf\">           </span>val Loss: <span style=\"color: #008080; text-decoration-color: #008080; font-weight: bold\">1.0009</span> Acc: <span style=\"color: #008080; text-decoration-color: #008080; font-weight: bold\">0.7768</span>                                          <a href=\"file:///home/ngardn10/projects/cuticulus/cuticulus/mlutils/torch.py\"><span style=\"color: #7f7f7f; text-decoration-color: #7f7f7f\">torch.py</span></a><span style=\"color: #7f7f7f; text-decoration-color: #7f7f7f\">:</span><a href=\"file:///home/ngardn10/projects/cuticulus/cuticulus/mlutils/torch.py#109\"><span style=\"color: #7f7f7f; text-decoration-color: #7f7f7f\">109</span></a>\n",
       "</pre>\n"
      ],
      "text/plain": [
       "\u001b[2;36m          \u001b[0m\u001b[2;36m \u001b[0mval Loss: \u001b[1;36m1.0009\u001b[0m Acc: \u001b[1;36m0.7768\u001b[0m                                          \u001b]8;id=852039;file:///home/ngardn10/projects/cuticulus/cuticulus/mlutils/torch.py\u001b\\\u001b[2mtorch.py\u001b[0m\u001b]8;;\u001b\\\u001b[2m:\u001b[0m\u001b]8;id=519728;file:///home/ngardn10/projects/cuticulus/cuticulus/mlutils/torch.py#109\u001b\\\u001b[2m109\u001b[0m\u001b]8;;\u001b\\\n"
      ]
     },
     "metadata": {},
     "output_type": "display_data"
    },
    {
     "data": {
      "text/html": [
       "<pre style=\"white-space:pre;overflow-x:auto;line-height:normal;font-family:Menlo,'DejaVu Sans Mono',consolas,'Courier New',monospace\"><span style=\"color: #7fbfbf; text-decoration-color: #7fbfbf\">           </span>Epoch <span style=\"color: #008080; text-decoration-color: #008080; font-weight: bold\">96</span>/<span style=\"color: #008080; text-decoration-color: #008080; font-weight: bold\">99</span>                                                            <a href=\"file:///home/ngardn10/projects/cuticulus/cuticulus/mlutils/torch.py\"><span style=\"color: #7f7f7f; text-decoration-color: #7f7f7f\">torch.py</span></a><span style=\"color: #7f7f7f; text-decoration-color: #7f7f7f\">:</span><a href=\"file:///home/ngardn10/projects/cuticulus/cuticulus/mlutils/torch.py#63\"><span style=\"color: #7f7f7f; text-decoration-color: #7f7f7f\">63</span></a>\n",
       "</pre>\n"
      ],
      "text/plain": [
       "\u001b[2;36m          \u001b[0m\u001b[2;36m \u001b[0mEpoch \u001b[1;36m96\u001b[0m/\u001b[1;36m99\u001b[0m                                                            \u001b]8;id=301242;file:///home/ngardn10/projects/cuticulus/cuticulus/mlutils/torch.py\u001b\\\u001b[2mtorch.py\u001b[0m\u001b]8;;\u001b\\\u001b[2m:\u001b[0m\u001b]8;id=610298;file:///home/ngardn10/projects/cuticulus/cuticulus/mlutils/torch.py#63\u001b\\\u001b[2m63\u001b[0m\u001b]8;;\u001b\\\n"
      ]
     },
     "metadata": {},
     "output_type": "display_data"
    },
    {
     "data": {
      "text/html": [
       "<pre style=\"white-space:pre;overflow-x:auto;line-height:normal;font-family:Menlo,'DejaVu Sans Mono',consolas,'Courier New',monospace\"><span style=\"color: #7fbfbf; text-decoration-color: #7fbfbf\">           </span>----------                                                             <a href=\"file:///home/ngardn10/projects/cuticulus/cuticulus/mlutils/torch.py\"><span style=\"color: #7f7f7f; text-decoration-color: #7f7f7f\">torch.py</span></a><span style=\"color: #7f7f7f; text-decoration-color: #7f7f7f\">:</span><a href=\"file:///home/ngardn10/projects/cuticulus/cuticulus/mlutils/torch.py#64\"><span style=\"color: #7f7f7f; text-decoration-color: #7f7f7f\">64</span></a>\n",
       "</pre>\n"
      ],
      "text/plain": [
       "\u001b[2;36m          \u001b[0m\u001b[2;36m \u001b[0m----------                                                             \u001b]8;id=13184;file:///home/ngardn10/projects/cuticulus/cuticulus/mlutils/torch.py\u001b\\\u001b[2mtorch.py\u001b[0m\u001b]8;;\u001b\\\u001b[2m:\u001b[0m\u001b]8;id=868730;file:///home/ngardn10/projects/cuticulus/cuticulus/mlutils/torch.py#64\u001b\\\u001b[2m64\u001b[0m\u001b]8;;\u001b\\\n"
      ]
     },
     "metadata": {},
     "output_type": "display_data"
    },
    {
     "data": {
      "text/html": [
       "<pre style=\"white-space:pre;overflow-x:auto;line-height:normal;font-family:Menlo,'DejaVu Sans Mono',consolas,'Courier New',monospace\"><span style=\"color: #7fbfbf; text-decoration-color: #7fbfbf\">[14:43:04] </span>train Loss: <span style=\"color: #008080; text-decoration-color: #008080; font-weight: bold\">0.0088</span> Acc: <span style=\"color: #008080; text-decoration-color: #008080; font-weight: bold\">0.9980</span>                                        <a href=\"file:///home/ngardn10/projects/cuticulus/cuticulus/mlutils/torch.py\"><span style=\"color: #7f7f7f; text-decoration-color: #7f7f7f\">torch.py</span></a><span style=\"color: #7f7f7f; text-decoration-color: #7f7f7f\">:</span><a href=\"file:///home/ngardn10/projects/cuticulus/cuticulus/mlutils/torch.py#109\"><span style=\"color: #7f7f7f; text-decoration-color: #7f7f7f\">109</span></a>\n",
       "</pre>\n"
      ],
      "text/plain": [
       "\u001b[2;36m[14:43:04]\u001b[0m\u001b[2;36m \u001b[0mtrain Loss: \u001b[1;36m0.0088\u001b[0m Acc: \u001b[1;36m0.9980\u001b[0m                                        \u001b]8;id=500373;file:///home/ngardn10/projects/cuticulus/cuticulus/mlutils/torch.py\u001b\\\u001b[2mtorch.py\u001b[0m\u001b]8;;\u001b\\\u001b[2m:\u001b[0m\u001b]8;id=848780;file:///home/ngardn10/projects/cuticulus/cuticulus/mlutils/torch.py#109\u001b\\\u001b[2m109\u001b[0m\u001b]8;;\u001b\\\n"
      ]
     },
     "metadata": {},
     "output_type": "display_data"
    },
    {
     "data": {
      "text/html": [
       "<pre style=\"white-space:pre;overflow-x:auto;line-height:normal;font-family:Menlo,'DejaVu Sans Mono',consolas,'Courier New',monospace\"><span style=\"color: #7fbfbf; text-decoration-color: #7fbfbf\">           </span>val Loss: <span style=\"color: #008080; text-decoration-color: #008080; font-weight: bold\">1.2661</span> Acc: <span style=\"color: #008080; text-decoration-color: #008080; font-weight: bold\">0.7807</span>                                          <a href=\"file:///home/ngardn10/projects/cuticulus/cuticulus/mlutils/torch.py\"><span style=\"color: #7f7f7f; text-decoration-color: #7f7f7f\">torch.py</span></a><span style=\"color: #7f7f7f; text-decoration-color: #7f7f7f\">:</span><a href=\"file:///home/ngardn10/projects/cuticulus/cuticulus/mlutils/torch.py#109\"><span style=\"color: #7f7f7f; text-decoration-color: #7f7f7f\">109</span></a>\n",
       "</pre>\n"
      ],
      "text/plain": [
       "\u001b[2;36m          \u001b[0m\u001b[2;36m \u001b[0mval Loss: \u001b[1;36m1.2661\u001b[0m Acc: \u001b[1;36m0.7807\u001b[0m                                          \u001b]8;id=645384;file:///home/ngardn10/projects/cuticulus/cuticulus/mlutils/torch.py\u001b\\\u001b[2mtorch.py\u001b[0m\u001b]8;;\u001b\\\u001b[2m:\u001b[0m\u001b]8;id=834645;file:///home/ngardn10/projects/cuticulus/cuticulus/mlutils/torch.py#109\u001b\\\u001b[2m109\u001b[0m\u001b]8;;\u001b\\\n"
      ]
     },
     "metadata": {},
     "output_type": "display_data"
    },
    {
     "data": {
      "text/html": [
       "<pre style=\"white-space:pre;overflow-x:auto;line-height:normal;font-family:Menlo,'DejaVu Sans Mono',consolas,'Courier New',monospace\"><span style=\"color: #7fbfbf; text-decoration-color: #7fbfbf\">           </span>Epoch <span style=\"color: #008080; text-decoration-color: #008080; font-weight: bold\">97</span>/<span style=\"color: #008080; text-decoration-color: #008080; font-weight: bold\">99</span>                                                            <a href=\"file:///home/ngardn10/projects/cuticulus/cuticulus/mlutils/torch.py\"><span style=\"color: #7f7f7f; text-decoration-color: #7f7f7f\">torch.py</span></a><span style=\"color: #7f7f7f; text-decoration-color: #7f7f7f\">:</span><a href=\"file:///home/ngardn10/projects/cuticulus/cuticulus/mlutils/torch.py#63\"><span style=\"color: #7f7f7f; text-decoration-color: #7f7f7f\">63</span></a>\n",
       "</pre>\n"
      ],
      "text/plain": [
       "\u001b[2;36m          \u001b[0m\u001b[2;36m \u001b[0mEpoch \u001b[1;36m97\u001b[0m/\u001b[1;36m99\u001b[0m                                                            \u001b]8;id=960437;file:///home/ngardn10/projects/cuticulus/cuticulus/mlutils/torch.py\u001b\\\u001b[2mtorch.py\u001b[0m\u001b]8;;\u001b\\\u001b[2m:\u001b[0m\u001b]8;id=399843;file:///home/ngardn10/projects/cuticulus/cuticulus/mlutils/torch.py#63\u001b\\\u001b[2m63\u001b[0m\u001b]8;;\u001b\\\n"
      ]
     },
     "metadata": {},
     "output_type": "display_data"
    },
    {
     "data": {
      "text/html": [
       "<pre style=\"white-space:pre;overflow-x:auto;line-height:normal;font-family:Menlo,'DejaVu Sans Mono',consolas,'Courier New',monospace\"><span style=\"color: #7fbfbf; text-decoration-color: #7fbfbf\">           </span>----------                                                             <a href=\"file:///home/ngardn10/projects/cuticulus/cuticulus/mlutils/torch.py\"><span style=\"color: #7f7f7f; text-decoration-color: #7f7f7f\">torch.py</span></a><span style=\"color: #7f7f7f; text-decoration-color: #7f7f7f\">:</span><a href=\"file:///home/ngardn10/projects/cuticulus/cuticulus/mlutils/torch.py#64\"><span style=\"color: #7f7f7f; text-decoration-color: #7f7f7f\">64</span></a>\n",
       "</pre>\n"
      ],
      "text/plain": [
       "\u001b[2;36m          \u001b[0m\u001b[2;36m \u001b[0m----------                                                             \u001b]8;id=662966;file:///home/ngardn10/projects/cuticulus/cuticulus/mlutils/torch.py\u001b\\\u001b[2mtorch.py\u001b[0m\u001b]8;;\u001b\\\u001b[2m:\u001b[0m\u001b]8;id=890893;file:///home/ngardn10/projects/cuticulus/cuticulus/mlutils/torch.py#64\u001b\\\u001b[2m64\u001b[0m\u001b]8;;\u001b\\\n"
      ]
     },
     "metadata": {},
     "output_type": "display_data"
    },
    {
     "data": {
      "text/html": [
       "<pre style=\"white-space:pre;overflow-x:auto;line-height:normal;font-family:Menlo,'DejaVu Sans Mono',consolas,'Courier New',monospace\"><span style=\"color: #7fbfbf; text-decoration-color: #7fbfbf\">[14:43:06] </span>train Loss: <span style=\"color: #008080; text-decoration-color: #008080; font-weight: bold\">0.0060</span> Acc: <span style=\"color: #008080; text-decoration-color: #008080; font-weight: bold\">0.9980</span>                                        <a href=\"file:///home/ngardn10/projects/cuticulus/cuticulus/mlutils/torch.py\"><span style=\"color: #7f7f7f; text-decoration-color: #7f7f7f\">torch.py</span></a><span style=\"color: #7f7f7f; text-decoration-color: #7f7f7f\">:</span><a href=\"file:///home/ngardn10/projects/cuticulus/cuticulus/mlutils/torch.py#109\"><span style=\"color: #7f7f7f; text-decoration-color: #7f7f7f\">109</span></a>\n",
       "</pre>\n"
      ],
      "text/plain": [
       "\u001b[2;36m[14:43:06]\u001b[0m\u001b[2;36m \u001b[0mtrain Loss: \u001b[1;36m0.0060\u001b[0m Acc: \u001b[1;36m0.9980\u001b[0m                                        \u001b]8;id=511915;file:///home/ngardn10/projects/cuticulus/cuticulus/mlutils/torch.py\u001b\\\u001b[2mtorch.py\u001b[0m\u001b]8;;\u001b\\\u001b[2m:\u001b[0m\u001b]8;id=210926;file:///home/ngardn10/projects/cuticulus/cuticulus/mlutils/torch.py#109\u001b\\\u001b[2m109\u001b[0m\u001b]8;;\u001b\\\n"
      ]
     },
     "metadata": {},
     "output_type": "display_data"
    },
    {
     "data": {
      "text/html": [
       "<pre style=\"white-space:pre;overflow-x:auto;line-height:normal;font-family:Menlo,'DejaVu Sans Mono',consolas,'Courier New',monospace\"><span style=\"color: #7fbfbf; text-decoration-color: #7fbfbf\">           </span>val Loss: <span style=\"color: #008080; text-decoration-color: #008080; font-weight: bold\">0.9972</span> Acc: <span style=\"color: #008080; text-decoration-color: #008080; font-weight: bold\">0.7924</span>                                          <a href=\"file:///home/ngardn10/projects/cuticulus/cuticulus/mlutils/torch.py\"><span style=\"color: #7f7f7f; text-decoration-color: #7f7f7f\">torch.py</span></a><span style=\"color: #7f7f7f; text-decoration-color: #7f7f7f\">:</span><a href=\"file:///home/ngardn10/projects/cuticulus/cuticulus/mlutils/torch.py#109\"><span style=\"color: #7f7f7f; text-decoration-color: #7f7f7f\">109</span></a>\n",
       "</pre>\n"
      ],
      "text/plain": [
       "\u001b[2;36m          \u001b[0m\u001b[2;36m \u001b[0mval Loss: \u001b[1;36m0.9972\u001b[0m Acc: \u001b[1;36m0.7924\u001b[0m                                          \u001b]8;id=176867;file:///home/ngardn10/projects/cuticulus/cuticulus/mlutils/torch.py\u001b\\\u001b[2mtorch.py\u001b[0m\u001b]8;;\u001b\\\u001b[2m:\u001b[0m\u001b]8;id=497248;file:///home/ngardn10/projects/cuticulus/cuticulus/mlutils/torch.py#109\u001b\\\u001b[2m109\u001b[0m\u001b]8;;\u001b\\\n"
      ]
     },
     "metadata": {},
     "output_type": "display_data"
    },
    {
     "data": {
      "text/html": [
       "<pre style=\"white-space:pre;overflow-x:auto;line-height:normal;font-family:Menlo,'DejaVu Sans Mono',consolas,'Courier New',monospace\"><span style=\"color: #7fbfbf; text-decoration-color: #7fbfbf\">           </span>Epoch <span style=\"color: #008080; text-decoration-color: #008080; font-weight: bold\">98</span>/<span style=\"color: #008080; text-decoration-color: #008080; font-weight: bold\">99</span>                                                            <a href=\"file:///home/ngardn10/projects/cuticulus/cuticulus/mlutils/torch.py\"><span style=\"color: #7f7f7f; text-decoration-color: #7f7f7f\">torch.py</span></a><span style=\"color: #7f7f7f; text-decoration-color: #7f7f7f\">:</span><a href=\"file:///home/ngardn10/projects/cuticulus/cuticulus/mlutils/torch.py#63\"><span style=\"color: #7f7f7f; text-decoration-color: #7f7f7f\">63</span></a>\n",
       "</pre>\n"
      ],
      "text/plain": [
       "\u001b[2;36m          \u001b[0m\u001b[2;36m \u001b[0mEpoch \u001b[1;36m98\u001b[0m/\u001b[1;36m99\u001b[0m                                                            \u001b]8;id=584220;file:///home/ngardn10/projects/cuticulus/cuticulus/mlutils/torch.py\u001b\\\u001b[2mtorch.py\u001b[0m\u001b]8;;\u001b\\\u001b[2m:\u001b[0m\u001b]8;id=796131;file:///home/ngardn10/projects/cuticulus/cuticulus/mlutils/torch.py#63\u001b\\\u001b[2m63\u001b[0m\u001b]8;;\u001b\\\n"
      ]
     },
     "metadata": {},
     "output_type": "display_data"
    },
    {
     "data": {
      "text/html": [
       "<pre style=\"white-space:pre;overflow-x:auto;line-height:normal;font-family:Menlo,'DejaVu Sans Mono',consolas,'Courier New',monospace\"><span style=\"color: #7fbfbf; text-decoration-color: #7fbfbf\">           </span>----------                                                             <a href=\"file:///home/ngardn10/projects/cuticulus/cuticulus/mlutils/torch.py\"><span style=\"color: #7f7f7f; text-decoration-color: #7f7f7f\">torch.py</span></a><span style=\"color: #7f7f7f; text-decoration-color: #7f7f7f\">:</span><a href=\"file:///home/ngardn10/projects/cuticulus/cuticulus/mlutils/torch.py#64\"><span style=\"color: #7f7f7f; text-decoration-color: #7f7f7f\">64</span></a>\n",
       "</pre>\n"
      ],
      "text/plain": [
       "\u001b[2;36m          \u001b[0m\u001b[2;36m \u001b[0m----------                                                             \u001b]8;id=307561;file:///home/ngardn10/projects/cuticulus/cuticulus/mlutils/torch.py\u001b\\\u001b[2mtorch.py\u001b[0m\u001b]8;;\u001b\\\u001b[2m:\u001b[0m\u001b]8;id=390025;file:///home/ngardn10/projects/cuticulus/cuticulus/mlutils/torch.py#64\u001b\\\u001b[2m64\u001b[0m\u001b]8;;\u001b\\\n"
      ]
     },
     "metadata": {},
     "output_type": "display_data"
    },
    {
     "data": {
      "text/html": [
       "<pre style=\"white-space:pre;overflow-x:auto;line-height:normal;font-family:Menlo,'DejaVu Sans Mono',consolas,'Courier New',monospace\"><span style=\"color: #7fbfbf; text-decoration-color: #7fbfbf\">[14:43:08] </span>train Loss: <span style=\"color: #008080; text-decoration-color: #008080; font-weight: bold\">0.0024</span> Acc: <span style=\"color: #008080; text-decoration-color: #008080; font-weight: bold\">0.9995</span>                                        <a href=\"file:///home/ngardn10/projects/cuticulus/cuticulus/mlutils/torch.py\"><span style=\"color: #7f7f7f; text-decoration-color: #7f7f7f\">torch.py</span></a><span style=\"color: #7f7f7f; text-decoration-color: #7f7f7f\">:</span><a href=\"file:///home/ngardn10/projects/cuticulus/cuticulus/mlutils/torch.py#109\"><span style=\"color: #7f7f7f; text-decoration-color: #7f7f7f\">109</span></a>\n",
       "</pre>\n"
      ],
      "text/plain": [
       "\u001b[2;36m[14:43:08]\u001b[0m\u001b[2;36m \u001b[0mtrain Loss: \u001b[1;36m0.0024\u001b[0m Acc: \u001b[1;36m0.9995\u001b[0m                                        \u001b]8;id=827401;file:///home/ngardn10/projects/cuticulus/cuticulus/mlutils/torch.py\u001b\\\u001b[2mtorch.py\u001b[0m\u001b]8;;\u001b\\\u001b[2m:\u001b[0m\u001b]8;id=526331;file:///home/ngardn10/projects/cuticulus/cuticulus/mlutils/torch.py#109\u001b\\\u001b[2m109\u001b[0m\u001b]8;;\u001b\\\n"
      ]
     },
     "metadata": {},
     "output_type": "display_data"
    },
    {
     "data": {
      "text/html": [
       "<pre style=\"white-space:pre;overflow-x:auto;line-height:normal;font-family:Menlo,'DejaVu Sans Mono',consolas,'Courier New',monospace\"><span style=\"color: #7fbfbf; text-decoration-color: #7fbfbf\">           </span>val Loss: <span style=\"color: #008080; text-decoration-color: #008080; font-weight: bold\">1.1230</span> Acc: <span style=\"color: #008080; text-decoration-color: #008080; font-weight: bold\">0.7794</span>                                          <a href=\"file:///home/ngardn10/projects/cuticulus/cuticulus/mlutils/torch.py\"><span style=\"color: #7f7f7f; text-decoration-color: #7f7f7f\">torch.py</span></a><span style=\"color: #7f7f7f; text-decoration-color: #7f7f7f\">:</span><a href=\"file:///home/ngardn10/projects/cuticulus/cuticulus/mlutils/torch.py#109\"><span style=\"color: #7f7f7f; text-decoration-color: #7f7f7f\">109</span></a>\n",
       "</pre>\n"
      ],
      "text/plain": [
       "\u001b[2;36m          \u001b[0m\u001b[2;36m \u001b[0mval Loss: \u001b[1;36m1.1230\u001b[0m Acc: \u001b[1;36m0.7794\u001b[0m                                          \u001b]8;id=350429;file:///home/ngardn10/projects/cuticulus/cuticulus/mlutils/torch.py\u001b\\\u001b[2mtorch.py\u001b[0m\u001b]8;;\u001b\\\u001b[2m:\u001b[0m\u001b]8;id=656934;file:///home/ngardn10/projects/cuticulus/cuticulus/mlutils/torch.py#109\u001b\\\u001b[2m109\u001b[0m\u001b]8;;\u001b\\\n"
      ]
     },
     "metadata": {},
     "output_type": "display_data"
    },
    {
     "data": {
      "text/html": [
       "<pre style=\"white-space:pre;overflow-x:auto;line-height:normal;font-family:Menlo,'DejaVu Sans Mono',consolas,'Courier New',monospace\"><span style=\"color: #7fbfbf; text-decoration-color: #7fbfbf\">           </span>Epoch <span style=\"color: #008080; text-decoration-color: #008080; font-weight: bold\">99</span>/<span style=\"color: #008080; text-decoration-color: #008080; font-weight: bold\">99</span>                                                            <a href=\"file:///home/ngardn10/projects/cuticulus/cuticulus/mlutils/torch.py\"><span style=\"color: #7f7f7f; text-decoration-color: #7f7f7f\">torch.py</span></a><span style=\"color: #7f7f7f; text-decoration-color: #7f7f7f\">:</span><a href=\"file:///home/ngardn10/projects/cuticulus/cuticulus/mlutils/torch.py#63\"><span style=\"color: #7f7f7f; text-decoration-color: #7f7f7f\">63</span></a>\n",
       "</pre>\n"
      ],
      "text/plain": [
       "\u001b[2;36m          \u001b[0m\u001b[2;36m \u001b[0mEpoch \u001b[1;36m99\u001b[0m/\u001b[1;36m99\u001b[0m                                                            \u001b]8;id=977279;file:///home/ngardn10/projects/cuticulus/cuticulus/mlutils/torch.py\u001b\\\u001b[2mtorch.py\u001b[0m\u001b]8;;\u001b\\\u001b[2m:\u001b[0m\u001b]8;id=584490;file:///home/ngardn10/projects/cuticulus/cuticulus/mlutils/torch.py#63\u001b\\\u001b[2m63\u001b[0m\u001b]8;;\u001b\\\n"
      ]
     },
     "metadata": {},
     "output_type": "display_data"
    },
    {
     "data": {
      "text/html": [
       "<pre style=\"white-space:pre;overflow-x:auto;line-height:normal;font-family:Menlo,'DejaVu Sans Mono',consolas,'Courier New',monospace\"><span style=\"color: #7fbfbf; text-decoration-color: #7fbfbf\">           </span>----------                                                             <a href=\"file:///home/ngardn10/projects/cuticulus/cuticulus/mlutils/torch.py\"><span style=\"color: #7f7f7f; text-decoration-color: #7f7f7f\">torch.py</span></a><span style=\"color: #7f7f7f; text-decoration-color: #7f7f7f\">:</span><a href=\"file:///home/ngardn10/projects/cuticulus/cuticulus/mlutils/torch.py#64\"><span style=\"color: #7f7f7f; text-decoration-color: #7f7f7f\">64</span></a>\n",
       "</pre>\n"
      ],
      "text/plain": [
       "\u001b[2;36m          \u001b[0m\u001b[2;36m \u001b[0m----------                                                             \u001b]8;id=906110;file:///home/ngardn10/projects/cuticulus/cuticulus/mlutils/torch.py\u001b\\\u001b[2mtorch.py\u001b[0m\u001b]8;;\u001b\\\u001b[2m:\u001b[0m\u001b]8;id=380470;file:///home/ngardn10/projects/cuticulus/cuticulus/mlutils/torch.py#64\u001b\\\u001b[2m64\u001b[0m\u001b]8;;\u001b\\\n"
      ]
     },
     "metadata": {},
     "output_type": "display_data"
    },
    {
     "data": {
      "text/html": [
       "<pre style=\"white-space:pre;overflow-x:auto;line-height:normal;font-family:Menlo,'DejaVu Sans Mono',consolas,'Courier New',monospace\"><span style=\"color: #7fbfbf; text-decoration-color: #7fbfbf\">[14:43:09] </span>train Loss: <span style=\"color: #008080; text-decoration-color: #008080; font-weight: bold\">0.0019</span> Acc: <span style=\"color: #008080; text-decoration-color: #008080; font-weight: bold\">0.9995</span>                                        <a href=\"file:///home/ngardn10/projects/cuticulus/cuticulus/mlutils/torch.py\"><span style=\"color: #7f7f7f; text-decoration-color: #7f7f7f\">torch.py</span></a><span style=\"color: #7f7f7f; text-decoration-color: #7f7f7f\">:</span><a href=\"file:///home/ngardn10/projects/cuticulus/cuticulus/mlutils/torch.py#109\"><span style=\"color: #7f7f7f; text-decoration-color: #7f7f7f\">109</span></a>\n",
       "</pre>\n"
      ],
      "text/plain": [
       "\u001b[2;36m[14:43:09]\u001b[0m\u001b[2;36m \u001b[0mtrain Loss: \u001b[1;36m0.0019\u001b[0m Acc: \u001b[1;36m0.9995\u001b[0m                                        \u001b]8;id=357996;file:///home/ngardn10/projects/cuticulus/cuticulus/mlutils/torch.py\u001b\\\u001b[2mtorch.py\u001b[0m\u001b]8;;\u001b\\\u001b[2m:\u001b[0m\u001b]8;id=103537;file:///home/ngardn10/projects/cuticulus/cuticulus/mlutils/torch.py#109\u001b\\\u001b[2m109\u001b[0m\u001b]8;;\u001b\\\n"
      ]
     },
     "metadata": {},
     "output_type": "display_data"
    },
    {
     "data": {
      "text/html": [
       "<pre style=\"white-space:pre;overflow-x:auto;line-height:normal;font-family:Menlo,'DejaVu Sans Mono',consolas,'Courier New',monospace\"><span style=\"color: #7fbfbf; text-decoration-color: #7fbfbf\">[14:43:10] </span>val Loss: <span style=\"color: #008080; text-decoration-color: #008080; font-weight: bold\">1.1169</span> Acc: <span style=\"color: #008080; text-decoration-color: #008080; font-weight: bold\">0.7885</span>                                          <a href=\"file:///home/ngardn10/projects/cuticulus/cuticulus/mlutils/torch.py\"><span style=\"color: #7f7f7f; text-decoration-color: #7f7f7f\">torch.py</span></a><span style=\"color: #7f7f7f; text-decoration-color: #7f7f7f\">:</span><a href=\"file:///home/ngardn10/projects/cuticulus/cuticulus/mlutils/torch.py#109\"><span style=\"color: #7f7f7f; text-decoration-color: #7f7f7f\">109</span></a>\n",
       "</pre>\n"
      ],
      "text/plain": [
       "\u001b[2;36m[14:43:10]\u001b[0m\u001b[2;36m \u001b[0mval Loss: \u001b[1;36m1.1169\u001b[0m Acc: \u001b[1;36m0.7885\u001b[0m                                          \u001b]8;id=731175;file:///home/ngardn10/projects/cuticulus/cuticulus/mlutils/torch.py\u001b\\\u001b[2mtorch.py\u001b[0m\u001b]8;;\u001b\\\u001b[2m:\u001b[0m\u001b]8;id=47572;file:///home/ngardn10/projects/cuticulus/cuticulus/mlutils/torch.py#109\u001b\\\u001b[2m109\u001b[0m\u001b]8;;\u001b\\\n"
      ]
     },
     "metadata": {},
     "output_type": "display_data"
    },
    {
     "data": {
      "text/html": [
       "<pre style=\"white-space:pre;overflow-x:auto;line-height:normal;font-family:Menlo,'DejaVu Sans Mono',consolas,'Courier New',monospace\"><span style=\"color: #7fbfbf; text-decoration-color: #7fbfbf\">           </span>Training complete in 3m 10s                                           <a href=\"file:///home/ngardn10/projects/cuticulus/cuticulus/mlutils/torch.py\"><span style=\"color: #7f7f7f; text-decoration-color: #7f7f7f\">torch.py</span></a><span style=\"color: #7f7f7f; text-decoration-color: #7f7f7f\">:</span><a href=\"file:///home/ngardn10/projects/cuticulus/cuticulus/mlutils/torch.py#128\"><span style=\"color: #7f7f7f; text-decoration-color: #7f7f7f\">128</span></a>\n",
       "</pre>\n"
      ],
      "text/plain": [
       "\u001b[2;36m          \u001b[0m\u001b[2;36m \u001b[0mTraining complete in 3m 10s                                           \u001b]8;id=89073;file:///home/ngardn10/projects/cuticulus/cuticulus/mlutils/torch.py\u001b\\\u001b[2mtorch.py\u001b[0m\u001b]8;;\u001b\\\u001b[2m:\u001b[0m\u001b]8;id=444330;file:///home/ngardn10/projects/cuticulus/cuticulus/mlutils/torch.py#128\u001b\\\u001b[2m128\u001b[0m\u001b]8;;\u001b\\\n"
      ]
     },
     "metadata": {},
     "output_type": "display_data"
    },
    {
     "data": {
      "text/html": [
       "<pre style=\"white-space:pre;overflow-x:auto;line-height:normal;font-family:Menlo,'DejaVu Sans Mono',consolas,'Courier New',monospace\"><span style=\"color: #7fbfbf; text-decoration-color: #7fbfbf\">           </span>Best val Acc: <span style=\"color: #008080; text-decoration-color: #008080; font-weight: bold\">0.814621</span>                                                <a href=\"file:///home/ngardn10/projects/cuticulus/cuticulus/mlutils/torch.py\"><span style=\"color: #7f7f7f; text-decoration-color: #7f7f7f\">torch.py</span></a><span style=\"color: #7f7f7f; text-decoration-color: #7f7f7f\">:</span><a href=\"file:///home/ngardn10/projects/cuticulus/cuticulus/mlutils/torch.py#132\"><span style=\"color: #7f7f7f; text-decoration-color: #7f7f7f\">132</span></a>\n",
       "</pre>\n"
      ],
      "text/plain": [
       "\u001b[2;36m          \u001b[0m\u001b[2;36m \u001b[0mBest val Acc: \u001b[1;36m0.814621\u001b[0m                                                \u001b]8;id=168128;file:///home/ngardn10/projects/cuticulus/cuticulus/mlutils/torch.py\u001b\\\u001b[2mtorch.py\u001b[0m\u001b]8;;\u001b\\\u001b[2m:\u001b[0m\u001b]8;id=911240;file:///home/ngardn10/projects/cuticulus/cuticulus/mlutils/torch.py#132\u001b\\\u001b[2m132\u001b[0m\u001b]8;;\u001b\\\n"
      ]
     },
     "metadata": {},
     "output_type": "display_data"
    }
   ],
   "source": [
    "model, hist = train_model(\n",
    "    model,\n",
    "    dataloaders={\n",
    "        \"train\": train_loader,\n",
    "        \"val\": val_loader\n",
    "    },\n",
    "    criterion=criterion,\n",
    "    optimizer=optimizer_ft,\n",
    "    num_epochs=100,\n",
    "    device=device,\n",
    ")"
   ]
  },
  {
   "cell_type": "code",
   "execution_count": 27,
   "metadata": {},
   "outputs": [],
   "source": [
    "train_acc = [hist['train_acc'][i].cpu().numpy() for i in range(len(hist['train_acc']))]\n",
    "train_loss = hist['train_loss']\n",
    "\n",
    "val_acc = [hist['val_acc'][i].cpu().numpy() for i in range(len(hist['val_acc']))]\n",
    "val_loss = hist['val_loss']"
   ]
  },
  {
   "cell_type": "code",
   "execution_count": 28,
   "metadata": {},
   "outputs": [
    {
     "data": {
      "image/png": "[encoded data removed]",
      "text/plain": [
       "<Figure size 432x288 with 1 Axes>"
      ]
     },
     "metadata": {},
     "output_type": "display_data"
    }
   ],
   "source": [
    "plt.plot(train_acc, label='train_acc')\n",
    "plt.plot(val_acc, label='val_acc')\n",
    "plt.xlabel('Epochs')\n",
    "plt.ylabel('Accuracy')\n",
    "plt.legend(loc='lower right')\n",
    "plt.ylim(0.75, 1.02)\n",
    "plt.savefig(Path('output/accuracy.png'))"
   ]
  },
  {
   "cell_type": "code",
   "execution_count": 29,
   "metadata": {},
   "outputs": [
    {
     "data": {
      "image/png": "[encoded data removed]",
      "text/plain": [
       "<Figure size 432x288 with 1 Axes>"
      ]
     },
     "metadata": {},
     "output_type": "display_data"
    }
   ],
   "source": [
    "plt.plot(train_loss, label='train_loss')\n",
    "plt.plot(val_loss, label='val_loss')\n",
    "plt.legend(loc='lower right')\n",
    "plt.ylim(-0.02, 1.2)\n",
    "plt.savefig(Path('output/loss.png'))"
   ]
  },
  {
   "cell_type": "code",
   "execution_count": 45,
   "metadata": {},
   "outputs": [
    {
     "data": {
      "text/html": [
       "<pre style=\"white-space:pre;overflow-x:auto;line-height:normal;font-family:Menlo,'DejaVu Sans Mono',consolas,'Courier New',monospace\"><span style=\"color: #7fbfbf; text-decoration-color: #7fbfbf\">[14:49:24] </span>Loss: <span style=\"color: #008080; text-decoration-color: #008080; font-weight: bold\">0.7806</span> Acc: <span style=\"color: #008080; text-decoration-color: #008080; font-weight: bold\">0.7806</span>                                              <a href=\"file:///home/ngardn10/projects/cuticulus/cuticulus/mlutils/torch.py\"><span style=\"color: #7f7f7f; text-decoration-color: #7f7f7f\">torch.py</span></a><span style=\"color: #7f7f7f; text-decoration-color: #7f7f7f\">:</span><a href=\"file:///home/ngardn10/projects/cuticulus/cuticulus/mlutils/torch.py#159\"><span style=\"color: #7f7f7f; text-decoration-color: #7f7f7f\">159</span></a>\n",
       "</pre>\n"
      ],
      "text/plain": [
       "\u001b[2;36m[14:49:24]\u001b[0m\u001b[2;36m \u001b[0mLoss: \u001b[1;36m0.7806\u001b[0m Acc: \u001b[1;36m0.7806\u001b[0m                                              \u001b]8;id=720945;file:///home/ngardn10/projects/cuticulus/cuticulus/mlutils/torch.py\u001b\\\u001b[2mtorch.py\u001b[0m\u001b]8;;\u001b\\\u001b[2m:\u001b[0m\u001b]8;id=610290;file:///home/ngardn10/projects/cuticulus/cuticulus/mlutils/torch.py#159\u001b\\\u001b[2m159\u001b[0m\u001b]8;;\u001b\\\n"
      ]
     },
     "metadata": {},
     "output_type": "display_data"
    }
   ],
   "source": [
    "model2 = deepcopy(model).to(device2)\n",
    "# calculate test image accuracy\n",
    "test_loader = torch.utils.data.DataLoader(\n",
    "    dataset=TorchDS(test_images, test_labels),\n",
    "    batch_size=16,\n",
    "    shuffle=False\n",
    ")\n",
    "test_acc, test_loss = test_model(model2, test_loader, criterion, device2)"
   ]
  },
  {
   "cell_type": "code",
   "execution_count": 46,
   "metadata": {},
   "outputs": [],
   "source": [
    "outpath = Path('output/models/{0}'.format(int(time.time())))\n",
    "outpath.mkdir(parents=True, exist_ok=True)\n",
    "\n",
    "torch.save(model.state_dict(), str(outpath / 'model.pth'))\n",
    "with open(str(outpath / 'res.json'), 'w') as fout:\n",
    "    fout.write(json.dumps({\n",
    "        'test_acc': test_acc.cpu().item(),\n",
    "        'test_loss': test_loss,\n",
    "    }))"
   ]
  }
 ],
 "metadata": {
  "interpreter": {
   "hash": "db4fa47e449f269b6e53f5916110b6e3a48885985b5ef8238ccf2bd8c2aa5784"
  },
  "kernelspec": {
   "display_name": "Python 3.9.10 ('cuticulus')",
   "language": "python",
   "name": "python3"
  },
  "language_info": {
   "codemirror_mode": {
    "name": "ipython",
    "version": 3
   },
   "file_extension": ".py",
   "mimetype": "text/x-python",
   "name": "python",
   "nbconvert_exporter": "python",
   "pygments_lexer": "ipython3",
   "version": "3.9.10"
  },
  "orig_nbformat": 4
 },
 "nbformat": 4,
 "nbformat_minor": 2
}
