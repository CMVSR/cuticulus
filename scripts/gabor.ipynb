{
 "cells": [
  {
   "cell_type": "code",
   "execution_count": 28,
   "metadata": {},
   "outputs": [],
   "source": [
    "import cv2\n",
    "import numpy as np\n",
    "from matplotlib import pyplot as plt\n",
    "from scipy import ndimage as nd\n",
    "from skimage.filters import gabor_kernel\n",
    "from skimage.util import img_as_float\n",
    "\n",
    "from cuticulus.datasets import RoughSmoothSub"
   ]
  },
  {
   "cell_type": "code",
   "execution_count": 29,
   "metadata": {},
   "outputs": [],
   "source": [
    "KERNEL_SIZE = (9, 9)\n",
    "THETAS = np.arange(0, np.pi, np.pi / 4).tolist()\n",
    "SIGMA = 1.0\n",
    "LAMBDA = 10.0\n",
    "GAMMA = 0.5\n",
    "PSI = 0.0"
   ]
  },
  {
   "cell_type": "code",
   "execution_count": 30,
   "metadata": {},
   "outputs": [],
   "source": [
    "def build_filters():\n",
    "\tfilters = []\n",
    "\tfor theta in THETAS:\n",
    "\t\tkern = cv2.getGaborKernel(\n",
    "\t\t\tksize=KERNEL_SIZE,\n",
    "\t\t\tsigma=SIGMA,\n",
    "\t\t\ttheta=theta,\n",
    "\t\t\tlambd=LAMBDA,\n",
    "\t\t\tgamma=GAMMA,\n",
    "\t\t\tpsi=PSI, \n",
    "\t\t\tktype=cv2.CV_32F,\n",
    "\t\t)\n",
    "\t\tkern /= 1.5 * kern.sum()\n",
    "\t\tfilters.append(kern)\n",
    "\treturn filters"
   ]
  },
  {
   "cell_type": "code",
   "execution_count": 31,
   "metadata": {},
   "outputs": [],
   "source": [
    "def convolve(img, filters):\n",
    "\taccum = np.zeros_like(img)\n",
    "\tfor kern in filters:\n",
    "\t\tfimg = cv2.filter2D(img, cv2.CV_8UC3, kern)\n",
    "\t\tnp.maximum(accum, fimg, accum)\n",
    "\treturn accum"
   ]
  },
  {
   "cell_type": "code",
   "execution_count": 32,
   "metadata": {},
   "outputs": [
    {
     "data": {
      "text/html": [
       "<pre style=\"white-space:pre;overflow-x:auto;line-height:normal;font-family:Menlo,'DejaVu Sans Mono',consolas,'Courier New',monospace\"><span style=\"color: #7fbfbf; text-decoration-color: #7fbfbf\">[14:09:31] </span>Loaded labels.                                                       <a href=\"file:///home/noah/projects/cuticulus/cuticulus/core/datasets/builder.py\"><span style=\"color: #7f7f7f; text-decoration-color: #7f7f7f\">builder.py</span></a><span style=\"color: #7f7f7f; text-decoration-color: #7f7f7f\">:</span><a href=\"file:///home/noah/projects/cuticulus/cuticulus/core/datasets/builder.py#89\"><span style=\"color: #7f7f7f; text-decoration-color: #7f7f7f\">89</span></a>\n",
       "</pre>\n"
      ],
      "text/plain": [
       "\u001b[2;36m[14:09:31]\u001b[0m\u001b[2;36m \u001b[0mLoaded labels.                                                       \u001b]8;id=842393;file:///home/noah/projects/cuticulus/cuticulus/core/datasets/builder.py\u001b\\\u001b[2mbuilder.py\u001b[0m\u001b]8;;\u001b\\\u001b[2m:\u001b[0m\u001b]8;id=823826;file:///home/noah/projects/cuticulus/cuticulus/core/datasets/builder.py#89\u001b\\\u001b[2m89\u001b[0m\u001b]8;;\u001b\\\n"
      ]
     },
     "metadata": {},
     "output_type": "display_data"
    },
    {
     "data": {
      "text/html": [
       "<pre style=\"white-space:pre;overflow-x:auto;line-height:normal;font-family:Menlo,'DejaVu Sans Mono',consolas,'Courier New',monospace\"><span style=\"color: #7fbfbf; text-decoration-color: #7fbfbf\">           </span>Loaded dataset.                                                     <a href=\"file:///home/noah/projects/cuticulus/cuticulus/core/datasets/builder.py\"><span style=\"color: #7f7f7f; text-decoration-color: #7f7f7f\">builder.py</span></a><span style=\"color: #7f7f7f; text-decoration-color: #7f7f7f\">:</span><a href=\"file:///home/noah/projects/cuticulus/cuticulus/core/datasets/builder.py#114\"><span style=\"color: #7f7f7f; text-decoration-color: #7f7f7f\">114</span></a>\n",
       "</pre>\n"
      ],
      "text/plain": [
       "\u001b[2;36m          \u001b[0m\u001b[2;36m \u001b[0mLoaded dataset.                                                     \u001b]8;id=980995;file:///home/noah/projects/cuticulus/cuticulus/core/datasets/builder.py\u001b\\\u001b[2mbuilder.py\u001b[0m\u001b]8;;\u001b\\\u001b[2m:\u001b[0m\u001b]8;id=170162;file:///home/noah/projects/cuticulus/cuticulus/core/datasets/builder.py#114\u001b\\\u001b[2m114\u001b[0m\u001b]8;;\u001b\\\n"
      ]
     },
     "metadata": {},
     "output_type": "display_data"
    },
    {
     "data": {
      "text/html": [
       "<pre style=\"white-space:pre;overflow-x:auto;line-height:normal;font-family:Menlo,'DejaVu Sans Mono',consolas,'Courier New',monospace\"><span style=\"color: #7fbfbf; text-decoration-color: #7fbfbf\">           </span>Unique images considered: <span style=\"color: #008080; text-decoration-color: #008080; font-weight: bold\">10126</span>                                     <a href=\"file:///home/noah/projects/cuticulus/cuticulus/core/datasets/builder.py\"><span style=\"color: #7f7f7f; text-decoration-color: #7f7f7f\">builder.py</span></a><span style=\"color: #7f7f7f; text-decoration-color: #7f7f7f\">:</span><a href=\"file:///home/noah/projects/cuticulus/cuticulus/core/datasets/builder.py#135\"><span style=\"color: #7f7f7f; text-decoration-color: #7f7f7f\">135</span></a>\n",
       "</pre>\n"
      ],
      "text/plain": [
       "\u001b[2;36m          \u001b[0m\u001b[2;36m \u001b[0mUnique images considered: \u001b[1;36m10126\u001b[0m                                     \u001b]8;id=152227;file:///home/noah/projects/cuticulus/cuticulus/core/datasets/builder.py\u001b\\\u001b[2mbuilder.py\u001b[0m\u001b]8;;\u001b\\\u001b[2m:\u001b[0m\u001b]8;id=716036;file:///home/noah/projects/cuticulus/cuticulus/core/datasets/builder.py#135\u001b\\\u001b[2m135\u001b[0m\u001b]8;;\u001b\\\n"
      ]
     },
     "metadata": {},
     "output_type": "display_data"
    },
    {
     "data": {
      "text/html": [
       "<pre style=\"white-space:pre;overflow-x:auto;line-height:normal;font-family:Menlo,'DejaVu Sans Mono',consolas,'Courier New',monospace\"><span style=\"color: #7fbfbf; text-decoration-color: #7fbfbf\">           </span>Samples per class:                                                  <a href=\"file:///home/noah/projects/cuticulus/cuticulus/core/datasets/builder.py\"><span style=\"color: #7f7f7f; text-decoration-color: #7f7f7f\">builder.py</span></a><span style=\"color: #7f7f7f; text-decoration-color: #7f7f7f\">:</span><a href=\"file:///home/noah/projects/cuticulus/cuticulus/core/datasets/builder.py#128\"><span style=\"color: #7f7f7f; text-decoration-color: #7f7f7f\">128</span></a>\n",
       "</pre>\n"
      ],
      "text/plain": [
       "\u001b[2;36m          \u001b[0m\u001b[2;36m \u001b[0mSamples per class:                                                  \u001b]8;id=128765;file:///home/noah/projects/cuticulus/cuticulus/core/datasets/builder.py\u001b\\\u001b[2mbuilder.py\u001b[0m\u001b]8;;\u001b\\\u001b[2m:\u001b[0m\u001b]8;id=215452;file:///home/noah/projects/cuticulus/cuticulus/core/datasets/builder.py#128\u001b\\\u001b[2m128\u001b[0m\u001b]8;;\u001b\\\n"
      ]
     },
     "metadata": {},
     "output_type": "display_data"
    },
    {
     "data": {
      "text/html": [
       "<pre style=\"white-space:pre;overflow-x:auto;line-height:normal;font-family:Menlo,'DejaVu Sans Mono',consolas,'Courier New',monospace\"><span style=\"color: #7fbfbf; text-decoration-color: #7fbfbf\">           </span><span style=\"color: #008080; text-decoration-color: #008080; font-weight: bold\">0</span>: <span style=\"color: #008080; text-decoration-color: #008080; font-weight: bold\">4845</span>                                                             <a href=\"file:///home/noah/projects/cuticulus/cuticulus/core/datasets/builder.py\"><span style=\"color: #7f7f7f; text-decoration-color: #7f7f7f\">builder.py</span></a><span style=\"color: #7f7f7f; text-decoration-color: #7f7f7f\">:</span><a href=\"file:///home/noah/projects/cuticulus/cuticulus/core/datasets/builder.py#131\"><span style=\"color: #7f7f7f; text-decoration-color: #7f7f7f\">131</span></a>\n",
       "</pre>\n"
      ],
      "text/plain": [
       "\u001b[2;36m          \u001b[0m\u001b[2;36m \u001b[0m\u001b[1;36m0\u001b[0m: \u001b[1;36m4845\u001b[0m                                                             \u001b]8;id=993032;file:///home/noah/projects/cuticulus/cuticulus/core/datasets/builder.py\u001b\\\u001b[2mbuilder.py\u001b[0m\u001b]8;;\u001b\\\u001b[2m:\u001b[0m\u001b]8;id=338163;file:///home/noah/projects/cuticulus/cuticulus/core/datasets/builder.py#131\u001b\\\u001b[2m131\u001b[0m\u001b]8;;\u001b\\\n"
      ]
     },
     "metadata": {},
     "output_type": "display_data"
    },
    {
     "data": {
      "text/html": [
       "<pre style=\"white-space:pre;overflow-x:auto;line-height:normal;font-family:Menlo,'DejaVu Sans Mono',consolas,'Courier New',monospace\"><span style=\"color: #7fbfbf; text-decoration-color: #7fbfbf\">           </span><span style=\"color: #008080; text-decoration-color: #008080; font-weight: bold\">1</span>: <span style=\"color: #008080; text-decoration-color: #008080; font-weight: bold\">5281</span>                                                             <a href=\"file:///home/noah/projects/cuticulus/cuticulus/core/datasets/builder.py\"><span style=\"color: #7f7f7f; text-decoration-color: #7f7f7f\">builder.py</span></a><span style=\"color: #7f7f7f; text-decoration-color: #7f7f7f\">:</span><a href=\"file:///home/noah/projects/cuticulus/cuticulus/core/datasets/builder.py#131\"><span style=\"color: #7f7f7f; text-decoration-color: #7f7f7f\">131</span></a>\n",
       "</pre>\n"
      ],
      "text/plain": [
       "\u001b[2;36m          \u001b[0m\u001b[2;36m \u001b[0m\u001b[1;36m1\u001b[0m: \u001b[1;36m5281\u001b[0m                                                             \u001b]8;id=88262;file:///home/noah/projects/cuticulus/cuticulus/core/datasets/builder.py\u001b\\\u001b[2mbuilder.py\u001b[0m\u001b]8;;\u001b\\\u001b[2m:\u001b[0m\u001b]8;id=475107;file:///home/noah/projects/cuticulus/cuticulus/core/datasets/builder.py#131\u001b\\\u001b[2m131\u001b[0m\u001b]8;;\u001b\\\n"
      ]
     },
     "metadata": {},
     "output_type": "display_data"
    }
   ],
   "source": [
    "patch_size = (16, 16)\n",
    "ds = RoughSmoothSub(\n",
    "    size=patch_size,\n",
    ")"
   ]
  },
  {
   "cell_type": "code",
   "execution_count": 33,
   "metadata": {},
   "outputs": [],
   "source": [
    "def process(img, filters):\n",
    "    res = []\n",
    "    for filter in filters:\n",
    "        res.append(convolve(img, [filter]))\n",
    "    return np.array(res)"
   ]
  },
  {
   "cell_type": "code",
   "execution_count": 34,
   "metadata": {},
   "outputs": [],
   "source": [
    "def visualize(gimg):\n",
    "    assert gimg.shape[0] == len(THETAS)\n",
    "    for i, theta in enumerate(THETAS):\n",
    "        plt.subplot(1, len(THETAS), i+1)\n",
    "        plt.imshow(gimg[i], cmap='gray')\n",
    "        angle = np.rad2deg(theta)\n",
    "        plt.title('{:.2f}'.format(angle))\n",
    "        plt.axis('off')\n",
    "    plt.show()"
   ]
  },
  {
   "cell_type": "code",
   "execution_count": 35,
   "metadata": {},
   "outputs": [
    {
     "data": {
      "text/plain": [
       "<matplotlib.image.AxesImage at 0x7fdd4e947f10>"
      ]
     },
     "execution_count": 35,
     "metadata": {},
     "output_type": "execute_result"
    },
    {
     "data": {
      "image/png": "[encoded data removed]",
      "text/plain": [
       "<Figure size 432x288 with 1 Axes>"
      ]
     },
     "metadata": {
      "needs_background": "light"
     },
     "output_type": "display_data"
    }
   ],
   "source": [
    "# visualize a single patch\n",
    "img = ds.images[51]\n",
    "img = cv2.cvtColor(img, cv2.COLOR_BGR2GRAY)\n",
    "plt.imshow(img, cmap='gray')"
   ]
  },
  {
   "cell_type": "code",
   "execution_count": 36,
   "metadata": {},
   "outputs": [
    {
     "data": {
      "image/png": "[encoded data removed]",
      "text/plain": [
       "<Figure size 432x288 with 4 Axes>"
      ]
     },
     "metadata": {
      "needs_background": "light"
     },
     "output_type": "display_data"
    },
    {
     "name": "stdout",
     "output_type": "stream",
     "text": [
      "Kernel size: (9, 9)\n",
      "SIGMA: 1.0\n",
      "LAMBDA: 10.0\n",
      "GAMMA: 0.5\n",
      "PSI: 0.0\n"
     ]
    }
   ],
   "source": [
    "# visualize the gabor extracted features\n",
    "gabor_img = process(img, build_filters())\n",
    "visualize(gabor_img)\n",
    "print('Kernel size: {}'.format(KERNEL_SIZE))\n",
    "print('SIGMA: {}'.format(SIGMA))\n",
    "print('LAMBDA: {}'.format(LAMBDA))\n",
    "print('GAMMA: {}'.format(GAMMA))\n",
    "print('PSI: {}'.format(PSI))"
   ]
  },
  {
   "cell_type": "code",
   "execution_count": 37,
   "metadata": {},
   "outputs": [],
   "source": [
    "# apply filters to entire dataset\n",
    "filters = np.asarray(build_filters())\n",
    "gabor_features = []\n",
    "gabor_labels = []\n",
    "for idx, img in enumerate(ds.images):\n",
    "    img = cv2.cvtColor(img, cv2.COLOR_BGR2GRAY)\n",
    "    gabor_features.append(process(img, build_filters()))\n",
    "    gabor_labels.append(ds.labels[idx])\n",
    "gabor_features = np.array(gabor_features)\n",
    "gabor_labels = np.array(gabor_labels)"
   ]
  },
  {
   "cell_type": "code",
   "execution_count": 38,
   "metadata": {},
   "outputs": [
    {
     "data": {
      "text/plain": [
       "((10126, 4, 16, 16), (10126,))"
      ]
     },
     "execution_count": 38,
     "metadata": {},
     "output_type": "execute_result"
    }
   ],
   "source": [
    "gabor_features.shape, gabor_labels.shape"
   ]
  }
 ],
 "metadata": {
  "interpreter": {
   "hash": "83a3f1314056d8a3d2a934d787f10fa94193a1b2a1fbed934908528b0af37efb"
  },
  "kernelspec": {
   "display_name": "Python 3.9.12 ('cuticulus')",
   "language": "python",
   "name": "python3"
  },
  "language_info": {
   "codemirror_mode": {
    "name": "ipython",
    "version": 3
   },
   "file_extension": ".py",
   "mimetype": "text/x-python",
   "name": "python",
   "nbconvert_exporter": "python",
   "pygments_lexer": "ipython3",
   "version": "3.9.12"
  },
  "orig_nbformat": 4
 },
 "nbformat": 4,
 "nbformat_minor": 2
}
